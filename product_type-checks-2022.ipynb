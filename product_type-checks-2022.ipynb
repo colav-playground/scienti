{
 "cells": [
  {
   "cell_type": "markdown",
   "id": "eb5d1a03-7787-469d-94db-a4dd7d1775ea",
   "metadata": {},
   "source": [
    "## Análisis de tipos de producto CvLAC"
   ]
  },
  {
   "cell_type": "code",
   "execution_count": 1,
   "id": "23a79fb2-ed19-4f79-9d77-ce469ca729a2",
   "metadata": {},
   "outputs": [],
   "source": [
    "import pandas as pd\n",
    "import requests\n",
    "import time\n",
    "import json\n",
    "dtype={\n",
    "'COD_RH':str,\n",
    "'NRO_ID_GRUPO':str,\n",
    "'COD_RH_MUNICIPIO':str,\n",
    "'COD_INST':str,\n",
    "'COD_INST_AVALA':str,\n",
    "'COD_INST_MACRO':str,\n",
    "'COD_INSTITUCION':str,         \n",
    "'COD_INST_OTRO':str,\n",
    "'ID_DEPARTAMENTO':str,\n",
    "'COD_DEPA_DANE': str,\n",
    "'COD_MUNI_DANE':str,\n",
    "'COD_RH_OTRO':str,\n",
    "'COD_RH_COAUTOR':str,\n",
    "'COD_RH_CREA':str\n",
    " }"
   ]
  },
  {
   "cell_type": "markdown",
   "id": "02e6c6d2-1470-42ad-a1ad-19ff37a8f02e",
   "metadata": {},
   "source": [
    "# Check some products"
   ]
  },
  {
   "cell_type": "code",
   "execution_count": 2,
   "id": "e564e46b-5b9d-49b1-83d8-0b78011c1158",
   "metadata": {},
   "outputs": [],
   "source": [
    "pf=pd.read_json('product_ids_2022.json',dtype=dtype)"
   ]
  },
  {
   "cell_type": "code",
   "execution_count": 3,
   "id": "77cbb8b2-5719-4832-b055-5e29e00bd42f",
   "metadata": {},
   "outputs": [
    {
     "data": {
      "text/plain": [
       "(390012, 2)"
      ]
     },
     "execution_count": 3,
     "metadata": {},
     "output_type": "execute_result"
    }
   ],
   "source": [
    "pf.shape"
   ]
  },
  {
   "cell_type": "code",
   "execution_count": 4,
   "id": "9dbb39e8-e31a-4486-8b87-cf80ece553d9",
   "metadata": {},
   "outputs": [
    {
     "data": {
      "text/plain": [
       "(388375, 2)"
      ]
     },
     "execution_count": 4,
     "metadata": {},
     "output_type": "execute_result"
    }
   ],
   "source": [
    "pf=pf.drop_duplicates().reset_index(drop=True)\n",
    "pf.shape"
   ]
  },
  {
   "cell_type": "markdown",
   "id": "ade21a4d-76e4-48fc-80a2-2f51bc48c43a",
   "metadata": {},
   "source": [
    "## Articles"
   ]
  },
  {
   "cell_type": "code",
   "execution_count": 5,
   "id": "e0264dc9-863b-4a69-9d8d-0bc5fa669f3e",
   "metadata": {},
   "outputs": [
    {
     "name": "stdin",
     "output_type": "stream",
     "text": [
      "APIKEY:  ········\n"
     ]
    }
   ],
   "source": [
    "import getpass\n",
    "RUN=True\n",
    "if RUN:\n",
    "    APIKEY=getpass.getpass('APIKEY: ')"
   ]
  },
  {
   "cell_type": "code",
   "execution_count": 7,
   "id": "fabd44e1-c8d6-46a1-992e-76ccb9a7784e",
   "metadata": {},
   "outputs": [
    {
     "data": {
      "text/plain": [
       "'111: Publicado en revista especializada'"
      ]
     },
     "execution_count": 7,
     "metadata": {},
     "output_type": "execute_result"
    }
   ],
   "source": [
    "ds=pf.loc[7]\n",
    "TEST=True#False\n",
    "if TEST:\n",
    "    url=f'http://clustercien.udea.edu.co:8080/scienti/product?apikey={APIKEY}&model_year=2022&COD_RH={ds.COD_RH}&COD_PRODUCTO={ds.COD_PRODUCTO}'\n",
    "    r=requests.get(url)\n",
    "    d=r.json()\n",
    "    try:\n",
    "        d['NIVEL_MAX']=d.get('product_type')[0].get('COD_TIPO_PRODUCTO')+': '+d.get('product_type')[0].get('TXT_NME_TIPO_PRODUCTO')\n",
    "    except:\n",
    "        d['NIVEL_MAX']='-1: UNKNOWN'\n",
    "d['NIVEL_MAX']        "
   ]
  },
  {
   "cell_type": "code",
   "execution_count": null,
   "id": "3501b43f-2410-4a77-a6ed-e55ef2ee68c8",
   "metadata": {},
   "outputs": [
    {
     "name": "stdout",
     "output_type": "stream",
     "text": [
      "6\r"
     ]
    }
   ],
   "source": [
    "#%%writefile comment_this_line_for_run.py\n",
    "store=1000\n",
    "l=[]\n",
    "for i,ds in pf.iterrows():\n",
    "    print(i,end='\\r')\n",
    "    try:\n",
    "        r=requests.get(f'http://clustercien.udea.edu.co:8080/scienti/product?apikey={APIKEY}&model_year=2021&COD_RH={ds.COD_RH}&COD_PRODUCTO={ds.COD_PRODUCTO}')\n",
    "    except:\n",
    "        time.sleep(0.1)\n",
    "        continue\n",
    "\n",
    "    d=r.json()\n",
    "    try:\n",
    "        d['NIVEL_MAX']=d.get('product_type')[0].get('COD_TIPO_PRODUCTO')+': '+d.get('product_type')[0].get('TXT_NME_TIPO_PRODUCTO')\n",
    "    except:\n",
    "        d['NIVEL_MAX']='-1: UNKNOWN'\n",
    "        \n",
    "    if d['NIVEL_MAX']!='111: Publicado en revista especializada':\n",
    "        continue\n",
    "    #Articles with DOI, group or SGL_CATEGORY\n",
    "    if d.get('TXT_DOI') or d.get('group') or d.get('SGL_CATEGORY'):\n",
    "        l.append(d)\n",
    "        if i%store==0:\n",
    "            print(i,end='\\r')\n",
    "            f=open('product_type_111_2022.json','w')\n",
    "            json.dump(l,f)\n",
    "            f.close()            \n",
    "    time.sleep(0.01)\n",
    "f=open('product_type_111_2022.json','w')\n",
    "json.dump(l,f)\n",
    "f.close()    "
   ]
  },
  {
   "cell_type": "code",
   "execution_count": 28,
   "id": "8fa54ca6-b88a-4108-9c24-f1231c380952",
   "metadata": {},
   "outputs": [
    {
     "data": {
      "text/plain": [
       "1"
      ]
     },
     "execution_count": 28,
     "metadata": {},
     "output_type": "execute_result"
    }
   ],
   "source": [
    "len(l)"
   ]
  },
  {
   "cell_type": "markdown",
   "id": "fdce07d1-c5c9-46c3-be24-53c3382edf62",
   "metadata": {},
   "source": [
    "### Load articles"
   ]
  },
  {
   "cell_type": "code",
   "execution_count": 6,
   "id": "ba62a6b8-21d3-4f44-8698-a9e7637088f8",
   "metadata": {},
   "outputs": [],
   "source": [
    "import json"
   ]
  },
  {
   "cell_type": "code",
   "execution_count": 24,
   "id": "4f865d76-097c-43af-a9a1-087ebcbe4233",
   "metadata": {},
   "outputs": [],
   "source": [
    "f=open('product_type_111_2021.json','r')\n",
    "l=json.load(f)\n",
    "f.close()"
   ]
  },
  {
   "cell_type": "markdown",
   "id": "8559304d-c28b-42af-8799-de0559719e2c",
   "metadata": {},
   "source": [
    "Only articles with declared group"
   ]
  },
  {
   "cell_type": "code",
   "execution_count": 29,
   "id": "3a279de6-7550-4bc3-98e6-a310b85604a8",
   "metadata": {},
   "outputs": [],
   "source": [
    "l=[x for x in l if x.get('group')]"
   ]
  },
  {
   "cell_type": "code",
   "execution_count": 28,
   "id": "1439d739-cb6b-47cb-a9dd-d3ee03486857",
   "metadata": {},
   "outputs": [],
   "source": [
    "f=open('product_type_111_group_2021.json','w')\n",
    "json.dump(l,f)\n",
    "f.close()"
   ]
  },
  {
   "cell_type": "code",
   "execution_count": 7,
   "id": "30964bd2-c0cb-432f-8ff2-2e8b48a3f337",
   "metadata": {},
   "outputs": [],
   "source": [
    "f=open('product_type_111_group_2021.json','r')\n",
    "l=json.load(f)\n",
    "f.close()"
   ]
  },
  {
   "cell_type": "code",
   "execution_count": 8,
   "id": "7e0687b7-d194-4c59-aa3d-db85f6700e15",
   "metadata": {},
   "outputs": [],
   "source": [
    "l=pd.DataFrame(l)"
   ]
  },
  {
   "cell_type": "code",
   "execution_count": 9,
   "id": "26049436-6786-46bc-80d0-64c81f8b5bb8",
   "metadata": {},
   "outputs": [],
   "source": [
    "from IPython.display import JSON"
   ]
  },
  {
   "cell_type": "code",
   "execution_count": 10,
   "id": "e940e3f9-1c49-4bf0-b945-18d4c4174a66",
   "metadata": {},
   "outputs": [],
   "source": [
    "#JSON(l.iloc[3].to_dict())"
   ]
  },
  {
   "cell_type": "markdown",
   "id": "d9a9fa74-b1d5-459e-8ed0-f472aa0f927b",
   "metadata": {},
   "source": [
    "Prepare requested fields:\n",
    "\n",
    "Título, año, volumen, página inicial, página final, autor, ISSN, nombre revista, doi, url."
   ]
  },
  {
   "cell_type": "code",
   "execution_count": 11,
   "id": "056907d8-f6e7-4557-8eeb-a6d80dd2543d",
   "metadata": {},
   "outputs": [],
   "source": [
    "for k in ['TXT_VOLUMEN_REVISTA','TXT_PAGINA_INICIAL','TXT_PAGINA_FINAL']:\n",
    "    l[k]=l.get('details').str[0].str.get('article').str[0].str.get(k)"
   ]
  },
  {
   "cell_type": "code",
   "execution_count": 12,
   "id": "f741f26d-92dd-41d2-9385-22a8df7e2ace",
   "metadata": {},
   "outputs": [],
   "source": [
    "for k in ['TXT_ISSN_SEP','TXT_NME_REVISTA']:\n",
    "    l[k]=l.get('details').str[0].str.get('article').str[0\n",
    "                   ].str.get('journal').str[0].str.get(k)"
   ]
  },
  {
   "cell_type": "code",
   "execution_count": 13,
   "id": "b7cda506-3d3b-477c-80d4-fa2f85cd37ed",
   "metadata": {},
   "outputs": [
    {
     "data": {
      "text/plain": [
       "61"
      ]
     },
     "execution_count": 13,
     "metadata": {},
     "output_type": "execute_result"
    }
   ],
   "source": [
    "l.get('author_others').apply(lambda l:\n",
    "                            [d.get('TXT_TOTAL_NAMES') for d in l if d.get('TXT_TOTAL_NAMES')]\n",
    "                                if isinstance(l,list) else []\n",
    "                        ).apply(len).max()"
   ]
  },
  {
   "cell_type": "code",
   "execution_count": 14,
   "id": "9677c98a-4da4-4bab-8800-8754687c443c",
   "metadata": {},
   "outputs": [],
   "source": [
    "l['autores']=l.get('author_others').apply(lambda l:\n",
    "                            [d.get('TXT_TOTAL_NAMES') for d in l if d.get('TXT_TOTAL_NAMES')]\n",
    "                                if isinstance(l,list) else []\n",
    "                        ).apply(lambda l: '; '.join(l))"
   ]
  },
  {
   "cell_type": "code",
   "execution_count": 15,
   "id": "0d7bb385-9586-4fe9-a310-2d6f2e7fbc77",
   "metadata": {},
   "outputs": [],
   "source": [
    "for k in ['NRO_ID_GRUPO','COD_ID_GRUPO','NME_GRUPO']:\n",
    "    l[k]=l.get('group').str[0].str.get(k)"
   ]
  },
  {
   "cell_type": "code",
   "execution_count": 16,
   "id": "041d222f-7151-4d16-8098-2faf3b6edbc0",
   "metadata": {},
   "outputs": [],
   "source": [
    "c=set(l.columns).difference([\n",
    "'COD_RH',\n",
    "'COD_PRODUCTO',\n",
    "'TXT_DOI',\n",
    "'TXT_NME_PROD', \n",
    "'TXT_NME_REVISTA', \n",
    "'TXT_VOLUMEN_REVISTA',   \n",
    "'TXT_PAGINA_INICIAL', \n",
    "'TXT_PAGINA_FINAL',\n",
    "'NRO_ANO_PRESENTA',\n",
    "'TXT_DOI', \n",
    "'TXT_ISSN_SEP', \n",
    "'TXT_WEB_PRODUCTO',\n",
    "'NRO_ID_GRUPO',\n",
    "'COD_ID_GRUPO', \n",
    "'NME_GRUPO',\n",
    "'CAT_MED',\n",
    "'SGL_CATEGORIA',\n",
    "'autores'\n",
    "])"
   ]
  },
  {
   "cell_type": "code",
   "execution_count": 17,
   "id": "8e6b314c-450b-4434-a75b-74006ce34e8e",
   "metadata": {},
   "outputs": [],
   "source": [
    "l=l.drop(c,axis='columns')"
   ]
  },
  {
   "cell_type": "code",
   "execution_count": 18,
   "id": "a0310e39-5a7b-40bf-aa61-03a5ce488125",
   "metadata": {},
   "outputs": [
    {
     "data": {
      "text/html": [
       "<div>\n",
       "<style scoped>\n",
       "    .dataframe tbody tr th:only-of-type {\n",
       "        vertical-align: middle;\n",
       "    }\n",
       "\n",
       "    .dataframe tbody tr th {\n",
       "        vertical-align: top;\n",
       "    }\n",
       "\n",
       "    .dataframe thead th {\n",
       "        text-align: right;\n",
       "    }\n",
       "</style>\n",
       "<table border=\"1\" class=\"dataframe\">\n",
       "  <thead>\n",
       "    <tr style=\"text-align: right;\">\n",
       "      <th></th>\n",
       "      <th>COD_RH</th>\n",
       "      <th>COD_PRODUCTO</th>\n",
       "      <th>TXT_NME_PROD</th>\n",
       "      <th>NRO_ANO_PRESENTA</th>\n",
       "      <th>CAT_MED</th>\n",
       "      <th>SGL_CATEGORIA</th>\n",
       "      <th>NRO_ID_GRUPO</th>\n",
       "      <th>TXT_WEB_PRODUCTO</th>\n",
       "      <th>TXT_DOI</th>\n",
       "      <th>TXT_VOLUMEN_REVISTA</th>\n",
       "      <th>TXT_PAGINA_INICIAL</th>\n",
       "      <th>TXT_PAGINA_FINAL</th>\n",
       "      <th>TXT_ISSN_SEP</th>\n",
       "      <th>TXT_NME_REVISTA</th>\n",
       "      <th>autores</th>\n",
       "      <th>COD_ID_GRUPO</th>\n",
       "      <th>NME_GRUPO</th>\n",
       "    </tr>\n",
       "  </thead>\n",
       "  <tbody>\n",
       "    <tr>\n",
       "      <th>0</th>\n",
       "      <td>0000000132</td>\n",
       "      <td>42</td>\n",
       "      <td>Proteomic and biological characterization of t...</td>\n",
       "      <td>2011</td>\n",
       "      <td>ART-ART_A1</td>\n",
       "      <td>ART-ART_A1</td>\n",
       "      <td>00000000008117</td>\n",
       "      <td>NaN</td>\n",
       "      <td>NaN</td>\n",
       "      <td>75</td>\n",
       "      <td>655</td>\n",
       "      <td>667</td>\n",
       "      <td>1874-3919</td>\n",
       "      <td>Journal of Proteomics</td>\n",
       "      <td>Jessica Paola Rey Suarez; Vitelbina Nuñez Rang...</td>\n",
       "      <td>COL0014476</td>\n",
       "      <td>Toxinología, Alternativas Terapéuticas y Alime...</td>\n",
       "    </tr>\n",
       "    <tr>\n",
       "      <th>1</th>\n",
       "      <td>0000000132</td>\n",
       "      <td>43</td>\n",
       "      <td>Snake venomics of the pit vipers Porthidium na...</td>\n",
       "      <td>2012</td>\n",
       "      <td>ART-ART_A1</td>\n",
       "      <td>ART-ART_A1</td>\n",
       "      <td>00000000008117</td>\n",
       "      <td>NaN</td>\n",
       "      <td>NaN</td>\n",
       "      <td>75</td>\n",
       "      <td>1675</td>\n",
       "      <td>1689</td>\n",
       "      <td>1874-3919</td>\n",
       "      <td>Journal of Proteomics</td>\n",
       "      <td>Jessica Paola Rey Suarez; Tsai  WC; Juan Jose ...</td>\n",
       "      <td>COL0014476</td>\n",
       "      <td>Toxinología, Alternativas Terapéuticas y Alime...</td>\n",
       "    </tr>\n",
       "  </tbody>\n",
       "</table>\n",
       "</div>"
      ],
      "text/plain": [
       "       COD_RH COD_PRODUCTO                                       TXT_NME_PROD  \\\n",
       "0  0000000132           42  Proteomic and biological characterization of t...   \n",
       "1  0000000132           43  Snake venomics of the pit vipers Porthidium na...   \n",
       "\n",
       "   NRO_ANO_PRESENTA     CAT_MED SGL_CATEGORIA    NRO_ID_GRUPO  \\\n",
       "0              2011  ART-ART_A1    ART-ART_A1  00000000008117   \n",
       "1              2012  ART-ART_A1    ART-ART_A1  00000000008117   \n",
       "\n",
       "  TXT_WEB_PRODUCTO TXT_DOI TXT_VOLUMEN_REVISTA TXT_PAGINA_INICIAL  \\\n",
       "0              NaN     NaN                  75                655   \n",
       "1              NaN     NaN                  75               1675   \n",
       "\n",
       "  TXT_PAGINA_FINAL TXT_ISSN_SEP        TXT_NME_REVISTA  \\\n",
       "0              667    1874-3919  Journal of Proteomics   \n",
       "1             1689    1874-3919  Journal of Proteomics   \n",
       "\n",
       "                                             autores COD_ID_GRUPO  \\\n",
       "0  Jessica Paola Rey Suarez; Vitelbina Nuñez Rang...   COL0014476   \n",
       "1  Jessica Paola Rey Suarez; Tsai  WC; Juan Jose ...   COL0014476   \n",
       "\n",
       "                                           NME_GRUPO  \n",
       "0  Toxinología, Alternativas Terapéuticas y Alime...  \n",
       "1  Toxinología, Alternativas Terapéuticas y Alime...  "
      ]
     },
     "execution_count": 18,
     "metadata": {},
     "output_type": "execute_result"
    }
   ],
   "source": [
    "l[:2]"
   ]
  },
  {
   "cell_type": "code",
   "execution_count": 19,
   "id": "8bf49659-d80b-4460-8cfd-2c4aa118e550",
   "metadata": {},
   "outputs": [
    {
     "data": {
      "text/plain": [
       "(31981, 17)"
      ]
     },
     "execution_count": 19,
     "metadata": {},
     "output_type": "execute_result"
    }
   ],
   "source": [
    "l.shape"
   ]
  },
  {
   "cell_type": "code",
   "execution_count": 20,
   "id": "cf27cd21-2345-4c68-a4a4-486a3cb17c48",
   "metadata": {},
   "outputs": [
    {
     "data": {
      "text/plain": [
       "(28586, 17)"
      ]
     },
     "execution_count": 20,
     "metadata": {},
     "output_type": "execute_result"
    }
   ],
   "source": [
    "l.drop_duplicates(subset=['TXT_NME_PROD'] ).shape"
   ]
  },
  {
   "cell_type": "markdown",
   "id": "9c25f4c0-b2ef-4798-83d4-de6e0ad82ea6",
   "metadata": {},
   "source": [
    "### Normalize DOIS"
   ]
  },
  {
   "cell_type": "code",
   "execution_count": 21,
   "id": "1d763d84-bfbb-4204-8256-93ef92a8929c",
   "metadata": {},
   "outputs": [],
   "source": [
    "import re\n",
    "def normalize_dois(s):\n",
    "    ss=s #store NaN\n",
    "    if isinstance(s,str):\n",
    "        ss=s.strip().lower()\n",
    "        ss=re.sub('\\.$','',ss) #proper doi end\n",
    "        ss=re.split('https*:\\/\\/.*doi\\.org\\/',ss)[-1].strip() #also works with oadoi!\n",
    "        #Quality checks\n",
    "        if (re.search('https*:\\/\\/',ss) #exclude Improper URL\n",
    "            or ss.find('/')==-1 # Must contains at least one '\\/', exclude: '-', '--','00','n.a.', etc.\n",
    "            or re.search('^.\\/.$',ss) #exclude 'N/A', 'n/a' etc\n",
    "            ): \n",
    "            ss=None\n",
    "        else:\n",
    "            ss=ss.split(':')[-1].strip() #Proper doi split\n",
    "            ss=re.split('^.*doi\\.org\\/',ss)[-1].strip() #also works with oadoi!\n",
    "    return ss\n",
    "\n",
    "assert normalize_dois('10.18273/RevMed')=='10.18273/revmed'\n",
    "assert normalize_dois('doi:10.18273/revmed')=='10.18273/revmed'\n",
    "assert normalize_dois('doi: 10.18273/RevMed')=='10.18273/revmed'\n",
    "assert normalize_dois('10.3390/molecules23102662.')=='10.3390/molecules23102662'\n",
    "assert normalize_dois('https://doi.org/10.1155/2017/1702506')=='10.1155/2017/1702506'\n",
    "assert normalize_dois('http://doi.org/10.1155/2017/1702506')=='10.1155/2017/1702506'\n",
    "assert normalize_dois('http://dx.doi.org/10.1155/2017/1702506')=='10.1155/2017/1702506'\n",
    "assert normalize_dois('http://oadoi.org/10.1155/2017/1702506')=='10.1155/2017/1702506'\n",
    "assert normalize_dois('dx.doi.org/10.1155/2017/1702506')=='10.1155/2017/1702506'\n",
    "assert normalize_dois('http://www.udea.edu.co/10.1155/2017/1702506') is None\n",
    "assert normalize_dois('N/A') is None\n",
    "assert normalize_dois('-') is None\n",
    "assert normalize_dois('') is None\n",
    "assert isinstance(normalize_dois(float('NaN')),float) #return NaN\n",
    "assert normalize_dois(['10.18273/revmed','10.3823/1406'])==['10.18273/revmed','10.3823/1406'] #ignore not str objects"
   ]
  },
  {
   "cell_type": "code",
   "execution_count": 22,
   "id": "c1bcbab7-2c52-449b-98b8-d1414e45928a",
   "metadata": {},
   "outputs": [],
   "source": [
    "l['TXT_DOI']=l['TXT_DOI'].apply(normalize_dois)"
   ]
  },
  {
   "cell_type": "code",
   "execution_count": 23,
   "id": "d2895739-fe48-4426-8d7b-ce7871730191",
   "metadata": {},
   "outputs": [],
   "source": [
    "l.to_excel('product_type_2021_111_Publicado_en_revista_especializada_grupos.xlsx',index=False,engine='xlsxwriter')"
   ]
  },
  {
   "cell_type": "code",
   "execution_count": null,
   "id": "d951d968-0984-40fc-ad2d-761b6073e06e",
   "metadata": {},
   "outputs": [],
   "source": []
  }
 ],
 "metadata": {
  "kernelspec": {
   "display_name": "Python 3 (ipykernel)",
   "language": "python",
   "name": "python3"
  },
  "language_info": {
   "codemirror_mode": {
    "name": "ipython",
    "version": 3
   },
   "file_extension": ".py",
   "mimetype": "text/x-python",
   "name": "python",
   "nbconvert_exporter": "python",
   "pygments_lexer": "ipython3",
   "version": "3.9.2"
  }
 },
 "nbformat": 4,
 "nbformat_minor": 5
}
