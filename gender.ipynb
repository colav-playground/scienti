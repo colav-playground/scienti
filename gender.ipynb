{
 "cells": [
  {
   "cell_type": "markdown",
   "id": "61923d08-7c06-4143-8b28-796727204f2f",
   "metadata": {},
   "source": [
    "https://www.ncbi.nlm.nih.gov/pmc/articles/PMC7924484/\n",
    "\n",
    "https://codingfleet.com/transformation-details/determining-gender-by-name-with-python/"
   ]
  },
  {
   "cell_type": "code",
   "execution_count": 1,
   "id": "79da7b17-fe94-4fc5-b019-03557f82ee20",
   "metadata": {},
   "outputs": [],
   "source": [
    "import pandas as pd"
   ]
  },
  {
   "cell_type": "code",
   "execution_count": null,
   "id": "e4372cca-5503-4bd3-97cb-e64915dce05b",
   "metadata": {},
   "outputs": [],
   "source": []
  },
  {
   "cell_type": "code",
   "execution_count": 2,
   "id": "38b1daa0-4ba9-48ba-8661-53da9530dd3a",
   "metadata": {},
   "outputs": [],
   "source": [
    "import wosplus as wp"
   ]
  },
  {
   "cell_type": "code",
   "execution_count": 3,
   "id": "875ee075-b352-40cc-b375-441a704738cc",
   "metadata": {},
   "outputs": [],
   "source": [
    "wos=wp.wosplus('drive.cfg') "
   ]
  },
  {
   "cell_type": "code",
   "execution_count": 4,
   "id": "0c233893-54a6-44f9-beb4-3d79879a2b39",
   "metadata": {},
   "outputs": [],
   "source": [
    "df=wos.read_drive_excel('produccionUdeA.xlsx',dtype={'COD_RH':str})"
   ]
  },
  {
   "cell_type": "code",
   "execution_count": 5,
   "id": "ca2b6a5a-54d6-4155-b0f9-2313a409654f",
   "metadata": {},
   "outputs": [],
   "source": [
    "pd.set_option('display.max_columns', 500)"
   ]
  },
  {
   "cell_type": "code",
   "execution_count": 6,
   "id": "ce55ab14-3398-474f-ba60-ea88239a1c19",
   "metadata": {},
   "outputs": [],
   "source": [
    "TPO_NAL={'C':'colombia', 'H':'chile', 'M':'mexico', 'B':'Brazil', 'E':'other_countries', \n",
    " 'V':'venezuela', 'Q':'ecuador', 'U':'cuba', 'R':'peru', 'P':'portugal'}"
   ]
  },
  {
   "cell_type": "code",
   "execution_count": 7,
   "id": "a5b51ebb-e22a-4e7a-9f52-1869d4c6ab98",
   "metadata": {},
   "outputs": [
    {
     "data": {
      "text/plain": [
       "array(['C', 'H', 'M', 'B', 'E', 'V', 'Q', 'U', 'R', 'P'], dtype=object)"
      ]
     },
     "execution_count": 7,
     "metadata": {},
     "output_type": "execute_result"
    }
   ],
   "source": [
    "df['author_TPO_NACIONALIDAD'].unique()"
   ]
  },
  {
   "cell_type": "code",
   "execution_count": 8,
   "id": "e5e25034-6f6c-4a18-b417-4255b757a393",
   "metadata": {},
   "outputs": [
    {
     "data": {
      "text/plain": [
       "array(['0001110012', '0001607026'], dtype=object)"
      ]
     },
     "execution_count": 8,
     "metadata": {},
     "output_type": "execute_result"
    }
   ],
   "source": [
    "df[df['author_TPO_NACIONALIDAD']=='P']['COD_RH'].unique()"
   ]
  },
  {
   "cell_type": "code",
   "execution_count": 9,
   "id": "90d2a6d8-8f65-4219-a386-546367a77dd5",
   "metadata": {},
   "outputs": [
    {
     "data": {
      "text/html": [
       "<div>\n",
       "<style scoped>\n",
       "    .dataframe tbody tr th:only-of-type {\n",
       "        vertical-align: middle;\n",
       "    }\n",
       "\n",
       "    .dataframe tbody tr th {\n",
       "        vertical-align: top;\n",
       "    }\n",
       "\n",
       "    .dataframe thead th {\n",
       "        text-align: right;\n",
       "    }\n",
       "</style>\n",
       "<table border=\"1\" class=\"dataframe\">\n",
       "  <thead>\n",
       "    <tr style=\"text-align: right;\">\n",
       "      <th></th>\n",
       "      <th>author_TXT_TOTAL_NAMES</th>\n",
       "      <th>author_TXT_NAMES_RH</th>\n",
       "      <th>author_TPO_NACIONALIDAD</th>\n",
       "      <th>author_TPO_SEXO</th>\n",
       "    </tr>\n",
       "  </thead>\n",
       "  <tbody>\n",
       "    <tr>\n",
       "      <th>0</th>\n",
       "      <td>NATALIA ANDREA ROJAS HENAO</td>\n",
       "      <td>NATALIA ANDREA</td>\n",
       "      <td>C</td>\n",
       "      <td>F</td>\n",
       "    </tr>\n",
       "    <tr>\n",
       "      <th>1</th>\n",
       "      <td>NATALIA ANDREA ROJAS HENAO</td>\n",
       "      <td>NATALIA ANDREA</td>\n",
       "      <td>C</td>\n",
       "      <td>F</td>\n",
       "    </tr>\n",
       "    <tr>\n",
       "      <th>2</th>\n",
       "      <td>NATALIA ANDREA ROJAS HENAO</td>\n",
       "      <td>NATALIA ANDREA</td>\n",
       "      <td>C</td>\n",
       "      <td>F</td>\n",
       "    </tr>\n",
       "    <tr>\n",
       "      <th>3</th>\n",
       "      <td>NATALIA ANDREA ROJAS HENAO</td>\n",
       "      <td>NATALIA ANDREA</td>\n",
       "      <td>C</td>\n",
       "      <td>F</td>\n",
       "    </tr>\n",
       "    <tr>\n",
       "      <th>4</th>\n",
       "      <td>Jefferson Alejandro Perez Mesa</td>\n",
       "      <td>Jefferson Alejandro</td>\n",
       "      <td>C</td>\n",
       "      <td>M</td>\n",
       "    </tr>\n",
       "    <tr>\n",
       "      <th>...</th>\n",
       "      <td>...</td>\n",
       "      <td>...</td>\n",
       "      <td>...</td>\n",
       "      <td>...</td>\n",
       "    </tr>\n",
       "    <tr>\n",
       "      <th>95482</th>\n",
       "      <td>Sindy Dayana Jojoa  SIERRA</td>\n",
       "      <td>Sindy Dayana</td>\n",
       "      <td>C</td>\n",
       "      <td>F</td>\n",
       "    </tr>\n",
       "    <tr>\n",
       "      <th>95483</th>\n",
       "      <td>Jose David Ruiz Alvarez</td>\n",
       "      <td>Jose David</td>\n",
       "      <td>C</td>\n",
       "      <td>M</td>\n",
       "    </tr>\n",
       "    <tr>\n",
       "      <th>95484</th>\n",
       "      <td>Luis Alfredo Munoz Hernandez</td>\n",
       "      <td>Luis Alfredo</td>\n",
       "      <td>C</td>\n",
       "      <td>M</td>\n",
       "    </tr>\n",
       "    <tr>\n",
       "      <th>95485</th>\n",
       "      <td>Oscar Alexander Gutierrez Lesmes</td>\n",
       "      <td>Oscar Alexander</td>\n",
       "      <td>C</td>\n",
       "      <td>M</td>\n",
       "    </tr>\n",
       "    <tr>\n",
       "      <th>95486</th>\n",
       "      <td>Wilfredo Antonio Rivera Martinez</td>\n",
       "      <td>Wilfredo Antonio</td>\n",
       "      <td>C</td>\n",
       "      <td>M</td>\n",
       "    </tr>\n",
       "  </tbody>\n",
       "</table>\n",
       "<p>95487 rows × 4 columns</p>\n",
       "</div>"
      ],
      "text/plain": [
       "                 author_TXT_TOTAL_NAMES  author_TXT_NAMES_RH  \\\n",
       "0            NATALIA ANDREA ROJAS HENAO       NATALIA ANDREA   \n",
       "1            NATALIA ANDREA ROJAS HENAO       NATALIA ANDREA   \n",
       "2            NATALIA ANDREA ROJAS HENAO       NATALIA ANDREA   \n",
       "3            NATALIA ANDREA ROJAS HENAO       NATALIA ANDREA   \n",
       "4        Jefferson Alejandro Perez Mesa  Jefferson Alejandro   \n",
       "...                                 ...                  ...   \n",
       "95482        Sindy Dayana Jojoa  SIERRA         Sindy Dayana   \n",
       "95483           Jose David Ruiz Alvarez           Jose David   \n",
       "95484      Luis Alfredo Munoz Hernandez         Luis Alfredo   \n",
       "95485  Oscar Alexander Gutierrez Lesmes      Oscar Alexander   \n",
       "95486  Wilfredo Antonio Rivera Martinez     Wilfredo Antonio   \n",
       "\n",
       "      author_TPO_NACIONALIDAD author_TPO_SEXO  \n",
       "0                           C               F  \n",
       "1                           C               F  \n",
       "2                           C               F  \n",
       "3                           C               F  \n",
       "4                           C               M  \n",
       "...                       ...             ...  \n",
       "95482                       C               F  \n",
       "95483                       C               M  \n",
       "95484                       C               M  \n",
       "95485                       C               M  \n",
       "95486                       C               M  \n",
       "\n",
       "[95487 rows x 4 columns]"
      ]
     },
     "execution_count": 9,
     "metadata": {},
     "output_type": "execute_result"
    }
   ],
   "source": [
    "df[['author_TXT_TOTAL_NAMES','author_TXT_NAMES_RH','author_TPO_NACIONALIDAD','author_TPO_SEXO']]"
   ]
  },
  {
   "cell_type": "code",
   "execution_count": 10,
   "id": "6a04257e-8775-4ef5-9713-c22e54a1901b",
   "metadata": {},
   "outputs": [],
   "source": [
    "import gender_guesser.detector as GENDER\n",
    "\n",
    "class Detector:\n",
    "    '''\n",
    "    * Works for all countries\n",
    "    * convert mostly_(fe)male to (fe)male\n",
    "    * Works for composed names by chosing the female or male of each one (in that order) \n",
    "      and ignoring the other possibilities\n",
    "    '''\n",
    "    case_sensitive = False\n",
    "    D=GENDER.Detector(case_sensitive=case_sensitive)\n",
    "    LA_countries=['Brazil', 'Mexico', 'Argentina','Chile', 'Colombia','Bolivia','Cuba', #5\n",
    "              'Costa Rica', 'Ecuador', 'El Salvador', 'Guatemala', 'Honduras', #10\n",
    "               'Nicaragua', 'Panama', 'Paraguay', 'Peru', #15\n",
    "              'Dominican Republic','Uruguay','Venezuela']\n",
    "\n",
    "    def get_country(self,country,countries=D.__class__.COUNTRIES,la_countries=LA_countries):\n",
    "        if country.lower() in [s.lower() for s  in la_countries if s.lower()!='brazil']:\n",
    "            return 'spain'\n",
    "        elif country.lower() == 'brazil':\n",
    "            return 'portugal'\n",
    "        elif country.lower() in countries:\n",
    "            return country.lower()\n",
    "        else:\n",
    "            return None\n",
    "    \n",
    "    def get_gender(self,names,country=None,**kwargs):\n",
    "        if country:\n",
    "            country=self.get_country(country)\n",
    "            g=[ self.D.get_gender(name, country=u'{}'.format(country)) for name in names.split() ]\n",
    "        else:\n",
    "            g=[ self.D.get_gender(name) for name in names.split()]\n",
    "            g=[ x.replace('mostly_','') for x in g]\n",
    "        male_female = list(set(['male','female']).intersection(g))\n",
    "        if male_female:\n",
    "            return male_female[0]\n",
    "        else:\n",
    "            return sorted(g)[0]\n",
    "\n",
    "#def get_gender_country(name,country='spain'):\n",
    "#    country = get_country(country)\n",
    "#    fm=D.get_gender(name,country)\n",
    "#    fm=fm.replace('mostly_','')\n",
    "#    if fm not in ['male','female']:\n",
    "#        fm = D.get_gender(name)\n",
    "#    return fm\n",
    "            \n",
    "d=Detector()\n",
    "assert d.get_gender('Andrea',country='italy') == 'male'\n",
    "assert d.get_gender('Andrea',country='spain') == 'female'\n",
    "assert d.get_gender('Andrea',country='colombia') == 'female'"
   ]
  },
  {
   "cell_type": "code",
   "execution_count": 146,
   "id": "1ebe8f19-f152-4e41-92a3-8d7886980fd1",
   "metadata": {},
   "outputs": [
    {
     "data": {
      "text/plain": [
       "'male'"
      ]
     },
     "execution_count": 146,
     "metadata": {},
     "output_type": "execute_result"
    }
   ],
   "source": [
    "d.get_gender('Diego Alejandro',country='italy')"
   ]
  },
  {
   "cell_type": "code",
   "execution_count": 151,
   "id": "01f411b8-e327-4c7a-8dcb-5fed3c1a8b80",
   "metadata": {},
   "outputs": [
    {
     "data": {
      "text/plain": [
       "'andy'"
      ]
     },
     "execution_count": 151,
     "metadata": {},
     "output_type": "execute_result"
    }
   ],
   "source": [
    "d.get_gender('Diego Alejandro',country=)"
   ]
  },
  {
   "cell_type": "code",
   "execution_count": 155,
   "id": "67313fad-6dc7-4fb7-b58e-fce0f9def842",
   "metadata": {},
   "outputs": [],
   "source": [
    "t={'female':'female', 'male':'male', 'unknown':'unknown', 'mostly_female':'female', 'mostly_male':'male',\n",
    "       'andy':'unknown'}"
   ]
  },
  {
   "cell_type": "code",
   "execution_count": 156,
   "id": "77cf2f83-b673-4efe-bf9d-0b2eba236d24",
   "metadata": {},
   "outputs": [],
   "source": [
    "def get_gender(L):\n",
    "    if 'female' in L:\n",
    "        return 'female'\n",
    "    elif 'male' in L:\n",
    "        return 'male'\n",
    "    else:\n",
    "        return 'unknown'"
   ]
  },
  {
   "cell_type": "code",
   "execution_count": 12,
   "id": "35f19290-f035-4dcc-9bae-161467acd071",
   "metadata": {},
   "outputs": [],
   "source": [
    "df=df.drop_duplicates('author_TXT_NAMES_RH').reset_index(drop=True)"
   ]
  },
  {
   "cell_type": "code",
   "execution_count": 13,
   "id": "df55db20-dc1f-456e-bf8c-16676daffc7d",
   "metadata": {},
   "outputs": [
    {
     "data": {
      "text/plain": [
       "(3967, 74)"
      ]
     },
     "execution_count": 13,
     "metadata": {},
     "output_type": "execute_result"
    }
   ],
   "source": [
    "df.shape"
   ]
  },
  {
   "cell_type": "code",
   "execution_count": 14,
   "id": "8413bf2d-1a64-4243-9c15-9f70003ab802",
   "metadata": {},
   "outputs": [],
   "source": [
    "import gender_guesser.detector as GENDER\n",
    "D=GENDER.Detector(case_sensitive=False)"
   ]
  },
  {
   "cell_type": "code",
   "execution_count": 57,
   "id": "4056e423-804c-4c85-bfe9-109aad024dea",
   "metadata": {},
   "outputs": [],
   "source": [
    "LA_countries=['Brazil', 'Mexico', 'Argentina','Chile', 'Colombia','Bolivia','Cuba', #5\n",
    "              'Costa Rica', 'Ecuador', 'El Salvador', 'Guatemala', 'Honduras', #10\n",
    "               'Nicaragua', 'Panama', 'Paraguay', 'Peru', #15\n",
    "              'Dominican Republic','Uruguay','Venezuela']\n",
    "def get_country(country,countries=D.__class__.COUNTRIES,la_countries=LA_countries):\n",
    "        if country.lower() in [s.lower() for s  in la_countries if s.lower()!='brazil']:\n",
    "            return 'spain'\n",
    "        elif country.lower() == 'brazil':\n",
    "            return 'portugal'\n",
    "        elif country.lower() in countries:\n",
    "            return country.lower()\n",
    "        else:\n",
    "            return None"
   ]
  },
  {
   "cell_type": "code",
   "execution_count": 91,
   "id": "e3498eb8-d989-4fd9-9970-ee155d0e785d",
   "metadata": {},
   "outputs": [
    {
     "data": {
      "text/plain": [
       "'spain'"
      ]
     },
     "execution_count": 91,
     "metadata": {},
     "output_type": "execute_result"
    }
   ],
   "source": [
    "get_country('colombia')"
   ]
  },
  {
   "cell_type": "code",
   "execution_count": 100,
   "id": "5279764b-511b-42f9-8261-f127e32e442b",
   "metadata": {},
   "outputs": [],
   "source": [
    "def get_gender_country(name,country='spain'):\n",
    "    country = get_country(country)\n",
    "    fm=D.get_gender(name,country)\n",
    "    fm=fm.replace('mostly_','')\n",
    "    if fm not in ['male','female']:\n",
    "        fm = D.get_gender(name)\n",
    "    return fm"
   ]
  },
  {
   "cell_type": "code",
   "execution_count": 99,
   "id": "bc5f0bf7-cda3-47e9-9106-28adbb8f18c7",
   "metadata": {},
   "outputs": [
    {
     "name": "stdout",
     "output_type": "stream",
     "text": [
      "spain\n"
     ]
    },
    {
     "data": {
      "text/plain": [
       "'male'"
      ]
     },
     "execution_count": 99,
     "metadata": {},
     "output_type": "execute_result"
    }
   ],
   "source": [
    "get_gender_country('diego',country='colombia')"
   ]
  },
  {
   "cell_type": "code",
   "execution_count": 191,
   "id": "8730b1ff-2fe2-4b52-9609-145ad14d845b",
   "metadata": {},
   "outputs": [],
   "source": [
    "dfp=pd.DataFrame()\n",
    "dfp['names']=df['author_TXT_NAMES_RH'].str.title()\n",
    "dfp['gender']= df['author_TPO_SEXO'].str.replace('F','female').str.replace('M','male')\n",
    "dfp['country']=df['author_TPO_NACIONALIDAD'].apply(lambda x: TPO_NAL[x])\n",
    "dfp.to_csv('data/test_gender.csv',index=False)"
   ]
  },
  {
   "cell_type": "code",
   "execution_count": 159,
   "id": "481a7f03-4292-4acd-a7b3-54d3e201bbff",
   "metadata": {},
   "outputs": [],
   "source": [
    "dfp['gg1'] = dfp.apply(lambda x: D.get_gender( x.get('names').split()[0] ) ,axis='columns') #TPO_NAL[ x.get('author_TPO_NACIONALIDAD') ]\n",
    "dfp['gg2'] = dfp.apply(lambda x: D.get_gender( x.get('names').split()[-1]   ) ,axis='columns') #TPO_NAL[ x.get('author_TPO_NACIONALIDAD')]"
   ]
  },
  {
   "cell_type": "code",
   "execution_count": 179,
   "id": "383e921d-7733-4ece-8b08-5e4c2e67c3cb",
   "metadata": {},
   "outputs": [],
   "source": [
    "dfp['gg1'] = dfp.apply(lambda x: get_gender_country( x.get('names').split()[0] ) ,axis='columns') #TPO_NAL[ x.get('author_TPO_NACIONALIDAD') ]\n",
    "dfp['gg2'] = dfp.apply(lambda x: get_gender_country( x.get('names').split()[-1]   ) ,axis='columns') #TPO_NAL[ x.get('author_TPO_NACIONALIDAD')]"
   ]
  },
  {
   "cell_type": "code",
   "execution_count": 181,
   "id": "f971a471-0932-4582-a0bf-bf4e6f61e198",
   "metadata": {},
   "outputs": [],
   "source": [
    "dfp['gg1'] = dfp.apply(lambda x: get_gender_country( x.get('names').split()[0],\n",
    "                  country= x.get('country') ) ,axis='columns') \n",
    "dfp['gg2'] = dfp.apply(lambda x: get_gender_country( x.get('names').split()[-1],\n",
    "                  country=x.get('country')  ) ,axis='columns') "
   ]
  },
  {
   "cell_type": "code",
   "execution_count": 182,
   "id": "77fbfc45-d91a-4561-9198-63bdd7f34806",
   "metadata": {},
   "outputs": [],
   "source": [
    "dfp['gg1']=dfp['gg1'].apply(lambda d: t[d]) \n",
    "dfp['gg2']=dfp['gg2'].apply(lambda d: t[d]) "
   ]
  },
  {
   "cell_type": "code",
   "execution_count": 183,
   "id": "60fd7c9f-db3b-459a-9197-9d3f15e5376f",
   "metadata": {},
   "outputs": [],
   "source": [
    "dfp['gg']=dfp.apply(lambda d: get_gender( [d['gg1'],d['gg2']]) ,axis='columns')"
   ]
  },
  {
   "cell_type": "code",
   "execution_count": 184,
   "id": "ca3ab787-3d9d-4463-8432-6a6a912c165a",
   "metadata": {},
   "outputs": [
    {
     "data": {
      "text/html": [
       "<div>\n",
       "<style scoped>\n",
       "    .dataframe tbody tr th:only-of-type {\n",
       "        vertical-align: middle;\n",
       "    }\n",
       "\n",
       "    .dataframe tbody tr th {\n",
       "        vertical-align: top;\n",
       "    }\n",
       "\n",
       "    .dataframe thead th {\n",
       "        text-align: right;\n",
       "    }\n",
       "</style>\n",
       "<table border=\"1\" class=\"dataframe\">\n",
       "  <thead>\n",
       "    <tr style=\"text-align: right;\">\n",
       "      <th></th>\n",
       "      <th>names</th>\n",
       "      <th>country</th>\n",
       "      <th>gender</th>\n",
       "      <th>gg</th>\n",
       "    </tr>\n",
       "  </thead>\n",
       "  <tbody>\n",
       "    <tr>\n",
       "      <th>701</th>\n",
       "      <td>Julian</td>\n",
       "      <td>colombia</td>\n",
       "      <td>male</td>\n",
       "      <td>male</td>\n",
       "    </tr>\n",
       "    <tr>\n",
       "      <th>3740</th>\n",
       "      <td>Michael Edwin</td>\n",
       "      <td>colombia</td>\n",
       "      <td>male</td>\n",
       "      <td>male</td>\n",
       "    </tr>\n",
       "    <tr>\n",
       "      <th>3851</th>\n",
       "      <td>Lauren Melissa</td>\n",
       "      <td>colombia</td>\n",
       "      <td>female</td>\n",
       "      <td>female</td>\n",
       "    </tr>\n",
       "    <tr>\n",
       "      <th>2418</th>\n",
       "      <td>Fredy Alexander</td>\n",
       "      <td>colombia</td>\n",
       "      <td>male</td>\n",
       "      <td>male</td>\n",
       "    </tr>\n",
       "    <tr>\n",
       "      <th>2981</th>\n",
       "      <td>Luz Aide</td>\n",
       "      <td>colombia</td>\n",
       "      <td>female</td>\n",
       "      <td>female</td>\n",
       "    </tr>\n",
       "    <tr>\n",
       "      <th>662</th>\n",
       "      <td>Roberth Augusto</td>\n",
       "      <td>colombia</td>\n",
       "      <td>male</td>\n",
       "      <td>male</td>\n",
       "    </tr>\n",
       "    <tr>\n",
       "      <th>1227</th>\n",
       "      <td>Rosalba</td>\n",
       "      <td>colombia</td>\n",
       "      <td>female</td>\n",
       "      <td>female</td>\n",
       "    </tr>\n",
       "    <tr>\n",
       "      <th>1870</th>\n",
       "      <td>Cartul Valerico</td>\n",
       "      <td>colombia</td>\n",
       "      <td>male</td>\n",
       "      <td>unknown</td>\n",
       "    </tr>\n",
       "    <tr>\n",
       "      <th>226</th>\n",
       "      <td>Marta Gabriela</td>\n",
       "      <td>colombia</td>\n",
       "      <td>female</td>\n",
       "      <td>female</td>\n",
       "    </tr>\n",
       "    <tr>\n",
       "      <th>2942</th>\n",
       "      <td>Arleison</td>\n",
       "      <td>colombia</td>\n",
       "      <td>male</td>\n",
       "      <td>unknown</td>\n",
       "    </tr>\n",
       "    <tr>\n",
       "      <th>3053</th>\n",
       "      <td>Violeta</td>\n",
       "      <td>colombia</td>\n",
       "      <td>female</td>\n",
       "      <td>female</td>\n",
       "    </tr>\n",
       "    <tr>\n",
       "      <th>274</th>\n",
       "      <td>Alejandra Maria</td>\n",
       "      <td>colombia</td>\n",
       "      <td>female</td>\n",
       "      <td>female</td>\n",
       "    </tr>\n",
       "    <tr>\n",
       "      <th>2345</th>\n",
       "      <td>Doris Amanda</td>\n",
       "      <td>colombia</td>\n",
       "      <td>female</td>\n",
       "      <td>female</td>\n",
       "    </tr>\n",
       "    <tr>\n",
       "      <th>2090</th>\n",
       "      <td>Nelson Jezzid</td>\n",
       "      <td>colombia</td>\n",
       "      <td>male</td>\n",
       "      <td>male</td>\n",
       "    </tr>\n",
       "    <tr>\n",
       "      <th>260</th>\n",
       "      <td>Edwin Esteban</td>\n",
       "      <td>colombia</td>\n",
       "      <td>male</td>\n",
       "      <td>male</td>\n",
       "    </tr>\n",
       "    <tr>\n",
       "      <th>76</th>\n",
       "      <td>Elvia Patricia</td>\n",
       "      <td>colombia</td>\n",
       "      <td>female</td>\n",
       "      <td>female</td>\n",
       "    </tr>\n",
       "    <tr>\n",
       "      <th>3167</th>\n",
       "      <td>Cristian Andres</td>\n",
       "      <td>colombia</td>\n",
       "      <td>male</td>\n",
       "      <td>male</td>\n",
       "    </tr>\n",
       "    <tr>\n",
       "      <th>1611</th>\n",
       "      <td>Berardo De Jesus</td>\n",
       "      <td>colombia</td>\n",
       "      <td>male</td>\n",
       "      <td>male</td>\n",
       "    </tr>\n",
       "    <tr>\n",
       "      <th>3486</th>\n",
       "      <td>Simon Andres</td>\n",
       "      <td>colombia</td>\n",
       "      <td>male</td>\n",
       "      <td>male</td>\n",
       "    </tr>\n",
       "    <tr>\n",
       "      <th>3523</th>\n",
       "      <td>Jose Alejandro</td>\n",
       "      <td>colombia</td>\n",
       "      <td>male</td>\n",
       "      <td>male</td>\n",
       "    </tr>\n",
       "    <tr>\n",
       "      <th>3634</th>\n",
       "      <td>Erika Janeth</td>\n",
       "      <td>colombia</td>\n",
       "      <td>female</td>\n",
       "      <td>female</td>\n",
       "    </tr>\n",
       "    <tr>\n",
       "      <th>2947</th>\n",
       "      <td>Isabel Cristina</td>\n",
       "      <td>colombia</td>\n",
       "      <td>female</td>\n",
       "      <td>female</td>\n",
       "    </tr>\n",
       "    <tr>\n",
       "      <th>3276</th>\n",
       "      <td>Jeraldyn</td>\n",
       "      <td>colombia</td>\n",
       "      <td>female</td>\n",
       "      <td>unknown</td>\n",
       "    </tr>\n",
       "    <tr>\n",
       "      <th>2287</th>\n",
       "      <td>Nayibe</td>\n",
       "      <td>colombia</td>\n",
       "      <td>female</td>\n",
       "      <td>unknown</td>\n",
       "    </tr>\n",
       "    <tr>\n",
       "      <th>1075</th>\n",
       "      <td>Hugo Hernan</td>\n",
       "      <td>colombia</td>\n",
       "      <td>male</td>\n",
       "      <td>male</td>\n",
       "    </tr>\n",
       "    <tr>\n",
       "      <th>2479</th>\n",
       "      <td>Willian Alexander</td>\n",
       "      <td>colombia</td>\n",
       "      <td>male</td>\n",
       "      <td>male</td>\n",
       "    </tr>\n",
       "    <tr>\n",
       "      <th>3356</th>\n",
       "      <td>Robinson Alexander</td>\n",
       "      <td>colombia</td>\n",
       "      <td>male</td>\n",
       "      <td>male</td>\n",
       "    </tr>\n",
       "    <tr>\n",
       "      <th>833</th>\n",
       "      <td>Julian Amador</td>\n",
       "      <td>colombia</td>\n",
       "      <td>male</td>\n",
       "      <td>male</td>\n",
       "    </tr>\n",
       "    <tr>\n",
       "      <th>3212</th>\n",
       "      <td>Marisol</td>\n",
       "      <td>colombia</td>\n",
       "      <td>female</td>\n",
       "      <td>female</td>\n",
       "    </tr>\n",
       "    <tr>\n",
       "      <th>1208</th>\n",
       "      <td>Roberto Arturo</td>\n",
       "      <td>colombia</td>\n",
       "      <td>male</td>\n",
       "      <td>male</td>\n",
       "    </tr>\n",
       "    <tr>\n",
       "      <th>486</th>\n",
       "      <td>Johan</td>\n",
       "      <td>colombia</td>\n",
       "      <td>male</td>\n",
       "      <td>male</td>\n",
       "    </tr>\n",
       "    <tr>\n",
       "      <th>3087</th>\n",
       "      <td>Miguel Enrique</td>\n",
       "      <td>colombia</td>\n",
       "      <td>male</td>\n",
       "      <td>male</td>\n",
       "    </tr>\n",
       "    <tr>\n",
       "      <th>3919</th>\n",
       "      <td>Melbin Amparo</td>\n",
       "      <td>colombia</td>\n",
       "      <td>female</td>\n",
       "      <td>female</td>\n",
       "    </tr>\n",
       "    <tr>\n",
       "      <th>3436</th>\n",
       "      <td>Melisa</td>\n",
       "      <td>colombia</td>\n",
       "      <td>female</td>\n",
       "      <td>female</td>\n",
       "    </tr>\n",
       "    <tr>\n",
       "      <th>3904</th>\n",
       "      <td>Diana Sandra Faride</td>\n",
       "      <td>colombia</td>\n",
       "      <td>female</td>\n",
       "      <td>female</td>\n",
       "    </tr>\n",
       "    <tr>\n",
       "      <th>3579</th>\n",
       "      <td>Jhoan David</td>\n",
       "      <td>colombia</td>\n",
       "      <td>male</td>\n",
       "      <td>male</td>\n",
       "    </tr>\n",
       "    <tr>\n",
       "      <th>2136</th>\n",
       "      <td>Yamilet</td>\n",
       "      <td>colombia</td>\n",
       "      <td>female</td>\n",
       "      <td>unknown</td>\n",
       "    </tr>\n",
       "    <tr>\n",
       "      <th>1991</th>\n",
       "      <td>Gustavo Argenor</td>\n",
       "      <td>colombia</td>\n",
       "      <td>male</td>\n",
       "      <td>male</td>\n",
       "    </tr>\n",
       "    <tr>\n",
       "      <th>1854</th>\n",
       "      <td>Luis Andres</td>\n",
       "      <td>colombia</td>\n",
       "      <td>male</td>\n",
       "      <td>male</td>\n",
       "    </tr>\n",
       "    <tr>\n",
       "      <th>3871</th>\n",
       "      <td>Sandy Carolina</td>\n",
       "      <td>colombia</td>\n",
       "      <td>female</td>\n",
       "      <td>female</td>\n",
       "    </tr>\n",
       "    <tr>\n",
       "      <th>1910</th>\n",
       "      <td>J. William</td>\n",
       "      <td>colombia</td>\n",
       "      <td>male</td>\n",
       "      <td>male</td>\n",
       "    </tr>\n",
       "    <tr>\n",
       "      <th>3587</th>\n",
       "      <td>William</td>\n",
       "      <td>colombia</td>\n",
       "      <td>male</td>\n",
       "      <td>male</td>\n",
       "    </tr>\n",
       "    <tr>\n",
       "      <th>1658</th>\n",
       "      <td>Angel David</td>\n",
       "      <td>colombia</td>\n",
       "      <td>male</td>\n",
       "      <td>male</td>\n",
       "    </tr>\n",
       "    <tr>\n",
       "      <th>456</th>\n",
       "      <td>Lucia</td>\n",
       "      <td>colombia</td>\n",
       "      <td>female</td>\n",
       "      <td>female</td>\n",
       "    </tr>\n",
       "    <tr>\n",
       "      <th>465</th>\n",
       "      <td>Nora Del Socorro</td>\n",
       "      <td>colombia</td>\n",
       "      <td>female</td>\n",
       "      <td>female</td>\n",
       "    </tr>\n",
       "    <tr>\n",
       "      <th>2129</th>\n",
       "      <td>Susana Pamela</td>\n",
       "      <td>colombia</td>\n",
       "      <td>female</td>\n",
       "      <td>female</td>\n",
       "    </tr>\n",
       "    <tr>\n",
       "      <th>1027</th>\n",
       "      <td>Hernando Leon</td>\n",
       "      <td>colombia</td>\n",
       "      <td>male</td>\n",
       "      <td>male</td>\n",
       "    </tr>\n",
       "    <tr>\n",
       "      <th>3821</th>\n",
       "      <td>Lars Fredrik</td>\n",
       "      <td>other_countries</td>\n",
       "      <td>male</td>\n",
       "      <td>male</td>\n",
       "    </tr>\n",
       "    <tr>\n",
       "      <th>2953</th>\n",
       "      <td>Jenni Carolina</td>\n",
       "      <td>colombia</td>\n",
       "      <td>female</td>\n",
       "      <td>female</td>\n",
       "    </tr>\n",
       "    <tr>\n",
       "      <th>920</th>\n",
       "      <td>Leonor Victoria</td>\n",
       "      <td>colombia</td>\n",
       "      <td>female</td>\n",
       "      <td>female</td>\n",
       "    </tr>\n",
       "  </tbody>\n",
       "</table>\n",
       "</div>"
      ],
      "text/plain": [
       "                    names          country  gender       gg\n",
       "701                Julian         colombia    male     male\n",
       "3740       Michael Edwin          colombia    male     male\n",
       "3851       Lauren Melissa         colombia  female   female\n",
       "2418      Fredy Alexander         colombia    male     male\n",
       "2981             Luz Aide         colombia  female   female\n",
       "662       Roberth Augusto         colombia    male     male\n",
       "1227              Rosalba         colombia  female   female\n",
       "1870      Cartul Valerico         colombia    male  unknown\n",
       "226        Marta Gabriela         colombia  female   female\n",
       "2942             Arleison         colombia    male  unknown\n",
       "3053              Violeta         colombia  female   female\n",
       "274       Alejandra Maria         colombia  female   female\n",
       "2345         Doris Amanda         colombia  female   female\n",
       "2090        Nelson Jezzid         colombia    male     male\n",
       "260         Edwin Esteban         colombia    male     male\n",
       "76         Elvia Patricia         colombia  female   female\n",
       "3167     Cristian Andres          colombia    male     male\n",
       "1611     Berardo De Jesus         colombia    male     male\n",
       "3486         Simon Andres         colombia    male     male\n",
       "3523      Jose Alejandro          colombia    male     male\n",
       "3634         Erika Janeth         colombia  female   female\n",
       "2947    Isabel Cristina           colombia  female   female\n",
       "3276             Jeraldyn         colombia  female  unknown\n",
       "2287               Nayibe         colombia  female  unknown\n",
       "1075          Hugo Hernan         colombia    male     male\n",
       "2479    Willian Alexander         colombia    male     male\n",
       "3356   Robinson Alexander         colombia    male     male\n",
       "833         Julian Amador         colombia    male     male\n",
       "3212             Marisol          colombia  female   female\n",
       "1208       Roberto Arturo         colombia    male     male\n",
       "486                 Johan         colombia    male     male\n",
       "3087       Miguel Enrique         colombia    male     male\n",
       "3919        Melbin Amparo         colombia  female   female\n",
       "3436               Melisa         colombia  female   female\n",
       "3904  Diana Sandra Faride         colombia  female   female\n",
       "3579         Jhoan David          colombia    male     male\n",
       "2136              Yamilet         colombia  female  unknown\n",
       "1991      Gustavo Argenor         colombia    male     male\n",
       "1854          Luis Andres         colombia    male     male\n",
       "3871       Sandy Carolina         colombia  female   female\n",
       "1910           J. William         colombia    male     male\n",
       "3587             William          colombia    male     male\n",
       "1658          Angel David         colombia    male     male\n",
       "456                 Lucia         colombia  female   female\n",
       "465      Nora Del Socorro         colombia  female   female\n",
       "2129        Susana Pamela         colombia  female   female\n",
       "1027        Hernando Leon         colombia    male     male\n",
       "3821         Lars Fredrik  other_countries    male     male\n",
       "2953       Jenni Carolina         colombia  female   female\n",
       "920       Leonor Victoria         colombia  female   female"
      ]
     },
     "execution_count": 184,
     "metadata": {},
     "output_type": "execute_result"
    }
   ],
   "source": [
    "dfp[['names','country','gender','gg']#,'gg1_es','gg2_es','gg1_us','gg2_us']\n",
    "  ].drop_duplicates().sample(50)#[:50]"
   ]
  },
  {
   "cell_type": "code",
   "execution_count": 185,
   "id": "feaf0e1c-bbae-4630-9ae9-2ec0be02086a",
   "metadata": {},
   "outputs": [
    {
     "data": {
      "text/plain": [
       "(3967, 6)"
      ]
     },
     "execution_count": 185,
     "metadata": {},
     "output_type": "execute_result"
    }
   ],
   "source": [
    "dfp.shape"
   ]
  },
  {
   "cell_type": "code",
   "execution_count": 186,
   "id": "2fdd59ff-0b88-47cf-9fcc-91d2bb6318cf",
   "metadata": {},
   "outputs": [
    {
     "data": {
      "text/plain": [
       "3626"
      ]
     },
     "execution_count": 186,
     "metadata": {},
     "output_type": "execute_result"
    }
   ],
   "source": [
    "T=dfp[dfp['gender']==dfp['gg']].shape[0]\n",
    "T"
   ]
  },
  {
   "cell_type": "code",
   "execution_count": 187,
   "id": "0769de51-dfa8-4a39-9734-f0b90dd2ef5c",
   "metadata": {},
   "outputs": [
    {
     "data": {
      "text/plain": [
       "303"
      ]
     },
     "execution_count": 187,
     "metadata": {},
     "output_type": "execute_result"
    }
   ],
   "source": [
    "U=dfp[dfp['gg']=='unknown'].shape[0]\n",
    "U"
   ]
  },
  {
   "cell_type": "code",
   "execution_count": 188,
   "id": "478dd65f-e50f-425a-884a-ae98dc7a91cd",
   "metadata": {},
   "outputs": [
    {
     "data": {
      "text/plain": [
       "38"
      ]
     },
     "execution_count": 188,
     "metadata": {},
     "output_type": "execute_result"
    }
   ],
   "source": [
    "E=dfp[ (dfp['gender']!=dfp['gg']) & (dfp['gg']!='unknown') ][['names',\n",
    "                                                          'country','gender','gg']].shape[0]\n",
    "E"
   ]
  },
  {
   "cell_type": "code",
   "execution_count": 178,
   "id": "e1133b04-a089-4d6c-8133-746ab2854e78",
   "metadata": {},
   "outputs": [
    {
     "data": {
      "text/plain": [
       "0.010479867622724766"
      ]
     },
     "execution_count": 178,
     "metadata": {},
     "output_type": "execute_result"
    }
   ],
   "source": [
    "E/T #0.13 to 0.1 with Spain"
   ]
  },
  {
   "cell_type": "code",
   "execution_count": 169,
   "id": "e5078bb7-7a19-473c-bb72-adcbb7307d94",
   "metadata": {},
   "outputs": [
    {
     "data": {
      "text/plain": [
       "0.08379424778761062"
      ]
     },
     "execution_count": 169,
     "metadata": {},
     "output_type": "execute_result"
    }
   ],
   "source": [
    "U/T #→ 0.2"
   ]
  },
  {
   "cell_type": "code",
   "execution_count": null,
   "id": "a6515269-dfe0-4c0a-ab24-6e6ad930435d",
   "metadata": {},
   "outputs": [],
   "source": []
  }
 ],
 "metadata": {
  "kernelspec": {
   "display_name": "Python 3 (ipykernel)",
   "language": "python",
   "name": "python3"
  },
  "language_info": {
   "codemirror_mode": {
    "name": "ipython",
    "version": 3
   },
   "file_extension": ".py",
   "mimetype": "text/x-python",
   "name": "python",
   "nbconvert_exporter": "python",
   "pygments_lexer": "ipython3",
   "version": "3.11.2"
  }
 },
 "nbformat": 4,
 "nbformat_minor": 5
}
