{
 "cells": [
  {
   "cell_type": "markdown",
   "id": "61923d08-7c06-4143-8b28-796727204f2f",
   "metadata": {},
   "source": [
    "https://www.ncbi.nlm.nih.gov/pmc/articles/PMC7924484/\n",
    "\n",
    "https://codingfleet.com/transformation-details/determining-gender-by-name-with-python/"
   ]
  },
  {
   "cell_type": "code",
   "execution_count": 1,
   "id": "79da7b17-fe94-4fc5-b019-03557f82ee20",
   "metadata": {},
   "outputs": [],
   "source": [
    "import pandas as pd"
   ]
  },
  {
   "cell_type": "code",
   "execution_count": 2,
   "id": "38b1daa0-4ba9-48ba-8661-53da9530dd3a",
   "metadata": {},
   "outputs": [],
   "source": [
    "import wosplus as wp"
   ]
  },
  {
   "cell_type": "code",
   "execution_count": 3,
   "id": "875ee075-b352-40cc-b375-441a704738cc",
   "metadata": {},
   "outputs": [],
   "source": [
    "wos=wp.wosplus('drive.cfg') "
   ]
  },
  {
   "cell_type": "code",
   "execution_count": 4,
   "id": "0c233893-54a6-44f9-beb4-3d79879a2b39",
   "metadata": {},
   "outputs": [],
   "source": [
    "df=wos.read_drive_excel('produccionUdeA.xlsx',dtype={'COD_RH':str})"
   ]
  },
  {
   "cell_type": "code",
   "execution_count": 5,
   "id": "ca2b6a5a-54d6-4155-b0f9-2313a409654f",
   "metadata": {},
   "outputs": [],
   "source": [
    "pd.set_option('display.max_columns', 500)"
   ]
  },
  {
   "cell_type": "code",
   "execution_count": 6,
   "id": "ce55ab14-3398-474f-ba60-ea88239a1c19",
   "metadata": {},
   "outputs": [],
   "source": [
    "TPO_NAL={'C':'colombia', 'H':'chile', 'M':'mexico', 'B':'Brazil', 'E':'other_countries', \n",
    " 'V':'venezuela', 'Q':'ecuador', 'U':'cuba', 'R':'peru', 'P':'portugal'}"
   ]
  },
  {
   "cell_type": "code",
   "execution_count": 7,
   "id": "a5b51ebb-e22a-4e7a-9f52-1869d4c6ab98",
   "metadata": {},
   "outputs": [
    {
     "data": {
      "text/plain": [
       "array(['C', 'H', 'M', 'B', 'E', 'V', 'Q', 'U', 'R', 'P'], dtype=object)"
      ]
     },
     "execution_count": 7,
     "metadata": {},
     "output_type": "execute_result"
    }
   ],
   "source": [
    "df['author_TPO_NACIONALIDAD'].unique()"
   ]
  },
  {
   "cell_type": "code",
   "execution_count": 8,
   "id": "e5e25034-6f6c-4a18-b417-4255b757a393",
   "metadata": {},
   "outputs": [
    {
     "data": {
      "text/plain": [
       "array(['0001110012', '0001607026'], dtype=object)"
      ]
     },
     "execution_count": 8,
     "metadata": {},
     "output_type": "execute_result"
    }
   ],
   "source": [
    "df[df['author_TPO_NACIONALIDAD']=='P']['COD_RH'].unique()"
   ]
  },
  {
   "cell_type": "code",
   "execution_count": 9,
   "id": "90d2a6d8-8f65-4219-a386-546367a77dd5",
   "metadata": {},
   "outputs": [
    {
     "data": {
      "text/html": [
       "<div>\n",
       "<style scoped>\n",
       "    .dataframe tbody tr th:only-of-type {\n",
       "        vertical-align: middle;\n",
       "    }\n",
       "\n",
       "    .dataframe tbody tr th {\n",
       "        vertical-align: top;\n",
       "    }\n",
       "\n",
       "    .dataframe thead th {\n",
       "        text-align: right;\n",
       "    }\n",
       "</style>\n",
       "<table border=\"1\" class=\"dataframe\">\n",
       "  <thead>\n",
       "    <tr style=\"text-align: right;\">\n",
       "      <th></th>\n",
       "      <th>author_TXT_TOTAL_NAMES</th>\n",
       "      <th>author_TXT_NAMES_RH</th>\n",
       "      <th>author_TPO_NACIONALIDAD</th>\n",
       "      <th>author_TPO_SEXO</th>\n",
       "    </tr>\n",
       "  </thead>\n",
       "  <tbody>\n",
       "    <tr>\n",
       "      <th>0</th>\n",
       "      <td>NATALIA ANDREA ROJAS HENAO</td>\n",
       "      <td>NATALIA ANDREA</td>\n",
       "      <td>C</td>\n",
       "      <td>F</td>\n",
       "    </tr>\n",
       "    <tr>\n",
       "      <th>1</th>\n",
       "      <td>NATALIA ANDREA ROJAS HENAO</td>\n",
       "      <td>NATALIA ANDREA</td>\n",
       "      <td>C</td>\n",
       "      <td>F</td>\n",
       "    </tr>\n",
       "    <tr>\n",
       "      <th>2</th>\n",
       "      <td>NATALIA ANDREA ROJAS HENAO</td>\n",
       "      <td>NATALIA ANDREA</td>\n",
       "      <td>C</td>\n",
       "      <td>F</td>\n",
       "    </tr>\n",
       "    <tr>\n",
       "      <th>3</th>\n",
       "      <td>NATALIA ANDREA ROJAS HENAO</td>\n",
       "      <td>NATALIA ANDREA</td>\n",
       "      <td>C</td>\n",
       "      <td>F</td>\n",
       "    </tr>\n",
       "    <tr>\n",
       "      <th>4</th>\n",
       "      <td>Jefferson Alejandro Perez Mesa</td>\n",
       "      <td>Jefferson Alejandro</td>\n",
       "      <td>C</td>\n",
       "      <td>M</td>\n",
       "    </tr>\n",
       "    <tr>\n",
       "      <th>...</th>\n",
       "      <td>...</td>\n",
       "      <td>...</td>\n",
       "      <td>...</td>\n",
       "      <td>...</td>\n",
       "    </tr>\n",
       "    <tr>\n",
       "      <th>95482</th>\n",
       "      <td>Sindy Dayana Jojoa  SIERRA</td>\n",
       "      <td>Sindy Dayana</td>\n",
       "      <td>C</td>\n",
       "      <td>F</td>\n",
       "    </tr>\n",
       "    <tr>\n",
       "      <th>95483</th>\n",
       "      <td>Jose David Ruiz Alvarez</td>\n",
       "      <td>Jose David</td>\n",
       "      <td>C</td>\n",
       "      <td>M</td>\n",
       "    </tr>\n",
       "    <tr>\n",
       "      <th>95484</th>\n",
       "      <td>Luis Alfredo Munoz Hernandez</td>\n",
       "      <td>Luis Alfredo</td>\n",
       "      <td>C</td>\n",
       "      <td>M</td>\n",
       "    </tr>\n",
       "    <tr>\n",
       "      <th>95485</th>\n",
       "      <td>Oscar Alexander Gutierrez Lesmes</td>\n",
       "      <td>Oscar Alexander</td>\n",
       "      <td>C</td>\n",
       "      <td>M</td>\n",
       "    </tr>\n",
       "    <tr>\n",
       "      <th>95486</th>\n",
       "      <td>Wilfredo Antonio Rivera Martinez</td>\n",
       "      <td>Wilfredo Antonio</td>\n",
       "      <td>C</td>\n",
       "      <td>M</td>\n",
       "    </tr>\n",
       "  </tbody>\n",
       "</table>\n",
       "<p>95487 rows × 4 columns</p>\n",
       "</div>"
      ],
      "text/plain": [
       "                 author_TXT_TOTAL_NAMES  author_TXT_NAMES_RH  \\\n",
       "0            NATALIA ANDREA ROJAS HENAO       NATALIA ANDREA   \n",
       "1            NATALIA ANDREA ROJAS HENAO       NATALIA ANDREA   \n",
       "2            NATALIA ANDREA ROJAS HENAO       NATALIA ANDREA   \n",
       "3            NATALIA ANDREA ROJAS HENAO       NATALIA ANDREA   \n",
       "4        Jefferson Alejandro Perez Mesa  Jefferson Alejandro   \n",
       "...                                 ...                  ...   \n",
       "95482        Sindy Dayana Jojoa  SIERRA         Sindy Dayana   \n",
       "95483           Jose David Ruiz Alvarez           Jose David   \n",
       "95484      Luis Alfredo Munoz Hernandez         Luis Alfredo   \n",
       "95485  Oscar Alexander Gutierrez Lesmes      Oscar Alexander   \n",
       "95486  Wilfredo Antonio Rivera Martinez     Wilfredo Antonio   \n",
       "\n",
       "      author_TPO_NACIONALIDAD author_TPO_SEXO  \n",
       "0                           C               F  \n",
       "1                           C               F  \n",
       "2                           C               F  \n",
       "3                           C               F  \n",
       "4                           C               M  \n",
       "...                       ...             ...  \n",
       "95482                       C               F  \n",
       "95483                       C               M  \n",
       "95484                       C               M  \n",
       "95485                       C               M  \n",
       "95486                       C               M  \n",
       "\n",
       "[95487 rows x 4 columns]"
      ]
     },
     "execution_count": 9,
     "metadata": {},
     "output_type": "execute_result"
    }
   ],
   "source": [
    "df[['author_TXT_TOTAL_NAMES','author_TXT_NAMES_RH','author_TPO_NACIONALIDAD','author_TPO_SEXO']]"
   ]
  },
  {
   "cell_type": "code",
   "execution_count": 10,
   "id": "6a04257e-8775-4ef5-9713-c22e54a1901b",
   "metadata": {},
   "outputs": [],
   "source": [
    "import gender_guesser.detector as GENDER\n",
    "\n",
    "class Detector:\n",
    "    '''\n",
    "    * Works for all countries\n",
    "    * convert mostly_(fe)male to (fe)male\n",
    "    * Works for composed names by chosing the female or male of each one (in that order) \n",
    "      and ignoring the other possibilities\n",
    "    '''\n",
    "    case_sensitive = False\n",
    "    D=GENDER.Detector(case_sensitive=case_sensitive)\n",
    "    LA_countries=['Brazil', 'Mexico', 'Argentina','Chile', 'Colombia','Bolivia','Cuba', #5\n",
    "              'Costa Rica', 'Ecuador', 'El Salvador', 'Guatemala', 'Honduras', #10\n",
    "               'Nicaragua', 'Panama', 'Paraguay', 'Peru', #15\n",
    "              'Dominican Republic','Uruguay','Venezuela']\n",
    "\n",
    "    def get_country(self,country,countries=D.__class__.COUNTRIES,la_countries=LA_countries):\n",
    "        if country.lower() in [s.lower() for s  in la_countries if s.lower()!='brazil']:\n",
    "            return 'spain'\n",
    "        elif country.lower() == 'brazil':\n",
    "            return 'portugal'\n",
    "        elif country.lower() in countries:\n",
    "            return country.lower()\n",
    "        else:\n",
    "            return None\n",
    "    \n",
    "    def get_gender(self,names,country=None,**kwargs):\n",
    "        if country:\n",
    "            country=self.get_country(country)\n",
    "            g=[ self.D.get_gender(name, country=u'{}'.format(country)) for name in names.split() ]\n",
    "        else:\n",
    "            g=[ self.D.get_gender(name) for name in names.split()]\n",
    "            g=[ x.replace('mostly_','') for x in g]\n",
    "        male_female = list(set(['male','female']).intersection(g))\n",
    "        if male_female:\n",
    "            return male_female[0]\n",
    "        else:\n",
    "            return sorted(g)[0]\n",
    "            \n",
    "d=Detector()\n",
    "assert d.get_gender('Andrea',country='italy') == 'male'\n",
    "assert d.get_gender('Andrea',country='spain') == 'female'\n",
    "assert d.get_gender('Andrea',country='colombia') == 'female'"
   ]
  },
  {
   "cell_type": "code",
   "execution_count": 146,
   "id": "1ebe8f19-f152-4e41-92a3-8d7886980fd1",
   "metadata": {},
   "outputs": [
    {
     "data": {
      "text/plain": [
       "'male'"
      ]
     },
     "execution_count": 146,
     "metadata": {},
     "output_type": "execute_result"
    }
   ],
   "source": [
    "d.get_gender('Diego Alejandro',country='italy')"
   ]
  },
  {
   "cell_type": "code",
   "execution_count": 151,
   "id": "01f411b8-e327-4c7a-8dcb-5fed3c1a8b80",
   "metadata": {},
   "outputs": [
    {
     "data": {
      "text/plain": [
       "'andy'"
      ]
     },
     "execution_count": 151,
     "metadata": {},
     "output_type": "execute_result"
    }
   ],
   "source": [
    "d.get_gender('Diego Alejandro',country=)"
   ]
  },
  {
   "cell_type": "code",
   "execution_count": 10,
   "id": "67313fad-6dc7-4fb7-b58e-fce0f9def842",
   "metadata": {},
   "outputs": [],
   "source": [
    "t={'female':'F', 'male':'M', 'unknown':'U', 'mostly_female':'F', 'mostly_male':'M',\n",
    "       'andy':'A'}"
   ]
  },
  {
   "cell_type": "code",
   "execution_count": 11,
   "id": "77cf2f83-b673-4efe-bf9d-0b2eba236d24",
   "metadata": {},
   "outputs": [],
   "source": [
    "def get_gender(L):\n",
    "    if 'F' in L:\n",
    "        return 'F'\n",
    "    elif 'M' in L:\n",
    "        return 'M'\n",
    "    else:\n",
    "        return 'U'"
   ]
  },
  {
   "cell_type": "code",
   "execution_count": 12,
   "id": "35f19290-f035-4dcc-9bae-161467acd071",
   "metadata": {},
   "outputs": [],
   "source": [
    "df=df.drop_duplicates('author_TXT_NAMES_RH').reset_index(drop=True)"
   ]
  },
  {
   "cell_type": "code",
   "execution_count": 13,
   "id": "df55db20-dc1f-456e-bf8c-16676daffc7d",
   "metadata": {},
   "outputs": [
    {
     "data": {
      "text/plain": [
       "(3967, 74)"
      ]
     },
     "execution_count": 13,
     "metadata": {},
     "output_type": "execute_result"
    }
   ],
   "source": [
    "df.shape"
   ]
  },
  {
   "cell_type": "code",
   "execution_count": 14,
   "id": "8413bf2d-1a64-4243-9c15-9f70003ab802",
   "metadata": {},
   "outputs": [],
   "source": [
    "import gender_guesser.detector as GENDER\n",
    "D=GENDER.Detector(case_sensitive=False)"
   ]
  },
  {
   "cell_type": "code",
   "execution_count": 57,
   "id": "4056e423-804c-4c85-bfe9-109aad024dea",
   "metadata": {},
   "outputs": [],
   "source": [
    "LA_countries=['Brazil', 'Mexico', 'Argentina','Chile', 'Colombia','Bolivia','Cuba', #5\n",
    "              'Costa Rica', 'Ecuador', 'El Salvador', 'Guatemala', 'Honduras', #10\n",
    "               'Nicaragua', 'Panama', 'Paraguay', 'Peru', #15\n",
    "              'Dominican Republic','Uruguay','Venezuela']\n",
    "def get_country(country,countries=D.__class__.COUNTRIES,la_countries=LA_countries):\n",
    "        if country.lower() in [s.lower() for s  in la_countries if s.lower()!='brazil']:\n",
    "            return 'spain'\n",
    "        elif country.lower() == 'brazil':\n",
    "            return 'portugal'\n",
    "        elif country.lower() in countries:\n",
    "            return country.lower()\n",
    "        else:\n",
    "            return None"
   ]
  },
  {
   "cell_type": "code",
   "execution_count": 91,
   "id": "e3498eb8-d989-4fd9-9970-ee155d0e785d",
   "metadata": {},
   "outputs": [
    {
     "data": {
      "text/plain": [
       "'spain'"
      ]
     },
     "execution_count": 91,
     "metadata": {},
     "output_type": "execute_result"
    }
   ],
   "source": [
    "get_country('colombia')"
   ]
  },
  {
   "cell_type": "code",
   "execution_count": 100,
   "id": "5279764b-511b-42f9-8261-f127e32e442b",
   "metadata": {},
   "outputs": [],
   "source": [
    "def get_gender_country(name,country='spain'):\n",
    "    country = get_country(country)\n",
    "    fm=D.get_gender(name,country)\n",
    "    fm=fm.replace('mostly_','')\n",
    "    if fm not in ['male','female']:\n",
    "        fm = D.get_gender(name)\n",
    "    return fm"
   ]
  },
  {
   "cell_type": "code",
   "execution_count": 99,
   "id": "bc5f0bf7-cda3-47e9-9106-28adbb8f18c7",
   "metadata": {},
   "outputs": [
    {
     "name": "stdout",
     "output_type": "stream",
     "text": [
      "spain\n"
     ]
    },
    {
     "data": {
      "text/plain": [
       "'male'"
      ]
     },
     "execution_count": 99,
     "metadata": {},
     "output_type": "execute_result"
    }
   ],
   "source": [
    "get_gender_country('diego',country='colombia')"
   ]
  },
  {
   "cell_type": "code",
   "execution_count": 110,
   "id": "481a7f03-4292-4acd-a7b3-54d3e201bbff",
   "metadata": {},
   "outputs": [],
   "source": [
    "df['gg1'] = df.apply(lambda x: D.get_gender( x.get('author_TXT_NAMES_RH').split()[0] ) ,axis='columns') #TPO_NAL[ x.get('author_TPO_NACIONALIDAD') ]\n",
    "df['gg2'] = df.apply(lambda x: D.get_gender( x.get('author_TXT_NAMES_RH').split()[-1]   ) ,axis='columns') #TPO_NAL[ x.get('author_TPO_NACIONALIDAD')]"
   ]
  },
  {
   "cell_type": "code",
   "execution_count": 120,
   "id": "383e921d-7733-4ece-8b08-5e4c2e67c3cb",
   "metadata": {},
   "outputs": [],
   "source": [
    "df['gg1'] = df.apply(lambda x: get_gender_country( x.get('author_TXT_NAMES_RH').split()[0] ) ,axis='columns') #TPO_NAL[ x.get('author_TPO_NACIONALIDAD') ]\n",
    "df['gg2'] = df.apply(lambda x: get_gender_country( x.get('author_TXT_NAMES_RH').split()[-1]   ) ,axis='columns') #TPO_NAL[ x.get('author_TPO_NACIONALIDAD')]"
   ]
  },
  {
   "cell_type": "code",
   "execution_count": 129,
   "id": "f971a471-0932-4582-a0bf-bf4e6f61e198",
   "metadata": {},
   "outputs": [],
   "source": [
    "df['gg1'] = df.apply(lambda x: get_gender_country( x.get('author_TXT_NAMES_RH').split()[0],\n",
    "                  country=TPO_NAL[ x.get('author_TPO_NACIONALIDAD') ] ) ,axis='columns') \n",
    "df['gg2'] = df.apply(lambda x: get_gender_country( x.get('author_TXT_NAMES_RH').split()[-1],\n",
    "                  country=TPO_NAL[ x.get('author_TPO_NACIONALIDAD') ] ) ,axis='columns') "
   ]
  },
  {
   "cell_type": "code",
   "execution_count": 130,
   "id": "77fbfc45-d91a-4561-9198-63bdd7f34806",
   "metadata": {},
   "outputs": [],
   "source": [
    "df['gg1']=df['gg1'].apply(lambda d: t[d]) \n",
    "df['gg2']=df['gg2'].apply(lambda d: t[d]) "
   ]
  },
  {
   "cell_type": "code",
   "execution_count": 131,
   "id": "60fd7c9f-db3b-459a-9197-9d3f15e5376f",
   "metadata": {},
   "outputs": [],
   "source": [
    "df['gg']=df.apply(lambda d: get_gender( [d['gg1'],d['gg2']]) ,axis='columns')"
   ]
  },
  {
   "cell_type": "code",
   "execution_count": 132,
   "id": "ca3ab787-3d9d-4463-8432-6a6a912c165a",
   "metadata": {},
   "outputs": [
    {
     "data": {
      "text/html": [
       "<div>\n",
       "<style scoped>\n",
       "    .dataframe tbody tr th:only-of-type {\n",
       "        vertical-align: middle;\n",
       "    }\n",
       "\n",
       "    .dataframe tbody tr th {\n",
       "        vertical-align: top;\n",
       "    }\n",
       "\n",
       "    .dataframe thead th {\n",
       "        text-align: right;\n",
       "    }\n",
       "</style>\n",
       "<table border=\"1\" class=\"dataframe\">\n",
       "  <thead>\n",
       "    <tr style=\"text-align: right;\">\n",
       "      <th></th>\n",
       "      <th>author_TXT_TOTAL_NAMES</th>\n",
       "      <th>author_TXT_NAMES_RH</th>\n",
       "      <th>author_TPO_NACIONALIDAD</th>\n",
       "      <th>author_TPO_SEXO</th>\n",
       "      <th>gg</th>\n",
       "    </tr>\n",
       "  </thead>\n",
       "  <tbody>\n",
       "    <tr>\n",
       "      <th>2894</th>\n",
       "      <td>DIANA PATRICIA GIRALDO MENDEZ</td>\n",
       "      <td>DIANA PATRICIA</td>\n",
       "      <td>C</td>\n",
       "      <td>F</td>\n",
       "      <td>F</td>\n",
       "    </tr>\n",
       "    <tr>\n",
       "      <th>3391</th>\n",
       "      <td>PAOLA ROCIO FARFAN ARDILA</td>\n",
       "      <td>PAOLA ROCIO</td>\n",
       "      <td>C</td>\n",
       "      <td>F</td>\n",
       "      <td>F</td>\n",
       "    </tr>\n",
       "    <tr>\n",
       "      <th>3307</th>\n",
       "      <td>Leydi Camila Rodriguez Corredor</td>\n",
       "      <td>Leydi Camila</td>\n",
       "      <td>C</td>\n",
       "      <td>F</td>\n",
       "      <td>F</td>\n",
       "    </tr>\n",
       "    <tr>\n",
       "      <th>934</th>\n",
       "      <td>Oscar Arturo Zapata Norena</td>\n",
       "      <td>Oscar Arturo</td>\n",
       "      <td>C</td>\n",
       "      <td>M</td>\n",
       "      <td>M</td>\n",
       "    </tr>\n",
       "    <tr>\n",
       "      <th>3837</th>\n",
       "      <td>Cesar Anibal Olmos Severiche</td>\n",
       "      <td>Cesar Anibal</td>\n",
       "      <td>C</td>\n",
       "      <td>M</td>\n",
       "      <td>M</td>\n",
       "    </tr>\n",
       "    <tr>\n",
       "      <th>2435</th>\n",
       "      <td>Adry Liliana Manrique Lagos</td>\n",
       "      <td>Adry Liliana</td>\n",
       "      <td>C</td>\n",
       "      <td>F</td>\n",
       "      <td>F</td>\n",
       "    </tr>\n",
       "    <tr>\n",
       "      <th>2338</th>\n",
       "      <td>Carlos Jaime Velasquez Franco</td>\n",
       "      <td>Carlos Jaime</td>\n",
       "      <td>C</td>\n",
       "      <td>M</td>\n",
       "      <td>M</td>\n",
       "    </tr>\n",
       "    <tr>\n",
       "      <th>133</th>\n",
       "      <td>Gabriel Angel Quiroz Herrera</td>\n",
       "      <td>Gabriel Angel</td>\n",
       "      <td>C</td>\n",
       "      <td>M</td>\n",
       "      <td>M</td>\n",
       "    </tr>\n",
       "    <tr>\n",
       "      <th>158</th>\n",
       "      <td>Jhony Heriberto Giraldo Zuluaga</td>\n",
       "      <td>Jhony Heriberto</td>\n",
       "      <td>C</td>\n",
       "      <td>M</td>\n",
       "      <td>M</td>\n",
       "    </tr>\n",
       "    <tr>\n",
       "      <th>679</th>\n",
       "      <td>Yuliana Andrea Osorio Osorno</td>\n",
       "      <td>Yuliana Andrea</td>\n",
       "      <td>C</td>\n",
       "      <td>F</td>\n",
       "      <td>F</td>\n",
       "    </tr>\n",
       "    <tr>\n",
       "      <th>2751</th>\n",
       "      <td>Dairo Andres  Sanchez  Mojica</td>\n",
       "      <td>Dairo Andres</td>\n",
       "      <td>C</td>\n",
       "      <td>M</td>\n",
       "      <td>M</td>\n",
       "    </tr>\n",
       "    <tr>\n",
       "      <th>3640</th>\n",
       "      <td>Yessika Maria Ortega Bedoya</td>\n",
       "      <td>Yessika Maria</td>\n",
       "      <td>C</td>\n",
       "      <td>F</td>\n",
       "      <td>F</td>\n",
       "    </tr>\n",
       "    <tr>\n",
       "      <th>2130</th>\n",
       "      <td>Karen Arango Bustamante</td>\n",
       "      <td>Karen</td>\n",
       "      <td>C</td>\n",
       "      <td>F</td>\n",
       "      <td>F</td>\n",
       "    </tr>\n",
       "    <tr>\n",
       "      <th>2539</th>\n",
       "      <td>OSCAR MAURICIO  CASTANO RAMIREZ</td>\n",
       "      <td>OSCAR MAURICIO</td>\n",
       "      <td>C</td>\n",
       "      <td>M</td>\n",
       "      <td>M</td>\n",
       "    </tr>\n",
       "    <tr>\n",
       "      <th>2810</th>\n",
       "      <td>Jesus Antonio Vanegas Munoz</td>\n",
       "      <td>Jesus Antonio</td>\n",
       "      <td>C</td>\n",
       "      <td>M</td>\n",
       "      <td>M</td>\n",
       "    </tr>\n",
       "    <tr>\n",
       "      <th>744</th>\n",
       "      <td>Jorge Luis  Montoya Villegas</td>\n",
       "      <td>Jorge Luis</td>\n",
       "      <td>C</td>\n",
       "      <td>M</td>\n",
       "      <td>M</td>\n",
       "    </tr>\n",
       "    <tr>\n",
       "      <th>45</th>\n",
       "      <td>Adriana Maria Ortiz Correa</td>\n",
       "      <td>Adriana Maria</td>\n",
       "      <td>C</td>\n",
       "      <td>F</td>\n",
       "      <td>F</td>\n",
       "    </tr>\n",
       "    <tr>\n",
       "      <th>1622</th>\n",
       "      <td>Aurelio Enrique Mejia Mejia</td>\n",
       "      <td>Aurelio Enrique</td>\n",
       "      <td>C</td>\n",
       "      <td>M</td>\n",
       "      <td>M</td>\n",
       "    </tr>\n",
       "    <tr>\n",
       "      <th>3145</th>\n",
       "      <td>OSMAN DARIO FERNANDEZ BETIN</td>\n",
       "      <td>OSMAN DARIO</td>\n",
       "      <td>C</td>\n",
       "      <td>M</td>\n",
       "      <td>M</td>\n",
       "    </tr>\n",
       "    <tr>\n",
       "      <th>2143</th>\n",
       "      <td>Sandra Marcela Correa Cordoba</td>\n",
       "      <td>Sandra Marcela</td>\n",
       "      <td>C</td>\n",
       "      <td>F</td>\n",
       "      <td>F</td>\n",
       "    </tr>\n",
       "    <tr>\n",
       "      <th>3963</th>\n",
       "      <td>Johannes Stevens Ramirez Carvajal</td>\n",
       "      <td>Johannes Stevens</td>\n",
       "      <td>C</td>\n",
       "      <td>M</td>\n",
       "      <td>M</td>\n",
       "    </tr>\n",
       "    <tr>\n",
       "      <th>1631</th>\n",
       "      <td>Elkin Lubin Arias Londono</td>\n",
       "      <td>Elkin Lubin</td>\n",
       "      <td>C</td>\n",
       "      <td>M</td>\n",
       "      <td>U</td>\n",
       "    </tr>\n",
       "    <tr>\n",
       "      <th>1499</th>\n",
       "      <td>John Enrique Castiblanco Quinche</td>\n",
       "      <td>John Enrique</td>\n",
       "      <td>C</td>\n",
       "      <td>M</td>\n",
       "      <td>M</td>\n",
       "    </tr>\n",
       "    <tr>\n",
       "      <th>706</th>\n",
       "      <td>Yakeel Tatiana Quiroz Gaviria</td>\n",
       "      <td>Yakeel Tatiana</td>\n",
       "      <td>C</td>\n",
       "      <td>F</td>\n",
       "      <td>F</td>\n",
       "    </tr>\n",
       "    <tr>\n",
       "      <th>2939</th>\n",
       "      <td>Ezequiel Gonzalez Leon</td>\n",
       "      <td>Ezequiel</td>\n",
       "      <td>C</td>\n",
       "      <td>M</td>\n",
       "      <td>M</td>\n",
       "    </tr>\n",
       "    <tr>\n",
       "      <th>3208</th>\n",
       "      <td>karine Zapata florez</td>\n",
       "      <td>karine</td>\n",
       "      <td>C</td>\n",
       "      <td>F</td>\n",
       "      <td>F</td>\n",
       "    </tr>\n",
       "    <tr>\n",
       "      <th>2223</th>\n",
       "      <td>Mauricio Hernan Vasquez Gomez</td>\n",
       "      <td>Mauricio Hernan</td>\n",
       "      <td>C</td>\n",
       "      <td>M</td>\n",
       "      <td>M</td>\n",
       "    </tr>\n",
       "    <tr>\n",
       "      <th>2845</th>\n",
       "      <td>Mercedes Vallejo Gomez</td>\n",
       "      <td>Mercedes</td>\n",
       "      <td>C</td>\n",
       "      <td>F</td>\n",
       "      <td>F</td>\n",
       "    </tr>\n",
       "    <tr>\n",
       "      <th>2974</th>\n",
       "      <td>James Stevan Arango Ramirez</td>\n",
       "      <td>James Stevan</td>\n",
       "      <td>C</td>\n",
       "      <td>M</td>\n",
       "      <td>M</td>\n",
       "    </tr>\n",
       "    <tr>\n",
       "      <th>542</th>\n",
       "      <td>Alejandra Hoyos Lopez</td>\n",
       "      <td>Alejandra</td>\n",
       "      <td>C</td>\n",
       "      <td>F</td>\n",
       "      <td>F</td>\n",
       "    </tr>\n",
       "    <tr>\n",
       "      <th>94</th>\n",
       "      <td>Juan Fernando Alzate Restrepo</td>\n",
       "      <td>Juan Fernando</td>\n",
       "      <td>C</td>\n",
       "      <td>M</td>\n",
       "      <td>M</td>\n",
       "    </tr>\n",
       "    <tr>\n",
       "      <th>718</th>\n",
       "      <td>Joan Santiago Cortinez Osorio</td>\n",
       "      <td>Joan Santiago</td>\n",
       "      <td>C</td>\n",
       "      <td>M</td>\n",
       "      <td>M</td>\n",
       "    </tr>\n",
       "    <tr>\n",
       "      <th>3487</th>\n",
       "      <td>Juliver de Jesus Gil Herrera</td>\n",
       "      <td>Juliver de Jesus</td>\n",
       "      <td>C</td>\n",
       "      <td>M</td>\n",
       "      <td>M</td>\n",
       "    </tr>\n",
       "    <tr>\n",
       "      <th>1706</th>\n",
       "      <td>German Enrique Perez Romero</td>\n",
       "      <td>German Enrique</td>\n",
       "      <td>C</td>\n",
       "      <td>M</td>\n",
       "      <td>M</td>\n",
       "    </tr>\n",
       "    <tr>\n",
       "      <th>217</th>\n",
       "      <td>Juan Miguel  Giraldo  Campuzano</td>\n",
       "      <td>Juan Miguel</td>\n",
       "      <td>C</td>\n",
       "      <td>M</td>\n",
       "      <td>M</td>\n",
       "    </tr>\n",
       "    <tr>\n",
       "      <th>3705</th>\n",
       "      <td>Jhovanny Andres Mejia Guisao</td>\n",
       "      <td>Jhovanny Andres</td>\n",
       "      <td>C</td>\n",
       "      <td>M</td>\n",
       "      <td>M</td>\n",
       "    </tr>\n",
       "    <tr>\n",
       "      <th>1643</th>\n",
       "      <td>Nancy Eliana Gallo Restrepo</td>\n",
       "      <td>Nancy Eliana</td>\n",
       "      <td>C</td>\n",
       "      <td>F</td>\n",
       "      <td>F</td>\n",
       "    </tr>\n",
       "    <tr>\n",
       "      <th>1685</th>\n",
       "      <td>Alex Fernando Rua Cardona</td>\n",
       "      <td>Alex Fernando</td>\n",
       "      <td>C</td>\n",
       "      <td>M</td>\n",
       "      <td>M</td>\n",
       "    </tr>\n",
       "    <tr>\n",
       "      <th>3874</th>\n",
       "      <td>Sergio Armando Gutierrez Betancur</td>\n",
       "      <td>Sergio Armando</td>\n",
       "      <td>C</td>\n",
       "      <td>M</td>\n",
       "      <td>M</td>\n",
       "    </tr>\n",
       "    <tr>\n",
       "      <th>869</th>\n",
       "      <td>Andres Saenz Giraldo</td>\n",
       "      <td>Andres</td>\n",
       "      <td>C</td>\n",
       "      <td>M</td>\n",
       "      <td>M</td>\n",
       "    </tr>\n",
       "    <tr>\n",
       "      <th>3916</th>\n",
       "      <td>Angie Vanessa Moreno Palacios</td>\n",
       "      <td>Angie Vanessa</td>\n",
       "      <td>C</td>\n",
       "      <td>F</td>\n",
       "      <td>F</td>\n",
       "    </tr>\n",
       "    <tr>\n",
       "      <th>2781</th>\n",
       "      <td>NARLY VIVIANA GOMEZ RUEDA</td>\n",
       "      <td>NARLY VIVIANA</td>\n",
       "      <td>C</td>\n",
       "      <td>F</td>\n",
       "      <td>F</td>\n",
       "    </tr>\n",
       "    <tr>\n",
       "      <th>789</th>\n",
       "      <td>Liliana Amparo Betancur Galvis</td>\n",
       "      <td>Liliana Amparo</td>\n",
       "      <td>C</td>\n",
       "      <td>F</td>\n",
       "      <td>F</td>\n",
       "    </tr>\n",
       "    <tr>\n",
       "      <th>1211</th>\n",
       "      <td>Mario Augusto Zapata Tamayo</td>\n",
       "      <td>Mario Augusto</td>\n",
       "      <td>C</td>\n",
       "      <td>M</td>\n",
       "      <td>M</td>\n",
       "    </tr>\n",
       "    <tr>\n",
       "      <th>274</th>\n",
       "      <td>Alejandra Maria Marulanda Rodriguez</td>\n",
       "      <td>Alejandra Maria</td>\n",
       "      <td>C</td>\n",
       "      <td>F</td>\n",
       "      <td>F</td>\n",
       "    </tr>\n",
       "    <tr>\n",
       "      <th>2653</th>\n",
       "      <td>Angel Giovanni Rivera Novoa</td>\n",
       "      <td>Angel Giovanni</td>\n",
       "      <td>C</td>\n",
       "      <td>M</td>\n",
       "      <td>M</td>\n",
       "    </tr>\n",
       "    <tr>\n",
       "      <th>75</th>\n",
       "      <td>Yeison Arley Ramirez Vanegas</td>\n",
       "      <td>Yeison Arley</td>\n",
       "      <td>C</td>\n",
       "      <td>M</td>\n",
       "      <td>U</td>\n",
       "    </tr>\n",
       "    <tr>\n",
       "      <th>70</th>\n",
       "      <td>JULIAN ANDRES MUNOZ TEJADA</td>\n",
       "      <td>JULIAN ANDRES</td>\n",
       "      <td>C</td>\n",
       "      <td>M</td>\n",
       "      <td>M</td>\n",
       "    </tr>\n",
       "    <tr>\n",
       "      <th>72</th>\n",
       "      <td>Luz Gloria Cardenas Mejia</td>\n",
       "      <td>Luz Gloria</td>\n",
       "      <td>C</td>\n",
       "      <td>F</td>\n",
       "      <td>F</td>\n",
       "    </tr>\n",
       "    <tr>\n",
       "      <th>2146</th>\n",
       "      <td>Luis German Garcia Morales</td>\n",
       "      <td>Luis German</td>\n",
       "      <td>C</td>\n",
       "      <td>M</td>\n",
       "      <td>M</td>\n",
       "    </tr>\n",
       "  </tbody>\n",
       "</table>\n",
       "</div>"
      ],
      "text/plain": [
       "                   author_TXT_TOTAL_NAMES author_TXT_NAMES_RH  \\\n",
       "2894        DIANA PATRICIA GIRALDO MENDEZ      DIANA PATRICIA   \n",
       "3391            PAOLA ROCIO FARFAN ARDILA         PAOLA ROCIO   \n",
       "3307      Leydi Camila Rodriguez Corredor        Leydi Camila   \n",
       "934            Oscar Arturo Zapata Norena        Oscar Arturo   \n",
       "3837         Cesar Anibal Olmos Severiche        Cesar Anibal   \n",
       "2435          Adry Liliana Manrique Lagos        Adry Liliana   \n",
       "2338        Carlos Jaime Velasquez Franco        Carlos Jaime   \n",
       "133          Gabriel Angel Quiroz Herrera       Gabriel Angel   \n",
       "158       Jhony Heriberto Giraldo Zuluaga     Jhony Heriberto   \n",
       "679          Yuliana Andrea Osorio Osorno      Yuliana Andrea   \n",
       "2751        Dairo Andres  Sanchez  Mojica       Dairo Andres    \n",
       "3640          Yessika Maria Ortega Bedoya       Yessika Maria   \n",
       "2130              Karen Arango Bustamante               Karen   \n",
       "2539      OSCAR MAURICIO  CASTANO RAMIREZ     OSCAR MAURICIO    \n",
       "2810          Jesus Antonio Vanegas Munoz       Jesus Antonio   \n",
       "744          Jorge Luis  Montoya Villegas         Jorge Luis    \n",
       "45             Adriana Maria Ortiz Correa       Adriana Maria   \n",
       "1622          Aurelio Enrique Mejia Mejia     Aurelio Enrique   \n",
       "3145          OSMAN DARIO FERNANDEZ BETIN         OSMAN DARIO   \n",
       "2143        Sandra Marcela Correa Cordoba      Sandra Marcela   \n",
       "3963    Johannes Stevens Ramirez Carvajal    Johannes Stevens   \n",
       "1631            Elkin Lubin Arias Londono         Elkin Lubin   \n",
       "1499     John Enrique Castiblanco Quinche        John Enrique   \n",
       "706         Yakeel Tatiana Quiroz Gaviria      Yakeel Tatiana   \n",
       "2939               Ezequiel Gonzalez Leon            Ezequiel   \n",
       "3208                 karine Zapata florez              karine   \n",
       "2223        Mauricio Hernan Vasquez Gomez     Mauricio Hernan   \n",
       "2845               Mercedes Vallejo Gomez           Mercedes    \n",
       "2974          James Stevan Arango Ramirez        James Stevan   \n",
       "542                 Alejandra Hoyos Lopez          Alejandra    \n",
       "94          Juan Fernando Alzate Restrepo       Juan Fernando   \n",
       "718         Joan Santiago Cortinez Osorio       Joan Santiago   \n",
       "3487         Juliver de Jesus Gil Herrera    Juliver de Jesus   \n",
       "1706          German Enrique Perez Romero      German Enrique   \n",
       "217       Juan Miguel  Giraldo  Campuzano        Juan Miguel    \n",
       "3705         Jhovanny Andres Mejia Guisao     Jhovanny Andres   \n",
       "1643          Nancy Eliana Gallo Restrepo        Nancy Eliana   \n",
       "1685            Alex Fernando Rua Cardona       Alex Fernando   \n",
       "3874    Sergio Armando Gutierrez Betancur      Sergio Armando   \n",
       "869                  Andres Saenz Giraldo             Andres    \n",
       "3916        Angie Vanessa Moreno Palacios       Angie Vanessa   \n",
       "2781            NARLY VIVIANA GOMEZ RUEDA       NARLY VIVIANA   \n",
       "789        Liliana Amparo Betancur Galvis      Liliana Amparo   \n",
       "1211          Mario Augusto Zapata Tamayo       Mario Augusto   \n",
       "274   Alejandra Maria Marulanda Rodriguez     Alejandra Maria   \n",
       "2653          Angel Giovanni Rivera Novoa      Angel Giovanni   \n",
       "75           Yeison Arley Ramirez Vanegas        Yeison Arley   \n",
       "70             JULIAN ANDRES MUNOZ TEJADA       JULIAN ANDRES   \n",
       "72              Luz Gloria Cardenas Mejia          Luz Gloria   \n",
       "2146           Luis German Garcia Morales         Luis German   \n",
       "\n",
       "     author_TPO_NACIONALIDAD author_TPO_SEXO gg  \n",
       "2894                       C               F  F  \n",
       "3391                       C               F  F  \n",
       "3307                       C               F  F  \n",
       "934                        C               M  M  \n",
       "3837                       C               M  M  \n",
       "2435                       C               F  F  \n",
       "2338                       C               M  M  \n",
       "133                        C               M  M  \n",
       "158                        C               M  M  \n",
       "679                        C               F  F  \n",
       "2751                       C               M  M  \n",
       "3640                       C               F  F  \n",
       "2130                       C               F  F  \n",
       "2539                       C               M  M  \n",
       "2810                       C               M  M  \n",
       "744                        C               M  M  \n",
       "45                         C               F  F  \n",
       "1622                       C               M  M  \n",
       "3145                       C               M  M  \n",
       "2143                       C               F  F  \n",
       "3963                       C               M  M  \n",
       "1631                       C               M  U  \n",
       "1499                       C               M  M  \n",
       "706                        C               F  F  \n",
       "2939                       C               M  M  \n",
       "3208                       C               F  F  \n",
       "2223                       C               M  M  \n",
       "2845                       C               F  F  \n",
       "2974                       C               M  M  \n",
       "542                        C               F  F  \n",
       "94                         C               M  M  \n",
       "718                        C               M  M  \n",
       "3487                       C               M  M  \n",
       "1706                       C               M  M  \n",
       "217                        C               M  M  \n",
       "3705                       C               M  M  \n",
       "1643                       C               F  F  \n",
       "1685                       C               M  M  \n",
       "3874                       C               M  M  \n",
       "869                        C               M  M  \n",
       "3916                       C               F  F  \n",
       "2781                       C               F  F  \n",
       "789                        C               F  F  \n",
       "1211                       C               M  M  \n",
       "274                        C               F  F  \n",
       "2653                       C               M  M  \n",
       "75                         C               M  U  \n",
       "70                         C               M  M  \n",
       "72                         C               F  F  \n",
       "2146                       C               M  M  "
      ]
     },
     "execution_count": 132,
     "metadata": {},
     "output_type": "execute_result"
    }
   ],
   "source": [
    "df[['author_TXT_TOTAL_NAMES','author_TXT_NAMES_RH','author_TPO_NACIONALIDAD','author_TPO_SEXO','gg']#,'gg1_es','gg2_es','gg1_us','gg2_us']\n",
    "  ].drop_duplicates().sample(50)#[:50]"
   ]
  },
  {
   "cell_type": "code",
   "execution_count": 133,
   "id": "feaf0e1c-bbae-4630-9ae9-2ec0be02086a",
   "metadata": {},
   "outputs": [
    {
     "data": {
      "text/plain": [
       "(3967, 77)"
      ]
     },
     "execution_count": 133,
     "metadata": {},
     "output_type": "execute_result"
    }
   ],
   "source": [
    "df.shape"
   ]
  },
  {
   "cell_type": "code",
   "execution_count": 134,
   "id": "2fdd59ff-0b88-47cf-9fcc-91d2bb6318cf",
   "metadata": {},
   "outputs": [
    {
     "data": {
      "text/plain": [
       "3626"
      ]
     },
     "execution_count": 134,
     "metadata": {},
     "output_type": "execute_result"
    }
   ],
   "source": [
    "T=df[df['author_TPO_SEXO']==df['gg']].shape[0]\n",
    "T"
   ]
  },
  {
   "cell_type": "code",
   "execution_count": 135,
   "id": "0769de51-dfa8-4a39-9734-f0b90dd2ef5c",
   "metadata": {},
   "outputs": [
    {
     "data": {
      "text/plain": [
       "303"
      ]
     },
     "execution_count": 135,
     "metadata": {},
     "output_type": "execute_result"
    }
   ],
   "source": [
    "U=df[df['gg']=='U'].shape[0]\n",
    "U"
   ]
  },
  {
   "cell_type": "code",
   "execution_count": 136,
   "id": "478dd65f-e50f-425a-884a-ae98dc7a91cd",
   "metadata": {},
   "outputs": [
    {
     "data": {
      "text/plain": [
       "38"
      ]
     },
     "execution_count": 136,
     "metadata": {},
     "output_type": "execute_result"
    }
   ],
   "source": [
    "E=df[ (df['author_TPO_SEXO']!=df['gg']) & (df['gg']!='U') ][['author_TXT_TOTAL_NAMES','author_TXT_NAMES_RH',\n",
    "                                                           'author_TPO_NACIONALIDAD','author_TPO_SEXO','gg']].shape[0]\n",
    "E"
   ]
  },
  {
   "cell_type": "code",
   "execution_count": 137,
   "id": "e1133b04-a089-4d6c-8133-746ab2854e78",
   "metadata": {},
   "outputs": [
    {
     "data": {
      "text/plain": [
       "0.010479867622724766"
      ]
     },
     "execution_count": 137,
     "metadata": {},
     "output_type": "execute_result"
    }
   ],
   "source": [
    "E/T #0.13 to 0.1 with Spain"
   ]
  },
  {
   "cell_type": "code",
   "execution_count": 119,
   "id": "e5078bb7-7a19-473c-bb72-adcbb7307d94",
   "metadata": {},
   "outputs": [
    {
     "data": {
      "text/plain": [
       "0.08379424778761062"
      ]
     },
     "execution_count": 119,
     "metadata": {},
     "output_type": "execute_result"
    }
   ],
   "source": [
    "U/T #→ 0.2"
   ]
  },
  {
   "cell_type": "code",
   "execution_count": null,
   "id": "a6515269-dfe0-4c0a-ab24-6e6ad930435d",
   "metadata": {},
   "outputs": [],
   "source": []
  }
 ],
 "metadata": {
  "kernelspec": {
   "display_name": "Python 3 (ipykernel)",
   "language": "python",
   "name": "python3"
  },
  "language_info": {
   "codemirror_mode": {
    "name": "ipython",
    "version": 3
   },
   "file_extension": ".py",
   "mimetype": "text/x-python",
   "name": "python",
   "nbconvert_exporter": "python",
   "pygments_lexer": "ipython3",
   "version": "3.11.2"
  }
 },
 "nbformat": 4,
 "nbformat_minor": 5
}
