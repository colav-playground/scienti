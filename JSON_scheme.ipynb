{
 "cells": [
  {
   "cell_type": "markdown",
   "metadata": {},
   "source": [
    "# Productos ASC"
   ]
  },
  {
   "cell_type": "code",
   "execution_count": 8,
   "metadata": {},
   "outputs": [
    {
     "data": {
      "application/json": [
       {
        "abstract": "Se analizan las implicaciones económicas y sociales de la firma de un Tratado de Libre Comercio (TLC) entre nuestro país y la Unión Europea.",
        "application_sector": "Educación superior",
        "authors": [
         {
          "affiliation": [],
          "aliases": [
           "CUARTAS CELIS DEIMAN"
          ],
          "branch": {
           "COD_ID_GRUPO": "COL0079004",
           "NRO_ID_GRUPO": "00000000007181",
           "formation_year": 1997,
           "month_formation_year": 1,
           "name": "Hegemonía, Guerras y Conflictos",
           "type": "group"
          },
          "country_of_birth": "COL",
          "date_of_birth": "1976-08-10T00:00:00-05:00",
          "document": [
           {
            "type": "cédula",
            "value": "98660084"
           },
           {
            "type": "passport",
            "value": "AN-365834"
           }
          ],
          "external_ids": [
           {
            "source": "cvlac",
            "value": "0000163767"
           }
          ],
          "first_last_name": "Cuartas",
          "first_names": "Deiman",
          "full_name": "Deiman Cuartas Celis",
          "intials": "D",
          "marital_status": "married",
          "nacionality": "C",
          "profile_description": "Desde una perspectiva general, los aportes de mi carrera como académico e investigador se inscriben, en primer lugar, en contribuir en la formación de profesionales de las ciencias sociales (ciencia política, derecho, trabajo social, historia, economía) tanto a nivel de pregrado como de posgrado a escala local y regional. _x000D_\n_x000D_\nEn segundo lugar, en el ámbito investigativo y desde una perspectiva interdisciplinaria mi trabajo se enfoca en estudiar una basta y compleja literatura que analiza procesos de violencia, conflicto armado, exclusión social y patrones de desarrollo en Colombia con el objetivo de contribuir en la construcción de una \"ontología del presente\" para comprender mejor las formas de interacción, negociación y reproducción que se gestan entre el orden y la violencia. _x000D_\n_x000D_\nFinalmente, en el área de la extensión desde hace varios años participo como ponente, expositor y analista de fenómenos sociales y políticos en los temas antes enunciados, con el objetivo de contribuir en la construcción de una opinión pública más y mejor informada, así como de una ciudadanía actíva, crítica y propositiva al interior de diversas instituciones sociales y grupos poblacionales, a escala local y regional.  ",
          "registrant": [
           {
            "source": "scienti",
            "value": true
           }
          ],
          "second_last_name": "Celis",
          "sex": "M"
         },
         {
          "registrant": [
           {
            "source": "scienti",
            "value": false
           }
          ]
         }
        ],
        "date_published": {
         "date": "2010-05-22T00:00:00.000000",
         "type": "emisión"
        },
        "keywords": [
         "Economía",
         "Economía internacional",
         "Integración económica",
         "Tratado de Libre Comercio"
        ],
        "lang": "es",
        "product_subtype": [
         {
          "SGL_CATEGORIA": "GC_I-00",
          "duration": 60,
          "modelo_medicion": {
           "end": 2021,
           "initial": 2018
          },
          "title": "Entrevista"
         }
        ],
        "product_type": "Audiovisual",
        "source": {
         "city": "Medellín",
         "city_code_dane": 5001,
         "title": "Sistema de Radio Educativa de la Universidad de Antioquia",
         "type": "broadcasting station"
        },
        "source_checked": [
         {
          "COD_PRODUCTO": 12,
          "COD_RH": "0000163767",
          "source": "Scienti"
         }
        ],
        "title": "El TLC con la Unión Europea",
        "year_published": 2010
       }
      ],
      "text/plain": [
       "<IPython.core.display.JSON object>"
      ]
     },
     "execution_count": 8,
     "metadata": {
      "application/json": {
       "expanded": false,
       "root": "root"
      }
     },
     "output_type": "execute_result"
    }
   ],
   "source": [
    "from IPython.display import JSON\n",
    "#Basado en data=production: http://impactu.colav.co:8080/api/authors?apikey=colavudea&data=production&max=1&page=2&id=5fc68af7b246cc0887190aaf\n",
    "#publisher : bibtex → publisher\n",
    "#DEBUG: last_names\n",
    "#DEBUG: published_date: type: published  (:d) aceppted, preprint\n",
    "#D\n",
    "#https://en.wikipedia.org/wiki/List_of_national_identity_card_policies_by_country\n",
    "\n",
    "JSON(\n",
    "[\n",
    "    {\n",
    "        \"source_checked\":\n",
    "        [\n",
    "            {\n",
    "                #1→EN_RODUCTO\n",
    "                \"source\":\"Scienti\",\n",
    "                \"COD_RH\":\"0000163767\", #owner\n",
    "                \"COD_PRODUCTO\":12\n",
    "            }\n",
    "        ],        \n",
    "        \"title\": \"El TLC con la Unión Europea\",\n",
    "        \"abstract\": \"Se analizan las implicaciones económicas y sociales de la firma de un Tratado de Libre Comercio (TLC) entre nuestro país y la Unión Europea.\",        \n",
    "        #2→EN_TIPO_PRODUCTO\n",
    "        \"product_type\": \"Audiovisual\",   #publication_type:\n",
    "        \"product_subtype\": \n",
    "                 [{\n",
    "                   \"title\":\"Entrevista\",\n",
    "                   \"duration\":60,\n",
    "                   \"SGL_CATEGORIA\": \"GC_I-00\",\n",
    "                   \"modelo_medicion\":{\"initial\":2018, #Related to DUMP\n",
    "                                      \"end\":2021}                     \n",
    "                  }],      \n",
    "        #3→EN_PALABRA_CLAVE\n",
    "        \"keywords\": [\n",
    "            \"Economía\",\n",
    "            \"Economía internacional\",\n",
    "            \"Integración económica\",\n",
    "            \"Tratado de Libre Comercio\"\n",
    "        ],\n",
    "        #2→EN_PROD_AUDIOVISUAL\n",
    "        \"date_published\":{\"date\":\"2010-05-22T00:00:00.000000\",\n",
    "                          \"type\":\"emisión\"\n",
    "        },\n",
    "        \"year_published\":2010,\n",
    "        \"source\":{\"title\":\"Sistema de Radio Educativa de la Universidad de Antioquia\",\n",
    "                  \"type\":\"broadcasting station\",#emisora\n",
    "                  #3→EN_MUNICIPIO\n",
    "                  \"city\":\"Medellín\",\n",
    "                  \"city_code_dane\":5001\n",
    "        },\n",
    "        #2→RE_PRODUCTO_SECTOR_APL.xlsx  3→EN_SECTOR_APLICACIO\n",
    "        \"application_sector\":\"Educación superior\", #SECTOR_APLIC:\n",
    "        \"authors\":[\n",
    "             {  \n",
    "                #2→EN_RECURSO_HUMANO\n",
    "                \"full_name\":\"Deiman Cuartas Celis\",\n",
    "                \"first_names\": \"Deiman\",\n",
    "                \"first_last_name\": \"Cuartas\", #DEBUG: last_names\n",
    "                \"second_last_name\": \"Celis\", \n",
    "                \"intials\": \"D\",\n",
    "                \"date_of_birth\":\"1976-08-10T00:00:00-05:00\", #privado\n",
    "                \"country_of_birth\":\"COL\", #privado \n",
    "                \"nacionality\":\"C\", #privado\n",
    "                 \"marital_status\":\"married\", #privado\n",
    "                \"sex\":\"M\",\n",
    "                \"external_ids\":[\n",
    "                     {\"value\":\"0000163767\",\n",
    "                      \"source\":\"cvlac\"\n",
    "                     }\n",
    "                 ],\n",
    "                \"document\":[ #privado\n",
    "                    {\"value\":\"98660084\",\n",
    "                     \"type\":\"cédula\"}, #cédula_extranjeria, dni, cui ???????\n",
    "                    {\"value\":\"AN-365834\",\n",
    "                     \"type\":\"passport\"\n",
    "                    }\n",
    "                ],\n",
    "                \"registrant\":[{\"value\":True,\n",
    "                              \"source\":\"scienti\"}], #DEBUG Unificar autor de correspondencia, envio preprint\n",
    "                #GROUPS\n",
    "                \"branch\":{\"type\":\"group\",\n",
    "                          \"NRO_ID_GRUPO\":\"00000000007181\",\n",
    "                          \"COD_ID_GRUPO\":\"COL0079004\",\n",
    "                          \"name\":\"Hegemonía, Guerras y Conflictos\",\n",
    "                          \"formation_year\":1997,\n",
    "                          \"month_formation_year\":1,\n",
    "                          \"AREA_CONOCIMIENTO\":\n",
    "                         },\n",
    "                 \"affiliation\": [],\n",
    "                 \"aliases\":[\"CUARTAS CELIS DEIMAN\"],\n",
    "                 \"profile_description\":'Desde una perspectiva general, los aportes de mi carrera como académico e investigador se inscriben, en primer lugar, en contribuir en la formación de profesionales de las ciencias sociales (ciencia política, derecho, trabajo social, historia, economía) tanto a nivel de pregrado como de posgrado a escala local y regional. _x000D_\\n_x000D_\\nEn segundo lugar, en el ámbito investigativo y desde una perspectiva interdisciplinaria mi trabajo se enfoca en estudiar una basta y compleja literatura que analiza procesos de violencia, conflicto armado, exclusión social y patrones de desarrollo en Colombia con el objetivo de contribuir en la construcción de una \"ontología del presente\" para comprender mejor las formas de interacción, negociación y reproducción que se gestan entre el orden y la violencia. _x000D_\\n_x000D_\\nFinalmente, en el área de la extensión desde hace varios años participo como ponente, expositor y analista de fenómenos sociales y políticos en los temas antes enunciados, con el objetivo de contribuir en la construcción de una opinión pública más y mejor informada, así como de una ciudadanía actíva, crítica y propositiva al interior de diversas instituciones sociales y grupos poblacionales, a escala local y regional.  '},\n",
    "             #3→RE_PRODUCTO_RECURSO_HUM_OTRO\n",
    "             {\n",
    "                \"registrant\":[{\"value\":False,\n",
    "                              \"source\":\"scienti\"}] #???\n",
    "             },\n",
    "                 ],\n",
    "        #\"source\": \"http://derecho.udea.edu.co/podcast/zoomRadio.htm\", \n",
    "        \"lang\": \"es\"\n",
    "    }\n",
    "]\n",
    ")"
   ]
  },
  {
   "cell_type": "code",
   "execution_count": null,
   "metadata": {},
   "outputs": [],
   "source": []
  }
 ],
 "metadata": {
  "kernelspec": {
   "display_name": "Python 3 (ipykernel)",
   "language": "python",
   "name": "python3"
  },
  "language_info": {
   "codemirror_mode": {
    "name": "ipython",
    "version": 3
   },
   "file_extension": ".py",
   "mimetype": "text/x-python",
   "name": "python",
   "nbconvert_exporter": "python",
   "pygments_lexer": "ipython3",
   "version": "3.9.2"
  }
 },
 "nbformat": 4,
 "nbformat_minor": 4
}
