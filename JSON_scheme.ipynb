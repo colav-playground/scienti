{
 "cells": [
  {
   "cell_type": "markdown",
   "metadata": {},
   "source": [
    "# Productos ASC"
   ]
  },
  {
   "cell_type": "code",
   "execution_count": 41,
   "metadata": {},
   "outputs": [
    {
     "data": {
      "application/json": [
       {
        "abstract": "Se analizan las implicaciones económicas y sociales de la firma de un Tratado de Libre Comercio (TLC) entre nuestro país y la Unión Europea.",
        "application_sector": [
         {
          "level": 0,
          "title": "Educación superior"
         }
        ],
        "authors": [
         {
          "affiliation": [
           {
            "acronym": "UdeA",
            "addresses": [
             {
              "email": "viceinvestigacion@udea.edu.co",
              "line_1": "Calle 67 53-10",
              "telephone": "4-2195190"
             }
            ],
            "branches": [
             {
              "name": "Estudios Políticos",
              "type": "faculty"
             },
             {
              "classifications": [
               {
                "begin_date": "2019-12-06T00:00:00.000000",
                "classification": "A",
                "end_date": "2021-12-05T00:00:00.000000",
                "source": "scienti"
               }
              ],
              "descriptions": {
               "ESTADO_ARTE": "Un número importante de las investigaciones realizadas por los politólogos y los sociólogos políticos, tienen como presupuesto analítico y punto de partida la existencia de una clara separación entre lo político y lo social. Resulta más o menos obvio, que la búsqueda de autonomía de estas disciplinas y la construcción de ellas como campos especializados, se sustenta en la pretensión de justificar la existencia de estos mundos objetivos y separados. El correlato de esta distinción, en términos de los análisis de la política, es la definición del Estado como un agente político concreto, una cosa o una estructura, diferente a las estructuras de la sociedad en las cuales opera.  _x000D_\nBajo el lente de esta mirada se presupone que el Estado tiene una naturaleza universal dada, que su proceso de formación es lineal y más o menos homogéneo, que su esencia es la dominación y el establecimiento de una soberanía plena, y que su naturaleza está estrechamente vinculada a las antinomias represión/consenso, fuerza/voluntad, legitimidad/ilegitimidad, legalidad/ilegalidad, y objetivo/subjetivo. Engels, por ejemplo, afirmaba que el Estado era una institución activa y transformadora que fijaba el derecho de una clase para explotar a otra. Weber, por su parte, señalaba que el Estado era una comunidad humana que poseía el legítimo monopolio sobre el uso de la fuerza. En uno y otro caso, el Estado es un objeto material que puede ser estudiado; es un objeto que se puede señalar, asir, golpear y destruir._x000D_\nAcorde con el programa de investigación del Instituto de Estudios Políticos de la Universidad de Antioquia, el trabajo del grupo de investigación se inscribe en un enfoque de las ciencias sociales y humanas que ha cuestionado la idea de política, de estado, de nación y de ciudadanía que subyace a esa perspectiva, y que invita a un descentramiento de tales nociones para poder describir, entender y explicar la experiencia de casos que no se ajustan al modelo normativo típico o clásico.  ",
               "OBJETIVOS": "Estudiar la guerra en sus múltiples significados, en sus concepciones filosóficas y teóricas, en sus dimensiones económicas, históricas y territoriales y en sus formas de manifestación en la nación y en las regiones colombianas. Se trata de conocer las particularidades, las dinámicas y las lógicas de la guerra en Colombia, analizar las interacciones existentes entre ésta y la economía, y estudiar el conjunto de relaciones de la guerra con los procesos sociales, económicos y políticos sobre los cuales se escenifica. _x000D_\nEn el desarrollo de sus proyectos de investigación, el grupo Hegemonía, Guerras y Conflictos se pregunta, entonces, por el significado de los conflictos armados en su relación con la acción política de los actores institucionales y no institucionales, en su relación con la gestión de lo público y el diseño de políticas por parte del Estado, y en su relación con las esferas, los procesos y las prácticas sociales y culturales de los actores que viven en los escenarios en los cuales ella tiene lugar. Igualmente, interesa indagar por los impactos de la guerra sobre los órdenes institucionales, los órdenes alternativos y los territorios de frontera que se construyen y deconstruyen a la luz de la confrontación._x000D_\n",
               "PLAN_TRABAJO": "En el contexto del Plan de Desarrollo del Instituto de Estudios Políticos y del  Plan Estratégico del Grupo se han definido, para los próximos dos años,  las siguientes tareas: _x000D_\n_x000D_\nEn el ámbito académico y científico: a) crear un banco de proyectos a partir de la inscripción de un mínimo de dos proyectos en cada una de las líneas de investigación, b) servir de apoyo para el desarrollo de monografías de la Maestría en Ciencia Política y del pregrado en ciencia política de la Universidad de Antioquia, c) reafirmar, ampliar y formalizar  los convenios de cooperación existentes con otros grupos de investigación y diseñar estrategias orientadas al desarrollo conjunto de proyectos, d) facilitar y apoyar los procesos de formación doctoral de algunos de los investigadores, e) ampliar el número de investigadores del grupo con jóvenes profesionales en vías de realizar maestrías o doctorados en las áreas disciplinares que el grupo necesita, f) vincular investigadores con nivel de doctorado (o en formación doctoral) al trabajo del grupo, por medio de pasantías, g) propiciar la participación de miembros del grupo en cursos y pasantías nacionales e internacionales, h) promover la publicación de resultados de investigación en la revista Estudios Políticos y en revistas indexadas  de carácter  nacional e internacional, i) realizar un coloquio al finalizar cada año para presentar los resultados de las investigaciones y/o los avances de las mismas, y k) ampliar la cobertura del programa de jóvenes investigadores. _x000D_\n_x000D_\nEn el ámbito organizacional y financiero: a) ampliar la planta de investigadores, b) adquirir nuevo material bibliográfico, y c) buscar recursos financieros para la investigación en instituciones científicas de carácter internacional como La Fundación Friedrich Ebert, la Fundación Konrad Adenauer, el Servicio Alemán de Intercambio Académico,  la Fundación Kellog, el Programa de Naciones Unidas para el Desarrollo, el Convenio Andrés Bello y la Agencia Española de Cooperac",
               "RETOS": "El principal reto del grupo en el mediano plazo es ser un grupo de referencia en el país y en América Latina. Para el logro de este propósito el grupo debe enfrentar los siguientes retos: _x000D_\na) consolidar las líneas de investigación existentes, _x000D_\nb) realizar un seminario internacional anual, _x000D_\nc) publicar al menos dos libros anuales con resultados de investigación, _x000D_\nd) consolidar su participación en el Consorcio para la Investigación Comparativa en Integración Regional y Cohesión Social (RISC) y, _x000D_\ne) lograr la categoría ¿A¿ en la clasificación de grupos de Colciencias.",
               "VISION": "Durante los próximos años nos consolidaremos como un grupo de investigación de alta calidad académica, con una producción bibliográfica significativa, vinculado a redes nacionales e internacionales de reflexión y estudio, activo en la formación permanente de nuevos investigadores y partícipe del cumplimiento de la función social y académica de la Universidad de Antioquia."
              },
              "external_ids": [
               {
                "id": "COL0079004",
                "source": "gruplac"
               }
              ],
              "external_urls": [
               {
                "source": "scienti",
                "url": "https://scienti.colciencias.gov.co/gruplac/jsp/visualiza/visualizagr.jsp?nro=00000000007181"
               }
              ],
              "formation_year": 1997,
              "month_formation_year": 1,
              "name": "Hegemonía, Guerras y Conflictos",
              "programa_minciencias": {
               "programa": "Ciencia, Tecnología e Innovación en Ciencias Humanas, Sociales y  Educación",
               "subdirección": "Dirección De Fomento a la Investigación"
              },
              "subjects": [
               {
                "level": 0,
                "source": "area_ocde",
                "title": "Ciencias Sociales"
               },
               {
                "level": 1,
                "source": "area_ocde",
                "title": "Ciencias Políticas"
               },
               {
                "level": 2,
                "source": "area_ocde",
                "title": "Ciencias Políticas"
               }
              ],
              "type": "group"
             }
            ],
            "city": "Medellín",
            "country": "Colombia",
            "date_constitution": "1964-05-30T00:00:00.000000",
            "external_ids": [
             {
              "source": "NIT",
              "value": "890980040"
             }
            ],
            "external_urls": [
             {
              "source": "scienti",
              "url": "http://www.udea.edu.co"
             }
            ],
            "name": "UNIVERSIDAD DE ANTIOQUIA",
            "state": "ANTIOQUIA",
            "state_code": {
             "type": "DANE",
             "value": "05"
            },
            "types": [
             "Education"
            ]
           }
          ],
          "aliases": [
           "CUARTAS CELIS DEIMAN"
          ],
          "country_of_birth": "COL",
          "date_of_birth": "1976-08-10T00:00:00-05:00",
          "document": [
           {
            "type": "cédula",
            "value": "98660084"
           },
           {
            "type": "passport",
            "value": "AN-365834"
           }
          ],
          "external_ids": [
           {
            "source": "cvlac",
            "value": "0000163767"
           }
          ],
          "first_last_name": "Cuartas",
          "first_names": "Deiman",
          "full_name": "Deiman Cuartas Celis",
          "intials": "D",
          "marital_status": "married",
          "nacionality": "C",
          "profile_description": "Desde una perspectiva general, los aportes de mi carrera como académico e investigador se inscriben, en primer lugar, en contribuir en la formación de profesionales de las ciencias sociales (ciencia política, derecho, trabajo social, historia, economía) tanto a nivel de pregrado como de posgrado a escala local y regional. _x000D_\n_x000D_\nEn segundo lugar, en el ámbito investigativo y desde una perspectiva interdisciplinaria mi trabajo se enfoca en estudiar una basta y compleja literatura que analiza procesos de violencia, conflicto armado, exclusión social y patrones de desarrollo en Colombia con el objetivo de contribuir en la construcción de una \"ontología del presente\" para comprender mejor las formas de interacción, negociación y reproducción que se gestan entre el orden y la violencia. _x000D_\n_x000D_\nFinalmente, en el área de la extensión desde hace varios años participo como ponente, expositor y analista de fenómenos sociales y políticos en los temas antes enunciados, con el objetivo de contribuir en la construcción de una opinión pública más y mejor informada, así como de una ciudadanía actíva, crítica y propositiva al interior de diversas instituciones sociales y grupos poblacionales, a escala local y regional.",
          "registrant": [
           {
            "source": "scienti",
            "value": true
           }
          ],
          "role": "author",
          "second_last_name": "Celis",
          "sex": "M",
          "town_of_birth": "MEDELLÍN"
         }
        ],
        "date_published": {
         "date": "2010-05-22T00:00:00.000000",
         "type": "emisión"
        },
        "keywords": [
         "Economía",
         "Economía internacional",
         "Integración económica",
         "Tratado de Libre Comercio"
        ],
        "lang": "es",
        "mount_published": 5,
        "notes": "",
        "product_subtype": [
         {
          "SGL_CATEGORIA": "GC_I-00",
          "duration": 60,
          "title": "Entrevista"
         }
        ],
        "product_type": [
         {
          "level": 0,
          "title": "Audiovisual"
         }
        ],
        "source": {
         "city": "Medellín",
         "city_code_dane": 5001,
         "title": "Sistema de Radio Educativa de la Universidad de Antioquia",
         "type": "broadcasting station"
        },
        "source_checked": [
         {
          "COD_PRODUCTO": 12,
          "COD_RH": "0000163767",
          "source": "Scienti"
         }
        ],
        "title": "El TLC con la Unión Europea",
        "year_published": 2010
       }
      ],
      "text/plain": [
       "<IPython.core.display.JSON object>"
      ]
     },
     "execution_count": 41,
     "metadata": {
      "application/json": {
       "expanded": false,
       "root": "root"
      }
     },
     "output_type": "execute_result"
    }
   ],
   "source": [
    "from IPython.display import JSON\n",
    "#Basado en data=production: http://impactu.colav.co:8080/api/authors?apikey=colavudea&data=production&max=1&page=2&id=5fc68af7b246cc0887190aaf\n",
    "#publisher : bibtex → publisher\n",
    "#DEBUG: last_names\n",
    "#DEBUG: published_date: type: published  (:d) aceppted, preprint\n",
    "#D\n",
    "#https://en.wikipedia.org/wiki/List_of_national_identity_card_policies_by_country\n",
    "\n",
    "JSON(\n",
    "[#BEGIN → PRODUCTS\n",
    "    {\n",
    "        \"source_checked\":\n",
    "        [\n",
    "            {\n",
    "                #1→EN_RODUCTO\n",
    "                \"source\":\"Scienti\",\n",
    "                \"COD_RH\":\"0000163767\", #owner\n",
    "                \"COD_PRODUCTO\":12\n",
    "            }\n",
    "        ],        \n",
    "        \"title\": \"El TLC con la Unión Europea\",\n",
    "        \"abstract\": \"Se analizan las implicaciones económicas y sociales de la firma de un Tratado de Libre Comercio (TLC) entre nuestro país y la Unión Europea.\", \n",
    "        \"notes\":\"\",\n",
    "        #2→EN_TIPO_PRODUCTO\n",
    "        \"product_type\": [{\"title\":\"Audiovisual\",\n",
    "                          \"level\":0\n",
    "                         }],   #publication_type:\n",
    "        \"product_subtype\": \n",
    "                 [{\n",
    "                   \"title\":\"Entrevista\",\n",
    "                   \"duration\":60,\n",
    "                   \"SGL_CATEGORIA\": \"GC_I-00\",\n",
    "                   #\"modelo_medicion\":{\"initial\":2018, #Related to DUMP #es grupo no producto\n",
    "                   #                   \"end\":2021}                     \n",
    "                  }],      \n",
    "        #3→EN_PALABRA_CLAVE\n",
    "        \"keywords\": [\n",
    "            \"Economía\",\n",
    "            \"Economía internacional\",\n",
    "            \"Integración económica\",\n",
    "            \"Tratado de Libre Comercio\"\n",
    "        ],\n",
    "        #2→EN_PROD_AUDIOVISUAL\n",
    "        \"date_published\":{\"date\":\"2010-05-22T00:00:00.000000\",\n",
    "                          \"type\":\"emisión\"\n",
    "        },\n",
    "        #2→gruplac_grupo_pesquisa\n",
    "        \"year_published\":2010,\n",
    "        \"mount_published\":5,\n",
    "        \"source\":{\"title\":\"Sistema de Radio Educativa de la Universidad de Antioquia\",\n",
    "                  \"type\":\"broadcasting station\",#emisora\n",
    "                  #3→EN_MUNICIPIO\n",
    "                  \"city\":\"Medellín\",\n",
    "                  \"city_code_dane\":5001\n",
    "        },\n",
    "        #2→RE_PRODUCTO_SECTOR_APL.xlsx  3→EN_SECTOR_APLICACIO\n",
    "        \"application_sector\":[{\"title\":\"Educación superior\",\"level\":0}], #SECTOR_APLIC:\n",
    "        #\"source\": \"http://derecho.udea.edu.co/podcast/zoomRadio.htm\", \n",
    "        \"lang\": \"es\",\n",
    "    \"authors\":[#BEGIN → _AUTHORS\n",
    "               {#BEGIN → FIRST AUTHOR\n",
    "                #2→EN_RECURSO_HUMANO\n",
    "                \"full_name\":\"Deiman Cuartas Celis\",\n",
    "                \"first_names\": \"Deiman\",\n",
    "                \"first_last_name\": \"Cuartas\", #DEBUG: last_names\n",
    "                \"second_last_name\": \"Celis\", \n",
    "                \"intials\": \"D\",\n",
    "                \"date_of_birth\":\"1976-08-10T00:00:00-05:00\", #privado\n",
    "                \"country_of_birth\":\"COL\", #privado \n",
    "                \"town_of_birth\":\"MEDELLÍN\",\n",
    "                 \"nacionality\":\"C\", #privado\n",
    "                \"marital_status\":\"married\", #privado\n",
    "                \"sex\":\"M\",\n",
    "                \"role\":\"author\", #advisor\n",
    "                \"external_ids\":[\n",
    "                     {\"value\":\"0000163767\",\n",
    "                      \"source\":\"cvlac\"\n",
    "                     }],\n",
    "                \"document\":[ #privado\n",
    "                    {\"value\":\"98660084\",\n",
    "                     \"type\":\"cédula\"}, #cédula_extranjeria, dni, cui ???????\n",
    "                    {\"value\":\"AN-365834\",\n",
    "                     \"type\":\"passport\"}\n",
    "                           ],\n",
    "                \"registrant\":[{\"value\":True,\n",
    "                              \"source\":\"scienti\"}], #DEBUG Unificar autor de correspondencia, envio preprint\n",
    "                \"aliases\":[\"CUARTAS CELIS DEIMAN\"],\n",
    "                \"profile_description\":'Desde una perspectiva general, los aportes de mi carrera como académico e investigador se inscriben, en primer lugar, en contribuir en la formación de profesionales de las ciencias sociales (ciencia política, derecho, trabajo social, historia, economía) tanto a nivel de pregrado como de posgrado a escala local y regional. _x000D_\\n_x000D_\\nEn segundo lugar, en el ámbito investigativo y desde una perspectiva interdisciplinaria mi trabajo se enfoca en estudiar una basta y compleja literatura que analiza procesos de violencia, conflicto armado, exclusión social y patrones de desarrollo en Colombia con el objetivo de contribuir en la construcción de una \"ontología del presente\" para comprender mejor las formas de interacción, negociación y reproducción que se gestan entre el orden y la violencia. _x000D_\\n_x000D_\\nFinalmente, en el área de la extensión desde hace varios años participo como ponente, expositor y analista de fenómenos sociales y políticos en los temas antes enunciados, con el objetivo de contribuir en la construcción de una opinión pública más y mejor informada, así como de una ciudadanía actíva, crítica y propositiva al interior de diversas instituciones sociales y grupos poblacionales, a escala local y regional.',                                    \n",
    "                \"affiliation\": [ #BEGIN → affiliation\n",
    "                    { \n",
    "                     'name': \"UNIVERSIDAD DE ANTIOQUIA\",\n",
    "                     'acronym': \"UdeA\",\n",
    "                     'types': ['Education'], #TODO: see COD_SECTOR_ECON:241 and COD_SECTOR_ECON2:1011\n",
    "                     'addresses': [{'line_1': \"Calle 67 53-10\",\n",
    "                                   \"telephone\":\"4-2195190\",\n",
    "                                   \"email\":\"viceinvestigacion@udea.edu.co\"\n",
    "                                   }],\n",
    "                     'city': 'Medellín', #town\n",
    "                     'date_constitution': \"1964-05-30T00:00:00.000000\",                  \n",
    "                     'external_urls': [{'source': 'scienti',\n",
    "                                        'url': 'http://www.udea.edu.co'}],\n",
    "                     # EN_INSTITUCION_OTRA → EN_INSTITUCION\n",
    "                     'external_ids': [\n",
    "                                      {'source': 'NIT', 'value': '890980040'}\n",
    "                                     ],                     \n",
    "                     # EN_DEPARTAMENTO\n",
    "                     'state': \"ANTIOQUIA\",\n",
    "                     'state_code': {\"value\":\"05\",\n",
    "                                   \"type\":\"DANE\"}, #https://www.fopep.gov.co/wp-content/uploads/2019/02/Tabla-C%C3%B3digos-Dane.pdf\n",
    "                     #EN_PAIS\n",
    "                     'country': 'Colombia',\n",
    "                     'branches': \n",
    "                           [#BEGIN → branch\n",
    "                            {\n",
    "                             #EN_INSTITUCION_OTRA\n",
    "                            'name': \"Estudios Políticos\",\n",
    "                            'type': 'faculty'},\n",
    "                            {\n",
    "                            #GROUPS\n",
    "                            \"name\":\"Hegemonía, Guerras y Conflictos\",                                      \n",
    "                            \"type\":\"group\",\n",
    "                            'external_urls': [{ # → NRO_ID_GRUPO\n",
    "                                  'source': 'scienti',\n",
    "                                  'url': 'https://scienti.colciencias.gov.co/gruplac/jsp/visualiza/visualizagr.jsp?nro=00000000007181'\n",
    "                                   }],\n",
    "                            'external_ids': [{'source': 'gruplac', 'id': \"COL0079004\"}],                                \n",
    "                            \"formation_year\":1997,\n",
    "                            \"month_formation_year\":1,\n",
    "                            'subjects': [{'source': 'area_ocde','title': 'Ciencias Sociales', 'level':0},\n",
    "                                         {'source': 'area_ocde','title': 'Ciencias Políticas','level':1},\n",
    "                                         {'source': 'area_ocde','title': 'Ciencias Políticas','level':2},\n",
    "                                        ],\n",
    "                            'programa_minciencias': {'programa':'Ciencia, Tecnología e Innovación en Ciencias Humanas, Sociales y  Educación',\n",
    "                                                    'subdirección':'Dirección De Fomento a la Investigación'},\n",
    "                            \"classifications\":[{\"classification\":\"A\",\n",
    "                                                \"begin_date\":\"2019-12-06T00:00:00.000000\",\n",
    "                                                \"end_date\":\"2021-12-05T00:00:00.000000\",\n",
    "                                                \"source\":\"scienti\"\n",
    "                                               }],\n",
    "                            \"descriptions\":{\n",
    "                                'PLAN_TRABAJO': 'En el contexto del Plan de Desarrollo del Instituto de Estudios Políticos y del  Plan Estratégico del Grupo se han definido, para los próximos dos años,  las siguientes tareas: _x000D_\\n_x000D_\\nEn el ámbito académico y científico: a) crear un banco de proyectos a partir de la inscripción de un mínimo de dos proyectos en cada una de las líneas de investigación, b) servir de apoyo para el desarrollo de monografías de la Maestría en Ciencia Política y del pregrado en ciencia política de la Universidad de Antioquia, c) reafirmar, ampliar y formalizar  los convenios de cooperación existentes con otros grupos de investigación y diseñar estrategias orientadas al desarrollo conjunto de proyectos, d) facilitar y apoyar los procesos de formación doctoral de algunos de los investigadores, e) ampliar el número de investigadores del grupo con jóvenes profesionales en vías de realizar maestrías o doctorados en las áreas disciplinares que el grupo necesita, f) vincular investigadores con nivel de doctorado (o en formación doctoral) al trabajo del grupo, por medio de pasantías, g) propiciar la participación de miembros del grupo en cursos y pasantías nacionales e internacionales, h) promover la publicación de resultados de investigación en la revista Estudios Políticos y en revistas indexadas  de carácter  nacional e internacional, i) realizar un coloquio al finalizar cada año para presentar los resultados de las investigaciones y/o los avances de las mismas, y k) ampliar la cobertura del programa de jóvenes investigadores. _x000D_\\n_x000D_\\nEn el ámbito organizacional y financiero: a) ampliar la planta de investigadores, b) adquirir nuevo material bibliográfico, y c) buscar recursos financieros para la investigación en instituciones científicas de carácter internacional como La Fundación Friedrich Ebert, la Fundación Konrad Adenauer, el Servicio Alemán de Intercambio Académico,  la Fundación Kellog, el Programa de Naciones Unidas para el Desarrollo, el Convenio Andrés Bello y la Agencia Española de Cooperac',\n",
    "                                'ESTADO_ARTE': 'Un número importante de las investigaciones realizadas por los politólogos y los sociólogos políticos, tienen como presupuesto analítico y punto de partida la existencia de una clara separación entre lo político y lo social. Resulta más o menos obvio, que la búsqueda de autonomía de estas disciplinas y la construcción de ellas como campos especializados, se sustenta en la pretensión de justificar la existencia de estos mundos objetivos y separados. El correlato de esta distinción, en términos de los análisis de la política, es la definición del Estado como un agente político concreto, una cosa o una estructura, diferente a las estructuras de la sociedad en las cuales opera.  _x000D_\\nBajo el lente de esta mirada se presupone que el Estado tiene una naturaleza universal dada, que su proceso de formación es lineal y más o menos homogéneo, que su esencia es la dominación y el establecimiento de una soberanía plena, y que su naturaleza está estrechamente vinculada a las antinomias represión/consenso, fuerza/voluntad, legitimidad/ilegitimidad, legalidad/ilegalidad, y objetivo/subjetivo. Engels, por ejemplo, afirmaba que el Estado era una institución activa y transformadora que fijaba el derecho de una clase para explotar a otra. Weber, por su parte, señalaba que el Estado era una comunidad humana que poseía el legítimo monopolio sobre el uso de la fuerza. En uno y otro caso, el Estado es un objeto material que puede ser estudiado; es un objeto que se puede señalar, asir, golpear y destruir._x000D_\\nAcorde con el programa de investigación del Instituto de Estudios Políticos de la Universidad de Antioquia, el trabajo del grupo de investigación se inscribe en un enfoque de las ciencias sociales y humanas que ha cuestionado la idea de política, de estado, de nación y de ciudadanía que subyace a esa perspectiva, y que invita a un descentramiento de tales nociones para poder describir, entender y explicar la experiencia de casos que no se ajustan al modelo normativo típico o clásico.  ',\n",
    "                                'OBJETIVOS': 'Estudiar la guerra en sus múltiples significados, en sus concepciones filosóficas y teóricas, en sus dimensiones económicas, históricas y territoriales y en sus formas de manifestación en la nación y en las regiones colombianas. Se trata de conocer las particularidades, las dinámicas y las lógicas de la guerra en Colombia, analizar las interacciones existentes entre ésta y la economía, y estudiar el conjunto de relaciones de la guerra con los procesos sociales, económicos y políticos sobre los cuales se escenifica. _x000D_\\nEn el desarrollo de sus proyectos de investigación, el grupo Hegemonía, Guerras y Conflictos se pregunta, entonces, por el significado de los conflictos armados en su relación con la acción política de los actores institucionales y no institucionales, en su relación con la gestión de lo público y el diseño de políticas por parte del Estado, y en su relación con las esferas, los procesos y las prácticas sociales y culturales de los actores que viven en los escenarios en los cuales ella tiene lugar. Igualmente, interesa indagar por los impactos de la guerra sobre los órdenes institucionales, los órdenes alternativos y los territorios de frontera que se construyen y deconstruyen a la luz de la confrontación._x000D_\\n',\n",
    "                                'RETOS': 'El principal reto del grupo en el mediano plazo es ser un grupo de referencia en el país y en América Latina. Para el logro de este propósito el grupo debe enfrentar los siguientes retos: _x000D_\\na) consolidar las líneas de investigación existentes, _x000D_\\nb) realizar un seminario internacional anual, _x000D_\\nc) publicar al menos dos libros anuales con resultados de investigación, _x000D_\\nd) consolidar su participación en el Consorcio para la Investigación Comparativa en Integración Regional y Cohesión Social (RISC) y, _x000D_\\ne) lograr la categoría ¿A¿ en la clasificación de grupos de Colciencias.',\n",
    "                                'VISION': 'Durante los próximos años nos consolidaremos como un grupo de investigación de alta calidad académica, con una producción bibliográfica significativa, vinculado a redes nacionales e internacionales de reflexión y estudio, activo en la formación permanente de nuevos investigadores y partícipe del cumplimiento de la función social y académica de la Universidad de Antioquia.'                                \n",
    "                                     }    \n",
    "                            }] #END → branch\n",
    "                }] #END → affiliation\n",
    "#\n",
    "#           \n",
    "               }#, END → FIRST AUTHOR\n",
    "              #3→RE_PRODUCTO_RECURSO_HUM_OTRO\n",
    "              #{ #BEGIN → SECOND AUTHOR\n",
    "                #\"registrant\":[{\"value\":False,\n",
    "                #              \"source\":\"scienti\"}] #???\n",
    "              # } #END → SECOND AUTHOR\n",
    "    ]#END → AUTHORS        \n",
    "  }#,END → FIRST PRODUCT \n",
    "#{}# SECOND PRODUCT\n",
    "]#END → PRODUCTS\n",
    ")"
   ]
  },
  {
   "cell_type": "code",
   "execution_count": null,
   "metadata": {},
   "outputs": [],
   "source": []
  }
 ],
 "metadata": {
  "kernelspec": {
   "display_name": "Python 3 (ipykernel)",
   "language": "python",
   "name": "python3"
  },
  "language_info": {
   "codemirror_mode": {
    "name": "ipython",
    "version": 3
   },
   "file_extension": ".py",
   "mimetype": "text/x-python",
   "name": "python",
   "nbconvert_exporter": "python",
   "pygments_lexer": "ipython3",
   "version": "3.8.9"
  }
 },
 "nbformat": 4,
 "nbformat_minor": 4
}
