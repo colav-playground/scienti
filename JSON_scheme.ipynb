{
 "cells": [
  {
   "cell_type": "markdown",
   "metadata": {},
   "source": [
    "# Productos ASC"
   ]
  },
  {
   "cell_type": "code",
   "execution_count": 9,
   "metadata": {},
   "outputs": [
    {
     "data": {
      "application/json": [
       {
        "abstract": "Se analizan las implicaciones económicas y sociales de la firma de un Tratado de Libre Comercio (TLC) entre nuestro país y la Unión Europea.",
        "authors": [
         {
          "COD_RH": "0000163767",
          "affiliation": [],
          "branch": {
           "NRO_ID_GRUPO": "00000000007181",
           "type": "group"
          },
          "document": {},
          "type": "author"
         },
         {
          "COD_RH": "0000000000",
          "type": "coathor"
         }
        ],
        "document_subtype": {
         "SGL_CATEGORIA": "GC_I-00",
         "name": "Entrevista"
        },
        "document_type": "Audiovisual",
        "lang": "es",
        "source": "http://derecho.udea.edu.co/podcast/zoomRadio.htm",
        "title": "El TLC con la Unión Europea"
       }
      ],
      "text/plain": [
       "<IPython.core.display.JSON object>"
      ]
     },
     "execution_count": 9,
     "metadata": {
      "application/json": {
       "expanded": false,
       "root": "root"
      }
     },
     "output_type": "execute_result"
    }
   ],
   "source": [
    "from IPython.display import JSON\n",
    "JSON(\n",
    "[\n",
    "    {\n",
    "        \"document_type\": \"Audiovisual\",\n",
    "         \"document_subtype\": \n",
    "             {\n",
    "                 \"name\":'Entrevista',\n",
    "                  \"SGL_CATEGORIA\": \"GC_I-00\"\n",
    "             },\n",
    "         \"authors\":[\n",
    "             {\n",
    "                \"COD_RH\":\"0000163767\",\n",
    "                \"document\":{},\n",
    "                \"type\":\"author\",\n",
    "                \"branch\":{\"type\":\"group\",\n",
    "                          \"NRO_ID_GRUPO\":\"00000000007181\",\n",
    "                         },\n",
    "                 \"affiliation\": [],\n",
    "             },\n",
    "             {\n",
    "                \"COD_RH\":\"0000000000\",\n",
    "                \"type\":\"coathor\"\n",
    "             },\n",
    "                 ],\n",
    "        \"title\": \"El TLC con la Unión Europea\",\n",
    "        \"abstract\": \"Se analizan las implicaciones económicas y sociales de la firma de un Tratado de Libre Comercio (TLC) entre nuestro país y la Unión Europea.\",\n",
    "        \"source\": \"http://derecho.udea.edu.co/podcast/zoomRadio.htm\",\n",
    "        \"lang\": \"es\"\n",
    "    }\n",
    "]\n",
    ")"
   ]
  },
  {
   "cell_type": "code",
   "execution_count": null,
   "metadata": {},
   "outputs": [],
   "source": []
  }
 ],
 "metadata": {
  "kernelspec": {
   "display_name": "Python 3 (ipykernel)",
   "language": "python",
   "name": "python3"
  },
  "language_info": {
   "codemirror_mode": {
    "name": "ipython",
    "version": 3
   },
   "file_extension": ".py",
   "mimetype": "text/x-python",
   "name": "python",
   "nbconvert_exporter": "python",
   "pygments_lexer": "ipython3",
   "version": "3.7.3"
  }
 },
 "nbformat": 4,
 "nbformat_minor": 4
}
