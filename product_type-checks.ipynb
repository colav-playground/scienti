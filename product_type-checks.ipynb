{
 "cells": [
  {
   "cell_type": "markdown",
   "id": "eb5d1a03-7787-469d-94db-a4dd7d1775ea",
   "metadata": {},
   "source": [
    "## Análisis de tipos de producto CvLAC"
   ]
  },
  {
   "cell_type": "code",
   "execution_count": 1,
   "id": "23a79fb2-ed19-4f79-9d77-ce469ca729a2",
   "metadata": {},
   "outputs": [],
   "source": [
    "import pandas as pd\n",
    "import requests\n",
    "import time\n",
    "import json\n",
    "dtype={\n",
    "'COD_RH':str,\n",
    "'NRO_ID_GRUPO':str,\n",
    "'COD_RH_MUNICIPIO':str,\n",
    "'COD_INST':str,\n",
    "'COD_INST_AVALA':str,\n",
    "'COD_INST_MACRO':str,\n",
    "'COD_INSTITUCION':str,         \n",
    "'COD_INST_OTRO':str,\n",
    "'ID_DEPARTAMENTO':str,\n",
    "'COD_DEPA_DANE': str,\n",
    "'COD_MUNI_DANE':str,\n",
    "'COD_RH_OTRO':str,\n",
    "'COD_RH_COAUTOR':str,\n",
    "'COD_RH_CREA':str\n",
    " }"
   ]
  },
  {
   "cell_type": "markdown",
   "id": "02e6c6d2-1470-42ad-a1ad-19ff37a8f02e",
   "metadata": {},
   "source": [
    "# Check some products"
   ]
  },
  {
   "cell_type": "code",
   "execution_count": 2,
   "id": "e564e46b-5b9d-49b1-83d8-0b78011c1158",
   "metadata": {},
   "outputs": [],
   "source": [
    "pf=pd.read_json('product_type_NIVEL_MAX.json',dtype=dtype)"
   ]
  },
  {
   "cell_type": "code",
   "execution_count": 3,
   "id": "38d09aba-48c7-49a6-9238-62fcbf49877b",
   "metadata": {},
   "outputs": [],
   "source": [
    "JSON=False\n",
    "if JSON:\n",
    "    f=open('product_type_NIVEL_MAX.json','r')\n",
    "    pf=json.load(f)\n",
    "    f.close()"
   ]
  },
  {
   "cell_type": "markdown",
   "id": "ade21a4d-76e4-48fc-80a2-2f51bc48c43a",
   "metadata": {},
   "source": [
    "## Articles"
   ]
  },
  {
   "cell_type": "code",
   "execution_count": 4,
   "id": "0eca8189-a067-4014-8248-17eec17a4fa5",
   "metadata": {},
   "outputs": [],
   "source": [
    "producto='111: Publicado en revista especializada'\n",
    "pf=pf[pf['NIVEL_MAX']==producto].reset_index(drop=True)"
   ]
  },
  {
   "cell_type": "code",
   "execution_count": 5,
   "id": "b6a16241-8e1d-42c4-a908-ca2766fdb263",
   "metadata": {},
   "outputs": [
    {
     "data": {
      "text/plain": [
       "(65340, 5)"
      ]
     },
     "execution_count": 5,
     "metadata": {},
     "output_type": "execute_result"
    }
   ],
   "source": [
    "pf.shape"
   ]
  },
  {
   "cell_type": "code",
   "execution_count": 33,
   "id": "e0264dc9-863b-4a69-9d8d-0bc5fa669f3e",
   "metadata": {},
   "outputs": [
    {
     "name": "stdin",
     "output_type": "stream",
     "text": [
      "APIKEY:  ·········\n"
     ]
    }
   ],
   "source": [
    "import getpass\n",
    "RUN=False\n",
    "if RUN:\n",
    "    APIKEY=getpass.getpass('APIKEY: ')"
   ]
  },
  {
   "cell_type": "code",
   "execution_count": 6,
   "id": "3501b43f-2410-4a77-a6ed-e55ef2ee68c8",
   "metadata": {},
   "outputs": [
    {
     "name": "stdout",
     "output_type": "stream",
     "text": [
      "Overwriting comment_this_line_for_run.py\n"
     ]
    }
   ],
   "source": [
    "%%writefile comment_this_line_for_run.py\n",
    "store=1000\n",
    "l=[]\n",
    "for i,ds in pf.iterrows():\n",
    "    print(i,end='\\r')\n",
    "    try:\n",
    "        r=requests.get(f'http://clustercien.udea.edu.co:8080/scienti/product?apikey={APIKEY}&model_year=2018&COD_RH={ds.COD_RH}&COD_PRODUCTO={ds.COD_PRODUCTO}')\n",
    "    except:\n",
    "        time.sleep(0.1)\n",
    "        continue\n",
    "\n",
    "    d=r.json()\n",
    "    #Articles with DOI, group or SGL_CATEGORY\n",
    "    if d.get('TXT_DOI') or d.get('group') or d.get('SGL_CATEGORY'):\n",
    "        l.append(d)\n",
    "        if i%store==0:\n",
    "            print(i,end='\\r')\n",
    "            f=open('product_type_111.json','w')\n",
    "            json.dump(l,f)\n",
    "            f.close()            \n",
    "    time.sleep(0.01)\n",
    "f=open('product_type_111.json','w')\n",
    "json.dump(l,f)\n",
    "f.close()    "
   ]
  },
  {
   "cell_type": "markdown",
   "id": "fdce07d1-c5c9-46c3-be24-53c3382edf62",
   "metadata": {},
   "source": [
    "### Load articles with DOI, SGL_CATEGORY or Group"
   ]
  },
  {
   "cell_type": "code",
   "execution_count": 7,
   "id": "4f865d76-097c-43af-a9a1-087ebcbe4233",
   "metadata": {},
   "outputs": [],
   "source": [
    "f=open('product_type_111.json','r')\n",
    "l=json.load(f)\n",
    "f.close()"
   ]
  },
  {
   "cell_type": "code",
   "execution_count": 8,
   "id": "7e0687b7-d194-4c59-aa3d-db85f6700e15",
   "metadata": {},
   "outputs": [],
   "source": [
    "l=pd.DataFrame(l)"
   ]
  },
  {
   "cell_type": "code",
   "execution_count": 9,
   "id": "e940e3f9-1c49-4bf0-b945-18d4c4174a66",
   "metadata": {},
   "outputs": [
    {
     "data": {
      "text/plain": [
       "(43897, 70)"
      ]
     },
     "execution_count": 9,
     "metadata": {},
     "output_type": "execute_result"
    }
   ],
   "source": [
    "l.shape"
   ]
  },
  {
   "cell_type": "markdown",
   "id": "9c25f4c0-b2ef-4798-83d4-de6e0ad82ea6",
   "metadata": {},
   "source": [
    "### Normalize DOIS"
   ]
  },
  {
   "cell_type": "code",
   "execution_count": 11,
   "id": "1d763d84-bfbb-4204-8256-93ef92a8929c",
   "metadata": {},
   "outputs": [],
   "source": [
    "import re\n",
    "def normalize_dois(s):\n",
    "    ss=s #store NaN\n",
    "    if isinstance(s,str):\n",
    "        ss=s.strip().lower()\n",
    "        ss=re.sub('\\.$','',ss) #proper doi end\n",
    "        ss=re.split('https*:\\/\\/.*doi\\.org\\/',ss)[-1].strip() #also works with oadoi!\n",
    "        #Quality checks\n",
    "        if (re.search('https*:\\/\\/',ss) #exclude Improper URL\n",
    "            or ss.find('/')==-1 # Must contains at least one '\\/', exclude: '-', '--','00','n.a.', etc.\n",
    "            or re.search('^.\\/.$',ss) #exclude 'N/A', 'n/a' etc\n",
    "            ): \n",
    "            ss=None\n",
    "        else:\n",
    "            ss=ss.split(':')[-1].strip() #Proper doi split\n",
    "            ss=re.split('^.*doi\\.org\\/',ss)[-1].strip() #also works with oadoi!\n",
    "    return ss\n",
    "\n",
    "assert normalize_dois('10.18273/RevMed')=='10.18273/revmed'\n",
    "assert normalize_dois('doi:10.18273/revmed')=='10.18273/revmed'\n",
    "assert normalize_dois('doi: 10.18273/RevMed')=='10.18273/revmed'\n",
    "assert normalize_dois('10.3390/molecules23102662.')=='10.3390/molecules23102662'\n",
    "assert normalize_dois('https://doi.org/10.1155/2017/1702506')=='10.1155/2017/1702506'\n",
    "assert normalize_dois('http://doi.org/10.1155/2017/1702506')=='10.1155/2017/1702506'\n",
    "assert normalize_dois('http://dx.doi.org/10.1155/2017/1702506')=='10.1155/2017/1702506'\n",
    "assert normalize_dois('http://oadoi.org/10.1155/2017/1702506')=='10.1155/2017/1702506'\n",
    "assert normalize_dois('dx.doi.org/10.1155/2017/1702506')=='10.1155/2017/1702506'\n",
    "assert normalize_dois('http://www.udea.edu.co/10.1155/2017/1702506') is None\n",
    "assert normalize_dois('N/A') is None\n",
    "assert normalize_dois('-') is None\n",
    "assert normalize_dois('') is None\n",
    "assert isinstance(normalize_dois(float('NaN')),float) #return NaN\n",
    "assert normalize_dois(['10.18273/revmed','10.3823/1406'])==['10.18273/revmed','10.3823/1406'] #ignore not str objects"
   ]
  },
  {
   "cell_type": "code",
   "execution_count": 12,
   "id": "c1bcbab7-2c52-449b-98b8-d1414e45928a",
   "metadata": {},
   "outputs": [],
   "source": [
    "l['TXT_DOI']=l['TXT_DOI'].apply(normalize_dois)"
   ]
  },
  {
   "cell_type": "code",
   "execution_count": 13,
   "id": "4e98d348-8032-476d-aded-0bb6aa9539d8",
   "metadata": {},
   "outputs": [],
   "source": [
    "l['same_title']=l.TXT_NME_PROD.apply(lambda s: l[l.TXT_NME_PROD==s].shape[0] ) #slow"
   ]
  },
  {
   "cell_type": "code",
   "execution_count": 14,
   "id": "eac0c728-723b-4375-80ca-d3d1f535f044",
   "metadata": {},
   "outputs": [],
   "source": [
    "l['same_doi']=l.TXT_DOI.apply(lambda s: l[l.TXT_DOI==s].shape[0] ) #slow"
   ]
  },
  {
   "cell_type": "markdown",
   "id": "5243a8e4-f61a-40aa-ab37-b7d8b243d184",
   "metadata": {},
   "source": [
    "### Filter repeated entries"
   ]
  },
  {
   "cell_type": "markdown",
   "id": "8a360acb-030a-4d77-9246-14109eb74c14",
   "metadata": {},
   "source": [
    "* Sort by 'SGL_CATEGORIA' → 'COD_INST_AVALA' \n",
    "* Drop duplicates without subset (not in)\n",
    "```python\n",
    "  ['COD_RH','COD_PRODUCTO','DTA_CREACION','DTA_ACTUALIZACION','SEQ_PRODUCTO','DTA_VINCULACION']\n",
    "```\n",
    "  * Remove key,values inside :\n",
    "    'details' → 'article' →\n",
    "    ```python\n",
    "    ['COD_RH','COD_PRODUCTO','DTA_CREACION','DTA_ACTUALIZACION']\n",
    "    ```\n",
    "    and convert `[journal]` to `str`\n",
    "* Group by:\n",
    "  1. 'COD_INST_AVALA'\n",
    "  1. 'TXT_WEB_PRODUCTO'\n",
    "  1. 'author_others'\n",
    "  \n",
    "Conclusions: Similar entries can be different in:\n",
    "```python\n",
    " ['TXT_WEB_PRODUCTO','COD_INST_AVALA','author_others','details']\n",
    "```\n",
    "Best products have 'COD_INST_AVALA','author_others','details'→'keywords'"
   ]
  },
  {
   "cell_type": "code",
   "execution_count": 15,
   "id": "47c5da75-c964-4664-b61d-7af0178894ef",
   "metadata": {},
   "outputs": [
    {
     "data": {
      "text/plain": [
       "(43897, 72)"
      ]
     },
     "execution_count": 15,
     "metadata": {},
     "output_type": "execute_result"
    }
   ],
   "source": [
    "l.shape"
   ]
  },
  {
   "cell_type": "code",
   "execution_count": 16,
   "id": "2082b5e4-ed5c-4e9b-8ee2-be6a22f9eb39",
   "metadata": {},
   "outputs": [],
   "source": [
    "kk=l"
   ]
  },
  {
   "cell_type": "code",
   "execution_count": 17,
   "id": "d30785b5-58dd-4318-875f-d1bb4f8cc43a",
   "metadata": {},
   "outputs": [],
   "source": [
    "def remove_details_fields(l,Type=['article','keywords'],\n",
    "        remove=['COD_RH','COD_PRODUCTO','DTA_CREACION','DTA_ACTUALIZACION','COD_PALABRA_CLAVE']):\n",
    "    ll=[]\n",
    "    for d in l:\n",
    "        dd={}\n",
    "        lll=[]\n",
    "        for key in d:\n",
    "            if key in Type:\n",
    "                for di in d[key]:\n",
    "                    newdi=dict([(k,di[k]) for k in di.keys() if k not in remove ])\n",
    "                    lll.append(newdi)\n",
    "                dd[key]=lll\n",
    "            else:\n",
    "                dd[key]=d[key]\n",
    "        ll.append(dd)\n",
    "    return ll"
   ]
  },
  {
   "cell_type": "markdown",
   "id": "a0cbe758-08a6-4145-9493-00acaaba6b5e",
   "metadata": {},
   "source": [
    "Convert list ot str to apply `.drop_duplicates`"
   ]
  },
  {
   "cell_type": "code",
   "execution_count": 18,
   "id": "2187def3-e880-480a-8fea-fbfed95269f8",
   "metadata": {},
   "outputs": [],
   "source": [
    "lists=['author','language','product_type','group','author_others','details','institution','project']\n",
    "for k in lists:\n",
    "    kk[f'{k}_str']=kk[k].astype(str)"
   ]
  },
  {
   "cell_type": "markdown",
   "id": "799f48a5-a500-49f7-a8c0-e47997e91d89",
   "metadata": {},
   "source": [
    "`'details`' → special list with time stamps inside "
   ]
  },
  {
   "cell_type": "code",
   "execution_count": 19,
   "id": "ef27f693-6d64-47ff-9759-e716c053d5ac",
   "metadata": {},
   "outputs": [],
   "source": [
    "kk['details_str']=kk['details'].apply(remove_details_fields).astype(str)"
   ]
  },
  {
   "cell_type": "markdown",
   "id": "2218845b-d9cb-4f69-8b11-5d67512cee0c",
   "metadata": {},
   "source": [
    "Fields not used in search for duplicates"
   ]
  },
  {
   "cell_type": "code",
   "execution_count": 20,
   "id": "a34b7929-71bf-4283-b08b-07d888a96c05",
   "metadata": {},
   "outputs": [],
   "source": [
    "not_subset=['COD_RH','COD_PRODUCTO','DTA_CREACION','DTA_ACTUALIZACION','SEQ_PRODUCTO','DTA_VINCULACION'\n",
    "           ]+lists"
   ]
  },
  {
   "cell_type": "code",
   "execution_count": 21,
   "id": "ef0eb03f-1860-4f78-b95b-00a92087742c",
   "metadata": {},
   "outputs": [
    {
     "data": {
      "text/plain": [
       "(43897, 80)"
      ]
     },
     "execution_count": 21,
     "metadata": {},
     "output_type": "execute_result"
    }
   ],
   "source": [
    "kk.shape"
   ]
  },
  {
   "cell_type": "code",
   "execution_count": 23,
   "id": "4f884a4f-1e08-484b-ad9a-10d438e04f7a",
   "metadata": {},
   "outputs": [
    {
     "data": {
      "text/plain": [
       "(43611, 72)"
      ]
     },
     "execution_count": 23,
     "metadata": {},
     "output_type": "execute_result"
    }
   ],
   "source": [
    "n=100 #large enough\n",
    "subset=[x for x in kk.columns if x not in not_subset]\n",
    "#NaN at the the end\n",
    "kk=kk.sort_values(['DTA_AVAL_INST','TXT_DOI','group_str'])\n",
    "kkk=kk.drop_duplicates(subset=subset[:n]).drop( [x for x in kk.columns if x.find('_str')>-1 ],axis='columns' )\n",
    "kkk.shape"
   ]
  },
  {
   "cell_type": "markdown",
   "id": "b5ec8dc0-b839-4efb-8c0f-eb57bc6cd15a",
   "metadata": {},
   "source": [
    "Acceptable number of duplicated entries! Move the problem to ETL"
   ]
  },
  {
   "cell_type": "code",
   "execution_count": 24,
   "id": "3606b369-3771-4112-9fed-d27045854e9e",
   "metadata": {},
   "outputs": [],
   "source": [
    "if n<=len(subset):\n",
    "    print(subset[n-1])"
   ]
  },
  {
   "cell_type": "markdown",
   "id": "e0c01d71-4451-4b77-9079-d3d202140299",
   "metadata": {},
   "source": [
    "### Patological cases"
   ]
  },
  {
   "cell_type": "code",
   "execution_count": 25,
   "id": "c79ea75e-e04a-4864-877b-7c0d0f926140",
   "metadata": {},
   "outputs": [
    {
     "data": {
      "text/plain": [
       "{'same_doi': 32, 'TXT_DOI': '10.1093/mmy/myv019'}"
      ]
     },
     "execution_count": 25,
     "metadata": {},
     "output_type": "execute_result"
    }
   ],
   "source": [
    "doi=kk.sort_values('same_doi',ascending=False)[['same_doi','TXT_DOI']].iloc[0].to_dict()\n",
    "doi"
   ]
  },
  {
   "cell_type": "code",
   "execution_count": 26,
   "id": "73de4acd-cf17-4369-b1c8-8c291d01224a",
   "metadata": {},
   "outputs": [
    {
     "data": {
      "text/plain": [
       "(5, 72)"
      ]
     },
     "execution_count": 26,
     "metadata": {},
     "output_type": "execute_result"
    }
   ],
   "source": [
    "kkkk=kkk[kkk['TXT_DOI'].fillna('')==doi['TXT_DOI']]\n",
    "kkkk.shape"
   ]
  },
  {
   "cell_type": "markdown",
   "id": "ea692c46-ea8c-426c-a25f-a37030bc93a1",
   "metadata": {},
   "source": [
    "Same author registered the product several time (maybe update the product information several times: Recheck with thesis to understand the system)"
   ]
  },
  {
   "cell_type": "code",
   "execution_count": 27,
   "id": "1e4786bf-5d19-40de-9bfa-37743def128b",
   "metadata": {},
   "outputs": [
    {
     "data": {
      "text/html": [
       "<div>\n",
       "<style scoped>\n",
       "    .dataframe tbody tr th:only-of-type {\n",
       "        vertical-align: middle;\n",
       "    }\n",
       "\n",
       "    .dataframe tbody tr th {\n",
       "        vertical-align: top;\n",
       "    }\n",
       "\n",
       "    .dataframe thead th {\n",
       "        text-align: right;\n",
       "    }\n",
       "</style>\n",
       "<table border=\"1\" class=\"dataframe\">\n",
       "  <thead>\n",
       "    <tr style=\"text-align: right;\">\n",
       "      <th></th>\n",
       "      <th>COD_RH</th>\n",
       "      <th>COD_PRODUCTO</th>\n",
       "      <th>TXT_DOI</th>\n",
       "      <th>TXT_WEB_PRODUCTO</th>\n",
       "      <th>COD_INST_AVALA</th>\n",
       "      <th>SGL_CATEGORIA</th>\n",
       "      <th>details</th>\n",
       "    </tr>\n",
       "  </thead>\n",
       "  <tbody>\n",
       "    <tr>\n",
       "      <th>25107</th>\n",
       "      <td>0000351598</td>\n",
       "      <td>90</td>\n",
       "      <td>10.1093/mmy/myv019</td>\n",
       "      <td>http://mmy.oxfordjournals.org/content/53/5/520...</td>\n",
       "      <td>007300000887</td>\n",
       "      <td>ART-ART_A1</td>\n",
       "      <td>[{'article': [{'COD_RH': '0000351598', 'COD_PR...</td>\n",
       "    </tr>\n",
       "    <tr>\n",
       "      <th>25080</th>\n",
       "      <td>0000351598</td>\n",
       "      <td>100</td>\n",
       "      <td>10.1093/mmy/myv019</td>\n",
       "      <td>http://mmy.oxfordjournals.org/content/53/5/520...</td>\n",
       "      <td>NaN</td>\n",
       "      <td>NaN</td>\n",
       "      <td>[{'article': [{'COD_RH': '0000351598', 'COD_PR...</td>\n",
       "    </tr>\n",
       "    <tr>\n",
       "      <th>25094</th>\n",
       "      <td>0000351598</td>\n",
       "      <td>77</td>\n",
       "      <td>10.1093/mmy/myv019</td>\n",
       "      <td>http://www.oxfordjournals.org/our_journals/mmy...</td>\n",
       "      <td>NaN</td>\n",
       "      <td>NaN</td>\n",
       "      <td>[{'article': [{'COD_RH': '0000351598', 'COD_PR...</td>\n",
       "    </tr>\n",
       "    <tr>\n",
       "      <th>25095</th>\n",
       "      <td>0000351598</td>\n",
       "      <td>78</td>\n",
       "      <td>10.1093/mmy/myv019</td>\n",
       "      <td>http://mmy.oxfordjournals.org/content/53/5/520...</td>\n",
       "      <td>NaN</td>\n",
       "      <td>NaN</td>\n",
       "      <td>[{'article': [{'COD_RH': '0000351598', 'COD_PR...</td>\n",
       "    </tr>\n",
       "    <tr>\n",
       "      <th>25106</th>\n",
       "      <td>0000351598</td>\n",
       "      <td>89</td>\n",
       "      <td>10.1093/mmy/myv019</td>\n",
       "      <td>http://www.oxfordjournals.org/our_journals/mmy...</td>\n",
       "      <td>NaN</td>\n",
       "      <td>NaN</td>\n",
       "      <td>[{'article': [{'COD_RH': '0000351598', 'COD_PR...</td>\n",
       "    </tr>\n",
       "  </tbody>\n",
       "</table>\n",
       "</div>"
      ],
      "text/plain": [
       "           COD_RH COD_PRODUCTO             TXT_DOI  \\\n",
       "25107  0000351598           90  10.1093/mmy/myv019   \n",
       "25080  0000351598          100  10.1093/mmy/myv019   \n",
       "25094  0000351598           77  10.1093/mmy/myv019   \n",
       "25095  0000351598           78  10.1093/mmy/myv019   \n",
       "25106  0000351598           89  10.1093/mmy/myv019   \n",
       "\n",
       "                                        TXT_WEB_PRODUCTO COD_INST_AVALA  \\\n",
       "25107  http://mmy.oxfordjournals.org/content/53/5/520...   007300000887   \n",
       "25080  http://mmy.oxfordjournals.org/content/53/5/520...            NaN   \n",
       "25094  http://www.oxfordjournals.org/our_journals/mmy...            NaN   \n",
       "25095  http://mmy.oxfordjournals.org/content/53/5/520...            NaN   \n",
       "25106  http://www.oxfordjournals.org/our_journals/mmy...            NaN   \n",
       "\n",
       "      SGL_CATEGORIA                                            details  \n",
       "25107    ART-ART_A1  [{'article': [{'COD_RH': '0000351598', 'COD_PR...  \n",
       "25080           NaN  [{'article': [{'COD_RH': '0000351598', 'COD_PR...  \n",
       "25094           NaN  [{'article': [{'COD_RH': '0000351598', 'COD_PR...  \n",
       "25095           NaN  [{'article': [{'COD_RH': '0000351598', 'COD_PR...  \n",
       "25106           NaN  [{'article': [{'COD_RH': '0000351598', 'COD_PR...  "
      ]
     },
     "execution_count": 27,
     "metadata": {},
     "output_type": "execute_result"
    }
   ],
   "source": [
    "kkkk[['COD_RH','COD_PRODUCTO','TXT_DOI','TXT_WEB_PRODUCTO','COD_INST_AVALA','SGL_CATEGORIA','details']]"
   ]
  },
  {
   "cell_type": "markdown",
   "id": "7d3c746e-fbd3-4b28-91ab-0b785f264915",
   "metadata": {},
   "source": [
    "Check equal titles"
   ]
  },
  {
   "cell_type": "code",
   "execution_count": 28,
   "id": "cf059672-c3ed-4415-93d3-d683bc324ced",
   "metadata": {},
   "outputs": [
    {
     "data": {
      "text/plain": [
       "{'same_title': 12,\n",
       " 'TXT_NME_PROD': 'On intersubband absorption of radiation in delta-doped QWs'}"
      ]
     },
     "execution_count": 28,
     "metadata": {},
     "output_type": "execute_result"
    }
   ],
   "source": [
    "title=kk.sort_values('same_title',ascending=False)[['same_title','TXT_NME_PROD']].drop_duplicates().iloc[1].to_dict() #0 is maximum same doi\n",
    "title"
   ]
  },
  {
   "cell_type": "code",
   "execution_count": 29,
   "id": "20164ab6-600d-4a66-946d-b9152b07721f",
   "metadata": {},
   "outputs": [
    {
     "data": {
      "text/plain": [
       "(5, 72)"
      ]
     },
     "execution_count": 29,
     "metadata": {},
     "output_type": "execute_result"
    }
   ],
   "source": [
    "kkkk=kkk[kkk['TXT_NME_PROD'].fillna('')==title['TXT_NME_PROD']]\n",
    "kkkk.shape"
   ]
  },
  {
   "cell_type": "markdown",
   "id": "efd51103-3b5b-4373-bf41-b246c6984640",
   "metadata": {},
   "source": [
    "Several authors registered the same product (DOI info normalized):"
   ]
  },
  {
   "cell_type": "code",
   "execution_count": 30,
   "id": "6c00dd92-3318-4859-9690-e3253daa9254",
   "metadata": {},
   "outputs": [
    {
     "data": {
      "text/html": [
       "<div>\n",
       "<style scoped>\n",
       "    .dataframe tbody tr th:only-of-type {\n",
       "        vertical-align: middle;\n",
       "    }\n",
       "\n",
       "    .dataframe tbody tr th {\n",
       "        vertical-align: top;\n",
       "    }\n",
       "\n",
       "    .dataframe thead th {\n",
       "        text-align: right;\n",
       "    }\n",
       "</style>\n",
       "<table border=\"1\" class=\"dataframe\">\n",
       "  <thead>\n",
       "    <tr style=\"text-align: right;\">\n",
       "      <th></th>\n",
       "      <th>COD_RH</th>\n",
       "      <th>COD_PRODUCTO</th>\n",
       "      <th>TXT_DOI</th>\n",
       "      <th>TXT_WEB_PRODUCTO</th>\n",
       "      <th>COD_INST_AVALA</th>\n",
       "      <th>SGL_CATEGORIA</th>\n",
       "      <th>group</th>\n",
       "    </tr>\n",
       "  </thead>\n",
       "  <tbody>\n",
       "    <tr>\n",
       "      <th>32688</th>\n",
       "      <td>0000892076</td>\n",
       "      <td>10</td>\n",
       "      <td>10.1016/j.physe.2015.07.034</td>\n",
       "      <td>http://www.sciencedirect.com/science/article/p...</td>\n",
       "      <td>626800000880</td>\n",
       "      <td>ART-ART_A2</td>\n",
       "      <td>NaN</td>\n",
       "    </tr>\n",
       "    <tr>\n",
       "      <th>33574</th>\n",
       "      <td>0000971146</td>\n",
       "      <td>27</td>\n",
       "      <td>10.1016/j.physe.2015.07.034</td>\n",
       "      <td>www.elsevier.com/locate/physe</td>\n",
       "      <td>NaN</td>\n",
       "      <td>ART-ART_A2</td>\n",
       "      <td>NaN</td>\n",
       "    </tr>\n",
       "    <tr>\n",
       "      <th>33685</th>\n",
       "      <td>0000971146</td>\n",
       "      <td>36</td>\n",
       "      <td>10.1016/j.physe.2015.07.034</td>\n",
       "      <td>www.elsevier.com/locate/physe</td>\n",
       "      <td>NaN</td>\n",
       "      <td>ART-ART_A2</td>\n",
       "      <td>NaN</td>\n",
       "    </tr>\n",
       "    <tr>\n",
       "      <th>42439</th>\n",
       "      <td>0001532231</td>\n",
       "      <td>13</td>\n",
       "      <td>10.1016/j.physe.2015.07.034</td>\n",
       "      <td>http://www.sciencedirect.com/science/article/p...</td>\n",
       "      <td>NaN</td>\n",
       "      <td>ART-ART_A2</td>\n",
       "      <td>NaN</td>\n",
       "    </tr>\n",
       "    <tr>\n",
       "      <th>43142</th>\n",
       "      <td>0001605958</td>\n",
       "      <td>31</td>\n",
       "      <td>10.1016/j.physe.2015.07.034</td>\n",
       "      <td>NaN</td>\n",
       "      <td>NaN</td>\n",
       "      <td>ART-ART_A2</td>\n",
       "      <td>NaN</td>\n",
       "    </tr>\n",
       "  </tbody>\n",
       "</table>\n",
       "</div>"
      ],
      "text/plain": [
       "           COD_RH COD_PRODUCTO                      TXT_DOI  \\\n",
       "32688  0000892076           10  10.1016/j.physe.2015.07.034   \n",
       "33574  0000971146           27  10.1016/j.physe.2015.07.034   \n",
       "33685  0000971146           36  10.1016/j.physe.2015.07.034   \n",
       "42439  0001532231           13  10.1016/j.physe.2015.07.034   \n",
       "43142  0001605958           31  10.1016/j.physe.2015.07.034   \n",
       "\n",
       "                                        TXT_WEB_PRODUCTO COD_INST_AVALA  \\\n",
       "32688  http://www.sciencedirect.com/science/article/p...   626800000880   \n",
       "33574                      www.elsevier.com/locate/physe            NaN   \n",
       "33685                      www.elsevier.com/locate/physe            NaN   \n",
       "42439  http://www.sciencedirect.com/science/article/p...            NaN   \n",
       "43142                                                NaN            NaN   \n",
       "\n",
       "      SGL_CATEGORIA group  \n",
       "32688    ART-ART_A2   NaN  \n",
       "33574    ART-ART_A2   NaN  \n",
       "33685    ART-ART_A2   NaN  \n",
       "42439    ART-ART_A2   NaN  \n",
       "43142    ART-ART_A2   NaN  "
      ]
     },
     "execution_count": 30,
     "metadata": {},
     "output_type": "execute_result"
    }
   ],
   "source": [
    "kkkk[['COD_RH','COD_PRODUCTO','TXT_DOI','TXT_WEB_PRODUCTO','COD_INST_AVALA','SGL_CATEGORIA','group']]"
   ]
  },
  {
   "cell_type": "markdown",
   "id": "ba2fb8f9-7b2b-41e9-95d3-70ab04c5f44a",
   "metadata": {},
   "source": [
    "## Conclusions\n",
    "* The level of really duplicated entries with the same relevant metadata seem to be rather low. The may be generated manually in some patological cases. We still need to check with other products like thesis check if an update of the product generate a new `'COD_PRODUCT0'` for the old product (see doi previous table: same product, same `'COD_RH'` but differents `'COD_PRODUCT0'`\n",
    "* The information of same title or doi entries seem to be complementary:  group, aval, categories, keywords full authors info, etc\n",
    "* Generated tools that could be implemented in ETL"
   ]
  },
  {
   "cell_type": "code",
   "execution_count": null,
   "id": "efc2213c-0ecb-4346-8acd-14ca0ac72084",
   "metadata": {},
   "outputs": [],
   "source": [
    "afadfad #Emergency stop"
   ]
  },
  {
   "cell_type": "markdown",
   "id": "fcc4a103-9f72-4ba1-b650-2f1cb2fc9d64",
   "metadata": {
    "tags": []
   },
   "source": [
    "## Appendix\n",
    "Understand the data"
   ]
  },
  {
   "cell_type": "code",
   "execution_count": null,
   "id": "b31189d1-ba27-41a7-9bbf-729e9cb1f0fc",
   "metadata": {},
   "outputs": [],
   "source": [
    "qq=pd.DataFrame( kkk.iloc[1:]['details'].str[0].str['article'].str[0].to_list())\n",
    "qq['journal']=qq['journal'].astype(str)\n",
    "qq[[k for k in qq.columns if k not in ['COD_RH', 'COD_PRODUCTO',\n",
    "                    'DTA_CREACION','DTA_ACTUALIZACION'] ]].drop_duplicates()"
   ]
  },
  {
   "cell_type": "code",
   "execution_count": null,
   "id": "5379f393-587d-4604-9063-312437599bd0",
   "metadata": {},
   "outputs": [],
   "source": [
    "diffs=['COD_RH','COD_PRODUCTO','SGL_CATEGORIA','TXT_WEB_PRODUCTO','DTA_CREACION',\n",
    "       'DTA_ACTUALIZACION','DTA_AVAL_INST','TPO_AVAL_INST','COD_INST_AVALA',\n",
    "       'ID_USUARIO_AVAL','SEQ_PRODUCTO','DTA_VINCULACION','STA_MEDIDO',\n",
    "       'author_others','details','institution']\n",
    "#Extract product with TPO_AVAL_INST\n",
    "DIFFS=['SGL_CATEGORIA','TXT_WEB_PRODUCTO','DTA_AVAL_INST','TPO_AVAL_INST','COD_INST_AVALA',\n",
    "       'ID_USUARIO_AVAL','SEQ_PRODUCTO','DTA_VINCULACION','STA_MEDIDO',\n",
    "       'author_others','details','institution']\n",
    "lists=['author','language','product_type','group']"
   ]
  },
  {
   "cell_type": "code",
   "execution_count": null,
   "id": "1c267f32-3183-4fcb-84ce-3f62818a6b85",
   "metadata": {},
   "outputs": [],
   "source": []
  },
  {
   "cell_type": "markdown",
   "id": "58c1affe-292a-4256-9413-66fc674a8d86",
   "metadata": {},
   "source": [
    "Fill the previous lists"
   ]
  },
  {
   "cell_type": "code",
   "execution_count": null,
   "id": "398dcd28-e168-476a-90db-c8dd78062ce6",
   "metadata": {},
   "outputs": [],
   "source": [
    "kkk=kk[[k for k in kk.columns if k not in diffs]].reset_index(drop=True)"
   ]
  },
  {
   "cell_type": "code",
   "execution_count": null,
   "id": "56645490-d8e6-4cdd-a8b0-d0b2da76ce66",
   "metadata": {},
   "outputs": [],
   "source": [
    "kkkk=kkk[list(kkk.columns)+lists].reset_index(drop=True)"
   ]
  },
  {
   "cell_type": "code",
   "execution_count": null,
   "id": "7c2721e1-20a3-4d0d-aaeb-7491fa19411c",
   "metadata": {},
   "outputs": [],
   "source": [
    "for k in lists:\n",
    "    kkkk[k]=kkkk[k].astype(str)\n",
    "kkkk.drop_duplicates()"
   ]
  },
  {
   "cell_type": "markdown",
   "id": "0e142b27-90d0-4604-b8c4-a53a7a0809d3",
   "metadata": {},
   "source": [
    "Best"
   ]
  },
  {
   "cell_type": "code",
   "execution_count": null,
   "id": "fcb13f10-5a9c-4bf6-a135-573b2686e2ac",
   "metadata": {},
   "outputs": [],
   "source": [
    "kkk=kk[DIFFS].sort_values(['SGL_CATEGORIA','TXT_WEB_PRODUCTO'])\n",
    "BEST=kkk.iloc[[0]]\n",
    "BEST"
   ]
  },
  {
   "cell_type": "markdown",
   "id": "30e179f4-9df9-4561-803e-61de9ffe1952",
   "metadata": {},
   "source": [
    "Others"
   ]
  },
  {
   "cell_type": "code",
   "execution_count": null,
   "id": "3a02a577-3853-4b56-b839-3044151da9af",
   "metadata": {},
   "outputs": [],
   "source": [
    "WORST=kkk.iloc[1:].drop_duplicates(['DTA_AVAL_INST','TPO_AVAL_INST','COD_INST_AVALA',\n",
    "                                    'ID_USUARIO_AVAL','STA_MEDIDO'])\n",
    "WORST"
   ]
  },
  {
   "cell_type": "code",
   "execution_count": null,
   "id": "2dcb0f3f-bba3-4ae7-8c40-cb12cf1e33df",
   "metadata": {},
   "outputs": [],
   "source": [
    "qq=pd.DataFrame( kkk.iloc[1:]['details'].str[0].str['article'].str[0].to_list())\n",
    "qq['journal']=qq['journal'].astype(str)\n",
    "qq[[k for k in qq.columns if k not in ['COD_RH', 'COD_PRODUCTO',\n",
    "                    'DTA_CREACION','DTA_ACTUALIZACION'] ]].drop_duplicates()"
   ]
  },
  {
   "cell_type": "code",
   "execution_count": null,
   "id": "6e83f5ea-db5d-47b5-82eb-9583f2767998",
   "metadata": {},
   "outputs": [],
   "source": [
    "kkk.iloc[1:]['institution'].astype(str).drop_duplicates()"
   ]
  },
  {
   "cell_type": "code",
   "execution_count": null,
   "id": "029ec4a3-0ea4-4c65-990b-80d917c13105",
   "metadata": {},
   "outputs": [],
   "source": [
    "kkk.iloc[1:].drop_duplicates(['TXT_WEB_PRODUCTO'])['TXT_WEB_PRODUCTO']"
   ]
  },
  {
   "cell_type": "code",
   "execution_count": null,
   "id": "df0ff2e6-70b1-4d7d-afb3-08559404abe1",
   "metadata": {},
   "outputs": [],
   "source": [
    "kkk.iloc[1:]['author_others'].astype(str).drop_duplicates()"
   ]
  },
  {
   "cell_type": "code",
   "execution_count": null,
   "id": "56b9a87b-18b9-44c3-a26e-8ff5e709505e",
   "metadata": {},
   "outputs": [],
   "source": [
    "kkk.iloc[1:][kkk.iloc[1:]['author_others'].apply(len)>1]"
   ]
  },
  {
   "cell_type": "markdown",
   "id": "ade38440-9c1e-42e0-b012-a347c8ea07e5",
   "metadata": {},
   "source": [
    "Repeated"
   ]
  },
  {
   "cell_type": "code",
   "execution_count": null,
   "id": "1dd855d3-2cef-4fef-9570-e04065bddf63",
   "metadata": {},
   "outputs": [],
   "source": [
    "rr=kkk.iloc[1:]\n",
    "rr=rr.sort_values('TXT_WEB_PRODUCTO')[:19]\n",
    "rr['author_others'].astype(str).drop_duplicates()"
   ]
  },
  {
   "cell_type": "code",
   "execution_count": null,
   "id": "0fc6ae7c-c91f-4c78-a002-e4bc3000c8b8",
   "metadata": {},
   "outputs": [],
   "source": [
    "rr[:1]"
   ]
  },
  {
   "cell_type": "code",
   "execution_count": null,
   "id": "896fd56d-479b-485f-b4f7-3a19a16645c2",
   "metadata": {},
   "outputs": [],
   "source": [
    "rr2=kkk.iloc[1:]\n",
    "rr2=rr2.sort_values('TXT_WEB_PRODUCTO')[19:]\n",
    "print(rr2.shape[0])\n",
    "rr2=rr2[rr2['author_others'].apply(len)==1]\n",
    "rr2"
   ]
  },
  {
   "cell_type": "code",
   "execution_count": null,
   "id": "97fe3017-fbfd-4b72-8b0b-90ae32258f08",
   "metadata": {},
   "outputs": [],
   "source": [
    "pd.DataFrame( kk['group'].str[0].to_list() )[\n",
    "    ['NRO_ID_GRUPO', 'COD_ID_GRUPO', 'NME_GRUPO', 'ANO_FORMACAO',\n",
    "       'MES_FORMACAO', 'COD_RH_AREA', 'COD_AREA_CONHEC', 'COD_PROGRAMA',\n",
    "       'COD_PROGRAMA_SECUND', 'TPO_ESTADO_GR', 'TXT_CLASIF', 'DTA_CLASIF',\n",
    "       'DTA_FIN_CLASIF', 'TPO_GRUPO', 'DTA_TPO_GRUPO', 'STA_ELIMINADO',\n",
    "       'TXT_PLAN_TRABAJO', 'TXT_ESTADO_ARTE', 'TXT_OBJETIVOS', 'TXT_RETOS',\n",
    "       'TXT_VISION', 'STA_CERTIFICADO', 'DTA_CERTIFICADO', 'DTA_CREACION',\n",
    "       'DTA_ACTUALIZACION', 'COD_CERTIFICACION', 'DTA_INI_SESION',\n",
    "       'TXT_CLASIF_1', 'COD_GRAN_AREA_CONHEC_MED', 'STA_CENTRO', 'TPO_CENTRO',\n",
    "       'STA_SECTOR', 'NRO_INTENTOS', 'STA_ACTIVO', 'COD_AREA_CONHEC_BK']].drop_duplicates()"
   ]
  },
  {
   "cell_type": "code",
   "execution_count": null,
   "id": "63f9a971-2a33-417f-a31b-0ec6ef2dd31c",
   "metadata": {},
   "outputs": [],
   "source": [
    "kk.shape"
   ]
  },
  {
   "cell_type": "code",
   "execution_count": null,
   "id": "7c577d59-aad6-41fe-a5f9-d232a3352ce3",
   "metadata": {},
   "outputs": [],
   "source": [
    "kk.drop_duplicates().shape"
   ]
  },
  {
   "cell_type": "code",
   "execution_count": null,
   "id": "1bca8cd4-f0ca-4f61-a05f-564ceda6500f",
   "metadata": {},
   "outputs": [],
   "source": []
  }
 ],
 "metadata": {
  "kernelspec": {
   "display_name": "Python 3 (ipykernel)",
   "language": "python",
   "name": "python3"
  },
  "language_info": {
   "codemirror_mode": {
    "name": "ipython",
    "version": 3
   },
   "file_extension": ".py",
   "mimetype": "text/x-python",
   "name": "python",
   "nbconvert_exporter": "python",
   "pygments_lexer": "ipython3",
   "version": "3.9.2"
  }
 },
 "nbformat": 4,
 "nbformat_minor": 5
}
