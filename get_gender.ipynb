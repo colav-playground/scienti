{
 "cells": [
  {
   "cell_type": "markdown",
   "id": "61923d08-7c06-4143-8b28-796727204f2f",
   "metadata": {},
   "source": [
    "https://www.ncbi.nlm.nih.gov/pmc/articles/PMC7924484/\n",
    "\n",
    "https://codingfleet.com/transformation-details/determining-gender-by-name-with-python/"
   ]
  },
  {
   "cell_type": "code",
   "execution_count": 1,
   "id": "6a04257e-8775-4ef5-9713-c22e54a1901b",
   "metadata": {},
   "outputs": [
    {
     "name": "stdout",
     "output_type": "stream",
     "text": [
      "Overwriting gender_guesser_first_names.py\n"
     ]
    }
   ],
   "source": [
    "%%writefile gender_guesser_first_names.py\n",
    "import gender_guesser.detector as GENDER\n",
    "\n",
    "class Detector:\n",
    "    '''\n",
    "    * Works for all countries\n",
    "    * convert mostly_(fe)male to (fe)male\n",
    "    * Works for composed names by finding the first female or male and ignoring the other ones\n",
    "    '''\n",
    "    LA_countries=['Brazil', 'Mexico', 'Argentina','Chile', 'Colombia','Bolivia','Cuba', #5\n",
    "              'Costa Rica', 'Ecuador', 'El Salvador', 'Guatemala', 'Honduras', #10\n",
    "               'Nicaragua', 'Panama', 'Paraguay', 'Peru', #15\n",
    "              'Dominican Republic','Uruguay','Venezuela']\n",
    "    \n",
    "    def __init__(self,case_sensitive=False):\n",
    "        self.case_sensitive = case_sensitive\n",
    "    #case_sensitive = False\n",
    "        self.D=GENDER.Detector(case_sensitive=self.case_sensitive)\n",
    "\n",
    "    def get_country(self,country):\n",
    "        if country.lower() in [s.lower() for s  in self.LA_countries if s.lower()!='brazil']:\n",
    "            return 'spain'\n",
    "        elif country.lower() == 'brazil':\n",
    "            return 'portugal'\n",
    "        elif country.lower() in self.D.__class__.COUNTRIES:\n",
    "            return country.lower()\n",
    "        else:\n",
    "            return None\n",
    "\n",
    "    def get_gender_country(self,name,country=None):\n",
    "        if country:\n",
    "            country = self.get_country(country)\n",
    "            fm=self.D.get_gender(name,country)\n",
    "            fm=fm.replace('mostly_','')\n",
    "        else:\n",
    "            fm='unknown'\n",
    "        if fm not in ['male','female']:\n",
    "            fm = self.D.get_gender(name)\n",
    "            fm=fm.replace('mostly_','')\n",
    "        return fm  \n",
    "    \n",
    "    def get_gender(self,names,country=None):\n",
    "        for name in names.split():\n",
    "            fm = self.get_gender_country(name,country=country)\n",
    "            if fm in ['male','female']:\n",
    "                break\n",
    "        return fm\n",
    "\n",
    "            \n",
    "d=Detector()\n",
    "assert d.get_gender('Andrea',country='italy') == 'male'\n",
    "assert d.get_gender('Andrea',country='spain') == 'female'\n",
    "assert d.get_gender('Andrea',country='colombia') == 'female'\n",
    "assert d.get_gender('Diego',country='colombia') == 'male'\n",
    "assert d.get_gender('Alejandro',country='colombia') == 'male'\n",
    "assert d.get_gender('Diego Alejandro',country='colombia') == 'male'\n",
    "# https://www.reddit.com/r/namenerds/comments/178mdjr/names_that_are_different_genders_in_different/\n",
    "assert d.get_gender('Valery',country='russia') == 'male'\n",
    "assert d.get_gender('Valery',country='usa') == 'female'\n",
    "assert d.get_gender('Marian',country='poland') == 'male'\n",
    "assert d.get_gender('Marian',country='usa') == 'female'\n",
    "assert d.get_gender('Kim',country='denmark') == 'male'\n",
    "assert d.get_gender('Kim',country='spanish') == 'female'\n",
    "assert d.get_gender('Jan',country='germany') == 'male'\n",
    "assert d.get_gender('Jan',country='usa') == 'female'"
   ]
  },
  {
   "cell_type": "code",
   "execution_count": 2,
   "id": "35f71dbf-6b08-44d7-9757-3c9a55e79d67",
   "metadata": {},
   "outputs": [],
   "source": [
    "import gender_guesser_first_names as gender "
   ]
  },
  {
   "cell_type": "code",
   "execution_count": 3,
   "id": "fbdaa1aa-057a-4f5e-9d3e-f6d2f66fd6da",
   "metadata": {},
   "outputs": [],
   "source": [
    "d=gender.Detector(case_sensitive=False)"
   ]
  },
  {
   "cell_type": "code",
   "execution_count": 4,
   "id": "a03cd682-ae52-4fe2-9def-eaa613434020",
   "metadata": {},
   "outputs": [],
   "source": [
    "import pandas as pd\n",
    "\n",
    "df = pd.read_csv('https://raw.githubusercontent.com/colav-playground/scienti/main/data/test_gender.csv')\n",
    "#Add special cases\n",
    "df = pd.concat([df,   pd.DataFrame([{'names':'Andrea','country':'italy','gender':'male'}])])\n",
    "\n",
    "df['gg'] = df.apply(lambda x: d.get_gender( x.get('names'),\n",
    "                  country= x.get('country') ) ,axis='columns')\n",
    "\n",
    "assert df.shape[0] == 3968\n",
    "\n",
    "T=df[df['gender']==df['gg']].shape[0]\n",
    "assert T == 3630\n",
    "\n",
    "U=df[df['gg']=='unknown'].shape[0]\n",
    "assert U == 298\n",
    "\n",
    "E=df[ (df['gender']!=df['gg']) & (df['gg']!='unknown') ][['names',\n",
    "                                                          'country','gender','gg']].shape[0]\n",
    "assert E == 40"
   ]
  },
  {
   "cell_type": "code",
   "execution_count": 5,
   "id": "e1133b04-a089-4d6c-8133-746ab2854e78",
   "metadata": {},
   "outputs": [
    {
     "data": {
      "text/plain": [
       "0.011019283746556474"
      ]
     },
     "execution_count": 5,
     "metadata": {},
     "output_type": "execute_result"
    }
   ],
   "source": [
    "E/T #0.13 to 0.1 with Spain"
   ]
  },
  {
   "cell_type": "code",
   "execution_count": 6,
   "id": "e5078bb7-7a19-473c-bb72-adcbb7307d94",
   "metadata": {},
   "outputs": [
    {
     "data": {
      "text/plain": [
       "0.08209366391184574"
      ]
     },
     "execution_count": 6,
     "metadata": {},
     "output_type": "execute_result"
    }
   ],
   "source": [
    "U/T "
   ]
  }
 ],
 "metadata": {
  "kernelspec": {
   "display_name": "Python 3 (ipykernel)",
   "language": "python",
   "name": "python3"
  },
  "language_info": {
   "codemirror_mode": {
    "name": "ipython",
    "version": 3
   },
   "file_extension": ".py",
   "mimetype": "text/x-python",
   "name": "python",
   "nbconvert_exporter": "python",
   "pygments_lexer": "ipython3",
   "version": "3.11.2"
  }
 },
 "nbformat": 4,
 "nbformat_minor": 5
}
