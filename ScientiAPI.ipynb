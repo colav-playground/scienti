{
 "cells": [
  {
   "cell_type": "markdown",
   "id": "5909249b-e09e-417e-9638-dda251085440",
   "metadata": {},
   "source": [
    "# Scienti API"
   ]
  },
  {
   "cell_type": "code",
   "execution_count": 1,
   "id": "f86f585b-533e-487f-a320-83c591139786",
   "metadata": {
    "tags": []
   },
   "outputs": [],
   "source": [
    "import requests\n",
    "import getpass\n",
    "import pandas as pd\n",
    "from IPython.display import JSON\n",
    "import time"
   ]
  },
  {
   "cell_type": "markdown",
   "id": "4628f7d0-7f09-4570-8692-da22eb5a9405",
   "metadata": {},
   "source": [
    "## Obtain products of \"Apropiación Social del Conocimiento\" (ASC) from Scienti API"
   ]
  },
  {
   "cell_type": "markdown",
   "id": "b920fea0-9111-466f-9720-989b86439be2",
   "metadata": {},
   "source": [
    "### Read `\"NIVEL_MAX\"` for products of ASC"
   ]
  },
  {
   "cell_type": "code",
   "execution_count": 2,
   "id": "448f9cd7-a510-4d4f-9dd1-8befd1e59ae1",
   "metadata": {
    "tags": []
   },
   "outputs": [
    {
     "name": "stderr",
     "output_type": "stream",
     "text": [
      "/usr/local/lib/python3.9/dist-packages/openpyxl/worksheet/_reader.py:312: UserWarning: Unknown extension is not supported and will be removed\n",
      "  warn(msg)\n"
     ]
    }
   ],
   "source": [
    "asc=pd.read_excel('https://docs.google.com/spreadsheets/d/e/2PACX-1vSjpIpwy89MwRwJdXNy0_Z5zCK6XrieZ2_Cf7i1SQTuk4b_hRrNzuCTBgQe3eTOew/pub?output=xlsx')"
   ]
  },
  {
   "cell_type": "code",
   "execution_count": 4,
   "id": "72599cc0-a509-455f-be38-f60289e14678",
   "metadata": {},
   "outputs": [
    {
     "data": {
      "text/html": [
       "<div>\n",
       "<style scoped>\n",
       "    .dataframe tbody tr th:only-of-type {\n",
       "        vertical-align: middle;\n",
       "    }\n",
       "\n",
       "    .dataframe tbody tr th {\n",
       "        vertical-align: top;\n",
       "    }\n",
       "\n",
       "    .dataframe thead th {\n",
       "        text-align: right;\n",
       "    }\n",
       "</style>\n",
       "<table border=\"1\" class=\"dataframe\">\n",
       "  <thead>\n",
       "    <tr style=\"text-align: right;\">\n",
       "      <th></th>\n",
       "      <th>COD_RH</th>\n",
       "      <th>COD_PRODUCTO</th>\n",
       "      <th>SGL_CATEGORIA</th>\n",
       "      <th>NIVEL_0</th>\n",
       "      <th>NIVEL_1</th>\n",
       "      <th>NIVEL_2</th>\n",
       "      <th>NIVEL_3</th>\n",
       "      <th>NIVEL_MAX</th>\n",
       "      <th>NÚMERO</th>\n",
       "      <th>CATEGORIAS</th>\n",
       "      <th>ASC</th>\n",
       "    </tr>\n",
       "  </thead>\n",
       "  <tbody>\n",
       "    <tr>\n",
       "      <th>0</th>\n",
       "      <td>150.0</td>\n",
       "      <td>2.0</td>\n",
       "      <td>ART-00</td>\n",
       "      <td>1: Producción bibliográfica</td>\n",
       "      <td>11: Artículo</td>\n",
       "      <td>111: Publicado en revista especializada</td>\n",
       "      <td>NaN</td>\n",
       "      <td>111: Publicado en revista especializada</td>\n",
       "      <td>72886.0</td>\n",
       "      <td>['ART-00', 'ART-ART', 'ART-GC', 'EPA-EPA', 'PE...</td>\n",
       "      <td>0</td>\n",
       "    </tr>\n",
       "  </tbody>\n",
       "</table>\n",
       "</div>"
      ],
      "text/plain": [
       "   COD_RH  COD_PRODUCTO SGL_CATEGORIA                      NIVEL_0  \\\n",
       "0   150.0           2.0        ART-00  1: Producción bibliográfica   \n",
       "\n",
       "        NIVEL_1                                  NIVEL_2 NIVEL_3  \\\n",
       "0  11: Artículo  111: Publicado en revista especializada     NaN   \n",
       "\n",
       "                                 NIVEL_MAX   NÚMERO  \\\n",
       "0  111: Publicado en revista especializada  72886.0   \n",
       "\n",
       "                                          CATEGORIAS  ASC  \n",
       "0  ['ART-00', 'ART-ART', 'ART-GC', 'EPA-EPA', 'PE...    0  "
      ]
     },
     "execution_count": 4,
     "metadata": {},
     "output_type": "execute_result"
    }
   ],
   "source": [
    "asc[:1]"
   ]
  },
  {
   "cell_type": "code",
   "execution_count": 5,
   "id": "06802428-0d5b-40b4-b668-50d16ca7b466",
   "metadata": {
    "tags": []
   },
   "outputs": [],
   "source": [
    "dasc=dict(asc[asc['ASC']==1]['NIVEL_MAX'].str.split(': ').str[:2].to_list())"
   ]
  },
  {
   "cell_type": "markdown",
   "id": "3e8d4380-6bca-4882-b045-79290506231c",
   "metadata": {},
   "source": [
    "### Get all products ids from Scienti API"
   ]
  },
  {
   "cell_type": "code",
   "execution_count": 7,
   "id": "d77e015c-b850-46b5-889d-5e649632ff75",
   "metadata": {
    "tags": []
   },
   "outputs": [
    {
     "name": "stdin",
     "output_type": "stream",
     "text": [
      "API KEY ········\n"
     ]
    }
   ],
   "source": [
    "k=getpass.getpass('API KEY')"
   ]
  },
  {
   "cell_type": "markdown",
   "id": "c43bd9b3-37dc-4beb-b311-fa642de11990",
   "metadata": {},
   "source": [
    "Get full list of pro"
   ]
  },
  {
   "cell_type": "code",
   "execution_count": 8,
   "id": "9e11ea1a-6cb3-492c-8243-67d3f88de982",
   "metadata": {
    "tags": []
   },
   "outputs": [],
   "source": [
    "institution='udea'\n",
    "year=2022\n",
    "p=requests.get(f\"http://apis.colav.co/scienti/info/?apikey={k}&get=ids&institution={institution}&model_year={year}\")"
   ]
  },
  {
   "cell_type": "code",
   "execution_count": 9,
   "id": "4a21f11f-c1d7-408d-8525-4837ecc56512",
   "metadata": {
    "tags": []
   },
   "outputs": [],
   "source": [
    "p=p.json()"
   ]
  },
  {
   "cell_type": "code",
   "execution_count": 10,
   "id": "66678d47-95c4-44b5-bf0b-aa839b70222e",
   "metadata": {
    "tags": []
   },
   "outputs": [
    {
     "data": {
      "text/html": [
       "<div>\n",
       "<style scoped>\n",
       "    .dataframe tbody tr th:only-of-type {\n",
       "        vertical-align: middle;\n",
       "    }\n",
       "\n",
       "    .dataframe tbody tr th {\n",
       "        vertical-align: top;\n",
       "    }\n",
       "\n",
       "    .dataframe thead th {\n",
       "        text-align: right;\n",
       "    }\n",
       "</style>\n",
       "<table border=\"1\" class=\"dataframe\">\n",
       "  <thead>\n",
       "    <tr style=\"text-align: right;\">\n",
       "      <th></th>\n",
       "      <th>name</th>\n",
       "      <th>ids</th>\n",
       "    </tr>\n",
       "  </thead>\n",
       "  <tbody>\n",
       "    <tr>\n",
       "      <th>0</th>\n",
       "      <td>patent</td>\n",
       "      <td>[{'COD_RH': '0000204234', 'COD_PATENTE': 1}, {...</td>\n",
       "    </tr>\n",
       "    <tr>\n",
       "      <th>1</th>\n",
       "      <td>product</td>\n",
       "      <td>[{'COD_RH': '0000000011', 'COD_PRODUCTO': '1'}...</td>\n",
       "    </tr>\n",
       "    <tr>\n",
       "      <th>2</th>\n",
       "      <td>network</td>\n",
       "      <td>[{'COD_RH': '0000186473', 'COD_RED': 4}, {'COD...</td>\n",
       "    </tr>\n",
       "    <tr>\n",
       "      <th>3</th>\n",
       "      <td>project</td>\n",
       "      <td>[{'COD_RH': '0000000011', 'COD_PROYECTO': '1'}...</td>\n",
       "    </tr>\n",
       "    <tr>\n",
       "      <th>4</th>\n",
       "      <td>event</td>\n",
       "      <td>[{'COD_RH': '0000000016', 'COD_EVENTO': 1}, {'...</td>\n",
       "    </tr>\n",
       "    <tr>\n",
       "      <th>5</th>\n",
       "      <td>institution_endorsement</td>\n",
       "      <td>[{'COD_AVAL_INSTITUCION': 1382}, {'COD_AVAL_IN...</td>\n",
       "    </tr>\n",
       "  </tbody>\n",
       "</table>\n",
       "</div>"
      ],
      "text/plain": [
       "                      name                                                ids\n",
       "0                   patent  [{'COD_RH': '0000204234', 'COD_PATENTE': 1}, {...\n",
       "1                  product  [{'COD_RH': '0000000011', 'COD_PRODUCTO': '1'}...\n",
       "2                  network  [{'COD_RH': '0000186473', 'COD_RED': 4}, {'COD...\n",
       "3                  project  [{'COD_RH': '0000000011', 'COD_PROYECTO': '1'}...\n",
       "4                    event  [{'COD_RH': '0000000016', 'COD_EVENTO': 1}, {'...\n",
       "5  institution_endorsement  [{'COD_AVAL_INSTITUCION': 1382}, {'COD_AVAL_IN..."
      ]
     },
     "execution_count": 10,
     "metadata": {},
     "output_type": "execute_result"
    }
   ],
   "source": [
    "pd.DataFrame(p[0].get('entities'))"
   ]
  },
  {
   "cell_type": "code",
   "execution_count": 11,
   "id": "5994ab43-4ee6-4a68-8981-950b56207272",
   "metadata": {
    "tags": []
   },
   "outputs": [],
   "source": [
    "p=[d for d in p[0].get('entities') if d.get('name')=='product']"
   ]
  },
  {
   "cell_type": "code",
   "execution_count": 12,
   "id": "abcbe61d-b477-4e60-a4e4-cce5828515a1",
   "metadata": {
    "tags": []
   },
   "outputs": [
    {
     "data": {
      "text/plain": [
       "390012"
      ]
     },
     "execution_count": 12,
     "metadata": {},
     "output_type": "execute_result"
    }
   ],
   "source": [
    "len(p[0].get('ids'))"
   ]
  },
  {
   "cell_type": "markdown",
   "id": "bd45e028-599f-41b5-b812-f256c7ac3de4",
   "metadata": {},
   "source": [
    "### Filter products of ASC "
   ]
  },
  {
   "cell_type": "code",
   "execution_count": null,
   "id": "123b5365-ccb4-4901-afe5-53f299fb9451",
   "metadata": {
    "tags": []
   },
   "outputs": [
    {
     "name": "stdout",
     "output_type": "stream",
     "text": [
      "008486/104980\r"
     ]
    }
   ],
   "source": [
    "ws=[]\n",
    "i=0\n",
    "for d in p[0].get('ids'):\n",
    "    i+=1\n",
    "    w=requests.get(f\"http://apis.colav.co/scienti/product?apikey={k}&model_year=2022&institution=udea&COD_RH={d.get('COD_RH')}&COD_PRODUCTO={d.get('COD_PRODUCTO')}\")\n",
    "    if w.status_code!=200:\n",
    "        continue\n",
    "    wj=w.json()\n",
    "    x=wj.get('COD_TIPO_PRODUCTO')\n",
    "    if isinstance(x,str) and x in dasc.keys():\n",
    "        ws.append(wj)\n",
    "        print(f\"{str(len(ws)).zfill(6)}/{str(i).zfill(6)}\",end='\\r')\n",
    "        wj['TIPO_PRODUCTO']=dasc.get(x)\n",
    "        time.sleep(0.01)"
   ]
  },
  {
   "cell_type": "code",
   "execution_count": 40,
   "id": "d8a98fac-92ec-4758-8fe8-eaee0fdd2aac",
   "metadata": {},
   "outputs": [
    {
     "data": {
      "text/plain": [
       "16881"
      ]
     },
     "execution_count": 40,
     "metadata": {},
     "output_type": "execute_result"
    }
   ],
   "source": [
    "len(ws)"
   ]
  },
  {
   "cell_type": "code",
   "execution_count": 73,
   "id": "e8d04b36-fad8-4d31-98f0-6ecbab876cc9",
   "metadata": {},
   "outputs": [],
   "source": [
    "import json"
   ]
  },
  {
   "cell_type": "code",
   "execution_count": 76,
   "id": "84a5a140-0581-458d-a865-c1c3019c4af0",
   "metadata": {},
   "outputs": [],
   "source": [
    "fp=open('asc.json','w')\n",
    "json.dump(ws,fp)\n",
    "fp.close()"
   ]
  },
  {
   "cell_type": "markdown",
   "id": "55539191-35bb-4ba9-b0f0-89ee99266d2d",
   "metadata": {},
   "source": [
    "fp=open('asc.json','r')\n",
    "ws=json.load(fp)\n",
    "fp.close()"
   ]
  },
  {
   "cell_type": "code",
   "execution_count": 78,
   "id": "f8c760e2-9287-4b6a-b0e3-49c01724d913",
   "metadata": {},
   "outputs": [
    {
     "data": {
      "text/plain": [
       "16881"
      ]
     },
     "execution_count": 78,
     "metadata": {},
     "output_type": "execute_result"
    }
   ],
   "source": [
    "len(ws)"
   ]
  },
  {
   "cell_type": "markdown",
   "id": "ec62258a-03a6-410e-9402-1a5d7c485e7a",
   "metadata": {},
   "source": [
    "### Export to table"
   ]
  },
  {
   "cell_type": "code",
   "execution_count": null,
   "id": "1c3a6bf1-9f94-4431-ba3a-e0886f81fb3b",
   "metadata": {},
   "outputs": [],
   "source": [
    "#https://www.techieclues.com/blogs/how-to-get-variable-name-as-string-in-python\n",
    "def get_variable_name(variable):\n",
    "    for name in globals():\n",
    "        if id(globals()[name]) == id(variable):\n",
    "            return name\n",
    "    for name in locals():\n",
    "        if id(locals()[name]) == id(variable):\n",
    "            return name\n",
    "    return None\n",
    "\n",
    "def get_details(w):\n",
    "    d=w.get('details')[0]\n",
    "    if len(d.keys())==1:\n",
    "        intd=d.get(list(d.keys())[0])\n",
    "        if intd and isinstance(intd,list):\n",
    "            newintd={}\n",
    "            for intk in intd[0].keys():\n",
    "                if intd[0][intk]:\n",
    "                    newintd[intk]=intd[0][intk]\n",
    "    return newintd\n",
    "\n",
    "general=['COD_RH', 'COD_PRODUCTO', 'COD_TIPO_PRODUCTO','TIPO_PRODUCTO', 'TXT_NME_PROD', \n",
    "       'TXT_RESUMEN_PROD', \n",
    "        'NRO_ANO_PRESENTA',\n",
    "        'TXT_WEB_PRODUCTO', \n",
    "        'TXT_DOI', 'TXT_INST_PART', 'DTA_EXPOSICION',\n",
    "       'STA_EVENTO', 'TXT_NME_TITULAR',  \n",
    "       'NRO_AUTORES_TOTAL', 'NRO_GRUPOS',\n",
    "       'COD_PROYECTO', 'ANO_INIC', 'ANO_FIM', 'TXT_NOME_PROJETO','details'\n",
    "       ]\n",
    "author=['author_TXT_TOTAL_NAMES']\n",
    "group=['group_NRO_ID_GRUPO', 'group_COD_ID_GRUPO', 'group_NME_GRUPO','group_COD_RH_AREA', 'group_COD_AREA_CONHEC', \n",
    "       'group_COD_PROGRAMA', 'group_COD_PROGRAMA_SECUND','group_TXT_PLAN_TRABAJO', \n",
    "       'group_TXT_ESTADO_ARTE', 'group_TXT_OBJETIVOS', 'group_TXT_PROD_DESTACADA', 'group_TXT_RETOS', 'group_TXT_VISION',\n",
    "       'group_knowledge_area']\n",
    "institution=['institution_COD_INST', 'institution_COD_INST_MACRO', 'institution_NME_INST','institution_SGL_INST', \n",
    "             'institution_COD_SECTOR_ECON', 'institution_SGL_PAIS', 'institution_SGL_DEPARTAMENTO']\n",
    "authors=['authors_COD_RH_OTRO','authors_TXT_TOTAL_NAMES_FILTRO']\n",
    "project=['project_COD_RH', 'project_COD_PROYECTO', 'project_TXT_NME_PROYECTO', 'project_TXT_NME_PROYECTO_FILTRO', 'project_TXT_OBSERV_PROYECTO', \n",
    "         'project_TXT_RESUMEN_PROYECTO', 'project_TPO_PROYECTO', 'project_NRO_ANO_INICIO', \n",
    "         'project_NRO_ANO_FIN' 'project_NRO_DURACION', 'project_TPO_ESTADO_PROYECTO']"
   ]
  },
  {
   "cell_type": "code",
   "execution_count": null,
   "id": "775d906a-7ac1-43e8-b1ca-9e154af37d1d",
   "metadata": {},
   "outputs": [],
   "source": [
    "Ws=[]\n",
    "for w in ws:\n",
    "    W={}\n",
    "    for k in general:\n",
    "        W[k]=w.get(k)\n",
    "    for t in [author,group,institution,institution,project]:\n",
    "        sub=get_variable_name(t)\n",
    "\n",
    "        if w.get(sub) and isinstance(w.get(sub),list):\n",
    "            for kt in t:\n",
    "                subk=kt.split(f'{sub}_')[-1]\n",
    "                W[kt]=w.get(sub)[0].get(subk)\n",
    "                #break\n",
    "        #if sub=='group' and w.get('group'):\n",
    "        #        raise Exception('group')\n",
    "    \n",
    "    if w.get('details'):\n",
    "        W['details']=get_details(w)    \n",
    "    Ws.append(W)\n",
    "    #break"
   ]
  },
  {
   "cell_type": "code",
   "execution_count": null,
   "id": "39212f63-b637-4b14-bc3f-95e479b4f0a0",
   "metadata": {},
   "outputs": [],
   "source": [
    "df=pd.DataFrame(Ws)\n",
    "df.to_excel('ASC.xlsx',index=None)"
   ]
  },
  {
   "cell_type": "code",
   "execution_count": null,
   "id": "3a9e5d1f-9e4b-41b1-9559-16b599e06938",
   "metadata": {},
   "outputs": [],
   "source": [
    "ls -lh ASC.xlsx"
   ]
  },
  {
   "cell_type": "code",
   "execution_count": null,
   "id": "b3a8f447-f4c3-4b3d-918a-2f66ebe59e90",
   "metadata": {},
   "outputs": [],
   "source": [
    "df.columns"
   ]
  },
  {
   "cell_type": "code",
   "execution_count": null,
   "id": "2ac1df59-f8ea-4668-9618-5c4fc2b49a83",
   "metadata": {},
   "outputs": [],
   "source": [
    "df.dropna(subset=['author_TXT_TOTAL_NAMES','group_NRO_ID_GRUPO','institution_NME_INST',\n",
    "                 'project_TXT_NME_PROYECTO','TXT_RESUMEN_PROD']).iloc[0].to_dict()"
   ]
  },
  {
   "cell_type": "markdown",
   "id": "5d841ad7-fbaa-4b65-8a79-1ab253238d13",
   "metadata": {},
   "source": [
    "## Appendix"
   ]
  },
  {
   "cell_type": "code",
   "execution_count": 42,
   "id": "7f3bf010-3bbb-4d34-a1e3-8ca414c6929e",
   "metadata": {
    "tags": []
   },
   "outputs": [
    {
     "data": {
      "text/plain": [
       "Index(['COD_RH', 'COD_PRODUCTO', 'TXT_NME_PROD', 'TXT_NME_PROD_FILTRO',\n",
       "       'TXT_RESUMEN_PROD', 'TXT_OBSERV_PROD', 'SGL_IDIOMA',\n",
       "       'COD_TIPO_PRODUCTO', 'COD_SUBTIPO_PRODUCTO', 'TXT_COMPLEMENTARIO',\n",
       "       'COD_TIPO_PRODUCTO_MDCN', 'SGL_PAIS', 'NRO_ANO_PRESENTA',\n",
       "       'NRO_MES_PRESENTA', 'TXT_WEB_PRODUCTO', 'NRO_IND_EXISTENCIA_MDCN',\n",
       "       'NRO_IND_CALIDAD_MDCN', 'TXT_IND_CALIDAD_MDCN',\n",
       "       'NRO_IND_VISIBILIDAD_MDCN', 'TPO_AMPERSAN_MDCN',\n",
       "       'TPO_MEDIO_DIVULGACION', 'STA_RELEVANCIA', 'COD_PRODUCTO_BNR',\n",
       "       'STA_CERTIFICADO', 'STA_VERIFICACION_AUTO', 'DTA_VERIF_AUTO',\n",
       "       'STA_VERIFICACION_USUA', 'DTA_VERIF_USUA', 'TXT_FICHA_RESUMEN',\n",
       "       'DTA_CREACION', 'DTA_ACTUALIZACION', 'STA_VENTANA', 'NRO_PATENTES',\n",
       "       'NRO_SECRETOS', 'COD_UNO_MDCN', 'COD_DOS_MDCN', 'COD_TRES_MDCN',\n",
       "       'STA_VENTANA_2', 'TXT_IND_CALIDAD_MDCN_2', 'TIPO_PRODUCTO_MDCN',\n",
       "       'TIPO_PRODUCTO_MDCN_2', 'TXT_DOI', 'TXT_INST_PART', 'DTA_EXPOSICION',\n",
       "       'STA_EVENTO', 'TXT_NME_TITULAR', 'NRO_REGISTROS', 'STA_VENTANA_3',\n",
       "       'DTA_ACTUALIZACION_CVLAC', 'DTA_AVAL_INST', 'TPO_AVAL_INST',\n",
       "       'COD_INST_AVALA', 'ID_USUARIO_AVAL', 'CAT_MED', 'SGL_CATEGORIA',\n",
       "       'NRO_ARTISTICAS_DET', 'COD_TIPO_PRODUCTO_ANT', 'author', 'product_type',\n",
       "       'author_others', 'details', 'TIPO_PRODUCTO', 'language', 'NRO_ID_GRUPO',\n",
       "       'SEQ_PRODUCTO', 'DTA_VINCULACION', 'STA_HUERFANO', 'NRO_AUTORES_GR',\n",
       "       'NRO_AUTORES_TOTAL', 'NRO_GRUPOS', 'NRO_PESO', 'STA_REPETIDO',\n",
       "       'STA_MEDIDO', 'group', 'institution', 'project', 'SEQ_PROJETO',\n",
       "       'COD_PROYECTO', 'ANO_INIC', 'ANO_FIM', 'TXT_NOME_PROJETO',\n",
       "       'TXT_NOME_PROJETO_FILTRO', 'TPO_SITUACAO', 'TPO_NATUREZA',\n",
       "       'NRO_GRADUACAO', 'NRO_ESPECIALIZACAO', 'NRO_MESTRADO_ACAD',\n",
       "       'NRO_MESTRADO_PROFIS', 'NRO_DOUTORADO', 'DSC_PROJETO',\n",
       "       'COD_PROYECTO_BNR', 'MES_INIC', 'MES_FIM'],\n",
       "      dtype='object')"
      ]
     },
     "execution_count": 42,
     "metadata": {},
     "output_type": "execute_result"
    }
   ],
   "source": [
    "df=pd.DataFrame(ws)\n",
    "df.columns"
   ]
  },
  {
   "cell_type": "code",
   "execution_count": null,
   "id": "8ea5e801-f3aa-4c28-bad2-3f93085ccfdd",
   "metadata": {},
   "outputs": [],
   "source": [
    "general=['COD_RH', 'COD_PRODUCTO', 'COD_TIPO_PRODUCTO','TIPO_PRODUCTO', 'TXT_NME_PROD', \n",
    "       'TXT_RESUMEN_PROD', \n",
    "        'NRO_ANO_PRESENTA',\n",
    "        'TXT_WEB_PRODUCTO', \n",
    "       'TXT_FICHA_RESUMEN',\n",
    "        'TXT_DOI', 'TXT_INST_PART', 'DTA_EXPOSICION',\n",
    "       'STA_EVENTO', 'TXT_NME_TITULAR',  'author', 'product_type',\n",
    "       'author_others', 'details', 'language',  '\n",
    "       'NRO_AUTORES_TOTAL', 'NRO_GRUPOS',  'group', 'institution', 'project', \n",
    "       'COD_PROYECTO', 'ANO_INIC', 'ANO_FIM', 'TXT_NOME_PROJETO',\n",
    "       ]"
   ]
  },
  {
   "cell_type": "code",
   "execution_count": 49,
   "id": "361c5780-a76a-4afe-8855-4f4886bef6e8",
   "metadata": {},
   "outputs": [
    {
     "data": {
      "text/plain": [
       "dict_keys(['COD_RH', 'NRO_ID_CNPQ', 'TXT_NAMES_RH', 'TXT_PRIM_APELL', 'TXT_SEG_APELL', 'TXT_TOTAL_NAMES', 'TXT_NAMES_RH_FILTRO', 'TXT_PRIM_APELL_FILTRO', 'TXT_SEG_APELL_FILTRO', 'TXT_TOTAL_NAMES_FILTRO', 'TPO_NACIONALIDAD', 'DTA_NACIM', 'TPO_DOCUMENTO_IDENT', 'TPO_SEXO', 'COD_RH_MUN_NACIM', 'COD_MUN_NACIM', 'NRO_DOCUMENTO_IDENT', 'COD_RH_MUN_EXPED_DOC', 'COD_MUN_EXPED_DOC', 'NRO_LIBRETA_MILITAR', 'TPO_LIBRETA_MILITAR', 'NRO_PASAPORTE', 'NRO_VISA', 'TPO_VISA', 'DTA_INI_VIGENCIA_VISA', 'DTA_FIN_VIGENCIA_VISA', 'COD_RH_RELIGION', 'COD_RELIGION', 'SGL_PAIS_NACIM', 'TXT_AFICION', 'TXT_CONGREGA_PERTENECE', 'TXT_CONGREGA_PERTENECIO', 'NRO_CEDULA_EXTRANJ', 'TXT_COMENT_SUGEREN', 'DTA_DEFUNC', 'COD_NIVEL_FORMACION', 'TPO_ESTADO_CIVIL', 'TPO_DIRECCION_USUAL', 'TPO_DOC_ACTUALIZACION', 'TPO_VER_DOC_ACTUALIZACION', 'TXT_CITACION_BIBLIO', 'TXT_CITACION_BIBLIO_FILTRO', 'STA_CERTIFICADO', 'DTA_CERTIFICADO', 'TXT_RESPUESTA', 'TXT_PREGUNTA', 'DTA_CREACION', 'DTA_ACTUALIZACION', 'COD_CERTIFICACION', 'STA_VISIBLE', 'DTA_VISIBLE', 'NRO_DOCUMENTO_FILTRO', 'TPO_PERFIL', 'TXT_CONF_DATOS', 'TXT_DESC_PERFIL', 'COD_TRAY_PROF_ACT', 'COD_ORCID', 'AUTOR_ID_SCP', 'NRO_INTENTOS', 'STA_ACTIVO', 'COD_ACTIVACION', 'NRO_BLOQUEOS', 'city'])"
      ]
     },
     "execution_count": 49,
     "metadata": {},
     "output_type": "execute_result"
    }
   ],
   "source": [
    "df['author'].iloc[0][0].keys()"
   ]
  },
  {
   "cell_type": "code",
   "execution_count": null,
   "id": "283ba85f-f14f-48ca-9980-45603f201e75",
   "metadata": {},
   "outputs": [],
   "source": [
    "author=['author_TXT_TOTAL_NAMES']"
   ]
  },
  {
   "cell_type": "code",
   "execution_count": 53,
   "id": "81edc3c8-2423-451d-a2f8-3c34738b6e22",
   "metadata": {},
   "outputs": [
    {
     "data": {
      "text/plain": [
       "dict_keys(['NRO_ID_GRUPO', 'COD_ID_GRUPO', 'NME_GRUPO', 'NME_GRUPO_FILTRO', 'ANO_FORMACAO', 'MES_FORMACAO', 'COD_RH_AREA', 'COD_AREA_CONHEC', 'COD_PROGRAMA', 'COD_PROGRAMA_SECUND', 'TPO_ESTADO_GR', 'DTA_ESTADO_GR', 'TXT_CLASIF', 'DTA_CLASIF', 'DTA_FIN_CLASIF', 'TPO_GRUPO', 'DTA_TPO_GRUPO', 'STA_ELIMINADO', 'TXT_PLAN_TRABAJO', 'TXT_ESTADO_ARTE', 'TXT_OBJETIVOS', 'TXT_PROD_DESTACADA', 'TXT_RETOS', 'TXT_VISION', 'TXT_SUGERENCIAS', 'XML_FICHA_RSM', 'STA_CERTIFICADO', 'DTA_CERTIFICADO', 'DTA_CREACION', 'DTA_ACTUALIZACION', 'COD_CERTIFICACION', 'COD_SESION', 'DTA_INI_SESION', 'TXT_CLASIF_1', 'COD_GRAN_AREA_CONHEC_MED', 'STA_CENTRO', 'TPO_CENTRO', 'STA_SECTOR', 'NRO_INTENTOS', 'STA_ACTIVO', 'COD_ACTIVACION', 'NRO_BLOQUEOS', 'COD_AREA_CONHEC_BK', 'institution', 'knowledge_area'])"
      ]
     },
     "execution_count": 53,
     "metadata": {},
     "output_type": "execute_result"
    }
   ],
   "source": [
    "df['group'].dropna().iloc[0][0].keys()"
   ]
  },
  {
   "cell_type": "code",
   "execution_count": null,
   "id": "ca0b9d36-ba57-4880-94e8-689a2bda82ca",
   "metadata": {},
   "outputs": [],
   "source": [
    "group=['group_NRO_ID_GRUPO', 'group_COD_ID_GRUPO', 'group_NME_GRUPO','group_COD_RH_AREA', 'group_COD_AREA_CONHEC', \n",
    "       'group_COD_PROGRAMA', 'group_COD_PROGRAMA_SECUND','group_TXT_PLAN_TRABAJO', \n",
    "       'group_TXT_ESTADO_ARTE', 'group_TXT_OBJETIVOS', 'group_TXT_PROD_DESTACADA', 'group_TXT_RETOS', 'group_TXT_VISION', 'group_TXT_SUGERENCIAS']\n"
   ]
  },
  {
   "cell_type": "code",
   "execution_count": 58,
   "id": "2b147c05-b7a4-47c6-9acc-c70002b385b9",
   "metadata": {},
   "outputs": [
    {
     "data": {
      "text/plain": [
       "dict_keys(['COD_INST', 'COD_INST_MACRO', 'NME_INST', 'NME_INST_FILTRO', 'SGL_INST', 'COD_SECTOR_ECON', 'SGL_PAIS', 'SGL_DEPARTAMENTO', 'COD_RH_MUNICIPIO', 'COD_MUNICIPIO', 'URL_HOME_PAGE', 'TXT_DIRECCION', 'TXT_TELEFONO', 'TXT_FAX', 'TXT_EMAIL', 'TXT_NIT', 'TXT_DIGITO_VERIFICADOR', 'ID_REPRESENTANTE', 'TPO_AVAL', 'TXT_CIUDAD_INST', 'TPO_CARACTER', 'TPO_CONTRIBUYENTE', 'TXT_APARTADO_AEREO', 'STA_EXPORTA', 'COD_NIVEL', 'COD_IES', 'DTA_CONSTITUCION', 'DTA_CREACION', 'DTA_ACTUALIZACION', 'COD_SECTOR_ECON2', 'ID_INSTITUCION', 'STA_TERMINOS_COND', 'DTA_ACEPTA_TERMINOS'])"
      ]
     },
     "execution_count": 58,
     "metadata": {},
     "output_type": "execute_result"
    }
   ],
   "source": [
    "df['institution'].dropna().iloc[0][0].keys()"
   ]
  },
  {
   "cell_type": "code",
   "execution_count": null,
   "id": "6b670086-c5ef-4a90-861e-3ecb97664929",
   "metadata": {},
   "outputs": [],
   "source": [
    "institution=['institution_COD_INST', 'institution_COD_INST_MACRO', 'institution_NME_INST','institution_SGL_INST', 'institution_COD_SECTOR_ECON', 'institution_SGL_PAIS', 'institution_SGL_DEPARTAMENTO']"
   ]
  },
  {
   "cell_type": "code",
   "execution_count": 59,
   "id": "25486f1d-f7c3-41f7-869b-90b39ec37826",
   "metadata": {},
   "outputs": [
    {
     "data": {
      "text/plain": [
       "dict_keys(['COD_RH_CREA', 'COD_RH_OTRO', 'TXT_NME_RH', 'TXT_PRIM_APELL', 'TXT_SEG_APELL', 'TXT_TOTAL_NAMES_FILTRO', 'SGL_PAIS', 'TPO_NACIONALIDAD', 'DTA_NACIMIENTO', 'TPO_DOC_IDENTIFICACION', 'NRO_DOC_IDENTIFICACION', 'NRO_ID_CNPQ', 'DTA_CREACION', 'DTA_ACTUALIZACION', 'NRO_DOC_FILTRO', 'TXT_TOTAL_NAMES', 'TXT_NME_RH_FILTRO', 'TXT_PRIM_APELL_FILTRO', 'TXT_SEG_APELL_FILTRO', 'COD_RH_REF', 'COD_ORCID', 'AUTOR_ID_SCP'])"
      ]
     },
     "execution_count": 59,
     "metadata": {},
     "output_type": "execute_result"
    }
   ],
   "source": [
    "df['author_others'].dropna().iloc[0][0].keys()"
   ]
  },
  {
   "cell_type": "code",
   "execution_count": null,
   "id": "c79fef09-93cb-483f-b1d9-16b01c3b8e03",
   "metadata": {},
   "outputs": [],
   "source": [
    "authors=['authors_COD_RH_OTRO','authors_TXT_TOTAL_NAMES_FILTRO']"
   ]
  },
  {
   "cell_type": "code",
   "execution_count": 72,
   "id": "0a1ed00e-e38b-4775-800a-3382560f6753",
   "metadata": {},
   "outputs": [
    {
     "data": {
      "text/plain": [
       "dict_keys(['COD_RH', 'COD_PROYECTO', 'TXT_NME_PROYECTO', 'TXT_NME_PROYECTO_FILTRO', 'TXT_OBSERV_PROYECTO', 'TXT_RESUMEN_PROYECTO', 'TPO_PROYECTO', 'NRO_MES_INICIO', 'NRO_ANO_INICIO', 'NRO_MES_FIN', 'NRO_ANO_FIN', 'NRO_MES_PROYEC', 'NRO_ANO_PROYEC', 'NRO_DURACION', 'TPO_ESTADO_PROYECTO', 'NRO_GRADUACION', 'NRO_ESPECIALIZACION', 'NRO_MAESTRIA_ACAD', 'NRO_MAESTRIA_PROF', 'NRO_DOCTORADO', 'COD_PROYECTO_BNR', 'STA_CERTIFICADO', 'STA_VERIFICACION_AUTO', 'DTA_VERIF_AUTO', 'STA_VERIFICACION_USUA', 'DTA_VERIF_USUA', 'TXT_FICHA_RESUMEN', 'DTA_CREACION', 'DTA_ACTUALIZACION', 'TXT_URL', 'COD_PROYECTO_SNCTI', 'TPO_FINANCIACION', 'TPO_FTE_FINAN', 'TPO_AMB_FINAN', 'STA_AVAL_INST', 'DTA_AVAL_INST', 'TPO_AVAL_INST', 'COD_INST_AVALA', 'ID_USUARIO_AVALA', 'DTA_ACTUALIZACION_CVLAC', 'CAT_MED', 'SGL_CATEGORIA'])"
      ]
     },
     "execution_count": 72,
     "metadata": {},
     "output_type": "execute_result"
    }
   ],
   "source": [
    "df['project'].dropna().iloc[0][0].keys()"
   ]
  },
  {
   "cell_type": "code",
   "execution_count": null,
   "id": "9dbf1d59-28f2-4482-902d-fd7fe9077f7d",
   "metadata": {},
   "outputs": [],
   "source": [
    "project=['project_COD_RH', 'project_COD_PROYECTO', 'project_TXT_NME_PROYECTO', 'project_TXT_NME_PROYECTO_FILTRO', 'project_TXT_OBSERV_PROYECTO', \n",
    "         'project_TXT_RESUMEN_PROYECTO', 'project_TPO_PROYECTO', 'project_NRO_ANO_INICIO', \n",
    "         'project_NRO_ANO_FIN' 'project_NRO_DURACION', 'project_TPO_ESTADO_PROYECTO']"
   ]
  },
  {
   "cell_type": "code",
   "execution_count": 67,
   "id": "11a178d7-2019-474d-8018-37ef78721e36",
   "metadata": {},
   "outputs": [
    {
     "data": {
      "text/plain": [
       "0        [{'technical': [{'COD_RH': '0000000011', 'COD_...\n",
       "1        [{'course': [{'COD_RH': '0000000011', 'COD_PRO...\n",
       "2        [{'course': [{'COD_RH': '0000000011', 'COD_PRO...\n",
       "3        [{'technical': [{'COD_RH': '0000000011', 'COD_...\n",
       "4        [{'course': [{'COD_RH': '0000000011', 'COD_PRO...\n",
       "                               ...                        \n",
       "16876    [{'course': [{'COD_RH': '0000771899', 'COD_PRO...\n",
       "16877    [{'course': [{'COD_RH': '0000771899', 'COD_PRO...\n",
       "16878    [{'course': [{'COD_RH': '0000771899', 'COD_PRO...\n",
       "16879    [{'course': [{'COD_RH': '0000771899', 'COD_PRO...\n",
       "16880    [{'course': [{'COD_RH': '0000771899', 'COD_PRO...\n",
       "Name: details, Length: 16426, dtype: object"
      ]
     },
     "execution_count": 67,
     "metadata": {},
     "output_type": "execute_result"
    }
   ],
   "source": [
    "df['details'].dropna()"
   ]
  }
 ],
 "metadata": {
  "kernelspec": {
   "display_name": "Python 3 (ipykernel)",
   "language": "python",
   "name": "python3"
  },
  "language_info": {
   "codemirror_mode": {
    "name": "ipython",
    "version": 3
   },
   "file_extension": ".py",
   "mimetype": "text/x-python",
   "name": "python",
   "nbconvert_exporter": "python",
   "pygments_lexer": "ipython3",
   "version": "3.9.2"
  }
 },
 "nbformat": 4,
 "nbformat_minor": 5
}
