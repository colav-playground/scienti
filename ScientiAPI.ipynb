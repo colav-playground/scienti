{
 "cells": [
  {
   "cell_type": "markdown",
   "id": "5909249b-e09e-417e-9638-dda251085440",
   "metadata": {},
   "source": [
    "# Scienti API"
   ]
  },
  {
   "cell_type": "code",
   "execution_count": 11,
   "id": "f86f585b-533e-487f-a320-83c591139786",
   "metadata": {
    "tags": []
   },
   "outputs": [],
   "source": [
    "import requests\n",
    "import getpass\n",
    "import pandas as pd"
   ]
  },
  {
   "cell_type": "code",
   "execution_count": 35,
   "id": "448f9cd7-a510-4d4f-9dd1-8befd1e59ae1",
   "metadata": {
    "tags": []
   },
   "outputs": [],
   "source": [
    "asc=pd.read_excel('https://docs.google.com/spreadsheets/d/e/2PACX-1vSjpIpwy89MwRwJdXNy0_Z5zCK6XrieZ2_Cf7i1SQTuk4b_hRrNzuCTBgQe3eTOew/pub?output=xlsx')"
   ]
  },
  {
   "cell_type": "code",
   "execution_count": 48,
   "id": "06802428-0d5b-40b4-b668-50d16ca7b466",
   "metadata": {
    "tags": []
   },
   "outputs": [],
   "source": [
    "dasc=dict(asc[asc['ASC']==1]['NIVEL_MAX'].str.split(': ').str[:2].to_list())"
   ]
  },
  {
   "cell_type": "code",
   "execution_count": 3,
   "id": "d77e015c-b850-46b5-889d-5e649632ff75",
   "metadata": {
    "tags": []
   },
   "outputs": [
    {
     "name": "stdin",
     "output_type": "stream",
     "text": [
      "API KEY ········\n"
     ]
    }
   ],
   "source": [
    "k=getpass.getpass('API KEY')"
   ]
  },
  {
   "cell_type": "code",
   "execution_count": 9,
   "id": "9e11ea1a-6cb3-492c-8243-67d3f88de982",
   "metadata": {
    "tags": []
   },
   "outputs": [],
   "source": [
    "institution='udea'\n",
    "year=2022\n",
    "p=requests.get(f\"http://apis.colav.co/scienti/info/?apikey={k}&get=ids&institution={institution}&model_year={year}\")"
   ]
  },
  {
   "cell_type": "code",
   "execution_count": 10,
   "id": "4a21f11f-c1d7-408d-8525-4837ecc56512",
   "metadata": {
    "tags": []
   },
   "outputs": [],
   "source": [
    "p=p.json()"
   ]
  },
  {
   "cell_type": "code",
   "execution_count": 14,
   "id": "66678d47-95c4-44b5-bf0b-aa839b70222e",
   "metadata": {
    "tags": []
   },
   "outputs": [
    {
     "data": {
      "text/html": [
       "<div>\n",
       "<style scoped>\n",
       "    .dataframe tbody tr th:only-of-type {\n",
       "        vertical-align: middle;\n",
       "    }\n",
       "\n",
       "    .dataframe tbody tr th {\n",
       "        vertical-align: top;\n",
       "    }\n",
       "\n",
       "    .dataframe thead th {\n",
       "        text-align: right;\n",
       "    }\n",
       "</style>\n",
       "<table border=\"1\" class=\"dataframe\">\n",
       "  <thead>\n",
       "    <tr style=\"text-align: right;\">\n",
       "      <th></th>\n",
       "      <th>name</th>\n",
       "      <th>ids</th>\n",
       "    </tr>\n",
       "  </thead>\n",
       "  <tbody>\n",
       "    <tr>\n",
       "      <th>0</th>\n",
       "      <td>patent</td>\n",
       "      <td>[{'COD_RH': '0000204234', 'COD_PATENTE': 1}, {...</td>\n",
       "    </tr>\n",
       "    <tr>\n",
       "      <th>1</th>\n",
       "      <td>product</td>\n",
       "      <td>[{'COD_RH': '0000000011', 'COD_PRODUCTO': '1'}...</td>\n",
       "    </tr>\n",
       "    <tr>\n",
       "      <th>2</th>\n",
       "      <td>network</td>\n",
       "      <td>[{'COD_RH': '0000186473', 'COD_RED': 4}, {'COD...</td>\n",
       "    </tr>\n",
       "    <tr>\n",
       "      <th>3</th>\n",
       "      <td>project</td>\n",
       "      <td>[{'COD_RH': '0000000011', 'COD_PROYECTO': '1'}...</td>\n",
       "    </tr>\n",
       "    <tr>\n",
       "      <th>4</th>\n",
       "      <td>event</td>\n",
       "      <td>[{'COD_RH': '0000000016', 'COD_EVENTO': 1}, {'...</td>\n",
       "    </tr>\n",
       "    <tr>\n",
       "      <th>5</th>\n",
       "      <td>institution_endorsement</td>\n",
       "      <td>[{'COD_AVAL_INSTITUCION': 1382}, {'COD_AVAL_IN...</td>\n",
       "    </tr>\n",
       "  </tbody>\n",
       "</table>\n",
       "</div>"
      ],
      "text/plain": [
       "                      name                                                ids\n",
       "0                   patent  [{'COD_RH': '0000204234', 'COD_PATENTE': 1}, {...\n",
       "1                  product  [{'COD_RH': '0000000011', 'COD_PRODUCTO': '1'}...\n",
       "2                  network  [{'COD_RH': '0000186473', 'COD_RED': 4}, {'COD...\n",
       "3                  project  [{'COD_RH': '0000000011', 'COD_PROYECTO': '1'}...\n",
       "4                    event  [{'COD_RH': '0000000016', 'COD_EVENTO': 1}, {'...\n",
       "5  institution_endorsement  [{'COD_AVAL_INSTITUCION': 1382}, {'COD_AVAL_IN..."
      ]
     },
     "execution_count": 14,
     "metadata": {},
     "output_type": "execute_result"
    }
   ],
   "source": [
    "pd.DataFrame(p[0].get('entities'))"
   ]
  },
  {
   "cell_type": "code",
   "execution_count": 17,
   "id": "5994ab43-4ee6-4a68-8981-950b56207272",
   "metadata": {
    "tags": []
   },
   "outputs": [],
   "source": [
    "p=[d for d in p[0].get('entities') if d.get('name')=='product']"
   ]
  },
  {
   "cell_type": "code",
   "execution_count": 22,
   "id": "abcbe61d-b477-4e60-a4e4-cce5828515a1",
   "metadata": {
    "tags": []
   },
   "outputs": [
    {
     "data": {
      "text/plain": [
       "390012"
      ]
     },
     "execution_count": 22,
     "metadata": {},
     "output_type": "execute_result"
    }
   ],
   "source": [
    "len(p[0].get('ids'))"
   ]
  },
  {
   "cell_type": "code",
   "execution_count": 25,
   "id": "123b5365-ccb4-4901-afe5-53f299fb9451",
   "metadata": {
    "tags": []
   },
   "outputs": [
    {
     "data": {
      "text/plain": [
       "{'COD_RH': '0000140023', 'COD_PRODUCTO': '11'}"
      ]
     },
     "execution_count": 25,
     "metadata": {},
     "output_type": "execute_result"
    }
   ],
   "source": [
    "d=p[0].get('ids')[100000]\n",
    "d"
   ]
  },
  {
   "cell_type": "code",
   "execution_count": 32,
   "id": "7f3bf010-3bbb-4d34-a1e3-8ca414c6929e",
   "metadata": {
    "tags": []
   },
   "outputs": [],
   "source": [
    "w=requests.get(f\"http://apis.colav.co/scienti/product?apikey={k}&model_year=2022&institution=udea&COD_RH={d.get('COD_RH')}&COD_PRODUCTO={d.get('COD_PRODUCTO')}\")"
   ]
  },
  {
   "cell_type": "code",
   "execution_count": 52,
   "id": "496fade2-b351-4368-8525-75de5ca4088a",
   "metadata": {
    "tags": []
   },
   "outputs": [],
   "source": [
    "x=w.json().get('COD_TIPO_PRODUCTO')\n",
    "if isinstance(x,str) and x in dasc.keys():\n",
    "    pass"
   ]
  },
  {
   "cell_type": "code",
   "execution_count": 51,
   "id": "95512a93-a66d-4e2d-b16b-6cb5abe4a56a",
   "metadata": {
    "tags": []
   },
   "outputs": [
    {
     "data": {
      "text/plain": [
       "'121'"
      ]
     },
     "execution_count": 51,
     "metadata": {},
     "output_type": "execute_result"
    }
   ],
   "source": [
    "x"
   ]
  },
  {
   "cell_type": "code",
   "execution_count": null,
   "id": "04cec4f9-5066-4831-af26-ef02aa0bab8c",
   "metadata": {},
   "outputs": [],
   "source": []
  }
 ],
 "metadata": {
  "kernelspec": {
   "display_name": "Python 3 (ipykernel)",
   "language": "python",
   "name": "python3"
  },
  "language_info": {
   "codemirror_mode": {
    "name": "ipython",
    "version": 3
   },
   "file_extension": ".py",
   "mimetype": "text/x-python",
   "name": "python",
   "nbconvert_exporter": "python",
   "pygments_lexer": "ipython3",
   "version": "3.8.9"
  }
 },
 "nbformat": 4,
 "nbformat_minor": 5
}
