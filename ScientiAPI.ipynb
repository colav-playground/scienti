{
 "cells": [
  {
   "cell_type": "markdown",
   "id": "5909249b-e09e-417e-9638-dda251085440",
   "metadata": {},
   "source": [
    "# Scienti API"
   ]
  },
  {
   "cell_type": "code",
   "execution_count": 1,
   "id": "f86f585b-533e-487f-a320-83c591139786",
   "metadata": {
    "tags": []
   },
   "outputs": [],
   "source": [
    "import requests\n",
    "import getpass\n",
    "import pandas as pd\n",
    "from IPython.display import JSON\n",
    "import time"
   ]
  },
  {
   "cell_type": "markdown",
   "id": "4628f7d0-7f09-4570-8692-da22eb5a9405",
   "metadata": {},
   "source": [
    "## Obtain products of \"Apropiación Social del Conocimiento\" (ASC) from Scienti API"
   ]
  },
  {
   "cell_type": "markdown",
   "id": "b920fea0-9111-466f-9720-989b86439be2",
   "metadata": {},
   "source": [
    "### Read `\"NIVEL_MAX\"` for products of ASC"
   ]
  },
  {
   "cell_type": "code",
   "execution_count": 2,
   "id": "448f9cd7-a510-4d4f-9dd1-8befd1e59ae1",
   "metadata": {
    "tags": []
   },
   "outputs": [
    {
     "name": "stderr",
     "output_type": "stream",
     "text": [
      "/usr/local/lib/python3.9/dist-packages/openpyxl/worksheet/_reader.py:312: UserWarning: Unknown extension is not supported and will be removed\n",
      "  warn(msg)\n"
     ]
    }
   ],
   "source": [
    "asc=pd.read_excel('https://docs.google.com/spreadsheets/d/e/2PACX-1vSjpIpwy89MwRwJdXNy0_Z5zCK6XrieZ2_Cf7i1SQTuk4b_hRrNzuCTBgQe3eTOew/pub?output=xlsx')"
   ]
  },
  {
   "cell_type": "code",
   "execution_count": 3,
   "id": "d5375ed2-9bb2-4b05-8ea9-1970908a19d7",
   "metadata": {},
   "outputs": [
    {
     "data": {
      "text/plain": [
       "Index(['COD_RH', 'COD_PRODUCTO', 'SGL_CATEGORIA', 'NIVEL_0', 'NIVEL_1',\n",
       "       'NIVEL_2', 'NIVEL_3', 'NIVEL_MAX', 'NÚMERO', 'CATEGORIAS', 'ASC', 'NC',\n",
       "       'FRH', ' ', ' .1', ' .2', ' .3', ' .4', ' .5', ' .6', ' .7', ' .8',\n",
       "       ' .9', ' .10', ' .11'],\n",
       "      dtype='object')"
      ]
     },
     "execution_count": 3,
     "metadata": {},
     "output_type": "execute_result"
    }
   ],
   "source": [
    "asc.columns"
   ]
  },
  {
   "cell_type": "code",
   "execution_count": 4,
   "id": "72599cc0-a509-455f-be38-f60289e14678",
   "metadata": {},
   "outputs": [
    {
     "data": {
      "text/html": [
       "<div>\n",
       "<style scoped>\n",
       "    .dataframe tbody tr th:only-of-type {\n",
       "        vertical-align: middle;\n",
       "    }\n",
       "\n",
       "    .dataframe tbody tr th {\n",
       "        vertical-align: top;\n",
       "    }\n",
       "\n",
       "    .dataframe thead th {\n",
       "        text-align: right;\n",
       "    }\n",
       "</style>\n",
       "<table border=\"1\" class=\"dataframe\">\n",
       "  <thead>\n",
       "    <tr style=\"text-align: right;\">\n",
       "      <th></th>\n",
       "      <th>COD_RH</th>\n",
       "      <th>COD_PRODUCTO</th>\n",
       "      <th>SGL_CATEGORIA</th>\n",
       "      <th>NIVEL_0</th>\n",
       "      <th>NIVEL_1</th>\n",
       "      <th>NIVEL_2</th>\n",
       "      <th>NIVEL_3</th>\n",
       "      <th>NIVEL_MAX</th>\n",
       "      <th>NÚMERO</th>\n",
       "      <th>CATEGORIAS</th>\n",
       "      <th>...</th>\n",
       "      <th>.2</th>\n",
       "      <th>.3</th>\n",
       "      <th>.4</th>\n",
       "      <th>.5</th>\n",
       "      <th>.6</th>\n",
       "      <th>.7</th>\n",
       "      <th>.8</th>\n",
       "      <th>.9</th>\n",
       "      <th>.10</th>\n",
       "      <th>.11</th>\n",
       "    </tr>\n",
       "  </thead>\n",
       "  <tbody>\n",
       "    <tr>\n",
       "      <th>0</th>\n",
       "      <td>150.0</td>\n",
       "      <td>2.0</td>\n",
       "      <td>ART-00</td>\n",
       "      <td>1: Producción bibliográfica</td>\n",
       "      <td>11: Artículo</td>\n",
       "      <td>111: Publicado en revista especializada</td>\n",
       "      <td>NaN</td>\n",
       "      <td>111: Publicado en revista especializada</td>\n",
       "      <td>72886.0</td>\n",
       "      <td>['ART-00', 'ART-ART', 'ART-GC', 'EPA-EPA', 'PE...</td>\n",
       "      <td>...</td>\n",
       "      <td>NaN</td>\n",
       "      <td>NaN</td>\n",
       "      <td>NaN</td>\n",
       "      <td>NaN</td>\n",
       "      <td>NaN</td>\n",
       "      <td>NaN</td>\n",
       "      <td>NaN</td>\n",
       "      <td>NaN</td>\n",
       "      <td>NaN</td>\n",
       "      <td>NaN</td>\n",
       "    </tr>\n",
       "  </tbody>\n",
       "</table>\n",
       "<p>1 rows × 25 columns</p>\n",
       "</div>"
      ],
      "text/plain": [
       "   COD_RH  COD_PRODUCTO SGL_CATEGORIA                      NIVEL_0  \\\n",
       "0   150.0           2.0        ART-00  1: Producción bibliográfica   \n",
       "\n",
       "        NIVEL_1                                  NIVEL_2 NIVEL_3  \\\n",
       "0  11: Artículo  111: Publicado en revista especializada     NaN   \n",
       "\n",
       "                                 NIVEL_MAX   NÚMERO  \\\n",
       "0  111: Publicado en revista especializada  72886.0   \n",
       "\n",
       "                                          CATEGORIAS  ...   .2   .3   .4   .5  \\\n",
       "0  ['ART-00', 'ART-ART', 'ART-GC', 'EPA-EPA', 'PE...  ...  NaN  NaN  NaN  NaN   \n",
       "\n",
       "    .6   .7   .8   .9   .10   .11  \n",
       "0  NaN  NaN  NaN  NaN   NaN   NaN  \n",
       "\n",
       "[1 rows x 25 columns]"
      ]
     },
     "execution_count": 4,
     "metadata": {},
     "output_type": "execute_result"
    }
   ],
   "source": [
    "asc[:1]"
   ]
  },
  {
   "cell_type": "code",
   "execution_count": 5,
   "id": "06802428-0d5b-40b4-b668-50d16ca7b466",
   "metadata": {
    "tags": []
   },
   "outputs": [],
   "source": [
    "dasc=dict(asc[asc['ASC']==1]['NIVEL_MAX'].str.split(': ').str[:2].to_list())"
   ]
  },
  {
   "cell_type": "code",
   "execution_count": 6,
   "id": "84160969-12d9-475c-ac7f-847f04ae40d3",
   "metadata": {},
   "outputs": [],
   "source": [
    "dnc=dict(asc[asc['NC']==1]['NIVEL_MAX'].str.split(': ').str[:2].to_list())\n",
    "dfrh=dict(asc[asc['FRH']==1]['NIVEL_MAX'].str.split(': ').str[:2].to_list())"
   ]
  },
  {
   "cell_type": "markdown",
   "id": "3e8d4380-6bca-4882-b045-79290506231c",
   "metadata": {},
   "source": [
    "### Get all products ids from Scienti API"
   ]
  },
  {
   "cell_type": "code",
   "execution_count": 7,
   "id": "d77e015c-b850-46b5-889d-5e649632ff75",
   "metadata": {
    "tags": []
   },
   "outputs": [
    {
     "name": "stdin",
     "output_type": "stream",
     "text": [
      "API KEY ········\n"
     ]
    }
   ],
   "source": [
    "k=getpass.getpass('API KEY')"
   ]
  },
  {
   "cell_type": "markdown",
   "id": "c43bd9b3-37dc-4beb-b311-fa642de11990",
   "metadata": {},
   "source": [
    "Get full list of pro"
   ]
  },
  {
   "cell_type": "code",
   "execution_count": 8,
   "id": "9e11ea1a-6cb3-492c-8243-67d3f88de982",
   "metadata": {
    "tags": []
   },
   "outputs": [],
   "source": [
    "institution='udea'\n",
    "year=2023\n",
    "p=requests.get(f\"http://apis.colav.co/scienti/info/?apikey={k}&get=ids&institution={institution}&model_year={year}\")"
   ]
  },
  {
   "cell_type": "code",
   "execution_count": 9,
   "id": "f046f24c-980d-4201-81f6-40ba78f37740",
   "metadata": {},
   "outputs": [
    {
     "data": {
      "text/plain": [
       "200"
      ]
     },
     "execution_count": 9,
     "metadata": {},
     "output_type": "execute_result"
    }
   ],
   "source": [
    "p.status_code"
   ]
  },
  {
   "cell_type": "code",
   "execution_count": 10,
   "id": "4a21f11f-c1d7-408d-8525-4837ecc56512",
   "metadata": {
    "tags": []
   },
   "outputs": [],
   "source": [
    "p=p.json()"
   ]
  },
  {
   "cell_type": "code",
   "execution_count": 11,
   "id": "66678d47-95c4-44b5-bf0b-aa839b70222e",
   "metadata": {
    "tags": []
   },
   "outputs": [
    {
     "data": {
      "text/html": [
       "<div>\n",
       "<style scoped>\n",
       "    .dataframe tbody tr th:only-of-type {\n",
       "        vertical-align: middle;\n",
       "    }\n",
       "\n",
       "    .dataframe tbody tr th {\n",
       "        vertical-align: top;\n",
       "    }\n",
       "\n",
       "    .dataframe thead th {\n",
       "        text-align: right;\n",
       "    }\n",
       "</style>\n",
       "<table border=\"1\" class=\"dataframe\">\n",
       "  <thead>\n",
       "    <tr style=\"text-align: right;\">\n",
       "      <th></th>\n",
       "      <th>name</th>\n",
       "      <th>ids</th>\n",
       "    </tr>\n",
       "  </thead>\n",
       "  <tbody>\n",
       "    <tr>\n",
       "      <th>0</th>\n",
       "      <td>network</td>\n",
       "      <td>[{'COD_RH': '0000186473', 'COD_RED': 4}, {'COD...</td>\n",
       "    </tr>\n",
       "    <tr>\n",
       "      <th>1</th>\n",
       "      <td>product</td>\n",
       "      <td>[{'COD_RH': '0000000011', 'COD_PRODUCTO': '1'}...</td>\n",
       "    </tr>\n",
       "    <tr>\n",
       "      <th>2</th>\n",
       "      <td>event</td>\n",
       "      <td>[{'COD_RH': '0000000016', 'COD_EVENTO': 1}, {'...</td>\n",
       "    </tr>\n",
       "    <tr>\n",
       "      <th>3</th>\n",
       "      <td>patent</td>\n",
       "      <td>[{'COD_RH': '0000203190', 'COD_PATENTE': 1}, {...</td>\n",
       "    </tr>\n",
       "    <tr>\n",
       "      <th>4</th>\n",
       "      <td>institution_endorsement</td>\n",
       "      <td>[{'COD_AVAL_INSTITUCION': 1382}, {'COD_AVAL_IN...</td>\n",
       "    </tr>\n",
       "    <tr>\n",
       "      <th>5</th>\n",
       "      <td>project</td>\n",
       "      <td>[{'COD_RH': '0000000011', 'COD_PROYECTO': '1'}...</td>\n",
       "    </tr>\n",
       "  </tbody>\n",
       "</table>\n",
       "</div>"
      ],
      "text/plain": [
       "                      name                                                ids\n",
       "0                  network  [{'COD_RH': '0000186473', 'COD_RED': 4}, {'COD...\n",
       "1                  product  [{'COD_RH': '0000000011', 'COD_PRODUCTO': '1'}...\n",
       "2                    event  [{'COD_RH': '0000000016', 'COD_EVENTO': 1}, {'...\n",
       "3                   patent  [{'COD_RH': '0000203190', 'COD_PATENTE': 1}, {...\n",
       "4  institution_endorsement  [{'COD_AVAL_INSTITUCION': 1382}, {'COD_AVAL_IN...\n",
       "5                  project  [{'COD_RH': '0000000011', 'COD_PROYECTO': '1'}..."
      ]
     },
     "execution_count": 11,
     "metadata": {},
     "output_type": "execute_result"
    }
   ],
   "source": [
    "pd.DataFrame(p[0].get('entities'))"
   ]
  },
  {
   "cell_type": "code",
   "execution_count": 12,
   "id": "5994ab43-4ee6-4a68-8981-950b56207272",
   "metadata": {
    "tags": []
   },
   "outputs": [],
   "source": [
    "p=[d for d in p[0].get('entities') if d.get('name')=='product']"
   ]
  },
  {
   "cell_type": "code",
   "execution_count": 13,
   "id": "abcbe61d-b477-4e60-a4e4-cce5828515a1",
   "metadata": {
    "tags": []
   },
   "outputs": [
    {
     "data": {
      "text/plain": [
       "413913"
      ]
     },
     "execution_count": 13,
     "metadata": {},
     "output_type": "execute_result"
    }
   ],
   "source": [
    "len(p[0].get('ids'))"
   ]
  },
  {
   "cell_type": "markdown",
   "id": "bd45e028-599f-41b5-b812-f256c7ac3de4",
   "metadata": {},
   "source": [
    "### Filter products of ASC "
   ]
  },
  {
   "cell_type": "code",
   "execution_count": 17,
   "id": "2f4bfc36-9ceb-4378-a323-c9ccdf18ac44",
   "metadata": {},
   "outputs": [],
   "source": [
    "import json"
   ]
  },
  {
   "cell_type": "code",
   "execution_count": 18,
   "id": "92abcf0d-3870-4154-bdb1-feffac293cbf",
   "metadata": {},
   "outputs": [],
   "source": [
    "def to_json(d,f):\n",
    "    ob=open(f,'w')\n",
    "    json.dump(d,ob)\n",
    "    ob.close()\n",
    "    \n",
    "def read_json(f):\n",
    "    ob=open(f,'r')\n",
    "    d=json.load(f)\n",
    "    ob.close()    "
   ]
  },
  {
   "cell_type": "code",
   "execution_count": 19,
   "id": "1a4a5280-81f6-4f38-9dbf-a2f4c53b0bc3",
   "metadata": {},
   "outputs": [
    {
     "ename": "TypeError",
     "evalue": "read_json() takes 1 positional argument but 2 were given",
     "output_type": "error",
     "traceback": [
      "\u001b[0;31m---------------------------------------------------------------------------\u001b[0m",
      "\u001b[0;31mTypeError\u001b[0m                                 Traceback (most recent call last)",
      "\u001b[0;32m/tmp/ipykernel_4046/893448757.py\u001b[0m in \u001b[0;36m<module>\u001b[0;34m\u001b[0m\n\u001b[0;32m----> 1\u001b[0;31m \u001b[0mread_json\u001b[0m\u001b[0;34m(\u001b[0m\u001b[0mii\u001b[0m\u001b[0;34m,\u001b[0m\u001b[0;34m'i.json'\u001b[0m\u001b[0;34m)\u001b[0m\u001b[0;34m\u001b[0m\u001b[0;34m\u001b[0m\u001b[0m\n\u001b[0m",
      "\u001b[0;31mTypeError\u001b[0m: read_json() takes 1 positional argument but 2 were given"
     ]
    }
   ],
   "source": [
    "read_json(ii,'i.json')"
   ]
  },
  {
   "cell_type": "code",
   "execution_count": 36,
   "id": "2514703d-381b-41be-af34-ea86f9779984",
   "metadata": {},
   "outputs": [
    {
     "data": {
      "text/plain": [
       "'COD_RH'"
      ]
     },
     "execution_count": 36,
     "metadata": {},
     "output_type": "execute_result"
    }
   ],
   "source": [
    "f=open('')"
   ]
  },
  {
   "cell_type": "code",
   "execution_count": 20,
   "id": "123b5365-ccb4-4901-afe5-53f299fb9451",
   "metadata": {
    "tags": []
   },
   "outputs": [
    {
     "name": "stdout",
     "output_type": "stream",
     "text": [
      "010874:018681:011765/403095\r"
     ]
    }
   ],
   "source": [
    "ws=[]\n",
    "wn=[]\n",
    "wf=[]\n",
    "ii=[]\n",
    "i=310000#0\n",
    "for d in p[0].get('ids')[310000:]:   \n",
    "    w=requests.get(f\"http://apis.colav.co/scienti/product?apikey={k}&model_year=2022&institution=udea&COD_RH={d.get('COD_RH')}&COD_PRODUCTO={d.get('COD_PRODUCTO')}\")\n",
    "    if w.status_code!=200:\n",
    "        continue\n",
    "    if not w.json():\n",
    "        continue        \n",
    "    wj=w.json()\n",
    "    x=wj.get('COD_TIPO_PRODUCTO')\n",
    "    if isinstance(x,str) and x in dasc.keys():\n",
    "        wj['TIPO_PRODUCTO']=dasc.get(x)\n",
    "        ws.append(wj)\n",
    "        time.sleep(0.01)\n",
    "    if isinstance(x,str) and x in dnc.keys():\n",
    "        wj['TIPO_PRODUCTO']=dnc.get(x)        \n",
    "        wn.append(wj)\n",
    "        time.sleep(0.01)\n",
    "    if isinstance(x,str) and x in dfrh.keys():\n",
    "        wj['TIPO_PRODUCTO']=dfrh.get(x)        \n",
    "        wf.append(wj)\n",
    "        time.sleep(0.01)\n",
    "        \n",
    "    print(f\"{str(len(ws)).zfill(6)}:{str(len(wn)).zfill(6)}:{str(len(wf)).zfill(6)}/{str(i).zfill(6)}\",end='\\r')\n",
    "    if i%10000==0:\n",
    "        to_json(ws,'asc2.json')\n",
    "        to_json(wn,'nc2.json')\n",
    "        to_json(wf,'frh2.json')\n",
    "        to_json(ii,'i2.json')\n",
    "    #if len(wf)>0:\n",
    "    #    break\n",
    "    i+=1\n",
    "    ii=[i]\n",
    "\n",
    "        \n",
    "to_json(ws,'asc2.json')\n",
    "to_json(wn,'nc2.json')\n",
    "to_json(wf,'frh2.json')        "
   ]
  },
  {
   "cell_type": "code",
   "execution_count": 66,
   "id": "ae3aeb94-63a2-45e2-8b13-d3ef03de6a72",
   "metadata": {},
   "outputs": [],
   "source": [
    "if w.json(): print(1)"
   ]
  },
  {
   "cell_type": "code",
   "execution_count": 22,
   "id": "d8a98fac-92ec-4758-8fe8-eaee0fdd2aac",
   "metadata": {},
   "outputs": [
    {
     "data": {
      "text/plain": [
       "34877"
      ]
     },
     "execution_count": 22,
     "metadata": {},
     "output_type": "execute_result"
    }
   ],
   "source": [
    "len(ws)"
   ]
  },
  {
   "cell_type": "code",
   "execution_count": 16,
   "id": "e8d04b36-fad8-4d31-98f0-6ecbab876cc9",
   "metadata": {},
   "outputs": [],
   "source": [
    "import json"
   ]
  },
  {
   "cell_type": "code",
   "execution_count": 23,
   "id": "84a5a140-0581-458d-a865-c1c3019c4af0",
   "metadata": {},
   "outputs": [],
   "source": [
    "fp=open('asc.json','w')\n",
    "json.dump(ws,fp)\n",
    "fp.close()"
   ]
  },
  {
   "cell_type": "code",
   "execution_count": 18,
   "id": "f1f1b87e-6469-4d29-93a5-233cecfa5ff1",
   "metadata": {},
   "outputs": [
    {
     "name": "stdout",
     "output_type": "stream",
     "text": [
      "-rw-r--r-- 1 restrepo restrepo 263M Aug 22 20:59 asc.json\n"
     ]
    }
   ],
   "source": [
    "ls -lh asc.json"
   ]
  },
  {
   "cell_type": "markdown",
   "id": "55539191-35bb-4ba9-b0f0-89ee99266d2d",
   "metadata": {},
   "source": [
    "fp=open('asc.json','r')\n",
    "ws=json.load(fp)\n",
    "fp.close()"
   ]
  },
  {
   "cell_type": "code",
   "execution_count": 78,
   "id": "f8c760e2-9287-4b6a-b0e3-49c01724d913",
   "metadata": {},
   "outputs": [
    {
     "data": {
      "text/plain": [
       "16881"
      ]
     },
     "execution_count": 78,
     "metadata": {},
     "output_type": "execute_result"
    }
   ],
   "source": [
    "len(ws)"
   ]
  },
  {
   "cell_type": "markdown",
   "id": "ec62258a-03a6-410e-9402-1a5d7c485e7a",
   "metadata": {},
   "source": [
    "### Export to table"
   ]
  },
  {
   "cell_type": "code",
   "execution_count": 21,
   "id": "1c3a6bf1-9f94-4431-ba3a-e0886f81fb3b",
   "metadata": {},
   "outputs": [],
   "source": [
    "#https://www.techieclues.com/blogs/how-to-get-variable-name-as-string-in-python\n",
    "def name(variable):\n",
    "    for name in globals():\n",
    "        if id(globals()[name]) == id(variable):\n",
    "            return name\n",
    "    for name in locals():\n",
    "        if id(locals()[name]) == id(variable):\n",
    "            return name\n",
    "    return None\n",
    "\n",
    "def details(w):\n",
    "    d=w.get('details')[0]\n",
    "    if len(d.keys())==1:\n",
    "        intd=d.get(list(d.keys())[0])\n",
    "        if intd and isinstance(intd,list):\n",
    "            newintd={}\n",
    "            for intk in intd[0].keys():\n",
    "                if intd[0][intk]:\n",
    "                    newintd[intk]=intd[0][intk]\n",
    "    return newintd\n",
    "\n",
    "filterfields={\n",
    "'general':['COD_RH', 'COD_PRODUCTO', 'COD_TIPO_PRODUCTO','TIPO_PRODUCTO', 'TXT_NME_PROD', \n",
    "       'TXT_RESUMEN_PROD', \n",
    "        'NRO_ANO_PRESENTA','NRO_MES_PRESENTA','DTA_CREACION','DTA_ACTUALIZACION',\n",
    "        'TXT_WEB_PRODUCTO', 'SGL_CATEGORIA',\n",
    "        'TXT_DOI', 'TXT_INST_PART', 'DTA_EXPOSICION',\n",
    "       'STA_EVENTO', 'TXT_NME_TITULAR',  \n",
    "       'NRO_AUTORES_TOTAL', 'NRO_GRUPOS',\n",
    "       'COD_PROYECTO', 'ANO_INIC', 'ANO_FIM', 'TXT_NOME_PROJETO'\n",
    "       ],\n",
    "'author':['TXT_TOTAL_NAMES','TXT_NAMES_RH',\n",
    "'TXT_PRIM_APELL',\n",
    "'TXT_SEG_APELL',\n",
    "'TPO_NACIONALIDAD',\n",
    "'TPO_DOCUMENTO_IDENT',\n",
    "'TPO_SEXO',\n",
    "'COD_ORCID',\n",
    "'AUTOR_ID_SCP',\n",
    "],\n",
    "'group':['NRO_ID_GRUPO', 'COD_ID_GRUPO', 'NME_GRUPO','COD_RH_AREA', 'COD_AREA_CONHEC', \n",
    "       'COD_PROGRAMA', 'COD_PROGRAMA_SECUND','TXT_PLAN_TRABAJO', \n",
    "       'TXT_ESTADO_ARTE', 'TXT_OBJETIVOS', 'TXT_PROD_DESTACADA', 'TXT_RETOS', 'TXT_VISION',\n",
    "       'area'],\n",
    "'institution':['COD_INST', 'COD_INST_MACRO', 'NME_INST','SGL_INST', \n",
    "             'COD_SECTOR_ECON', 'SGL_PAIS', 'SGL_DEPARTAMENTO'],\n",
    "'authors':['COD_RH_OTRO','TXT_TOTAL_NAMES_FILTRO'],\n",
    "'project':['COD_RH', 'COD_PROYECTO', 'TXT_NME_PROYECTO', 'TXT_NME_PROYECTO_FILTRO', 'TXT_OBSERV_PROYECTO', \n",
    "         'TXT_RESUMEN_PROYECTO', 'TPO_PROYECTO', 'NRO_ANO_INICIO', \n",
    "         'NRO_ANO_FIN' 'NRO_DURACION', 'TPO_ESTADO_PROYECTO'],\n",
    "'article':['TXT_VOLUMEN_REVISTA',\n",
    "  'TXT_FASCICULO_REVISTA',\n",
    "  'TXT_SERIE_REVISTA',\n",
    "  'TXT_PAGINA_INICIAL',\n",
    "  'TXT_PAGINA_FINAL'],\n",
    "'journal':['TXT_ISSN_SEP','TXT_NME_REVISTA','SGL_PAIS','TPO_REVISTA','TPO_CLASIFICACION','TXT_URL'],   \n",
    "'oriented_thesis': ['COD_PROGRAMA_ACADEMICO',\n",
    "      'NRO_PAGINAS',\n",
    "      'TPO_ORIENTACION',\n",
    "      'NRO_MESES',\n",
    "      'TPO_ESTADO',\n",
    "      'TXT_NME_ORIENTADOS',\n",
    "      'VALORACION_OBT_TESIS',\n",
    "      'TPO_INSTITUCION',\n",
    "      'NRO_ANO_FIN',\n",
    "      'NRO_MES_FIN'],\n",
    "'institution': [\n",
    "        'NME_INST',\n",
    "        'SGL_INST',\n",
    "        'URL_HOME_PAGE',\n",
    "        'TXT_CIUDAD_INST',\n",
    "        'ID_INSTITUCION']    \n",
    "}"
   ]
  },
  {
   "cell_type": "code",
   "execution_count": 75,
   "id": "1ddbfe91-07c4-47c6-a072-0d141a440451",
   "metadata": {},
   "outputs": [],
   "source": [
    "f=open('frh.json','r')\n",
    "wn=json.load(f)\n",
    "f.close()"
   ]
  },
  {
   "cell_type": "code",
   "execution_count": 76,
   "id": "775d906a-7ac1-43e8-b1ca-9e154af37d1d",
   "metadata": {},
   "outputs": [
    {
     "name": "stdout",
     "output_type": "stream",
     "text": [
      "044994\r"
     ]
    }
   ],
   "source": [
    "Ws=[]\n",
    "for w in wn:#ws:#wf:\n",
    "    W={}\n",
    "    for k in filterfields['general']:\n",
    "        W[k]=w.get(k)\n",
    "    for sub in ['author','authors','group','institution','project','details']:\n",
    "        if w.get(sub) and isinstance(w.get(sub),list):\n",
    "            if sub != 'details':\n",
    "                for kt in filterfields[sub]:\n",
    "                    W[f'{sub}_{kt}']=w.get(sub)[0].get(kt)\n",
    "            else:\n",
    "                details=list(w.get(sub)[0].keys())[0]\n",
    "                detailed=w.get(sub)[0].get(details)[0]\n",
    "                if details in filterfields.keys():\n",
    "                    for kt in filterfields[details]:\n",
    "                        W[f'{details}_{kt}']=w.get(sub)[0].get(details)[0].get(kt)\n",
    "                else:\n",
    "                    W['details']=w.get(sub)[0].get(details)[0]\n",
    "                try:\n",
    "                    subdetails = [ x for x in detailed.keys() if isinstance(detailed.get(x),list) ][0]\n",
    "                except:\n",
    "                    subdetails = None\n",
    "                    \n",
    "                if subdetails and subdetails in filterfields.keys():\n",
    "                    for kt in filterfields[subdetails]:\n",
    "                        W[f'{subdetails}_{kt}']=w.get(sub)[0].get(details)[0].get(subdetails)[0].get(kt)                    \n",
    "#                raise Exception('STOP')\n",
    "    Ws.append(W)\n",
    "    print(f'{str(len(Ws)).zfill(6)}',end='\\r')\n",
    "del wn#ws#wf"
   ]
  },
  {
   "cell_type": "code",
   "execution_count": 78,
   "id": "39212f63-b637-4b14-bc3f-95e479b4f0a0",
   "metadata": {},
   "outputs": [],
   "source": [
    "df=pd.DataFrame(Ws)"
   ]
  },
  {
   "cell_type": "code",
   "execution_count": 79,
   "id": "f2f90f8b-93bd-423a-891d-c6769e4d7fb5",
   "metadata": {},
   "outputs": [],
   "source": [
    "#df.to_excel('ASC1.xlsx',index=None)\n",
    "#df[:20000].to_excel('NC1.xlsx',index=None)\n",
    "#df[20000:40000].to_excel('NC2.xlsx',index=None)\n",
    "#df[40000:].to_excel('NC3.xlsx',index=None)\n",
    "df.to_excel('FRH1.xlsx',index=None)"
   ]
  },
  {
   "cell_type": "code",
   "execution_count": 70,
   "id": "4673ccdc-a360-4f7b-99e6-591fa9ac7d55",
   "metadata": {},
   "outputs": [],
   "source": [
    "del Ws"
   ]
  },
  {
   "cell_type": "code",
   "execution_count": 71,
   "id": "3a9e5d1f-9e4b-41b1-9559-16b599e06938",
   "metadata": {},
   "outputs": [
    {
     "name": "stdout",
     "output_type": "stream",
     "text": [
      "-rw-r--r-- 1 restrepo restrepo 8.9M Sep 12 09:45 NC3.xlsx\n"
     ]
    }
   ],
   "source": [
    "ls -lh NC3.xlsx"
   ]
  },
  {
   "cell_type": "code",
   "execution_count": 72,
   "id": "0b1f8117-addb-4ea3-b9e2-d37145f5d196",
   "metadata": {},
   "outputs": [
    {
     "data": {
      "text/html": [
       "<div>\n",
       "<style scoped>\n",
       "    .dataframe tbody tr th:only-of-type {\n",
       "        vertical-align: middle;\n",
       "    }\n",
       "\n",
       "    .dataframe tbody tr th {\n",
       "        vertical-align: top;\n",
       "    }\n",
       "\n",
       "    .dataframe thead th {\n",
       "        text-align: right;\n",
       "    }\n",
       "</style>\n",
       "<table border=\"1\" class=\"dataframe\">\n",
       "  <thead>\n",
       "    <tr style=\"text-align: right;\">\n",
       "      <th></th>\n",
       "      <th>COD_RH</th>\n",
       "      <th>COD_PRODUCTO</th>\n",
       "      <th>COD_TIPO_PRODUCTO</th>\n",
       "      <th>TIPO_PRODUCTO</th>\n",
       "      <th>TXT_NME_PROD</th>\n",
       "      <th>TXT_RESUMEN_PROD</th>\n",
       "      <th>NRO_ANO_PRESENTA</th>\n",
       "      <th>NRO_MES_PRESENTA</th>\n",
       "      <th>DTA_CREACION</th>\n",
       "      <th>DTA_ACTUALIZACION</th>\n",
       "      <th>...</th>\n",
       "      <th>project_COD_PROYECTO</th>\n",
       "      <th>project_TXT_NME_PROYECTO</th>\n",
       "      <th>project_TXT_NME_PROYECTO_FILTRO</th>\n",
       "      <th>project_TXT_OBSERV_PROYECTO</th>\n",
       "      <th>project_TXT_RESUMEN_PROYECTO</th>\n",
       "      <th>project_TPO_PROYECTO</th>\n",
       "      <th>project_NRO_ANO_INICIO</th>\n",
       "      <th>project_NRO_ANO_FINNRO_DURACION</th>\n",
       "      <th>project_TPO_ESTADO_PROYECTO</th>\n",
       "      <th>details</th>\n",
       "    </tr>\n",
       "  </thead>\n",
       "  <tbody>\n",
       "    <tr>\n",
       "      <th>0</th>\n",
       "      <td>0000000011</td>\n",
       "      <td>10</td>\n",
       "      <td>113</td>\n",
       "      <td>Revisión (Survey)</td>\n",
       "      <td>Glucagon like peptide 1 receptor agonists: a t...</td>\n",
       "      <td>None</td>\n",
       "      <td>2018.0</td>\n",
       "      <td>3</td>\n",
       "      <td>2018-03-05 11:07:51</td>\n",
       "      <td>2018-03-05 11:07:51</td>\n",
       "      <td>...</td>\n",
       "      <td>NaN</td>\n",
       "      <td>NaN</td>\n",
       "      <td>NaN</td>\n",
       "      <td>NaN</td>\n",
       "      <td>NaN</td>\n",
       "      <td>NaN</td>\n",
       "      <td>NaN</td>\n",
       "      <td>NaN</td>\n",
       "      <td>NaN</td>\n",
       "      <td>NaN</td>\n",
       "    </tr>\n",
       "  </tbody>\n",
       "</table>\n",
       "<p>1 rows × 73 columns</p>\n",
       "</div>"
      ],
      "text/plain": [
       "       COD_RH COD_PRODUCTO COD_TIPO_PRODUCTO      TIPO_PRODUCTO  \\\n",
       "0  0000000011           10               113  Revisión (Survey)   \n",
       "\n",
       "                                        TXT_NME_PROD TXT_RESUMEN_PROD  \\\n",
       "0  Glucagon like peptide 1 receptor agonists: a t...             None   \n",
       "\n",
       "   NRO_ANO_PRESENTA  NRO_MES_PRESENTA         DTA_CREACION  \\\n",
       "0            2018.0                 3  2018-03-05 11:07:51   \n",
       "\n",
       "     DTA_ACTUALIZACION  ... project_COD_PROYECTO project_TXT_NME_PROYECTO  \\\n",
       "0  2018-03-05 11:07:51  ...                  NaN                      NaN   \n",
       "\n",
       "  project_TXT_NME_PROYECTO_FILTRO project_TXT_OBSERV_PROYECTO  \\\n",
       "0                             NaN                         NaN   \n",
       "\n",
       "  project_TXT_RESUMEN_PROYECTO project_TPO_PROYECTO project_NRO_ANO_INICIO  \\\n",
       "0                          NaN                  NaN                    NaN   \n",
       "\n",
       "  project_NRO_ANO_FINNRO_DURACION project_TPO_ESTADO_PROYECTO details  \n",
       "0                             NaN                         NaN     NaN  \n",
       "\n",
       "[1 rows x 73 columns]"
      ]
     },
     "execution_count": 72,
     "metadata": {},
     "output_type": "execute_result"
    }
   ],
   "source": [
    "df[:1]"
   ]
  },
  {
   "cell_type": "code",
   "execution_count": 73,
   "id": "b3a8f447-f4c3-4b3d-918a-2f66ebe59e90",
   "metadata": {},
   "outputs": [
    {
     "data": {
      "text/plain": [
       "Index(['COD_RH', 'COD_PRODUCTO', 'COD_TIPO_PRODUCTO', 'TIPO_PRODUCTO',\n",
       "       'TXT_NME_PROD', 'TXT_RESUMEN_PROD', 'NRO_ANO_PRESENTA',\n",
       "       'NRO_MES_PRESENTA', 'DTA_CREACION', 'DTA_ACTUALIZACION',\n",
       "       'TXT_WEB_PRODUCTO', 'SGL_CATEGORIA', 'TXT_DOI', 'TXT_INST_PART',\n",
       "       'DTA_EXPOSICION', 'STA_EVENTO', 'TXT_NME_TITULAR', 'NRO_AUTORES_TOTAL',\n",
       "       'NRO_GRUPOS', 'COD_PROYECTO', 'ANO_INIC', 'ANO_FIM', 'TXT_NOME_PROJETO',\n",
       "       'author_TXT_TOTAL_NAMES', 'author_TXT_NAMES_RH',\n",
       "       'author_TXT_PRIM_APELL', 'author_TXT_SEG_APELL',\n",
       "       'author_TPO_NACIONALIDAD', 'author_TPO_DOCUMENTO_IDENT',\n",
       "       'author_TPO_SEXO', 'author_COD_ORCID', 'author_AUTOR_ID_SCP',\n",
       "       'article_TXT_VOLUMEN_REVISTA', 'article_TXT_FASCICULO_REVISTA',\n",
       "       'article_TXT_SERIE_REVISTA', 'article_TXT_PAGINA_INICIAL',\n",
       "       'article_TXT_PAGINA_FINAL', 'journal_TXT_ISSN_SEP',\n",
       "       'journal_TXT_NME_REVISTA', 'journal_SGL_PAIS', 'journal_TPO_REVISTA',\n",
       "       'journal_TPO_CLASIFICACION', 'journal_TXT_URL', 'group_NRO_ID_GRUPO',\n",
       "       'group_COD_ID_GRUPO', 'group_NME_GRUPO', 'group_COD_RH_AREA',\n",
       "       'group_COD_AREA_CONHEC', 'group_COD_PROGRAMA',\n",
       "       'group_COD_PROGRAMA_SECUND', 'group_TXT_PLAN_TRABAJO',\n",
       "       'group_TXT_ESTADO_ARTE', 'group_TXT_OBJETIVOS',\n",
       "       'group_TXT_PROD_DESTACADA', 'group_TXT_RETOS', 'group_TXT_VISION',\n",
       "       'group_area', 'institution_NME_INST', 'institution_SGL_INST',\n",
       "       'institution_URL_HOME_PAGE', 'institution_TXT_CIUDAD_INST',\n",
       "       'institution_ID_INSTITUCION', 'project_COD_RH', 'project_COD_PROYECTO',\n",
       "       'project_TXT_NME_PROYECTO', 'project_TXT_NME_PROYECTO_FILTRO',\n",
       "       'project_TXT_OBSERV_PROYECTO', 'project_TXT_RESUMEN_PROYECTO',\n",
       "       'project_TPO_PROYECTO', 'project_NRO_ANO_INICIO',\n",
       "       'project_NRO_ANO_FINNRO_DURACION', 'project_TPO_ESTADO_PROYECTO',\n",
       "       'details'],\n",
       "      dtype='object')"
      ]
     },
     "execution_count": 73,
     "metadata": {},
     "output_type": "execute_result"
    }
   ],
   "source": [
    "df.columns"
   ]
  },
  {
   "cell_type": "code",
   "execution_count": 74,
   "id": "985764e6-c9ee-47b5-a98e-246bf1d1eb75",
   "metadata": {},
   "outputs": [],
   "source": [
    "del df"
   ]
  },
  {
   "cell_type": "code",
   "execution_count": 38,
   "id": "867bb565-0efa-47cb-80f6-0f8afc0f6138",
   "metadata": {},
   "outputs": [],
   "source": [
    "from IPython.display import JSON"
   ]
  },
  {
   "cell_type": "code",
   "execution_count": 40,
   "id": "2ac1df59-f8ea-4668-9618-5c4fc2b49a83",
   "metadata": {},
   "outputs": [
    {
     "data": {
      "application/json": {
       "ANO_FIM": "2015",
       "ANO_INIC": "2015",
       "COD_PRODUCTO": "46",
       "COD_PROYECTO": "46",
       "COD_RH": "0000034118",
       "COD_TIPO_PRODUCTO": "2Q2",
       "DTA_EXPOSICION": null,
       "NRO_ANO_PRESENTA": 2015,
       "NRO_AUTORES_TOTAL": null,
       "NRO_GRUPOS": null,
       "STA_EVENTO": null,
       "TIPO_PRODUCTO": "Portal",
       "TXT_DOI": null,
       "TXT_INST_PART": "Universidad de Antioquia",
       "TXT_NME_PROD": "La UdeA cultivará microalgas para Colombia",
       "TXT_NME_TITULAR": null,
       "TXT_NOME_PROJETO": "Transferencia tecnología Universidad de Antioquia ECOTEC de un sistema de iluminación para la mejora en la producción de biomasa y productos de interés comercial a partir de microalgas",
       "TXT_RESUMEN_PROD": "Microalgas con funcionalidades para la industria cosmética, farmacéutica y alimentaria serán cultivadas en Colombia gracias a la alianza entre el grupo de investigación Biotecnología de la Universidad de Antioquia, Colciencias y la empresa cultivadora de microalgas Ecotec.",
       "TXT_WEB_PRODUCTO": "http://www.udea.edu.co/wps/portal/udea/web/inicio/udea-noticias/udea-noticia/!ut/p/z0/fYy9DoJAEIRfxYaS7Il4akksTIyFhTFwjVmPC6wet_wcxMcXpNHGZjIz-WZAQQrK4UAFemKHdsyZkrftbh8tk1ichIylSOQ5Xm-iw-pyFXAE9R8YH-jRNCoBpdl58_KQ1tx6tH1uMBDY_aaSKzP7SReOPWnCLhCftaOcJ-qrJuNGN-Oh7q2nAVsMK9Itoy2wCzVbru6EUD9V9gaXrKo5/",
       "author_TXT_TOTAL_NAMES": "Lucia Atehortua Garces",
       "details": {
        "COD_PRODUCTO": "46",
        "COD_RH": "0000034118",
        "DTA_ACTUALIZACION": "2016-01-04 15:28:01",
        "DTA_CREACION": "2016-01-04 15:28:01",
        "tech_product": [
         {
          "COD_EDITORIAL": null,
          "COD_EDITORIAL_OTRO": null,
          "COD_PRODUCTO": "46",
          "COD_RH": "0000034118",
          "DTA_ACTUALIZACION": "2016-01-04 15:28:01",
          "DTA_CREACION": "2016-01-04 15:28:01",
          "DTA_PRESENTACION": "2015-06-01 00:00:00",
          "NRO_ANO_FIN": null,
          "NRO_DURACION": null,
          "NRO_MES_FIN": null,
          "NRO_PAGINAS": null,
          "NRO_VLR_CONTRATO": null,
          "TPO_AMBITO": null,
          "TXT_AMBIENTE": null,
          "TXT_AREA_REPRESENTA": null,
          "TXT_CONTRATO": null,
          "TXT_EMISORA": null,
          "TXT_MAT_EMPLEADO": null,
          "TXT_PLATAFORMA": null,
          "TXT_TECNICA": null,
          "TXT_TEMA": null
         }
        ]
       },
       "group_COD_AREA_CONHEC": "1F16",
       "group_COD_ID_GRUPO": "COL0001084",
       "group_COD_PROGRAMA": 1,
       "group_COD_PROGRAMA_SECUND": 0,
       "group_COD_RH_AREA": "0000000000",
       "group_NME_GRUPO": "Biotecnología",
       "group_NRO_ID_GRUPO": "00000000001702",
       "group_TXT_ESTADO_ARTE": "ESTADO DEL ARTE  EN BIOTECNOLOGIA:\r\n\r\nA nivel mundial, las investigaciones en Biotecnologia estan centradas en cuatro grandes áreas: Genómica (mapeo, secuenciación y caracterización de genes), Proteómica (estudio de la interacción de las  proteínas, mecanismos de control y expresión génica, entre otras), Metabolómica (procesos metabolicos y la cascada de transformaciones que cualquier cambio molecular pueda generar) y Bioinformática (basado en supercomputadores con la capacidad de almacenar grandes bases de datos sobre secuencias genómicas del hombre y otros organismos vivos, desarrollo de algoritmos que permitan comparar bases e interacción de datos de librerías genómicas,  librerías químicas, de proteínas, química combinatoria, entre otras) las cuales generarán grandes cambios filosóficos en la concepción de la vida y la naturaleza y en los mercados  bursátiles del mundo entero, debido, en gran parte, a los desarrollos y aplicaciones derivados de  las investigaciones sobre el genoma humano.\r\n",
       "group_TXT_OBJETIVOS": "OBJETIVOS DEL GRUPO PARA LOS PROXIMOS 5 AÑOS\r\n\r\nOBJETIVOS DEL GRUPO PARA LOS PROXIMOS 5 AÑOS\r\n\r\n1. Consolidar los programas de formación del capital humano a alto nivel: Maestrías, Doctorados y Postdoctorados.\r\n\r\n2. Desarrollar investigación de alto nivel en temas estratégicos regionales, nacionales y/o mundiales, en busca del mejoramiento de la calidad de vida y el desarrollo sostenible.\r\n\r\n3. Desarrollar investigación aplicada y desarrollo tecnológico con los sectores productivos nacionales y/o internacionales\r\n\r\n4. Ser reconocidos como un grupo de excelencia a nivel nacional e internacional\r\n\r\n",
       "group_TXT_PLAN_TRABAJO": "El grupo tiene como plan de trabajo desarrollar las siguientes actividades:\r\n\r\n-Docentes: Formación de investigadores en el área de Biotecnología a  nivel de   maestría y doctorado\r\n\r\n-Desarrollar investigaciones en las líneas de desarrollo del grupo:\r\nLínea de Cultivos Celulares Cacao\r\nLínea de Cultivos Celulares Jatropha\r\nLínea de Hongos\r\nLínea de Microalgas\r\nLínea de Molecular\r\n\r\n-Desarrollar procesos y productos en Joint-Venture con la empresa privada, el estado y/o particulares interesados en unirse al grupo bajo esta modalidad \r\n-Desarrollar un programa de Diplomado en Biotecnología dirigido a empresarios y profesionales de otras disciplinas\r\n-Continuar con el semillero en Biotecnología dirigido a estudiantes de niveles primarios y secundarios que aspiran a ingresar a la Universidad\r\n-Establecer alianzas estratégicas con otras instituciones y/o empresas regionales, nacionales e internacionales\r\n\r\nEl grupo de Biotecnología cuenta con un personal multidisciplinario en áreas como  Biología, Microbiología, Química, Ingeniería, Biotecnología, desde su año de conformación ante COLCIENCIAS en  1999 el  grupo tiene como plan de trabajo desarrollar  actividades para la formación de investigadores en el área de Biotecnología a nivel de maestría y doctorado Desarrollar investigaciones en las líneas de desarrollo del grupo, Desarrollar procesos y productos en JointVenture con la empresa privada, el estado y/o particulares interesados en unirse al grupo bajo esta modalidad. Actualmente cuenta con un personal de alrededor de 60 integrantes entre estudiantes de pre-grado, Maestría y Doctorado, Jovenes Investigadores Colciencias y CODI, pasantes de la UdeA y otras Universidades y Profesionales vinculados a proyectos de investigación.\r\n\r\n\r\n",
       "group_TXT_PROD_DESTACADA": "\r\nRESULTADOS MAS IMPORTANTES \r\n\r\n1. Haber logrado integrar a los investigadores de las principales facultades de la Universidad de Antioquia que desarrollan proyectos en las diferentes áreas de la Biotecnología\r\n\r\n2. Haber logrado elaborar, presentar y aprobar dos programas de alto nivel: Maestría en biotecnología (código número 120166600600500111100), y el Doctorado en biotecnología en cotutorías con importantes centros de la Unión Europea y América Latina.\r\n\r\n3. Lograr la aprobación del Diplomado en el área de Biotecnología, orientado a la capacitación de empresarios y otro profesionales en esta temática\r\n\r\n4. Haber logrado una alianza estratégica para la formación de Investigadores a alto nivel mediante la red Alfa Caribiotec\r\n\r\n5. Ser clasificados como grupo B en la convocatoria de COLCIENCIAS del año 2000\r\n\r\n6. Obtener financiación mediante proyectos de sostenibilidad de la Universidad de Antioquia\r\n\r\n7. Lograr un espacio físico para los laboratorios de investigación del grupo en la nueva sede de Investigación Universitaria de la universidad de Antioquia (SIU).\r\n\r\n8. Haber implementado un Semillero en biotecnología dirigido a estudiantes de bachillerato\r\n\r\n",
       "group_TXT_RETOS": null,
       "group_TXT_VISION": "VISIÓN\r\n\r\nEl grupo de Biotecnología tiene como visión:\r\n\r\nBuscar el reconocimiento regional, nacional e internacional en  las líneas de investigación del grupo. Estar en capacidad de ofrecer productos y servicios de impacto social, económico y ambiental siguiendo las políticas del desarrollo sostenible. Formar recurso humano de alto nivel científico y tecnológico, capaz de proponer soluciones reales a los problemas del entorno.\r\n\r\n",
       "group_knowledge_area": [
        {
         "COD_AREA_CONOCIMIENTO": "1F16",
         "COD_AREA_CONOCIMIENTO_FULL": "1 - 1F - 1F16",
         "COD_AREA_PADRE": "1F",
         "COD_RH": "0000000000",
         "COD_RH_FULL": "0000000000",
         "COD_RH_PADRE": "0000000000",
         "DTA_ACTUALIZACION": "2013-10-31 00:00:00",
         "DTA_CREACION": "2013-10-31 00:00:00",
         "NRO_NIVEL": 2,
         "TPO_CAMBIO": "T",
         "TXT_NME_AREA": "Otras Biologías",
         "TXT_NME_AREA_FILTRO": "OTRAS BIOLOGIAS",
         "TXT_NME_AREA_FULL": "Ciencias Naturales -- Ciencias Biológicas -- Otras Biologías",
         "TXT_VERIFICADO": "T",
         "knowledge_area": [
          {
           "COD_AREA_CONOCIMIENTO": "1F",
           "COD_AREA_CONOCIMIENTO_FULL": "1 - 1F",
           "COD_AREA_PADRE": "1",
           "COD_RH": "0000000000",
           "COD_RH_FULL": "0000000000",
           "COD_RH_PADRE": "0000000000",
           "DTA_ACTUALIZACION": "2013-11-15 11:42:07",
           "DTA_CREACION": "2013-10-31 00:00:00",
           "NRO_NIVEL": 1,
           "TPO_CAMBIO": "T",
           "TXT_NME_AREA": "Ciencias Biológicas",
           "TXT_NME_AREA_FILTRO": "CIENCIAS BIOLOGICAS",
           "TXT_NME_AREA_FULL": "Ciencias Naturales -- Ciencias Biológicas",
           "TXT_VERIFICADO": "T",
           "knowledge_area": [
            {
             "COD_AREA_CONOCIMIENTO": "1",
             "COD_AREA_CONOCIMIENTO_FULL": null,
             "COD_AREA_PADRE": null,
             "COD_RH": "0000000000",
             "COD_RH_FULL": null,
             "COD_RH_PADRE": "0000000000",
             "DTA_ACTUALIZACION": "2013-10-31 00:00:00",
             "DTA_CREACION": "2013-10-31 00:00:00",
             "NRO_NIVEL": 0,
             "TPO_CAMBIO": "T",
             "TXT_NME_AREA": "Ciencias Naturales",
             "TXT_NME_AREA_FILTRO": "CIENCIAS NATURALES",
             "TXT_NME_AREA_FULL": "Ciencias Naturales",
             "TXT_VERIFICADO": "T"
            }
           ]
          }
         ]
        }
       ],
       "institution_COD_INST": "007300000887",
       "institution_COD_INST_MACRO": "007300000887",
       "institution_COD_SECTOR_ECON": "241",
       "institution_NME_INST": "UNIVERSIDAD DE ANTIOQUIA",
       "institution_SGL_DEPARTAMENTO": "31",
       "institution_SGL_INST": "UdeA",
       "institution_SGL_PAIS": "1",
       "project_COD_PROYECTO": "46",
       "project_COD_RH": "0000034118",
       "project_NRO_ANO_FINproject_NRO_DURACION": "nan",
       "project_NRO_ANO_INICIO": 2015,
       "project_TPO_ESTADO_PROYECTO": null,
       "project_TPO_PROYECTO": "IN",
       "project_TXT_NME_PROYECTO": "Transferencia tecnología Universidad de Antioquia ECOTEC de un sistema de iluminación para la mejora en la producción de biomasa y productos de interés comercial a partir de microalgas",
       "project_TXT_NME_PROYECTO_FILTRO": "TRANSFERENCIA TECNOLOGIA UNIVERSIDAD DE ANTIOQUIA ECOTEC DE UN SISTEMA DE ILUMINACION PARA LA MEJORA EN LA PRODUCCION DE BIOMASA Y PRODUCTOS DE INTERES COMERCIAL A PARTIR DE MICROALGAS",
       "project_TXT_OBSERV_PROYECTO": null,
       "project_TXT_RESUMEN_PROYECTO": "El Grupo de Investigación en Biotecnología de la Universidad de Antioquia lleva varios años adelantando proyectos de investigación, financiados con recursos internos y externos, orientados a la producción de biomasa de microalgas y productos de alto valor comercial derivados de la misma. El trabajo de investigación nos ha conducido al desarrollo de prototipos que permiten aportar al sistema de cultivo, por\r\nmedio de la radiación electromagnética de características específicas y apropiadas, condiciones que estimulan las capacidades productivas de estas células. Un mejoramiento en las productividades de biomasa, lípidos, polisacáridos y pigmentos ha sido obtenido al someter diferentes especies de microalgas a estos sistemas de iluminación, indicando que este desarrollo tecnológico presenta un amplio potencial de utilización a nivel comercial. Dentro del portafolio de biomoleculas obtenidas hasta el momento por el grupo, los pigmentos naturales tipo ficobilinas son uno de los productos de mayor interés comercial, especialmente en el sector farmacéutico, cosmético y de alimentos funcionales, cuyos rendimientos aumentan hasta 2,33 veces al ser sometidos a los sistemas de iluminación desarrollados. Entendiendo las limitaciones del laboratorio en temas de inversión, tiempo y experiencia requerido para llegar al mercado, se buscó una alianza con ECOTEC, una empresa colombiana, ubicada en la región de Antioquia, la cual produce y comercializa concentrados para peces y alimentos funcionales para humanos a partir de microalgas. Esta empresa se encuentra interesada en incursionar en la producción de pigmentos y bioinsumos a partir de microalgas, para producirlas y comercializarlas en el mercado nacional y regional. Los avances tecnológicos desarrollados por el laboratorio, sobre los diferentes factores físicos como la iluminación, que inciden en la eficiencia de los procesos biológicos y de crecimiento de las microalgas, pueden incrementar la productividad de la actual infraestructura de ECOTEC, y ampliar la gama de productos y sectores, que permita a la empresa tener una posición ventajosa en el mercado. Con el fin de realizar una transferencia tecnológica que beneficie tanto al laboratorio como a la empresa privada, se realizará un modelo de utilidad como estrategia de protección de la propiedad intelectual, y el posterior contrato de licenciamiento, que permita a los actores la transferencia, explotación y comercialización de la tecnología. Para la empresa se desarrollará la adaptación y construcción de un prototipo para la iluminación de los tanques raceway de producción de microalgas propios de la empresa, así como la elaboración de protocolos para el seguimiento de los cultivos y la evaluación pre comercial de la tecnología."
      },
      "text/plain": [
       "<IPython.core.display.JSON object>"
      ]
     },
     "execution_count": 40,
     "metadata": {
      "application/json": {
       "expanded": false,
       "root": "root"
      }
     },
     "output_type": "execute_result"
    },
    {
     "name": "stderr",
     "output_type": "stream",
     "text": [
      "/usr/local/lib/python3.9/dist-packages/jupyter_client/session.py:716: UserWarning: Message serialization failed with:\n",
      "Out of range float values are not JSON compliant\n",
      "Supporting this message is deprecated in jupyter-client 7, please make sure your message is JSON-compliant\n",
      "  content = self.pack(content)\n"
     ]
    }
   ],
   "source": [
    "JSON(df.dropna(subset=['author_TXT_TOTAL_NAMES','group_NRO_ID_GRUPO','institution_NME_INST',\n",
    "                 'project_TXT_NME_PROYECTO','TXT_RESUMEN_PROD']).iloc[0].to_dict())"
   ]
  },
  {
   "cell_type": "code",
   "execution_count": 32,
   "id": "3b1958f4-c2ff-47e4-a2b0-e549c6f65450",
   "metadata": {},
   "outputs": [],
   "source": [
    "import unidecode as ud"
   ]
  },
  {
   "cell_type": "code",
   "execution_count": 36,
   "id": "1fbc537a-3a55-4e47-b312-7a3f5d7894f1",
   "metadata": {},
   "outputs": [
    {
     "data": {
      "text/plain": [
       "(34877, 52)"
      ]
     },
     "execution_count": 36,
     "metadata": {},
     "output_type": "execute_result"
    }
   ],
   "source": [
    "df.shape"
   ]
  },
  {
   "cell_type": "code",
   "execution_count": 41,
   "id": "df4620ff-8ac3-4e4b-a7b8-60ec2b848d91",
   "metadata": {},
   "outputs": [
    {
     "data": {
      "text/plain": [
       "(31262,)"
      ]
     },
     "execution_count": 41,
     "metadata": {},
     "output_type": "execute_result"
    }
   ],
   "source": [
    "df['TXT_NME_PROD'].str.lower().drop_duplicates().shape"
   ]
  },
  {
   "cell_type": "code",
   "execution_count": 35,
   "id": "10980248-0288-40dc-abe0-970f87df9cda",
   "metadata": {},
   "outputs": [
    {
     "data": {
      "text/plain": [
       "(31156,)"
      ]
     },
     "execution_count": 35,
     "metadata": {},
     "output_type": "execute_result"
    }
   ],
   "source": [
    "\n",
    "df['TXT_NME_PROD'].str.lower().apply(ud.unidecode).drop_duplicates().shape"
   ]
  },
  {
   "cell_type": "markdown",
   "id": "5d841ad7-fbaa-4b65-8a79-1ab253238d13",
   "metadata": {},
   "source": [
    "## Appendix"
   ]
  },
  {
   "cell_type": "code",
   "execution_count": 42,
   "id": "7f3bf010-3bbb-4d34-a1e3-8ca414c6929e",
   "metadata": {
    "tags": []
   },
   "outputs": [
    {
     "data": {
      "text/plain": [
       "Index(['COD_RH', 'COD_PRODUCTO', 'TXT_NME_PROD', 'TXT_NME_PROD_FILTRO',\n",
       "       'TXT_RESUMEN_PROD', 'TXT_OBSERV_PROD', 'SGL_IDIOMA',\n",
       "       'COD_TIPO_PRODUCTO', 'COD_SUBTIPO_PRODUCTO', 'TXT_COMPLEMENTARIO',\n",
       "       'COD_TIPO_PRODUCTO_MDCN', 'SGL_PAIS', 'NRO_ANO_PRESENTA',\n",
       "       'NRO_MES_PRESENTA', 'TXT_WEB_PRODUCTO', 'NRO_IND_EXISTENCIA_MDCN',\n",
       "       'NRO_IND_CALIDAD_MDCN', 'TXT_IND_CALIDAD_MDCN',\n",
       "       'NRO_IND_VISIBILIDAD_MDCN', 'TPO_AMPERSAN_MDCN',\n",
       "       'TPO_MEDIO_DIVULGACION', 'STA_RELEVANCIA', 'COD_PRODUCTO_BNR',\n",
       "       'STA_CERTIFICADO', 'STA_VERIFICACION_AUTO', 'DTA_VERIF_AUTO',\n",
       "       'STA_VERIFICACION_USUA', 'DTA_VERIF_USUA', 'TXT_FICHA_RESUMEN',\n",
       "       'DTA_CREACION', 'DTA_ACTUALIZACION', 'STA_VENTANA', 'NRO_PATENTES',\n",
       "       'NRO_SECRETOS', 'COD_UNO_MDCN', 'COD_DOS_MDCN', 'COD_TRES_MDCN',\n",
       "       'STA_VENTANA_2', 'TXT_IND_CALIDAD_MDCN_2', 'TIPO_PRODUCTO_MDCN',\n",
       "       'TIPO_PRODUCTO_MDCN_2', 'TXT_DOI', 'TXT_INST_PART', 'DTA_EXPOSICION',\n",
       "       'STA_EVENTO', 'TXT_NME_TITULAR', 'NRO_REGISTROS', 'STA_VENTANA_3',\n",
       "       'DTA_ACTUALIZACION_CVLAC', 'DTA_AVAL_INST', 'TPO_AVAL_INST',\n",
       "       'COD_INST_AVALA', 'ID_USUARIO_AVAL', 'CAT_MED', 'SGL_CATEGORIA',\n",
       "       'NRO_ARTISTICAS_DET', 'COD_TIPO_PRODUCTO_ANT', 'author', 'product_type',\n",
       "       'author_others', 'details', 'TIPO_PRODUCTO', 'language', 'NRO_ID_GRUPO',\n",
       "       'SEQ_PRODUCTO', 'DTA_VINCULACION', 'STA_HUERFANO', 'NRO_AUTORES_GR',\n",
       "       'NRO_AUTORES_TOTAL', 'NRO_GRUPOS', 'NRO_PESO', 'STA_REPETIDO',\n",
       "       'STA_MEDIDO', 'group', 'institution', 'project', 'SEQ_PROJETO',\n",
       "       'COD_PROYECTO', 'ANO_INIC', 'ANO_FIM', 'TXT_NOME_PROJETO',\n",
       "       'TXT_NOME_PROJETO_FILTRO', 'TPO_SITUACAO', 'TPO_NATUREZA',\n",
       "       'NRO_GRADUACAO', 'NRO_ESPECIALIZACAO', 'NRO_MESTRADO_ACAD',\n",
       "       'NRO_MESTRADO_PROFIS', 'NRO_DOUTORADO', 'DSC_PROJETO',\n",
       "       'COD_PROYECTO_BNR', 'MES_INIC', 'MES_FIM'],\n",
       "      dtype='object')"
      ]
     },
     "execution_count": 42,
     "metadata": {},
     "output_type": "execute_result"
    }
   ],
   "source": [
    "df=pd.DataFrame(ws)\n",
    "df.columns"
   ]
  },
  {
   "cell_type": "code",
   "execution_count": null,
   "id": "8ea5e801-f3aa-4c28-bad2-3f93085ccfdd",
   "metadata": {},
   "outputs": [],
   "source": [
    "general=['COD_RH', 'COD_PRODUCTO', 'COD_TIPO_PRODUCTO','TIPO_PRODUCTO', 'TXT_NME_PROD', \n",
    "       'TXT_RESUMEN_PROD', \n",
    "        'NRO_ANO_PRESENTA',\n",
    "        'TXT_WEB_PRODUCTO', \n",
    "       'TXT_FICHA_RESUMEN',\n",
    "        'TXT_DOI', 'TXT_INST_PART', 'DTA_EXPOSICION',\n",
    "       'STA_EVENTO', 'TXT_NME_TITULAR',  'author', 'product_type',\n",
    "       'author_others', 'details', 'language',  '\n",
    "       'NRO_AUTORES_TOTAL', 'NRO_GRUPOS',  'group', 'institution', 'project', \n",
    "       'COD_PROYECTO', 'ANO_INIC', 'ANO_FIM', 'TXT_NOME_PROJETO',\n",
    "       ]"
   ]
  },
  {
   "cell_type": "code",
   "execution_count": 49,
   "id": "361c5780-a76a-4afe-8855-4f4886bef6e8",
   "metadata": {},
   "outputs": [
    {
     "data": {
      "text/plain": [
       "dict_keys(['COD_RH', 'NRO_ID_CNPQ', 'TXT_NAMES_RH', 'TXT_PRIM_APELL', 'TXT_SEG_APELL', 'TXT_TOTAL_NAMES', 'TXT_NAMES_RH_FILTRO', 'TXT_PRIM_APELL_FILTRO', 'TXT_SEG_APELL_FILTRO', 'TXT_TOTAL_NAMES_FILTRO', 'TPO_NACIONALIDAD', 'DTA_NACIM', 'TPO_DOCUMENTO_IDENT', 'TPO_SEXO', 'COD_RH_MUN_NACIM', 'COD_MUN_NACIM', 'NRO_DOCUMENTO_IDENT', 'COD_RH_MUN_EXPED_DOC', 'COD_MUN_EXPED_DOC', 'NRO_LIBRETA_MILITAR', 'TPO_LIBRETA_MILITAR', 'NRO_PASAPORTE', 'NRO_VISA', 'TPO_VISA', 'DTA_INI_VIGENCIA_VISA', 'DTA_FIN_VIGENCIA_VISA', 'COD_RH_RELIGION', 'COD_RELIGION', 'SGL_PAIS_NACIM', 'TXT_AFICION', 'TXT_CONGREGA_PERTENECE', 'TXT_CONGREGA_PERTENECIO', 'NRO_CEDULA_EXTRANJ', 'TXT_COMENT_SUGEREN', 'DTA_DEFUNC', 'COD_NIVEL_FORMACION', 'TPO_ESTADO_CIVIL', 'TPO_DIRECCION_USUAL', 'TPO_DOC_ACTUALIZACION', 'TPO_VER_DOC_ACTUALIZACION', 'TXT_CITACION_BIBLIO', 'TXT_CITACION_BIBLIO_FILTRO', 'STA_CERTIFICADO', 'DTA_CERTIFICADO', 'TXT_RESPUESTA', 'TXT_PREGUNTA', 'DTA_CREACION', 'DTA_ACTUALIZACION', 'COD_CERTIFICACION', 'STA_VISIBLE', 'DTA_VISIBLE', 'NRO_DOCUMENTO_FILTRO', 'TPO_PERFIL', 'TXT_CONF_DATOS', 'TXT_DESC_PERFIL', 'COD_TRAY_PROF_ACT', 'COD_ORCID', 'AUTOR_ID_SCP', 'NRO_INTENTOS', 'STA_ACTIVO', 'COD_ACTIVACION', 'NRO_BLOQUEOS', 'city'])"
      ]
     },
     "execution_count": 49,
     "metadata": {},
     "output_type": "execute_result"
    }
   ],
   "source": [
    "df['author'].iloc[0][0].keys()"
   ]
  },
  {
   "cell_type": "code",
   "execution_count": null,
   "id": "283ba85f-f14f-48ca-9980-45603f201e75",
   "metadata": {},
   "outputs": [],
   "source": [
    "author=['author_TXT_TOTAL_NAMES']"
   ]
  },
  {
   "cell_type": "code",
   "execution_count": 53,
   "id": "81edc3c8-2423-451d-a2f8-3c34738b6e22",
   "metadata": {},
   "outputs": [
    {
     "data": {
      "text/plain": [
       "dict_keys(['NRO_ID_GRUPO', 'COD_ID_GRUPO', 'NME_GRUPO', 'NME_GRUPO_FILTRO', 'ANO_FORMACAO', 'MES_FORMACAO', 'COD_RH_AREA', 'COD_AREA_CONHEC', 'COD_PROGRAMA', 'COD_PROGRAMA_SECUND', 'TPO_ESTADO_GR', 'DTA_ESTADO_GR', 'TXT_CLASIF', 'DTA_CLASIF', 'DTA_FIN_CLASIF', 'TPO_GRUPO', 'DTA_TPO_GRUPO', 'STA_ELIMINADO', 'TXT_PLAN_TRABAJO', 'TXT_ESTADO_ARTE', 'TXT_OBJETIVOS', 'TXT_PROD_DESTACADA', 'TXT_RETOS', 'TXT_VISION', 'TXT_SUGERENCIAS', 'XML_FICHA_RSM', 'STA_CERTIFICADO', 'DTA_CERTIFICADO', 'DTA_CREACION', 'DTA_ACTUALIZACION', 'COD_CERTIFICACION', 'COD_SESION', 'DTA_INI_SESION', 'TXT_CLASIF_1', 'COD_GRAN_AREA_CONHEC_MED', 'STA_CENTRO', 'TPO_CENTRO', 'STA_SECTOR', 'NRO_INTENTOS', 'STA_ACTIVO', 'COD_ACTIVACION', 'NRO_BLOQUEOS', 'COD_AREA_CONHEC_BK', 'institution', 'knowledge_area'])"
      ]
     },
     "execution_count": 53,
     "metadata": {},
     "output_type": "execute_result"
    }
   ],
   "source": [
    "df['group'].dropna().iloc[0][0].keys()"
   ]
  },
  {
   "cell_type": "code",
   "execution_count": null,
   "id": "ca0b9d36-ba57-4880-94e8-689a2bda82ca",
   "metadata": {},
   "outputs": [],
   "source": [
    "group=['group_NRO_ID_GRUPO', 'group_COD_ID_GRUPO', 'group_NME_GRUPO','group_COD_RH_AREA', 'group_COD_AREA_CONHEC', \n",
    "       'group_COD_PROGRAMA', 'group_COD_PROGRAMA_SECUND','group_TXT_PLAN_TRABAJO', \n",
    "       'group_TXT_ESTADO_ARTE', 'group_TXT_OBJETIVOS', 'group_TXT_PROD_DESTACADA', 'group_TXT_RETOS', 'group_TXT_VISION', 'group_TXT_SUGERENCIAS']\n"
   ]
  },
  {
   "cell_type": "code",
   "execution_count": 58,
   "id": "2b147c05-b7a4-47c6-9acc-c70002b385b9",
   "metadata": {},
   "outputs": [
    {
     "data": {
      "text/plain": [
       "dict_keys(['COD_INST', 'COD_INST_MACRO', 'NME_INST', 'NME_INST_FILTRO', 'SGL_INST', 'COD_SECTOR_ECON', 'SGL_PAIS', 'SGL_DEPARTAMENTO', 'COD_RH_MUNICIPIO', 'COD_MUNICIPIO', 'URL_HOME_PAGE', 'TXT_DIRECCION', 'TXT_TELEFONO', 'TXT_FAX', 'TXT_EMAIL', 'TXT_NIT', 'TXT_DIGITO_VERIFICADOR', 'ID_REPRESENTANTE', 'TPO_AVAL', 'TXT_CIUDAD_INST', 'TPO_CARACTER', 'TPO_CONTRIBUYENTE', 'TXT_APARTADO_AEREO', 'STA_EXPORTA', 'COD_NIVEL', 'COD_IES', 'DTA_CONSTITUCION', 'DTA_CREACION', 'DTA_ACTUALIZACION', 'COD_SECTOR_ECON2', 'ID_INSTITUCION', 'STA_TERMINOS_COND', 'DTA_ACEPTA_TERMINOS'])"
      ]
     },
     "execution_count": 58,
     "metadata": {},
     "output_type": "execute_result"
    }
   ],
   "source": [
    "df['institution'].dropna().iloc[0][0].keys()"
   ]
  },
  {
   "cell_type": "code",
   "execution_count": null,
   "id": "6b670086-c5ef-4a90-861e-3ecb97664929",
   "metadata": {},
   "outputs": [],
   "source": [
    "institution=['institution_COD_INST', 'institution_COD_INST_MACRO', 'institution_NME_INST','institution_SGL_INST', 'institution_COD_SECTOR_ECON', 'institution_SGL_PAIS', 'institution_SGL_DEPARTAMENTO']"
   ]
  },
  {
   "cell_type": "code",
   "execution_count": 59,
   "id": "25486f1d-f7c3-41f7-869b-90b39ec37826",
   "metadata": {},
   "outputs": [
    {
     "data": {
      "text/plain": [
       "dict_keys(['COD_RH_CREA', 'COD_RH_OTRO', 'TXT_NME_RH', 'TXT_PRIM_APELL', 'TXT_SEG_APELL', 'TXT_TOTAL_NAMES_FILTRO', 'SGL_PAIS', 'TPO_NACIONALIDAD', 'DTA_NACIMIENTO', 'TPO_DOC_IDENTIFICACION', 'NRO_DOC_IDENTIFICACION', 'NRO_ID_CNPQ', 'DTA_CREACION', 'DTA_ACTUALIZACION', 'NRO_DOC_FILTRO', 'TXT_TOTAL_NAMES', 'TXT_NME_RH_FILTRO', 'TXT_PRIM_APELL_FILTRO', 'TXT_SEG_APELL_FILTRO', 'COD_RH_REF', 'COD_ORCID', 'AUTOR_ID_SCP'])"
      ]
     },
     "execution_count": 59,
     "metadata": {},
     "output_type": "execute_result"
    }
   ],
   "source": [
    "df['author_others'].dropna().iloc[0][0].keys()"
   ]
  },
  {
   "cell_type": "code",
   "execution_count": null,
   "id": "c79fef09-93cb-483f-b1d9-16b01c3b8e03",
   "metadata": {},
   "outputs": [],
   "source": [
    "authors=['authors_COD_RH_OTRO','authors_TXT_TOTAL_NAMES_FILTRO']"
   ]
  },
  {
   "cell_type": "code",
   "execution_count": 72,
   "id": "0a1ed00e-e38b-4775-800a-3382560f6753",
   "metadata": {},
   "outputs": [
    {
     "data": {
      "text/plain": [
       "dict_keys(['COD_RH', 'COD_PROYECTO', 'TXT_NME_PROYECTO', 'TXT_NME_PROYECTO_FILTRO', 'TXT_OBSERV_PROYECTO', 'TXT_RESUMEN_PROYECTO', 'TPO_PROYECTO', 'NRO_MES_INICIO', 'NRO_ANO_INICIO', 'NRO_MES_FIN', 'NRO_ANO_FIN', 'NRO_MES_PROYEC', 'NRO_ANO_PROYEC', 'NRO_DURACION', 'TPO_ESTADO_PROYECTO', 'NRO_GRADUACION', 'NRO_ESPECIALIZACION', 'NRO_MAESTRIA_ACAD', 'NRO_MAESTRIA_PROF', 'NRO_DOCTORADO', 'COD_PROYECTO_BNR', 'STA_CERTIFICADO', 'STA_VERIFICACION_AUTO', 'DTA_VERIF_AUTO', 'STA_VERIFICACION_USUA', 'DTA_VERIF_USUA', 'TXT_FICHA_RESUMEN', 'DTA_CREACION', 'DTA_ACTUALIZACION', 'TXT_URL', 'COD_PROYECTO_SNCTI', 'TPO_FINANCIACION', 'TPO_FTE_FINAN', 'TPO_AMB_FINAN', 'STA_AVAL_INST', 'DTA_AVAL_INST', 'TPO_AVAL_INST', 'COD_INST_AVALA', 'ID_USUARIO_AVALA', 'DTA_ACTUALIZACION_CVLAC', 'CAT_MED', 'SGL_CATEGORIA'])"
      ]
     },
     "execution_count": 72,
     "metadata": {},
     "output_type": "execute_result"
    }
   ],
   "source": [
    "df['project'].dropna().iloc[0][0].keys()"
   ]
  },
  {
   "cell_type": "code",
   "execution_count": null,
   "id": "9dbf1d59-28f2-4482-902d-fd7fe9077f7d",
   "metadata": {},
   "outputs": [],
   "source": [
    "project=['project_COD_RH', 'project_COD_PROYECTO', 'project_TXT_NME_PROYECTO', 'project_TXT_NME_PROYECTO_FILTRO', 'project_TXT_OBSERV_PROYECTO', \n",
    "         'project_TXT_RESUMEN_PROYECTO', 'project_TPO_PROYECTO', 'project_NRO_ANO_INICIO', \n",
    "         'project_NRO_ANO_FIN' 'project_NRO_DURACION', 'project_TPO_ESTADO_PROYECTO']"
   ]
  },
  {
   "cell_type": "code",
   "execution_count": 67,
   "id": "11a178d7-2019-474d-8018-37ef78721e36",
   "metadata": {},
   "outputs": [
    {
     "data": {
      "text/plain": [
       "0        [{'technical': [{'COD_RH': '0000000011', 'COD_...\n",
       "1        [{'course': [{'COD_RH': '0000000011', 'COD_PRO...\n",
       "2        [{'course': [{'COD_RH': '0000000011', 'COD_PRO...\n",
       "3        [{'technical': [{'COD_RH': '0000000011', 'COD_...\n",
       "4        [{'course': [{'COD_RH': '0000000011', 'COD_PRO...\n",
       "                               ...                        \n",
       "16876    [{'course': [{'COD_RH': '0000771899', 'COD_PRO...\n",
       "16877    [{'course': [{'COD_RH': '0000771899', 'COD_PRO...\n",
       "16878    [{'course': [{'COD_RH': '0000771899', 'COD_PRO...\n",
       "16879    [{'course': [{'COD_RH': '0000771899', 'COD_PRO...\n",
       "16880    [{'course': [{'COD_RH': '0000771899', 'COD_PRO...\n",
       "Name: details, Length: 16426, dtype: object"
      ]
     },
     "execution_count": 67,
     "metadata": {},
     "output_type": "execute_result"
    }
   ],
   "source": [
    "df['details'].dropna()"
   ]
  }
 ],
 "metadata": {
  "kernelspec": {
   "display_name": "Python 3 (ipykernel)",
   "language": "python",
   "name": "python3"
  },
  "language_info": {
   "codemirror_mode": {
    "name": "ipython",
    "version": 3
   },
   "file_extension": ".py",
   "mimetype": "text/x-python",
   "name": "python",
   "nbconvert_exporter": "python",
   "pygments_lexer": "ipython3",
   "version": "3.9.2"
  }
 },
 "nbformat": 4,
 "nbformat_minor": 5
}
