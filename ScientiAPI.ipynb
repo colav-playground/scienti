{
 "cells": [
  {
   "cell_type": "markdown",
   "id": "5909249b-e09e-417e-9638-dda251085440",
   "metadata": {},
   "source": [
    "# Scienti API"
   ]
  },
  {
   "cell_type": "code",
   "execution_count": 1,
   "id": "f86f585b-533e-487f-a320-83c591139786",
   "metadata": {
    "tags": []
   },
   "outputs": [],
   "source": [
    "import requests\n",
    "import getpass\n",
    "import pandas as pd\n",
    "from IPython.display import JSON\n",
    "import time\n",
    "import json\n",
    "import os\n",
    "from varname import nameof"
   ]
  },
  {
   "cell_type": "markdown",
   "id": "4628f7d0-7f09-4570-8692-da22eb5a9405",
   "metadata": {},
   "source": [
    "## Obtain products of \"Apropiación Social del Conocimiento\" (ASC) from Scienti API"
   ]
  },
  {
   "cell_type": "markdown",
   "id": "b920fea0-9111-466f-9720-989b86439be2",
   "metadata": {},
   "source": [
    "### Read `\"NIVEL_MAX\"` for products of ASC"
   ]
  },
  {
   "cell_type": "code",
   "execution_count": 76,
   "id": "448f9cd7-a510-4d4f-9dd1-8befd1e59ae1",
   "metadata": {
    "tags": []
   },
   "outputs": [
    {
     "name": "stderr",
     "output_type": "stream",
     "text": [
      "/usr/local/lib/python3.9/dist-packages/openpyxl/worksheet/_reader.py:312: UserWarning: Unknown extension is not supported and will be removed\n",
      "  warn(msg)\n"
     ]
    }
   ],
   "source": [
    "asc=pd.read_excel('https://docs.google.com/spreadsheets/d/e/2PACX-1vSjpIpwy89MwRwJdXNy0_Z5zCK6XrieZ2_Cf7i1SQTuk4b_hRrNzuCTBgQe3eTOew/pub?output=xlsx')"
   ]
  },
  {
   "cell_type": "code",
   "execution_count": 77,
   "id": "d5375ed2-9bb2-4b05-8ea9-1970908a19d7",
   "metadata": {},
   "outputs": [
    {
     "data": {
      "text/plain": [
       "Index(['COD_RH', 'COD_PRODUCTO', 'SGL_CATEGORIA', 'NIVEL_0', 'NIVEL_1',\n",
       "       'NIVEL_2', 'NIVEL_3', 'NIVEL_MAX', 'NÚMERO', 'CATEGORIAS', 'ASC', 'NC',\n",
       "       'FRH', ' ', ' .1', ' .2', ' .3', ' .4', ' .5', ' .6', ' .7', ' .8',\n",
       "       ' .9', ' .10', ' .11'],\n",
       "      dtype='object')"
      ]
     },
     "execution_count": 77,
     "metadata": {},
     "output_type": "execute_result"
    }
   ],
   "source": [
    "asc.columns"
   ]
  },
  {
   "cell_type": "code",
   "execution_count": 4,
   "id": "72599cc0-a509-455f-be38-f60289e14678",
   "metadata": {},
   "outputs": [
    {
     "data": {
      "text/html": [
       "<div>\n",
       "<style scoped>\n",
       "    .dataframe tbody tr th:only-of-type {\n",
       "        vertical-align: middle;\n",
       "    }\n",
       "\n",
       "    .dataframe tbody tr th {\n",
       "        vertical-align: top;\n",
       "    }\n",
       "\n",
       "    .dataframe thead th {\n",
       "        text-align: right;\n",
       "    }\n",
       "</style>\n",
       "<table border=\"1\" class=\"dataframe\">\n",
       "  <thead>\n",
       "    <tr style=\"text-align: right;\">\n",
       "      <th></th>\n",
       "      <th>COD_RH</th>\n",
       "      <th>COD_PRODUCTO</th>\n",
       "      <th>SGL_CATEGORIA</th>\n",
       "      <th>NIVEL_0</th>\n",
       "      <th>NIVEL_1</th>\n",
       "      <th>NIVEL_2</th>\n",
       "      <th>NIVEL_3</th>\n",
       "      <th>NIVEL_MAX</th>\n",
       "      <th>NÚMERO</th>\n",
       "      <th>CATEGORIAS</th>\n",
       "      <th>...</th>\n",
       "      <th>.2</th>\n",
       "      <th>.3</th>\n",
       "      <th>.4</th>\n",
       "      <th>.5</th>\n",
       "      <th>.6</th>\n",
       "      <th>.7</th>\n",
       "      <th>.8</th>\n",
       "      <th>.9</th>\n",
       "      <th>.10</th>\n",
       "      <th>.11</th>\n",
       "    </tr>\n",
       "  </thead>\n",
       "  <tbody>\n",
       "    <tr>\n",
       "      <th>0</th>\n",
       "      <td>150.0</td>\n",
       "      <td>2.0</td>\n",
       "      <td>ART-00</td>\n",
       "      <td>1: Producción bibliográfica</td>\n",
       "      <td>11: Artículo</td>\n",
       "      <td>111: Publicado en revista especializada</td>\n",
       "      <td>NaN</td>\n",
       "      <td>111: Publicado en revista especializada</td>\n",
       "      <td>72886.0</td>\n",
       "      <td>['ART-00', 'ART-ART', 'ART-GC', 'EPA-EPA', 'PE...</td>\n",
       "      <td>...</td>\n",
       "      <td>NaN</td>\n",
       "      <td>NaN</td>\n",
       "      <td>NaN</td>\n",
       "      <td>NaN</td>\n",
       "      <td>NaN</td>\n",
       "      <td>NaN</td>\n",
       "      <td>NaN</td>\n",
       "      <td>NaN</td>\n",
       "      <td>NaN</td>\n",
       "      <td>NaN</td>\n",
       "    </tr>\n",
       "  </tbody>\n",
       "</table>\n",
       "<p>1 rows × 25 columns</p>\n",
       "</div>"
      ],
      "text/plain": [
       "   COD_RH  COD_PRODUCTO SGL_CATEGORIA                      NIVEL_0  \\\n",
       "0   150.0           2.0        ART-00  1: Producción bibliográfica   \n",
       "\n",
       "        NIVEL_1                                  NIVEL_2 NIVEL_3  \\\n",
       "0  11: Artículo  111: Publicado en revista especializada     NaN   \n",
       "\n",
       "                                 NIVEL_MAX   NÚMERO  \\\n",
       "0  111: Publicado en revista especializada  72886.0   \n",
       "\n",
       "                                          CATEGORIAS  ...   .2   .3   .4   .5  \\\n",
       "0  ['ART-00', 'ART-ART', 'ART-GC', 'EPA-EPA', 'PE...  ...  NaN  NaN  NaN  NaN   \n",
       "\n",
       "    .6   .7   .8   .9   .10   .11  \n",
       "0  NaN  NaN  NaN  NaN   NaN   NaN  \n",
       "\n",
       "[1 rows x 25 columns]"
      ]
     },
     "execution_count": 4,
     "metadata": {},
     "output_type": "execute_result"
    }
   ],
   "source": [
    "asc[:1]"
   ]
  },
  {
   "cell_type": "code",
   "execution_count": 5,
   "id": "06802428-0d5b-40b4-b668-50d16ca7b466",
   "metadata": {
    "tags": []
   },
   "outputs": [],
   "source": [
    "dasc=dict(asc[asc['ASC']==1]['NIVEL_MAX'].str.split(': ').str[:2].to_list())"
   ]
  },
  {
   "cell_type": "code",
   "execution_count": 6,
   "id": "84160969-12d9-475c-ac7f-847f04ae40d3",
   "metadata": {},
   "outputs": [],
   "source": [
    "dnc=dict(asc[asc['NC']==1]['NIVEL_MAX'].str.split(': ').str[:2].to_list())\n",
    "dfrh=dict(asc[asc['FRH']==1]['NIVEL_MAX'].str.split(': ').str[:2].to_list())"
   ]
  },
  {
   "cell_type": "markdown",
   "id": "3e8d4380-6bca-4882-b045-79290506231c",
   "metadata": {},
   "source": [
    "### Get all products ids from Scienti API"
   ]
  },
  {
   "cell_type": "code",
   "execution_count": 7,
   "id": "d77e015c-b850-46b5-889d-5e649632ff75",
   "metadata": {
    "tags": []
   },
   "outputs": [
    {
     "name": "stdin",
     "output_type": "stream",
     "text": [
      "API KEY ········\n"
     ]
    }
   ],
   "source": [
    "k=getpass.getpass('API KEY')"
   ]
  },
  {
   "cell_type": "markdown",
   "id": "c43bd9b3-37dc-4beb-b311-fa642de11990",
   "metadata": {},
   "source": [
    "Get full list of pro"
   ]
  },
  {
   "cell_type": "code",
   "execution_count": 8,
   "id": "9e11ea1a-6cb3-492c-8243-67d3f88de982",
   "metadata": {
    "tags": []
   },
   "outputs": [],
   "source": [
    "institution='udea'\n",
    "year=2023\n",
    "p=requests.get(f\"http://apis.colav.co/scienti/info/?apikey={k}&get=ids&institution={institution}&model_year={year}\")"
   ]
  },
  {
   "cell_type": "code",
   "execution_count": 9,
   "id": "f046f24c-980d-4201-81f6-40ba78f37740",
   "metadata": {},
   "outputs": [
    {
     "data": {
      "text/plain": [
       "200"
      ]
     },
     "execution_count": 9,
     "metadata": {},
     "output_type": "execute_result"
    }
   ],
   "source": [
    "p.status_code"
   ]
  },
  {
   "cell_type": "code",
   "execution_count": 10,
   "id": "4a21f11f-c1d7-408d-8525-4837ecc56512",
   "metadata": {
    "tags": []
   },
   "outputs": [],
   "source": [
    "p=p.json()"
   ]
  },
  {
   "cell_type": "code",
   "execution_count": 11,
   "id": "66678d47-95c4-44b5-bf0b-aa839b70222e",
   "metadata": {
    "tags": []
   },
   "outputs": [
    {
     "data": {
      "text/html": [
       "<div>\n",
       "<style scoped>\n",
       "    .dataframe tbody tr th:only-of-type {\n",
       "        vertical-align: middle;\n",
       "    }\n",
       "\n",
       "    .dataframe tbody tr th {\n",
       "        vertical-align: top;\n",
       "    }\n",
       "\n",
       "    .dataframe thead th {\n",
       "        text-align: right;\n",
       "    }\n",
       "</style>\n",
       "<table border=\"1\" class=\"dataframe\">\n",
       "  <thead>\n",
       "    <tr style=\"text-align: right;\">\n",
       "      <th></th>\n",
       "      <th>name</th>\n",
       "      <th>ids</th>\n",
       "    </tr>\n",
       "  </thead>\n",
       "  <tbody>\n",
       "    <tr>\n",
       "      <th>0</th>\n",
       "      <td>network</td>\n",
       "      <td>[{'COD_RH': '0000186473', 'COD_RED': 4}, {'COD...</td>\n",
       "    </tr>\n",
       "    <tr>\n",
       "      <th>1</th>\n",
       "      <td>product</td>\n",
       "      <td>[{'COD_RH': '0000000011', 'COD_PRODUCTO': '1'}...</td>\n",
       "    </tr>\n",
       "    <tr>\n",
       "      <th>2</th>\n",
       "      <td>event</td>\n",
       "      <td>[{'COD_RH': '0000000016', 'COD_EVENTO': 1}, {'...</td>\n",
       "    </tr>\n",
       "    <tr>\n",
       "      <th>3</th>\n",
       "      <td>patent</td>\n",
       "      <td>[{'COD_RH': '0000203190', 'COD_PATENTE': 1}, {...</td>\n",
       "    </tr>\n",
       "    <tr>\n",
       "      <th>4</th>\n",
       "      <td>institution_endorsement</td>\n",
       "      <td>[{'COD_AVAL_INSTITUCION': 1382}, {'COD_AVAL_IN...</td>\n",
       "    </tr>\n",
       "    <tr>\n",
       "      <th>5</th>\n",
       "      <td>project</td>\n",
       "      <td>[{'COD_RH': '0000000011', 'COD_PROYECTO': '1'}...</td>\n",
       "    </tr>\n",
       "  </tbody>\n",
       "</table>\n",
       "</div>"
      ],
      "text/plain": [
       "                      name                                                ids\n",
       "0                  network  [{'COD_RH': '0000186473', 'COD_RED': 4}, {'COD...\n",
       "1                  product  [{'COD_RH': '0000000011', 'COD_PRODUCTO': '1'}...\n",
       "2                    event  [{'COD_RH': '0000000016', 'COD_EVENTO': 1}, {'...\n",
       "3                   patent  [{'COD_RH': '0000203190', 'COD_PATENTE': 1}, {...\n",
       "4  institution_endorsement  [{'COD_AVAL_INSTITUCION': 1382}, {'COD_AVAL_IN...\n",
       "5                  project  [{'COD_RH': '0000000011', 'COD_PROYECTO': '1'}..."
      ]
     },
     "execution_count": 11,
     "metadata": {},
     "output_type": "execute_result"
    }
   ],
   "source": [
    "pd.DataFrame(p[0].get('entities'))"
   ]
  },
  {
   "cell_type": "code",
   "execution_count": 12,
   "id": "5994ab43-4ee6-4a68-8981-950b56207272",
   "metadata": {
    "tags": []
   },
   "outputs": [],
   "source": [
    "p=[d for d in p[0].get('entities') if d.get('name')=='product']"
   ]
  },
  {
   "cell_type": "code",
   "execution_count": 13,
   "id": "abcbe61d-b477-4e60-a4e4-cce5828515a1",
   "metadata": {
    "tags": []
   },
   "outputs": [
    {
     "data": {
      "text/plain": [
       "413913"
      ]
     },
     "execution_count": 13,
     "metadata": {},
     "output_type": "execute_result"
    }
   ],
   "source": [
    "len(p[0].get('ids'))"
   ]
  },
  {
   "cell_type": "markdown",
   "id": "bd45e028-599f-41b5-b812-f256c7ac3de4",
   "metadata": {},
   "source": [
    "### Filter products of ASC "
   ]
  },
  {
   "cell_type": "code",
   "execution_count": 14,
   "id": "2f4bfc36-9ceb-4378-a323-c9ccdf18ac44",
   "metadata": {},
   "outputs": [],
   "source": [
    "import json"
   ]
  },
  {
   "cell_type": "code",
   "execution_count": 18,
   "id": "92abcf0d-3870-4154-bdb1-feffac293cbf",
   "metadata": {},
   "outputs": [],
   "source": [
    "def to_json(d,f):\n",
    "    ob=open(f,'w')\n",
    "    json.dump(d,ob)\n",
    "    ob.close()\n",
    "    \n",
    "def read_json(f):\n",
    "    ob=open(f,'r')\n",
    "    d=json.load(ob)\n",
    "    ob.close()\n",
    "    return d"
   ]
  },
  {
   "cell_type": "code",
   "execution_count": 19,
   "id": "941378a3-329f-4e6a-863f-75e8be006e5f",
   "metadata": {},
   "outputs": [],
   "source": [
    "miss=read_json('missing.json')"
   ]
  },
  {
   "cell_type": "code",
   "execution_count": 21,
   "id": "85cb9092-5d23-4b51-93b8-7020aab5429b",
   "metadata": {},
   "outputs": [],
   "source": [
    "try:\n",
    "    if miss:\n",
    "        pass\n",
    "except:\n",
    "    miss = p[0].get('ids')"
   ]
  },
  {
   "cell_type": "code",
   "execution_count": 22,
   "id": "997edd78-5ff3-445f-bbbb-886edede3462",
   "metadata": {},
   "outputs": [
    {
     "data": {
      "text/plain": [
       "238222"
      ]
     },
     "execution_count": 22,
     "metadata": {},
     "output_type": "execute_result"
    }
   ],
   "source": [
    "len(miss)"
   ]
  },
  {
   "cell_type": "code",
   "execution_count": 195,
   "id": "d8ed5faa-23a5-4e29-a950-43c572cae564",
   "metadata": {},
   "outputs": [
    {
     "data": {
      "text/plain": [
       "'http://apis.colav.co/scienti/product?apikey=0colav.&model_year=2022&institution=udea&COD_RH=0000800503&COD_PRODUCTO=27'"
      ]
     },
     "execution_count": 195,
     "metadata": {},
     "output_type": "execute_result"
    }
   ],
   "source": [
    "f\"http://apis.colav.co/scienti/product?apikey={k}&model_year=2022&institution=udea&COD_RH={d.get('COD_RH')}&COD_PRODUCTO={d.get('COD_PRODUCTO')}\""
   ]
  },
  {
   "cell_type": "code",
   "execution_count": 28,
   "id": "123b5365-ccb4-4901-afe5-53f299fb9451",
   "metadata": {
    "tags": []
   },
   "outputs": [
    {
     "name": "stdout",
     "output_type": "stream",
     "text": [
      "071475:000000:000000:043600/225075\r"
     ]
    }
   ],
   "source": [
    "ws=[]\n",
    "wn=[]\n",
    "wf=[]\n",
    "ot=[]\n",
    "ii=[]\n",
    "i=110000\n",
    "for d in miss[110000:]:\n",
    "    print(f\"{str(len(ws)).zfill(6)}:{str(len(wn)).zfill(6)}:{str(len(wf)).zfill(6)}:{str(len(ot)).zfill(6)}/{str(i).zfill(6)}\",end='\\r')    \n",
    "    w=requests.get(f\"http://apis.colav.co/scienti/product?apikey={k}&model_year=2022&institution=udea&COD_RH={d.get('COD_RH')}&COD_PRODUCTO={d.get('COD_PRODUCTO')}\")\n",
    "    if w.status_code!=200:\n",
    "        continue\n",
    "    if not w.json():\n",
    "        continue    \n",
    "    wj=w.json()\n",
    "    x=wj.get('COD_TIPO_PRODUCTO')\n",
    "    FOUND=False\n",
    "    if isinstance(x,str) and x in dasc.keys():\n",
    "        wj['TIPO_PRODUCTO']=dasc.get(x)\n",
    "        ws.append(wj)\n",
    "        FOUND=True\n",
    "    if isinstance(x,str) and x in dnc.keys():\n",
    "        wj['TIPO_PRODUCTO']=dnc.get(x)        \n",
    "        wn.append(wj)\n",
    "        FOUND=True        \n",
    "    if isinstance(x,str) and x in dfrh.keys():\n",
    "        wj['TIPO_PRODUCTO']=dfrh.get(x)        \n",
    "        wf.append(wj)\n",
    "        FOUND=True\n",
    "    if not FOUND:\n",
    "        ot.append(wj)\n",
    "    \n",
    "    time.sleep(0.01)\n",
    "        \n",
    "    if i%10000==0:\n",
    "        to_json(ws,'asc4.json')\n",
    "        to_json(wn,'nc4.json')\n",
    "        to_json(wf,'frh4.json')\n",
    "        to_json(ot,'other2.json')        \n",
    "        to_json(ii,'i.json')\n",
    "    #if len(wf)>0:\n",
    "    #    break\n",
    "    i+=1\n",
    "    ii=[i]\n",
    "\n",
    "        \n",
    "to_json(ws,'asc4.json')\n",
    "to_json(wn,'nc4.json')\n",
    "to_json(wf,'frh4.json')        \n",
    "to_json(ot,'other2.json')        "
   ]
  },
  {
   "cell_type": "code",
   "execution_count": 66,
   "id": "ae3aeb94-63a2-45e2-8b13-d3ef03de6a72",
   "metadata": {},
   "outputs": [],
   "source": [
    "if w.json(): print(1)"
   ]
  },
  {
   "cell_type": "code",
   "execution_count": 23,
   "id": "eb7d8876-c067-48eb-ae41-f7bc148780a3",
   "metadata": {},
   "outputs": [
    {
     "name": "stdout",
     "output_type": "stream",
     "text": [
      "[110000]"
     ]
    }
   ],
   "source": [
    "cat i.json"
   ]
  },
  {
   "cell_type": "code",
   "execution_count": 22,
   "id": "d8a98fac-92ec-4758-8fe8-eaee0fdd2aac",
   "metadata": {},
   "outputs": [
    {
     "data": {
      "text/plain": [
       "34877"
      ]
     },
     "execution_count": 22,
     "metadata": {},
     "output_type": "execute_result"
    }
   ],
   "source": [
    "len(ws)"
   ]
  },
  {
   "cell_type": "code",
   "execution_count": 16,
   "id": "e8d04b36-fad8-4d31-98f0-6ecbab876cc9",
   "metadata": {},
   "outputs": [],
   "source": [
    "import json"
   ]
  },
  {
   "cell_type": "code",
   "execution_count": 4,
   "id": "84a5a140-0581-458d-a865-c1c3019c4af0",
   "metadata": {},
   "outputs": [
    {
     "ename": "NameError",
     "evalue": "name 'ws' is not defined",
     "output_type": "error",
     "traceback": [
      "\u001b[0;31m---------------------------------------------------------------------------\u001b[0m",
      "\u001b[0;31mNameError\u001b[0m                                 Traceback (most recent call last)",
      "\u001b[0;32m/tmp/ipykernel_1053337/2857821124.py\u001b[0m in \u001b[0;36m<module>\u001b[0;34m\u001b[0m\n\u001b[1;32m      1\u001b[0m \u001b[0mfp\u001b[0m\u001b[0;34m=\u001b[0m\u001b[0mopen\u001b[0m\u001b[0;34m(\u001b[0m\u001b[0;34m'asc.json'\u001b[0m\u001b[0;34m,\u001b[0m\u001b[0;34m'w'\u001b[0m\u001b[0;34m)\u001b[0m\u001b[0;34m\u001b[0m\u001b[0;34m\u001b[0m\u001b[0m\n\u001b[0;32m----> 2\u001b[0;31m \u001b[0mjson\u001b[0m\u001b[0;34m.\u001b[0m\u001b[0mdump\u001b[0m\u001b[0;34m(\u001b[0m\u001b[0mws\u001b[0m\u001b[0;34m,\u001b[0m\u001b[0mfp\u001b[0m\u001b[0;34m)\u001b[0m\u001b[0;34m\u001b[0m\u001b[0;34m\u001b[0m\u001b[0m\n\u001b[0m\u001b[1;32m      3\u001b[0m \u001b[0mfp\u001b[0m\u001b[0;34m.\u001b[0m\u001b[0mclose\u001b[0m\u001b[0;34m(\u001b[0m\u001b[0;34m)\u001b[0m\u001b[0;34m\u001b[0m\u001b[0;34m\u001b[0m\u001b[0m\n",
      "\u001b[0;31mNameError\u001b[0m: name 'ws' is not defined"
     ]
    }
   ],
   "source": [
    "fp=open('asc.json','w')\n",
    "json.dump(ws,fp)\n",
    "fp.close()"
   ]
  },
  {
   "cell_type": "code",
   "execution_count": 18,
   "id": "f1f1b87e-6469-4d29-93a5-233cecfa5ff1",
   "metadata": {},
   "outputs": [
    {
     "name": "stdout",
     "output_type": "stream",
     "text": [
      "-rw-r--r-- 1 restrepo restrepo 263M Aug 22 20:59 asc.json\n"
     ]
    }
   ],
   "source": [
    "ls -lh asc.json"
   ]
  },
  {
   "cell_type": "markdown",
   "id": "55539191-35bb-4ba9-b0f0-89ee99266d2d",
   "metadata": {},
   "source": [
    "fp=open('asc.json','r')\n",
    "ws=json.load(fp)\n",
    "fp.close()"
   ]
  },
  {
   "cell_type": "code",
   "execution_count": 78,
   "id": "f8c760e2-9287-4b6a-b0e3-49c01724d913",
   "metadata": {},
   "outputs": [
    {
     "data": {
      "text/plain": [
       "16881"
      ]
     },
     "execution_count": 78,
     "metadata": {},
     "output_type": "execute_result"
    }
   ],
   "source": [
    "len(ws)"
   ]
  },
  {
   "cell_type": "markdown",
   "id": "ec62258a-03a6-410e-9402-1a5d7c485e7a",
   "metadata": {},
   "source": [
    "### Export to table"
   ]
  },
  {
   "cell_type": "code",
   "execution_count": 83,
   "id": "1c3a6bf1-9f94-4431-ba3a-e0886f81fb3b",
   "metadata": {},
   "outputs": [],
   "source": [
    "#https://www.techieclues.com/blogs/how-to-get-variable-name-as-string-in-python\n",
    "def name(variable):\n",
    "    for name in globals():\n",
    "        if id(globals()[name]) == id(variable):\n",
    "            return name\n",
    "    for name in locals():\n",
    "        if id(locals()[name]) == id(variable):\n",
    "            return name\n",
    "    return None\n",
    "\n",
    "def details(w):\n",
    "    d=w.get('details')[0]\n",
    "    if len(d.keys())==1:\n",
    "        intd=d.get(list(d.keys())[0])\n",
    "        if intd and isinstance(intd,list):\n",
    "            newintd={}\n",
    "            for intk in intd[0].keys():\n",
    "                if intd[0][intk]:\n",
    "                    newintd[intk]=intd[0][intk]\n",
    "    return newintd\n",
    "\n",
    "filterfields={\n",
    "'general':['COD_RH', 'COD_PRODUCTO', 'COD_TIPO_PRODUCTO','TIPO_PRODUCTO', 'TXT_NME_PROD', \n",
    "       'TXT_RESUMEN_PROD', \n",
    "        'NRO_ANO_PRESENTA','NRO_MES_PRESENTA','DTA_CREACION','DTA_ACTUALIZACION',\n",
    "        'TXT_WEB_PRODUCTO', 'SGL_CATEGORIA',\n",
    "        'TXT_DOI', 'TXT_INST_PART', 'DTA_EXPOSICION',\n",
    "       'STA_EVENTO', 'TXT_NME_TITULAR',  \n",
    "       'NRO_AUTORES_TOTAL', 'NRO_GRUPOS',\n",
    "       'COD_PROYECTO', 'ANO_INIC', 'ANO_FIM', 'TXT_NOME_PROJETO'\n",
    "       ],\n",
    "'author':['TXT_TOTAL_NAMES','TXT_NAMES_RH',\n",
    "'TXT_PRIM_APELL',\n",
    "'TXT_SEG_APELL',\n",
    "'TPO_NACIONALIDAD',\n",
    "'TPO_DOCUMENTO_IDENT',\n",
    "'TPO_SEXO',\n",
    "'COD_ORCID',\n",
    "'AUTOR_ID_SCP',\n",
    "],\n",
    "'group':['NRO_ID_GRUPO', 'COD_ID_GRUPO', 'NME_GRUPO','COD_RH_AREA', 'COD_AREA_CONHEC', \n",
    "       'COD_PROGRAMA', 'COD_PROGRAMA_SECUND','TXT_PLAN_TRABAJO', \n",
    "       'TXT_ESTADO_ARTE', 'TXT_OBJETIVOS', 'TXT_PROD_DESTACADA', 'TXT_RETOS', 'TXT_VISION',\n",
    "       'area'],\n",
    "'institution':['COD_INST', 'COD_INST_MACRO', 'NME_INST','SGL_INST', \n",
    "             'COD_SECTOR_ECON', 'SGL_PAIS', 'SGL_DEPARTAMENTO'],\n",
    "'authors':['COD_RH_OTRO','TXT_TOTAL_NAMES_FILTRO'],\n",
    "'project':['COD_RH', 'COD_PROYECTO', 'TXT_NME_PROYECTO', 'TXT_NME_PROYECTO_FILTRO', 'TXT_OBSERV_PROYECTO', \n",
    "         'TXT_RESUMEN_PROYECTO', 'TPO_PROYECTO', 'NRO_ANO_INICIO', \n",
    "         'NRO_ANO_FIN' 'NRO_DURACION', 'TPO_ESTADO_PROYECTO'],\n",
    "'article':['TXT_VOLUMEN_REVISTA',\n",
    "  'TXT_FASCICULO_REVISTA',\n",
    "  'TXT_SERIE_REVISTA',\n",
    "  'TXT_PAGINA_INICIAL',\n",
    "  'TXT_PAGINA_FINAL'],\n",
    "'journal':['TXT_ISSN_SEP','TXT_NME_REVISTA','SGL_PAIS','TPO_REVISTA','TPO_CLASIFICACION','TXT_URL'],   \n",
    "'oriented_thesis': ['COD_PROGRAMA_ACADEMICO',\n",
    "      'NRO_PAGINAS',\n",
    "      'TPO_ORIENTACION',\n",
    "      'NRO_MESES',\n",
    "      'TPO_ESTADO',\n",
    "      'TXT_NME_ORIENTADOS',\n",
    "      'VALORACION_OBT_TESIS',\n",
    "      'TPO_INSTITUCION',\n",
    "      'NRO_ANO_FIN',\n",
    "      'NRO_MES_FIN'],\n",
    "'institution': [\n",
    "        'NME_INST',\n",
    "        'SGL_INST',\n",
    "        'URL_HOME_PAGE',\n",
    "        'TXT_CIUDAD_INST',\n",
    "        'ID_INSTITUCION']    \n",
    "}"
   ]
  },
  {
   "cell_type": "code",
   "execution_count": 80,
   "id": "1ddbfe91-07c4-47c6-a072-0d141a440451",
   "metadata": {},
   "outputs": [],
   "source": [
    "f=open('asc3.json','r')\n",
    "ws=json.load(f)\n",
    "f.close()"
   ]
  },
  {
   "cell_type": "code",
   "execution_count": 81,
   "id": "ddf50d1e-673d-417f-9474-aa9f78231ce9",
   "metadata": {},
   "outputs": [
    {
     "data": {
      "text/plain": [
       "68275"
      ]
     },
     "execution_count": 81,
     "metadata": {},
     "output_type": "execute_result"
    }
   ],
   "source": [
    "len(ws)"
   ]
  },
  {
   "cell_type": "code",
   "execution_count": 84,
   "id": "775d906a-7ac1-43e8-b1ca-9e154af37d1d",
   "metadata": {},
   "outputs": [
    {
     "name": "stdout",
     "output_type": "stream",
     "text": [
      "068275\r"
     ]
    }
   ],
   "source": [
    "Ws=[]\n",
    "for w in ws:#wf:#wn:\n",
    "    W={}\n",
    "    for k in filterfields['general']:\n",
    "        W[k]=w.get(k)\n",
    "    for sub in ['author','authors','group','institution','project','details']:\n",
    "        if w.get(sub) and isinstance(w.get(sub),list):\n",
    "            if sub != 'details':\n",
    "                for kt in filterfields[sub]:\n",
    "                    W[f'{sub}_{kt}']=w.get(sub)[0].get(kt)\n",
    "            else:\n",
    "                details=list(w.get(sub)[0].keys())[0]\n",
    "                detailed=w.get(sub)[0].get(details)[0]\n",
    "                if details in filterfields.keys():\n",
    "                    for kt in filterfields[details]:\n",
    "                        W[f'{details}_{kt}']=w.get(sub)[0].get(details)[0].get(kt)\n",
    "                else:\n",
    "                    W['details']=w.get(sub)[0].get(details)[0]\n",
    "                try:\n",
    "                    subdetails = [ x for x in detailed.keys() if isinstance(detailed.get(x),list) ][0]\n",
    "                except:\n",
    "                    subdetails = None\n",
    "                    \n",
    "                if subdetails and subdetails in filterfields.keys():\n",
    "                    for kt in filterfields[subdetails]:\n",
    "                        W[f'{subdetails}_{kt}']=w.get(sub)[0].get(details)[0].get(subdetails)[0].get(kt)                    \n",
    "#                raise Exception('STOP')\n",
    "    Ws.append(W)\n",
    "    print(f'{str(len(Ws)).zfill(6)}',end='\\r')\n",
    "del ws#wf#wn"
   ]
  },
  {
   "cell_type": "code",
   "execution_count": 86,
   "id": "39212f63-b637-4b14-bc3f-95e479b4f0a0",
   "metadata": {},
   "outputs": [],
   "source": [
    "df=pd.DataFrame(Ws)"
   ]
  },
  {
   "cell_type": "code",
   "execution_count": 87,
   "id": "6fdae40f-c736-495a-b222-b63cef9d7fa4",
   "metadata": {},
   "outputs": [
    {
     "data": {
      "text/plain": [
       "(68275, 73)"
      ]
     },
     "execution_count": 87,
     "metadata": {},
     "output_type": "execute_result"
    }
   ],
   "source": [
    "df.shape"
   ]
  },
  {
   "cell_type": "code",
   "execution_count": 100,
   "id": "f2f90f8b-93bd-423a-891d-c6769e4d7fb5",
   "metadata": {},
   "outputs": [],
   "source": [
    "df[60000:].to_excel('ASC6.xlsx',engine='xlsxwriter',index=None)\n",
    "#df[:20000].to_excel('NC1.xlsx',index=None)\n",
    "#df[20000:40000].to_excel('NC2.xlsx',index=None)\n",
    "#df[40000:].to_excel('NC3.xlsx',index=None)\n",
    "#df.to_excel('FTH3.xlsx',index=None)"
   ]
  },
  {
   "cell_type": "code",
   "execution_count": 54,
   "id": "4673ccdc-a360-4f7b-99e6-591fa9ac7d55",
   "metadata": {},
   "outputs": [],
   "source": [
    "del Ws"
   ]
  },
  {
   "cell_type": "code",
   "execution_count": 55,
   "id": "3a9e5d1f-9e4b-41b1-9559-16b599e06938",
   "metadata": {},
   "outputs": [
    {
     "name": "stdout",
     "output_type": "stream",
     "text": [
      "-rw-r--r-- 1 restrepo restrepo 28M Sep 18 07:40 FRH3.xlsx\n"
     ]
    }
   ],
   "source": [
    "ls -lh FRH3.xlsx"
   ]
  },
  {
   "cell_type": "code",
   "execution_count": 56,
   "id": "0b1f8117-addb-4ea3-b9e2-d37145f5d196",
   "metadata": {},
   "outputs": [
    {
     "data": {
      "text/html": [
       "<div>\n",
       "<style scoped>\n",
       "    .dataframe tbody tr th:only-of-type {\n",
       "        vertical-align: middle;\n",
       "    }\n",
       "\n",
       "    .dataframe tbody tr th {\n",
       "        vertical-align: top;\n",
       "    }\n",
       "\n",
       "    .dataframe thead th {\n",
       "        text-align: right;\n",
       "    }\n",
       "</style>\n",
       "<table border=\"1\" class=\"dataframe\">\n",
       "  <thead>\n",
       "    <tr style=\"text-align: right;\">\n",
       "      <th></th>\n",
       "      <th>COD_RH</th>\n",
       "      <th>COD_PRODUCTO</th>\n",
       "      <th>COD_TIPO_PRODUCTO</th>\n",
       "      <th>TIPO_PRODUCTO</th>\n",
       "      <th>TXT_NME_PROD</th>\n",
       "      <th>TXT_RESUMEN_PROD</th>\n",
       "      <th>NRO_ANO_PRESENTA</th>\n",
       "      <th>NRO_MES_PRESENTA</th>\n",
       "      <th>DTA_CREACION</th>\n",
       "      <th>DTA_ACTUALIZACION</th>\n",
       "      <th>...</th>\n",
       "      <th>oriented_thesis_COD_PROGRAMA_ACADEMICO</th>\n",
       "      <th>oriented_thesis_NRO_PAGINAS</th>\n",
       "      <th>oriented_thesis_TPO_ORIENTACION</th>\n",
       "      <th>oriented_thesis_NRO_MESES</th>\n",
       "      <th>oriented_thesis_TPO_ESTADO</th>\n",
       "      <th>oriented_thesis_TXT_NME_ORIENTADOS</th>\n",
       "      <th>oriented_thesis_VALORACION_OBT_TESIS</th>\n",
       "      <th>oriented_thesis_TPO_INSTITUCION</th>\n",
       "      <th>oriented_thesis_NRO_ANO_FIN</th>\n",
       "      <th>oriented_thesis_NRO_MES_FIN</th>\n",
       "    </tr>\n",
       "  </thead>\n",
       "  <tbody>\n",
       "    <tr>\n",
       "      <th>0</th>\n",
       "      <td>0000483885</td>\n",
       "      <td>134</td>\n",
       "      <td>2J6</td>\n",
       "      <td>Ponencia</td>\n",
       "      <td>Determinantes genéticas de respuesta a la tera...</td>\n",
       "      <td>None</td>\n",
       "      <td>NaN</td>\n",
       "      <td>NaN</td>\n",
       "      <td>2019-05-29 14:30:47</td>\n",
       "      <td>2019-05-29 14:30:47</td>\n",
       "      <td>...</td>\n",
       "      <td>NaN</td>\n",
       "      <td>NaN</td>\n",
       "      <td>NaN</td>\n",
       "      <td>NaN</td>\n",
       "      <td>NaN</td>\n",
       "      <td>NaN</td>\n",
       "      <td>NaN</td>\n",
       "      <td>NaN</td>\n",
       "      <td>NaN</td>\n",
       "      <td>NaN</td>\n",
       "    </tr>\n",
       "  </tbody>\n",
       "</table>\n",
       "<p>1 rows × 83 columns</p>\n",
       "</div>"
      ],
      "text/plain": [
       "       COD_RH COD_PRODUCTO COD_TIPO_PRODUCTO TIPO_PRODUCTO  \\\n",
       "0  0000483885          134               2J6      Ponencia   \n",
       "\n",
       "                                        TXT_NME_PROD TXT_RESUMEN_PROD  \\\n",
       "0  Determinantes genéticas de respuesta a la tera...             None   \n",
       "\n",
       "   NRO_ANO_PRESENTA  NRO_MES_PRESENTA         DTA_CREACION  \\\n",
       "0               NaN               NaN  2019-05-29 14:30:47   \n",
       "\n",
       "     DTA_ACTUALIZACION  ... oriented_thesis_COD_PROGRAMA_ACADEMICO  \\\n",
       "0  2019-05-29 14:30:47  ...                                    NaN   \n",
       "\n",
       "  oriented_thesis_NRO_PAGINAS oriented_thesis_TPO_ORIENTACION  \\\n",
       "0                         NaN                             NaN   \n",
       "\n",
       "  oriented_thesis_NRO_MESES oriented_thesis_TPO_ESTADO  \\\n",
       "0                       NaN                        NaN   \n",
       "\n",
       "  oriented_thesis_TXT_NME_ORIENTADOS oriented_thesis_VALORACION_OBT_TESIS  \\\n",
       "0                                NaN                                  NaN   \n",
       "\n",
       "  oriented_thesis_TPO_INSTITUCION oriented_thesis_NRO_ANO_FIN  \\\n",
       "0                             NaN                         NaN   \n",
       "\n",
       "  oriented_thesis_NRO_MES_FIN  \n",
       "0                         NaN  \n",
       "\n",
       "[1 rows x 83 columns]"
      ]
     },
     "execution_count": 56,
     "metadata": {},
     "output_type": "execute_result"
    }
   ],
   "source": [
    "df[:1]"
   ]
  },
  {
   "cell_type": "code",
   "execution_count": 38,
   "id": "b3a8f447-f4c3-4b3d-918a-2f66ebe59e90",
   "metadata": {},
   "outputs": [
    {
     "data": {
      "text/plain": [
       "Index(['COD_RH', 'COD_PRODUCTO', 'COD_TIPO_PRODUCTO', 'TIPO_PRODUCTO',\n",
       "       'TXT_NME_PROD', 'TXT_RESUMEN_PROD', 'NRO_ANO_PRESENTA',\n",
       "       'NRO_MES_PRESENTA', 'DTA_CREACION', 'DTA_ACTUALIZACION',\n",
       "       'TXT_WEB_PRODUCTO', 'SGL_CATEGORIA', 'TXT_DOI', 'TXT_INST_PART',\n",
       "       'DTA_EXPOSICION', 'STA_EVENTO', 'TXT_NME_TITULAR', 'NRO_AUTORES_TOTAL',\n",
       "       'NRO_GRUPOS', 'COD_PROYECTO', 'ANO_INIC', 'ANO_FIM', 'TXT_NOME_PROJETO',\n",
       "       'author_TXT_TOTAL_NAMES', 'author_TXT_NAMES_RH',\n",
       "       'author_TXT_PRIM_APELL', 'author_TXT_SEG_APELL',\n",
       "       'author_TPO_NACIONALIDAD', 'author_TPO_DOCUMENTO_IDENT',\n",
       "       'author_TPO_SEXO', 'author_COD_ORCID', 'author_AUTOR_ID_SCP', 'details',\n",
       "       'group_NRO_ID_GRUPO', 'group_COD_ID_GRUPO', 'group_NME_GRUPO',\n",
       "       'group_COD_RH_AREA', 'group_COD_AREA_CONHEC', 'group_COD_PROGRAMA',\n",
       "       'group_COD_PROGRAMA_SECUND', 'group_TXT_PLAN_TRABAJO',\n",
       "       'group_TXT_ESTADO_ARTE', 'group_TXT_OBJETIVOS',\n",
       "       'group_TXT_PROD_DESTACADA', 'group_TXT_RETOS', 'group_TXT_VISION',\n",
       "       'group_area', 'project_COD_RH', 'project_COD_PROYECTO',\n",
       "       'project_TXT_NME_PROYECTO', 'project_TXT_NME_PROYECTO_FILTRO',\n",
       "       'project_TXT_OBSERV_PROYECTO', 'project_TXT_RESUMEN_PROYECTO',\n",
       "       'project_TPO_PROYECTO', 'project_NRO_ANO_INICIO',\n",
       "       'project_NRO_ANO_FINNRO_DURACION', 'project_TPO_ESTADO_PROYECTO',\n",
       "       'institution_NME_INST', 'institution_SGL_INST',\n",
       "       'institution_URL_HOME_PAGE', 'institution_TXT_CIUDAD_INST',\n",
       "       'institution_ID_INSTITUCION', 'journal_TXT_ISSN_SEP',\n",
       "       'journal_TXT_NME_REVISTA', 'journal_SGL_PAIS', 'journal_TPO_REVISTA',\n",
       "       'journal_TPO_CLASIFICACION', 'journal_TXT_URL',\n",
       "       'article_TXT_VOLUMEN_REVISTA', 'article_TXT_FASCICULO_REVISTA',\n",
       "       'article_TXT_SERIE_REVISTA', 'article_TXT_PAGINA_INICIAL',\n",
       "       'article_TXT_PAGINA_FINAL', 'oriented_thesis_COD_PROGRAMA_ACADEMICO',\n",
       "       'oriented_thesis_NRO_PAGINAS', 'oriented_thesis_TPO_ORIENTACION',\n",
       "       'oriented_thesis_NRO_MESES', 'oriented_thesis_TPO_ESTADO',\n",
       "       'oriented_thesis_TXT_NME_ORIENTADOS',\n",
       "       'oriented_thesis_VALORACION_OBT_TESIS',\n",
       "       'oriented_thesis_TPO_INSTITUCION', 'oriented_thesis_NRO_ANO_FIN',\n",
       "       'oriented_thesis_NRO_MES_FIN'],\n",
       "      dtype='object')"
      ]
     },
     "execution_count": 38,
     "metadata": {},
     "output_type": "execute_result"
    }
   ],
   "source": [
    "df.columns"
   ]
  },
  {
   "cell_type": "code",
   "execution_count": 39,
   "id": "985764e6-c9ee-47b5-a98e-246bf1d1eb75",
   "metadata": {},
   "outputs": [],
   "source": [
    "del df"
   ]
  },
  {
   "cell_type": "code",
   "execution_count": 38,
   "id": "867bb565-0efa-47cb-80f6-0f8afc0f6138",
   "metadata": {},
   "outputs": [],
   "source": [
    "from IPython.display import JSON"
   ]
  },
  {
   "cell_type": "code",
   "execution_count": 40,
   "id": "2ac1df59-f8ea-4668-9618-5c4fc2b49a83",
   "metadata": {},
   "outputs": [
    {
     "data": {
      "application/json": {
       "ANO_FIM": "2015",
       "ANO_INIC": "2015",
       "COD_PRODUCTO": "46",
       "COD_PROYECTO": "46",
       "COD_RH": "0000034118",
       "COD_TIPO_PRODUCTO": "2Q2",
       "DTA_EXPOSICION": null,
       "NRO_ANO_PRESENTA": 2015,
       "NRO_AUTORES_TOTAL": null,
       "NRO_GRUPOS": null,
       "STA_EVENTO": null,
       "TIPO_PRODUCTO": "Portal",
       "TXT_DOI": null,
       "TXT_INST_PART": "Universidad de Antioquia",
       "TXT_NME_PROD": "La UdeA cultivará microalgas para Colombia",
       "TXT_NME_TITULAR": null,
       "TXT_NOME_PROJETO": "Transferencia tecnología Universidad de Antioquia ECOTEC de un sistema de iluminación para la mejora en la producción de biomasa y productos de interés comercial a partir de microalgas",
       "TXT_RESUMEN_PROD": "Microalgas con funcionalidades para la industria cosmética, farmacéutica y alimentaria serán cultivadas en Colombia gracias a la alianza entre el grupo de investigación Biotecnología de la Universidad de Antioquia, Colciencias y la empresa cultivadora de microalgas Ecotec.",
       "TXT_WEB_PRODUCTO": "http://www.udea.edu.co/wps/portal/udea/web/inicio/udea-noticias/udea-noticia/!ut/p/z0/fYy9DoJAEIRfxYaS7Il4akksTIyFhTFwjVmPC6wet_wcxMcXpNHGZjIz-WZAQQrK4UAFemKHdsyZkrftbh8tk1ichIylSOQ5Xm-iw-pyFXAE9R8YH-jRNCoBpdl58_KQ1tx6tH1uMBDY_aaSKzP7SReOPWnCLhCftaOcJ-qrJuNGN-Oh7q2nAVsMK9Itoy2wCzVbru6EUD9V9gaXrKo5/",
       "author_TXT_TOTAL_NAMES": "Lucia Atehortua Garces",
       "details": {
        "COD_PRODUCTO": "46",
        "COD_RH": "0000034118",
        "DTA_ACTUALIZACION": "2016-01-04 15:28:01",
        "DTA_CREACION": "2016-01-04 15:28:01",
        "tech_product": [
         {
          "COD_EDITORIAL": null,
          "COD_EDITORIAL_OTRO": null,
          "COD_PRODUCTO": "46",
          "COD_RH": "0000034118",
          "DTA_ACTUALIZACION": "2016-01-04 15:28:01",
          "DTA_CREACION": "2016-01-04 15:28:01",
          "DTA_PRESENTACION": "2015-06-01 00:00:00",
          "NRO_ANO_FIN": null,
          "NRO_DURACION": null,
          "NRO_MES_FIN": null,
          "NRO_PAGINAS": null,
          "NRO_VLR_CONTRATO": null,
          "TPO_AMBITO": null,
          "TXT_AMBIENTE": null,
          "TXT_AREA_REPRESENTA": null,
          "TXT_CONTRATO": null,
          "TXT_EMISORA": null,
          "TXT_MAT_EMPLEADO": null,
          "TXT_PLATAFORMA": null,
          "TXT_TECNICA": null,
          "TXT_TEMA": null
         }
        ]
       },
       "group_COD_AREA_CONHEC": "1F16",
       "group_COD_ID_GRUPO": "COL0001084",
       "group_COD_PROGRAMA": 1,
       "group_COD_PROGRAMA_SECUND": 0,
       "group_COD_RH_AREA": "0000000000",
       "group_NME_GRUPO": "Biotecnología",
       "group_NRO_ID_GRUPO": "00000000001702",
       "group_TXT_ESTADO_ARTE": "ESTADO DEL ARTE  EN BIOTECNOLOGIA:\r\n\r\nA nivel mundial, las investigaciones en Biotecnologia estan centradas en cuatro grandes áreas: Genómica (mapeo, secuenciación y caracterización de genes), Proteómica (estudio de la interacción de las  proteínas, mecanismos de control y expresión génica, entre otras), Metabolómica (procesos metabolicos y la cascada de transformaciones que cualquier cambio molecular pueda generar) y Bioinformática (basado en supercomputadores con la capacidad de almacenar grandes bases de datos sobre secuencias genómicas del hombre y otros organismos vivos, desarrollo de algoritmos que permitan comparar bases e interacción de datos de librerías genómicas,  librerías químicas, de proteínas, química combinatoria, entre otras) las cuales generarán grandes cambios filosóficos en la concepción de la vida y la naturaleza y en los mercados  bursátiles del mundo entero, debido, en gran parte, a los desarrollos y aplicaciones derivados de  las investigaciones sobre el genoma humano.\r\n",
       "group_TXT_OBJETIVOS": "OBJETIVOS DEL GRUPO PARA LOS PROXIMOS 5 AÑOS\r\n\r\nOBJETIVOS DEL GRUPO PARA LOS PROXIMOS 5 AÑOS\r\n\r\n1. Consolidar los programas de formación del capital humano a alto nivel: Maestrías, Doctorados y Postdoctorados.\r\n\r\n2. Desarrollar investigación de alto nivel en temas estratégicos regionales, nacionales y/o mundiales, en busca del mejoramiento de la calidad de vida y el desarrollo sostenible.\r\n\r\n3. Desarrollar investigación aplicada y desarrollo tecnológico con los sectores productivos nacionales y/o internacionales\r\n\r\n4. Ser reconocidos como un grupo de excelencia a nivel nacional e internacional\r\n\r\n",
       "group_TXT_PLAN_TRABAJO": "El grupo tiene como plan de trabajo desarrollar las siguientes actividades:\r\n\r\n-Docentes: Formación de investigadores en el área de Biotecnología a  nivel de   maestría y doctorado\r\n\r\n-Desarrollar investigaciones en las líneas de desarrollo del grupo:\r\nLínea de Cultivos Celulares Cacao\r\nLínea de Cultivos Celulares Jatropha\r\nLínea de Hongos\r\nLínea de Microalgas\r\nLínea de Molecular\r\n\r\n-Desarrollar procesos y productos en Joint-Venture con la empresa privada, el estado y/o particulares interesados en unirse al grupo bajo esta modalidad \r\n-Desarrollar un programa de Diplomado en Biotecnología dirigido a empresarios y profesionales de otras disciplinas\r\n-Continuar con el semillero en Biotecnología dirigido a estudiantes de niveles primarios y secundarios que aspiran a ingresar a la Universidad\r\n-Establecer alianzas estratégicas con otras instituciones y/o empresas regionales, nacionales e internacionales\r\n\r\nEl grupo de Biotecnología cuenta con un personal multidisciplinario en áreas como  Biología, Microbiología, Química, Ingeniería, Biotecnología, desde su año de conformación ante COLCIENCIAS en  1999 el  grupo tiene como plan de trabajo desarrollar  actividades para la formación de investigadores en el área de Biotecnología a nivel de maestría y doctorado Desarrollar investigaciones en las líneas de desarrollo del grupo, Desarrollar procesos y productos en JointVenture con la empresa privada, el estado y/o particulares interesados en unirse al grupo bajo esta modalidad. Actualmente cuenta con un personal de alrededor de 60 integrantes entre estudiantes de pre-grado, Maestría y Doctorado, Jovenes Investigadores Colciencias y CODI, pasantes de la UdeA y otras Universidades y Profesionales vinculados a proyectos de investigación.\r\n\r\n\r\n",
       "group_TXT_PROD_DESTACADA": "\r\nRESULTADOS MAS IMPORTANTES \r\n\r\n1. Haber logrado integrar a los investigadores de las principales facultades de la Universidad de Antioquia que desarrollan proyectos en las diferentes áreas de la Biotecnología\r\n\r\n2. Haber logrado elaborar, presentar y aprobar dos programas de alto nivel: Maestría en biotecnología (código número 120166600600500111100), y el Doctorado en biotecnología en cotutorías con importantes centros de la Unión Europea y América Latina.\r\n\r\n3. Lograr la aprobación del Diplomado en el área de Biotecnología, orientado a la capacitación de empresarios y otro profesionales en esta temática\r\n\r\n4. Haber logrado una alianza estratégica para la formación de Investigadores a alto nivel mediante la red Alfa Caribiotec\r\n\r\n5. Ser clasificados como grupo B en la convocatoria de COLCIENCIAS del año 2000\r\n\r\n6. Obtener financiación mediante proyectos de sostenibilidad de la Universidad de Antioquia\r\n\r\n7. Lograr un espacio físico para los laboratorios de investigación del grupo en la nueva sede de Investigación Universitaria de la universidad de Antioquia (SIU).\r\n\r\n8. Haber implementado un Semillero en biotecnología dirigido a estudiantes de bachillerato\r\n\r\n",
       "group_TXT_RETOS": null,
       "group_TXT_VISION": "VISIÓN\r\n\r\nEl grupo de Biotecnología tiene como visión:\r\n\r\nBuscar el reconocimiento regional, nacional e internacional en  las líneas de investigación del grupo. Estar en capacidad de ofrecer productos y servicios de impacto social, económico y ambiental siguiendo las políticas del desarrollo sostenible. Formar recurso humano de alto nivel científico y tecnológico, capaz de proponer soluciones reales a los problemas del entorno.\r\n\r\n",
       "group_knowledge_area": [
        {
         "COD_AREA_CONOCIMIENTO": "1F16",
         "COD_AREA_CONOCIMIENTO_FULL": "1 - 1F - 1F16",
         "COD_AREA_PADRE": "1F",
         "COD_RH": "0000000000",
         "COD_RH_FULL": "0000000000",
         "COD_RH_PADRE": "0000000000",
         "DTA_ACTUALIZACION": "2013-10-31 00:00:00",
         "DTA_CREACION": "2013-10-31 00:00:00",
         "NRO_NIVEL": 2,
         "TPO_CAMBIO": "T",
         "TXT_NME_AREA": "Otras Biologías",
         "TXT_NME_AREA_FILTRO": "OTRAS BIOLOGIAS",
         "TXT_NME_AREA_FULL": "Ciencias Naturales -- Ciencias Biológicas -- Otras Biologías",
         "TXT_VERIFICADO": "T",
         "knowledge_area": [
          {
           "COD_AREA_CONOCIMIENTO": "1F",
           "COD_AREA_CONOCIMIENTO_FULL": "1 - 1F",
           "COD_AREA_PADRE": "1",
           "COD_RH": "0000000000",
           "COD_RH_FULL": "0000000000",
           "COD_RH_PADRE": "0000000000",
           "DTA_ACTUALIZACION": "2013-11-15 11:42:07",
           "DTA_CREACION": "2013-10-31 00:00:00",
           "NRO_NIVEL": 1,
           "TPO_CAMBIO": "T",
           "TXT_NME_AREA": "Ciencias Biológicas",
           "TXT_NME_AREA_FILTRO": "CIENCIAS BIOLOGICAS",
           "TXT_NME_AREA_FULL": "Ciencias Naturales -- Ciencias Biológicas",
           "TXT_VERIFICADO": "T",
           "knowledge_area": [
            {
             "COD_AREA_CONOCIMIENTO": "1",
             "COD_AREA_CONOCIMIENTO_FULL": null,
             "COD_AREA_PADRE": null,
             "COD_RH": "0000000000",
             "COD_RH_FULL": null,
             "COD_RH_PADRE": "0000000000",
             "DTA_ACTUALIZACION": "2013-10-31 00:00:00",
             "DTA_CREACION": "2013-10-31 00:00:00",
             "NRO_NIVEL": 0,
             "TPO_CAMBIO": "T",
             "TXT_NME_AREA": "Ciencias Naturales",
             "TXT_NME_AREA_FILTRO": "CIENCIAS NATURALES",
             "TXT_NME_AREA_FULL": "Ciencias Naturales",
             "TXT_VERIFICADO": "T"
            }
           ]
          }
         ]
        }
       ],
       "institution_COD_INST": "007300000887",
       "institution_COD_INST_MACRO": "007300000887",
       "institution_COD_SECTOR_ECON": "241",
       "institution_NME_INST": "UNIVERSIDAD DE ANTIOQUIA",
       "institution_SGL_DEPARTAMENTO": "31",
       "institution_SGL_INST": "UdeA",
       "institution_SGL_PAIS": "1",
       "project_COD_PROYECTO": "46",
       "project_COD_RH": "0000034118",
       "project_NRO_ANO_FINproject_NRO_DURACION": "nan",
       "project_NRO_ANO_INICIO": 2015,
       "project_TPO_ESTADO_PROYECTO": null,
       "project_TPO_PROYECTO": "IN",
       "project_TXT_NME_PROYECTO": "Transferencia tecnología Universidad de Antioquia ECOTEC de un sistema de iluminación para la mejora en la producción de biomasa y productos de interés comercial a partir de microalgas",
       "project_TXT_NME_PROYECTO_FILTRO": "TRANSFERENCIA TECNOLOGIA UNIVERSIDAD DE ANTIOQUIA ECOTEC DE UN SISTEMA DE ILUMINACION PARA LA MEJORA EN LA PRODUCCION DE BIOMASA Y PRODUCTOS DE INTERES COMERCIAL A PARTIR DE MICROALGAS",
       "project_TXT_OBSERV_PROYECTO": null,
       "project_TXT_RESUMEN_PROYECTO": "El Grupo de Investigación en Biotecnología de la Universidad de Antioquia lleva varios años adelantando proyectos de investigación, financiados con recursos internos y externos, orientados a la producción de biomasa de microalgas y productos de alto valor comercial derivados de la misma. El trabajo de investigación nos ha conducido al desarrollo de prototipos que permiten aportar al sistema de cultivo, por\r\nmedio de la radiación electromagnética de características específicas y apropiadas, condiciones que estimulan las capacidades productivas de estas células. Un mejoramiento en las productividades de biomasa, lípidos, polisacáridos y pigmentos ha sido obtenido al someter diferentes especies de microalgas a estos sistemas de iluminación, indicando que este desarrollo tecnológico presenta un amplio potencial de utilización a nivel comercial. Dentro del portafolio de biomoleculas obtenidas hasta el momento por el grupo, los pigmentos naturales tipo ficobilinas son uno de los productos de mayor interés comercial, especialmente en el sector farmacéutico, cosmético y de alimentos funcionales, cuyos rendimientos aumentan hasta 2,33 veces al ser sometidos a los sistemas de iluminación desarrollados. Entendiendo las limitaciones del laboratorio en temas de inversión, tiempo y experiencia requerido para llegar al mercado, se buscó una alianza con ECOTEC, una empresa colombiana, ubicada en la región de Antioquia, la cual produce y comercializa concentrados para peces y alimentos funcionales para humanos a partir de microalgas. Esta empresa se encuentra interesada en incursionar en la producción de pigmentos y bioinsumos a partir de microalgas, para producirlas y comercializarlas en el mercado nacional y regional. Los avances tecnológicos desarrollados por el laboratorio, sobre los diferentes factores físicos como la iluminación, que inciden en la eficiencia de los procesos biológicos y de crecimiento de las microalgas, pueden incrementar la productividad de la actual infraestructura de ECOTEC, y ampliar la gama de productos y sectores, que permita a la empresa tener una posición ventajosa en el mercado. Con el fin de realizar una transferencia tecnológica que beneficie tanto al laboratorio como a la empresa privada, se realizará un modelo de utilidad como estrategia de protección de la propiedad intelectual, y el posterior contrato de licenciamiento, que permita a los actores la transferencia, explotación y comercialización de la tecnología. Para la empresa se desarrollará la adaptación y construcción de un prototipo para la iluminación de los tanques raceway de producción de microalgas propios de la empresa, así como la elaboración de protocolos para el seguimiento de los cultivos y la evaluación pre comercial de la tecnología."
      },
      "text/plain": [
       "<IPython.core.display.JSON object>"
      ]
     },
     "execution_count": 40,
     "metadata": {
      "application/json": {
       "expanded": false,
       "root": "root"
      }
     },
     "output_type": "execute_result"
    },
    {
     "name": "stderr",
     "output_type": "stream",
     "text": [
      "/usr/local/lib/python3.9/dist-packages/jupyter_client/session.py:716: UserWarning: Message serialization failed with:\n",
      "Out of range float values are not JSON compliant\n",
      "Supporting this message is deprecated in jupyter-client 7, please make sure your message is JSON-compliant\n",
      "  content = self.pack(content)\n"
     ]
    }
   ],
   "source": [
    "JSON(df.dropna(subset=['author_TXT_TOTAL_NAMES','group_NRO_ID_GRUPO','institution_NME_INST',\n",
    "                 'project_TXT_NME_PROYECTO','TXT_RESUMEN_PROD']).iloc[0].to_dict())"
   ]
  },
  {
   "cell_type": "code",
   "execution_count": 32,
   "id": "3b1958f4-c2ff-47e4-a2b0-e549c6f65450",
   "metadata": {},
   "outputs": [],
   "source": [
    "import unidecode as ud"
   ]
  },
  {
   "cell_type": "code",
   "execution_count": 36,
   "id": "1fbc537a-3a55-4e47-b312-7a3f5d7894f1",
   "metadata": {},
   "outputs": [
    {
     "data": {
      "text/plain": [
       "(34877, 52)"
      ]
     },
     "execution_count": 36,
     "metadata": {},
     "output_type": "execute_result"
    }
   ],
   "source": [
    "df.shape"
   ]
  },
  {
   "cell_type": "code",
   "execution_count": 41,
   "id": "df4620ff-8ac3-4e4b-a7b8-60ec2b848d91",
   "metadata": {},
   "outputs": [
    {
     "data": {
      "text/plain": [
       "(31262,)"
      ]
     },
     "execution_count": 41,
     "metadata": {},
     "output_type": "execute_result"
    }
   ],
   "source": [
    "df['TXT_NME_PROD'].str.lower().drop_duplicates().shape"
   ]
  },
  {
   "cell_type": "code",
   "execution_count": 35,
   "id": "10980248-0288-40dc-abe0-970f87df9cda",
   "metadata": {},
   "outputs": [
    {
     "data": {
      "text/plain": [
       "(31156,)"
      ]
     },
     "execution_count": 35,
     "metadata": {},
     "output_type": "execute_result"
    }
   ],
   "source": [
    "\n",
    "df['TXT_NME_PROD'].str.lower().apply(ud.unidecode).drop_duplicates().shape"
   ]
  },
  {
   "cell_type": "markdown",
   "id": "5d841ad7-fbaa-4b65-8a79-1ab253238d13",
   "metadata": {},
   "source": [
    "## Appendix"
   ]
  },
  {
   "cell_type": "code",
   "execution_count": 67,
   "id": "7f3bf010-3bbb-4d34-a1e3-8ca414c6929e",
   "metadata": {
    "tags": []
   },
   "outputs": [
    {
     "data": {
      "text/plain": [
       "Index(['COD_RH', 'COD_PRODUCTO', 'TXT_NME_PROD', 'TXT_NME_PROD_FILTRO',\n",
       "       'TXT_RESUMEN_PROD', 'TXT_OBSERV_PROD', 'SGL_IDIOMA',\n",
       "       'COD_TIPO_PRODUCTO', 'COD_SUBTIPO_PRODUCTO', 'TXT_COMPLEMENTARIO',\n",
       "       'COD_TIPO_PRODUCTO_MDCN', 'SGL_PAIS', 'NRO_ANO_PRESENTA',\n",
       "       'NRO_MES_PRESENTA', 'TXT_WEB_PRODUCTO', 'NRO_IND_EXISTENCIA_MDCN',\n",
       "       'NRO_IND_CALIDAD_MDCN', 'TXT_IND_CALIDAD_MDCN',\n",
       "       'NRO_IND_VISIBILIDAD_MDCN', 'TPO_AMPERSAN_MDCN',\n",
       "       'TPO_MEDIO_DIVULGACION', 'STA_RELEVANCIA', 'COD_PRODUCTO_BNR',\n",
       "       'STA_CERTIFICADO', 'STA_VERIFICACION_AUTO', 'DTA_VERIF_AUTO',\n",
       "       'STA_VERIFICACION_USUA', 'DTA_VERIF_USUA', 'TXT_FICHA_RESUMEN',\n",
       "       'DTA_CREACION', 'DTA_ACTUALIZACION', 'STA_VENTANA', 'NRO_PATENTES',\n",
       "       'NRO_SECRETOS', 'COD_UNO_MDCN', 'COD_DOS_MDCN', 'COD_TRES_MDCN',\n",
       "       'STA_VENTANA_2', 'TXT_IND_CALIDAD_MDCN_2', 'TIPO_PRODUCTO_MDCN',\n",
       "       'TIPO_PRODUCTO_MDCN_2', 'TXT_DOI', 'TXT_INST_PART', 'DTA_EXPOSICION',\n",
       "       'STA_EVENTO', 'TXT_NME_TITULAR', 'NRO_REGISTROS', 'STA_VENTANA_3',\n",
       "       'DTA_ACTUALIZACION_CVLAC', 'DTA_AVAL_INST', 'TPO_AVAL_INST',\n",
       "       'COD_INST_AVALA', 'ID_USUARIO_AVAL', 'CAT_MED', 'SGL_CATEGORIA',\n",
       "       'NRO_ARTISTICAS_DET', 'COD_TIPO_PRODUCTO_ANT', 'author', 'language',\n",
       "       'product_type', 'author_others', 'details', 'TIPO_PRODUCTO',\n",
       "       'NRO_ID_GRUPO', 'SEQ_PRODUCTO', 'DTA_VINCULACION', 'STA_HUERFANO',\n",
       "       'NRO_AUTORES_GR', 'NRO_AUTORES_TOTAL', 'NRO_GRUPOS', 'NRO_PESO',\n",
       "       'STA_REPETIDO', 'STA_MEDIDO', 'group', 'project', 'institution',\n",
       "       'SEQ_PROJETO', 'COD_PROYECTO', 'ANO_INIC', 'ANO_FIM',\n",
       "       'TXT_NOME_PROJETO', 'TXT_NOME_PROJETO_FILTRO', 'TPO_SITUACAO',\n",
       "       'TPO_NATUREZA', 'NRO_GRADUACAO', 'NRO_ESPECIALIZACAO',\n",
       "       'NRO_MESTRADO_ACAD', 'NRO_MESTRADO_PROFIS', 'NRO_DOUTORADO',\n",
       "       'DSC_PROJETO', 'COD_PROYECTO_BNR', 'MES_INIC', 'MES_FIM'],\n",
       "      dtype='object')"
      ]
     },
     "execution_count": 67,
     "metadata": {},
     "output_type": "execute_result"
    }
   ],
   "source": [
    "df=pd.DataFrame(ws)\n",
    "df.columns"
   ]
  },
  {
   "cell_type": "code",
   "execution_count": 49,
   "id": "361c5780-a76a-4afe-8855-4f4886bef6e8",
   "metadata": {},
   "outputs": [
    {
     "data": {
      "text/plain": [
       "dict_keys(['COD_RH', 'NRO_ID_CNPQ', 'TXT_NAMES_RH', 'TXT_PRIM_APELL', 'TXT_SEG_APELL', 'TXT_TOTAL_NAMES', 'TXT_NAMES_RH_FILTRO', 'TXT_PRIM_APELL_FILTRO', 'TXT_SEG_APELL_FILTRO', 'TXT_TOTAL_NAMES_FILTRO', 'TPO_NACIONALIDAD', 'DTA_NACIM', 'TPO_DOCUMENTO_IDENT', 'TPO_SEXO', 'COD_RH_MUN_NACIM', 'COD_MUN_NACIM', 'NRO_DOCUMENTO_IDENT', 'COD_RH_MUN_EXPED_DOC', 'COD_MUN_EXPED_DOC', 'NRO_LIBRETA_MILITAR', 'TPO_LIBRETA_MILITAR', 'NRO_PASAPORTE', 'NRO_VISA', 'TPO_VISA', 'DTA_INI_VIGENCIA_VISA', 'DTA_FIN_VIGENCIA_VISA', 'COD_RH_RELIGION', 'COD_RELIGION', 'SGL_PAIS_NACIM', 'TXT_AFICION', 'TXT_CONGREGA_PERTENECE', 'TXT_CONGREGA_PERTENECIO', 'NRO_CEDULA_EXTRANJ', 'TXT_COMENT_SUGEREN', 'DTA_DEFUNC', 'COD_NIVEL_FORMACION', 'TPO_ESTADO_CIVIL', 'TPO_DIRECCION_USUAL', 'TPO_DOC_ACTUALIZACION', 'TPO_VER_DOC_ACTUALIZACION', 'TXT_CITACION_BIBLIO', 'TXT_CITACION_BIBLIO_FILTRO', 'STA_CERTIFICADO', 'DTA_CERTIFICADO', 'TXT_RESPUESTA', 'TXT_PREGUNTA', 'DTA_CREACION', 'DTA_ACTUALIZACION', 'COD_CERTIFICACION', 'STA_VISIBLE', 'DTA_VISIBLE', 'NRO_DOCUMENTO_FILTRO', 'TPO_PERFIL', 'TXT_CONF_DATOS', 'TXT_DESC_PERFIL', 'COD_TRAY_PROF_ACT', 'COD_ORCID', 'AUTOR_ID_SCP', 'NRO_INTENTOS', 'STA_ACTIVO', 'COD_ACTIVACION', 'NRO_BLOQUEOS', 'city'])"
      ]
     },
     "execution_count": 49,
     "metadata": {},
     "output_type": "execute_result"
    }
   ],
   "source": [
    "df['author'].iloc[0][0].keys()"
   ]
  },
  {
   "cell_type": "code",
   "execution_count": null,
   "id": "283ba85f-f14f-48ca-9980-45603f201e75",
   "metadata": {},
   "outputs": [],
   "source": [
    "author=['author_TXT_TOTAL_NAMES']"
   ]
  },
  {
   "cell_type": "code",
   "execution_count": 53,
   "id": "81edc3c8-2423-451d-a2f8-3c34738b6e22",
   "metadata": {},
   "outputs": [
    {
     "data": {
      "text/plain": [
       "dict_keys(['NRO_ID_GRUPO', 'COD_ID_GRUPO', 'NME_GRUPO', 'NME_GRUPO_FILTRO', 'ANO_FORMACAO', 'MES_FORMACAO', 'COD_RH_AREA', 'COD_AREA_CONHEC', 'COD_PROGRAMA', 'COD_PROGRAMA_SECUND', 'TPO_ESTADO_GR', 'DTA_ESTADO_GR', 'TXT_CLASIF', 'DTA_CLASIF', 'DTA_FIN_CLASIF', 'TPO_GRUPO', 'DTA_TPO_GRUPO', 'STA_ELIMINADO', 'TXT_PLAN_TRABAJO', 'TXT_ESTADO_ARTE', 'TXT_OBJETIVOS', 'TXT_PROD_DESTACADA', 'TXT_RETOS', 'TXT_VISION', 'TXT_SUGERENCIAS', 'XML_FICHA_RSM', 'STA_CERTIFICADO', 'DTA_CERTIFICADO', 'DTA_CREACION', 'DTA_ACTUALIZACION', 'COD_CERTIFICACION', 'COD_SESION', 'DTA_INI_SESION', 'TXT_CLASIF_1', 'COD_GRAN_AREA_CONHEC_MED', 'STA_CENTRO', 'TPO_CENTRO', 'STA_SECTOR', 'NRO_INTENTOS', 'STA_ACTIVO', 'COD_ACTIVACION', 'NRO_BLOQUEOS', 'COD_AREA_CONHEC_BK', 'institution', 'knowledge_area'])"
      ]
     },
     "execution_count": 53,
     "metadata": {},
     "output_type": "execute_result"
    }
   ],
   "source": [
    "df['group'].dropna().iloc[0][0].keys()"
   ]
  },
  {
   "cell_type": "code",
   "execution_count": null,
   "id": "ca0b9d36-ba57-4880-94e8-689a2bda82ca",
   "metadata": {},
   "outputs": [],
   "source": [
    "group=['group_NRO_ID_GRUPO', 'group_COD_ID_GRUPO', 'group_NME_GRUPO','group_COD_RH_AREA', 'group_COD_AREA_CONHEC', \n",
    "       'group_COD_PROGRAMA', 'group_COD_PROGRAMA_SECUND','group_TXT_PLAN_TRABAJO', \n",
    "       'group_TXT_ESTADO_ARTE', 'group_TXT_OBJETIVOS', 'group_TXT_PROD_DESTACADA', 'group_TXT_RETOS', 'group_TXT_VISION', 'group_TXT_SUGERENCIAS']\n"
   ]
  },
  {
   "cell_type": "code",
   "execution_count": 58,
   "id": "2b147c05-b7a4-47c6-9acc-c70002b385b9",
   "metadata": {},
   "outputs": [
    {
     "data": {
      "text/plain": [
       "dict_keys(['COD_INST', 'COD_INST_MACRO', 'NME_INST', 'NME_INST_FILTRO', 'SGL_INST', 'COD_SECTOR_ECON', 'SGL_PAIS', 'SGL_DEPARTAMENTO', 'COD_RH_MUNICIPIO', 'COD_MUNICIPIO', 'URL_HOME_PAGE', 'TXT_DIRECCION', 'TXT_TELEFONO', 'TXT_FAX', 'TXT_EMAIL', 'TXT_NIT', 'TXT_DIGITO_VERIFICADOR', 'ID_REPRESENTANTE', 'TPO_AVAL', 'TXT_CIUDAD_INST', 'TPO_CARACTER', 'TPO_CONTRIBUYENTE', 'TXT_APARTADO_AEREO', 'STA_EXPORTA', 'COD_NIVEL', 'COD_IES', 'DTA_CONSTITUCION', 'DTA_CREACION', 'DTA_ACTUALIZACION', 'COD_SECTOR_ECON2', 'ID_INSTITUCION', 'STA_TERMINOS_COND', 'DTA_ACEPTA_TERMINOS'])"
      ]
     },
     "execution_count": 58,
     "metadata": {},
     "output_type": "execute_result"
    }
   ],
   "source": [
    "df['institution'].dropna().iloc[0][0].keys()"
   ]
  },
  {
   "cell_type": "code",
   "execution_count": null,
   "id": "6b670086-c5ef-4a90-861e-3ecb97664929",
   "metadata": {},
   "outputs": [],
   "source": [
    "institution=['institution_COD_INST', 'institution_COD_INST_MACRO', 'institution_NME_INST','institution_SGL_INST', 'institution_COD_SECTOR_ECON', 'institution_SGL_PAIS', 'institution_SGL_DEPARTAMENTO']"
   ]
  },
  {
   "cell_type": "code",
   "execution_count": 59,
   "id": "25486f1d-f7c3-41f7-869b-90b39ec37826",
   "metadata": {},
   "outputs": [
    {
     "data": {
      "text/plain": [
       "dict_keys(['COD_RH_CREA', 'COD_RH_OTRO', 'TXT_NME_RH', 'TXT_PRIM_APELL', 'TXT_SEG_APELL', 'TXT_TOTAL_NAMES_FILTRO', 'SGL_PAIS', 'TPO_NACIONALIDAD', 'DTA_NACIMIENTO', 'TPO_DOC_IDENTIFICACION', 'NRO_DOC_IDENTIFICACION', 'NRO_ID_CNPQ', 'DTA_CREACION', 'DTA_ACTUALIZACION', 'NRO_DOC_FILTRO', 'TXT_TOTAL_NAMES', 'TXT_NME_RH_FILTRO', 'TXT_PRIM_APELL_FILTRO', 'TXT_SEG_APELL_FILTRO', 'COD_RH_REF', 'COD_ORCID', 'AUTOR_ID_SCP'])"
      ]
     },
     "execution_count": 59,
     "metadata": {},
     "output_type": "execute_result"
    }
   ],
   "source": [
    "df['author_others'].dropna().iloc[0][0].keys()"
   ]
  },
  {
   "cell_type": "code",
   "execution_count": null,
   "id": "c79fef09-93cb-483f-b1d9-16b01c3b8e03",
   "metadata": {},
   "outputs": [],
   "source": [
    "authors=['authors_COD_RH_OTRO','authors_TXT_TOTAL_NAMES_FILTRO']"
   ]
  },
  {
   "cell_type": "code",
   "execution_count": 72,
   "id": "0a1ed00e-e38b-4775-800a-3382560f6753",
   "metadata": {},
   "outputs": [
    {
     "data": {
      "text/plain": [
       "dict_keys(['COD_RH', 'COD_PROYECTO', 'TXT_NME_PROYECTO', 'TXT_NME_PROYECTO_FILTRO', 'TXT_OBSERV_PROYECTO', 'TXT_RESUMEN_PROYECTO', 'TPO_PROYECTO', 'NRO_MES_INICIO', 'NRO_ANO_INICIO', 'NRO_MES_FIN', 'NRO_ANO_FIN', 'NRO_MES_PROYEC', 'NRO_ANO_PROYEC', 'NRO_DURACION', 'TPO_ESTADO_PROYECTO', 'NRO_GRADUACION', 'NRO_ESPECIALIZACION', 'NRO_MAESTRIA_ACAD', 'NRO_MAESTRIA_PROF', 'NRO_DOCTORADO', 'COD_PROYECTO_BNR', 'STA_CERTIFICADO', 'STA_VERIFICACION_AUTO', 'DTA_VERIF_AUTO', 'STA_VERIFICACION_USUA', 'DTA_VERIF_USUA', 'TXT_FICHA_RESUMEN', 'DTA_CREACION', 'DTA_ACTUALIZACION', 'TXT_URL', 'COD_PROYECTO_SNCTI', 'TPO_FINANCIACION', 'TPO_FTE_FINAN', 'TPO_AMB_FINAN', 'STA_AVAL_INST', 'DTA_AVAL_INST', 'TPO_AVAL_INST', 'COD_INST_AVALA', 'ID_USUARIO_AVALA', 'DTA_ACTUALIZACION_CVLAC', 'CAT_MED', 'SGL_CATEGORIA'])"
      ]
     },
     "execution_count": 72,
     "metadata": {},
     "output_type": "execute_result"
    }
   ],
   "source": [
    "df['project'].dropna().iloc[0][0].keys()"
   ]
  },
  {
   "cell_type": "code",
   "execution_count": null,
   "id": "9dbf1d59-28f2-4482-902d-fd7fe9077f7d",
   "metadata": {},
   "outputs": [],
   "source": [
    "project=['project_COD_RH', 'project_COD_PROYECTO', 'project_TXT_NME_PROYECTO', 'project_TXT_NME_PROYECTO_FILTRO', 'project_TXT_OBSERV_PROYECTO', \n",
    "         'project_TXT_RESUMEN_PROYECTO', 'project_TPO_PROYECTO', 'project_NRO_ANO_INICIO', \n",
    "         'project_NRO_ANO_FIN' 'project_NRO_DURACION', 'project_TPO_ESTADO_PROYECTO']"
   ]
  },
  {
   "cell_type": "code",
   "execution_count": 68,
   "id": "11a178d7-2019-474d-8018-37ef78721e36",
   "metadata": {},
   "outputs": [
    {
     "data": {
      "text/plain": [
       "0        [{'event': [{'COD_RH': '0000483885', 'COD_EVEN...\n",
       "1        [{'event': [{'COD_RH': '0000084328', 'COD_EVEN...\n",
       "2        [{'event': [{'COD_RH': '0000101443', 'COD_EVEN...\n",
       "3        [{'event': [{'COD_RH': '0001478679', 'COD_EVEN...\n",
       "4        [{'keywords': [{'COD_RH': '0000118139', 'COD_P...\n",
       "                               ...                        \n",
       "71469    [{'event': [{'COD_RH': '0001347073', 'COD_EVEN...\n",
       "71470    [{'memory_chapter': [{'COD_RH': '0000047945', ...\n",
       "71471    [{'event': [{'COD_RH': '0001338966', 'COD_EVEN...\n",
       "71473    [{'book_chapter': [{'COD_RH': '0000031291', 'C...\n",
       "71475    [{'memory_chapter': [{'COD_RH': '0000217042', ...\n",
       "Name: details, Length: 57850, dtype: object"
      ]
     },
     "execution_count": 68,
     "metadata": {},
     "output_type": "execute_result"
    }
   ],
   "source": [
    "df['details'].dropna()"
   ]
  },
  {
   "cell_type": "code",
   "execution_count": null,
   "id": "1afae08d-ef6b-44cd-9281-e1edb77b3fe6",
   "metadata": {},
   "outputs": [
    {
     "data": {
      "text/plain": [
       "(71476, 93)"
      ]
     },
     "execution_count": 69,
     "metadata": {},
     "output_type": "execute_result"
    }
   ],
   "source": [
    "df.shape"
   ]
  },
  {
   "cell_type": "code",
   "execution_count": 58,
   "id": "cefbd9a2-4e85-4e54-bbc1-abf8ea8d7bc9",
   "metadata": {},
   "outputs": [],
   "source": [
    "df=df.drop_duplicates(subset=['COD_TIPO_PRODUCTO']).dropna(subset='details').reset_index(drop=True)"
   ]
  },
  {
   "cell_type": "code",
   "execution_count": 71,
   "id": "17dd300f-049a-4d31-bd14-4dbf99294fc2",
   "metadata": {},
   "outputs": [
    {
     "data": {
      "text/plain": [
       "0     [{'event': [{'COD_RH': '0000483885', 'COD_EVEN...\n",
       "1     [{'event': [{'COD_RH': '0000101443', 'COD_EVEN...\n",
       "2     [{'keywords': [{'COD_RH': '0000118139', 'COD_P...\n",
       "3     [{'memory_chapter': [{'COD_RH': '0000296635', ...\n",
       "4     [{'technical': [{'COD_RH': '0000199761', 'COD_...\n",
       "5     [{'memory_chapter': [{'COD_RH': '0000087661', ...\n",
       "6     [{'application_sector': [{'COD_SECTOR_APLICACI...\n",
       "7     [{'book_chapter': [{'COD_RH': '0000902004', 'C...\n",
       "8     [{'technical': [{'COD_RH': '0000328294', 'COD_...\n",
       "9     [{'technical': [{'COD_RH': '0000056834', 'COD_...\n",
       "10    [{'technical': [{'COD_RH': '0000260193', 'COD_...\n",
       "11    [{'article': [{'COD_RH': '0000827851', 'COD_PR...\n",
       "12    [{'event': [{'COD_RH': '0000035889', 'COD_EVEN...\n",
       "13    [{'book': [{'COD_RH': '0000616028', 'COD_PRODU...\n",
       "14    [{'book': [{'COD_RH': '0000218073', 'COD_PRODU...\n",
       "15    [{'book': [{'COD_RH': '0000175226', 'COD_PRODU...\n",
       "16    [{'technical': [{'COD_RH': '0000156612', 'COD_...\n",
       "17    [{'event': [{'COD_RH': '0000150126', 'COD_EVEN...\n",
       "18    [{'technical': [{'COD_RH': '0001535954', 'COD_...\n",
       "19    [{'event': [{'COD_RH': '0001371599', 'COD_EVEN...\n",
       "20    [{'technical': [{'COD_RH': '0001199323', 'COD_...\n",
       "21    [{'event': [{'COD_RH': '0000204056', 'COD_EVEN...\n",
       "22    [{'technical': [{'COD_RH': '0000604550', 'COD_...\n",
       "23    [{'book': [{'COD_RH': '0000908240', 'COD_PRODU...\n",
       "24    [{'technical': [{'COD_RH': '0000408603', 'COD_...\n",
       "25    [{'application_sector': [{'COD_SECTOR_APLICACI...\n",
       "26    [{'journal': [{'COD_REVISTA': 5040, 'TXT_ISSN_...\n",
       "27    [{'technical': [{'COD_RH': '0001416138', 'COD_...\n",
       "28    [{'book': [{'COD_RH': '0001402855', 'COD_PRODU...\n",
       "29    [{'article': [{'COD_RH': '0000617725', 'COD_PR...\n",
       "30    [{'application_sector': [{'COD_SECTOR_APLICACI...\n",
       "31    [{'application_sector': [{'COD_SECTOR_APLICACI...\n",
       "32    [{'keywords': [{'COD_RH': '0000213578', 'COD_P...\n",
       "33    [{'article': [{'COD_RH': '0000196770', 'COD_PR...\n",
       "34    [{'technical': [{'COD_RH': '0000041688', 'COD_...\n",
       "35    [{'journal': [{'COD_REVISTA': 88459, 'TXT_ISSN...\n",
       "36    [{'book': [{'COD_RH': '0001281267', 'COD_PRODU...\n",
       "37    [{'technical': [{'COD_RH': '0000163040', 'COD_...\n",
       "38    [{'application_sector': [{'COD_SECTOR_APLICACI...\n",
       "39    [{'technical': [{'COD_RH': '0000893749', 'COD_...\n",
       "40    [{'technical': [{'COD_RH': '0001114050', 'COD_...\n",
       "41    [{'technical': [{'COD_RH': '0000373087', 'COD_...\n",
       "42    [{'technical': [{'COD_RH': '0000064670', 'COD_...\n",
       "43    [{'technical': [{'COD_RH': '0000142700', 'COD_...\n",
       "Name: details, dtype: object"
      ]
     },
     "execution_count": 71,
     "metadata": {},
     "output_type": "execute_result"
    }
   ],
   "source": [
    "df.details"
   ]
  },
  {
   "cell_type": "code",
   "execution_count": 26,
   "id": "263d4eca-4204-4c5e-95cd-4d997e795048",
   "metadata": {},
   "outputs": [
    {
     "data": {
      "text/plain": [
       "[{'COD_RH': '0001127420',\n",
       "  'COD_EVENTO': 14,\n",
       "  'TPO_EVENTO': 'EN',\n",
       "  'TXT_NME_EVENTO': 'XI Encuentro Regional Uceva de actores en seguridad Alimentaria, Cuidado de la Salud y del Ambiente',\n",
       "  'COD_RH_MUNICIPIO': '0000000000',\n",
       "  'COD_MUNICIPIO': '1252',\n",
       "  'NRO_ANO_REALIZACION': None,\n",
       "  'STA_ITINERANTE': 'F',\n",
       "  'STA_CATALOGO': 'F',\n",
       "  'NRO_DURACION': None,\n",
       "  'TXT_LUGAR': 'Uceva',\n",
       "  'TPO_CLASIFICACION': 'N',\n",
       "  'TPO_INSTITUCION': 'CV',\n",
       "  'COD_INST_FINANCIA': '1013',\n",
       "  'COD_INST': None,\n",
       "  'COD_INST_OTRO': None,\n",
       "  'DTA_CREACION': '2018-11-23 11:14:27',\n",
       "  'DTA_ACTUALIZACION': '2018-11-23 11:14:27',\n",
       "  'TPO_PARTICIPACION': None,\n",
       "  'TPO_LUGAR': None,\n",
       "  'NRO_PARTICIPANTES': None,\n",
       "  'TXT_RESUMEN_EVENTO': None,\n",
       "  'TXT_URL': None,\n",
       "  'TXT_CRONOGRAMA': None,\n",
       "  'TXT_ACTIVIDADES': None,\n",
       "  'CLASE_EVENTO': 'EI',\n",
       "  'DTA_INICIO': '2018-11-02 00:00:00',\n",
       "  'DTA_FIN': '2018-11-02 00:00:00',\n",
       "  'TXT_NME_EVENTO_FILTRO': None,\n",
       "  'TMP_EVE_PA': None,\n",
       "  'DTA_ACTUALIZACION_CVLAC': None,\n",
       "  'DTA_AVAL_INST': None,\n",
       "  'TPO_AVAL_INST': None,\n",
       "  'COD_INST_AVALA': None,\n",
       "  'ID_USUARIO_AVALA': None,\n",
       "  'CAT_MED': None,\n",
       "  'SGL_CATEGORIA': 'EC-EC_A',\n",
       "  'ID_INSTITUCION': 935}]"
      ]
     },
     "execution_count": 26,
     "metadata": {},
     "output_type": "execute_result"
    }
   ],
   "source": [
    "df.details.str[0].str['event'].dropna().iloc[0]"
   ]
  },
  {
   "cell_type": "code",
   "execution_count": 33,
   "id": "c22b634c-1408-46b5-9ce6-33c825ad77b9",
   "metadata": {},
   "outputs": [
    {
     "data": {
      "text/plain": [
       "[{'COD_RH': '0001135651',\n",
       "  'COD_PRODUCTO': '1',\n",
       "  'TXT_CONTRATO_REG': None,\n",
       "  'TXT_CERT_INSTITUCION': 'Universidad de Antioquia',\n",
       "  'TXT_NME_COMERCIAL': 'Escuela Digital - Las Funciones del Lenguaje',\n",
       "  'TXT_DISPONIBILIDAD': 'Restringido',\n",
       "  'TXT_FINALIDAD': 'Material audiovisual interactivo sobre las funciones del lenguaje',\n",
       "  'COD_RH_MUNICIPIO': '0000000000',\n",
       "  'COD_MUNICIPIO': None,\n",
       "  'TPO_INSTITUCION': 'IL',\n",
       "  'COD_INSTITUCION': '007300000887',\n",
       "  'COD_INST': '007300000887',\n",
       "  'COD_INST_OTRO': None,\n",
       "  'DTA_CREACION': '2010-05-18 10:29:18',\n",
       "  'DTA_ACTUALIZACION': '2013-10-26 16:15:29',\n",
       "  'TPO_TAM_EMP_GR': 'F',\n",
       "  'TPO_TAM_EMP_MP': 'F',\n",
       "  'DTA_ENVIO': None,\n",
       "  'ID_INSTITUCION_EMITE': None,\n",
       "  'ID_INSTITUCION': 883,\n",
       "  'ANO_OBTENCION': None,\n",
       "  'MES_OBTENCION': None,\n",
       "  'tech_product': [{'COD_RH': '0001135651',\n",
       "    'COD_PRODUCTO': '1',\n",
       "    'TXT_PLATAFORMA': None,\n",
       "    'TXT_AMBIENTE': None,\n",
       "    'TXT_TEMA': None,\n",
       "    'TXT_TECNICA': None,\n",
       "    'TXT_AREA_REPRESENTA': None,\n",
       "    'COD_EDITORIAL': None,\n",
       "    'COD_EDITORIAL_OTRO': None,\n",
       "    'TXT_MAT_EMPLEADO': None,\n",
       "    'TXT_EMISORA': None,\n",
       "    'DTA_PRESENTACION': None,\n",
       "    'NRO_DURACION': None,\n",
       "    'NRO_PAGINAS': None,\n",
       "    'TXT_CONTRATO': None,\n",
       "    'NRO_VLR_CONTRATO': None,\n",
       "    'DTA_CREACION': '2010-05-18 10:29:18',\n",
       "    'DTA_ACTUALIZACION': '2010-05-18 10:29:18',\n",
       "    'NRO_ANO_FIN': None,\n",
       "    'NRO_MES_FIN': None,\n",
       "    'TPO_AMBITO': None}]}]"
      ]
     },
     "execution_count": 33,
     "metadata": {},
     "output_type": "execute_result"
    }
   ],
   "source": [
    "df.details.str[0].str['technical'].dropna().iloc[5]"
   ]
  },
  {
   "cell_type": "code",
   "execution_count": 34,
   "id": "0a112aee-5175-4963-af1c-61bd9e4cb786",
   "metadata": {},
   "outputs": [
    {
     "data": {
      "text/plain": [
       "[{'COD_RH': '0001127217',\n",
       "  'COD_PRODUCTO': '224',\n",
       "  'COD_REVISTA': 4583,\n",
       "  'COD_REVISTA_OTRO': None,\n",
       "  'COD_RH_MUNICIPIO': '0000000000',\n",
       "  'COD_MUNICIPIO': '249',\n",
       "  'TXT_VOLUMEN_REVISTA': '30',\n",
       "  'TXT_FASCICULO_REVISTA': None,\n",
       "  'TXT_SERIE_REVISTA': None,\n",
       "  'TXT_PAGINA_INICIAL': '110',\n",
       "  'TXT_PAGINA_FINAL': '114',\n",
       "  'DTA_PUBLICACION': None,\n",
       "  'DTA_CREACION': '2021-05-07 11:19:01',\n",
       "  'DTA_ACTUALIZACION': '2021-05-07 11:19:01',\n",
       "  'TXT_URL_CAT_EDITORIAL': None,\n",
       "  'TXT_URL_POL_EDITORIAL': None,\n",
       "  'MED_REVISION': None,\n",
       "  'journal': [{'COD_REVISTA': 4583,\n",
       "    'TXT_ISSN_SEP': '0123-3386',\n",
       "    'TXT_ISSN': '01233386',\n",
       "    'COD_REVISTA_REF': None,\n",
       "    'TXT_ISSN_REF_SEP': None,\n",
       "    'TXT_ISSN_REF': None,\n",
       "    'TXT_NME_REVISTA': 'Agoras. Anuario De La Asociación De Profesores De La Universidad De Antioquia',\n",
       "    'TXT_NME_REVISTA_FILTRO': 'AGORAS ANUARIO DE LA ASOCIACION DE PROFESORES DE LA UNIVERSIDAD DE ANTIOQUIA',\n",
       "    'SGL_PAIS': 'COL',\n",
       "    'TPO_REVISTA': 'P',\n",
       "    'CLASE': None,\n",
       "    'TPO_CLASIFICACION': None,\n",
       "    'COD_EDITORIAL': 10183,\n",
       "    'TXT_FRECUENCIA': None,\n",
       "    'TXT_REFERENCIADA': None,\n",
       "    'TXT_LUGAR_PUBLICACION': None,\n",
       "    'TXT_MEDIO_DIVULGACION': None,\n",
       "    'TXT_URL': None,\n",
       "    'STA_VERIFICADA': 'T',\n",
       "    'TPO_FUENTE': None,\n",
       "    'editorial': [{'COD_EDITORIAL': 10183,\n",
       "      'TXT_NME_EDITORIAL': 'Universidad De Antioquia',\n",
       "      'TXT_NME_EDITORIAL_FILTRO': 'UNIVERSIDAD DE ANTIOQUIA',\n",
       "      'COD_RH_MUNICIPIO': '0000000000',\n",
       "      'COD_MUNICIPIO': None,\n",
       "      'TXT_PAGINA_WEB': None,\n",
       "      'TXT_CONTACTO': None,\n",
       "      'COD_INSTITUCION': None,\n",
       "      'TPO_INSTITUCION': 'IL',\n",
       "      'TXT_REFERENCIA': 'O',\n",
       "      'COD_EDITORIAL_COLC': 343,\n",
       "      'ID_INSTITUCION': None}]}]}]"
      ]
     },
     "execution_count": 34,
     "metadata": {},
     "output_type": "execute_result"
    }
   ],
   "source": [
    "df.details.str[0].str['article'].dropna().iloc[0]"
   ]
  },
  {
   "cell_type": "code",
   "execution_count": 36,
   "id": "12ea5e65-5588-4d05-848e-8e26352bae2e",
   "metadata": {},
   "outputs": [
    {
     "data": {
      "text/plain": [
       "[{'COD_RH': '0001201662',\n",
       "  'COD_PRODUCTO': '114',\n",
       "  'TXT_EMISORA': 'Emisora Cultura Universidad de Antioquia',\n",
       "  'DTA_EMISION': '2020-05-25 00:00:00',\n",
       "  'NRO_DURACION': 5,\n",
       "  'COD_RH_MUNICIPIO': '0000000000',\n",
       "  'COD_MUNICIPIO': '249',\n",
       "  'TXT_FINALIDAD': 'N',\n",
       "  'DTA_CREACION': '2020-07-12 02:15:40',\n",
       "  'DTA_ACTUALIZACION': '2020-07-12 02:15:40',\n",
       "  'city': [{'COD_RH_MUNICIPIO': '0000000000',\n",
       "    'COD_MUNICIPIO': '249',\n",
       "    'ID_MUNICIPIO': 385,\n",
       "    'SGL_DEPARTAMENTO': 'AN',\n",
       "    'SGL_PAIS': 'COL',\n",
       "    'COD_MUNI_INTERNACIONAL': None,\n",
       "    'COD_MUNI_DANE': '05001',\n",
       "    'TXT_NME_MUNICIPIO': 'MEDELLÍN',\n",
       "    'TXT_NME_MUNICIPIO_FILTRO': 'MEDELLIN',\n",
       "    'ID_PERSONA': None,\n",
       "    'DTA_CREACION': '2008-05-07 12:29:11',\n",
       "    'DTA_ACTUALIZACION': '2022-04-19 11:04:53',\n",
       "    'ID_PAIS': 1,\n",
       "    'ID_DEPARTAMENTO': 31,\n",
       "    'ID': None,\n",
       "    'department': [{'SGL_PAIS': 'COL',\n",
       "      'SGL_DEPARTAMENTO': 'AN',\n",
       "      'ID_DEPARTAMENTO': 31,\n",
       "      'SGL_REGION': 'NW',\n",
       "      'COD_DEPA_DANE': '05',\n",
       "      'TXT_NME_DEPARTAMENTO': 'ANTIOQUIA',\n",
       "      'TXT_NME_DEPARTAMENTO_FILTRO': 'ANTIOQUIA',\n",
       "      'ID_ENTIDAD_COORDINADORA': None,\n",
       "      'DTA_CREACION': '2008-10-24 11:45:35',\n",
       "      'DTA_ACTUALIZACION': '2022-04-19 10:07:15',\n",
       "      'ID_PAIS': 1,\n",
       "      'ID': 31,\n",
       "      'country': [{'SGL_PAIS': 'COL',\n",
       "        'TXT_NME_PAIS': 'Colombia',\n",
       "        'TXT_NME_PAIS_FILTRO': 'COLOMBIA',\n",
       "        'SGL_IDIOMA': 'EN',\n",
       "        'SGL_PAIS_ISO_2': 'CO',\n",
       "        'COD_PAIS_SIGP': 19,\n",
       "        'SGL_CONTINENTE_4': 'AME',\n",
       "        'SGL_CONTINENTE': 'AME',\n",
       "        'SGL_CONTINENTE_6': 'AME',\n",
       "        'SGL_CONTINENTE_7': 'SAM',\n",
       "        'SGL_CONTINENTE_8': 'SAM',\n",
       "        'DTA_CREACION': '2015-06-05 14:54:15',\n",
       "        'DTA_ACTUALIZACION': '2015-06-05 14:54:20',\n",
       "        'TXT_NME_PAIS_ING': 'Colombia',\n",
       "        'TXT_NME_PAIS_ING_FILTRO': 'COLOMBIA',\n",
       "        'TXT_NME_PAIS_ING_2': None,\n",
       "        'TXT_NME_PAIS_ING_2_FILTRO': None,\n",
       "        'TXT_NME_PAIS_ING_3': None,\n",
       "        'TXT_NME_PAIS_ING_3_FILTRO': None,\n",
       "        'ID': 1}]}]}]}]"
      ]
     },
     "execution_count": 36,
     "metadata": {},
     "output_type": "execute_result"
    }
   ],
   "source": [
    "df.details.str[0].str['audiovisual'].dropna().iloc[1]"
   ]
  },
  {
   "cell_type": "code",
   "execution_count": 74,
   "id": "ed0e7f91-ea6a-4fc4-8a4d-46216088f897",
   "metadata": {},
   "outputs": [
    {
     "data": {
      "text/plain": [
       "[{'COD_RH': '0000087661',\n",
       "  'COD_PRODUCTO': '30368',\n",
       "  'TXT_VOLUMEN': None,\n",
       "  'TXT_FASCICULO': None,\n",
       "  'TXT_SERIE': None,\n",
       "  'TXT_PAGINA_INICIAL': None,\n",
       "  'TXT_PAGINA_FINAL': None,\n",
       "  'COD_LIBRO_REF': None,\n",
       "  'COD_LIBRO_OTRO': None,\n",
       "  'TXT_NME_PONENCIA': 'ASOCIACIÓN DE VARIANTES ALÉLICAS EN GENES RELACIONADOS CON LAACTIVIDAD FUNCIONAL DE LA VITAMINA D CON LA RESISTENCIA NATURAL A LA INFECCIÓN POR EL VIH-1',\n",
       "  'TXT_NME_EVENTO': 'II simposio de inmunomodulación y III encuentro nacional de investigadores en inmunología',\n",
       "  'TPO_EVENTO': 'N',\n",
       "  'NRO_ANO_EVENTO': 2012,\n",
       "  'TXT_LUGAR': None,\n",
       "  'COD_RH_MUNICIPIO': '0000000000',\n",
       "  'COD_MUNICIPIO': '249',\n",
       "  'TXT_NME_INSTITUCION': None,\n",
       "  'DTA_CREACION': '2012-10-18 13:07:48',\n",
       "  'DTA_ACTUALIZACION': '2012-10-18 13:14:22',\n",
       "  'TXT_NME_EVENTO_FILTRO': 'II SIMPOSIO DE INMUNOMODULACION Y III ENCUENTRO NACIONAL DE INVESTIGADORES EN INMUNOLOGIA',\n",
       "  'COD_REVISTA': None,\n",
       "  'COD_REVISTA_OTRO': None,\n",
       "  'city': [{'COD_RH_MUNICIPIO': '0000000000',\n",
       "    'COD_MUNICIPIO': '249',\n",
       "    'ID_MUNICIPIO': 385,\n",
       "    'SGL_DEPARTAMENTO': 'AN',\n",
       "    'SGL_PAIS': 'COL',\n",
       "    'COD_MUNI_INTERNACIONAL': None,\n",
       "    'COD_MUNI_DANE': '05001',\n",
       "    'TXT_NME_MUNICIPIO': 'MEDELLÍN',\n",
       "    'TXT_NME_MUNICIPIO_FILTRO': 'MEDELLIN',\n",
       "    'ID_PERSONA': None,\n",
       "    'DTA_CREACION': '2008-05-07 12:29:11',\n",
       "    'DTA_ACTUALIZACION': '2022-04-19 11:04:53',\n",
       "    'ID_PAIS': 1,\n",
       "    'ID_DEPARTAMENTO': 31,\n",
       "    'ID': None,\n",
       "    'department': [{'SGL_PAIS': 'COL',\n",
       "      'SGL_DEPARTAMENTO': 'AN',\n",
       "      'ID_DEPARTAMENTO': 31,\n",
       "      'SGL_REGION': 'NW',\n",
       "      'COD_DEPA_DANE': '05',\n",
       "      'TXT_NME_DEPARTAMENTO': 'ANTIOQUIA',\n",
       "      'TXT_NME_DEPARTAMENTO_FILTRO': 'ANTIOQUIA',\n",
       "      'ID_ENTIDAD_COORDINADORA': None,\n",
       "      'DTA_CREACION': '2008-10-24 11:45:35',\n",
       "      'DTA_ACTUALIZACION': '2022-04-19 10:07:15',\n",
       "      'ID_PAIS': 1,\n",
       "      'ID': 31,\n",
       "      'country': [{'SGL_PAIS': 'COL',\n",
       "        'TXT_NME_PAIS': 'Colombia',\n",
       "        'TXT_NME_PAIS_FILTRO': 'COLOMBIA',\n",
       "        'SGL_IDIOMA': 'EN',\n",
       "        'SGL_PAIS_ISO_2': 'CO',\n",
       "        'COD_PAIS_SIGP': 19,\n",
       "        'SGL_CONTINENTE_4': 'AME',\n",
       "        'SGL_CONTINENTE': 'AME',\n",
       "        'SGL_CONTINENTE_6': 'AME',\n",
       "        'SGL_CONTINENTE_7': 'SAM',\n",
       "        'SGL_CONTINENTE_8': 'SAM',\n",
       "        'DTA_CREACION': '2015-06-05 14:54:15',\n",
       "        'DTA_ACTUALIZACION': '2015-06-05 14:54:20',\n",
       "        'TXT_NME_PAIS_ING': 'Colombia',\n",
       "        'TXT_NME_PAIS_ING_FILTRO': 'COLOMBIA',\n",
       "        'TXT_NME_PAIS_ING_2': None,\n",
       "        'TXT_NME_PAIS_ING_2_FILTRO': None,\n",
       "        'TXT_NME_PAIS_ING_3': None,\n",
       "        'TXT_NME_PAIS_ING_3_FILTRO': None,\n",
       "        'ID': 1}]}]}]}]"
      ]
     },
     "execution_count": 74,
     "metadata": {},
     "output_type": "execute_result"
    }
   ],
   "source": [
    "df.details.str[0].str['memory_chapter'].dropna().iloc[1]#,'book_chapter','book'"
   ]
  },
  {
   "cell_type": "code",
   "execution_count": 76,
   "id": "381bcd31-c58a-4003-a795-6011c10a9ce2",
   "metadata": {},
   "outputs": [
    {
     "data": {
      "text/plain": [
       "[{'COD_RH': '0000902004',\n",
       "  'COD_PRODUCTO': '18',\n",
       "  'NRO_PAGINAS': 449,\n",
       "  'TXT_VOLUMEN': None,\n",
       "  'TXT_SERIE': '1',\n",
       "  'TXT_EDICION': '1',\n",
       "  'TXT_PAGINA_INICIAL': '199',\n",
       "  'TXT_PAGINA_FINAL': '215',\n",
       "  'COD_LIBRO_REF': None,\n",
       "  'COD_LIBRO_OTRO': '6',\n",
       "  'TXT_ORGANIZADORES': 'Luis Fernando Garcés Giraldo',\n",
       "  'DTA_CREACION': '2011-08-19 12:00:46',\n",
       "  'DTA_ACTUALIZACION': '2014-09-08 15:23:51',\n",
       "  'TXT_URL_CAT_EDITORIAL': None,\n",
       "  'TXT_URL_POL_EDITORIAL': None,\n",
       "  'book_other': [{'COD_RH': '0000902004',\n",
       "    'COD_PRODUCTO': '6',\n",
       "    'TXT_NME_LIBRO': 'Serie Libro Lasallista Investigación Y Ciencia',\n",
       "    'TXT_NME_LIBRO_FILTRO': 'SERIE LIBRO LASALLISTA INVESTIGACION Y CIENCIA',\n",
       "    'TXT_ISBN': '978-958-8406-12-1',\n",
       "    'TXT_ISBN_F': '9789588406121',\n",
       "    'NRO_VOLUMENES_LIBRO': 200,\n",
       "    'TXT_NRO_PAGINAS': '449',\n",
       "    'TXT_EDICION': '1',\n",
       "    'TXT_SERIE_LIBRO': 'Lasallista Investigación Y Ciencia',\n",
       "    'SGL_IDIOMA': 'ES',\n",
       "    'TXT_AUTORES': 'Luis Fernando Garcés Giraldo',\n",
       "    'COD_EDITORIAL': 12539,\n",
       "    'COD_EDITORIAL_OTRO': None,\n",
       "    'COD_TIPO_PRODUCTO': '134',\n",
       "    'NRO_CAPITULO_LIBRO': 0,\n",
       "    'NRO_BIBLIO': 0,\n",
       "    'NRO_CAP_MEMORIA': 0,\n",
       "    'NRO_LIBRO_IDIOMA': 0,\n",
       "    'NRO_LIBRO_LIBRO': 0,\n",
       "    'NRO_ES_VALIDO': 1,\n",
       "    'DTA_CREACION': '2014-09-08 13:43:37',\n",
       "    'DTA_ACTUALIZACION': '2017-05-27 20:12:24',\n",
       "    'COD_LIBRO_REF': '99114',\n",
       "    'COD_REVISTA': None,\n",
       "    'COD_TIPO_PRODUCTO_ANT': None,\n",
       "    'editorial': [{'COD_EDITORIAL': 12539,\n",
       "      'TXT_NME_EDITORIAL': 'Delasalle',\n",
       "      'TXT_NME_EDITORIAL_FILTRO': 'DELASALLE',\n",
       "      'COD_RH_MUNICIPIO': '0000000000',\n",
       "      'COD_MUNICIPIO': None,\n",
       "      'TXT_PAGINA_WEB': None,\n",
       "      'TXT_CONTACTO': None,\n",
       "      'COD_INSTITUCION': None,\n",
       "      'TPO_INSTITUCION': 'IL',\n",
       "      'TXT_REFERENCIA': 'O',\n",
       "      'COD_EDITORIAL_COLC': None,\n",
       "      'ID_INSTITUCION': None}],\n",
       "    'product_type': [{'COD_TIPO_PRODUCTO': '134',\n",
       "      'TXT_NME_TIPO_PRODUCTO': 'Libro resultado de investigación',\n",
       "      'NRO_NIVEL': 2,\n",
       "      'COD_TIPO_PRODUCTO_PADRE': '13',\n",
       "      'STA_ACTIVO': 'T',\n",
       "      'TPO_CLASE': 'NC',\n",
       "      'product_type': [{'COD_TIPO_PRODUCTO': '13',\n",
       "        'TXT_NME_TIPO_PRODUCTO': 'Libro',\n",
       "        'NRO_NIVEL': 1,\n",
       "        'COD_TIPO_PRODUCTO_PADRE': '1',\n",
       "        'STA_ACTIVO': 'T',\n",
       "        'TPO_CLASE': None,\n",
       "        'product_type': [{'COD_TIPO_PRODUCTO': '1',\n",
       "          'TXT_NME_TIPO_PRODUCTO': 'Producción bibliográfica',\n",
       "          'NRO_NIVEL': 0,\n",
       "          'COD_TIPO_PRODUCTO_PADRE': None,\n",
       "          'STA_ACTIVO': 'T',\n",
       "          'TPO_CLASE': None}]}]}]}]}]"
      ]
     },
     "execution_count": 76,
     "metadata": {},
     "output_type": "execute_result"
    }
   ],
   "source": [
    "df.details.str[0].str['book_chapter'].dropna().iloc[0]#,,'book'"
   ]
  },
  {
   "cell_type": "code",
   "execution_count": 81,
   "id": "bc7452f5-3414-4ad8-a374-285514c37cb9",
   "metadata": {},
   "outputs": [
    {
     "data": {
      "text/plain": [
       "[{'COD_RH': '0000175226',\n",
       "  'COD_PRODUCTO': '74',\n",
       "  'TXT_NME_LIBRO': 'Origen y evolución de la vida',\n",
       "  'TXT_NME_LIBRO_FILTRO': 'ORIGEN Y EVOLUCION DE LA VIDA',\n",
       "  'TXT_ISBN': '978-958-5518-08-7',\n",
       "  'TXT_ISBN_F': '9789585518087',\n",
       "  'NRO_VOLUMENES_LIBRO': None,\n",
       "  'TXT_NRO_PAGINAS': None,\n",
       "  'TXT_EDICION': None,\n",
       "  'TXT_SERIE_LIBRO': None,\n",
       "  'TXT_REF_LIBRO': None,\n",
       "  'SGL_IDIOMA': None,\n",
       "  'COD_EDITORIAL': None,\n",
       "  'COD_EDITORIAL_OTRO': 8,\n",
       "  'NRO_ES_VALIDO': 1,\n",
       "  'DTA_CREACION': '2019-01-21 15:03:24',\n",
       "  'DTA_ACTUALIZACION': '2019-01-21 15:03:24',\n",
       "  'TXT_URL_CAT_EDITORIAL': None,\n",
       "  'TXT_URL_POL_EDITORIAL': None,\n",
       "  'TPO_PUBLICACION': None,\n",
       "  'COD_CENTRO_INV': None,\n",
       "  'TXT_ISSN': None,\n",
       "  'TPO_LIBRO': None,\n",
       "  'editorial_others': [{'COD_RH': '0000175226',\n",
       "    'COD_EDITORIAL': 8,\n",
       "    'TXT_NME_EDITORIAL': 'Fondo Editorial Universidad Católica de Oriente',\n",
       "    'TXT_NME_EDITORIAL_FILTRO': 'FONDO EDITORIAL UNIVERSIDAD CATOLICA DE ORIENTE',\n",
       "    'COD_RH_MUNICIPIO': '0000000000',\n",
       "    'COD_MUNICIPIO': '333',\n",
       "    'TXT_PAGINA_WEB': 'http://www.uco.edu.co',\n",
       "    'TXT_CONTACTO': None,\n",
       "    'TPO_INSTITUCION': None,\n",
       "    'COD_INSTITUCION': None,\n",
       "    'COD_INST': None,\n",
       "    'COD_INST_OTRO': None,\n",
       "    'DTA_CREACION': '2019-01-21 15:03:09',\n",
       "    'DTA_ACTUALIZACION': '2019-01-21 15:03:09',\n",
       "    'TPO_EDITORIAL': 'N',\n",
       "    'ID_INSTITUCION': None}]}]"
      ]
     },
     "execution_count": 81,
     "metadata": {},
     "output_type": "execute_result"
    }
   ],
   "source": [
    "df.details.str[0].str['book'].dropna().iloc[2]#,,"
   ]
  },
  {
   "cell_type": "code",
   "execution_count": null,
   "id": "ecfacffc-8b08-4617-af44-2275f3b3f870",
   "metadata": {},
   "outputs": [
    {
     "data": {
      "application/json": {
       "CAT_MED": "GC_I-00",
       "COD_DOS_MDCN": null,
       "COD_INST_AVALA": null,
       "COD_PRODUCTO": "103",
       "COD_PRODUCTO_BNR": null,
       "COD_RH": "0001127217",
       "COD_SUBTIPO_PRODUCTO": null,
       "COD_TIPO_PRODUCTO": "2P3",
       "COD_TIPO_PRODUCTO_ANT": null,
       "COD_TIPO_PRODUCTO_MDCN": null,
       "COD_TRES_MDCN": null,
       "COD_UNO_MDCN": null,
       "DTA_ACTUALIZACION": "2017-09-25 16:18:27",
       "DTA_ACTUALIZACION_CVLAC": null,
       "DTA_AVAL_INST": null,
       "DTA_CREACION": "2012-10-31 00:00:00",
       "DTA_EXPOSICION": null,
       "DTA_VERIF_AUTO": null,
       "DTA_VERIF_USUA": null,
       "DTA_VINCULACION": "2012-10-31 18:30:36",
       "ID_USUARIO_AVAL": null,
       "NRO_ANO_PRESENTA": 1994,
       "NRO_ARTISTICAS_DET": 0,
       "NRO_AUTORES_GR": null,
       "NRO_AUTORES_TOTAL": null,
       "NRO_GRUPOS": null,
       "NRO_ID_GRUPO": "00000000007138",
       "NRO_IND_CALIDAD_MDCN": null,
       "NRO_IND_EXISTENCIA_MDCN": 0,
       "NRO_IND_VISIBILIDAD_MDCN": null,
       "NRO_MES_PRESENTA": 1,
       "NRO_PATENTES": 0,
       "NRO_PESO": null,
       "NRO_REGISTROS": 0,
       "NRO_SECRETOS": 0,
       "SEQ_PRODUCTO": 228,
       "SGL_CATEGORIA": null,
       "SGL_IDIOMA": "ES",
       "SGL_PAIS": "COL",
       "STA_CERTIFICADO": null,
       "STA_EVENTO": null,
       "STA_HUERFANO": "F",
       "STA_MEDIDO": null,
       "STA_RELEVANCIA": null,
       "STA_REPETIDO": null,
       "STA_VENTANA": 0,
       "STA_VENTANA_2": null,
       "STA_VENTANA_3": null,
       "STA_VERIFICACION_AUTO": null,
       "STA_VERIFICACION_USUA": null,
       "TIPO_PRODUCTO": "Manual",
       "TIPO_PRODUCTO_MDCN": null,
       "TIPO_PRODUCTO_MDCN_2": null,
       "TPO_AMPERSAN_MDCN": null,
       "TPO_AVAL_INST": "T",
       "TPO_MEDIO_DIVULGACION": "I",
       "TXT_COMPLEMENTARIO": "Revista sin ISBN",
       "TXT_DOI": null,
       "TXT_FICHA_RESUMEN": null,
       "TXT_IND_CALIDAD_MDCN": null,
       "TXT_IND_CALIDAD_MDCN_2": "0",
       "TXT_INST_PART": null,
       "TXT_NME_PROD": "Revista ¿Salón La Escenografía en Antioquia¿",
       "TXT_NME_PROD_FILTRO": "REVISTA SALON LA ESCENOGRAFIA EN ANTIOQUIA",
       "TXT_NME_TITULAR": null,
       "TXT_OBSERV_PROD": null,
       "TXT_RESUMEN_PROD": null,
       "TXT_WEB_PRODUCTO": null,
       "author": [
        {
         "AUTOR_ID_SCP": "43050380",
         "COD_ACTIVACION": null,
         "COD_CERTIFICACION": "0001127217201105082231",
         "COD_MUN_EXPED_DOC": "249",
         "COD_MUN_NACIM": "397",
         "COD_NIVEL_FORMACION": null,
         "COD_ORCID": "0000-0001-7789-2930",
         "COD_RELIGION": null,
         "COD_RH": "0001127217",
         "COD_RH_MUN_EXPED_DOC": "0000000000",
         "COD_RH_MUN_NACIM": "0000000000",
         "COD_RH_RELIGION": "0000000000",
         "COD_TRAY_PROF_ACT": null,
         "DTA_ACTUALIZACION": "2022-06-21 21:43:34",
         "DTA_CERTIFICADO": "2011-05-08 00:00:00",
         "DTA_CREACION": "2008-01-28 16:55:09",
         "DTA_DEFUNC": null,
         "DTA_FIN_VIGENCIA_VISA": null,
         "DTA_INI_VIGENCIA_VISA": null,
         "DTA_NACIM": "1962-10-01 00:00:00",
         "DTA_VISIBLE": null,
         "NRO_BLOQUEOS": 0,
         "NRO_CEDULA_EXTRANJ": null,
         "NRO_DOCUMENTO_FILTRO": "43050380",
         "NRO_DOCUMENTO_IDENT": "43050380",
         "NRO_ID_CNPQ": "3077877249503882",
         "NRO_INTENTOS": null,
         "NRO_LIBRETA_MILITAR": null,
         "NRO_PASAPORTE": "AO613790",
         "NRO_VISA": null,
         "SGL_PAIS_NACIM": "COL",
         "STA_ACTIVO": "A",
         "STA_CERTIFICADO": "T",
         "STA_VISIBLE": "T",
         "TPO_DIRECCION_USUAL": "I",
         "TPO_DOCUMENTO_IDENT": "C",
         "TPO_DOC_ACTUALIZACION": "CCO",
         "TPO_ESTADO_CIVIL": "C",
         "TPO_LIBRETA_MILITAR": null,
         "TPO_NACIONALIDAD": "C",
         "TPO_PERFIL": "IJ",
         "TPO_SEXO": "F",
         "TPO_VER_DOC_ACTUALIZACION": "2.0.0",
         "TPO_VISA": null,
         "TXT_AFICION": null,
         "TXT_CITACION_BIBLIO": "CHAVERRA BRAND ANGELA MARIA",
         "TXT_CITACION_BIBLIO_FILTRO": "CHAVERRA BRAND ANGELA MARIA",
         "TXT_COMENT_SUGEREN": null,
         "TXT_CONF_DATOS": "T",
         "TXT_CONGREGA_PERTENECE": null,
         "TXT_CONGREGA_PERTENECIO": null,
         "TXT_DESC_PERFIL": "El Colectivo Artístico El Cuerpo Habla, ha logrado un reconocimiento Nacional e Iternacional que incluye premios, participación en festivales y encuentros académicos, desde una práctica artística y también pedagógica, además de una reflexión social, una actitud ética frente al arte y a la vida y un posicionamiento como un colectivo calificado y comprometido con la investigación del arte y su relación con la vida.\r\nHemos diseñado una propuesta particular en la práctica artística, porque es uno de los pocos colectivos que hacen performance en el país. Además hemos creado un diseño metodológico que permite una propuesta pedagógica, divergente, ética, política.",
         "TXT_NAMES_RH": "Angela Maria",
         "TXT_NAMES_RH_FILTRO": "ANGELA MARIA",
         "TXT_PREGUNTA": "Cuál es el nombre de mi esposo",
         "TXT_PRIM_APELL": "Chaverra",
         "TXT_PRIM_APELL_FILTRO": "CHAVERRA",
         "TXT_RESPUESTA": "LZH949",
         "TXT_SEG_APELL": "Brand",
         "TXT_SEG_APELL_FILTRO": "BRAND",
         "TXT_TOTAL_NAMES": "Angela Maria Chaverra Brand",
         "TXT_TOTAL_NAMES_FILTRO": "ANGELA MARIA CHAVERRA BRAND",
         "city": [
          {
           "COD_MUNICIPIO": "397",
           "COD_MUNI_DANE": "11001",
           "COD_MUNI_INTERNACIONAL": null,
           "COD_RH_MUNICIPIO": "0000000000",
           "DTA_ACTUALIZACION": "2022-04-19 11:05:21",
           "DTA_CREACION": "2008-05-07 12:29:11",
           "ID": null,
           "ID_DEPARTAMENTO": 44,
           "ID_MUNICIPIO": 533,
           "ID_PAIS": 1,
           "ID_PERSONA": null,
           "SGL_DEPARTAMENTO": "DC",
           "SGL_PAIS": "COL",
           "TXT_NME_MUNICIPIO": "BOGOTÁ, D.C.",
           "TXT_NME_MUNICIPIO_FILTRO": "BOGOTA D C",
           "department": [
            {
             "COD_DEPA_DANE": "11",
             "DTA_ACTUALIZACION": "2022-04-19 10:07:15",
             "DTA_CREACION": "2008-10-24 11:45:35",
             "ID": 44,
             "ID_DEPARTAMENTO": 44,
             "ID_ENTIDAD_COORDINADORA": null,
             "ID_PAIS": 1,
             "SGL_DEPARTAMENTO": "DC",
             "SGL_PAIS": "COL",
             "SGL_REGION": "DC",
             "TXT_NME_DEPARTAMENTO": "BOGOTÁ, D. C.",
             "TXT_NME_DEPARTAMENTO_FILTRO": "BOGOTA D C",
             "country": [
              {
               "COD_PAIS_SIGP": 19,
               "DTA_ACTUALIZACION": "2015-06-05 14:54:20",
               "DTA_CREACION": "2015-06-05 14:54:15",
               "ID": 1,
               "SGL_CONTINENTE": "AME",
               "SGL_CONTINENTE_4": "AME",
               "SGL_CONTINENTE_6": "AME",
               "SGL_CONTINENTE_7": "SAM",
               "SGL_CONTINENTE_8": "SAM",
               "SGL_IDIOMA": "EN",
               "SGL_PAIS": "COL",
               "SGL_PAIS_ISO_2": "CO",
               "TXT_NME_PAIS": "Colombia",
               "TXT_NME_PAIS_FILTRO": "COLOMBIA",
               "TXT_NME_PAIS_ING": "Colombia",
               "TXT_NME_PAIS_ING_2": null,
               "TXT_NME_PAIS_ING_2_FILTRO": null,
               "TXT_NME_PAIS_ING_3": null,
               "TXT_NME_PAIS_ING_3_FILTRO": null,
               "TXT_NME_PAIS_ING_FILTRO": "COLOMBIA"
              }
             ]
            }
           ]
          }
         ]
        }
       ],
       "author_others": [
        {
         "AUTOR_ID_SCP": "43050380",
         "COD_ORCID": "0000-0001-7789-2930",
         "COD_RH_CREA": "0001127217",
         "COD_RH_OTRO": "0",
         "COD_RH_REF": "0001127217",
         "DTA_ACTUALIZACION": "2019-01-31 08:50:41",
         "DTA_CREACION": "2008-01-28 16:55:09",
         "DTA_NACIMIENTO": "1962-10-01 00:00:00",
         "NRO_DOC_FILTRO": "43050380",
         "NRO_DOC_IDENTIFICACION": "43050380",
         "NRO_ID_CNPQ": "3077877249503882",
         "SGL_PAIS": "COL",
         "TPO_DOC_IDENTIFICACION": "C",
         "TPO_NACIONALIDAD": "C",
         "TXT_NME_RH": "Ángela María",
         "TXT_NME_RH_FILTRO": "ANGELA MARIA",
         "TXT_PRIM_APELL": "Chaverra",
         "TXT_PRIM_APELL_FILTRO": "CHAVERRA",
         "TXT_SEG_APELL": "Brand",
         "TXT_SEG_APELL_FILTRO": "BRAND",
         "TXT_TOTAL_NAMES": "Ángela María Chaverra Brand",
         "TXT_TOTAL_NAMES_FILTRO": "ANGELA MARIA CHAVERRA BRAND"
        }
       ],
       "details": [
        {
         "technical": [
          {
           "ANO_OBTENCION": null,
           "COD_INST": "408600000886",
           "COD_INSTITUCION": "408600000886",
           "COD_INST_OTRO": null,
           "COD_MUNICIPIO": "249",
           "COD_PRODUCTO": "103",
           "COD_RH": "0001127217",
           "COD_RH_MUNICIPIO": "0000000000",
           "DTA_ACTUALIZACION": "2013-10-26 16:16:10",
           "DTA_CREACION": "2012-07-22 10:38:26",
           "DTA_ENVIO": null,
           "ID_INSTITUCION": 14315,
           "ID_INSTITUCION_EMITE": null,
           "MES_OBTENCION": null,
           "TPO_INSTITUCION": "IL",
           "TPO_TAM_EMP_GR": "F",
           "TPO_TAM_EMP_MP": "F",
           "TXT_CERT_INSTITUCION": "Secretaría de Educación y Cultura ",
           "TXT_CONTRATO_REG": null,
           "TXT_DISPONIBILIDAD": "No restringido",
           "TXT_FINALIDAD": "Difusión de resultados",
           "TXT_NME_COMERCIAL": null,
           "tech_product": [
            {
             "COD_EDITORIAL": null,
             "COD_EDITORIAL_OTRO": null,
             "COD_PRODUCTO": "103",
             "COD_RH": "0001127217",
             "DTA_ACTUALIZACION": "2012-07-22 10:38:26",
             "DTA_CREACION": "2012-07-22 10:38:26",
             "DTA_PRESENTACION": null,
             "NRO_ANO_FIN": null,
             "NRO_DURACION": null,
             "NRO_MES_FIN": null,
             "NRO_PAGINAS": null,
             "NRO_VLR_CONTRATO": null,
             "TPO_AMBITO": null,
             "TXT_AMBIENTE": null,
             "TXT_AREA_REPRESENTA": null,
             "TXT_CONTRATO": null,
             "TXT_EMISORA": null,
             "TXT_MAT_EMPLEADO": null,
             "TXT_PLATAFORMA": null,
             "TXT_TECNICA": null,
             "TXT_TEMA": null
            }
           ]
          }
         ]
        }
       ],
       "group": [
        {
         "ANO_FORMACAO": 2007,
         "COD_ACTIVACION": null,
         "COD_AREA_CONHEC": "6D01",
         "COD_AREA_CONHEC_BK": "6D",
         "COD_CERTIFICACION": "COL0078615201811071749",
         "COD_GRAN_AREA_CONHEC_MED": null,
         "COD_ID_GRUPO": "COL0078615",
         "COD_PROGRAMA": 7,
         "COD_PROGRAMA_SECUND": 0,
         "COD_RH_AREA": "0000000000",
         "COD_SESION": null,
         "DTA_ACTUALIZACION": "2022-05-24 19:50:29",
         "DTA_CERTIFICADO": "2018-11-07 00:00:00",
         "DTA_CLASIF": "2022-05-24 00:00:00",
         "DTA_CREACION": "2008-04-23 08:59:41",
         "DTA_ESTADO_GR": null,
         "DTA_FIN_CLASIF": "2024-05-23 00:00:00",
         "DTA_INI_SESION": "2022-01-26 15:47:42",
         "DTA_TPO_GRUPO": "2022-05-24 00:00:00",
         "MES_FORMACAO": 6,
         "NME_GRUPO": "DIDARTE. Didáctica de las artes",
         "NME_GRUPO_FILTRO": "DIDARTE DIDACTICA DE LAS ARTES",
         "NRO_BLOQUEOS": 2,
         "NRO_ID_GRUPO": "00000000007138",
         "NRO_INTENTOS": 2,
         "STA_ACTIVO": "A",
         "STA_CENTRO": "F",
         "STA_CERTIFICADO": "T",
         "STA_ELIMINADO": "F",
         "STA_SECTOR": "F",
         "TPO_CENTRO": null,
         "TPO_ESTADO_GR": 0,
         "TPO_GRUPO": "T",
         "TXT_CLASIF": "C",
         "TXT_CLASIF_1": null,
         "TXT_ESTADO_ARTE": "Ante la escasez  de estudios sobre la pedagogía y didáctica de las artes en nuestro país en los programas de educación básica media y superior surge el grupo de investigación DIDARTE de la facultad de Artes de la Universidad de Antioquia, quien desea consolidar un proyecto investigativo incluyente y plural, formar investigadores sobre la base de una formación integral, artística, pedagógica, humanista y con un enfoque intercultural, interdisciplinario  transdisciplinario.\r\nEl grupo tiene como principios fundamentales la universalidad (entendida como la apertura a las diferentes corrientes de pensamiento y de conocimiento pedagógico, didáctico y disciplinar), combinada con la ética, el respeto por la diversidad cultural, defensa de la vida y  convivencia social. \r\nSu línea de acción estará orientada a crear proyectos de investigación y el semillero en el saber pedagógico y didáctico del arte, la educación artística, y su vínculo con la tecnología con el propósito de fortalecer los campos epistemológicos, artísticos, educativos, sociológicos, antropológicos, culturales desde enfoques interdisciplinares y transdisciplinares con la intención de fortalecer los procesos de enseñanza aprendizaje de las artes en los diferentes escenarios educativos.\r\n",
         "TXT_OBJETIVOS": "Objetivo general:\r\n Contribuir al desarrollo del saber pedagógico y didáctico del Arte y la educación artística a través de proyectos y el semillero  de investigación  que permitan encontrar el vinculo entre el arte  y la pedagogía y didáctica  e indagar sus  componentes epistemológicos, educativos, sociológicos, antropológicos, culturales, desde enfoques interdisciplinares y transdisciplinares con la intención de fortalecer  los procesos de enseñanza aprendizaje de las artes en los distintos escenarios educativos.\r\n\r\nObjetivos Específicos: \r\n-Indagar estudios existentes de la pedagogía y didáctica del arte a nivel local y global que permitan establecer una base epistemológica, contextual y practica de la formación artística en el ámbito formal e informal.\r\n - Proponer proyectos de investigación, intervención, capacitación sobre investigación, creatividad y pedagogías de las artes desde un enfoque  interdisciplinario, transdisciplinario e intercultural.\r\nProfundizar sobre los componentes epistemológicos, artísticos, curriculares, pedagógicos, culturales para mejorar los procesos de enseñanza del arte.\r\n- Desarrollar las líneas de investigación en la interdisciplinariedad de las artes, Pedagogía y cultura, Didáctica y pedagogía del arte, Educación artística  y tecnología.\r\n-Proponer programas de educación continuada en formación  de artistas y educación artística para  diferentes contextos geográficos educativos y culturales.\r\n",
         "TXT_PLAN_TRABAJO": "PLAN DE TRABAJO DIDARTE \r\n\r\n1 Indagar  estudios existentes  de la pedagogía y la didáctica de las artes y la educación artística desde enfoques interdisciplinares y trasdisciplinares a nivel local, regional,  nacional e internacional que permitan establecer una base práctica, conceptual y contextual del arte  para la formación de Educadores artísticos, grupos de investigación.\r\n2. Proponer programas de educación continuada en formación  de artistas y educación artística para  diferentes contextos geográficos educativos y culturales.\r\n3. Contribuir a la actividad académica en la conformación de semilleros  estudiantes de pregrado y de postgrado y egresados  de los programas de las licenciaturas. \t\r\n4. Promover y ejecutar proyectos de investigación en pedagogía del  arte y en las diferentes líneas de investigación.\r\n5. Ofrecer actividades de extensión y de servicio en diferentes aspectos relacionados la pedagogía y didáctica de las artes y la educación artística y su incidencia en la construcción de currículos con pertinencia social\r\n",
         "TXT_PROD_DESTACADA": null,
         "TXT_RETOS": "  -Diseñar, gestionar, y ejecutar proyectos de investigación, que permitan fortalecer las líneas de profundización en la facultad de artes y la región en cooperación con grupos de académicos comprometidos con el tema en lo  local y global.\r\n- Producir, aplicar y socializar nuevos conocimientos sobre didáctica y pedagogía de las artes y su relación con la tecnologìa, interdisciplinariedad  de las artes y pedagogía y cultura en los distintos niveles educativos de las artes.\r\nProponer la maestría en la pedagogía y didáctica de las Artes.\r\n-Establecer convenios de carácter nacional e internacional en las diferentes líneas de investigación.\r\n- Ampliar el número de investigadores no solo con  docentes en artes si no profesionales de otras disciplinas y con  estudiantes activos y egresados que  pueden ser los estudiantes de las maestrías y doctorados propuestos por  el grupo Didarte.\r\n- Propiciar la participación del grupo de investigadores de estudiantes y docentes  en cursos y pasantías a nivel local y global.\r\n - Difundir la producción del grupo en revistas indexadas, congresos, simposios a nivel local e internacional.\r\n- Fortalecer los currículos de las licenciaturas y los programas de artistas a partir los productos elaborados en el grupo Didarte.\r\n-Contribuir a la actividad académica en la conformación de semilleros  estudiantes de pregrado y de postgrado y egresados  de los programas de las licenciaturas. \r\n-Ofrecer actividades de extensión y de servicio en diferentes aspectos relacionados la pedagogía y didáctica de las artes y la educación artística y su incidencia en la construcción de currículos con pertinencia social. \r\nContribuir a la actividad académica en la formación de estudiantes de pregrado y de postgrado tanto en las licenciaturas en teatro, música, artes visuales y danza\r\n",
         "TXT_SUGERENCIAS": "La presente es para preguntar\r\nsobre porque el grupo de investigación Didarte\r\nde la facultad de Artes de La universidad de Antioquia\r\nno quedo en la categoria D si la simulación que se hizo daba para quedar en dicha categoria.\r\nAna Cecilia Saldarriaga R\r\nInvestigadora principal",
         "TXT_VISION": "El grupo investigación DIDARTE para el 2019, habrá consolidado sus líneas de investigación  en la  pedagogía y didáctica de las artes, interdisciplinariedad de las artes, pedagogía y cultura  en el campo de la Formación y Educación Artística,  y su  relación con la Cultura y tecnología. .\r\nSerá un grupo de referencia  a nivel local e internacional, en el ámbito de la pedagogía y didáctica de las artes y la educación artística. Para ello el grupo deberá haber obtenido logros en las cinco  perspectivas de acción: \r\no\tEl aporte a la comprensión de las realidades pedagógicas y didácticas en el arte, vinculado con los estudios sobre la diversidad cultural y de las nuevas visiones sobre la  interdisciplinariedad y Transdisciplinariedad del conocimiento y las prácticas artístico educativas y su relación con la tecnología. \r\no\tLa inserción en el debate académico nacional e internacional, sobre los enfoques  pedagógicos y metodologías de la enseñanza y el aprendizaje de las artes.\r\no\tTrabajar en la capacidad de incidir en la orientación de políticas educativas en el ámbito local y nacional.\r\no\tConstrucción de relaciones e intercambios sistémicos con pares nacionales e internacionales.\r\no\tProponer maestrías en el campo de la pedagogía del arte y la educación artística.\r\n",
         "XML_FICHA_RSM": null,
         "institution": [
          {
           "COD_IES": "1201",
           "COD_INST": "007300000887",
           "COD_INST_MACRO": "007300000887",
           "COD_MUNICIPIO": "786",
           "COD_NIVEL": 1,
           "COD_RH_MUNICIPIO": "0000000000",
           "COD_SECTOR_ECON": "241",
           "COD_SECTOR_ECON2": "1011",
           "DTA_ACEPTA_TERMINOS": "2021-02-08 08:45:14",
           "DTA_ACTUALIZACION": "2021-02-08 08:46:45",
           "DTA_CONSTITUCION": "1964-05-30 00:00:00",
           "DTA_CREACION": "2008-05-12 12:34:11",
           "ID_INSTITUCION": 883,
           "ID_REPRESENTANTE": 4,
           "NME_INST": "UNIVERSIDAD DE ANTIOQUIA",
           "NME_INST_FILTRO": "UNIVERSIDAD DE ANTIOQUIA",
           "SGL_DEPARTAMENTO": "31",
           "SGL_INST": "UdeA",
           "SGL_PAIS": "1",
           "STA_EXPORTA": 12,
           "STA_TERMINOS_COND": "T",
           "TPO_AVAL": "1",
           "TPO_CARACTER": null,
           "TPO_CONTRIBUYENTE": 6,
           "TXT_APARTADO_AEREO": null,
           "TXT_CIUDAD_INST": "Medellín",
           "TXT_DIGITO_VERIFICADOR": "8",
           "TXT_DIRECCION": "Calle 67 53-10",
           "TXT_EMAIL": "viceinvestigacion@udea.edu.co",
           "TXT_FAX": null,
           "TXT_NIT": "890980040",
           "TXT_TELEFONO": " 4-2195190",
           "URL_HOME_PAGE": "http://www.udea.edu.co"
          }
         ],
         "knowledge_area": [
          {
           "COD_AREA_CONOCIMIENTO": "6D01",
           "COD_AREA_CONOCIMIENTO_FULL": "6 - 6D - 6D01",
           "COD_AREA_PADRE": "6D",
           "COD_RH": "0000000000",
           "COD_RH_FULL": "0000000000",
           "COD_RH_PADRE": "0000000000",
           "DTA_ACTUALIZACION": "2013-10-31 00:00:00",
           "DTA_CREACION": "2013-10-31 00:00:00",
           "NRO_NIVEL": 2,
           "TPO_CAMBIO": "T",
           "TXT_NME_AREA": "Artes plásticas y visuales",
           "TXT_NME_AREA_FILTRO": "ARTES PLASTICAS Y VISUALES",
           "TXT_NME_AREA_FULL": "Humanidades -- Arte -- Artes plásticas y visuales",
           "TXT_VERIFICADO": "T",
           "knowledge_area": [
            {
             "COD_AREA_CONOCIMIENTO": "6D",
             "COD_AREA_CONOCIMIENTO_FULL": "6 - 6D",
             "COD_AREA_PADRE": "6",
             "COD_RH": "0000000000",
             "COD_RH_FULL": "0000000000",
             "COD_RH_PADRE": "0000000000",
             "DTA_ACTUALIZACION": "2013-10-31 00:00:00",
             "DTA_CREACION": "2013-10-31 00:00:00",
             "NRO_NIVEL": 1,
             "TPO_CAMBIO": "T",
             "TXT_NME_AREA": "Arte",
             "TXT_NME_AREA_FILTRO": "ARTE",
             "TXT_NME_AREA_FULL": "Humanidades -- Arte",
             "TXT_VERIFICADO": "T",
             "knowledge_area": [
              {
               "COD_AREA_CONOCIMIENTO": "6",
               "COD_AREA_CONOCIMIENTO_FULL": null,
               "COD_AREA_PADRE": null,
               "COD_RH": "0000000000",
               "COD_RH_FULL": null,
               "COD_RH_PADRE": "0000000000",
               "DTA_ACTUALIZACION": "2013-10-31 00:00:00",
               "DTA_CREACION": "2013-10-31 00:00:00",
               "NRO_NIVEL": 0,
               "TPO_CAMBIO": "T",
               "TXT_NME_AREA": "Humanidades",
               "TXT_NME_AREA_FILTRO": "HUMANIDADES",
               "TXT_NME_AREA_FULL": "Humanidades",
               "TXT_VERIFICADO": "T"
              }
             ]
            }
           ]
          }
         ]
        }
       ],
       "language": [
        {
         "DTA_ACTUALIZACION": "2015-06-05 14:54:15",
         "DTA_CREACION": "2015-06-05 14:54:15",
         "NRO_IMPORTANCIA": 1,
         "SGL_IDIOMA": "ES",
         "SGL_IDIOMA_ISO": null,
         "TXT_NME_IDIOMA": "Español",
         "TXT_NME_IDIOMA_FILTRO": "ESPANOL"
        }
       ],
       "product_type": [
        {
         "COD_TIPO_PRODUCTO": "2P3",
         "COD_TIPO_PRODUCTO_PADRE": "2P",
         "NRO_NIVEL": 2,
         "STA_ACTIVO": "T",
         "TPO_CLASE": "ASC",
         "TXT_NME_TIPO_PRODUCTO": "Manual",
         "product_type": [
          {
           "COD_TIPO_PRODUCTO": "2P",
           "COD_TIPO_PRODUCTO_PADRE": "2",
           "NRO_NIVEL": 1,
           "STA_ACTIVO": "T",
           "TPO_CLASE": null,
           "TXT_NME_TIPO_PRODUCTO": "Impresa",
           "product_type": [
            {
             "COD_TIPO_PRODUCTO": "2",
             "COD_TIPO_PRODUCTO_PADRE": null,
             "NRO_NIVEL": 0,
             "STA_ACTIVO": "T",
             "TPO_CLASE": null,
             "TXT_NME_TIPO_PRODUCTO": "Producción técnica"
            }
           ]
          }
         ]
        }
       ]
      },
      "text/plain": [
       "<IPython.core.display.JSON object>"
      ]
     },
     "execution_count": 14,
     "metadata": {
      "application/json": {
       "expanded": false,
       "root": "root"
      }
     },
     "output_type": "execute_result"
    }
   ],
   "source": [
    "JSON(wn[0])"
   ]
  },
  {
   "cell_type": "markdown",
   "id": "cb7ced60-af9a-4ff5-bcf5-312fe5b22aeb",
   "metadata": {},
   "source": [
    "Missing"
   ]
  },
  {
   "cell_type": "code",
   "execution_count": 169,
   "id": "ac373596-f695-4611-8afd-ca4f43010764",
   "metadata": {},
   "outputs": [],
   "source": [
    "file='/home/restrepo/Downloads/asc2.json'\n",
    "f=open(file,'r')\n",
    "wn=json.load(f)\n",
    "f.close()"
   ]
  },
  {
   "cell_type": "code",
   "execution_count": 170,
   "id": "76d36be4-d226-4fec-b24f-61327e791a30",
   "metadata": {},
   "outputs": [
    {
     "data": {
      "text/plain": [
       "'rm /home/restrepo/Downloads/asc2.json'"
      ]
     },
     "execution_count": 170,
     "metadata": {},
     "output_type": "execute_result"
    }
   ],
   "source": [
    "f'rm {file}'"
   ]
  },
  {
   "cell_type": "code",
   "execution_count": 171,
   "id": "ae0a9646-c824-4a9b-8193-ce4c85d7a34a",
   "metadata": {},
   "outputs": [],
   "source": [
    "if file and file.find('/')>-1:\n",
    "    os.system(f'rm {file}')"
   ]
  },
  {
   "cell_type": "code",
   "execution_count": 172,
   "id": "36bac5e0-a3e4-4760-a204-044527a9d993",
   "metadata": {},
   "outputs": [
    {
     "data": {
      "text/plain": [
       "248946"
      ]
     },
     "execution_count": 172,
     "metadata": {},
     "output_type": "execute_result"
    }
   ],
   "source": [
    "len(miss)"
   ]
  },
  {
   "cell_type": "code",
   "execution_count": 173,
   "id": "c24f667c-305b-44a4-82dd-0aa79f8e6de9",
   "metadata": {},
   "outputs": [],
   "source": [
    "wn= [{'COD_RH':d.get('COD_RH'),'COD_PRODUCTO':d.get('COD_PRODUCTO')} for d in wn]"
   ]
  },
  {
   "cell_type": "code",
   "execution_count": 174,
   "id": "bfcc5d7a-30b4-483f-9590-56783b42bbe5",
   "metadata": {},
   "outputs": [
    {
     "data": {
      "text/plain": [
       "[{'COD_RH': '0001127217', 'COD_PRODUCTO': '103'},\n",
       " {'COD_RH': '0001127217', 'COD_PRODUCTO': '104'},\n",
       " {'COD_RH': '0001127217', 'COD_PRODUCTO': '123'}]"
      ]
     },
     "execution_count": 174,
     "metadata": {},
     "output_type": "execute_result"
    }
   ],
   "source": [
    "wn[:3]"
   ]
  },
  {
   "cell_type": "code",
   "execution_count": 175,
   "id": "0f357a8f-ba9b-45a3-9abc-fd8f78cc822c",
   "metadata": {},
   "outputs": [],
   "source": [
    "if miss:\n",
    "    p=miss\n",
    "else:\n",
    "    p=[d for d in p[0].get('ids')]"
   ]
  },
  {
   "cell_type": "code",
   "execution_count": 176,
   "id": "386eb815-af16-40c2-bd83-8b92144d8aaa",
   "metadata": {},
   "outputs": [
    {
     "data": {
      "text/plain": [
       "248946"
      ]
     },
     "execution_count": 176,
     "metadata": {},
     "output_type": "execute_result"
    }
   ],
   "source": [
    "len(p)"
   ]
  },
  {
   "cell_type": "code",
   "execution_count": 177,
   "id": "5cf744cc-e35f-4ca5-bb3e-fdcb694cf869",
   "metadata": {},
   "outputs": [],
   "source": [
    "miss=set([ str(d) for d in p]).difference( [str(d) for d in wn]  )"
   ]
  },
  {
   "cell_type": "code",
   "execution_count": 178,
   "id": "faeac48a-904a-4c96-aaab-48201b676b81",
   "metadata": {},
   "outputs": [],
   "source": [
    "miss=[eval(d) for d in miss]"
   ]
  },
  {
   "cell_type": "code",
   "execution_count": 179,
   "id": "7a336843-2638-4e0c-ac57-bcab058436d6",
   "metadata": {},
   "outputs": [
    {
     "data": {
      "text/plain": [
       "238222"
      ]
     },
     "execution_count": 179,
     "metadata": {},
     "output_type": "execute_result"
    }
   ],
   "source": [
    "len(miss)"
   ]
  },
  {
   "cell_type": "code",
   "execution_count": 180,
   "id": "d9b7abfc-f3df-4eea-8b5b-fc683aa1fb81",
   "metadata": {},
   "outputs": [],
   "source": [
    "f=open('missing.json','w')\n",
    "json.dump(miss,f)\n",
    "f.close()"
   ]
  },
  {
   "cell_type": "code",
   "execution_count": 2,
   "id": "e6c5bbce-c4bb-49ac-b31b-04c77d7546bf",
   "metadata": {},
   "outputs": [],
   "source": [
    "DOI_Sostenibilidad='https://docs.google.com/spreadsheets/d/e/2PACX-1vS-LMVMYusTHZPI5Bt-c7WfA6pPq6Ayf1FruWHcVThXXHzspSYqDKI5c30AjjoWZg/pub?output=xlsx'"
   ]
  },
  {
   "cell_type": "code",
   "execution_count": 64,
   "id": "9ed74b61-5637-4d16-b07e-34cad8148e30",
   "metadata": {},
   "outputs": [],
   "source": [
    "dois=pd.read_excel(DOI_Sostenibilidad)"
   ]
  },
  {
   "cell_type": "code",
   "execution_count": 65,
   "id": "6134956b-e09d-4828-8062-7e8ebbb98523",
   "metadata": {},
   "outputs": [
    {
     "data": {
      "text/plain": [
       "(2335, 1)"
      ]
     },
     "execution_count": 65,
     "metadata": {},
     "output_type": "execute_result"
    }
   ],
   "source": [
    "dois.shape"
   ]
  },
  {
   "cell_type": "code",
   "execution_count": null,
   "id": "b30b7ccb-4354-42dc-9faa-d07936a2b1b5",
   "metadata": {},
   "outputs": [],
   "source": [
    "dois['DOI']=dois.Norm_DOI.str.replace('https*\\:\\/\\/[\\w.]+/','').str.lower()"
   ]
  },
  {
   "cell_type": "code",
   "execution_count": 59,
   "id": "9b097fd8-6205-4eb6-ba8d-f142ca4bcfeb",
   "metadata": {},
   "outputs": [],
   "source": [
    "def check_affiliation(d,ror='03bp5hc83'):\n",
    "    found=False\n",
    "    p=requests.get(f'https://api.openalex.org/works/https://doi.org/{d}')\n",
    "    if (p.status_code == 200 and\n",
    "        str(p.json().get('authorships')).find(f'https://ror.org/{ror}')>-1\n",
    "       ):\n",
    "        found=True\n",
    "        \n",
    "    time.sleep(1/10)    \n",
    "    return found"
   ]
  },
  {
   "cell_type": "code",
   "execution_count": 61,
   "id": "3abab5b6-30ff-47ad-ba0e-28393eabd79b",
   "metadata": {},
   "outputs": [],
   "source": [
    "dois['check']=dois.DOI.apply(check_affiliation)"
   ]
  },
  {
   "cell_type": "code",
   "execution_count": 68,
   "id": "14dad4f4-8151-410e-8da6-39c2c3bac7ee",
   "metadata": {},
   "outputs": [
    {
     "data": {
      "text/plain": [
       "(1761, 3)"
      ]
     },
     "execution_count": 68,
     "metadata": {},
     "output_type": "execute_result"
    }
   ],
   "source": [
    "dois[dois['check']].shape"
   ]
  },
  {
   "cell_type": "code",
   "execution_count": null,
   "id": "447d51ac-0c1b-47d4-8d68-2946f1729fbd",
   "metadata": {},
   "outputs": [],
   "source": [
    "dois.to_excel(f'{nameof(DOI_Sostenibilidad)}.xlsx',index=False)"
   ]
  },
  {
   "cell_type": "code",
   "execution_count": 4,
   "id": "da195973-052c-45c0-b58b-c3dd575217c4",
   "metadata": {},
   "outputs": [],
   "source": [
    "dois=pd.read_excel(f'{nameof(DOI_Sostenibilidad)}.xlsx')"
   ]
  },
  {
   "cell_type": "code",
   "execution_count": 53,
   "id": "318bd010-2bb5-43de-949d-a32c6f1faa41",
   "metadata": {},
   "outputs": [],
   "source": [
    "def check_affiliation_hep(d,grid='grid.412881.6'):\n",
    "    found=d.get('check')\n",
    "    if not d.get('check'):\n",
    "        p=requests.get(f\"https://inspirehep.net/api/literature?q=doi:{d.get('DOI')}\")\n",
    "        if p.status_code == 200 and p.json().get('hits').get('hits'):\n",
    "            if (L and \n",
    "                isinstance(L,list) and \n",
    "                str(L[0].get('metadata').get('authors')).find('grid.412881.6') > -1\n",
    "               ):\n",
    "                found=True\n",
    "        \n",
    "        time.sleep(1/10)    \n",
    "    return found"
   ]
  },
  {
   "cell_type": "code",
   "execution_count": null,
   "id": "2004547f-fa65-4c72-b0b9-181321c9f92f",
   "metadata": {},
   "outputs": [],
   "source": [
    "dois=dois.apply(lambda d: check_affiliation_hep(d),axis='columns')"
   ]
  },
  {
   "cell_type": "code",
   "execution_count": 43,
   "id": "a9a00a8b-30ab-41f0-b588-39a0ff2d6b17",
   "metadata": {},
   "outputs": [],
   "source": [
    "d={'DOI':'10.1007/JHEP08(2023)040ff'}"
   ]
  },
  {
   "cell_type": "code",
   "execution_count": 44,
   "id": "80830f6c-1b78-445e-b7dd-9e03180c3710",
   "metadata": {},
   "outputs": [],
   "source": [
    "p=requests.get(f\"https://inspirehep.net/api/literature?q=doi:{d.get('DOI')}\")"
   ]
  },
  {
   "cell_type": "code",
   "execution_count": 45,
   "id": "eed71fa2-ee10-48e9-8eca-f318a9770ac9",
   "metadata": {},
   "outputs": [],
   "source": [
    "L=p.json().get('hits').get('hits')\n",
    "if L and isinstance(L,list):\n",
    "    L=L[0]"
   ]
  },
  {
   "cell_type": "code",
   "execution_count": 46,
   "id": "d33a1bf3-c858-4ca5-96be-9fb4d0ec81f2",
   "metadata": {},
   "outputs": [
    {
     "data": {
      "text/plain": [
       "[]"
      ]
     },
     "execution_count": 46,
     "metadata": {},
     "output_type": "execute_result"
    }
   ],
   "source": [
    "L"
   ]
  },
  {
   "cell_type": "code",
   "execution_count": 22,
   "id": "44e794d6-5477-4dbf-a92c-5e1458f5762e",
   "metadata": {},
   "outputs": [
    {
     "data": {
      "text/plain": [
       "'https://inspirehep.net/literature?q=doi:10.1016/j.nima.2023.168452'"
      ]
     },
     "execution_count": 25,
     "metadata": {},
     "output_type": "execute_result"
    }
   ],
   "source": [
    "f\"https://inspirehep.net/literature?q=doi:{d.get('DOI')}\""
   ]
  },
  {
   "cell_type": "code",
   "execution_count": 41,
   "id": "75329615-baa9-4532-98df-585e8b1708e0",
   "metadata": {},
   "outputs": [
    {
     "data": {
      "text/plain": [
       "True"
      ]
     },
     "execution_count": 41,
     "metadata": {},
     "output_type": "execute_result"
    }
   ],
   "source": [
    "str(L[0].get('metadata').get('authors')).find('grid.412881.6') > -1"
   ]
  },
  {
   "cell_type": "code",
   "execution_count": null,
   "id": "ce5483c1-ebc2-4026-970f-0a527737b87c",
   "metadata": {},
   "outputs": [],
   "source": []
  }
 ],
 "metadata": {
  "kernelspec": {
   "display_name": "Python 3 (ipykernel)",
   "language": "python",
   "name": "python3"
  },
  "language_info": {
   "codemirror_mode": {
    "name": "ipython",
    "version": 3
   },
   "file_extension": ".py",
   "mimetype": "text/x-python",
   "name": "python",
   "nbconvert_exporter": "python",
   "pygments_lexer": "ipython3",
   "version": "3.9.2"
  }
 },
 "nbformat": 4,
 "nbformat_minor": 5
}
