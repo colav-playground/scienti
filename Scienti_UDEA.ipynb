{
 "cells": [
  {
   "cell_type": "markdown",
   "id": "168f050c-a5d0-48cb-a55a-2c8f87530531",
   "metadata": {},
   "source": [
    "\n",
    "# Productos Scienti"
   ]
  },
  {
   "cell_type": "markdown",
   "id": "f0c8955a-53e0-485a-bc9f-130ae82c8c69",
   "metadata": {},
   "source": [
    "Ver: \n",
    "* https://drive.google.com/drive/u/0/folders/1YDCde-AJlks3fLh9e1c01dhpGGkC4SHS\n",
    "* https://docs.google.com/spreadsheets/d/1i8nWMaZBRhChp8IsE3ciy18hSAZvWIPd/edit#gid=865791325\n",
    "\n",
    "\n",
    "https://scienti.minciencias.gov.co/gruplac/jsp/Medicion/graficas/verPerfiles.jsp?id_convocatoria=20&nroIdGrupo=00000000001676\n",
    "\n",
    "Esquema relacional → [SVG](./svg/cvlac_layers.svg)\n",
    "\n",
    "Ver como presentar un API DATA Format:\n",
    "https://unpaywall.org/data-format#oa-location-object"
   ]
  },
  {
   "cell_type": "markdown",
   "id": "48ee8ce4-9bdb-431a-9f74-704917d8b529",
   "metadata": {
    "tags": []
   },
   "source": [
    "## Modules, functions and data"
   ]
  },
  {
   "cell_type": "code",
   "execution_count": 1,
   "id": "0b757f67-477d-4f65-8e06-eef41f30b99a",
   "metadata": {},
   "outputs": [],
   "source": [
    "import wosplus as wp"
   ]
  },
  {
   "cell_type": "code",
   "execution_count": 2,
   "id": "8a22aa8d-cc97-4195-b4d3-3351c69fbcd2",
   "metadata": {},
   "outputs": [],
   "source": [
    "import pandas as pd\n",
    "import numpy as np\n",
    "import time\n",
    "import re\n",
    "pd.set_option('display.max_rows', 500)\n",
    "pd.set_option('display.max_columns', 500)"
   ]
  },
  {
   "cell_type": "code",
   "execution_count": 3,
   "id": "6a5aceb8-2afe-46dd-a9d1-ee23b5efd37d",
   "metadata": {},
   "outputs": [],
   "source": [
    "import uuid\n",
    "from IPython.display import display_javascript, display_html, display\n",
    "import json\n",
    "\n",
    "from IPython.display import JSON\n",
    "class JSON_notebook(object): #JSON(object):\n",
    "    def __init__(self, json_data):\n",
    "        if isinstance(json_data, dict):\n",
    "            self.json_str = json.dumps(json_data)\n",
    "        else:\n",
    "            self.json_str = json_data\n",
    "        self.uuid = str(uuid.uuid4())\n",
    "\n",
    "    def _ipython_display_(self):\n",
    "        display_html('<div id=\"{}\" style=\"height: 100px; width:100%;\"></div>'.format(self.uuid), raw=True)\n",
    "        display_javascript(\"\"\"\n",
    "        require([\"https://rawgit.com/caldwell/renderjson/master/renderjson.js\"], function() {\n",
    "        document.getElementById('%s').appendChild(renderjson(%s))\n",
    "        });\n",
    "        \"\"\" % (self.uuid, self.json_str), raw=True)\n",
    "        \n",
    "from IPython.display import Markdown\n",
    "def jsonviewer(d):\n",
    "    f=open('file.json','w')\n",
    "    json.dump(d,f)\n",
    "    f.close()\n",
    "    print('open in firefox new tab:')\n",
    "    return Markdown('[file.json](./file.json)')        "
   ]
  },
  {
   "cell_type": "markdown",
   "id": "7b96bbcb-cec4-4cef-9032-172488383b70",
   "metadata": {},
   "source": [
    "https://drive.google.com/drive/u/0/folders/1HJlJPXzFzsNlRgVyfXYRlhtK3IiQObOP"
   ]
  },
  {
   "cell_type": "code",
   "execution_count": 3,
   "id": "c6306471-4e62-4188-a430-b84e855e3d09",
   "metadata": {},
   "outputs": [
    {
     "name": "stdout",
     "output_type": "stream",
     "text": [
      "Overwriting drive.cfg\n"
     ]
    }
   ],
   "source": [
    "%%writefile drive.cfg\n",
    "[FILES]\n",
    "cvlac.xlsx                           = 1FsmCPupSssuxbQ8L_slqWs39bDDm3lqo\n",
    "EN_PRODUCTO.xlsx                     = 1aw3biyhDhjLkbIWrUQgr7XLEFAEnmT9b\n",
    "gruplac.xlsx                         = 1gJnR5gNndVtHOA2jg5-8BKUEtiX1hr7r\n",
    "gruplac_grupo_pesquisa.xlsx          = 19ffjHffdwF5Mr3ywUWGPNqOzZKBi8ZYe\n",
    "EN_TIPO_PRODUCTO.xlsx                = 1H-2iebmukCbSM1PLFPeBDGdSYFDTHIhw\n",
    "EN_PROD_TECNICA.xlsx                 = 1OPYGauWrbDacetPTUsQgCEVhK6by1ZYZ\n",
    "EN_PROD_AUDIOVISUAL.xlsx             = 1mk8GHug2IOCw27gakQFnrlXHr4koAfae\n",
    "EN_MUNICIPIO.xlsx                    = 18Qs9fujFFIcLRdMjXWe61B6uXVnrPPIW\n",
    "EN_INSTITUCION.xlsx                  = 12KuvWsfnBISq9NOSddyemEHx6VTHFdyb\n",
    "EN_INSTITUCION_OTRA.xlsx             = 1N_359Fl-vhUy4zewF5RZ96Nnt32X14KH\n",
    "EN_DOCUMENTO.xlsx                    = 1K0MdMkZSfm7fULScvE3TWswbDUKfqMEE\n",
    "EN_TRAYECTORIA_PROFESIONAL.xlsx      = 1EnGfAKENKVwYeVY_3yRdh6L5XWTITWP6\n",
    "EN_RECURSO_HUMANO.xlsx               = 1MQ6z2mF1Pcsj3NxKc6HXBb6yYZMSlAop\n",
    "EN_PALABRA_CLAVE.xlsx                = 1HgdClNJk8Yee0jQr0SyvgWeHPJGf6S-x\n",
    "EN_SECTOR_APLICACION.xlsx            = 10lBo8yJq8_rtP8D8owyjV-JMtqc8yN7b\n",
    "RE_PRODUCTO_PALABRA_CLA.xlsx         = 1uSUiM5ASjsbhgmyE6Yx3GQgvszafAPKM\n",
    "RE_PRODUCTO_RECURSO_HUM_OTRO.xlsx    = 1obCJ_-0AMQNMFtqJRwa-2RHP7gmQjoAk\n",
    "RE_PRODUCTO_SECTOR_APL.xlsx          = 1OWwj6Pc57DyeFjKxaJ_QKtMDV3HKqCm-\n",
    "RE_PROYECTO_PRODUCTO.xlsx            = 19IbZYh3QHLgyO7-RyuAEbLXY5ETJjPVr\n",
    "EN_AREA_CONOCIMIENTO.xlsx            = 11DjTGlo-6UyTiMSLwK8yO0FN_HBM3arh\n",
    "INSTITULAC_EN_INSTITUCION.xlsx       = 1UQCM3ivjCFLwycRz_vCgBu7_NvYPTzIk\n",
    "GRUPLAC_RE_GRUPO_INSTITUCION.xlsx    = 1PCpOZ5BFoMrA51syy9OL9grNUL6xmq7M\n",
    "GRUPLAC_EN_INSTITUCION.xlsx          = 1EdnQKGooH13vlBr51vu_Lukh2pZ8CgIq\n",
    "EN_DEPARTAMENTO.xlsx                 = 1YUKECbwQ4aiQA9ycGMp3VS47MhvzqlXF\n",
    "EN_PAIS.xlsx                         = 1lxLXCB1NkC276pGIapxK-WFv7qiOpYrB\n",
    "GRUPLAC_EN_PRODUCTO_GR.xlsx          = 1s7tGhcfA4UTkFl812PIJm2iXu8DRe_Rg\n",
    "EN_PROGRAMA_ACADEMICO.xlsx           = 1-nslbP9Ja6zI47b751BrJtcUz2iDZVRw\n",
    "GRUPLAC_EN_PROGRAMA_COLCIENCIAS.xlsx = 1xGQaVzKBzKbgww4Z6emdHVPu86fJJtsZ"
   ]
  },
  {
   "cell_type": "code",
   "execution_count": 9,
   "id": "db16df2c-4dc9-435b-b6e8-ae1538019a92",
   "metadata": {},
   "outputs": [],
   "source": [
    "dtype={\n",
    "'COD_RH':str,\n",
    "'NRO_ID_GRUPO':str,\n",
    "'COD_RH_MUNICIPIO':str,\n",
    "'COD_INST':str,\n",
    "'COD_INST_AVALA':str,\n",
    "'COD_INST_MACRO':str,\n",
    "'COD_INSTITUCION':str,         \n",
    "'COD_INST_OTRO':str,\n",
    "'ID_DEPARTAMENTO':str,\n",
    "'COD_DEPA_DANE': str,\n",
    "'COD_MUNI_DANE':str\n",
    " }\n",
    "#converters={'COD_INST_AVALA':lambda s:'0' if pd.isna(s) else str(s)},"
   ]
  },
  {
   "cell_type": "code",
   "execution_count": 10,
   "id": "cca8143f-3172-4933-a68c-4af010b73927",
   "metadata": {},
   "outputs": [],
   "source": [
    "sc=wp.wosplus('drive.cfg')"
   ]
  },
  {
   "cell_type": "code",
   "execution_count": null,
   "id": "1a095492-4145-4b71-aa92-0ba55229481f",
   "metadata": {},
   "outputs": [],
   "source": [
    "#cv=sc.read_drive_excel('cvlac.xlsx',dtype=dtype)\n",
    "#gr=sc.read_drive_excel('gruplac.xlsx',dtype=dtype)\n",
    "#GR=sc.read_drive_excel('groups.xlsx',dtype=dtype)\n",
    "#tp=sc.read_drive_excel('EN_TIPO_PRODUCTO.xlsx',dtype=dtype)\n",
    "#pt=sc.read_drive_excel('EN_PROD_TECNICA.xlsx',dtype=dtype)\n",
    "#pa=sc.read_drive_excel('EN_PROD_AUDIOVISUAL.xlsx',dtype=dtype)\n",
    "#mp=sc.read_drive_excel('EN_MUNICIPIO.xlsx',dtype=dtype)\n",
    "#it=sc.read_drive_excel('EN_INSTITUCION.xlsx',dtype=dtype)\n",
    "##ito=sc.read_drive_excel('EN_INSTITUCION_OTRA.xlsx',dtype={'COD_RH':str,'COD_INST':str,'COD_RH_MUNICIPIO':str})\n",
    "#tpr=sc.read_drive_excel('EN_TRAYECTORIA_PROFESIONAL.xlsx',dtype=dtype)\n",
    "#dc=sc.read_drive_excel('EN_DOCUMENTO.xlsx',dtype=dtype)\n",
    "#rh=sc.read_drive_excel('EN_RECURSO_HUMANO.xlsx',dtype=dtype)"
   ]
  },
  {
   "cell_type": "markdown",
   "id": "ea9973fa-d9ac-4a19-89e4-1ff21160196a",
   "metadata": {},
   "source": [
    "Load all cvlac `EN_` tables:  See [cvlac_pickle.ipynb](./cvlac_pickle.ipynb)\n",
    "\n",
    "WARNING: Requires 20GB of RAM"
   ]
  },
  {
   "cell_type": "markdown",
   "id": "d7a8e2d2-a103-4340-8b84-a6124ef7ab18",
   "metadata": {
    "tags": []
   },
   "source": [
    "### RAM INTENSIVE ANALYSIS"
   ]
  },
  {
   "cell_type": "code",
   "execution_count": 15,
   "id": "310fe502-91b0-4b6a-9d13-8ede7c963308",
   "metadata": {},
   "outputs": [],
   "source": [
    "NO_CORRER=True\n",
    "if not NO_CORRER:\n",
    "    df=pd.read_pickle('/data/scienti/cvlac.pkl.gz')\n",
    "    print(df.shape)"
   ]
  },
  {
   "cell_type": "code",
   "execution_count": 16,
   "id": "e09a0d37-991f-49a3-b900-85400c19b3dd",
   "metadata": {},
   "outputs": [],
   "source": [
    "if not NO_CORRER:\n",
    "    primary_tables=[]\n",
    "    sgl_cat=list(df['SGL_CATEGORIA'].dropna().unique())\n",
    "    new_cat=set( sgl_cat )\n",
    "    for t in df['table'].unique():\n",
    "        t_cat=df[df['table']==t].get('SGL_CATEGORIA')\n",
    "        if t_cat is not None:\n",
    "            nc=new_cat.difference( t_cat.dropna().unique() )\n",
    "            if len(new_cat)>len(nc):\n",
    "                new_cat=nc\n",
    "                primary_tables.append(t)\n",
    "\n",
    "                print(f'primary → {t}')\n",
    "        #print(f'{t}')\n",
    "else:\n",
    "    primary_tables=['EN_PRODUCTO',\n",
    " 'EN_EVENTO',\n",
    " 'EN_SECRETO_INDUSTRIAL',\n",
    " 'EN_PATENTE',\n",
    " 'EN_PROD_ARTISTICA_DETALLE',\n",
    " 'EN_PROYECTO',\n",
    " 'EN_REGISTRO',\n",
    " 'EN_RED']\n",
    "    sgl_cat=['TP-TP_B', 'ART-ART_A1', 'ART-ART_A2', 'ART-ART_D', 'ART-ART_B',\n",
    "       'ART-GC_ART', 'IPP-00', 'GC_M-00', 'ART-ART_C', 'TM-TM_A',\n",
    "       'ART-00', 'TP-00', 'TM-TM_B', 'INF-00', 'TD-TD_A', 'TM-00',\n",
    "       'TD-TD_B', 'TD-00', 'TP-TP_A', 'IPP-IPP', 'IFI-IFI', 'WP-WP',\n",
    "       'ERL-ERL', 'GC_I-00', 'CON_CT-00', 'SF-00', 'PP-00', 'GC_I-GC',\n",
    "       'IFI-00', 'CON_CT-CON_CT', 'PI-PI_A', 'PI-00', 'DI-00', 'RN-00',\n",
    "       'GC_M-EX', 'GC_M-GC', 'ERL-00', 'SF-EX', 'GC_I-EX', 'GC_V-GC',\n",
    "       'BOL-00', 'GC_V-00', 'RNPC-RNPC', 'BOL-BOL', 'INF-INF', 'IG-IG_A1',\n",
    "       'EBT-00', 'SF-SF_A', 'NSG-NSG', 'DI-DI_A', 'IG-00', 'RN-RNL_B',\n",
    "       'WP-00', 'CON_AAD-CON_AAD', 'IG-IG_A2', 'GC_V-EX', 'IG-IG_B2',\n",
    "       'EBT-EBT_A', 'PP-PP_A', 'ECI-00', 'ICC-ICC_A', 'SD-EX', 'SD-SD',\n",
    "       'IG-IG_B1', 'RNPC-00', 'DI-DI_B', 'VA-00', 'RN-RNT', 'CON_AAD-00',\n",
    "       'ICC-00', 'RN-RNR', 'EBT-EBT_B', 'VV-VV_B2', 'RNPL-00', 'VV-VV_A2',\n",
    "       'VV-VV_B3', 'VV-VV_B4', 'GC_A-GC', 'N-N_A2', 'CT-CT', 'N-N_B',\n",
    "       'NRC-NRC_B', 'NRC-NRC_A', 'N-N_C', 'PAU-PAU', 'N-N_D', 'N-GC_N',\n",
    "       'N-00', 'PN-PN', 'AL-AL', 'NRC-00', 'AL-00', 'PAU-00', 'N-N_A1',\n",
    "       'CT-00', 'EC-EC_B', 'EC-00', 'EC-EX', 'EC-EC_A', 'ECA-ECA_A',\n",
    "       'APO-00', 'ECA-ECA_B', 'EPC-00', 'EPC-EPC', 'EPC-EX', 'APO-APO',\n",
    "       'TC-00', 'ECA-00', 'TC-EX', 'TC-TC_C', 'TC-TC_B', 'TC-TC_A',\n",
    "       'SE-00', 'SE-SE', 'PIV-00', 'PMU-00', 'PIV-EX', 'PIV-PA4',\n",
    "       'PIV-PB4', 'PIV-PA3', 'PMU-MA4', 'PIV-PA2', 'PMU-EX', 'PIV-PB2',\n",
    "       'PIV-PB5', 'PIV-PA1', 'PIV-PC', 'AAD-00', 'AAD-AAD_C', 'AAD-AAD_B',\n",
    "       'AAD-AAD_A', 'AAD-AAD_A1', 'PID-00', 'PF-00', 'PE-PE', 'PE-00',\n",
    "       'PCC-00', 'PID-PID_C', 'PID-PID_B', 'EPA-EPA', 'PPC-PPC', 'PPC-EX',\n",
    "       'PID-EX', 'PCC-PCC', 'PID-PID_A', 'PF-EX', 'PCC-EX', 'PF-PF_A',\n",
    "       'PPC-00', 'PIC-PIC_A', 'PIC-00', 'PIC-PIC_C', 'EPA-EX', 'PF-PF_B',\n",
    "       'EPA-00', 'PIC-PIC_B', 'REG_G-00', 'REG_SF-EX', 'REG_SF-00',\n",
    "       'MR-MR', 'REG_G-CG', 'REG_G-EX', 'RC-00', 'RC-RC_A']"
   ]
  },
  {
   "cell_type": "code",
   "execution_count": 21,
   "id": "5d02ec9d-aa24-4760-9c49-399eff03c02d",
   "metadata": {},
   "outputs": [
    {
     "data": {
      "text/plain": [
       "5536"
      ]
     },
     "execution_count": 21,
     "metadata": {},
     "output_type": "execute_result"
    }
   ],
   "source": [
    "gr[gr['SGL_CATEGORIA']=='ART-ART_A1'].shape[0]"
   ]
  },
  {
   "cell_type": "code",
   "execution_count": 22,
   "id": "0ba4dd0a-73dc-4745-b462-92471c262237",
   "metadata": {},
   "outputs": [
    {
     "name": "stdout",
     "output_type": "stream",
     "text": [
      "16\n"
     ]
    }
   ],
   "source": [
    "for i in range(gr[gr['SGL_CATEGORIA']=='ART-ART_A1'].shape[0]):\n",
    "    art_gr=gr[gr['SGL_CATEGORIA']=='ART-ART_A1'].iloc[i]\n",
    "\n",
    "    art_cv=cv[ ( (cv['COD_RH']==art_gr['COD_RH']) & (cv['COD_PRODUCTO']==art_gr['COD_PRODUCTO']) )].iloc[0]\n",
    "    if isinstance(art_cv['TXT_DOI'],str):\n",
    "        print(i)\n",
    "        break"
   ]
  },
  {
   "cell_type": "code",
   "execution_count": 35,
   "id": "fd8a8f16-8323-4e4f-9a9b-1f16ca169254",
   "metadata": {},
   "outputs": [
    {
     "name": "stdout",
     "output_type": "stream",
     "text": [
      "open in firefox new tab:\n"
     ]
    },
    {
     "data": {
      "text/markdown": [
       "[file.json](./file.json)"
      ],
      "text/plain": [
       "<IPython.core.display.Markdown object>"
      ]
     },
     "execution_count": 35,
     "metadata": {},
     "output_type": "execute_result"
    }
   ],
   "source": [
    "jsonviewer( [art_cv.dropna().astype(str).to_dict()] )"
   ]
  },
  {
   "cell_type": "code",
   "execution_count": 40,
   "id": "2cd98716-e15d-4c0b-b7d4-3f4526ed5aa6",
   "metadata": {},
   "outputs": [
    {
     "data": {
      "text/html": [
       "<div id=\"e929ee6e-c2aa-435a-bd8e-8a8ecb61a497\" style=\"height: 100px; width:100%;\"></div>"
      ]
     },
     "metadata": {},
     "output_type": "display_data"
    },
    {
     "data": {
      "application/javascript": [
       "\n",
       "        require([\"https://rawgit.com/caldwell/renderjson/master/renderjson.js\"], function() {\n",
       "        document.getElementById('e929ee6e-c2aa-435a-bd8e-8a8ecb61a497').appendChild(renderjson({\"Unnamed: 0\": \"32748\", \"COD_RH\": \"0000112160\", \"COD_PRODUCTO\": \"18\", \"TXT_NME_PROD\": \"Five New Steroids from Solanum nudum\", \"TXT_NME_PROD_FILTRO\": \"FIVE NEW STEROIDS FROM SOLANUM NUDUM\", \"TXT_OBSERV_PROD\": \"Los esteroles tumascona A, Tumacona B, Tumacosido A, tumacosido B y furostenona, adem\\u00e1s de la diosgenona, fueron aislados de Solanum nudum.\", \"SGL_IDIOMA\": \"EN\", \"COD_TIPO_PRODUCTO\": \"111\", \"COD_TIPO_PRODUCTO_MDCN\": \"011\", \"SGL_PAIS\": \"EUA\", \"NRO_ANO_PRESENTA\": \"1998.0\", \"NRO_MES_PRESENTA\": \"9.0\", \"TXT_WEB_PRODUCTO\": \"http://ac.els-cdn.com/S0040402098006322/1-s2.0-S0040402098006322-main.pdf?_tid=a1cf94e4-5886-11e4-bf63-00000aab0f02&acdnat=1413829779_84dfa03521bc8262b709f8cbb1cedf3d\", \"NRO_IND_EXISTENCIA_MDCN\": \"1.0\", \"TXT_IND_CALIDAD_MDCN\": \"0\", \"TPO_MEDIO_DIVULGACION\": \"I\", \"STA_RELEVANCIA\": \"T\", \"DTA_CREACION\": \"2004-08-18 21:21:32\", \"DTA_ACTUALIZACION\": \"2017-05-11 16:39:13\", \"STA_VENTANA\": \"0.0\", \"NRO_PATENTES\": \"0\", \"NRO_SECRETOS\": \"0\", \"COD_UNO_MDCN\": \"011\", \"STA_VENTANA_2\": \"0.0\", \"TXT_IND_CALIDAD_MDCN_2\": \"0\", \"TIPO_PRODUCTO_MDCN\": \"A\", \"TIPO_PRODUCTO_MDCN_2\": \"NC\", \"TXT_DOI\": \"http://ac.els-cdn.com/S0040402098006322/1-s2.0-S0040402098006322-main.pdf?_tid=a1cf94e4-5886-11e4-bf63-00000aab0f02&acdnat=1413829779_84dfa03521bc8262b709f8cbb1cedf3d\", \"NRO_REGISTROS\": \"0\", \"TPO_AVAL_INST\": \"T\", \"CAT_MED\": \"ART-ART_A1\", \"SGL_CATEGORIA\": \"ART-ART_A1\", \"NRO_ARTISTICAS_DET\": \"0\"}))\n",
       "        });\n",
       "        "
      ]
     },
     "metadata": {},
     "output_type": "display_data"
    }
   ],
   "source": [
    "JSON(art_cv.dropna().astype(str).to_dict())"
   ]
  },
  {
   "cell_type": "markdown",
   "id": "af3303b7-04f0-4087-be34-f7846cb54bc8",
   "metadata": {
    "tags": []
   },
   "source": [
    "## Generación de conocimiento: GC"
   ]
  },
  {
   "cell_type": "markdown",
   "id": "e60cec64-f6eb-4205-b8ce-352e13c45683",
   "metadata": {},
   "source": [
    "Search main category: `\"GC\"`"
   ]
  },
  {
   "cell_type": "code",
   "execution_count": 13,
   "id": "e78d25e6-41f3-42e5-846e-379c1719a5f5",
   "metadata": {},
   "outputs": [],
   "source": [
    "gr=sc.read_drive_excel('GRUPLAC_EN_PRODUCTO_GR.xlsx',dtype=dtype)"
   ]
  },
  {
   "cell_type": "code",
   "execution_count": 14,
   "id": "81ae2ac4-d884-4b24-aa94-30bf014569d7",
   "metadata": {},
   "outputs": [
    {
     "data": {
      "text/plain": [
       "(108994, 40)"
      ]
     },
     "execution_count": 14,
     "metadata": {},
     "output_type": "execute_result"
    }
   ],
   "source": [
    "gr.shape"
   ]
  },
  {
   "cell_type": "code",
   "execution_count": 15,
   "id": "5d2d2df8-c2e1-45e4-bfc6-69ee5d3a6f38",
   "metadata": {},
   "outputs": [],
   "source": [
    "GR=sc.read_drive_excel('gruplac_grupo_pesquisa.xlsx',dtype=dtype)"
   ]
  },
  {
   "cell_type": "code",
   "execution_count": null,
   "id": "36c82449-96ae-408b-ba87-eb8ea6a09e44",
   "metadata": {},
   "outputs": [],
   "source": [
    "#cv=sc.read_drive_excel('cvlac.xlsx',dtype=dtype)"
   ]
  },
  {
   "cell_type": "code",
   "execution_count": 16,
   "id": "5687cc22-8907-4971-afc7-83d6cdd67bc0",
   "metadata": {},
   "outputs": [],
   "source": [
    "cv=sc.read_drive_excel('EN_PRODUCTO.xlsx',dtype=dtype)"
   ]
  },
  {
   "cell_type": "code",
   "execution_count": 17,
   "id": "ef555b44-ecb9-47c8-bbfb-56200502acd4",
   "metadata": {},
   "outputs": [
    {
     "data": {
      "text/plain": [
       "(342440, 58)"
      ]
     },
     "execution_count": 17,
     "metadata": {},
     "output_type": "execute_result"
    }
   ],
   "source": [
    "cv.shape"
   ]
  },
  {
   "cell_type": "code",
   "execution_count": 27,
   "id": "5348474d-309c-49e5-9997-09b155197f23",
   "metadata": {},
   "outputs": [],
   "source": [
    "gc=gr[gr['SGL_CATEGORIA'].apply(lambda s: re.search('^GC',s)!=None if isinstance(s,str) else False)]\n",
    "gc=gc.drop_duplicates(['SGL_CATEGORIA'])"
   ]
  },
  {
   "cell_type": "markdown",
   "id": "284ee85d-4437-43b7-b35c-7647cfa58146",
   "metadata": {},
   "source": [
    "Check results"
   ]
  },
  {
   "cell_type": "markdown",
   "id": "b75a07cd-4b21-4f04-b783-524f7e2ca22c",
   "metadata": {
    "tags": []
   },
   "source": [
    "### GC_I-00"
   ]
  },
  {
   "cell_type": "code",
   "execution_count": 19,
   "id": "a6a93ac3-5071-4556-88ec-e8412ee67e61",
   "metadata": {},
   "outputs": [
    {
     "name": "stdout",
     "output_type": "stream",
     "text": [
      "==================GC_I-00====================\n",
      "******************** GrupLAC COL0016031 ********************\n"
     ]
    },
    {
     "data": {
      "application/json": {
       "COD_PRODUCTO": "9",
       "COD_RH": "0000163767",
       "COD_TIPO_PRODUCTO": "2P1",
       "DTA_ACTUALIZACION": "2017-09-25 16:15:16",
       "DTA_CREACION": "2008-10-17 18:01:31",
       "DTA_VINCULACION": "2008-10-17 18:01:31",
       "NRO_ANO_PRESENTA": "1998.0",
       "NRO_ARTISTICAS_DET": "0",
       "NRO_ID_GRUPO": "00000000001764",
       "NRO_IND_EXISTENCIA_MDCN": "0.0",
       "NRO_MES_PRESENTA": "1",
       "NRO_PATENTES": "0",
       "NRO_REGISTROS": "0",
       "NRO_SECRETOS": "0",
       "SEQ_PRODUCTO": "31507",
       "SGL_CATEGORIA": "GC_I-00",
       "SGL_PAIS": "COL",
       "STA_HUERFANO": "F",
       "STA_MEDIDO": "T",
       "STA_VENTANA": "0.0",
       "TXT_COMPLEMENTARIO": "Cartilla",
       "TXT_NME_PROD": "Promoción Del Buen Trato",
       "TXT_NME_PROD_FILTRO": "PROMOCION DEL BUEN TRATO",
       "Unnamed: 0": "22"
      },
      "text/plain": [
       "<IPython.core.display.JSON object>"
      ]
     },
     "execution_count": 19,
     "metadata": {
      "application/json": {
       "expanded": false,
       "root": "root"
      }
     },
     "output_type": "execute_result"
    }
   ],
   "source": [
    "i=0\n",
    "C=gc['SGL_CATEGORIA'].reset_index().loc[i,'SGL_CATEGORIA']\n",
    "gc_gr=gc[gc['SGL_CATEGORIA']==C].iloc[0]    \n",
    "print(f'=================={C}====================')\n",
    "print('*'*20,'GrupLAC',GR[GR['NRO_ID_GRUPO']==gc_gr['NRO_ID_GRUPO']].iloc[-1]['COD_ID_GRUPO'],'*'*20)\n",
    "JSON(gc_gr.dropna().astype(str).to_dict())\n"
   ]
  },
  {
   "cell_type": "code",
   "execution_count": 20,
   "id": "5bbab453-a4d2-4830-92fe-54f2e3614fa1",
   "metadata": {},
   "outputs": [
    {
     "data": {
      "text/plain": [
       "1.0"
      ]
     },
     "execution_count": 20,
     "metadata": {},
     "output_type": "execute_result"
    }
   ],
   "source": [
    "eval(str('1.0'))"
   ]
  },
  {
   "cell_type": "code",
   "execution_count": 21,
   "id": "151cab3b-9a62-4e53-8f07-772da9a72023",
   "metadata": {},
   "outputs": [
    {
     "name": "stdout",
     "output_type": "stream",
     "text": [
      "******************** CvLAC ********************\n"
     ]
    },
    {
     "data": {
      "application/json": {
       "CAT_MED": "GC_I-00",
       "COD_INST_AVALA": "007300000887",
       "COD_PRODUCTO": 9,
       "COD_RH": "0000163767",
       "COD_TIPO_PRODUCTO": "2P1",
       "DTA_ACTUALIZACION": "2017-05-11T16:39:30-05:00",
       "DTA_AVAL_INST": "2016-03-08T08:53:21-05:00",
       "DTA_CREACION": "2008-03-27T15:40:58-05:00",
       "ID_USUARIO_AVAL": 145,
       "NRO_ANO_PRESENTA": 1998,
       "NRO_ARTISTICAS_DET": 0,
       "NRO_IND_EXISTENCIA_MDCN": 0,
       "NRO_MES_PRESENTA": 1,
       "NRO_PATENTES": 0,
       "NRO_REGISTROS": 0,
       "NRO_SECRETOS": 0,
       "SGL_CATEGORIA": "GC_I-00",
       "SGL_IDIOMA": "ES",
       "SGL_PAIS": "COL",
       "STA_RELEVANCIA": "T",
       "STA_VENTANA": 0,
       "STA_VENTANA_2": 0,
       "TPO_AVAL_INST": "T",
       "TPO_MEDIO_DIVULGACION": "I",
       "TXT_COMPLEMENTARIO": "Cartilla",
       "TXT_IND_CALIDAD_MDCN": "0",
       "TXT_IND_CALIDAD_MDCN_2": "0",
       "TXT_NME_PROD": "Promoción Del Buen Trato",
       "TXT_NME_PROD_FILTRO": "PROMOCION DEL BUEN TRATO",
       "TXT_OBSERV_PROD": "No modifique las etiquetas (títulos o preguntas de esta sección). Si lo _x000D_\nhace la información no podrá ser leída. Inserte sus respuestas. sin borrar _x000D_\nninguna parte de la pregunta._x000D_\n_x000D_\n1.Tipo de patente o registro  (Indique la oficina de patentes o de registro más importante donde tenga patentado o registrado el producto)._x000D_\n_x000D_\n2.Fecha de solicitud de la patente o registro (Si existe)_x000D_\n_x000D_\n3.Fecha de evaluación de la patente o registro_x000D_\n_x000D_\n4.Fecha de obtención de la patente o registro_x000D_\n_x000D_\n5.Entidad patentadora o registradora_x000D_\n_x000D_\n6.Número del contrato de regalías_x000D_\n_x000D_\n7.Premios que ha obtenido el producto _x000D_\n 7a.  Nombre de un premio que haya obenido el producto.  _x000D_\n 7b. Fecha de obtención del premio.  _x000D_\n 7c.  Entidad que otorga el premio._x000D_\n_x000D_\n8.Nombre comercial del producto_x000D_\n_x000D_\n9.Número o código de la certificación institucional o empresarial que garantiza la existencia, calidad y aplicación del producto o proceso no patentable._x000D_\n_x000D_\n10.Si el producto está protegido por secreto industrial, indique el nombre de la empresa y un teléfono contacto para verificación._x000D_\n_x000D_\n11.Número o código de la certificación institucional o empresarial que garantiza la existencia, calidad y aplicación del producto o proceso protegido por secreto industrial_x000D_\n_x000D_\n12.Contrato o convenio del grupo con el solicitante o usuario del producto  o proceso_x000D_\n",
       "Unnamed: 0": 39029
      },
      "text/plain": [
       "<IPython.core.display.JSON object>"
      ]
     },
     "execution_count": 21,
     "metadata": {
      "application/json": {
       "expanded": false,
       "root": "root"
      }
     },
     "output_type": "execute_result"
    }
   ],
   "source": [
    "print('*'*20,'CvLAC','*'*20)\n",
    "gc_cv=cv[ ( (cv['COD_RH']==gc_gr['COD_RH']) & (cv['COD_PRODUCTO']==gc_gr['COD_PRODUCTO']) )].iloc[0]\n",
    "JSON(gc_cv.dropna().to_dict())"
   ]
  },
  {
   "cell_type": "markdown",
   "id": "340b2e60-f6e0-45bc-9c03-cb8b0a94e25a",
   "metadata": {},
   "source": [
    "Impresos: 2P → Tabla de metadatos"
   ]
  },
  {
   "cell_type": "code",
   "execution_count": 17,
   "id": "2f48da6c-668a-4cde-a7d7-1ab7c0023ce3",
   "metadata": {},
   "outputs": [
    {
     "data": {
      "text/plain": [
       "'COL0016031'"
      ]
     },
     "execution_count": 17,
     "metadata": {},
     "output_type": "execute_result"
    }
   ],
   "source": [
    "GR[GR['NRO_ID_GRUPO']=='00000000001764'].iloc[-1]['COD_ID_GRUPO']"
   ]
  },
  {
   "cell_type": "code",
   "execution_count": 22,
   "id": "7cd59409-af3b-44a3-ad7c-9382e0883650",
   "metadata": {},
   "outputs": [],
   "source": [
    "tp=sc.read_drive_excel('EN_TIPO_PRODUCTO.xlsx',dtype=dtype)"
   ]
  },
  {
   "cell_type": "code",
   "execution_count": 23,
   "id": "99cfabe4-af8e-421a-bc8a-7d93a4a9cf0e",
   "metadata": {},
   "outputs": [
    {
     "data": {
      "text/html": [
       "<div>\n",
       "<style scoped>\n",
       "    .dataframe tbody tr th:only-of-type {\n",
       "        vertical-align: middle;\n",
       "    }\n",
       "\n",
       "    .dataframe tbody tr th {\n",
       "        vertical-align: top;\n",
       "    }\n",
       "\n",
       "    .dataframe thead th {\n",
       "        text-align: right;\n",
       "    }\n",
       "</style>\n",
       "<table border=\"1\" class=\"dataframe\">\n",
       "  <thead>\n",
       "    <tr style=\"text-align: right;\">\n",
       "      <th></th>\n",
       "      <th>Unnamed: 0</th>\n",
       "      <th>COD_TIPO_PRODUCTO</th>\n",
       "      <th>TXT_NME_TIPO_PRODUCTO</th>\n",
       "      <th>NRO_NIVEL</th>\n",
       "      <th>COD_TIPO_PRODUCTO_PADRE</th>\n",
       "      <th>STA_ACTIVO</th>\n",
       "      <th>TPO_CLASE</th>\n",
       "    </tr>\n",
       "  </thead>\n",
       "  <tbody>\n",
       "    <tr>\n",
       "      <th>266</th>\n",
       "      <td>266.0</td>\n",
       "      <td>2P1</td>\n",
       "      <td>Cartilla</td>\n",
       "      <td>2.0</td>\n",
       "      <td>2P</td>\n",
       "      <td>T</td>\n",
       "      <td>ASC</td>\n",
       "    </tr>\n",
       "  </tbody>\n",
       "</table>\n",
       "</div>"
      ],
      "text/plain": [
       "     Unnamed: 0 COD_TIPO_PRODUCTO TXT_NME_TIPO_PRODUCTO  NRO_NIVEL  \\\n",
       "266       266.0               2P1              Cartilla        2.0   \n",
       "\n",
       "    COD_TIPO_PRODUCTO_PADRE STA_ACTIVO TPO_CLASE  \n",
       "266                      2P          T       ASC  "
      ]
     },
     "execution_count": 23,
     "metadata": {},
     "output_type": "execute_result"
    }
   ],
   "source": [
    "tp[tp['COD_TIPO_PRODUCTO']=='2P1']"
   ]
  },
  {
   "cell_type": "code",
   "execution_count": 24,
   "id": "200b65ee-b2b1-4c72-9027-64b607edded8",
   "metadata": {},
   "outputs": [
    {
     "data": {
      "text/html": [
       "<div>\n",
       "<style scoped>\n",
       "    .dataframe tbody tr th:only-of-type {\n",
       "        vertical-align: middle;\n",
       "    }\n",
       "\n",
       "    .dataframe tbody tr th {\n",
       "        vertical-align: top;\n",
       "    }\n",
       "\n",
       "    .dataframe thead th {\n",
       "        text-align: right;\n",
       "    }\n",
       "</style>\n",
       "<table border=\"1\" class=\"dataframe\">\n",
       "  <thead>\n",
       "    <tr style=\"text-align: right;\">\n",
       "      <th></th>\n",
       "      <th>Unnamed: 0</th>\n",
       "      <th>COD_TIPO_PRODUCTO</th>\n",
       "      <th>TXT_NME_TIPO_PRODUCTO</th>\n",
       "      <th>NRO_NIVEL</th>\n",
       "      <th>COD_TIPO_PRODUCTO_PADRE</th>\n",
       "      <th>STA_ACTIVO</th>\n",
       "      <th>TPO_CLASE</th>\n",
       "    </tr>\n",
       "  </thead>\n",
       "  <tbody>\n",
       "    <tr>\n",
       "      <th>265</th>\n",
       "      <td>265.0</td>\n",
       "      <td>2P</td>\n",
       "      <td>Impresa</td>\n",
       "      <td>1.0</td>\n",
       "      <td>2</td>\n",
       "      <td>T</td>\n",
       "      <td>NaN</td>\n",
       "    </tr>\n",
       "  </tbody>\n",
       "</table>\n",
       "</div>"
      ],
      "text/plain": [
       "     Unnamed: 0 COD_TIPO_PRODUCTO TXT_NME_TIPO_PRODUCTO  NRO_NIVEL  \\\n",
       "265       265.0                2P               Impresa        1.0   \n",
       "\n",
       "    COD_TIPO_PRODUCTO_PADRE STA_ACTIVO TPO_CLASE  \n",
       "265                       2          T       NaN  "
      ]
     },
     "execution_count": 24,
     "metadata": {},
     "output_type": "execute_result"
    }
   ],
   "source": [
    "tp[tp['COD_TIPO_PRODUCTO']=='2P']"
   ]
  },
  {
   "cell_type": "code",
   "execution_count": 25,
   "id": "abad24bc-266a-46df-a2d0-7ce71a05c6c6",
   "metadata": {},
   "outputs": [
    {
     "data": {
      "text/html": [
       "<div>\n",
       "<style scoped>\n",
       "    .dataframe tbody tr th:only-of-type {\n",
       "        vertical-align: middle;\n",
       "    }\n",
       "\n",
       "    .dataframe tbody tr th {\n",
       "        vertical-align: top;\n",
       "    }\n",
       "\n",
       "    .dataframe thead th {\n",
       "        text-align: right;\n",
       "    }\n",
       "</style>\n",
       "<table border=\"1\" class=\"dataframe\">\n",
       "  <thead>\n",
       "    <tr style=\"text-align: right;\">\n",
       "      <th></th>\n",
       "      <th>Unnamed: 0</th>\n",
       "      <th>COD_TIPO_PRODUCTO</th>\n",
       "      <th>TXT_NME_TIPO_PRODUCTO</th>\n",
       "      <th>NRO_NIVEL</th>\n",
       "      <th>COD_TIPO_PRODUCTO_PADRE</th>\n",
       "      <th>STA_ACTIVO</th>\n",
       "      <th>TPO_CLASE</th>\n",
       "    </tr>\n",
       "  </thead>\n",
       "  <tbody>\n",
       "    <tr>\n",
       "      <th>213</th>\n",
       "      <td>213.0</td>\n",
       "      <td>2P3</td>\n",
       "      <td>Manual</td>\n",
       "      <td>2.0</td>\n",
       "      <td>2P</td>\n",
       "      <td>T</td>\n",
       "      <td>ASC</td>\n",
       "    </tr>\n",
       "    <tr>\n",
       "      <th>265</th>\n",
       "      <td>265.0</td>\n",
       "      <td>2P</td>\n",
       "      <td>Impresa</td>\n",
       "      <td>1.0</td>\n",
       "      <td>2</td>\n",
       "      <td>T</td>\n",
       "      <td>NaN</td>\n",
       "    </tr>\n",
       "    <tr>\n",
       "      <th>266</th>\n",
       "      <td>266.0</td>\n",
       "      <td>2P1</td>\n",
       "      <td>Cartilla</td>\n",
       "      <td>2.0</td>\n",
       "      <td>2P</td>\n",
       "      <td>T</td>\n",
       "      <td>ASC</td>\n",
       "    </tr>\n",
       "    <tr>\n",
       "      <th>267</th>\n",
       "      <td>267.0</td>\n",
       "      <td>2P2</td>\n",
       "      <td>Boletín</td>\n",
       "      <td>2.0</td>\n",
       "      <td>2P</td>\n",
       "      <td>T</td>\n",
       "      <td>ASC</td>\n",
       "    </tr>\n",
       "    <tr>\n",
       "      <th>316</th>\n",
       "      <td>316.0</td>\n",
       "      <td>2P4</td>\n",
       "      <td>Guía</td>\n",
       "      <td>2.0</td>\n",
       "      <td>2P</td>\n",
       "      <td>T</td>\n",
       "      <td>OTRO</td>\n",
       "    </tr>\n",
       "    <tr>\n",
       "      <th>317</th>\n",
       "      <td>317.0</td>\n",
       "      <td>2P5</td>\n",
       "      <td>Metodología</td>\n",
       "      <td>2.0</td>\n",
       "      <td>2P</td>\n",
       "      <td>T</td>\n",
       "      <td>OTRO</td>\n",
       "    </tr>\n",
       "  </tbody>\n",
       "</table>\n",
       "</div>"
      ],
      "text/plain": [
       "     Unnamed: 0 COD_TIPO_PRODUCTO TXT_NME_TIPO_PRODUCTO  NRO_NIVEL  \\\n",
       "213       213.0               2P3                Manual        2.0   \n",
       "265       265.0                2P               Impresa        1.0   \n",
       "266       266.0               2P1              Cartilla        2.0   \n",
       "267       267.0               2P2               Boletín        2.0   \n",
       "316       316.0               2P4                  Guía        2.0   \n",
       "317       317.0               2P5           Metodología        2.0   \n",
       "\n",
       "    COD_TIPO_PRODUCTO_PADRE STA_ACTIVO TPO_CLASE  \n",
       "213                      2P          T       ASC  \n",
       "265                       2          T       NaN  \n",
       "266                      2P          T       ASC  \n",
       "267                      2P          T       ASC  \n",
       "316                      2P          T      OTRO  \n",
       "317                      2P          T      OTRO  "
      ]
     },
     "execution_count": 25,
     "metadata": {},
     "output_type": "execute_result"
    }
   ],
   "source": [
    "tp[tp['COD_TIPO_PRODUCTO'].str.contains('^2P')]"
   ]
  },
  {
   "cell_type": "markdown",
   "id": "fd253f1f-e290-40b5-9289-de75333038fb",
   "metadata": {},
   "source": [
    "De https://scienti.minciencias.gov.co/cvlac/visualizador/generarCurriculoCv.do?cod_rh=0000163767\n",
    "\n",
    "__Generación de contenido impresa__\n",
    "\n",
    "* Nombre Liderazgo y Desarrollo Humano  TipoProducción técnica - Impresa - Cartilla,  Medio de circulación:,  en el ámbito   en la fecha   disponible en   \n",
    "\n",
    "* Nombre Diseño de proyectos con metodología de marco lógico  TipoProducción técnica - Impresa - Cartilla,  Medio de circulación:,  en el ámbito   en la fecha   disponible en   \n",
    "\n",
    "* Nombre __Promoción Del Buen Trato  TipoProducción técnica - Impresa - Cartilla__,  Medio de circulación:,  en el ámbito   en la fecha   disponible en   "
   ]
  },
  {
   "cell_type": "markdown",
   "id": "56e3c5b1-fb13-4246-b7b7-d408a07c1005",
   "metadata": {},
   "source": [
    "https://stackoverflow.com/a/47010105/2268280 → Search text in full dataframe\n",
    "\n"
   ]
  },
  {
   "cell_type": "code",
   "execution_count": 49,
   "id": "789f1f8c-7ac3-4589-8912-af19741a4311",
   "metadata": {},
   "outputs": [],
   "source": [
    "SLOW=False\n",
    "if SLOW:\n",
    "    s=time.time()\n",
    "    mask = np.column_stack([df[col].astype(str).str.contains('El TLC con la Unión Europea', na=False) for col in df])\n",
    "    print(time.time()-s)"
   ]
  },
  {
   "cell_type": "code",
   "execution_count": null,
   "id": "09350836-24d2-45e7-b499-b0449e26f525",
   "metadata": {},
   "outputs": [],
   "source": [
    "df[mask][['TXT_NME_PROD','table']]"
   ]
  },
  {
   "cell_type": "markdown",
   "id": "b7d3e7dc-5bf0-4ff4-a63c-29f1ba6a606a",
   "metadata": {},
   "source": [
    "Check combination of primary keys in all the tables"
   ]
  },
  {
   "cell_type": "code",
   "execution_count": 125,
   "id": "6525a558-f142-48d4-8c96-54475c518de5",
   "metadata": {},
   "outputs": [
    {
     "data": {
      "text/html": [
       "<div>\n",
       "<style scoped>\n",
       "    .dataframe tbody tr th:only-of-type {\n",
       "        vertical-align: middle;\n",
       "    }\n",
       "\n",
       "    .dataframe tbody tr th {\n",
       "        vertical-align: top;\n",
       "    }\n",
       "\n",
       "    .dataframe thead th {\n",
       "        text-align: right;\n",
       "    }\n",
       "</style>\n",
       "<table border=\"1\" class=\"dataframe\">\n",
       "  <thead>\n",
       "    <tr style=\"text-align: right;\">\n",
       "      <th></th>\n",
       "      <th>COD_RH</th>\n",
       "      <th>COD_PRODUCTO</th>\n",
       "      <th>TXT_NME_PROD</th>\n",
       "      <th>table</th>\n",
       "    </tr>\n",
       "  </thead>\n",
       "  <tbody>\n",
       "    <tr>\n",
       "      <th>39029</th>\n",
       "      <td>0000163767</td>\n",
       "      <td>9</td>\n",
       "      <td>Promoción Del Buen Trato</td>\n",
       "      <td>EN_PRODUCTO</td>\n",
       "    </tr>\n",
       "    <tr>\n",
       "      <th>500433</th>\n",
       "      <td>0000163767</td>\n",
       "      <td>9</td>\n",
       "      <td>NaN</td>\n",
       "      <td>EN_PROD_TECNICA</td>\n",
       "    </tr>\n",
       "    <tr>\n",
       "      <th>1264564</th>\n",
       "      <td>0000163767</td>\n",
       "      <td>9</td>\n",
       "      <td>NaN</td>\n",
       "      <td>EN_PROD_TECNOLOGICO</td>\n",
       "    </tr>\n",
       "  </tbody>\n",
       "</table>\n",
       "</div>"
      ],
      "text/plain": [
       "             COD_RH COD_PRODUCTO              TXT_NME_PROD  \\\n",
       "39029    0000163767            9  Promoción Del Buen Trato   \n",
       "500433   0000163767            9                       NaN   \n",
       "1264564  0000163767            9                       NaN   \n",
       "\n",
       "                       table  \n",
       "39029            EN_PRODUCTO  \n",
       "500433       EN_PROD_TECNICA  \n",
       "1264564  EN_PROD_TECNOLOGICO  "
      ]
     },
     "execution_count": 125,
     "metadata": {},
     "output_type": "execute_result"
    }
   ],
   "source": [
    "kk=df[( (df['COD_RH']==gc_gr['COD_RH']) & (df['COD_PRODUCTO']==gc_gr['COD_PRODUCTO']) )][\n",
    "    ['COD_RH','COD_PRODUCTO','TXT_NME_PROD','table']]\n",
    "kk"
   ]
  },
  {
   "cell_type": "code",
   "execution_count": null,
   "id": "f40c7530-34eb-4e83-b0a3-dd3a3e700b64",
   "metadata": {},
   "outputs": [],
   "source": [
    "df[df['SGL_CATEGORIA'].astype(str).str.contains('^GC')][['COD_RH','COD_PRODUCTO','SGL_CATEGORIA','table']].drop_duplicates('table')"
   ]
  },
  {
   "cell_type": "code",
   "execution_count": null,
   "id": "1b548dc3-e5e5-449a-9873-3f1129bf3253",
   "metadata": {},
   "outputs": [],
   "source": [
    "df.loc[kk.index[1]].dropna()"
   ]
  },
  {
   "cell_type": "code",
   "execution_count": null,
   "id": "26dba8f7-5c4d-4379-99a6-609c89645fd4",
   "metadata": {},
   "outputs": [],
   "source": [
    "df.loc[kk.index[-1]].dropna()"
   ]
  },
  {
   "cell_type": "markdown",
   "id": "9b01eb58-ddde-464d-8c53-623a40828c52",
   "metadata": {
    "tags": []
   },
   "source": [
    "### GC_M-EX"
   ]
  },
  {
   "cell_type": "markdown",
   "id": "627c1fed-2cfc-4f26-87cc-50fa684ddcf2",
   "metadata": {},
   "source": [
    "```\n",
    "----------> GC_M-EX\n",
    "--------------------> EN_PRODUCTO\n",
    "----------------------------------------------------> EN_TIPO_PRODUCTO\n",
    "--------------------> EN_PROD_AUDIOVISUAL\n",
    "--------------------> RE_PRODUCTO_PALABRA_CLA\n",
    "----------------------------------------------------> EN_PALABRA_CLAVE\n",
    "--------------------> RE_PRODUCTO_RECURSO_HUM_OTRO\n",
    "--------------------> RE_PRODUCTO_SECTOR_APL\n",
    "----------------------------------------------------> EN_SECTOR_APLICACION\n",
    "--------------------> RE_PROYECTO_PRODUCTO\n",
    "----------------------------------------------------> EN_INSTITUCION_OTRA\n",
    "--------------------------------------------------------------------------> EN_INSTITUCION\n",
    "-------------------------------------------------------------------------------------------> EN_DEPARTAMENTO\n",
    "-----------------------------------------------------------------------------------------------------------> EN_PAIS\n",
    "```"
   ]
  },
  {
   "cell_type": "code",
   "execution_count": 28,
   "id": "aabb4a9d-c930-4728-a755-1cb7031dd466",
   "metadata": {},
   "outputs": [
    {
     "name": "stdout",
     "output_type": "stream",
     "text": [
      "==================GC_M-EX====================\n"
     ]
    },
    {
     "data": {
      "application/json": {
       "COD_PRODUCTO": 12,
       "COD_RH": "0001245449",
       "COD_TIPO_PRODUCTO": "2H1",
       "COD_TIPO_PRODUCTO_MDCN": "116",
       "COD_UNO_MDCN": "116",
       "DTA_ACTUALIZACION": "2017-09-25T16:18:38-05:00",
       "DTA_CREACION": "2011-08-07T00:00:00-05:00",
       "DTA_VINCULACION": "2011-08-07T21:27:54-05:00",
       "NRO_ANO_PRESENTA": 2010,
       "NRO_ARTISTICAS_DET": 0,
       "NRO_ID_GRUPO": "00000000007181",
       "NRO_MES_PRESENTA": 5,
       "NRO_PATENTES": 0,
       "NRO_REGISTROS": 0,
       "NRO_SECRETOS": 0,
       "SEQ_PRODUCTO": 120,
       "SGL_CATEGORIA": "GC_M-EX",
       "SGL_PAIS": "COL",
       "STA_HUERFANO": "F",
       "STA_MEDIDO": "T",
       "TXT_NME_PROD": "El TLC con la Unión Europea",
       "TXT_NME_PROD_FILTRO": "EL TLC CON LA UNION EUROPEA",
       "Unnamed: 0": 766
      },
      "text/plain": [
       "<IPython.core.display.JSON object>"
      ]
     },
     "execution_count": 28,
     "metadata": {
      "application/json": {
       "expanded": false,
       "root": "root"
      }
     },
     "output_type": "execute_result"
    }
   ],
   "source": [
    "i=1\n",
    "C=gc['SGL_CATEGORIA'].reset_index().loc[i,'SGL_CATEGORIA']\n",
    "gc_gr=gc[gc['SGL_CATEGORIA']==C].iloc[0]    \n",
    "print(f'=================={C}====================')\n",
    "#print('*'*20,'GrupLAC',GR[GR['NRO_ID_GRUPO']==gc_gr['NRO_ID_GRUPO']].iloc[-1]['COD_ID_GRUPO'],'*'*20)\n",
    "JSON(gc_gr.dropna().to_dict())"
   ]
  },
  {
   "cell_type": "code",
   "execution_count": 29,
   "id": "b696eed0-bc3f-488c-b3e3-0df8d901e13a",
   "metadata": {},
   "outputs": [
    {
     "name": "stdout",
     "output_type": "stream",
     "text": [
      "******************** CvLAC ********************\n"
     ]
    },
    {
     "data": {
      "application/json": {
       "CAT_MED": "GC_M-00",
       "COD_INST_AVALA": "007300000887",
       "COD_PRODUCTO": 12,
       "COD_RH": "0001245449",
       "COD_TIPO_PRODUCTO": "2H1",
       "COD_TIPO_PRODUCTO_MDCN": "116",
       "COD_UNO_MDCN": "116",
       "DTA_ACTUALIZACION": "2019-02-27T18:21:34-05:00",
       "DTA_AVAL_INST": "2016-02-29T11:57:41-05:00",
       "DTA_CREACION": "2011-08-05T10:03:37-05:00",
       "ID_USUARIO_AVAL": 145,
       "NRO_ANO_PRESENTA": 2010,
       "NRO_ARTISTICAS_DET": 0,
       "NRO_IND_EXISTENCIA_MDCN": 1,
       "NRO_MES_PRESENTA": 5,
       "NRO_PATENTES": 0,
       "NRO_REGISTROS": 0,
       "NRO_SECRETOS": 0,
       "SGL_CATEGORIA": "GC_M-EX",
       "SGL_IDIOMA": "ES",
       "SGL_PAIS": "COL",
       "STA_VENTANA": 1,
       "STA_VENTANA_2": 1,
       "TIPO_PRODUCTO_MDCN": "C",
       "TIPO_PRODUCTO_MDCN_2": "NC",
       "TPO_AVAL_INST": "T",
       "TPO_MEDIO_DIVULGACION": "H",
       "TXT_IND_CALIDAD_MDCN": "0",
       "TXT_IND_CALIDAD_MDCN_2": "D",
       "TXT_INST_PART": "Facultad de Comunicaciones, Universidad de Antioquia",
       "TXT_NME_PROD": "El TLC con la Unión Europea",
       "TXT_NME_PROD_FILTRO": "EL TLC CON LA UNION EUROPEA",
       "TXT_RESUMEN_PROD": "Se analizan las implicaciones económicas y sociales de la firma de un Tratado de Libre Comercio (TLC) entre nuestro país y la Unión Europea. ",
       "TXT_WEB_PRODUCTO": "http://derecho.udea.edu.co/podcast/zoomRadio.htm",
       "Unnamed: 0": 117294
      },
      "text/plain": [
       "<IPython.core.display.JSON object>"
      ]
     },
     "execution_count": 29,
     "metadata": {
      "application/json": {
       "expanded": false,
       "root": "root"
      }
     },
     "output_type": "execute_result"
    }
   ],
   "source": [
    "print('*'*20,'CvLAC','*'*20)\n",
    "gc_cv=cv[ ( (cv['COD_RH']==gc_gr['COD_RH']) & (cv['COD_PRODUCTO']==gc_gr['COD_PRODUCTO']) )].iloc[0]\n",
    "JSON(gc_cv.dropna().to_dict())"
   ]
  },
  {
   "cell_type": "markdown",
   "id": "cb6a10e4-ab24-4d0c-8ab7-392280895922",
   "metadata": {},
   "source": [
    "####  Producto"
   ]
  },
  {
   "cell_type": "markdown",
   "id": "c99e86c1-e467-4cdc-aaf7-659838639758",
   "metadata": {},
   "source": [
    "Tablas asociadas a EN_PRODUCTO"
   ]
  },
  {
   "cell_type": "code",
   "execution_count": 28,
   "id": "24258b46-b3c3-4552-b32f-733030b5337c",
   "metadata": {},
   "outputs": [],
   "source": [
    "tp=sc.read_drive_excel('EN_TIPO_PRODUCTO.xlsx',dtype=dtype)"
   ]
  },
  {
   "cell_type": "code",
   "execution_count": 29,
   "id": "b4cf8952-1a5b-48f6-9156-4fa8a3f00491",
   "metadata": {},
   "outputs": [
    {
     "data": {
      "application/json": {
       "COD_TIPO_PRODUCTO": "2H1",
       "COD_TIPO_PRODUCTO_PADRE": "2H",
       "NRO_NIVEL": 2,
       "STA_ACTIVO": "T",
       "TPO_CLASE": "ASC",
       "TXT_NME_TIPO_PRODUCTO": "Entrevista",
       "Unnamed: 0": 126
      },
      "text/plain": [
       "<IPython.core.display.JSON object>"
      ]
     },
     "execution_count": 29,
     "metadata": {
      "application/json": {
       "expanded": false,
       "root": "root"
      }
     },
     "output_type": "execute_result"
    }
   ],
   "source": [
    "gc_tp=tp[tp['COD_TIPO_PRODUCTO']==gc_cv['COD_TIPO_PRODUCTO']].iloc[0]\n",
    "JSON(gc_tp.dropna().to_dict())"
   ]
  },
  {
   "cell_type": "code",
   "execution_count": 30,
   "id": "f837c2c4-1cda-4316-8a88-dff04919bbc3",
   "metadata": {},
   "outputs": [
    {
     "data": {
      "application/json": {
       "COD_TIPO_PRODUCTO": "2H",
       "COD_TIPO_PRODUCTO_PADRE": "2",
       "NRO_NIVEL": 1,
       "STA_ACTIVO": "T",
       "TPO_CLASE": "ASC",
       "TXT_NME_TIPO_PRODUCTO": "Multimedia",
       "Unnamed: 0": 19
      },
      "text/plain": [
       "<IPython.core.display.JSON object>"
      ]
     },
     "execution_count": 30,
     "metadata": {
      "application/json": {
       "expanded": false,
       "root": "root"
      }
     },
     "output_type": "execute_result"
    }
   ],
   "source": [
    "JSON(tp[tp['COD_TIPO_PRODUCTO']==gc_tp['COD_TIPO_PRODUCTO_PADRE']].iloc[0].dropna().to_dict())"
   ]
  },
  {
   "cell_type": "markdown",
   "id": "de820efa-d5c4-4c3f-80d1-6e3df5806783",
   "metadata": {},
   "source": [
    "__Tablas secundarias__"
   ]
  },
  {
   "cell_type": "code",
   "execution_count": 108,
   "id": "1b3a767c-d281-42a4-92b7-bd66ce324123",
   "metadata": {},
   "outputs": [],
   "source": [
    "it=sc.read_drive_excel('EN_INSTITUCION_OTRA.xlsx',dtype=dtype)"
   ]
  },
  {
   "cell_type": "code",
   "execution_count": 109,
   "id": "ee473e92-2e4f-419d-8cff-fe9371355ffc",
   "metadata": {},
   "outputs": [
    {
     "data": {
      "application/json": {
       "COD_INST": "007301000996",
       "COD_INSTITUCION": "007300000887",
       "COD_INST_MACRO": "007300000887",
       "COD_INST_OTRO": "nan",
       "COD_MUNICIPIO": "nan",
       "COD_NIVEL": 2,
       "COD_RH": "0001245449",
       "COD_RH_MUNICIPIO": "0000000000",
       "DTA_ACTUALIZACION": "2008-07-17T07:29:49.000000",
       "DTA_CREACION": "2008-07-17T07:29:49.000000",
       "ID_INSTITUCION": "nan",
       "ID_INSTITUCION_MACRO": 883,
       "NME_INST": "Estudios Políticos",
       "NME_INST_FILTRO": "ESTUDIOS POLITICOS",
       "NRO_PRC_MIN_DEDI_MDC": "nan",
       "SGL_INST": "UA",
       "SGL_PAIS": "COL",
       "TPO_INST_MACRO": "IL",
       "TXT_NIT": "nan",
       "TXT_VERIFICADO": "F",
       "URL_HOME_PAGE": "nan",
       "Unnamed: 0": 17249
      },
      "text/plain": [
       "<IPython.core.display.JSON object>"
      ]
     },
     "execution_count": 109,
     "metadata": {
      "application/json": {
       "expanded": false,
       "root": "root"
      }
     },
     "output_type": "execute_result"
    },
    {
     "name": "stderr",
     "output_type": "stream",
     "text": [
      "/usr/local/lib/python3.9/dist-packages/jupyter_client/session.py:716: UserWarning: Message serialization failed with:\n",
      "Out of range float values are not JSON compliant\n",
      "Supporting this message is deprecated in jupyter-client 7, please make sure your message is JSON-compliant\n",
      "  content = self.pack(content)\n"
     ]
    }
   ],
   "source": [
    "cit=it[ (it['COD_RH']==gc_cv['COD_RH']) & (it['COD_INSTITUCION']==gc_cv['COD_INST_AVALA']) ].iloc[0]\n",
    "JSON( cit.to_dict() )"
   ]
  },
  {
   "cell_type": "code",
   "execution_count": 110,
   "id": "2246ea5a-dde4-43f9-8d03-c31cd5613670",
   "metadata": {},
   "outputs": [],
   "source": [
    "it=sc.read_drive_excel('EN_INSTITUCION.xlsx',dtype=dtype)"
   ]
  },
  {
   "cell_type": "code",
   "execution_count": 111,
   "id": "15cff2f8-f931-4a1c-894a-16c4ff6f6a8b",
   "metadata": {},
   "outputs": [
    {
     "data": {
      "application/json": {
       "COD_IES": 1201,
       "COD_INST": "007300000887",
       "COD_INST_MACRO": "007300000887",
       "COD_MUNICIPIO": 786,
       "COD_NIVEL": 1,
       "COD_RH_MUNICIPIO": "0000000000",
       "COD_SECTOR_ECON": 241,
       "COD_SECTOR_ECON2": 1011,
       "DTA_ACEPTA_TERMINOS": "2021-02-08T08:45:14.000000",
       "DTA_ACTUALIZACION": "2021-02-08T08:46:45.000000",
       "DTA_CONSTITUCION": "1964-05-30T00:00:00.000000",
       "DTA_CREACION": "2008-05-12T12:34:11.000000",
       "ID_INSTITUCION": 883,
       "ID_REPRESENTANTE": 4,
       "NME_INST": "UNIVERSIDAD DE ANTIOQUIA",
       "NME_INST_FILTRO": "UNIVERSIDAD DE ANTIOQUIA",
       "SGL_DEPARTAMENTO": "31",
       "SGL_INST": "UdeA",
       "SGL_PAIS": "1",
       "STA_EXPORTA": 12,
       "STA_TERMINOS_COND": "T",
       "TPO_AVAL": 1,
       "TPO_CARACTER": "nan",
       "TPO_CONTRIBUYENTE": 6,
       "TXT_APARTADO_AEREO": "nan",
       "TXT_CIUDAD_INST": "Medellín",
       "TXT_DIGITO_VERIFICADOR": "8",
       "TXT_DIRECCION": "Calle 67 53-10",
       "TXT_EMAIL": "viceinvestigacion@udea.edu.co",
       "TXT_FAX": "nan",
       "TXT_NIT": "890980040",
       "TXT_TELEFONO": " 4-2195190",
       "URL_HOME_PAGE": "http://www.udea.edu.co",
       "Unnamed: 0": 4653
      },
      "text/plain": [
       "<IPython.core.display.JSON object>"
      ]
     },
     "execution_count": 111,
     "metadata": {
      "application/json": {
       "expanded": false,
       "root": "root"
      }
     },
     "output_type": "execute_result"
    }
   ],
   "source": [
    "IT=it[it[\"COD_INST\"]==cit[\"COD_INSTITUCION\"]].iloc[-1]\n",
    "JSON(IT.to_dict())"
   ]
  },
  {
   "cell_type": "code",
   "execution_count": 167,
   "id": "221b5067-875b-404a-92ce-b37ed3161026",
   "metadata": {},
   "outputs": [],
   "source": [
    "mp=sc.read_drive_excel('EN_MUNICIPIO.xlsx',dtype=dtype)"
   ]
  },
  {
   "cell_type": "code",
   "execution_count": 169,
   "id": "ac03ce44-8ff0-49c9-9961-543ca6661fbf",
   "metadata": {},
   "outputs": [
    {
     "data": {
      "text/plain": [
       "786.0"
      ]
     },
     "execution_count": 169,
     "metadata": {},
     "output_type": "execute_result"
    }
   ],
   "source": [
    "IT['COD_MUNICIPIO']"
   ]
  },
  {
   "cell_type": "code",
   "execution_count": 168,
   "id": "93e1228b-271f-4a16-9b7e-a9564b7856fd",
   "metadata": {},
   "outputs": [
    {
     "data": {
      "application/json": {
       "COD_MUNICIPIO": 786,
       "COD_MUNI_DANE": "25815",
       "COD_RH_MUNICIPIO": "0000000000",
       "DTA_ACTUALIZACION": "2016-10-18T14:55:26-05:00",
       "DTA_CREACION": "2008-05-07T12:29:11-05:00",
       "ID_MUNICIPIO": 922,
       "SGL_DEPARTAMENTO": "CU",
       "SGL_PAIS": "COL",
       "TXT_NME_MUNICIPIO": "TOCAIMA",
       "TXT_NME_MUNICIPIO_FILTRO": "TOCAIMA",
       "Unnamed: 0": 3646
      },
      "text/plain": [
       "<IPython.core.display.JSON object>"
      ]
     },
     "execution_count": 168,
     "metadata": {
      "application/json": {
       "expanded": false,
       "root": "root"
      }
     },
     "output_type": "execute_result"
    }
   ],
   "source": [
    "JSON( mp[ (mp['COD_MUNICIPIO']==IT['COD_MUNICIPIO'])& (mp['COD_RH_MUNICIPIO']==IT['COD_RH_MUNICIPIO']   )].iloc[0].dropna().to_dict())"
   ]
  },
  {
   "cell_type": "code",
   "execution_count": 163,
   "id": "9dbab0d4-e033-4135-aabb-02202bc4d8e2",
   "metadata": {},
   "outputs": [],
   "source": [
    "df=sc.read_drive_excel('EN_DEPARTAMENTO.xlsx',dtype=dtype)"
   ]
  },
  {
   "cell_type": "code",
   "execution_count": 164,
   "id": "4fb8073f-6447-444c-bb48-75585eaf6dc2",
   "metadata": {},
   "outputs": [
    {
     "data": {
      "application/json": {
       "COD_DEPA_DANE": "05",
       "DTA_ACTUALIZACION": "2016-10-18T14:46:43-05:00",
       "DTA_CREACION": "2008-10-24T11:45:35-05:00",
       "ID_DEPARTAMENTO": "31",
       "SGL_DEPARTAMENTO": "AN",
       "SGL_PAIS": "COL",
       "SGL_REGION": "NW",
       "TXT_NME_DEPARTAMENTO": "ANTIOQUIA",
       "TXT_NME_DEPARTAMENTO_FILTRO": "ANTIOQUIA",
       "Unnamed: 0": 29
      },
      "text/plain": [
       "<IPython.core.display.JSON object>"
      ]
     },
     "execution_count": 164,
     "metadata": {
      "application/json": {
       "expanded": false,
       "root": "root"
      }
     },
     "output_type": "execute_result"
    }
   ],
   "source": [
    "DF=df[df['ID_DEPARTAMENTO']==IT['SGL_DEPARTAMENTO']].iloc[-1].dropna()\n",
    "JSON(DF.to_dict())"
   ]
  },
  {
   "cell_type": "code",
   "execution_count": 146,
   "id": "99c7927a-28d7-448b-b030-94e57b05b4bd",
   "metadata": {},
   "outputs": [],
   "source": [
    "df=sc.read_drive_excel('EN_PAIS.xlsx',dtype=dtype)"
   ]
  },
  {
   "cell_type": "code",
   "execution_count": 160,
   "id": "c6002e5a-22e4-44c0-94ab-5f09ee004a4b",
   "metadata": {},
   "outputs": [
    {
     "data": {
      "application/json": {
       "COD_PAIS_SIGP": 19,
       "DTA_ACTUALIZACION": "2015-06-05T14:54:20-05:00",
       "DTA_CREACION": "2015-06-05T14:54:15-05:00",
       "SGL_CONTINENTE": "AME",
       "SGL_CONTINENTE_4": "AME",
       "SGL_CONTINENTE_6": "AME",
       "SGL_CONTINENTE_7": "SAM",
       "SGL_CONTINENTE_8": "SAM",
       "SGL_IDIOMA": "EN",
       "SGL_PAIS": "COL",
       "SGL_PAIS_ISO_2": "CO",
       "TXT_NME_PAIS": "Colombia",
       "TXT_NME_PAIS_FILTRO": "COLOMBIA",
       "TXT_NME_PAIS_ING": "Colombia",
       "TXT_NME_PAIS_ING_FILTRO": "COLOMBIA",
       "Unnamed: 0": 150
      },
      "text/plain": [
       "<IPython.core.display.JSON object>"
      ]
     },
     "execution_count": 160,
     "metadata": {
      "application/json": {
       "expanded": false,
       "root": "root"
      }
     },
     "output_type": "execute_result"
    }
   ],
   "source": [
    "JSON(df[(df['SGL_PAIS']==DF['SGL_PAIS'])].iloc[-1].dropna().to_dict())"
   ]
  },
  {
   "cell_type": "markdown",
   "id": "b7477be8-818f-46f1-ba84-0a068edff2f8",
   "metadata": {},
   "source": [
    "__Tablas de segundo nivel__"
   ]
  },
  {
   "cell_type": "code",
   "execution_count": 33,
   "id": "706f3a80-3f29-4527-93c3-b9be872edec2",
   "metadata": {},
   "outputs": [],
   "source": [
    "pa=sc.read_drive_excel('EN_PROD_AUDIOVISUAL.xlsx',dtype=dtype)"
   ]
  },
  {
   "cell_type": "code",
   "execution_count": 34,
   "id": "11956bff-3fe6-43c7-9fd5-4eeef8793a4d",
   "metadata": {},
   "outputs": [
    {
     "data": {
      "application/json": {
       "COD_MUNICIPIO": 249,
       "COD_PRODUCTO": 12,
       "COD_RH": "0001245449",
       "COD_RH_MUNICIPIO": "0000000000",
       "DTA_ACTUALIZACION": "2014-10-14T17:40:05-05:00",
       "DTA_CREACION": "2011-08-05T10:03:37-05:00",
       "DTA_EMISION": "2010-05-22T00:00:00-05:00",
       "NRO_DURACION": 60,
       "TXT_EMISORA": "Sistema de Radio Educativa de la Universidad de Antioquia",
       "TXT_FINALIDAD": "N",
       "Unnamed: 0": 455
      },
      "text/plain": [
       "<IPython.core.display.JSON object>"
      ]
     },
     "execution_count": 34,
     "metadata": {
      "application/json": {
       "expanded": false,
       "root": "root"
      }
     },
     "output_type": "execute_result"
    }
   ],
   "source": [
    "gc_pa=pa[ (pa['COD_RH']==gc_gr['COD_RH']) & (pa['COD_PRODUCTO']==gc_gr['COD_PRODUCTO']) ].iloc[0]\n",
    "JSON(gc_pa.dropna().to_dict())"
   ]
  },
  {
   "cell_type": "code",
   "execution_count": 35,
   "id": "9cb1fc7a-42b3-4d56-ae18-0b834bcf0a70",
   "metadata": {},
   "outputs": [],
   "source": [
    "mp=sc.read_drive_excel('EN_MUNICIPIO.xlsx',dtype=dtype)"
   ]
  },
  {
   "cell_type": "code",
   "execution_count": 36,
   "id": "22a42126-e11a-42f1-b907-a1463d54616f",
   "metadata": {},
   "outputs": [
    {
     "data": {
      "application/json": {
       "COD_MUNICIPIO": 249,
       "COD_MUNI_DANE": 5001,
       "COD_RH_MUNICIPIO": "0000000000",
       "DTA_ACTUALIZACION": "2016-10-18T14:55:27-05:00",
       "DTA_CREACION": "2008-05-07T12:29:11-05:00",
       "ID_MUNICIPIO": 385,
       "SGL_DEPARTAMENTO": "AN",
       "SGL_PAIS": "COL",
       "TXT_NME_MUNICIPIO": "MEDELLÍN",
       "TXT_NME_MUNICIPIO_FILTRO": "MEDELLIN",
       "Unnamed: 0": 1657
      },
      "text/plain": [
       "<IPython.core.display.JSON object>"
      ]
     },
     "execution_count": 36,
     "metadata": {
      "application/json": {
       "expanded": false,
       "root": "root"
      }
     },
     "output_type": "execute_result"
    }
   ],
   "source": [
    "JSON( mp[ (mp['COD_MUNICIPIO']==gc_pa['COD_MUNICIPIO'])& (mp['COD_RH_MUNICIPIO']==gc_pa['COD_RH_MUNICIPIO']   )].iloc[0].dropna().to_dict())"
   ]
  },
  {
   "cell_type": "code",
   "execution_count": null,
   "id": "b9d79c74-5dd5-4965-8228-4bc973f4e787",
   "metadata": {},
   "outputs": [],
   "source": [
    "786"
   ]
  },
  {
   "cell_type": "code",
   "execution_count": 37,
   "id": "55f6a2d4-05ff-4889-93d8-4874dfa8c122",
   "metadata": {},
   "outputs": [],
   "source": [
    "df=sc.read_drive_excel('RE_PRODUCTO_PALABRA_CLA.xlsx',dtype=dtype)"
   ]
  },
  {
   "cell_type": "code",
   "execution_count": 38,
   "id": "9a923ce2-e2ca-42d4-a2d1-9ce4e67fb2bc",
   "metadata": {},
   "outputs": [
    {
     "data": {
      "text/html": [
       "<div>\n",
       "<style scoped>\n",
       "    .dataframe tbody tr th:only-of-type {\n",
       "        vertical-align: middle;\n",
       "    }\n",
       "\n",
       "    .dataframe tbody tr th {\n",
       "        vertical-align: top;\n",
       "    }\n",
       "\n",
       "    .dataframe thead th {\n",
       "        text-align: right;\n",
       "    }\n",
       "</style>\n",
       "<table border=\"1\" class=\"dataframe\">\n",
       "  <thead>\n",
       "    <tr style=\"text-align: right;\">\n",
       "      <th></th>\n",
       "      <th>Unnamed: 0</th>\n",
       "      <th>COD_RH</th>\n",
       "      <th>COD_PALABRA_CLAVE</th>\n",
       "      <th>COD_PRODUCTO</th>\n",
       "      <th>NRO_IMPORTANCIA</th>\n",
       "      <th>DTA_CREACION</th>\n",
       "      <th>DTA_ACTUALIZACION</th>\n",
       "    </tr>\n",
       "  </thead>\n",
       "  <tbody>\n",
       "    <tr>\n",
       "      <th>184865</th>\n",
       "      <td>184865</td>\n",
       "      <td>0001245449</td>\n",
       "      <td>7</td>\n",
       "      <td>12</td>\n",
       "      <td>0.0</td>\n",
       "      <td>2011-08-05 10:05:18</td>\n",
       "      <td>2011-08-05 10:05:18</td>\n",
       "    </tr>\n",
       "    <tr>\n",
       "      <th>184866</th>\n",
       "      <td>184866</td>\n",
       "      <td>0001245449</td>\n",
       "      <td>46</td>\n",
       "      <td>12</td>\n",
       "      <td>1.0</td>\n",
       "      <td>2011-08-05 10:05:18</td>\n",
       "      <td>2011-08-05 10:05:18</td>\n",
       "    </tr>\n",
       "    <tr>\n",
       "      <th>184867</th>\n",
       "      <td>184867</td>\n",
       "      <td>0001245449</td>\n",
       "      <td>47</td>\n",
       "      <td>12</td>\n",
       "      <td>2.0</td>\n",
       "      <td>2011-08-05 10:05:18</td>\n",
       "      <td>2011-08-05 10:05:18</td>\n",
       "    </tr>\n",
       "    <tr>\n",
       "      <th>184868</th>\n",
       "      <td>184868</td>\n",
       "      <td>0001245449</td>\n",
       "      <td>45</td>\n",
       "      <td>12</td>\n",
       "      <td>3.0</td>\n",
       "      <td>2011-08-05 10:05:18</td>\n",
       "      <td>2011-08-05 10:05:18</td>\n",
       "    </tr>\n",
       "  </tbody>\n",
       "</table>\n",
       "</div>"
      ],
      "text/plain": [
       "        Unnamed: 0      COD_RH  COD_PALABRA_CLAVE  COD_PRODUCTO  \\\n",
       "184865      184865  0001245449                  7            12   \n",
       "184866      184866  0001245449                 46            12   \n",
       "184867      184867  0001245449                 47            12   \n",
       "184868      184868  0001245449                 45            12   \n",
       "\n",
       "        NRO_IMPORTANCIA        DTA_CREACION   DTA_ACTUALIZACION  \n",
       "184865              0.0 2011-08-05 10:05:18 2011-08-05 10:05:18  \n",
       "184866              1.0 2011-08-05 10:05:18 2011-08-05 10:05:18  \n",
       "184867              2.0 2011-08-05 10:05:18 2011-08-05 10:05:18  \n",
       "184868              3.0 2011-08-05 10:05:18 2011-08-05 10:05:18  "
      ]
     },
     "execution_count": 38,
     "metadata": {},
     "output_type": "execute_result"
    }
   ],
   "source": [
    "pc=df[(df['COD_RH']==gc_gr['COD_RH']) & (df['COD_PRODUCTO']==gc_gr['COD_PRODUCTO'])]\n",
    "pc"
   ]
  },
  {
   "cell_type": "code",
   "execution_count": 39,
   "id": "2b2b1570-930b-4171-90de-8eb395510bba",
   "metadata": {},
   "outputs": [],
   "source": [
    "df=sc.read_drive_excel('EN_PALABRA_CLAVE.xlsx',dtype=dtype)"
   ]
  },
  {
   "cell_type": "code",
   "execution_count": 40,
   "id": "bede376a-a21a-45f4-a89d-695ca429e7ed",
   "metadata": {},
   "outputs": [
    {
     "data": {
      "application/json": [
       {
        "COD_PALABRA_CLAVE": 7,
        "COD_RH": "0001245449",
        "DTA_ACTUALIZACION": "2011-08-05T09:53:52-05:00",
        "DTA_CREACION": "2008-07-17T07:29:49-05:00",
        "TXT_NME_PALABRA_CLAVE": "Economía",
        "TXT_NME_PALABRA_CLAVE_FILTRO": "ECONOMIA",
        "Unnamed: 0": 107751
       },
       {
        "COD_PALABRA_CLAVE": 46,
        "COD_RH": "0001245449",
        "DTA_ACTUALIZACION": "2011-08-05T10:04:30-05:00",
        "DTA_CREACION": "2011-08-05T10:04:30-05:00",
        "TXT_NME_PALABRA_CLAVE": "Economía internacional",
        "TXT_NME_PALABRA_CLAVE_FILTRO": "ECONOMIA INTERNACIONAL",
        "Unnamed: 0": 125883
       },
       {
        "COD_PALABRA_CLAVE": 47,
        "COD_RH": "0001245449",
        "DTA_ACTUALIZACION": "2011-08-05T10:04:55-05:00",
        "DTA_CREACION": "2011-08-05T10:04:55-05:00",
        "TXT_NME_PALABRA_CLAVE": "Integración económica",
        "TXT_NME_PALABRA_CLAVE_FILTRO": "INTEGRACION ECONOMICA",
        "Unnamed: 0": 118992
       },
       {
        "COD_PALABRA_CLAVE": 45,
        "COD_RH": "0001245449",
        "DTA_ACTUALIZACION": "2011-08-05T10:04:09-05:00",
        "DTA_CREACION": "2011-08-05T10:04:09-05:00",
        "TXT_NME_PALABRA_CLAVE": "Tratado de Libre Comercio",
        "TXT_NME_PALABRA_CLAVE_FILTRO": "TRATADO DE LIBRE COMERCIO",
        "Unnamed: 0": 118991
       }
      ],
      "text/plain": [
       "<IPython.core.display.JSON object>"
      ]
     },
     "execution_count": 40,
     "metadata": {
      "application/json": {
       "expanded": false,
       "root": "root"
      }
     },
     "output_type": "execute_result"
    }
   ],
   "source": [
    "lpc=[]\n",
    "for i in pc['COD_PALABRA_CLAVE'].values: \n",
    "    lpc.append( df[(df['COD_RH']==gc_gr['COD_RH']) & (df['COD_PALABRA_CLAVE']==i)].iloc[0].to_dict())\n",
    "\n",
    "JSON(lpc)"
   ]
  },
  {
   "cell_type": "code",
   "execution_count": null,
   "id": "c8c5a020-4c03-440f-8dd3-6a3265635dc8",
   "metadata": {},
   "outputs": [],
   "source": [
    "df=sc.read_drive_excel('RE_PRODUCTO_RECURSO_HUM_OTRO.xlsx',dtype=dtype)"
   ]
  },
  {
   "cell_type": "code",
   "execution_count": 81,
   "id": "e4e718f6-e064-4216-9a47-ff38624636e9",
   "metadata": {},
   "outputs": [
    {
     "data": {
      "application/json": {
       "COD_PRODUCTO": 12,
       "COD_RH": "0001245449",
       "COD_RH_COAUTOR": "nan",
       "COD_RH_OTRO": 0,
       "DTA_ACTUALIZACION": "2011-08-05T10:03:37.000000",
       "DTA_CREACION": "2011-08-05T10:03:37.000000",
       "NRO_IMPORTANCIA": 1,
       "TPO_ORIENTACION": "nan",
       "TPO_PARTICIPACION": "nan",
       "Unnamed: 0": 241425
      },
      "text/plain": [
       "<IPython.core.display.JSON object>"
      ]
     },
     "execution_count": 81,
     "metadata": {
      "application/json": {
       "expanded": false,
       "root": "root"
      }
     },
     "output_type": "execute_result"
    }
   ],
   "source": [
    "rh=df[(df['COD_RH']==gc_gr['COD_RH']) & (df['COD_PRODUCTO']==gc_gr['COD_PRODUCTO'])]\n",
    "JSON( rh.iloc[0].to_dict() )"
   ]
  },
  {
   "cell_type": "code",
   "execution_count": 82,
   "id": "672a3246-25b3-4005-85b6-bf139b80faa9",
   "metadata": {},
   "outputs": [],
   "source": [
    "df=sc.read_drive_excel('RE_PRODUCTO_SECTOR_APL.xlsx',dtype=dtype)"
   ]
  },
  {
   "cell_type": "code",
   "execution_count": 92,
   "id": "a27402bb-3b29-48a8-aa54-0dd44a036074",
   "metadata": {},
   "outputs": [
    {
     "data": {
      "text/html": [
       "<div>\n",
       "<style scoped>\n",
       "    .dataframe tbody tr th:only-of-type {\n",
       "        vertical-align: middle;\n",
       "    }\n",
       "\n",
       "    .dataframe tbody tr th {\n",
       "        vertical-align: top;\n",
       "    }\n",
       "\n",
       "    .dataframe thead th {\n",
       "        text-align: right;\n",
       "    }\n",
       "</style>\n",
       "<table border=\"1\" class=\"dataframe\">\n",
       "  <thead>\n",
       "    <tr style=\"text-align: right;\">\n",
       "      <th></th>\n",
       "      <th>Unnamed: 0</th>\n",
       "      <th>COD_RH</th>\n",
       "      <th>COD_PRODUCTO</th>\n",
       "      <th>COD_SECTOR_APLICACION</th>\n",
       "      <th>NRO_IMPORTANCIA</th>\n",
       "      <th>DTA_CREACION</th>\n",
       "      <th>DTA_ACTUALIZACION</th>\n",
       "    </tr>\n",
       "  </thead>\n",
       "  <tbody>\n",
       "    <tr>\n",
       "      <th>49394</th>\n",
       "      <td>49394</td>\n",
       "      <td>0001245449</td>\n",
       "      <td>12</td>\n",
       "      <td>260400</td>\n",
       "      <td>1.0</td>\n",
       "      <td>2011-08-05 10:08:10</td>\n",
       "      <td>2011-08-05 10:08:10</td>\n",
       "    </tr>\n",
       "  </tbody>\n",
       "</table>\n",
       "</div>"
      ],
      "text/plain": [
       "       Unnamed: 0      COD_RH  COD_PRODUCTO  COD_SECTOR_APLICACION  \\\n",
       "49394       49394  0001245449            12                 260400   \n",
       "\n",
       "       NRO_IMPORTANCIA        DTA_CREACION   DTA_ACTUALIZACION  \n",
       "49394              1.0 2011-08-05 10:08:10 2011-08-05 10:08:10  "
      ]
     },
     "execution_count": 92,
     "metadata": {},
     "output_type": "execute_result"
    }
   ],
   "source": [
    "it=df[(df['COD_RH']==gc_gr['COD_RH']) & (df['COD_PRODUCTO']==gc_gr['COD_PRODUCTO'])]\n",
    "it"
   ]
  },
  {
   "cell_type": "code",
   "execution_count": 90,
   "id": "de63dc73-df32-4a15-b920-e12588eb62ae",
   "metadata": {},
   "outputs": [
    {
     "data": {
      "text/plain": [
       "260400"
      ]
     },
     "execution_count": 90,
     "metadata": {},
     "output_type": "execute_result"
    }
   ],
   "source": [
    "it['COD_SECTOR_APLICACION'].iloc[0]"
   ]
  },
  {
   "cell_type": "code",
   "execution_count": 96,
   "id": "b675e86c-1328-48b9-a51f-a35f0d4a7615",
   "metadata": {},
   "outputs": [],
   "source": [
    "df=sc.read_drive_excel('EN_SECTOR_APLICACION.xlsx',dtype=dtype)"
   ]
  },
  {
   "cell_type": "code",
   "execution_count": 97,
   "id": "dc5ea7e1-9fe9-4ce3-959c-23427b64dc7c",
   "metadata": {},
   "outputs": [
    {
     "data": {
      "application/json": {
       "COD_SECTOR_APLICACION": 260400,
       "COD_SECT_APLIC_PADRE": 3,
       "NRO_NIVEL": 2,
       "TXT_NME_SECTOR_APLIC": "Educación superior",
       "TXT_NME_SECTOR_APLIC_FILTRO": "EDUCACIÓN SUPERIOR",
       "Unnamed: 0": 92
      },
      "text/plain": [
       "<IPython.core.display.JSON object>"
      ]
     },
     "execution_count": 97,
     "metadata": {
      "application/json": {
       "expanded": false,
       "root": "root"
      }
     },
     "output_type": "execute_result"
    }
   ],
   "source": [
    "JSON(df[df['COD_SECTOR_APLICACION']==it['COD_SECTOR_APLICACION'].iloc[0]].iloc[0].to_dict())"
   ]
  },
  {
   "cell_type": "code",
   "execution_count": 98,
   "id": "be47930a-1919-4e8c-b3f4-72125076808c",
   "metadata": {},
   "outputs": [
    {
     "data": {
      "text/html": [
       "<div>\n",
       "<style scoped>\n",
       "    .dataframe tbody tr th:only-of-type {\n",
       "        vertical-align: middle;\n",
       "    }\n",
       "\n",
       "    .dataframe tbody tr th {\n",
       "        vertical-align: top;\n",
       "    }\n",
       "\n",
       "    .dataframe thead th {\n",
       "        text-align: right;\n",
       "    }\n",
       "</style>\n",
       "<table border=\"1\" class=\"dataframe\">\n",
       "  <thead>\n",
       "    <tr style=\"text-align: right;\">\n",
       "      <th></th>\n",
       "      <th>Unnamed: 0</th>\n",
       "      <th>COD_RH</th>\n",
       "      <th>COD_PRODUCTO</th>\n",
       "      <th>COD_PROYECTO</th>\n",
       "      <th>DTA_CREACION</th>\n",
       "      <th>DTA_ACTUALIZACION</th>\n",
       "    </tr>\n",
       "  </thead>\n",
       "  <tbody>\n",
       "  </tbody>\n",
       "</table>\n",
       "</div>"
      ],
      "text/plain": [
       "Empty DataFrame\n",
       "Columns: [Unnamed: 0, COD_RH, COD_PRODUCTO, COD_PROYECTO, DTA_CREACION, DTA_ACTUALIZACION]\n",
       "Index: []"
      ]
     },
     "execution_count": 98,
     "metadata": {},
     "output_type": "execute_result"
    }
   ],
   "source": [
    "df=sc.read_drive_excel('RE_PROYECTO_PRODUCTO.xlsx',dtype=dtype)\n",
    "it=df[(df['COD_RH']==gc_gr['COD_RH']) & (df['COD_PRODUCTO']==gc_gr['COD_PRODUCTO'])]\n",
    "it"
   ]
  },
  {
   "cell_type": "markdown",
   "id": "c4388c19-74d1-4b51-90c1-1ae6100c1215",
   "metadata": {},
   "source": [
    "####  Persona"
   ]
  },
  {
   "cell_type": "code",
   "execution_count": 42,
   "id": "d660e342-0fb3-48ad-9859-445183971de8",
   "metadata": {},
   "outputs": [],
   "source": [
    "df=sc.read_drive_excel('EN_RECURSO_HUMANO.xlsx',dtype=dtype)\n",
    "it=df[df['COD_RH']==gc_gr['COD_RH']]"
   ]
  },
  {
   "cell_type": "code",
   "execution_count": 44,
   "id": "52d5ef49-4bd0-4963-a300-b5a6b48fec61",
   "metadata": {},
   "outputs": [
    {
     "data": {
      "application/json": {
       "COD_CERTIFICACION": 1245449201105000000,
       "COD_MUN_EXPED_DOC": 296,
       "COD_MUN_NACIM": 249,
       "COD_RH": "0001245449",
       "COD_RH_MUN_EXPED_DOC": "0000000000",
       "COD_RH_MUN_NACIM": "0000000000",
       "COD_RH_RELIGION": 0,
       "COD_TRAY_PROF_ACT": 11,
       "DTA_ACTUALIZACION": "2021-02-22T19:31:43-05:00",
       "DTA_CERTIFICADO": "2011-05-08T00:00:00-05:00",
       "DTA_CREACION": "2008-07-17T07:29:48-05:00",
       "DTA_NACIM": "1976-08-10T00:00:00-05:00",
       "NRO_DOCUMENTO_FILTRO": "98660084",
       "NRO_DOCUMENTO_IDENT": "98660084",
       "NRO_ID_CNPQ": 3696570975374564,
       "NRO_LIBRETA_MILITAR": "98660084",
       "NRO_PASAPORTE": "AN-365834",
       "SGL_PAIS_NACIM": "COL",
       "STA_ACTIVO": "A",
       "STA_CERTIFICADO": "T",
       "STA_VISIBLE": "T",
       "TPO_DIRECCION_USUAL": "I",
       "TPO_DOCUMENTO_IDENT": "C",
       "TPO_DOC_ACTUALIZACION": "CCO",
       "TPO_ESTADO_CIVIL": "C",
       "TPO_LIBRETA_MILITAR": "S",
       "TPO_NACIONALIDAD": "C",
       "TPO_PERFIL": "IJ",
       "TPO_SEXO": "M",
       "TPO_VER_DOC_ACTUALIZACION": "2.0.0",
       "TXT_CITACION_BIBLIO": "CUARTAS CELIS DEIMAN ",
       "TXT_CITACION_BIBLIO_FILTRO": "CUARTAS CELIS DEIMAN",
       "TXT_CONF_DATOS": "T",
       "TXT_CONTRASENA": "73926bcad00bb4f670d5fedf92664d46",
       "TXT_DESC_PERFIL": "Desde una perspectiva general, los aportes de mi carrera como académico e investigador se inscriben, en primer lugar, en contribuir en la formación de profesionales de las ciencias sociales (ciencia política, derecho, trabajo social, historia, economía) tanto a nivel de pregrado como de posgrado a escala local y regional. _x000D_\n_x000D_\nEn segundo lugar, en el ámbito investigativo y desde una perspectiva interdisciplinaria mi trabajo se enfoca en estudiar una basta y compleja literatura que analiza procesos de violencia, conflicto armado, exclusión social y patrones de desarrollo en Colombia con el objetivo de contribuir en la construcción de una \"ontología del presente\" para comprender mejor las formas de interacción, negociación y reproducción que se gestan entre el orden y la violencia. _x000D_\n_x000D_\nFinalmente, en el área de la extensión desde hace varios años participo como ponente, expositor y analista de fenómenos sociales y políticos en los temas antes enunciados, con el objetivo de contribuir en la construcción de una opinión pública más y mejor informada, así como de una ciudadanía actíva, crítica y propositiva al interior de diversas instituciones sociales y grupos poblacionales, a escala local y regional.  ",
       "TXT_NAMES_RH": "Deiman ",
       "TXT_NAMES_RH_FILTRO": "DEIMAN",
       "TXT_PRIM_APELL": "Cuartas",
       "TXT_PRIM_APELL_FILTRO": "CUARTAS",
       "TXT_SEG_APELL": "Celis",
       "TXT_SEG_APELL_FILTRO": "CELIS",
       "TXT_TOTAL_NAMES": "Deiman Cuartas Celis",
       "TXT_TOTAL_NAMES_FILTRO": "DEIMAN CUARTAS CELIS",
       "Unnamed: 0": 9405
      },
      "text/plain": [
       "<IPython.core.display.JSON object>"
      ]
     },
     "execution_count": 44,
     "metadata": {
      "application/json": {
       "expanded": false,
       "root": "root"
      }
     },
     "output_type": "execute_result"
    }
   ],
   "source": [
    "JSON(it.iloc[0].dropna().to_dict())"
   ]
  },
  {
   "cell_type": "code",
   "execution_count": 109,
   "id": "b875c029-39ed-48ae-abd8-567323ff749b",
   "metadata": {},
   "outputs": [],
   "source": [
    "df=sc.read_drive_excel('EN_MUNICIPIO.xlsx',dtype=dtype)"
   ]
  },
  {
   "cell_type": "code",
   "execution_count": 114,
   "id": "5adcb130-df2d-4a27-bd8c-71e38a39ad54",
   "metadata": {},
   "outputs": [
    {
     "data": {
      "text/plain": [
       "249.0"
      ]
     },
     "execution_count": 114,
     "metadata": {},
     "output_type": "execute_result"
    }
   ],
   "source": []
  },
  {
   "cell_type": "code",
   "execution_count": 121,
   "id": "7c3d0c57-c69e-4dd1-a3f6-0eef4e23949b",
   "metadata": {},
   "outputs": [
    {
     "data": {
      "application/json": {
       "COD_MUNICIPIO": 249,
       "COD_MUNI_DANE": 5001,
       "COD_RH_MUNICIPIO": "0000000000",
       "DTA_ACTUALIZACION": "2016-10-18T14:55:27.000000",
       "DTA_CREACION": "2008-05-07T12:29:11.000000",
       "ID_MUNICIPIO": 385,
       "SGL_DEPARTAMENTO": "AN",
       "SGL_PAIS": "COL",
       "TXT_NME_MUNICIPIO": "MEDELLÍN",
       "TXT_NME_MUNICIPIO_FILTRO": "MEDELLIN",
       "Unnamed: 0": 1657
      },
      "text/plain": [
       "<IPython.core.display.JSON object>"
      ]
     },
     "execution_count": 121,
     "metadata": {
      "application/json": {
       "expanded": false,
       "root": "root"
      }
     },
     "output_type": "execute_result"
    }
   ],
   "source": [
    "itt=it.iloc[0].dropna().to_dict()\n",
    "JSON( df[(df['COD_MUNICIPIO']==itt['COD_MUN_NACIM']) & (df['COD_RH_MUNICIPIO']==itt['COD_RH_MUN_NACIM'])].iloc[0].dropna().to_dict() )"
   ]
  },
  {
   "cell_type": "code",
   "execution_count": null,
   "id": "1287e830-18ae-4065-a085-2f1abcaafe54",
   "metadata": {},
   "outputs": [],
   "source": [
    "JSON( mp[ (mp['COD_MUNICIPIO']==gc_pa['COD_MUNICIPIO'])& (mp['COD_RH_MUNICIPIO']==gc_pa['COD_RH_MUNICIPIO']   )].iloc[0].dropna().to_dict())"
   ]
  },
  {
   "cell_type": "code",
   "execution_count": 46,
   "id": "3308ec44-2187-4e8e-a3ad-f78191e84674",
   "metadata": {},
   "outputs": [],
   "source": [
    "#NRO_ID_GRUPO:\"00000000007181\""
   ]
  },
  {
   "cell_type": "code",
   "execution_count": 48,
   "id": "f109d27e-8900-49f0-a2e6-a0e133dab9e5",
   "metadata": {},
   "outputs": [
    {
     "data": {
      "text/plain": [
       "'00000000007181'"
      ]
     },
     "execution_count": 48,
     "metadata": {},
     "output_type": "execute_result"
    }
   ],
   "source": [
    "gc_gr[\"NRO_ID_GRUPO\"]"
   ]
  },
  {
   "cell_type": "code",
   "execution_count": 171,
   "id": "9b07b065-3f0a-4077-ad07-5170a0ecf6be",
   "metadata": {},
   "outputs": [
    {
     "data": {
      "application/json": {
       "ANO_FORMACAO": 1997,
       "COD_ACTIVACION": "nan",
       "COD_AREA_CONHEC": "5F01",
       "COD_AREA_CONHEC_BK": "5F",
       "COD_CERTIFICACION": "COL0079004201707251321",
       "COD_GRAN_AREA_CONHEC_MED": 5,
       "COD_ID_GRUPO": "COL0079004",
       "COD_PROGRAMA": 7,
       "COD_PROGRAMA_SECUND": 0,
       "COD_RH_AREA": 0,
       "COD_SESION": "nan",
       "DTA_ACTUALIZACION": "2020-10-10T10:47:09.000000",
       "DTA_CERTIFICADO": "2017-07-25T00:00:00.000000",
       "DTA_CLASIF": "2019-12-06T00:00:00.000000",
       "DTA_CREACION": "2008-05-07T19:31:01.000000",
       "DTA_ESTADO_GR": "nan",
       "DTA_FIN_CLASIF": "2021-12-05T00:00:00.000000",
       "DTA_INI_SESION": "2019-12-09T13:21:08.000000",
       "DTA_TPO_GRUPO": "2019-12-06T00:00:00.000000",
       "MES_FORMACAO": 1,
       "NME_GRUPO": "Hegemonía, Guerras y Conflictos",
       "NME_GRUPO_FILTRO": "HEGEMONIA, GUERRAS Y CONFLICTOS",
       "NRO_BLOQUEOS": 1,
       "NRO_ID_GRUPO": "00000000007181",
       "NRO_INTENTOS": "nan",
       "STA_ACTIVO": "A",
       "STA_CENTRO": "F",
       "STA_CERTIFICADO": "T",
       "STA_ELIMINADO": "F",
       "STA_SECTOR": "F",
       "TPO_CENTRO": "A",
       "TPO_ESTADO_GR": 0,
       "TPO_GRUPO": "T",
       "TXT_CLASIF": "A",
       "TXT_CLASIF_1": "B",
       "TXT_ESTADO_ARTE": "Un número importante de las investigaciones realizadas por los politólogos y los sociólogos políticos, tienen como presupuesto analítico y punto de partida la existencia de una clara separación entre lo político y lo social. Resulta más o menos obvio, que la búsqueda de autonomía de estas disciplinas y la construcción de ellas como campos especializados, se sustenta en la pretensión de justificar la existencia de estos mundos objetivos y separados. El correlato de esta distinción, en términos de los análisis de la política, es la definición del Estado como un agente político concreto, una cosa o una estructura, diferente a las estructuras de la sociedad en las cuales opera.  _x000D_\nBajo el lente de esta mirada se presupone que el Estado tiene una naturaleza universal dada, que su proceso de formación es lineal y más o menos homogéneo, que su esencia es la dominación y el establecimiento de una soberanía plena, y que su naturaleza está estrechamente vinculada a las antinomias represión/consenso, fuerza/voluntad, legitimidad/ilegitimidad, legalidad/ilegalidad, y objetivo/subjetivo. Engels, por ejemplo, afirmaba que el Estado era una institución activa y transformadora que fijaba el derecho de una clase para explotar a otra. Weber, por su parte, señalaba que el Estado era una comunidad humana que poseía el legítimo monopolio sobre el uso de la fuerza. En uno y otro caso, el Estado es un objeto material que puede ser estudiado; es un objeto que se puede señalar, asir, golpear y destruir._x000D_\nAcorde con el programa de investigación del Instituto de Estudios Políticos de la Universidad de Antioquia, el trabajo del grupo de investigación se inscribe en un enfoque de las ciencias sociales y humanas que ha cuestionado la idea de política, de estado, de nación y de ciudadanía que subyace a esa perspectiva, y que invita a un descentramiento de tales nociones para poder describir, entender y explicar la experiencia de casos que no se ajustan al modelo normativo típico o clásico.  ",
       "TXT_OBJETIVOS": "Estudiar la guerra en sus múltiples significados, en sus concepciones filosóficas y teóricas, en sus dimensiones económicas, históricas y territoriales y en sus formas de manifestación en la nación y en las regiones colombianas. Se trata de conocer las particularidades, las dinámicas y las lógicas de la guerra en Colombia, analizar las interacciones existentes entre ésta y la economía, y estudiar el conjunto de relaciones de la guerra con los procesos sociales, económicos y políticos sobre los cuales se escenifica. _x000D_\nEn el desarrollo de sus proyectos de investigación, el grupo Hegemonía, Guerras y Conflictos se pregunta, entonces, por el significado de los conflictos armados en su relación con la acción política de los actores institucionales y no institucionales, en su relación con la gestión de lo público y el diseño de políticas por parte del Estado, y en su relación con las esferas, los procesos y las prácticas sociales y culturales de los actores que viven en los escenarios en los cuales ella tiene lugar. Igualmente, interesa indagar por los impactos de la guerra sobre los órdenes institucionales, los órdenes alternativos y los territorios de frontera que se construyen y deconstruyen a la luz de la confrontación._x000D_\n",
       "TXT_PLAN_TRABAJO": "En el contexto del Plan de Desarrollo del Instituto de Estudios Políticos y del  Plan Estratégico del Grupo se han definido, para los próximos dos años,  las siguientes tareas: _x000D_\n_x000D_\nEn el ámbito académico y científico: a) crear un banco de proyectos a partir de la inscripción de un mínimo de dos proyectos en cada una de las líneas de investigación, b) servir de apoyo para el desarrollo de monografías de la Maestría en Ciencia Política y del pregrado en ciencia política de la Universidad de Antioquia, c) reafirmar, ampliar y formalizar  los convenios de cooperación existentes con otros grupos de investigación y diseñar estrategias orientadas al desarrollo conjunto de proyectos, d) facilitar y apoyar los procesos de formación doctoral de algunos de los investigadores, e) ampliar el número de investigadores del grupo con jóvenes profesionales en vías de realizar maestrías o doctorados en las áreas disciplinares que el grupo necesita, f) vincular investigadores con nivel de doctorado (o en formación doctoral) al trabajo del grupo, por medio de pasantías, g) propiciar la participación de miembros del grupo en cursos y pasantías nacionales e internacionales, h) promover la publicación de resultados de investigación en la revista Estudios Políticos y en revistas indexadas  de carácter  nacional e internacional, i) realizar un coloquio al finalizar cada año para presentar los resultados de las investigaciones y/o los avances de las mismas, y k) ampliar la cobertura del programa de jóvenes investigadores. _x000D_\n_x000D_\nEn el ámbito organizacional y financiero: a) ampliar la planta de investigadores, b) adquirir nuevo material bibliográfico, y c) buscar recursos financieros para la investigación en instituciones científicas de carácter internacional como La Fundación Friedrich Ebert, la Fundación Konrad Adenauer, el Servicio Alemán de Intercambio Académico,  la Fundación Kellog, el Programa de Naciones Unidas para el Desarrollo, el Convenio Andrés Bello y la Agencia Española de Cooperac",
       "TXT_PROD_DESTACADA": "nan",
       "TXT_RETOS": "El principal reto del grupo en el mediano plazo es ser un grupo de referencia en el país y en América Latina. Para el logro de este propósito el grupo debe enfrentar los siguientes retos: _x000D_\na) consolidar las líneas de investigación existentes, _x000D_\nb) realizar un seminario internacional anual, _x000D_\nc) publicar al menos dos libros anuales con resultados de investigación, _x000D_\nd) consolidar su participación en el Consorcio para la Investigación Comparativa en Integración Regional y Cohesión Social (RISC) y, _x000D_\ne) lograr la categoría ¿A¿ en la clasificación de grupos de Colciencias.",
       "TXT_SUGERENCIAS": "nan",
       "TXT_VISION": "Durante los próximos años nos consolidaremos como un grupo de investigación de alta calidad académica, con una producción bibliográfica significativa, vinculado a redes nacionales e internacionales de reflexión y estudio, activo en la formación permanente de nuevos investigadores y partícipe del cumplimiento de la función social y académica de la Universidad de Antioquia.",
       "Unnamed: 0": 41,
       "XML_FICHA_RSM": "nan"
      },
      "text/plain": [
       "<IPython.core.display.JSON object>"
      ]
     },
     "execution_count": 171,
     "metadata": {
      "application/json": {
       "expanded": false,
       "root": "root"
      }
     },
     "output_type": "execute_result"
    },
    {
     "name": "stderr",
     "output_type": "stream",
     "text": [
      "/usr/local/lib/python3.9/dist-packages/jupyter_client/session.py:716: UserWarning: Message serialization failed with:\n",
      "Out of range float values are not JSON compliant\n",
      "Supporting this message is deprecated in jupyter-client 7, please make sure your message is JSON-compliant\n",
      "  content = self.pack(content)\n"
     ]
    }
   ],
   "source": [
    "G=GR[GR[\"NRO_ID_GRUPO\"]==gc_gr[\"NRO_ID_GRUPO\"]].iloc[0]\n",
    "JSON(G.to_dict())"
   ]
  },
  {
   "cell_type": "code",
   "execution_count": null,
   "id": "446bf107-e24c-4fc8-9f5e-2855fab121d0",
   "metadata": {},
   "outputs": [],
   "source": [
    "ac=sc.read_drive_excel('EN_AREA_CONOCIMIENTO.xlsx',dtype=dtype)"
   ]
  },
  {
   "cell_type": "code",
   "execution_count": 74,
   "id": "86d2b7cf-a909-4e2b-8f25-240c6f54cf05",
   "metadata": {},
   "outputs": [
    {
     "data": {
      "application/json": {
       "COD_AREA_CONOCIMIENTO": "5F01",
       "COD_AREA_CONOCIMIENTO_FULL": "5 - 5F - 5F01",
       "COD_AREA_PADRE": "5F",
       "COD_RH": "0000000000",
       "COD_RH_FULL": 0,
       "COD_RH_PADRE": 0,
       "DTA_ACTUALIZACION": "2013-11-15T11:42:07-05:00",
       "DTA_CREACION": "2013-10-31T00:00:00-05:00",
       "NRO_NIVEL": 2,
       "TPO_CAMBIO": "T",
       "TXT_NME_AREA": "Ciencias Políticas",
       "TXT_NME_AREA_FILTRO": "CIENCIAS POLITICAS",
       "TXT_NME_AREA_FULL": "Ciencias Sociales -- Ciencias Políticas -- Ciencias Políticas",
       "TXT_VERIFICADO": "T",
       "Unnamed: 0": 55
      },
      "text/plain": [
       "<IPython.core.display.JSON object>"
      ]
     },
     "execution_count": 74,
     "metadata": {
      "application/json": {
       "expanded": false,
       "root": "root"
      }
     },
     "output_type": "execute_result"
    }
   ],
   "source": [
    "JSON(ac[ac[\"COD_AREA_CONOCIMIENTO\"]==G[\"COD_AREA_CONHEC\"]].iloc[-1].to_dict())"
   ]
  },
  {
   "cell_type": "code",
   "execution_count": null,
   "id": "a576e66a-9b32-4358-bc47-9f96c38de88f",
   "metadata": {},
   "outputs": [],
   "source": [
    "JSON(ac[ac[\"COD_AREA_CONOCIMIENTO\"]==G[\"COD_AREA_CONHEC\"]].iloc[-1].to_dict())"
   ]
  },
  {
   "cell_type": "code",
   "execution_count": 79,
   "id": "72742569-1f97-42aa-a5ad-d63b8b2922ff",
   "metadata": {},
   "outputs": [],
   "source": [
    "df=sc.read_drive_excel('GRUPLAC_RE_GRUPO_INSTITUCION.xlsx',dtype=dtype)"
   ]
  },
  {
   "cell_type": "code",
   "execution_count": 85,
   "id": "d5c301da-15c6-4866-ad8c-46446ca8d368",
   "metadata": {},
   "outputs": [
    {
     "data": {
      "application/json": {
       "COD_INST": "007300000887",
       "COD_INST_DEP": 536,
       "DTA_ACTUALIZACION": "2019-06-08T10:23:19-05:00",
       "DTA_CREACION": "2009-06-09T11:40:06-05:00",
       "DTA_FIN": "NaT",
       "DTA_INICIO": "2009-06-09T11:40:06-05:00",
       "ES_RECONOCIDO": "T",
       "ID_GRUPO_INSTITUCION": 1,
       "ID_INSTITUCION": 883,
       "NRO_ID_GRUPO": "00000000007181",
       "NRO_IMPORTANCIA": 1,
       "Unnamed: 0": 892
      },
      "text/plain": [
       "<IPython.core.display.JSON object>"
      ]
     },
     "execution_count": 85,
     "metadata": {
      "application/json": {
       "expanded": false,
       "root": "root"
      }
     },
     "output_type": "execute_result"
    }
   ],
   "source": [
    "IT=df[df[\"NRO_ID_GRUPO\"]==gc_gr[\"NRO_ID_GRUPO\"]].iloc[-1]\n",
    "JSON(IT.to_dict())"
   ]
  },
  {
   "cell_type": "code",
   "execution_count": 84,
   "id": "9b4eac2a-209a-4972-bb22-6a18385564ec",
   "metadata": {},
   "outputs": [],
   "source": [
    "it=sc.read_drive_excel('EN_INSTITUCION.xlsx',dtype=dtype)"
   ]
  },
  {
   "cell_type": "code",
   "execution_count": 89,
   "id": "9359bdc8-e50e-44d2-b69f-1fb55a53873d",
   "metadata": {},
   "outputs": [
    {
     "data": {
      "application/json": {
       "COD_IES": 1201,
       "COD_INST": "007300000887",
       "COD_INST_MACRO": "007300000887",
       "COD_MUNICIPIO": 786,
       "COD_NIVEL": 1,
       "COD_RH_MUNICIPIO": "0000000000",
       "COD_SECTOR_ECON": 241,
       "COD_SECTOR_ECON2": 1011,
       "DTA_ACEPTA_TERMINOS": "2021-02-08T08:45:14.000000",
       "DTA_ACTUALIZACION": "2021-02-08T08:46:45.000000",
       "DTA_CONSTITUCION": "1964-05-30T00:00:00.000000",
       "DTA_CREACION": "2008-05-12T12:34:11.000000",
       "ID_INSTITUCION": 883,
       "ID_REPRESENTANTE": 4,
       "NME_INST": "UNIVERSIDAD DE ANTIOQUIA",
       "NME_INST_FILTRO": "UNIVERSIDAD DE ANTIOQUIA",
       "SGL_DEPARTAMENTO": "31",
       "SGL_INST": "UdeA",
       "SGL_PAIS": "1",
       "STA_EXPORTA": 12,
       "STA_TERMINOS_COND": "T",
       "TPO_AVAL": 1,
       "TPO_CARACTER": "nan",
       "TPO_CONTRIBUYENTE": 6,
       "TXT_APARTADO_AEREO": "nan",
       "TXT_CIUDAD_INST": "Medellín",
       "TXT_DIGITO_VERIFICADOR": "8",
       "TXT_DIRECCION": "Calle 67 53-10",
       "TXT_EMAIL": "viceinvestigacion@udea.edu.co",
       "TXT_FAX": "nan",
       "TXT_NIT": "890980040",
       "TXT_TELEFONO": " 4-2195190",
       "URL_HOME_PAGE": "http://www.udea.edu.co",
       "Unnamed: 0": 4653
      },
      "text/plain": [
       "<IPython.core.display.JSON object>"
      ]
     },
     "execution_count": 89,
     "metadata": {
      "application/json": {
       "expanded": false,
       "root": "root"
      }
     },
     "output_type": "execute_result"
    },
    {
     "name": "stderr",
     "output_type": "stream",
     "text": [
      "/usr/local/lib/python3.9/dist-packages/jupyter_client/session.py:716: UserWarning: Message serialization failed with:\n",
      "Out of range float values are not JSON compliant\n",
      "Supporting this message is deprecated in jupyter-client 7, please make sure your message is JSON-compliant\n",
      "  content = self.pack(content)\n"
     ]
    }
   ],
   "source": [
    "JSON(it[it[\"COD_INST\"]==IT[\"COD_INST\"]].iloc[-1].to_dict())"
   ]
  },
  {
   "cell_type": "code",
   "execution_count": null,
   "id": "de0c6417-5266-457b-8aab-24ee66975149",
   "metadata": {},
   "outputs": [],
   "source": [
    "INSTITULAC_EN_INSTITUCION.xlsx   = 1UQCM3ivjCFLwycRz_vCgBu7_NvYPTzIk\n",
    "GRUPLAC_RE_GRUPO_INSTITUCION.xlsx= 1PCpOZ5BFoMrA51syy9OL9grNUL6xmq7M\n",
    "GRUPLAC_EN_INSTITUCION.xlsx "
   ]
  },
  {
   "cell_type": "code",
   "execution_count": null,
   "id": "641ddbcd-4976-4c30-9735-8a215d906a14",
   "metadata": {},
   "outputs": [],
   "source": []
  },
  {
   "cell_type": "code",
   "execution_count": 42,
   "id": "60059fc3-61db-456b-b7c7-1236b7fd485f",
   "metadata": {},
   "outputs": [
    {
     "data": {
      "application/json": {
       "ANO_FORMACAO": 2002,
       "COD_AREA_CONHEC": "1F",
       "COD_AREA_CONHEC_BK": "1F",
       "COD_CERTIFICACION": "COL007870420121104530",
       "COD_GRAN_AREA_CONHEC_MED": 1,
       "COD_ID_GRUPO": "COL0078704",
       "COD_PROGRAMA": 6,
       "COD_PROGRAMA_SECUND": 0,
       "COD_RH_AREA": 0,
       "DTA_ACTUALIZACION": "2019-10-08T18:51:41-05:00",
       "DTA_CERTIFICADO": "2012-11-04T00:00:00-05:00",
       "DTA_CREACION": "2008-04-24T13:23:04-05:00",
       "DTA_INI_SESION": "2018-06-19T09:41:40-05:00",
       "MES_FORMACAO": 7,
       "NME_GRUPO": "Grupo de Ictiología",
       "NME_GRUPO_FILTRO": "GRUPO DE ICTIOLOGIA",
       "NRO_ID_GRUPO": "00000000007147",
       "STA_ACTIVO": "A",
       "STA_CENTRO": "F",
       "STA_CERTIFICADO": "T",
       "STA_ELIMINADO": "F",
       "STA_SECTOR": "F",
       "TPO_ESTADO_GR": 0,
       "TPO_GRUPO": "F",
       "TXT_ESTADO_ARTE": "Los peces es el grupo de vertebrados más numeroso. El último conteo realizado por Nelson (2006) indicó que se conocen a nivel mundial poco menos que 28000 especies de peces incluidas en 62 órdenes y 515 familias. En Colombia se han reportado cerca de 3500 especies de peces (44% dulceacuícolas, 65% marinas y 1% diadromas), sin embargo, aún existen muchas áreas del país que carecen de inventarios sistemáticos y poco se conoce sobre sus condiciones actuales._x000D_\n_x000D_\nNuestro conocimiento de la diversidad de peces colombianos ha venido creciendo en los últimos años. En las aguas dulces, desde el trabajo de Fowler (1942) el cuál registraba un total de 387 especies para el país, hasta la cifra más reciente de 1357 especies (Maldonado 2006). En ambientes marinos, el INVEMAR reporta para el Caribe colombiano alrededor de 900 especies de peces y, en el pacífico, aunque el esfuerzo investigativo ha sido menor, se contabilizan 771 especies (Arboleda 2002, Santodomingo et al, 2003)._x000D_\n_x000D_\nMaldonado et al., (2006) comparan el desarrollo de la ictiología nacional con la de países vecinos como Brasil, actualmente referencia obligada en el estudio de peces Neotropicales, son muchos los retos por asumir. Según sus cifras, en los últimos 10 años para Brasil se han descrito 341 nuevas especies, una tasa de 34,1 especies por año, registrando una riqueza nacional de 2309 especies de peces dulceacuícolas. Para el mismo periodo de tiempo, en Colombia se ha descrito un total de 37 nuevas especies, 3,7 especies por año. Por lo anterior, se requiere que exista un mayor apoyo al desarrollo de la investigación en ictiología en el país, que permita incrementar la masa crítica especializada en el estudio de estos recursos en sus múltiples facetas._x000D_\n_x000D_\nLa investigación en peces de Colombia, es joven, si se compara con la de países de otras latitudes. Lo poco que se conocía acerca de su diversidad hasta comienzos de la década de 1970, era producto de la esporádica actividad investigativa realizada por espec",
       "TXT_OBJETIVOS": "OBJETIVOS GENERALES DEL GRUPO_x000D_\n_x000D_\nDeterminar la riqueza de especies ícticas en los ambientes acuáticos Colombianos y su distribución geográfica._x000D_\n_x000D_\nComprender los diferentes procesos que definen la variabilidad en el ensamble de especies de peces y, las estrategias que desarrollan sus poblaciones para mantenerse y explorar el medio acuático._x000D_\n_x000D_\nAnalizar el uso actual de la ictiofauna y el impacto que sobre ella se ha generado._x000D_\n_x000D_\nBrindar elementos para el uso, manejo y conservación de la ictiofauna colombiana._x000D_\n_x000D_\nFormar estudiantes de pre y postgrado en el abordaje taxonómico, sistemático y ecológico de la comunidad de peces._x000D_\n_x000D_\nDivulgar los resultados a través de la participación en seminarios, congresos, actividades académicas regulares de la Universidad de Antioquia (pregrado y postgrado) y publicaciones de artículos de carácter científico y divulgativo en revistas nacionales e internacionales._x000D_\n_x000D_\nApoyar a las entidades del Estado Colombiano en su gestión de los recursos pesqueros dulceacuícolas.",
       "TXT_PLAN_TRABAJO": "El Grupo de Ictiología de la Universidad de Antioquía (GIUA) reúne los intereses de personas en el estudio de los peces colombianos. Fue formado en el año 2002 y sus líneas de trabajo se han concentrado en tres ejes fundamentales:_x000D_\n_x000D_\n-Investigación: Ecología (distribución, reproducción, alimentación, ictioplancton) y pesca en los sistemas de agua dulce colombianos._x000D_\n_x000D_\n-Docencia: Ictiología, métodos para el estudio de la ecología en peces, biología de vertebrados, asesoría a estudiantes._x000D_\n_x000D_\n-Extensión: Apoyo a las entidades del Estado Colombiano en la gestión de los recursos pesqueros dulceacuícolas, Monitoreo a la ictiofauna y a la actividad pesquera, estudios de impacto ambiental, asesorías, análisis de contenidos estomacales, determinación de ejemplares._x000D_\n_x000D_\n",
       "TXT_RETOS": "Encontrar respuestas que permitan comprender los diferentes procesos que definen la variavilidad en el ensamble de especies de peces y, las estrategias que desarrollan sus poblaciones para mantenerse y explorar el medio acuático._x000D_\n_x000D_\nContribuir al estudio de la ictiología en Colombia._x000D_\n_x000D_\nContribuir al conocimiento y la investigación científica y técnica de los recursos ícticos de zonas bajas y de montaña._x000D_\n_x000D_\nPromover un programa de académico de investigación en ictiología neotropical._x000D_\n_x000D_\nDar pautas para el uso, manejo y conservación de los ambientes acuáticos y sus recursos pesqueros.\t_x000D_\n_x000D_\n_x000D_\n",
       "TXT_VISION": "Nuestra visión es hacer investigación que permita brindar los elementos necesarios para apoyar la protección y manejo adecuado de la ictiofauna tomando en consideración su importancia ecológica y su papel fundamental en la pesca continental.",
       "Unnamed: 0": 109
      },
      "text/plain": [
       "<IPython.core.display.JSON object>"
      ]
     },
     "execution_count": 42,
     "metadata": {
      "application/json": {
       "expanded": false,
       "root": "root"
      }
     },
     "output_type": "execute_result"
    }
   ],
   "source": [
    "JSON(GR[GR[\"NRO_ID_GRUPO\"]==\"00000000007147\"].iloc[0].dropna().to_dict())"
   ]
  },
  {
   "cell_type": "markdown",
   "id": "f9fd9859-ad5d-415a-9526-f438d4dcd7aa",
   "metadata": {},
   "source": [
    "https://scienti.minciencias.gov.co/cvlac/visualizador/generarCurriculoCv.do?cod_rh=0001245449\n",
    "\n",
    "__Generación de contenido multimedia__\n",
    "* Producción técnica - Multimedia - Entrevista\n",
    "  * DEIMAN CUARTAS CELIS, El TLC con la Unión Europea . En: Colombia,  ,2010,  .Emisora: Sistema de Radio Educativa de la Universidad de Antioquia  ,60 minutos \n",
    "  * Areas: Ciencias Sociales -- Economía y Negocios -- Economía,\n",
    "  * Sectores: Educación - Educación superior,"
   ]
  },
  {
   "cell_type": "code",
   "execution_count": null,
   "id": "1bee1294-a701-459d-ac11-0120699a00a2",
   "metadata": {},
   "outputs": [],
   "source": [
    "kk=df[( (df['COD_RH']==gc_gr['COD_RH']) & (df['COD_PRODUCTO']==gc_gr['COD_PRODUCTO']) )][\n",
    "    ['COD_RH','COD_PRODUCTO','TXT_NME_PROD','table']]\n",
    "kk"
   ]
  },
  {
   "cell_type": "code",
   "execution_count": null,
   "id": "d06d3a63-8f37-4dc2-acc8-1a5e2a637c7b",
   "metadata": {},
   "outputs": [],
   "source": [
    "df.loc[kk.index[-1]].dropna()"
   ]
  },
  {
   "cell_type": "markdown",
   "id": "246715d7-ff9a-4c19-ad4f-875f9cb0086d",
   "metadata": {
    "jp-MarkdownHeadingCollapsed": true,
    "tags": []
   },
   "source": [
    "### GC_I-EX"
   ]
  },
  {
   "cell_type": "code",
   "execution_count": null,
   "id": "2d2cc923-326a-465f-8948-18b61a69458e",
   "metadata": {},
   "outputs": [],
   "source": [
    "i+=1"
   ]
  },
  {
   "cell_type": "code",
   "execution_count": 139,
   "id": "10828d3a-6e5b-4e41-b1be-6461cd0b24cb",
   "metadata": {},
   "outputs": [
    {
     "name": "stdout",
     "output_type": "stream",
     "text": [
      "==================GC_I-EX====================\n",
      "******************** GrupLAC COL0001262 ********************\n",
      "Unnamed: 0                                                          1301\n",
      "NRO_ID_GRUPO                                              00000000001787\n",
      "SEQ_PRODUCTO                                                       32015\n",
      "COD_RH                                                        0001212788\n",
      "COD_PRODUCTO                                                          10\n",
      "DTA_VINCULACION                                      2014-12-04 09:43:28\n",
      "STA_HUERFANO                                                           F\n",
      "COD_TIPO_PRODUCTO                                                    2P1\n",
      "TXT_NME_PROD           La rickettsiosis: una infección mortal transmi...\n",
      "TXT_NME_PROD_FILTRO    LA RICKETTSIOSIS UNA INFECCION MORTAL TRANSMIT...\n",
      "NRO_ANO_PRESENTA                                                  2013.0\n",
      "NRO_MES_PRESENTA                                                      11\n",
      "DTA_CREACION                                         2014-12-04 09:43:28\n",
      "DTA_ACTUALIZACION                                    2017-09-25 16:18:34\n",
      "NRO_PATENTES                                                           0\n",
      "NRO_SECRETOS                                                           0\n",
      "STA_MEDIDO                                                             T\n",
      "NRO_REGISTROS                                                          0\n",
      "NRO_ARTISTICAS_DET                                                     0\n",
      "SGL_CATEGORIA                                                    GC_I-EX\n",
      "Name: 1301, dtype: object\n",
      "******************** CvLAC ********************\n",
      "Unnamed: 0                                                          153775\n",
      "COD_RH                                                          0001212788\n",
      "COD_PRODUCTO                                                            10\n",
      "TXT_NME_PROD             La rickettsiosis: una infección mortal transmi...\n",
      "TXT_NME_PROD_FILTRO      LA RICKETTSIOSIS UNA INFECCION MORTAL TRANSMIT...\n",
      "COD_TIPO_PRODUCTO                                                      2P1\n",
      "NRO_ANO_PRESENTA                                                    2013.0\n",
      "NRO_MES_PRESENTA                                                      11.0\n",
      "TXT_WEB_PRODUCTO          https://www.dropbox.com/l/yErHBUyDsYSJa5nvDGIXPr\n",
      "TPO_MEDIO_DIVULGACION                                                    E\n",
      "DTA_CREACION                                           2014-01-07 08:44:46\n",
      "DTA_ACTUALIZACION                                      2017-05-11 16:44:15\n",
      "NRO_PATENTES                                                             0\n",
      "NRO_SECRETOS                                                             0\n",
      "NRO_REGISTROS                                                            0\n",
      "TPO_AVAL_INST                                                            T\n",
      "CAT_MED                                                            GC_I-EX\n",
      "SGL_CATEGORIA                                                      GC_I-EX\n",
      "NRO_ARTISTICAS_DET                                                       0\n",
      "Name: 153775, dtype: object\n"
     ]
    }
   ],
   "source": [
    "C=gc['SGL_CATEGORIA'].reset_index().loc[i,'SGL_CATEGORIA']\n",
    "if True:\n",
    "    gc_gr=gc[gc['SGL_CATEGORIA']==C].iloc[0]    \n",
    "    print(f'=================={C}====================')\n",
    "    print('*'*20,'GrupLAC',GR[GR['NRO_ID_GRUPO']==gc_gr['NRO_ID_GRUPO']].iloc[-1]['COD_ID_GRUPO'],'*'*20)\n",
    "    print(gc_gr.dropna())\n",
    "    print('*'*20,'CvLAC','*'*20)\n",
    "    gc_cv=cv[ ( (cv['COD_RH']==gc_gr['COD_RH']) & (cv['COD_PRODUCTO']==gc_gr['COD_PRODUCTO']) )].iloc[0]\n",
    "    print(gc_cv.dropna())\n",
    "    i+=1"
   ]
  },
  {
   "cell_type": "code",
   "execution_count": 140,
   "id": "9a54718d-cc5d-4917-952d-684d8b276bac",
   "metadata": {},
   "outputs": [
    {
     "data": {
      "text/html": [
       "<div>\n",
       "<style scoped>\n",
       "    .dataframe tbody tr th:only-of-type {\n",
       "        vertical-align: middle;\n",
       "    }\n",
       "\n",
       "    .dataframe tbody tr th {\n",
       "        vertical-align: top;\n",
       "    }\n",
       "\n",
       "    .dataframe thead th {\n",
       "        text-align: right;\n",
       "    }\n",
       "</style>\n",
       "<table border=\"1\" class=\"dataframe\">\n",
       "  <thead>\n",
       "    <tr style=\"text-align: right;\">\n",
       "      <th></th>\n",
       "      <th>COD_RH</th>\n",
       "      <th>COD_PRODUCTO</th>\n",
       "      <th>TXT_NME_PROD</th>\n",
       "      <th>table</th>\n",
       "    </tr>\n",
       "  </thead>\n",
       "  <tbody>\n",
       "    <tr>\n",
       "      <th>153775</th>\n",
       "      <td>0001212788</td>\n",
       "      <td>10</td>\n",
       "      <td>La rickettsiosis: una infección mortal transmi...</td>\n",
       "      <td>EN_PRODUCTO</td>\n",
       "    </tr>\n",
       "    <tr>\n",
       "      <th>508788</th>\n",
       "      <td>0001212788</td>\n",
       "      <td>10</td>\n",
       "      <td>NaN</td>\n",
       "      <td>EN_PROD_TECNICA</td>\n",
       "    </tr>\n",
       "    <tr>\n",
       "      <th>1264196</th>\n",
       "      <td>0001212788</td>\n",
       "      <td>10</td>\n",
       "      <td>NaN</td>\n",
       "      <td>EN_PROD_TECNOLOGICO</td>\n",
       "    </tr>\n",
       "  </tbody>\n",
       "</table>\n",
       "</div>"
      ],
      "text/plain": [
       "             COD_RH COD_PRODUCTO  \\\n",
       "153775   0001212788           10   \n",
       "508788   0001212788           10   \n",
       "1264196  0001212788           10   \n",
       "\n",
       "                                              TXT_NME_PROD  \\\n",
       "153775   La rickettsiosis: una infección mortal transmi...   \n",
       "508788                                                 NaN   \n",
       "1264196                                                NaN   \n",
       "\n",
       "                       table  \n",
       "153775           EN_PRODUCTO  \n",
       "508788       EN_PROD_TECNICA  \n",
       "1264196  EN_PROD_TECNOLOGICO  "
      ]
     },
     "execution_count": 140,
     "metadata": {},
     "output_type": "execute_result"
    }
   ],
   "source": [
    "kk=df[( (df['COD_RH']==gc_gr['COD_RH']) & (df['COD_PRODUCTO']==gc_gr['COD_PRODUCTO']) )][\n",
    "    ['COD_RH','COD_PRODUCTO','TXT_NME_PROD','table']]\n",
    "kk"
   ]
  },
  {
   "cell_type": "code",
   "execution_count": 141,
   "id": "837f4230-2c99-4ddd-a7f7-e057a588588f",
   "metadata": {},
   "outputs": [
    {
     "data": {
      "text/plain": [
       "Unnamed: 0                       11139.0\n",
       "COD_RH                        0001212788\n",
       "COD_PRODUCTO                          10\n",
       "DTA_CREACION         2014-01-07 08:44:46\n",
       "DTA_ACTUALIZACION    2016-01-20 10:12:28\n",
       "table                    EN_PROD_TECNICA\n",
       "Name: 508788, dtype: object"
      ]
     },
     "execution_count": 141,
     "metadata": {},
     "output_type": "execute_result"
    }
   ],
   "source": [
    "df.loc[kk.index[-2]].dropna()"
   ]
  },
  {
   "cell_type": "code",
   "execution_count": 142,
   "id": "b077e359-5a51-4a6c-a416-dd3c474237b2",
   "metadata": {},
   "outputs": [
    {
     "data": {
      "text/plain": [
       "Unnamed: 0                                              694.0\n",
       "COD_RH                                             0001212788\n",
       "COD_PRODUCTO                                               10\n",
       "DTA_CREACION                              2014-01-07 08:44:46\n",
       "DTA_ACTUALIZACION                         2014-11-18 10:15:17\n",
       "table                                     EN_PROD_TECNOLOGICO\n",
       "TXT_MAT_EMPLEADO     Universidad de Antioquia. Grupo Centauro\n",
       "TPO_AMBITO                                                  N\n",
       "DTA_PRESENTACION                          2013-11-01 00:00:00\n",
       "Name: 1264196, dtype: object"
      ]
     },
     "execution_count": 142,
     "metadata": {},
     "output_type": "execute_result"
    }
   ],
   "source": [
    "df.loc[kk.index[-1]].dropna()"
   ]
  },
  {
   "cell_type": "markdown",
   "id": "c3a0bc7b-55f8-45a0-a99f-0cab1044af41",
   "metadata": {
    "jp-MarkdownHeadingCollapsed": true,
    "tags": []
   },
   "source": [
    "### GC_M-00"
   ]
  },
  {
   "cell_type": "code",
   "execution_count": 143,
   "id": "dc8786ca-1a84-4656-b29e-7119f21dcb5c",
   "metadata": {},
   "outputs": [
    {
     "name": "stdout",
     "output_type": "stream",
     "text": [
      "==================GC_M-00====================\n",
      "******************** GrupLAC COL0012426 ********************\n",
      "Unnamed: 0                                                              1997\n",
      "NRO_ID_GRUPO                                                  00000000001755\n",
      "SEQ_PRODUCTO                                                            4248\n",
      "COD_RH                                                            0000087629\n",
      "COD_PRODUCTO                                                           30181\n",
      "DTA_VINCULACION                                          2008-10-17 10:57:57\n",
      "STA_HUERFANO                                                               F\n",
      "COD_TIPO_PRODUCTO                                                        2H9\n",
      "COD_TIPO_PRODUCTO_MDCN                                                   116\n",
      "NRO_IND_EXISTENCIA_MDCN                                                  0.0\n",
      "TXT_NME_PROD               Impacto del sistema inmune en la calidad de vi...\n",
      "TXT_NME_PROD_FILTRO        IMPACTO DEL SISTEMA INMUNE EN LA CALIDAD DE VI...\n",
      "SGL_PAIS                                                                 COL\n",
      "NRO_ANO_PRESENTA                                                      1999.0\n",
      "NRO_MES_PRESENTA                                                           1\n",
      "STA_VENTANA                                                              0.0\n",
      "DTA_CREACION                                             2008-10-17 10:57:57\n",
      "DTA_ACTUALIZACION                                        2017-09-25 16:14:47\n",
      "NRO_PATENTES                                                               0\n",
      "NRO_SECRETOS                                                               0\n",
      "COD_UNO_MDCN                                                             116\n",
      "TXT_COMPLEMENTARIO                                                     Video\n",
      "STA_MEDIDO                                                                 T\n",
      "NRO_REGISTROS                                                              0\n",
      "NRO_ARTISTICAS_DET                                                         0\n",
      "SGL_CATEGORIA                                                        GC_M-00\n",
      "Name: 1997, dtype: object\n",
      "******************** CvLAC ********************\n",
      "Unnamed: 0                                                             25058\n",
      "COD_RH                                                            0000087629\n",
      "COD_PRODUCTO                                                           30181\n",
      "TXT_NME_PROD               Impacto del sistema inmune en la calidad de vi...\n",
      "TXT_NME_PROD_FILTRO        IMPACTO DEL SISTEMA INMUNE EN LA CALIDAD DE VI...\n",
      "TXT_OBSERV_PROD            No modifique las etiquetas (títulos o pregunta...\n",
      "SGL_IDIOMA                                                                ES\n",
      "COD_TIPO_PRODUCTO                                                        2H9\n",
      "TXT_COMPLEMENTARIO                                                     Video\n",
      "COD_TIPO_PRODUCTO_MDCN                                                   116\n",
      "SGL_PAIS                                                                 COL\n",
      "NRO_ANO_PRESENTA                                                      1999.0\n",
      "NRO_MES_PRESENTA                                                         1.0\n",
      "NRO_IND_EXISTENCIA_MDCN                                                  0.0\n",
      "TXT_IND_CALIDAD_MDCN                                                       0\n",
      "TPO_MEDIO_DIVULGACION                                                      H\n",
      "STA_RELEVANCIA                                                             F\n",
      "DTA_CREACION                                             2007-06-01 18:33:06\n",
      "DTA_ACTUALIZACION                                        2017-05-11 16:38:58\n",
      "STA_VENTANA                                                              0.0\n",
      "NRO_PATENTES                                                               0\n",
      "NRO_SECRETOS                                                               0\n",
      "COD_UNO_MDCN                                                             116\n",
      "STA_VENTANA_2                                                            0.0\n",
      "TXT_IND_CALIDAD_MDCN_2                                                     0\n",
      "TIPO_PRODUCTO_MDCN                                                         C\n",
      "TIPO_PRODUCTO_MDCN_2                                                       D\n",
      "NRO_REGISTROS                                                              0\n",
      "TPO_AVAL_INST                                                              T\n",
      "CAT_MED                                                              GC_M-00\n",
      "SGL_CATEGORIA                                                        GC_M-00\n",
      "NRO_ARTISTICAS_DET                                                         0\n",
      "Name: 25058, dtype: object\n"
     ]
    }
   ],
   "source": [
    "C=gc['SGL_CATEGORIA'].reset_index().loc[i,'SGL_CATEGORIA']\n",
    "if True:\n",
    "    gc_gr=gc[gc['SGL_CATEGORIA']==C].iloc[0]    \n",
    "    print(f'=================={C}====================')\n",
    "    print('*'*20,'GrupLAC',GR[GR['NRO_ID_GRUPO']==gc_gr['NRO_ID_GRUPO']].iloc[-1]['COD_ID_GRUPO'],'*'*20)\n",
    "    print(gc_gr.dropna())\n",
    "    print('*'*20,'CvLAC','*'*20)\n",
    "    gc_cv=cv[ ( (cv['COD_RH']==gc_gr['COD_RH']) & (cv['COD_PRODUCTO']==gc_gr['COD_PRODUCTO']) )].iloc[0]\n",
    "    print(gc_cv.dropna())\n",
    "    i+=1"
   ]
  },
  {
   "cell_type": "code",
   "execution_count": 144,
   "id": "69e45667-52ff-40fd-880d-170abf9798dc",
   "metadata": {},
   "outputs": [
    {
     "name": "stdout",
     "output_type": "stream",
     "text": [
      "==================GC_V-00====================\n",
      "******************** GrupLAC COL0011456 ********************\n",
      "Unnamed: 0                                                             2146\n",
      "NRO_ID_GRUPO                                                 00000000001859\n",
      "SEQ_PRODUCTO                                                           3020\n",
      "COD_RH                                                           0000162442\n",
      "COD_PRODUCTO                                                             45\n",
      "DTA_VINCULACION                                         2008-10-19 17:53:56\n",
      "STA_HUERFANO                                                              F\n",
      "COD_TIPO_PRODUCTO                                                       2Q1\n",
      "NRO_IND_EXISTENCIA_MDCN                                                 0.0\n",
      "TXT_NME_PROD               Página web para el curso Teoría de la traducción\n",
      "TXT_NME_PROD_FILTRO        PAGINA WEB PARA EL CURSO TEORIA DE LA TRADUCCION\n",
      "SGL_PAIS                                                                COL\n",
      "NRO_ANO_PRESENTA                                                     2002.0\n",
      "NRO_MES_PRESENTA                                                          1\n",
      "STA_VENTANA                                                             0.0\n",
      "DTA_CREACION                                            2008-10-19 17:53:56\n",
      "DTA_ACTUALIZACION                                       2017-09-25 16:15:15\n",
      "NRO_PATENTES                                                              0\n",
      "NRO_SECRETOS                                                              0\n",
      "TXT_COMPLEMENTARIO                                               página web\n",
      "STA_MEDIDO                                                                T\n",
      "NRO_REGISTROS                                                             0\n",
      "NRO_ARTISTICAS_DET                                                        0\n",
      "SGL_CATEGORIA                                                       GC_V-00\n",
      "Name: 2146, dtype: object\n",
      "******************** CvLAC ********************\n",
      "Unnamed: 0                                                             80635\n",
      "COD_RH                                                            0000162442\n",
      "COD_PRODUCTO                                                              45\n",
      "TXT_NME_PROD                Página web para el curso Teoría de la traducción\n",
      "TXT_NME_PROD_FILTRO         PAGINA WEB PARA EL CURSO TEORIA DE LA TRADUCCION\n",
      "TXT_OBSERV_PROD            No modifique las etiquetas (títulos o pregunta...\n",
      "SGL_IDIOMA                                                                ES\n",
      "COD_TIPO_PRODUCTO                                                        2Q1\n",
      "TXT_COMPLEMENTARIO                                                página web\n",
      "SGL_PAIS                                                                 COL\n",
      "NRO_ANO_PRESENTA                                                      2002.0\n",
      "NRO_MES_PRESENTA                                                         1.0\n",
      "TXT_WEB_PRODUCTO                 http://huitoto.udea.edu.co/TeoriaTraducción\n",
      "NRO_IND_EXISTENCIA_MDCN                                                  0.0\n",
      "TXT_IND_CALIDAD_MDCN                                                       0\n",
      "TPO_MEDIO_DIVULGACION                                                      H\n",
      "STA_RELEVANCIA                                                             T\n",
      "DTA_CREACION                                             2008-10-19 17:53:56\n",
      "DTA_ACTUALIZACION                                        2017-05-11 16:41:38\n",
      "STA_VENTANA                                                              0.0\n",
      "NRO_PATENTES                                                               0\n",
      "NRO_SECRETOS                                                               0\n",
      "STA_VENTANA_2                                                            1.0\n",
      "TXT_IND_CALIDAD_MDCN_2                                                     0\n",
      "NRO_REGISTROS                                                              0\n",
      "DTA_AVAL_INST                                            2016-03-10 17:30:10\n",
      "TPO_AVAL_INST                                                              T\n",
      "COD_INST_AVALA                                                  7300000887.0\n",
      "ID_USUARIO_AVAL                                                        145.0\n",
      "CAT_MED                                                              GC_V-00\n",
      "SGL_CATEGORIA                                                        GC_V-00\n",
      "NRO_ARTISTICAS_DET                                                         0\n",
      "Name: 80635, dtype: object\n"
     ]
    }
   ],
   "source": [
    "C=gc['SGL_CATEGORIA'].reset_index().loc[i,'SGL_CATEGORIA']\n",
    "if True:\n",
    "    gc_gr=gc[gc['SGL_CATEGORIA']==C].iloc[0]    \n",
    "    print(f'=================={C}====================')\n",
    "    print('*'*20,'GrupLAC',GR[GR['NRO_ID_GRUPO']==gc_gr['NRO_ID_GRUPO']].iloc[-1]['COD_ID_GRUPO'],'*'*20)\n",
    "    print(gc_gr.dropna())\n",
    "    print('*'*20,'CvLAC','*'*20)\n",
    "    gc_cv=cv[ ( (cv['COD_RH']==gc_gr['COD_RH']) & (cv['COD_PRODUCTO']==gc_gr['COD_PRODUCTO']) )].iloc[0]\n",
    "    print(gc_cv.dropna())\n",
    "    i+=1"
   ]
  },
  {
   "cell_type": "code",
   "execution_count": 145,
   "id": "7f60a864-ec63-4f57-bba1-41d7ae0eb40f",
   "metadata": {},
   "outputs": [
    {
     "data": {
      "text/html": [
       "<div>\n",
       "<style scoped>\n",
       "    .dataframe tbody tr th:only-of-type {\n",
       "        vertical-align: middle;\n",
       "    }\n",
       "\n",
       "    .dataframe tbody tr th {\n",
       "        vertical-align: top;\n",
       "    }\n",
       "\n",
       "    .dataframe thead th {\n",
       "        text-align: right;\n",
       "    }\n",
       "</style>\n",
       "<table border=\"1\" class=\"dataframe\">\n",
       "  <thead>\n",
       "    <tr style=\"text-align: right;\">\n",
       "      <th></th>\n",
       "      <th>Unnamed: 0</th>\n",
       "      <th>COD_TIPO_PRODUCTO</th>\n",
       "      <th>TXT_NME_TIPO_PRODUCTO</th>\n",
       "      <th>NRO_NIVEL</th>\n",
       "      <th>COD_TIPO_PRODUCTO_PADRE</th>\n",
       "      <th>STA_ACTIVO</th>\n",
       "      <th>TPO_CLASE</th>\n",
       "    </tr>\n",
       "  </thead>\n",
       "  <tbody>\n",
       "    <tr>\n",
       "      <th>268</th>\n",
       "      <td>268</td>\n",
       "      <td>2Q</td>\n",
       "      <td>Contenido Virtual</td>\n",
       "      <td>1</td>\n",
       "      <td>2</td>\n",
       "      <td>T</td>\n",
       "      <td>ASC</td>\n",
       "    </tr>\n",
       "    <tr>\n",
       "      <th>269</th>\n",
       "      <td>269</td>\n",
       "      <td>2Q1</td>\n",
       "      <td>Página web</td>\n",
       "      <td>2</td>\n",
       "      <td>2Q</td>\n",
       "      <td>T</td>\n",
       "      <td>ASC</td>\n",
       "    </tr>\n",
       "    <tr>\n",
       "      <th>270</th>\n",
       "      <td>270</td>\n",
       "      <td>2Q2</td>\n",
       "      <td>Portal</td>\n",
       "      <td>2</td>\n",
       "      <td>2Q</td>\n",
       "      <td>T</td>\n",
       "      <td>ASC</td>\n",
       "    </tr>\n",
       "    <tr>\n",
       "      <th>271</th>\n",
       "      <td>271</td>\n",
       "      <td>2Q3</td>\n",
       "      <td>Micrositio</td>\n",
       "      <td>2</td>\n",
       "      <td>2Q</td>\n",
       "      <td>T</td>\n",
       "      <td>ASC</td>\n",
       "    </tr>\n",
       "    <tr>\n",
       "      <th>272</th>\n",
       "      <td>272</td>\n",
       "      <td>2Q4</td>\n",
       "      <td>Aplicativo</td>\n",
       "      <td>2</td>\n",
       "      <td>2Q</td>\n",
       "      <td>T</td>\n",
       "      <td>ASC</td>\n",
       "    </tr>\n",
       "    <tr>\n",
       "      <th>273</th>\n",
       "      <td>273</td>\n",
       "      <td>2Q5</td>\n",
       "      <td>Blog</td>\n",
       "      <td>2</td>\n",
       "      <td>2Q</td>\n",
       "      <td>T</td>\n",
       "      <td>ASC</td>\n",
       "    </tr>\n",
       "    <tr>\n",
       "      <th>328</th>\n",
       "      <td>328</td>\n",
       "      <td>2Q6</td>\n",
       "      <td>Otro</td>\n",
       "      <td>2</td>\n",
       "      <td>2Q</td>\n",
       "      <td>T</td>\n",
       "      <td>ASC</td>\n",
       "    </tr>\n",
       "  </tbody>\n",
       "</table>\n",
       "</div>"
      ],
      "text/plain": [
       "     Unnamed: 0 COD_TIPO_PRODUCTO TXT_NME_TIPO_PRODUCTO  NRO_NIVEL  \\\n",
       "268         268                2Q     Contenido Virtual          1   \n",
       "269         269               2Q1            Página web          2   \n",
       "270         270               2Q2                Portal          2   \n",
       "271         271               2Q3            Micrositio          2   \n",
       "272         272               2Q4            Aplicativo          2   \n",
       "273         273               2Q5                  Blog          2   \n",
       "328         328               2Q6                  Otro          2   \n",
       "\n",
       "    COD_TIPO_PRODUCTO_PADRE STA_ACTIVO TPO_CLASE  \n",
       "268                       2          T       ASC  \n",
       "269                      2Q          T       ASC  \n",
       "270                      2Q          T       ASC  \n",
       "271                      2Q          T       ASC  \n",
       "272                      2Q          T       ASC  \n",
       "273                      2Q          T       ASC  \n",
       "328                      2Q          T       ASC  "
      ]
     },
     "execution_count": 145,
     "metadata": {},
     "output_type": "execute_result"
    }
   ],
   "source": [
    "tp[tp['COD_TIPO_PRODUCTO'].str.contains('^2Q')]"
   ]
  },
  {
   "cell_type": "code",
   "execution_count": 146,
   "id": "14453ca1-3b2f-4211-bd39-4e1b972df9e8",
   "metadata": {},
   "outputs": [
    {
     "data": {
      "text/html": [
       "<div>\n",
       "<style scoped>\n",
       "    .dataframe tbody tr th:only-of-type {\n",
       "        vertical-align: middle;\n",
       "    }\n",
       "\n",
       "    .dataframe tbody tr th {\n",
       "        vertical-align: top;\n",
       "    }\n",
       "\n",
       "    .dataframe thead th {\n",
       "        text-align: right;\n",
       "    }\n",
       "</style>\n",
       "<table border=\"1\" class=\"dataframe\">\n",
       "  <thead>\n",
       "    <tr style=\"text-align: right;\">\n",
       "      <th></th>\n",
       "      <th>COD_RH</th>\n",
       "      <th>COD_PRODUCTO</th>\n",
       "      <th>TXT_NME_PROD</th>\n",
       "      <th>table</th>\n",
       "    </tr>\n",
       "  </thead>\n",
       "  <tbody>\n",
       "    <tr>\n",
       "      <th>80635</th>\n",
       "      <td>0000162442</td>\n",
       "      <td>45</td>\n",
       "      <td>Página web para el curso Teoría de la traducción</td>\n",
       "      <td>EN_PRODUCTO</td>\n",
       "    </tr>\n",
       "    <tr>\n",
       "      <th>503052</th>\n",
       "      <td>0000162442</td>\n",
       "      <td>45</td>\n",
       "      <td>NaN</td>\n",
       "      <td>EN_PROD_TECNICA</td>\n",
       "    </tr>\n",
       "    <tr>\n",
       "      <th>1268518</th>\n",
       "      <td>0000162442</td>\n",
       "      <td>45</td>\n",
       "      <td>NaN</td>\n",
       "      <td>EN_PROD_TECNOLOGICO</td>\n",
       "    </tr>\n",
       "  </tbody>\n",
       "</table>\n",
       "</div>"
      ],
      "text/plain": [
       "             COD_RH COD_PRODUCTO  \\\n",
       "80635    0000162442           45   \n",
       "503052   0000162442           45   \n",
       "1268518  0000162442           45   \n",
       "\n",
       "                                             TXT_NME_PROD                table  \n",
       "80635    Página web para el curso Teoría de la traducción          EN_PRODUCTO  \n",
       "503052                                                NaN      EN_PROD_TECNICA  \n",
       "1268518                                               NaN  EN_PROD_TECNOLOGICO  "
      ]
     },
     "execution_count": 146,
     "metadata": {},
     "output_type": "execute_result"
    }
   ],
   "source": [
    "kk=df[( (df['COD_RH']==gc_gr['COD_RH']) & (df['COD_PRODUCTO']==gc_gr['COD_PRODUCTO']) )][\n",
    "    ['COD_RH','COD_PRODUCTO','TXT_NME_PROD','table']]\n",
    "kk"
   ]
  },
  {
   "cell_type": "markdown",
   "id": "8b8d1d81-f93f-4d4c-a757-0399a0d8eb92",
   "metadata": {
    "jp-MarkdownHeadingCollapsed": true,
    "tags": []
   },
   "source": [
    "### GC_I-GC"
   ]
  },
  {
   "cell_type": "code",
   "execution_count": 147,
   "id": "d8d46ab6-4fb3-44f1-a014-0647f6f1494e",
   "metadata": {},
   "outputs": [
    {
     "name": "stdout",
     "output_type": "stream",
     "text": [
      "==================GC_I-GC====================\n",
      "******************** GrupLAC COL0008334 ********************\n",
      "Unnamed: 0                                                          3374\n",
      "NRO_ID_GRUPO                                              00000000001867\n",
      "SEQ_PRODUCTO                                                       28390\n",
      "COD_RH                                                        0000468673\n",
      "COD_PRODUCTO                                                          21\n",
      "DTA_VINCULACION                                      2014-11-29 12:10:01\n",
      "STA_HUERFANO                                                           F\n",
      "COD_TIPO_PRODUCTO                                                    2P1\n",
      "TXT_NME_PROD           Territorio y Vida de las Comunidades Afroatrat...\n",
      "TXT_NME_PROD_FILTRO    TERRITORIO Y VIDA DE LAS COMUNIDADES AFROATRAT...\n",
      "NRO_ANO_PRESENTA                                                  2013.0\n",
      "NRO_MES_PRESENTA                                                       9\n",
      "STA_REPETIDO                                                           T\n",
      "DTA_CREACION                                         2014-11-29 12:10:01\n",
      "DTA_ACTUALIZACION                                    2017-09-25 16:17:03\n",
      "NRO_PATENTES                                                           0\n",
      "NRO_SECRETOS                                                           0\n",
      "STA_MEDIDO                                                             T\n",
      "NRO_REGISTROS                                                          0\n",
      "NRO_ARTISTICAS_DET                                                     0\n",
      "SGL_CATEGORIA                                                    GC_I-GC\n",
      "Name: 3374, dtype: object\n",
      "******************** CvLAC ********************\n",
      "Unnamed: 0                                                          179022\n",
      "COD_RH                                                          0000468673\n",
      "COD_PRODUCTO                                                            21\n",
      "TXT_NME_PROD             Territorio y Vida de las Comunidades Afroatrat...\n",
      "TXT_NME_PROD_FILTRO      TERRITORIO Y VIDA DE LAS COMUNIDADES AFROATRAT...\n",
      "COD_TIPO_PRODUCTO                                                      2P1\n",
      "NRO_ANO_PRESENTA                                                    2013.0\n",
      "NRO_MES_PRESENTA                                                       9.0\n",
      "TPO_MEDIO_DIVULGACION                                                    E\n",
      "DTA_CREACION                                           2014-09-15 10:40:38\n",
      "DTA_ACTUALIZACION                                      2017-05-11 16:44:39\n",
      "NRO_PATENTES                                                             0\n",
      "NRO_SECRETOS                                                             0\n",
      "NRO_REGISTROS                                                            0\n",
      "DTA_AVAL_INST                                          2016-03-11 09:40:01\n",
      "TPO_AVAL_INST                                                            T\n",
      "COD_INST_AVALA                                                7300000887.0\n",
      "ID_USUARIO_AVAL                                                      145.0\n",
      "CAT_MED                                                            GC_I-EX\n",
      "SGL_CATEGORIA                                                      GC_I-GC\n",
      "NRO_ARTISTICAS_DET                                                       0\n",
      "Name: 179022, dtype: object\n"
     ]
    }
   ],
   "source": [
    "C=gc['SGL_CATEGORIA'].reset_index().loc[i,'SGL_CATEGORIA']\n",
    "if True:\n",
    "    gc_gr=gc[gc['SGL_CATEGORIA']==C].iloc[0]    \n",
    "    print(f'=================={C}====================')\n",
    "    print('*'*20,'GrupLAC',GR[GR['NRO_ID_GRUPO']==gc_gr['NRO_ID_GRUPO']].iloc[-1]['COD_ID_GRUPO'],'*'*20)\n",
    "    print(gc_gr.dropna())\n",
    "    print('*'*20,'CvLAC','*'*20)\n",
    "    gc_cv=cv[ ( (cv['COD_RH']==gc_gr['COD_RH']) & (cv['COD_PRODUCTO']==gc_gr['COD_PRODUCTO']) )].iloc[0]\n",
    "    print(gc_cv.dropna())\n",
    "    i+=1"
   ]
  },
  {
   "cell_type": "code",
   "execution_count": 148,
   "id": "9f7eb2bc-ee0a-4693-9bf7-84ae36a320a3",
   "metadata": {},
   "outputs": [
    {
     "data": {
      "text/html": [
       "<div>\n",
       "<style scoped>\n",
       "    .dataframe tbody tr th:only-of-type {\n",
       "        vertical-align: middle;\n",
       "    }\n",
       "\n",
       "    .dataframe tbody tr th {\n",
       "        vertical-align: top;\n",
       "    }\n",
       "\n",
       "    .dataframe thead th {\n",
       "        text-align: right;\n",
       "    }\n",
       "</style>\n",
       "<table border=\"1\" class=\"dataframe\">\n",
       "  <thead>\n",
       "    <tr style=\"text-align: right;\">\n",
       "      <th></th>\n",
       "      <th>COD_RH</th>\n",
       "      <th>COD_PRODUCTO</th>\n",
       "      <th>TXT_NME_PROD</th>\n",
       "      <th>table</th>\n",
       "    </tr>\n",
       "  </thead>\n",
       "  <tbody>\n",
       "    <tr>\n",
       "      <th>179022</th>\n",
       "      <td>0000468673</td>\n",
       "      <td>21</td>\n",
       "      <td>Territorio y Vida de las Comunidades Afroatrat...</td>\n",
       "      <td>EN_PRODUCTO</td>\n",
       "    </tr>\n",
       "    <tr>\n",
       "      <th>511710</th>\n",
       "      <td>0000468673</td>\n",
       "      <td>21</td>\n",
       "      <td>NaN</td>\n",
       "      <td>EN_PROD_TECNICA</td>\n",
       "    </tr>\n",
       "    <tr>\n",
       "      <th>1263645</th>\n",
       "      <td>0000468673</td>\n",
       "      <td>21</td>\n",
       "      <td>NaN</td>\n",
       "      <td>EN_PROD_TECNOLOGICO</td>\n",
       "    </tr>\n",
       "  </tbody>\n",
       "</table>\n",
       "</div>"
      ],
      "text/plain": [
       "             COD_RH COD_PRODUCTO  \\\n",
       "179022   0000468673           21   \n",
       "511710   0000468673           21   \n",
       "1263645  0000468673           21   \n",
       "\n",
       "                                              TXT_NME_PROD  \\\n",
       "179022   Territorio y Vida de las Comunidades Afroatrat...   \n",
       "511710                                                 NaN   \n",
       "1263645                                                NaN   \n",
       "\n",
       "                       table  \n",
       "179022           EN_PRODUCTO  \n",
       "511710       EN_PROD_TECNICA  \n",
       "1263645  EN_PROD_TECNOLOGICO  "
      ]
     },
     "execution_count": 148,
     "metadata": {},
     "output_type": "execute_result"
    }
   ],
   "source": [
    "kk=df[( (df['COD_RH']==gc_gr['COD_RH']) & (df['COD_PRODUCTO']==gc_gr['COD_PRODUCTO']) )][\n",
    "    ['COD_RH','COD_PRODUCTO','TXT_NME_PROD','table']]\n",
    "kk"
   ]
  },
  {
   "cell_type": "markdown",
   "id": "a2400578-3061-4b70-95e5-173f581629f9",
   "metadata": {
    "jp-MarkdownHeadingCollapsed": true,
    "tags": []
   },
   "source": [
    "### GC_M-GC"
   ]
  },
  {
   "cell_type": "code",
   "execution_count": 149,
   "id": "85fa3b4b-10e6-467c-8286-1b65ca9c98d7",
   "metadata": {},
   "outputs": [
    {
     "name": "stdout",
     "output_type": "stream",
     "text": [
      "==================GC_M-GC====================\n",
      "******************** GrupLAC COL0119469 ********************\n",
      "Unnamed: 0                                       4687\n",
      "NRO_ID_GRUPO                           00000000012069\n",
      "SEQ_PRODUCTO                                      309\n",
      "COD_RH                                     0000849391\n",
      "COD_PRODUCTO                                      181\n",
      "DTA_VINCULACION                   2014-10-15 19:26:30\n",
      "STA_HUERFANO                                        F\n",
      "COD_TIPO_PRODUCTO                                 2H9\n",
      "TXT_NME_PROD           Conferencia: La vida en pareja\n",
      "TXT_NME_PROD_FILTRO     CONFERENCIA LA VIDA EN PAREJA\n",
      "SGL_PAIS                                          COL\n",
      "NRO_ANO_PRESENTA                               2008.0\n",
      "NRO_MES_PRESENTA                                    9\n",
      "DTA_CREACION                      2014-10-15 19:26:30\n",
      "DTA_ACTUALIZACION                 2017-09-25 16:17:58\n",
      "NRO_PATENTES                                        0\n",
      "NRO_SECRETOS                                        0\n",
      "STA_MEDIDO                                          T\n",
      "NRO_REGISTROS                                       0\n",
      "NRO_ARTISTICAS_DET                                  0\n",
      "SGL_CATEGORIA                                 GC_M-GC\n",
      "Name: 4687, dtype: object\n",
      "******************** CvLAC ********************\n",
      "Unnamed: 0                                                       183371\n",
      "COD_RH                                                       0000849391\n",
      "COD_PRODUCTO                                                        181\n",
      "TXT_NME_PROD                             Conferencia: La vida en pareja\n",
      "TXT_NME_PROD_FILTRO                       CONFERENCIA LA VIDA EN PAREJA\n",
      "SGL_IDIOMA                                                           ES\n",
      "COD_TIPO_PRODUCTO                                                   2H9\n",
      "SGL_PAIS                                                            COL\n",
      "NRO_ANO_PRESENTA                                                 2008.0\n",
      "NRO_MES_PRESENTA                                                    9.0\n",
      "TXT_WEB_PRODUCTO                     http://www.canalu.com.co/programas\n",
      "TPO_MEDIO_DIVULGACION                                                 H\n",
      "DTA_CREACION                                        2014-09-24 09:12:25\n",
      "DTA_ACTUALIZACION                                   2017-05-11 16:44:47\n",
      "NRO_PATENTES                                                          0\n",
      "NRO_SECRETOS                                                          0\n",
      "TXT_INST_PART            Universidad Cooperativa de Colombia (Medellin)\n",
      "NRO_REGISTROS                                                         0\n",
      "TPO_AVAL_INST                                                         T\n",
      "CAT_MED                                                         GC_M-GC\n",
      "SGL_CATEGORIA                                                   GC_M-GC\n",
      "NRO_ARTISTICAS_DET                                                    0\n",
      "Name: 183371, dtype: object\n"
     ]
    }
   ],
   "source": [
    "C=gc['SGL_CATEGORIA'].reset_index().loc[i,'SGL_CATEGORIA']\n",
    "if True:\n",
    "    gc_gr=gc[gc['SGL_CATEGORIA']==C].iloc[0]    \n",
    "    print(f'=================={C}====================')\n",
    "    print('*'*20,'GrupLAC',GR[GR['NRO_ID_GRUPO']==gc_gr['NRO_ID_GRUPO']].iloc[-1]['COD_ID_GRUPO'],'*'*20)\n",
    "    print(gc_gr.dropna())\n",
    "    print('*'*20,'CvLAC','*'*20)\n",
    "    gc_cv=cv[ ( (cv['COD_RH']==gc_gr['COD_RH']) & (cv['COD_PRODUCTO']==gc_gr['COD_PRODUCTO']) )].iloc[0]\n",
    "    print(gc_cv.dropna())\n",
    "    i+=1"
   ]
  },
  {
   "cell_type": "code",
   "execution_count": 150,
   "id": "4b026c6e-e293-4122-95da-cacdd83f5bca",
   "metadata": {},
   "outputs": [
    {
     "data": {
      "text/html": [
       "<div>\n",
       "<style scoped>\n",
       "    .dataframe tbody tr th:only-of-type {\n",
       "        vertical-align: middle;\n",
       "    }\n",
       "\n",
       "    .dataframe tbody tr th {\n",
       "        vertical-align: top;\n",
       "    }\n",
       "\n",
       "    .dataframe thead th {\n",
       "        text-align: right;\n",
       "    }\n",
       "</style>\n",
       "<table border=\"1\" class=\"dataframe\">\n",
       "  <thead>\n",
       "    <tr style=\"text-align: right;\">\n",
       "      <th></th>\n",
       "      <th>COD_RH</th>\n",
       "      <th>COD_PRODUCTO</th>\n",
       "      <th>TXT_NME_PROD</th>\n",
       "      <th>table</th>\n",
       "    </tr>\n",
       "  </thead>\n",
       "  <tbody>\n",
       "    <tr>\n",
       "      <th>183371</th>\n",
       "      <td>0000849391</td>\n",
       "      <td>181</td>\n",
       "      <td>Conferencia: La vida en pareja</td>\n",
       "      <td>EN_PRODUCTO</td>\n",
       "    </tr>\n",
       "    <tr>\n",
       "      <th>1030928</th>\n",
       "      <td>0000849391</td>\n",
       "      <td>181</td>\n",
       "      <td>NaN</td>\n",
       "      <td>EN_PROD_AUDIOVISUAL</td>\n",
       "    </tr>\n",
       "  </tbody>\n",
       "</table>\n",
       "</div>"
      ],
      "text/plain": [
       "             COD_RH COD_PRODUCTO                    TXT_NME_PROD  \\\n",
       "183371   0000849391          181  Conferencia: La vida en pareja   \n",
       "1030928  0000849391          181                             NaN   \n",
       "\n",
       "                       table  \n",
       "183371           EN_PRODUCTO  \n",
       "1030928  EN_PROD_AUDIOVISUAL  "
      ]
     },
     "execution_count": 150,
     "metadata": {},
     "output_type": "execute_result"
    }
   ],
   "source": [
    "kk=df[( (df['COD_RH']==gc_gr['COD_RH']) & (df['COD_PRODUCTO']==gc_gr['COD_PRODUCTO']) )][\n",
    "    ['COD_RH','COD_PRODUCTO','TXT_NME_PROD','table']]\n",
    "kk"
   ]
  },
  {
   "cell_type": "markdown",
   "id": "7bc112ab-0e7c-4fa2-bb8c-2f1f2d3d8f51",
   "metadata": {
    "jp-MarkdownHeadingCollapsed": true,
    "tags": []
   },
   "source": [
    "### GC_V-GC"
   ]
  },
  {
   "cell_type": "code",
   "execution_count": 151,
   "id": "4fddb2b0-b4c9-4e61-ac20-f1dd4a5d866e",
   "metadata": {},
   "outputs": [
    {
     "name": "stdout",
     "output_type": "stream",
     "text": [
      "==================GC_V-GC====================\n",
      "******************** GrupLAC COL0009251 ********************\n",
      "Unnamed: 0                                               17548\n",
      "NRO_ID_GRUPO                                    00000000001903\n",
      "SEQ_PRODUCTO                                             13090\n",
      "COD_RH                                              0001374934\n",
      "COD_PRODUCTO                                                28\n",
      "DTA_VINCULACION                            2015-02-12 12:06:10\n",
      "STA_HUERFANO                                                 F\n",
      "COD_TIPO_PRODUCTO                                          2Q3\n",
      "TXT_NME_PROD           Teorías del desarrollo y economía rural\n",
      "TXT_NME_PROD_FILTRO    TEORIAS DEL DESARROLLO Y ECONOMIA RURAL\n",
      "NRO_ANO_PRESENTA                                        2011.0\n",
      "NRO_MES_PRESENTA                                             8\n",
      "DTA_CREACION                               2015-02-12 12:06:10\n",
      "DTA_ACTUALIZACION                          2017-09-25 16:19:00\n",
      "NRO_PATENTES                                                 0\n",
      "NRO_SECRETOS                                                 0\n",
      "STA_MEDIDO                                                   T\n",
      "NRO_REGISTROS                                                0\n",
      "NRO_ARTISTICAS_DET                                           0\n",
      "SGL_CATEGORIA                                          GC_V-GC\n",
      "Name: 17548, dtype: object\n",
      "******************** CvLAC ********************\n",
      "Unnamed: 0                                                        201816\n",
      "COD_RH                                                        0001374934\n",
      "COD_PRODUCTO                                                          28\n",
      "TXT_NME_PROD                     Teorías del desarrollo y economía rural\n",
      "TXT_NME_PROD_FILTRO              TEORIAS DEL DESARROLLO Y ECONOMIA RURAL\n",
      "TXT_RESUMEN_PROD       Modelos del desarrollo _x000D_\\nModelos de eco...\n",
      "COD_TIPO_PRODUCTO                                                    2Q3\n",
      "NRO_ANO_PRESENTA                                                  2011.0\n",
      "NRO_MES_PRESENTA                                                     8.0\n",
      "TXT_WEB_PRODUCTO                                          www.uco.edu.co\n",
      "DTA_CREACION                                         2015-02-10 09:25:24\n",
      "DTA_ACTUALIZACION                                    2017-05-11 16:45:18\n",
      "NRO_PATENTES                                                           0\n",
      "NRO_SECRETOS                                                           0\n",
      "TXT_INST_PART          Universidad Católica de Oriente- Fundación Uni...\n",
      "NRO_REGISTROS                                                          0\n",
      "DTA_AVAL_INST                                        2016-03-10 16:02:05\n",
      "TPO_AVAL_INST                                                          T\n",
      "COD_INST_AVALA                                              7600000882.0\n",
      "ID_USUARIO_AVAL                                                    194.0\n",
      "CAT_MED                                                          GC_V-GC\n",
      "SGL_CATEGORIA                                                    GC_V-GC\n",
      "NRO_ARTISTICAS_DET                                                     0\n",
      "Name: 201816, dtype: object\n"
     ]
    }
   ],
   "source": [
    "C=gc['SGL_CATEGORIA'].reset_index().loc[i,'SGL_CATEGORIA']\n",
    "if True:\n",
    "    gc_gr=gc[gc['SGL_CATEGORIA']==C].iloc[0]    \n",
    "    print(f'=================={C}====================')\n",
    "    print('*'*20,'GrupLAC',GR[GR['NRO_ID_GRUPO']==gc_gr['NRO_ID_GRUPO']].iloc[-1]['COD_ID_GRUPO'],'*'*20)\n",
    "    print(gc_gr.dropna())\n",
    "    print('*'*20,'CvLAC','*'*20)\n",
    "    gc_cv=cv[ ( (cv['COD_RH']==gc_gr['COD_RH']) & (cv['COD_PRODUCTO']==gc_gr['COD_PRODUCTO']) )].iloc[0]\n",
    "    print(gc_cv.dropna())\n",
    "    i+=1"
   ]
  },
  {
   "cell_type": "code",
   "execution_count": 152,
   "id": "5e5251d1-1b3e-4366-8410-788d2e8493e0",
   "metadata": {},
   "outputs": [
    {
     "data": {
      "text/html": [
       "<div>\n",
       "<style scoped>\n",
       "    .dataframe tbody tr th:only-of-type {\n",
       "        vertical-align: middle;\n",
       "    }\n",
       "\n",
       "    .dataframe tbody tr th {\n",
       "        vertical-align: top;\n",
       "    }\n",
       "\n",
       "    .dataframe thead th {\n",
       "        text-align: right;\n",
       "    }\n",
       "</style>\n",
       "<table border=\"1\" class=\"dataframe\">\n",
       "  <thead>\n",
       "    <tr style=\"text-align: right;\">\n",
       "      <th></th>\n",
       "      <th>COD_RH</th>\n",
       "      <th>COD_PRODUCTO</th>\n",
       "      <th>TXT_NME_PROD</th>\n",
       "      <th>table</th>\n",
       "    </tr>\n",
       "  </thead>\n",
       "  <tbody>\n",
       "    <tr>\n",
       "      <th>201816</th>\n",
       "      <td>0001374934</td>\n",
       "      <td>28</td>\n",
       "      <td>Teorías del desarrollo y economía rural</td>\n",
       "      <td>EN_PRODUCTO</td>\n",
       "    </tr>\n",
       "    <tr>\n",
       "      <th>512495</th>\n",
       "      <td>0001374934</td>\n",
       "      <td>28</td>\n",
       "      <td>NaN</td>\n",
       "      <td>EN_PROD_TECNICA</td>\n",
       "    </tr>\n",
       "    <tr>\n",
       "      <th>1271006</th>\n",
       "      <td>0001374934</td>\n",
       "      <td>28</td>\n",
       "      <td>NaN</td>\n",
       "      <td>EN_PROD_TECNOLOGICO</td>\n",
       "    </tr>\n",
       "  </tbody>\n",
       "</table>\n",
       "</div>"
      ],
      "text/plain": [
       "             COD_RH COD_PRODUCTO                             TXT_NME_PROD  \\\n",
       "201816   0001374934           28  Teorías del desarrollo y economía rural   \n",
       "512495   0001374934           28                                      NaN   \n",
       "1271006  0001374934           28                                      NaN   \n",
       "\n",
       "                       table  \n",
       "201816           EN_PRODUCTO  \n",
       "512495       EN_PROD_TECNICA  \n",
       "1271006  EN_PROD_TECNOLOGICO  "
      ]
     },
     "execution_count": 152,
     "metadata": {},
     "output_type": "execute_result"
    }
   ],
   "source": [
    "kk=df[( (df['COD_RH']==gc_gr['COD_RH']) & (df['COD_PRODUCTO']==gc_gr['COD_PRODUCTO']) )][\n",
    "    ['COD_RH','COD_PRODUCTO','TXT_NME_PROD','table']]\n",
    "kk"
   ]
  },
  {
   "cell_type": "markdown",
   "id": "f8851077-df3f-4d1c-abea-de3a5340b6c7",
   "metadata": {
    "jp-MarkdownHeadingCollapsed": true,
    "tags": []
   },
   "source": [
    "### GC_V-EX"
   ]
  },
  {
   "cell_type": "code",
   "execution_count": 153,
   "id": "29236893-f069-479e-a153-774385d5dd09",
   "metadata": {},
   "outputs": [
    {
     "name": "stdout",
     "output_type": "stream",
     "text": [
      "==================GC_V-EX====================\n",
      "******************** GrupLAC COL0053803 ********************\n",
      "Unnamed: 0                                                         35660\n",
      "NRO_ID_GRUPO                                              00000000003658\n",
      "SEQ_PRODUCTO                                                         180\n",
      "COD_RH                                                        0000186473\n",
      "COD_PRODUCTO                                                         122\n",
      "DTA_VINCULACION                                      2015-12-10 10:44:01\n",
      "STA_HUERFANO                                                           F\n",
      "COD_TIPO_PRODUCTO                                                    2Q1\n",
      "TXT_NME_PROD           Red Colombiana de modelación en Educación Mate...\n",
      "TXT_NME_PROD_FILTRO    RED COLOMBIANA DE MODELACION EN EDUCACION MATE...\n",
      "NRO_ANO_PRESENTA                                                  2014.0\n",
      "NRO_MES_PRESENTA                                                       2\n",
      "DTA_CREACION                                         2015-12-10 10:44:01\n",
      "DTA_ACTUALIZACION                                    2017-09-25 16:15:31\n",
      "NRO_PATENTES                                                           0\n",
      "NRO_SECRETOS                                                           0\n",
      "STA_MEDIDO                                                             T\n",
      "NRO_REGISTROS                                                          0\n",
      "NRO_ARTISTICAS_DET                                                     0\n",
      "SGL_CATEGORIA                                                    GC_V-EX\n",
      "Name: 35660, dtype: object\n",
      "******************** CvLAC ********************\n",
      "Unnamed: 0                                                          145513\n",
      "COD_RH                                                          0000186473\n",
      "COD_PRODUCTO                                                           122\n",
      "TXT_NME_PROD             Red Colombiana de modelación en Educación Mate...\n",
      "TXT_NME_PROD_FILTRO      RED COLOMBIANA DE MODELACION EN EDUCACION MATE...\n",
      "TXT_RESUMEN_PROD         Es la página web de la Red colombiana de model...\n",
      "COD_TIPO_PRODUCTO                                                      2Q1\n",
      "NRO_ANO_PRESENTA                                                    2014.0\n",
      "NRO_MES_PRESENTA                                                       2.0\n",
      "TXT_WEB_PRODUCTO                                        www.recomem.com.co\n",
      "TPO_MEDIO_DIVULGACION                                                    P\n",
      "DTA_CREACION                                           2013-11-20 11:55:45\n",
      "DTA_ACTUALIZACION                                      2017-05-11 16:44:05\n",
      "NRO_PATENTES                                                             0\n",
      "NRO_SECRETOS                                                             0\n",
      "TXT_INST_PART                                      Uniersidad de Antioquia\n",
      "NRO_REGISTROS                                                            0\n",
      "DTA_AVAL_INST                                          2016-03-07 15:00:32\n",
      "TPO_AVAL_INST                                                            T\n",
      "COD_INST_AVALA                                                7300000887.0\n",
      "ID_USUARIO_AVAL                                                      145.0\n",
      "CAT_MED                                                            GC_V-EX\n",
      "SGL_CATEGORIA                                                      GC_V-EX\n",
      "NRO_ARTISTICAS_DET                                                       0\n",
      "Name: 145513, dtype: object\n"
     ]
    }
   ],
   "source": [
    "C=gc['SGL_CATEGORIA'].reset_index().loc[i,'SGL_CATEGORIA']\n",
    "if True:\n",
    "    gc_gr=gc[gc['SGL_CATEGORIA']==C].iloc[0]    \n",
    "    print(f'=================={C}====================')\n",
    "    print('*'*20,'GrupLAC',GR[GR['NRO_ID_GRUPO']==gc_gr['NRO_ID_GRUPO']].iloc[-1]['COD_ID_GRUPO'],'*'*20)\n",
    "    print(gc_gr.dropna())\n",
    "    print('*'*20,'CvLAC','*'*20)\n",
    "    gc_cv=cv[ ( (cv['COD_RH']==gc_gr['COD_RH']) & (cv['COD_PRODUCTO']==gc_gr['COD_PRODUCTO']) )].iloc[0]\n",
    "    print(gc_cv.dropna())\n",
    "    i+=1"
   ]
  },
  {
   "cell_type": "code",
   "execution_count": 154,
   "id": "bf6a4b8d-15e6-41fe-9fb8-b5d35ac674de",
   "metadata": {},
   "outputs": [
    {
     "data": {
      "text/html": [
       "<div>\n",
       "<style scoped>\n",
       "    .dataframe tbody tr th:only-of-type {\n",
       "        vertical-align: middle;\n",
       "    }\n",
       "\n",
       "    .dataframe tbody tr th {\n",
       "        vertical-align: top;\n",
       "    }\n",
       "\n",
       "    .dataframe thead th {\n",
       "        text-align: right;\n",
       "    }\n",
       "</style>\n",
       "<table border=\"1\" class=\"dataframe\">\n",
       "  <thead>\n",
       "    <tr style=\"text-align: right;\">\n",
       "      <th></th>\n",
       "      <th>COD_RH</th>\n",
       "      <th>COD_PRODUCTO</th>\n",
       "      <th>TXT_NME_PROD</th>\n",
       "      <th>table</th>\n",
       "    </tr>\n",
       "  </thead>\n",
       "  <tbody>\n",
       "    <tr>\n",
       "      <th>145513</th>\n",
       "      <td>0000186473</td>\n",
       "      <td>122</td>\n",
       "      <td>Red Colombiana de modelación en Educación Mate...</td>\n",
       "      <td>EN_PRODUCTO</td>\n",
       "    </tr>\n",
       "    <tr>\n",
       "      <th>507994</th>\n",
       "      <td>0000186473</td>\n",
       "      <td>122</td>\n",
       "      <td>NaN</td>\n",
       "      <td>EN_PROD_TECNICA</td>\n",
       "    </tr>\n",
       "    <tr>\n",
       "      <th>1271326</th>\n",
       "      <td>0000186473</td>\n",
       "      <td>122</td>\n",
       "      <td>NaN</td>\n",
       "      <td>EN_PROD_TECNOLOGICO</td>\n",
       "    </tr>\n",
       "  </tbody>\n",
       "</table>\n",
       "</div>"
      ],
      "text/plain": [
       "             COD_RH COD_PRODUCTO  \\\n",
       "145513   0000186473          122   \n",
       "507994   0000186473          122   \n",
       "1271326  0000186473          122   \n",
       "\n",
       "                                              TXT_NME_PROD  \\\n",
       "145513   Red Colombiana de modelación en Educación Mate...   \n",
       "507994                                                 NaN   \n",
       "1271326                                                NaN   \n",
       "\n",
       "                       table  \n",
       "145513           EN_PRODUCTO  \n",
       "507994       EN_PROD_TECNICA  \n",
       "1271326  EN_PROD_TECNOLOGICO  "
      ]
     },
     "execution_count": 154,
     "metadata": {},
     "output_type": "execute_result"
    }
   ],
   "source": [
    "kk=df[( (df['COD_RH']==gc_gr['COD_RH']) & (df['COD_PRODUCTO']==gc_gr['COD_PRODUCTO']) )][\n",
    "    ['COD_RH','COD_PRODUCTO','TXT_NME_PROD','table']]\n",
    "kk"
   ]
  },
  {
   "cell_type": "markdown",
   "id": "d59ae682-1073-4e3d-bf93-ce7c8108e47d",
   "metadata": {
    "jp-MarkdownHeadingCollapsed": true,
    "tags": []
   },
   "source": [
    "### GC_A-GC"
   ]
  },
  {
   "cell_type": "code",
   "execution_count": 155,
   "id": "4b1bd0c6-245f-4103-af44-114c929c8320",
   "metadata": {},
   "outputs": [
    {
     "name": "stdout",
     "output_type": "stream",
     "text": [
      "==================GC_A-GC====================\n",
      "******************** GrupLAC COL0011886 ********************\n",
      "Unnamed: 0                           90239\n",
      "NRO_ID_GRUPO                00000000008130\n",
      "SEQ_PRODUCTO                         20806\n",
      "COD_RH                          0000928232\n",
      "COD_PRODUCTO                            56\n",
      "DTA_VINCULACION        2019-02-27 16:01:44\n",
      "STA_HUERFANO                             F\n",
      "COD_TIPO_PRODUCTO                       2W\n",
      "TXT_NME_PROD                      Pampedia\n",
      "TXT_NME_PROD_FILTRO               PAMPEDIA\n",
      "SGL_PAIS                               COL\n",
      "NRO_ANO_PRESENTA                    2017.0\n",
      "NRO_MES_PRESENTA                         1\n",
      "DTA_CREACION           2019-02-27 16:01:44\n",
      "DTA_ACTUALIZACION      2019-02-27 16:01:44\n",
      "NRO_PATENTES                             0\n",
      "NRO_SECRETOS                             0\n",
      "STA_MEDIDO                               T\n",
      "NRO_REGISTROS                            0\n",
      "NRO_ARTISTICAS_DET                       0\n",
      "SGL_CATEGORIA                      GC_A-GC\n",
      "Name: 90239, dtype: object\n",
      "******************** CvLAC ********************\n",
      "Unnamed: 0                          285269\n",
      "COD_RH                          0000928232\n",
      "COD_PRODUCTO                            56\n",
      "TXT_NME_PROD                      Pampedia\n",
      "TXT_NME_PROD_FILTRO               PAMPEDIA\n",
      "COD_TIPO_PRODUCTO                       2W\n",
      "SGL_PAIS                               COL\n",
      "NRO_ANO_PRESENTA                    2017.0\n",
      "NRO_MES_PRESENTA                       1.0\n",
      "DTA_CREACION           2019-02-05 21:00:16\n",
      "DTA_ACTUALIZACION      2019-02-05 21:00:16\n",
      "NRO_PATENTES                             0\n",
      "NRO_SECRETOS                             0\n",
      "NRO_REGISTROS                            0\n",
      "SGL_CATEGORIA                      GC_A-GC\n",
      "NRO_ARTISTICAS_DET                       0\n",
      "Name: 285269, dtype: object\n"
     ]
    }
   ],
   "source": [
    "C=gc['SGL_CATEGORIA'].reset_index().loc[i,'SGL_CATEGORIA']\n",
    "if True:\n",
    "    gc_gr=gc[gc['SGL_CATEGORIA']==C].iloc[0]    \n",
    "    print(f'=================={C}====================')\n",
    "    print('*'*20,'GrupLAC',GR[GR['NRO_ID_GRUPO']==gc_gr['NRO_ID_GRUPO']].iloc[-1]['COD_ID_GRUPO'],'*'*20)\n",
    "    print(gc_gr.dropna())\n",
    "    print('*'*20,'CvLAC','*'*20)\n",
    "    gc_cv=cv[ ( (cv['COD_RH']==gc_gr['COD_RH']) & (cv['COD_PRODUCTO']==gc_gr['COD_PRODUCTO']) )].iloc[0]\n",
    "    print(gc_cv.dropna())\n",
    "    i+=1"
   ]
  },
  {
   "cell_type": "markdown",
   "id": "ffaf1778-1b5f-4315-ac20-01686bd2c975",
   "metadata": {
    "jp-MarkdownHeadingCollapsed": true,
    "tags": []
   },
   "source": [
    "## Appendix"
   ]
  },
  {
   "cell_type": "code",
   "execution_count": 156,
   "id": "be57e72a-511c-4319-bb5c-9fe3e055f098",
   "metadata": {},
   "outputs": [
    {
     "data": {
      "text/html": [
       "<div>\n",
       "<style scoped>\n",
       "    .dataframe tbody tr th:only-of-type {\n",
       "        vertical-align: middle;\n",
       "    }\n",
       "\n",
       "    .dataframe tbody tr th {\n",
       "        vertical-align: top;\n",
       "    }\n",
       "\n",
       "    .dataframe thead th {\n",
       "        text-align: right;\n",
       "    }\n",
       "</style>\n",
       "<table border=\"1\" class=\"dataframe\">\n",
       "  <thead>\n",
       "    <tr style=\"text-align: right;\">\n",
       "      <th></th>\n",
       "      <th>Unnamed: 0</th>\n",
       "      <th>COD_TIPO_PRODUCTO</th>\n",
       "      <th>TXT_NME_TIPO_PRODUCTO</th>\n",
       "      <th>NRO_NIVEL</th>\n",
       "      <th>COD_TIPO_PRODUCTO_PADRE</th>\n",
       "      <th>STA_ACTIVO</th>\n",
       "      <th>TPO_CLASE</th>\n",
       "    </tr>\n",
       "  </thead>\n",
       "  <tbody>\n",
       "    <tr>\n",
       "      <th>325</th>\n",
       "      <td>325</td>\n",
       "      <td>2W</td>\n",
       "      <td>Generación de contenido de audio</td>\n",
       "      <td>1</td>\n",
       "      <td>2</td>\n",
       "      <td>T</td>\n",
       "      <td>ASC</td>\n",
       "    </tr>\n",
       "  </tbody>\n",
       "</table>\n",
       "</div>"
      ],
      "text/plain": [
       "     Unnamed: 0 COD_TIPO_PRODUCTO             TXT_NME_TIPO_PRODUCTO  \\\n",
       "325         325                2W  Generación de contenido de audio   \n",
       "\n",
       "     NRO_NIVEL COD_TIPO_PRODUCTO_PADRE STA_ACTIVO TPO_CLASE  \n",
       "325          1                       2          T       ASC  "
      ]
     },
     "execution_count": 156,
     "metadata": {},
     "output_type": "execute_result"
    }
   ],
   "source": [
    "tp[tp['COD_TIPO_PRODUCTO'].str.contains('^2W')]"
   ]
  },
  {
   "cell_type": "code",
   "execution_count": 157,
   "id": "d4353895-f425-4134-9334-ab9202560eb0",
   "metadata": {},
   "outputs": [
    {
     "data": {
      "text/html": [
       "<div>\n",
       "<style scoped>\n",
       "    .dataframe tbody tr th:only-of-type {\n",
       "        vertical-align: middle;\n",
       "    }\n",
       "\n",
       "    .dataframe tbody tr th {\n",
       "        vertical-align: top;\n",
       "    }\n",
       "\n",
       "    .dataframe thead th {\n",
       "        text-align: right;\n",
       "    }\n",
       "</style>\n",
       "<table border=\"1\" class=\"dataframe\">\n",
       "  <thead>\n",
       "    <tr style=\"text-align: right;\">\n",
       "      <th></th>\n",
       "      <th>COD_RH</th>\n",
       "      <th>COD_PRODUCTO</th>\n",
       "      <th>TXT_NME_PROD</th>\n",
       "      <th>table</th>\n",
       "    </tr>\n",
       "  </thead>\n",
       "  <tbody>\n",
       "    <tr>\n",
       "      <th>285269</th>\n",
       "      <td>0000928232</td>\n",
       "      <td>56</td>\n",
       "      <td>Pampedia</td>\n",
       "      <td>EN_PRODUCTO</td>\n",
       "    </tr>\n",
       "    <tr>\n",
       "      <th>520135</th>\n",
       "      <td>0000928232</td>\n",
       "      <td>56</td>\n",
       "      <td>NaN</td>\n",
       "      <td>EN_PROD_TECNICA</td>\n",
       "    </tr>\n",
       "  </tbody>\n",
       "</table>\n",
       "</div>"
      ],
      "text/plain": [
       "            COD_RH COD_PRODUCTO TXT_NME_PROD            table\n",
       "285269  0000928232           56     Pampedia      EN_PRODUCTO\n",
       "520135  0000928232           56          NaN  EN_PROD_TECNICA"
      ]
     },
     "execution_count": 157,
     "metadata": {},
     "output_type": "execute_result"
    }
   ],
   "source": [
    "kk=df[( (df['COD_RH']==gc_gr['COD_RH']) & (df['COD_PRODUCTO']==gc_gr['COD_PRODUCTO']) )][\n",
    "    ['COD_RH','COD_PRODUCTO','TXT_NME_PROD','table']]\n",
    "kk"
   ]
  },
  {
   "cell_type": "code",
   "execution_count": 23,
   "id": "59d4609a-d008-40e2-81d5-25cdfe848488",
   "metadata": {},
   "outputs": [
    {
     "data": {
      "text/html": [
       "<div>\n",
       "<style scoped>\n",
       "    .dataframe tbody tr th:only-of-type {\n",
       "        vertical-align: middle;\n",
       "    }\n",
       "\n",
       "    .dataframe tbody tr th {\n",
       "        vertical-align: top;\n",
       "    }\n",
       "\n",
       "    .dataframe thead th {\n",
       "        text-align: right;\n",
       "    }\n",
       "</style>\n",
       "<table border=\"1\" class=\"dataframe\">\n",
       "  <thead>\n",
       "    <tr style=\"text-align: right;\">\n",
       "      <th></th>\n",
       "      <th>Unnamed: 0</th>\n",
       "      <th>COD_TIPO_PRODUCTO</th>\n",
       "      <th>TXT_NME_TIPO_PRODUCTO</th>\n",
       "      <th>NRO_NIVEL</th>\n",
       "      <th>COD_TIPO_PRODUCTO_PADRE</th>\n",
       "      <th>STA_ACTIVO</th>\n",
       "      <th>TPO_CLASE</th>\n",
       "    </tr>\n",
       "  </thead>\n",
       "  <tbody>\n",
       "    <tr>\n",
       "      <th>127</th>\n",
       "      <td>127.0</td>\n",
       "      <td>2H2</td>\n",
       "      <td>Mesa redonda</td>\n",
       "      <td>2.0</td>\n",
       "      <td>2H</td>\n",
       "      <td>T</td>\n",
       "      <td>ASC</td>\n",
       "    </tr>\n",
       "    <tr>\n",
       "      <th>275</th>\n",
       "      <td>275.0</td>\n",
       "      <td>A25</td>\n",
       "      <td>Acreditación de programas</td>\n",
       "      <td>2.0</td>\n",
       "      <td>A2</td>\n",
       "      <td>T</td>\n",
       "      <td>OTRO</td>\n",
       "    </tr>\n",
       "    <tr>\n",
       "      <th>307</th>\n",
       "      <td>307.0</td>\n",
       "      <td>4A4</td>\n",
       "      <td>Desarrollos web: Páginas web-blogs, micrositio...</td>\n",
       "      <td>1.0</td>\n",
       "      <td>4A</td>\n",
       "      <td>T</td>\n",
       "      <td>NaN</td>\n",
       "    </tr>\n",
       "  </tbody>\n",
       "</table>\n",
       "</div>"
      ],
      "text/plain": [
       "     Unnamed: 0 COD_TIPO_PRODUCTO  \\\n",
       "127       127.0               2H2   \n",
       "275       275.0               A25   \n",
       "307       307.0               4A4   \n",
       "\n",
       "                                 TXT_NME_TIPO_PRODUCTO  NRO_NIVEL  \\\n",
       "127                                       Mesa redonda        2.0   \n",
       "275                          Acreditación de programas        2.0   \n",
       "307  Desarrollos web: Páginas web-blogs, micrositio...        1.0   \n",
       "\n",
       "    COD_TIPO_PRODUCTO_PADRE STA_ACTIVO TPO_CLASE  \n",
       "127                      2H          T       ASC  \n",
       "275                      A2          T      OTRO  \n",
       "307                      4A          T       NaN  "
      ]
     },
     "execution_count": 23,
     "metadata": {},
     "output_type": "execute_result"
    }
   ],
   "source": [
    "tp[tp['TXT_NME_TIPO_PRODUCTO'].str.lower().str.contains('')]"
   ]
  },
  {
   "cell_type": "code",
   "execution_count": 18,
   "id": "22c726b1-31dc-457d-8c20-95d77920c623",
   "metadata": {},
   "outputs": [
    {
     "data": {
      "text/plain": [
       "array(['AL-00', 'AL-AL', 'ART-00', 'ART-ART_A1', 'ART-ART_A2',\n",
       "       'ART-ART_B', 'ART-ART_C', 'ART-ART_D', 'ART-GC_ART', 'BOL-00',\n",
       "       'BOL-BOL', 'CON_AAD-00', 'CON_AAD-CON_AAD', 'CON_CT-00',\n",
       "       'CON_CT-CON_CT', 'CT-00', 'CT-CT', 'DI-00', 'DI-DI_A', 'DI-DI_B',\n",
       "       'EBT-00', 'EBT-EBT_A', 'EBT-EBT_B', 'ECI-00', 'ERL-00', 'ERL-ERL',\n",
       "       'GC_A-GC', 'GC_I-00', 'GC_I-EX', 'GC_I-GC', 'GC_M-00', 'GC_M-EX',\n",
       "       'GC_M-GC', 'GC_V-00', 'GC_V-EX', 'GC_V-GC', 'ICC-00', 'ICC-ICC_A',\n",
       "       'IFI-00', 'IFI-IFI', 'IG-00', 'IG-IG_A1', 'IG-IG_A2', 'IG-IG_B1',\n",
       "       'IG-IG_B2', 'INF-00', 'INF-INF', 'IPP-00', 'IPP-IPP', 'N-00',\n",
       "       'N-GC_N', 'N-N_A1', 'N-N_A2', 'N-N_B', 'N-N_C', 'N-N_D', 'NRC-00',\n",
       "       'NRC-NRC_A', 'NRC-NRC_B', 'NSG-NSG', 'PAU-00', 'PAU-PAU', 'PI-00',\n",
       "       'PI-PI_A', 'PN-PN', 'PP-00', 'PP-PP_A', 'RN-00', 'RN-RNL_B',\n",
       "       'RN-RNR', 'RN-RNT', 'RNPC-00', 'RNPC-RNPC', 'RNPL-00', 'SD-EX',\n",
       "       'SD-SD', 'SF-00', 'SF-EX', 'SF-SF_A', 'TD-00', 'TD-TD_A',\n",
       "       'TD-TD_B', 'TM-00', 'TM-TM_A', 'TM-TM_B', 'TP-00', 'TP-TP_A',\n",
       "       'TP-TP_B', 'VA-00', 'VV-VV_A2', 'VV-VV_B2', 'VV-VV_B3', 'VV-VV_B4',\n",
       "       'WP-00', 'WP-WP'], dtype=object)"
      ]
     },
     "execution_count": 18,
     "metadata": {},
     "output_type": "execute_result"
    }
   ],
   "source": [
    "cv['SGL_CATEGORIA'].sort_values().dropna().unique()"
   ]
  },
  {
   "cell_type": "code",
   "execution_count": 27,
   "id": "1963c594-a11d-4854-ac72-f213d534d144",
   "metadata": {},
   "outputs": [
    {
     "data": {
      "text/plain": [
       "array(['ART-00', 'ART-ART_A1', 'ART-ART_A2', 'ART-ART_B', 'ART-ART_C',\n",
       "       'ART-ART_D', 'ART-GC_ART', 'BOL-00', 'BOL-BOL', 'CAP_LIB-00',\n",
       "       'CAP_LIB-CAP_LIB_A', 'CAP_LIB-CAP_LIB_A1', 'CAP_LIB-CAP_LIB_B',\n",
       "       'CAP_LIB-GC_CAP_LIB', 'CON_AAD-00', 'CON_AAD-CON_AAD', 'CON_CT-00',\n",
       "       'CON_CT-CON_CT', 'DI-00', 'DI-DI_B', 'EBT-00', 'EBT-EBT_A',\n",
       "       'EBT-EBT_B', 'ECI-00', 'ERL-00', 'ERL-ERL', 'GC_I-00', 'GC_I-EX',\n",
       "       'GC_I-GC', 'GC_M-00', 'GC_M-EX', 'GC_M-GC', 'GC_V-00', 'GC_V-EX',\n",
       "       'GC_V-GC', 'ICC-00', 'ICC-ICC_A', 'ICC-ICC_B', 'IFI-IFI', 'IG-00',\n",
       "       'IG-IG_B1', 'IG-IG_B2', 'INF-00', 'INF-INF', 'IPP-00', 'IPP-IPP',\n",
       "       'LIB-00', 'LIB-GC_LIB', 'LIB-LIB_A', 'LIB-LIB_A1', 'LIB-LIB_B',\n",
       "       'PI-00', 'PI-PI_A', 'PP-00', 'PP-PP_A', 'RN-00', 'RN-RNL_B',\n",
       "       'RN-RNR', 'RN-RNT', 'RNPC-00', 'RNPC-RNPC', 'SD-EX', 'SD-SD',\n",
       "       'SF-00', 'SF-EX', 'SF-SF_A', 'TD-00', 'TD-TD_A', 'TD-TD_B',\n",
       "       'TM-00', 'TM-TM_A', 'TM-TM_B', 'TP-00', 'TP-TP_A', 'TP-TP_B',\n",
       "       'WP-WP'], dtype=object)"
      ]
     },
     "execution_count": 27,
     "metadata": {},
     "output_type": "execute_result"
    }
   ],
   "source": [
    "cv['CAT_MED'].sort_values().dropna().unique()"
   ]
  },
  {
   "cell_type": "code",
   "execution_count": 22,
   "id": "6a54f81f-fdf9-4782-9a4c-4aa290769765",
   "metadata": {},
   "outputs": [
    {
     "data": {
      "text/plain": [
       "array(['2H1', '2H9', '2H2', '2H3', '2H4'], dtype=object)"
      ]
     },
     "execution_count": 22,
     "metadata": {},
     "output_type": "execute_result"
    }
   ],
   "source": [
    "cv[cv['SGL_CATEGORIA']=='GC_M-EX']['COD_TIPO_PRODUCTO'].unique()"
   ]
  },
  {
   "cell_type": "code",
   "execution_count": 24,
   "id": "9be10ade-df1c-483a-84b5-ff49aa298b45",
   "metadata": {},
   "outputs": [
    {
     "data": {
      "text/plain": [
       "array(['2R'], dtype=object)"
      ]
     },
     "execution_count": 24,
     "metadata": {},
     "output_type": "execute_result"
    }
   ],
   "source": [
    "cv[cv['SGL_CATEGORIA']=='NRC-00']['COD_TIPO_PRODUCTO'].unique()"
   ]
  },
  {
   "cell_type": "code",
   "execution_count": 25,
   "id": "e2c539fc-a088-4f2b-8e7f-b05ab96e0a8a",
   "metadata": {},
   "outputs": [
    {
     "data": {
      "text/html": [
       "<div>\n",
       "<style scoped>\n",
       "    .dataframe tbody tr th:only-of-type {\n",
       "        vertical-align: middle;\n",
       "    }\n",
       "\n",
       "    .dataframe tbody tr th {\n",
       "        vertical-align: top;\n",
       "    }\n",
       "\n",
       "    .dataframe thead th {\n",
       "        text-align: right;\n",
       "    }\n",
       "</style>\n",
       "<table border=\"1\" class=\"dataframe\">\n",
       "  <thead>\n",
       "    <tr style=\"text-align: right;\">\n",
       "      <th></th>\n",
       "      <th>Unnamed: 0</th>\n",
       "      <th>COD_TIPO_PRODUCTO</th>\n",
       "      <th>TXT_NME_TIPO_PRODUCTO</th>\n",
       "      <th>NRO_NIVEL</th>\n",
       "      <th>COD_TIPO_PRODUCTO_PADRE</th>\n",
       "      <th>STA_ACTIVO</th>\n",
       "      <th>TPO_CLASE</th>\n",
       "    </tr>\n",
       "  </thead>\n",
       "  <tbody>\n",
       "    <tr>\n",
       "      <th>319</th>\n",
       "      <td>319.0</td>\n",
       "      <td>2R</td>\n",
       "      <td>Nuevo registro científico</td>\n",
       "      <td>1.0</td>\n",
       "      <td>2</td>\n",
       "      <td>T</td>\n",
       "      <td>DTI</td>\n",
       "    </tr>\n",
       "  </tbody>\n",
       "</table>\n",
       "</div>"
      ],
      "text/plain": [
       "     Unnamed: 0 COD_TIPO_PRODUCTO      TXT_NME_TIPO_PRODUCTO  NRO_NIVEL  \\\n",
       "319       319.0                2R  Nuevo registro científico        1.0   \n",
       "\n",
       "    COD_TIPO_PRODUCTO_PADRE STA_ACTIVO TPO_CLASE  \n",
       "319                       2          T       DTI  "
      ]
     },
     "execution_count": 25,
     "metadata": {},
     "output_type": "execute_result"
    }
   ],
   "source": [
    "tp[tp['COD_TIPO_PRODUCTO'].str.contains('^2R')]"
   ]
  },
  {
   "cell_type": "code",
   "execution_count": null,
   "id": "94c77b42-9d89-4d9f-b58d-39a9b067f214",
   "metadata": {},
   "outputs": [],
   "source": []
  }
 ],
 "metadata": {
  "kernelspec": {
   "display_name": "Python 3 (ipykernel)",
   "language": "python",
   "name": "python3"
  },
  "language_info": {
   "codemirror_mode": {
    "name": "ipython",
    "version": 3
   },
   "file_extension": ".py",
   "mimetype": "text/x-python",
   "name": "python",
   "nbconvert_exporter": "python",
   "pygments_lexer": "ipython3",
   "version": "3.9.2"
  }
 },
 "nbformat": 4,
 "nbformat_minor": 5
}
