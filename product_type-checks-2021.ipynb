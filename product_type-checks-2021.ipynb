{
 "cells": [
  {
   "cell_type": "markdown",
   "id": "eb5d1a03-7787-469d-94db-a4dd7d1775ea",
   "metadata": {},
   "source": [
    "## Análisis de tipos de producto CvLAC"
   ]
  },
  {
   "cell_type": "code",
   "execution_count": 1,
   "id": "23a79fb2-ed19-4f79-9d77-ce469ca729a2",
   "metadata": {},
   "outputs": [],
   "source": [
    "import pandas as pd\n",
    "import requests\n",
    "import time\n",
    "import json\n",
    "dtype={\n",
    "'COD_RH':str,\n",
    "'NRO_ID_GRUPO':str,\n",
    "'COD_RH_MUNICIPIO':str,\n",
    "'COD_INST':str,\n",
    "'COD_INST_AVALA':str,\n",
    "'COD_INST_MACRO':str,\n",
    "'COD_INSTITUCION':str,         \n",
    "'COD_INST_OTRO':str,\n",
    "'ID_DEPARTAMENTO':str,\n",
    "'COD_DEPA_DANE': str,\n",
    "'COD_MUNI_DANE':str,\n",
    "'COD_RH_OTRO':str,\n",
    "'COD_RH_COAUTOR':str,\n",
    "'COD_RH_CREA':str\n",
    " }"
   ]
  },
  {
   "cell_type": "markdown",
   "id": "02e6c6d2-1470-42ad-a1ad-19ff37a8f02e",
   "metadata": {},
   "source": [
    "# Check some products"
   ]
  },
  {
   "cell_type": "code",
   "execution_count": 14,
   "id": "e564e46b-5b9d-49b1-83d8-0b78011c1158",
   "metadata": {},
   "outputs": [],
   "source": [
    "pf=pd.read_json('product_type_NIVEL_MAX_2021.json',dtype=dtype)"
   ]
  },
  {
   "cell_type": "code",
   "execution_count": 3,
   "id": "38d09aba-48c7-49a6-9238-62fcbf49877b",
   "metadata": {},
   "outputs": [],
   "source": [
    "JSON=False\n",
    "if JSON:\n",
    "    f=open('product_type_NIVEL_MAX_2021.json','r')\n",
    "    pf=json.load(f)\n",
    "    f.close()"
   ]
  },
  {
   "cell_type": "code",
   "execution_count": 17,
   "id": "9dbb39e8-e31a-4486-8b87-cf80ece553d9",
   "metadata": {},
   "outputs": [],
   "source": [
    "#pf=pf.drop_duplicates(subset='COD_RH')"
   ]
  },
  {
   "cell_type": "markdown",
   "id": "ade21a4d-76e4-48fc-80a2-2f51bc48c43a",
   "metadata": {},
   "source": [
    "## Articles"
   ]
  },
  {
   "cell_type": "code",
   "execution_count": 15,
   "id": "0eca8189-a067-4014-8248-17eec17a4fa5",
   "metadata": {},
   "outputs": [],
   "source": [
    "producto='111: Publicado en revista especializada'\n",
    "pf=pf[pf['NIVEL_MAX']==producto].reset_index(drop=True)"
   ]
  },
  {
   "cell_type": "code",
   "execution_count": 16,
   "id": "b6a16241-8e1d-42c4-a908-ca2766fdb263",
   "metadata": {},
   "outputs": [
    {
     "data": {
      "text/plain": [
       "(72886, 5)"
      ]
     },
     "execution_count": 16,
     "metadata": {},
     "output_type": "execute_result"
    }
   ],
   "source": [
    "pf.shape"
   ]
  },
  {
   "cell_type": "code",
   "execution_count": 19,
   "id": "e0264dc9-863b-4a69-9d8d-0bc5fa669f3e",
   "metadata": {},
   "outputs": [
    {
     "name": "stdin",
     "output_type": "stream",
     "text": [
      "APIKEY:  ·········\n"
     ]
    }
   ],
   "source": [
    "import getpass\n",
    "RUN=True\n",
    "if RUN:\n",
    "    APIKEY=getpass.getpass('APIKEY: ')"
   ]
  },
  {
   "cell_type": "code",
   "execution_count": 20,
   "id": "3501b43f-2410-4a77-a6ed-e55ef2ee68c8",
   "metadata": {},
   "outputs": [
    {
     "name": "stdout",
     "output_type": "stream",
     "text": [
      "72885\r"
     ]
    }
   ],
   "source": [
    "#%%writefile comment_this_line_for_run.py\n",
    "store=1000\n",
    "l=[]\n",
    "for i,ds in pf.iterrows():\n",
    "    print(i,end='\\r')\n",
    "    try:\n",
    "        r=requests.get(f'http://clustercien.udea.edu.co:8080/scienti/product?apikey={APIKEY}&model_year=2021&COD_RH={ds.COD_RH}&COD_PRODUCTO={ds.COD_PRODUCTO}')\n",
    "    except:\n",
    "        time.sleep(0.1)\n",
    "        continue\n",
    "\n",
    "    d=r.json()\n",
    "    #Articles with DOI, group or SGL_CATEGORY\n",
    "    if d.get('TXT_DOI') or d.get('group') or d.get('SGL_CATEGORY'):\n",
    "        l.append(d)\n",
    "        if i%store==0:\n",
    "            print(i,end='\\r')\n",
    "            f=open('product_type_111_2021.json','w')\n",
    "            json.dump(l,f)\n",
    "            f.close()            \n",
    "    time.sleep(0.01)\n",
    "f=open('product_type_111_2021.json','w')\n",
    "json.dump(l,f)\n",
    "f.close()    "
   ]
  },
  {
   "cell_type": "markdown",
   "id": "fdce07d1-c5c9-46c3-be24-53c3382edf62",
   "metadata": {},
   "source": [
    "### Load articles with DOI, SGL_CATEGORY or Group"
   ]
  },
  {
   "cell_type": "code",
   "execution_count": 21,
   "id": "ba62a6b8-21d3-4f44-8698-a9e7637088f8",
   "metadata": {},
   "outputs": [],
   "source": [
    "import json"
   ]
  },
  {
   "cell_type": "code",
   "execution_count": 24,
   "id": "4f865d76-097c-43af-a9a1-087ebcbe4233",
   "metadata": {},
   "outputs": [],
   "source": [
    "f=open('product_type_111_2021.json','r')\n",
    "l=json.load(f)\n",
    "f.close()"
   ]
  },
  {
   "cell_type": "code",
   "execution_count": 25,
   "id": "3a279de6-7550-4bc3-98e6-a310b85604a8",
   "metadata": {},
   "outputs": [],
   "source": [
    "l=[x for x in l if x.get('group')]"
   ]
  },
  {
   "cell_type": "code",
   "execution_count": 28,
   "id": "1439d739-cb6b-47cb-a9dd-d3ee03486857",
   "metadata": {},
   "outputs": [],
   "source": [
    "f=open('product_type_111_group_2021.json','w')\n",
    "json.dump(l,f)\n",
    "f.close()"
   ]
  },
  {
   "cell_type": "code",
   "execution_count": 31,
   "id": "30964bd2-c0cb-432f-8ff2-2e8b48a3f337",
   "metadata": {},
   "outputs": [],
   "source": [
    "f=open('product_type_111_group_2021.json','r')\n",
    "l=json.load(f)\n",
    "f.close()"
   ]
  },
  {
   "cell_type": "code",
   "execution_count": 33,
   "id": "7e0687b7-d194-4c59-aa3d-db85f6700e15",
   "metadata": {},
   "outputs": [],
   "source": [
    "l=pd.DataFrame(l)"
   ]
  },
  {
   "cell_type": "code",
   "execution_count": 57,
   "id": "26049436-6786-46bc-80d0-64c81f8b5bb8",
   "metadata": {},
   "outputs": [],
   "source": [
    "from IPython.display import JSON"
   ]
  },
  {
   "cell_type": "code",
   "execution_count": 62,
   "id": "e940e3f9-1c49-4bf0-b945-18d4c4174a66",
   "metadata": {},
   "outputs": [
    {
     "data": {
      "application/json": {
       "ANO_FIM": "nan",
       "ANO_INIC": "nan",
       "CAT_MED": "ART-ART_A2",
       "COD_DOS_MDCN": "nan",
       "COD_INST_AVALA": "007300000887",
       "COD_PRODUCTO": "56",
       "COD_PRODUCTO_BNR": "nan",
       "COD_PROYECTO": "nan",
       "COD_PROYECTO_BNR": "nan",
       "COD_RH": "0000000132",
       "COD_TIPO_PRODUCTO": "111",
       "COD_TIPO_PRODUCTO_ANT": "nan",
       "COD_TIPO_PRODUCTO_MDCN": "nan",
       "COD_TRES_MDCN": "nan",
       "COD_UNO_MDCN": "nan",
       "DSC_PROJETO": "nan",
       "DTA_ACTUALIZACION": "Mon, 25 Sep 2017 16:12:45 GMT",
       "DTA_AVAL_INST": "Tue, 08 Mar 2016 09:00:10 GMT",
       "DTA_CREACION": "Fri, 22 Jan 2016 13:51:34 GMT",
       "DTA_VINCULACION": "Fri, 22 Jan 2016 13:51:34 GMT",
       "ID_USUARIO_AVAL": 145,
       "MES_FIM": "nan",
       "MES_INIC": "nan",
       "NRO_ANO_PRESENTA": 2015,
       "NRO_ARTISTICAS_DET": 0,
       "NRO_DOUTORADO": "nan",
       "NRO_ESPECIALIZACAO": "nan",
       "NRO_GRADUACAO": "nan",
       "NRO_ID_GRUPO": "00000000008117",
       "NRO_IND_EXISTENCIA_MDCN": "nan",
       "NRO_MESTRADO_ACAD": "nan",
       "NRO_MESTRADO_PROFIS": "nan",
       "NRO_MES_PRESENTA": 12,
       "NRO_PATENTES": 0,
       "NRO_REGISTROS": 0,
       "NRO_SECRETOS": 0,
       "SEQ_PRODUCTO": 30674,
       "SEQ_PROJETO": "nan",
       "SGL_CATEGORIA": "ART-ART_A2",
       "SGL_IDIOMA": "EN",
       "SGL_PAIS": "EUA",
       "STA_CERTIFICADO": "0",
       "STA_HUERFANO": "F",
       "STA_MEDIDO": "T",
       "STA_RELEVANCIA": "nan",
       "STA_REPETIDO": "nan",
       "STA_VENTANA": "nan",
       "STA_VENTANA_2": "nan",
       "STA_VERIFICACION_AUTO": "0",
       "STA_VERIFICACION_USUA": "4",
       "TIPO_PRODUCTO_MDCN": "nan",
       "TIPO_PRODUCTO_MDCN_2": "nan",
       "TPO_AVAL_INST": "T",
       "TPO_MEDIO_DIVULGACION": "H",
       "TPO_NATUREZA": "nan",
       "TPO_SITUACAO": "nan",
       "TXT_COMPLEMENTARIO": "nan",
       "TXT_DOI": "10.1016/j.toxicon.2015.08.016.",
       "TXT_IND_CALIDAD_MDCN": "nan",
       "TXT_IND_CALIDAD_MDCN_2": "nan",
       "TXT_INST_PART": "nan",
       "TXT_NME_PROD": "Snake venomics of Micrurus alleni and Micrurus mosquitensis from the Caribbean region of Costa Rica reveals two divergent compositional patterns in New World elapids.",
       "TXT_NOME_PROJETO": "nan",
       "TXT_OBSERV_PROD": "nan",
       "TXT_RESUMEN_PROD": "nan",
       "TXT_WEB_PRODUCTO": "http://www.sciencedirect.com/science/article/pii/S0041010115300465",
       "author": [
        {
         "AUTOR_ID_SCP": "1110473903",
         "COD_CERTIFICACION": "8888888243388928353678",
         "COD_MUN_EXPED_DOC": "1169",
         "COD_MUN_NACIM": "718",
         "COD_ORCID": "8888-8884-4355-3367",
         "COD_RH": "0000000132",
         "COD_RH_MUN_EXPED_DOC": "0000000000",
         "COD_RH_MUN_NACIM": "0000000000",
         "COD_RH_RELIGION": "0000000000",
         "DTA_ACTUALIZACION": "Mon, 02 Aug 2021 11:04:46 GMT",
         "DTA_CERTIFICADO": "Wed, 29 Oct 2008 00:00:00 GMT",
         "DTA_CREACION": "Wed, 29 Oct 2008 02:17:07 GMT",
         "DTA_NACIM": "Mon, 08 Aug 1988 00:00:00 GMT",
         "NRO_DOCUMENTO_IDENT": "2228614584",
         "NRO_ID_CNPQ": "5213666558921517",
         "SGL_PAIS_NACIM": "COL",
         "STA_ACTIVO": "A",
         "STA_CERTIFICADO": "T",
         "STA_VISIBLE": "T",
         "TPO_DIRECCION_USUAL": "R",
         "TPO_DOCUMENTO_IDENT": "C",
         "TPO_ESTADO_CIVIL": "C",
         "TPO_NACIONALIDAD": "C",
         "TPO_PERFIL": "IJ",
         "TPO_SEXO": "F",
         "TXT_CITACION_BIBLIO": "QUX-REIQUY N",
         "TXT_CONF_DATOS": "T",
         "TXT_DESC_PERFIL": "el accidente ofidico es un grave problema de salud a nivel mundial, por lo tanto se requiere conocer  la composición de los venenos, su funcionamiento y el mecanismo de acción de las toxinas que lo componen para poder desarrollar nuevas estrategias de producción de anti venenos y lograr disminuir las muertes y secuelas dejadas en los pacientes. En este sentido mi trabajo ha ampliado el conocimiento de los venenos de serpientes de importancia clínica en Colombia y latinoamerica, especialmente de venenos de serpientes coral. También ha permitido desarrollar nuevas estrategias de producción de antivenenos experimentales anticoral y entender el funcionamiento de las toxinas de estos venenos y su potencial aplicación como moléculas de interés farmacológico (antimicrobianas y antitumorales). Adicionalmente ha permitido validar el conocimiento tradicional de las comunidades afectadas por las mordeduras de serpiente, mediante ensayos in-vitro e in-vivo de las plantas que se utilizan para tratar dichos envenenamientos.",
         "TXT_NAMES_RH": "Hurrobi Niaki ",
         "TXT_PRIM_APELL": "Qux ",
         "TXT_RESPUESTA": "mapana",
         "TXT_SEG_APELL": "Reiquy",
         "TXT_TOTAL_NAMES": "Hurrobi Niaki Qux Reiquy",
         "city": [
          {
           "COD_MUNICIPIO": "718",
           "COD_MUNI_DANE": "25290",
           "COD_RH_MUNICIPIO": "0000000000",
           "DTA_ACTUALIZACION": "Tue, 18 Oct 2016 14:55:26 GMT",
           "DTA_CREACION": "Wed, 07 May 2008 12:29:11 GMT",
           "ID_MUNICIPIO": 854,
           "SGL_DEPARTAMENTO": "CU",
           "SGL_PAIS": "COL",
           "TXT_NME_MUNICIPIO": "FUSAGASUGÁ",
           "department": [
            {
             "COD_DEPA_DANE": "25",
             "DTA_ACTUALIZACION": "Tue, 18 Oct 2016 14:46:43 GMT",
             "DTA_CREACION": "Fri, 24 Oct 2008 11:45:35 GMT",
             "ID_DEPARTAMENTO": 43,
             "SGL_DEPARTAMENTO": "CU",
             "SGL_PAIS": "COL",
             "SGL_REGION": "CE",
             "TXT_NME_DEPARTAMENTO": "CUNDINAMARCA",
             "country": [
              {
               "COD_PAIS_SIGP": 19,
               "DTA_ACTUALIZACION": "Fri, 05 Jun 2015 14:54:20 GMT",
               "DTA_CREACION": "Fri, 05 Jun 2015 14:54:15 GMT",
               "SGL_CONTINENTE": "AME",
               "SGL_CONTINENTE_4": "AME",
               "SGL_CONTINENTE_6": "AME",
               "SGL_CONTINENTE_7": "SAM",
               "SGL_CONTINENTE_8": "SAM",
               "SGL_IDIOMA": "EN",
               "SGL_PAIS": "COL",
               "SGL_PAIS_ISO_2": "CO",
               "TXT_NME_PAIS": "Colombia",
               "TXT_NME_PAIS_ING": "Colombia"
              }
             ]
            }
           ]
          }
         ]
        }
       ],
       "author_others": [
        {
         "AUTOR_ID_SCP": "1110473903",
         "COD_ORCID": "0000-0003-3299-2246",
         "COD_RH_CREA": "0000000132",
         "COD_RH_OTRO": "0",
         "COD_RH_REF": "0000000132",
         "DTA_ACTUALIZACION": "Wed, 18 Sep 2019 14:06:13 GMT",
         "DTA_CREACION": "Wed, 29 Oct 2008 02:17:07 GMT",
         "DTA_NACIMIENTO": "Sun, 08 May 1988 00:00:00 GMT",
         "NRO_DOC_IDENTIFICACION": "1110473903",
         "NRO_ID_CNPQ": "5213666558921517",
         "SGL_PAIS": "COL",
         "TPO_DOC_IDENTIFICACION": "C",
         "TPO_NACIONALIDAD": "C",
         "TXT_NME_RH": "Jessica Paola ",
         "TXT_PRIM_APELL": "Rey ",
         "TXT_SEG_APELL": "Suarez",
         "TXT_TOTAL_NAMES": "Jessica Paola Rey Suarez"
        },
        {
         "COD_RH_CREA": "0000000132",
         "COD_RH_OTRO": "12",
         "DTA_ACTUALIZACION": "Fri, 13 Jan 2012 22:39:03 GMT",
         "DTA_CREACION": "Fri, 13 Jan 2012 22:39:03 GMT",
         "SGL_PAIS": "COL",
         "TPO_DOC_IDENTIFICACION": "E",
         "TPO_NACIONALIDAD": "C",
         "TXT_NME_RH": "Juan Jose",
         "TXT_PRIM_APELL": "Calvete",
         "TXT_TOTAL_NAMES": "Juan Jose Calvete"
        },
        {
         "COD_RH_CREA": "0000000132",
         "COD_RH_OTRO": "7",
         "DTA_ACTUALIZACION": "Fri, 13 Jan 2012 22:32:10 GMT",
         "DTA_CREACION": "Fri, 13 Jan 2012 22:32:10 GMT",
         "SGL_PAIS": "COL",
         "TPO_DOC_IDENTIFICACION": "E",
         "TPO_NACIONALIDAD": "C",
         "TXT_NME_RH": "Bruno",
         "TXT_PRIM_APELL": "Lomonte",
         "TXT_TOTAL_NAMES": "Bruno Lomonte"
        },
        {
         "COD_RH_CREA": "0000000132",
         "COD_RH_OTRO": "8",
         "DTA_ACTUALIZACION": "Fri, 13 Jan 2012 22:32:28 GMT",
         "DTA_CREACION": "Fri, 13 Jan 2012 22:32:28 GMT",
         "SGL_PAIS": "COL",
         "TPO_DOC_IDENTIFICACION": "E",
         "TPO_NACIONALIDAD": "C",
         "TXT_NME_RH": "Jose Maria",
         "TXT_PRIM_APELL": "Gutierrez",
         "TXT_TOTAL_NAMES": "Jose Maria Gutierrez"
        }
       ],
       "details": [
        {
         "article": [
          {
           "COD_MUNICIPIO": "560",
           "COD_PRODUCTO": "56",
           "COD_REVISTA": 807,
           "COD_RH": "0000000132",
           "COD_RH_MUNICIPIO": "0000000000",
           "DTA_ACTUALIZACION": "Fri, 22 Jan 2016 11:08:03 GMT",
           "DTA_CREACION": "Fri, 22 Jan 2016 11:08:03 GMT",
           "TXT_FASCICULO_REVISTA": "N/A",
           "TXT_PAGINA_FINAL": "233",
           "TXT_PAGINA_INICIAL": "217",
           "TXT_SERIE_REVISTA": "1",
           "TXT_VOLUMEN_REVISTA": "107",
           "journal": [
            {
             "COD_EDITORIAL": 8321,
             "COD_REVISTA": 807,
             "COD_REVISTA_REF": 96117,
             "SGL_PAIS": "GBR",
             "STA_VERIFICADA": "P",
             "TPO_CLASIFICACION": "A1",
             "TPO_REVISTA": "P",
             "TXT_FRECUENCIA": "Bimestrual",
             "TXT_ISSN": "00410101",
             "TXT_ISSN_REF": "18793150",
             "TXT_ISSN_REF_SEP": "1879-3150",
             "TXT_ISSN_SEP": "0041-0101",
             "TXT_LUGAR_PUBLICACION": "Oxford",
             "TXT_MEDIO_DIVULGACION": "Papel",
             "TXT_NME_REVISTA": "Toxicon",
             "editorial": [
              {
               "COD_EDITORIAL": 8321,
               "COD_RH_MUNICIPIO": "0000000000",
               "TPO_INSTITUCION": "IL",
               "TXT_NME_EDITORIAL": "Jai-Elsevier Ltd",
               "TXT_REFERENCIA": "BC"
              }
             ]
            }
           ]
          }
         ]
        }
       ],
       "group": [
        {
         "ANO_FORMACAO": 1988,
         "COD_AREA_CONHEC": "3B28",
         "COD_AREA_CONHEC_BK": "3B",
         "COD_CERTIFICACION": "COL0014476201904231526",
         "COD_GRAN_AREA_CONHEC_MED": "3",
         "COD_ID_GRUPO": "COL0014476",
         "COD_PROGRAMA": 2,
         "COD_PROGRAMA_SECUND": 5,
         "COD_RH_AREA": "0000000000",
         "DTA_ACTUALIZACION": "Tue, 27 Jul 2021 19:34:52 GMT",
         "DTA_CERTIFICADO": "Tue, 23 Apr 2019 00:00:00 GMT",
         "DTA_CLASIF": "Fri, 06 Dec 2019 00:00:00 GMT",
         "DTA_CREACION": "Wed, 29 Aug 2007 15:25:00 GMT",
         "DTA_FIN_CLASIF": "Sun, 05 Dec 2021 00:00:00 GMT",
         "DTA_INI_SESION": "Tue, 27 Jul 2021 19:10:54 GMT",
         "DTA_TPO_GRUPO": "Fri, 06 Dec 2019 00:00:00 GMT",
         "MES_FORMACAO": 3,
         "NME_GRUPO": "Toxinología, Alternativas Terapéuticas y Alimentarias",
         "NRO_ID_GRUPO": "00000000008117",
         "STA_ACTIVO": "A",
         "STA_CENTRO": "F",
         "STA_CERTIFICADO": "T",
         "STA_ELIMINADO": "F",
         "STA_SECTOR": "F",
         "TPO_CENTRO": "A",
         "TPO_ESTADO_GR": 0,
         "TPO_GRUPO": "T",
         "TXT_CLASIF": "A1",
         "TXT_CLASIF_1": "A1",
         "TXT_ESTADO_ARTE": "Los envenamientos causados por animales venenosos son un problema de salud pública en muchos paises.  Las serpientes y escorpiones  son los grupos  responsables de el mayor porcentaje de  los accidentes. En el mundo anualmente se informan  500.000 mordeduras de serpientes con una mortalidad  que va del 0.6 al 13 % . En Colombia  se presentan  anualmente 3000 accidentes ofidicos con una mortalidad del 5 - 9% y secuelas del 6 - 9%. Los acidentes por artropodos venenosos son aun mas frecuentes que los ofidicos y en algunos paises como Mexico se informan anualmente cerca de 200.000 picaduras por escorpiones.  En Colombia el panorama del accidente escorpiónico era desconocido, solo estudios recientes en los departamentos de Antioquia y Tolima, demostraron que se presentan alrededor de 200 picaduras por año y que se presentan casos moderados a graves  que ponen en riesgo la vida, especialmente en los niños.\r\nEn el mundo los investigadores dia a dia buscan entender  las características de los evenamientos producidos por estos animales, asi como desarrollar  o mejorar productos  que contrarresten estos efectos con el fin de disminuir la morbimortalidad. \r\nLos avances de la biquímica moderna y de la biología molecular han permitido realizar experimentos mas completos, permitiendo identificar la estructura química de algunas toxinas y el mecanismo de acción. Esta información es valiosa para la genraciòn de nuevo conocimiento, asi como en la generaciòn de posibles aplicaciones terpaeùticas o alimentarias.\r\nEl trabajo que vienen desarrollando el grupo de ofidismo y escorpionismo permite generar avances en el conocimiento y profundizacion en el campo de la toxinologia en el paìs, ademas ha contribuido con  el mejoramiento de la atención de los pacientes y en la froamciòn de profesionales tanto en rpegrado, y posgrado en el tema de al toxinologia\r\n\r\n\r\n\r\n\r\n\r\n\r\n\r\n\r\n\r\n\r\n\r\n\r\n\r\n\r\n\r\n\r\n\r\n\r\n\r\n\r\n\r\n\r\n\r\n\r\n\r\n\r\n\r\n\r\n\r\n\r\n\r\n\r\n\r\n\r\n\r\n\r\n\r\n\r\n\r\n\r\n\r\n\r\n\r\n\r\n\r\n\r\n\r\n\r\n\r\n\r\n\r\n\r\n\r\n\r\n\r\n\r\n\r\n\r\n\r\n\r\n\r\n\r\n\r\n\r\n\r\n\r\n\r\n",
         "TXT_OBJETIVOS": "General\r\nFortalecer la investigación interdisciplinaria en el campo de la toxinología\r\n\r\nEspecíficos\r\n- Adelantar investigaciones relacionadas con la clínica, epidemiología y tratamiento específico de las intoxicaciones causados por animales venenosos, plantas y microorganismos.\r\n\r\n- Realizar proyectos de investigación orientados a la búsqueda de moléculas o productos con aplicación farmacéutica, alimentaria o agrícola.\r\n\r\n- Evaluar el uso de los venenos de origen natural con potencial aplicación en los campos: farmacéutico, alimentario, cosmético y agrícola.\r\n\r\n-\tConsolidar y ampliar las estrategias educativas en el área de la toxinología para beneficio de la sociedad.\r\n\r\n-\tContribuir con la formación de estudiantes de pre y posgrado brindando los medios apropiados para su formación y realización de sus trabajos de investigación así como programas e intercambios colaborativos con universidades internacionales.\r\n\r\n",
         "TXT_PLAN_TRABAJO": "Para los próximos tres años el grupo de investigación se ha propuesto realizar las siguientes actividades:\r\n\r\n1. Ejecución de 4 proyectos de investigación\r\n        \r\n2. Publicar 4 articulos en revistas internacionales y 3 en revistas nacionales.\r\n\r\n3.Participar por lo menos en 2 eventos cientificos  internacionales y en 2 nacionales\r\n \r\n4. Contribuir con la formación de investigadores: 2 en el grado de maestria ,2 en doctorado y 6 en pregrado\r\n\r\n5. Fortalecer las relaciones con las instituciones externas existentes y  crear nuevas con otras instituciones  relacionadas con el campo de investigación.\r\n\r\n\r\n     ",
         "TXT_PROD_DESTACADA": "\r\n-Los diferentes  estudios clínico- epidemiologicos han permitido el establecieminto de protocolos de manejo del accidente ofídico.\r\n\r\n- La investigación básica con los venenos de serpientes y escorpiones han generado conocimiento nuevo en el área de toxinologia especialmente para nuestro país.\r\n\r\n- Los trabajos de etnobotánica llevaron al establecimiento de un inventario de las plantas usadas por la medicina tradiconal  (el cual es uno de los mas grandes informados en el mundo) y a la validación de estas en el laboratorio. Esto permitira abrir un campo de investigación en la busqueda de alternativas terpauticas para el accidente ofídico.\r\n\r\n- primer estudio  clinico- epidemiológico del escorpionismo en Colombia, el cual permitio identificar  el panorama de los accidentes ocasioandos por estos animales, e identificar las especies responsables, el grupo etareo mas suceptible, ademas de inciar con el desarrollo de protocos de manejo de estos accidentes.\r\n\r\n- Evaluación  de los antivenenos disponibles en colombia, Ademá de identificar  las necesidades reales de producción y distribución de estos.\r\n\r\n- Edición de material educatico (cuadernillo de ofidismo, afiches,boletin toxinolñogico, manual de diagnóstico y tratamiento del acidente ofídico, libro de plantas medicinales, videos,etc) ,de tal forma que toda la comunidad  tenga acceso a la educación en este campo.",
         "TXT_RETOS": "- Implementar nuevas tecnologías para la identificación y caracterización de toxinas y moléculas de interés\r\n\r\n- Fortalecer y ampliar las líneas de investigación\r\n\r\n- Incrementar el número de estudiantes formados en maestría y doctorado.\r\n\r\n- Incrementar los trabajos colaborativos con grupos internacionales.\r\n\r\n- Fortalecer el Centro de Información y Servicios en Animales Venenosos.\r\n\r\n- Ampliar el portafolio de servicios.\r\n\r\n- Presentar proyectos en convocatorias internacionales y conseguir recursos en entidades externas\r\n\r\n",
         "TXT_SUGERENCIAS": "El software es agradable y facil de llenar, pero en la etapa final de la convocatoria cuando hay demasiada gente ingresando la infroamciòn el sistema colapsa y se hace imposible ingresar la informaciòn",
         "TXT_VISION": "\r\nEn el año 2019 el Programa de Ofidismo/Escorpionismo será un referente internacional en la caracterización de venenos de origen natural, en el desarrollo de estudios clínico-epidemiológicos en toxinología y en la búsqueda de moléculas o productos con aplicación farmacéutica, alimentaria o agrícola. \r\n\r\n\r\n\r\n\r\n\r\n\r\n\r\n\r\n\r\n\r\n\r\n\r\n\r\n\r\n\r\n\r\n\r\n\r\n\r\n\r\n\r\n\r\n\r\n\r\n\r\n\r\n\r\n\r\n\r\n\r\n\r\n\r\n\r\n\r\n\r\n\r\n\r\n\r\n\r\n\r\n\r\n\r\n",
         "institution": [
          {
           "COD_IES": "1201",
           "COD_INST": "007300000887",
           "COD_INST_MACRO": "007300000887",
           "COD_MUNICIPIO": "786",
           "COD_NIVEL": 1,
           "COD_RH_MUNICIPIO": "0000000000",
           "COD_SECTOR_ECON": "241",
           "COD_SECTOR_ECON2": "1011",
           "DTA_ACEPTA_TERMINOS": "Mon, 08 Feb 2021 08:45:14 GMT",
           "DTA_ACTUALIZACION": "Mon, 08 Feb 2021 08:46:45 GMT",
           "DTA_CONSTITUCION": "Sat, 30 May 1964 00:00:00 GMT",
           "DTA_CREACION": "Mon, 12 May 2008 12:34:11 GMT",
           "ID_INSTITUCION": 883,
           "ID_REPRESENTANTE": 4,
           "NME_INST": "UNIVERSIDAD DE ANTIOQUIA",
           "SGL_DEPARTAMENTO": "31",
           "SGL_INST": "UdeA",
           "SGL_PAIS": "1",
           "STA_EXPORTA": 12,
           "STA_TERMINOS_COND": "T",
           "TPO_AVAL": "1",
           "TPO_CONTRIBUYENTE": 6,
           "TXT_CIUDAD_INST": "Medellín",
           "TXT_DIGITO_VERIFICADOR": "8",
           "TXT_DIRECCION": "Calle 67 53-10",
           "TXT_EMAIL": "viceinvestigacion@udea.edu.co",
           "TXT_NIT": "890980040",
           "TXT_TELEFONO": " 4-2195190",
           "URL_HOME_PAGE": "http://www.udea.edu.co"
          }
         ],
         "knowledge_area": [
          {
           "COD_AREA_CONOCIMIENTO": "3B28",
           "COD_AREA_CONOCIMIENTO_FULL": "3 - 3B - 3B28",
           "COD_AREA_PADRE": "3B",
           "COD_RH": "0000000000",
           "COD_RH_FULL": "0000000000",
           "COD_RH_PADRE": "0000000000",
           "DTA_ACTUALIZACION": "Thu, 31 Oct 2013 00:00:00 GMT",
           "DTA_CREACION": "Thu, 31 Oct 2013 00:00:00 GMT",
           "NRO_NIVEL": 2,
           "TPO_CAMBIO": "T",
           "TXT_NME_AREA": "Otros Temas de Medicina Clínica",
           "TXT_NME_AREA_FULL": "Ciencias Médicas y de la Salud -- Medicina Clínica -- Otros Temas de Medicina Clínica",
           "TXT_VERIFICADO": "T",
           "knowledge_area": [
            {
             "COD_AREA_CONOCIMIENTO": "3B",
             "COD_AREA_CONOCIMIENTO_FULL": "3 - 3B",
             "COD_AREA_PADRE": "3",
             "COD_RH": "0000000000",
             "COD_RH_FULL": "0000000000",
             "COD_RH_PADRE": "0000000000",
             "DTA_ACTUALIZACION": "Thu, 31 Oct 2013 00:00:00 GMT",
             "DTA_CREACION": "Thu, 31 Oct 2013 00:00:00 GMT",
             "NRO_NIVEL": 1,
             "TPO_CAMBIO": "T",
             "TXT_NME_AREA": "Medicina Clínica",
             "TXT_NME_AREA_FULL": "Ciencias Médicas y de la Salud -- Medicina Clínica",
             "TXT_VERIFICADO": "T",
             "knowledge_area": [
              {
               "COD_AREA_CONOCIMIENTO": "3",
               "COD_RH": "0000000000",
               "COD_RH_PADRE": "0000000000",
               "DTA_ACTUALIZACION": "Fri, 15 Nov 2013 11:42:07 GMT",
               "DTA_CREACION": "Thu, 31 Oct 2013 00:00:00 GMT",
               "NRO_NIVEL": 0,
               "TPO_CAMBIO": "T",
               "TXT_NME_AREA": "Ciencias Médicas y de la Salud",
               "TXT_NME_AREA_FULL": "Ciencias Médicas y de la Salud",
               "TXT_VERIFICADO": "T"
              }
             ]
            }
           ]
          }
         ]
        }
       ],
       "institution": [
        {
         "COD_IES": "1201",
         "COD_INST": "007300000887",
         "COD_INST_MACRO": "007300000887",
         "COD_MUNICIPIO": "786",
         "COD_NIVEL": 1,
         "COD_RH_MUNICIPIO": "0000000000",
         "COD_SECTOR_ECON": "241",
         "COD_SECTOR_ECON2": "1011",
         "DTA_ACEPTA_TERMINOS": "Mon, 08 Feb 2021 08:45:14 GMT",
         "DTA_ACTUALIZACION": "Mon, 08 Feb 2021 08:46:45 GMT",
         "DTA_CONSTITUCION": "Sat, 30 May 1964 00:00:00 GMT",
         "DTA_CREACION": "Mon, 12 May 2008 12:34:11 GMT",
         "ID_INSTITUCION": 883,
         "ID_REPRESENTANTE": 4,
         "NME_INST": "UNIVERSIDAD DE ANTIOQUIA",
         "SGL_DEPARTAMENTO": "31",
         "SGL_INST": "UdeA",
         "SGL_PAIS": "1",
         "STA_EXPORTA": 12,
         "STA_TERMINOS_COND": "T",
         "TPO_AVAL": "1",
         "TPO_CONTRIBUYENTE": 6,
         "TXT_CIUDAD_INST": "Medellín",
         "TXT_DIGITO_VERIFICADOR": "8",
         "TXT_DIRECCION": "Calle 67 53-10",
         "TXT_EMAIL": "viceinvestigacion@udea.edu.co",
         "TXT_NIT": "890980040",
         "TXT_TELEFONO": " 4-2195190",
         "URL_HOME_PAGE": "http://www.udea.edu.co"
        }
       ],
       "language": [
        {
         "DTA_ACTUALIZACION": "Fri, 05 Jun 2015 14:54:15 GMT",
         "DTA_CREACION": "Fri, 05 Jun 2015 14:54:15 GMT",
         "NRO_IMPORTANCIA": 2,
         "SGL_IDIOMA": "EN",
         "TXT_NME_IDIOMA": "Inglés"
        }
       ],
       "product_type": [
        {
         "COD_TIPO_PRODUCTO": "111",
         "COD_TIPO_PRODUCTO_PADRE": "11",
         "NRO_NIVEL": 2,
         "STA_ACTIVO": "T",
         "TPO_CLASE": "NC",
         "TXT_NME_TIPO_PRODUCTO": "Publicado en revista especializada",
         "product_type": [
          {
           "COD_TIPO_PRODUCTO": "11",
           "COD_TIPO_PRODUCTO_PADRE": "1",
           "NRO_NIVEL": 1,
           "STA_ACTIVO": "T",
           "TXT_NME_TIPO_PRODUCTO": "Artículo",
           "product_type": [
            {
             "COD_TIPO_PRODUCTO": "1",
             "NRO_NIVEL": 0,
             "STA_ACTIVO": "T",
             "TXT_NME_TIPO_PRODUCTO": "Producción bibliográfica"
            }
           ]
          }
         ]
        }
       ],
       "project": "nan"
      },
      "text/plain": [
       "<IPython.core.display.JSON object>"
      ]
     },
     "execution_count": 62,
     "metadata": {
      "application/json": {
       "expanded": false,
       "root": "root"
      }
     },
     "output_type": "execute_result"
    }
   ],
   "source": [
    "JSON(l.iloc[3].to_dict())"
   ]
  },
  {
   "cell_type": "code",
   "execution_count": 49,
   "id": "056907d8-f6e7-4557-8eeb-a6d80dd2543d",
   "metadata": {},
   "outputs": [
    {
     "data": {
      "text/plain": [
       "'75'"
      ]
     },
     "execution_count": 49,
     "metadata": {},
     "output_type": "execute_result"
    }
   ],
   "source": [
    "l.get('details').str[0].str.get('article').str[0].str.get('TXT_VOLUMEN_REVISTA').loc[0]"
   ]
  },
  {
   "cell_type": "code",
   "execution_count": 63,
   "id": "130dcf68-5f98-4aeb-b1ed-b6455c76f8fa",
   "metadata": {},
   "outputs": [
    {
     "data": {
      "text/plain": [
       "'655'"
      ]
     },
     "execution_count": 63,
     "metadata": {},
     "output_type": "execute_result"
    }
   ],
   "source": [
    "l.get('details').str[0].str.get('article').str[0].str.get('TXT_PAGINA_INICIAL').loc[0]"
   ]
  },
  {
   "cell_type": "code",
   "execution_count": 64,
   "id": "59b83e4e-090e-4f80-914f-39d5d03c8d82",
   "metadata": {},
   "outputs": [
    {
     "data": {
      "text/plain": [
       "'667'"
      ]
     },
     "execution_count": 64,
     "metadata": {},
     "output_type": "execute_result"
    }
   ],
   "source": [
    "l.get('details').str[0].str.get('article').str[0].str.get('TXT_PAGINA_FINAL').loc[0]"
   ]
  },
  {
   "cell_type": "code",
   "execution_count": 55,
   "id": "f741f26d-92dd-41d2-9385-22a8df7e2ace",
   "metadata": {},
   "outputs": [
    {
     "data": {
      "text/plain": [
       "'1874-3919'"
      ]
     },
     "execution_count": 55,
     "metadata": {},
     "output_type": "execute_result"
    }
   ],
   "source": [
    "l.get('details').str[0].str.get('article').str[0\n",
    "    ].str.get('journal').str[0].str.get('TXT_ISSN_SEP').loc[0]"
   ]
  },
  {
   "cell_type": "code",
   "execution_count": 65,
   "id": "182cea61-0209-44ab-a9cd-5780ebfa1587",
   "metadata": {},
   "outputs": [
    {
     "data": {
      "text/plain": [
       "'Journal of Proteomics'"
      ]
     },
     "execution_count": 65,
     "metadata": {},
     "output_type": "execute_result"
    }
   ],
   "source": [
    "l.get('details').str[0].str.get('article').str[0\n",
    "    ].str.get('journal').str[0].str.get('TXT_NME_REVISTA').loc[0]"
   ]
  },
  {
   "cell_type": "code",
   "execution_count": null,
   "id": "204dac49-2b21-4735-9ab7-9fdbd2301bae",
   "metadata": {},
   "outputs": [],
   "source": [
    "'TXT_DOI' → doi,\n",
    "'TXT_NME_PROD'→Título, \n",
    "'author_others' → 'TXT_TOTAL_NAMES' → autor\n",
    "'NRO_ANO_PRESENTA' → año,\n",
    "'TXT_WEB_PRODUCTO' → url\n",
    "'details' → volumen, página inicial, página final,  \n",
    "'details' → 'journal' → ISSN, nombre revista\n",
    "'group' →  → \n",
    "'NRO_ID_GRUPO':\"00000000008117\"\n",
    "'COD_ID_GRUPO':\"COL0014476\"\n",
    "'NME_GRUPO':\"Toxinología, Alternativas Terapéuticas y Alimentarias\""
   ]
  },
  {
   "cell_type": "code",
   "execution_count": 70,
   "id": "041d222f-7151-4d16-8098-2faf3b6edbc0",
   "metadata": {},
   "outputs": [],
   "source": [
    "c=set(l.columns).difference(['TXT_DOI',\n",
    "'TXT_NME_PROD', \n",
    "'author_others',\n",
    "'NRO_ANO_PRESENTA',\n",
    "'TXT_WEB_PRODUCTO',\n",
    "'details',\n",
    "'group'])"
   ]
  },
  {
   "cell_type": "code",
   "execution_count": 72,
   "id": "8e6b314c-450b-4434-a75b-74006ce34e8e",
   "metadata": {},
   "outputs": [],
   "source": [
    "l=l.drop(c,axis='columns')"
   ]
  },
  {
   "cell_type": "code",
   "execution_count": 75,
   "id": "d2895739-fe48-4426-8d7b-ce7871730191",
   "metadata": {},
   "outputs": [
    {
     "data": {
      "text/html": [
       "<div>\n",
       "<style scoped>\n",
       "    .dataframe tbody tr th:only-of-type {\n",
       "        vertical-align: middle;\n",
       "    }\n",
       "\n",
       "    .dataframe tbody tr th {\n",
       "        vertical-align: top;\n",
       "    }\n",
       "\n",
       "    .dataframe thead th {\n",
       "        text-align: right;\n",
       "    }\n",
       "</style>\n",
       "<table border=\"1\" class=\"dataframe\">\n",
       "  <thead>\n",
       "    <tr style=\"text-align: right;\">\n",
       "      <th></th>\n",
       "      <th>TXT_NME_PROD</th>\n",
       "      <th>NRO_ANO_PRESENTA</th>\n",
       "      <th>group</th>\n",
       "      <th>author_others</th>\n",
       "      <th>details</th>\n",
       "      <th>TXT_WEB_PRODUCTO</th>\n",
       "      <th>TXT_DOI</th>\n",
       "    </tr>\n",
       "  </thead>\n",
       "  <tbody>\n",
       "    <tr>\n",
       "      <th>0</th>\n",
       "      <td>Proteomic and biological characterization of t...</td>\n",
       "      <td>2011</td>\n",
       "      <td>[{'NRO_ID_GRUPO': '00000000008117', 'COD_ID_GR...</td>\n",
       "      <td>[{'COD_RH_CREA': '0000000132', 'COD_RH_OTRO': ...</td>\n",
       "      <td>[{'article': [{'COD_RH': '0000000132', 'COD_PR...</td>\n",
       "      <td>NaN</td>\n",
       "      <td>NaN</td>\n",
       "    </tr>\n",
       "  </tbody>\n",
       "</table>\n",
       "</div>"
      ],
      "text/plain": [
       "                                        TXT_NME_PROD  NRO_ANO_PRESENTA  \\\n",
       "0  Proteomic and biological characterization of t...              2011   \n",
       "\n",
       "                                               group  \\\n",
       "0  [{'NRO_ID_GRUPO': '00000000008117', 'COD_ID_GR...   \n",
       "\n",
       "                                       author_others  \\\n",
       "0  [{'COD_RH_CREA': '0000000132', 'COD_RH_OTRO': ...   \n",
       "\n",
       "                                             details TXT_WEB_PRODUCTO TXT_DOI  \n",
       "0  [{'article': [{'COD_RH': '0000000132', 'COD_PR...              NaN     NaN  "
      ]
     },
     "execution_count": 75,
     "metadata": {},
     "output_type": "execute_result"
    }
   ],
   "source": [
    "l[:1]"
   ]
  },
  {
   "cell_type": "markdown",
   "id": "9c25f4c0-b2ef-4798-83d4-de6e0ad82ea6",
   "metadata": {},
   "source": [
    "### Normalize DOIS"
   ]
  },
  {
   "cell_type": "code",
   "execution_count": 11,
   "id": "1d763d84-bfbb-4204-8256-93ef92a8929c",
   "metadata": {},
   "outputs": [],
   "source": [
    "import re\n",
    "def normalize_dois(s):\n",
    "    ss=s #store NaN\n",
    "    if isinstance(s,str):\n",
    "        ss=s.strip().lower()\n",
    "        ss=re.sub('\\.$','',ss) #proper doi end\n",
    "        ss=re.split('https*:\\/\\/.*doi\\.org\\/',ss)[-1].strip() #also works with oadoi!\n",
    "        #Quality checks\n",
    "        if (re.search('https*:\\/\\/',ss) #exclude Improper URL\n",
    "            or ss.find('/')==-1 # Must contains at least one '\\/', exclude: '-', '--','00','n.a.', etc.\n",
    "            or re.search('^.\\/.$',ss) #exclude 'N/A', 'n/a' etc\n",
    "            ): \n",
    "            ss=None\n",
    "        else:\n",
    "            ss=ss.split(':')[-1].strip() #Proper doi split\n",
    "            ss=re.split('^.*doi\\.org\\/',ss)[-1].strip() #also works with oadoi!\n",
    "    return ss\n",
    "\n",
    "assert normalize_dois('10.18273/RevMed')=='10.18273/revmed'\n",
    "assert normalize_dois('doi:10.18273/revmed')=='10.18273/revmed'\n",
    "assert normalize_dois('doi: 10.18273/RevMed')=='10.18273/revmed'\n",
    "assert normalize_dois('10.3390/molecules23102662.')=='10.3390/molecules23102662'\n",
    "assert normalize_dois('https://doi.org/10.1155/2017/1702506')=='10.1155/2017/1702506'\n",
    "assert normalize_dois('http://doi.org/10.1155/2017/1702506')=='10.1155/2017/1702506'\n",
    "assert normalize_dois('http://dx.doi.org/10.1155/2017/1702506')=='10.1155/2017/1702506'\n",
    "assert normalize_dois('http://oadoi.org/10.1155/2017/1702506')=='10.1155/2017/1702506'\n",
    "assert normalize_dois('dx.doi.org/10.1155/2017/1702506')=='10.1155/2017/1702506'\n",
    "assert normalize_dois('http://www.udea.edu.co/10.1155/2017/1702506') is None\n",
    "assert normalize_dois('N/A') is None\n",
    "assert normalize_dois('-') is None\n",
    "assert normalize_dois('') is None\n",
    "assert isinstance(normalize_dois(float('NaN')),float) #return NaN\n",
    "assert normalize_dois(['10.18273/revmed','10.3823/1406'])==['10.18273/revmed','10.3823/1406'] #ignore not str objects"
   ]
  },
  {
   "cell_type": "code",
   "execution_count": 12,
   "id": "c1bcbab7-2c52-449b-98b8-d1414e45928a",
   "metadata": {},
   "outputs": [],
   "source": [
    "l['TXT_DOI']=l['TXT_DOI'].apply(normalize_dois)"
   ]
  },
  {
   "cell_type": "code",
   "execution_count": 13,
   "id": "4e98d348-8032-476d-aded-0bb6aa9539d8",
   "metadata": {},
   "outputs": [],
   "source": [
    "l['same_title']=l.TXT_NME_PROD.apply(lambda s: l[l.TXT_NME_PROD==s].shape[0] ) #slow"
   ]
  },
  {
   "cell_type": "code",
   "execution_count": 14,
   "id": "eac0c728-723b-4375-80ca-d3d1f535f044",
   "metadata": {},
   "outputs": [],
   "source": [
    "l['same_doi']=l.TXT_DOI.apply(lambda s: l[l.TXT_DOI==s].shape[0] ) #slow"
   ]
  },
  {
   "cell_type": "markdown",
   "id": "5243a8e4-f61a-40aa-ab37-b7d8b243d184",
   "metadata": {
    "tags": []
   },
   "source": [
    "### Filter repeated entries"
   ]
  },
  {
   "cell_type": "markdown",
   "id": "8a360acb-030a-4d77-9246-14109eb74c14",
   "metadata": {},
   "source": [
    "* Sort by 'SGL_CATEGORIA' → 'COD_INST_AVALA' \n",
    "* Drop duplicates without subset (not in)\n",
    "```python\n",
    "  ['COD_RH','COD_PRODUCTO','DTA_CREACION','DTA_ACTUALIZACION','SEQ_PRODUCTO','DTA_VINCULACION']\n",
    "```\n",
    "  * Remove key,values inside :\n",
    "    'details' → 'article' →\n",
    "    ```python\n",
    "    ['COD_RH','COD_PRODUCTO','DTA_CREACION','DTA_ACTUALIZACION']\n",
    "    ```\n",
    "    and convert `[journal]` to `str`\n",
    "* Group by:\n",
    "  1. 'COD_INST_AVALA'\n",
    "  1. 'TXT_WEB_PRODUCTO'\n",
    "  1. 'author_others'\n",
    "  \n",
    "Conclusions: Similar entries can be different in:\n",
    "```python\n",
    " ['TXT_WEB_PRODUCTO','COD_INST_AVALA','author_others','details']\n",
    "```\n",
    "Best products have 'COD_INST_AVALA','author_others','details'→'keywords'"
   ]
  },
  {
   "cell_type": "code",
   "execution_count": 5,
   "id": "47c5da75-c964-4664-b61d-7af0178894ef",
   "metadata": {},
   "outputs": [
    {
     "data": {
      "text/plain": [
       "(43897, 70)"
      ]
     },
     "execution_count": 5,
     "metadata": {},
     "output_type": "execute_result"
    }
   ],
   "source": [
    "l.shape"
   ]
  },
  {
   "cell_type": "code",
   "execution_count": 16,
   "id": "d30785b5-58dd-4318-875f-d1bb4f8cc43a",
   "metadata": {},
   "outputs": [],
   "source": [
    "def remove_details_fields(l,Type=['article','keywords'],\n",
    "        remove=['COD_RH','COD_PRODUCTO','DTA_CREACION','DTA_ACTUALIZACION','COD_PALABRA_CLAVE']):\n",
    "    ll=[]\n",
    "    for d in l:\n",
    "        dd={}\n",
    "        lll=[]\n",
    "        for key in d:\n",
    "            if key in Type:\n",
    "                for di in d[key]:\n",
    "                    newdi=dict([(k,di[k]) for k in di.keys() if k not in remove ])\n",
    "                    lll.append(newdi)\n",
    "                dd[key]=lll\n",
    "            else:\n",
    "                dd[key]=d[key]\n",
    "        ll.append(dd)\n",
    "    return ll"
   ]
  },
  {
   "cell_type": "markdown",
   "id": "a0cbe758-08a6-4145-9493-00acaaba6b5e",
   "metadata": {},
   "source": [
    "Convert list ot str to apply `.drop_duplicates`"
   ]
  },
  {
   "cell_type": "code",
   "execution_count": 17,
   "id": "2187def3-e880-480a-8fea-fbfed95269f8",
   "metadata": {},
   "outputs": [],
   "source": [
    "lists=['author','language','product_type','group','author_others','details','institution','project']\n",
    "for k in lists:\n",
    "    l[f'{k}_str']=l[k].astype(str)"
   ]
  },
  {
   "cell_type": "markdown",
   "id": "799f48a5-a500-49f7-a8c0-e47997e91d89",
   "metadata": {},
   "source": [
    "`'details`' → special list with time stamps inside "
   ]
  },
  {
   "cell_type": "code",
   "execution_count": 18,
   "id": "ef27f693-6d64-47ff-9759-e716c053d5ac",
   "metadata": {},
   "outputs": [],
   "source": [
    "l['details_str']=l['details'].apply(remove_details_fields).astype(str)"
   ]
  },
  {
   "cell_type": "markdown",
   "id": "2218845b-d9cb-4f69-8b11-5d67512cee0c",
   "metadata": {},
   "source": [
    "Fields not used in search for duplicates"
   ]
  },
  {
   "cell_type": "code",
   "execution_count": 19,
   "id": "a34b7929-71bf-4283-b08b-07d888a96c05",
   "metadata": {},
   "outputs": [],
   "source": [
    "not_subset=['COD_RH','COD_PRODUCTO','DTA_CREACION','DTA_ACTUALIZACION','SEQ_PRODUCTO','DTA_VINCULACION'\n",
    "           ]+lists"
   ]
  },
  {
   "cell_type": "code",
   "execution_count": 20,
   "id": "ef0eb03f-1860-4f78-b95b-00a92087742c",
   "metadata": {},
   "outputs": [
    {
     "data": {
      "text/plain": [
       "(43897, 80)"
      ]
     },
     "execution_count": 20,
     "metadata": {},
     "output_type": "execute_result"
    }
   ],
   "source": [
    "l.shape"
   ]
  },
  {
   "cell_type": "code",
   "execution_count": 21,
   "id": "4f884a4f-1e08-484b-ad9a-10d438e04f7a",
   "metadata": {},
   "outputs": [
    {
     "data": {
      "text/plain": [
       "(43611, 72)"
      ]
     },
     "execution_count": 21,
     "metadata": {},
     "output_type": "execute_result"
    }
   ],
   "source": [
    "n=100 #large enough\n",
    "subset=[x for x in l.columns if x not in not_subset]\n",
    "#NaN at the the end\n",
    "l=l.sort_values(['DTA_AVAL_INST','TXT_DOI','group_str'])\n",
    "kkk=l.drop_duplicates(subset=subset[:n]).drop( [x for x in l.columns if x.find('_str')>-1 ],axis='columns' )\n",
    "kkk.shape"
   ]
  },
  {
   "cell_type": "markdown",
   "id": "7b085b11-b912-4b22-b76d-f99d0f8ee6ac",
   "metadata": {},
   "source": [
    "clean `l`"
   ]
  },
  {
   "cell_type": "code",
   "execution_count": 36,
   "id": "bfad4707-508a-4943-9ccd-66fb1e25acc2",
   "metadata": {},
   "outputs": [],
   "source": [
    "l=l.drop( [x for x in l.columns if x.find('_str')>-1 ],axis='columns' )"
   ]
  },
  {
   "cell_type": "markdown",
   "id": "b5ec8dc0-b839-4efb-8c0f-eb57bc6cd15a",
   "metadata": {},
   "source": [
    "Acceptable number of duplicated entries! Move the problem to ETL"
   ]
  },
  {
   "cell_type": "code",
   "execution_count": 22,
   "id": "3606b369-3771-4112-9fed-d27045854e9e",
   "metadata": {},
   "outputs": [],
   "source": [
    "if n<=len(subset):\n",
    "    print(subset[n-1])"
   ]
  },
  {
   "cell_type": "markdown",
   "id": "e0c01d71-4451-4b77-9079-d3d202140299",
   "metadata": {},
   "source": [
    "#### Patological cases"
   ]
  },
  {
   "cell_type": "code",
   "execution_count": 23,
   "id": "c79ea75e-e04a-4864-877b-7c0d0f926140",
   "metadata": {},
   "outputs": [
    {
     "data": {
      "text/plain": [
       "{'same_doi': 32, 'TXT_DOI': '10.1093/mmy/myv019'}"
      ]
     },
     "execution_count": 23,
     "metadata": {},
     "output_type": "execute_result"
    }
   ],
   "source": [
    "doi=l.sort_values('same_doi',ascending=False)[['same_doi','TXT_DOI']].iloc[0].to_dict()\n",
    "doi"
   ]
  },
  {
   "cell_type": "code",
   "execution_count": 24,
   "id": "73de4acd-cf17-4369-b1c8-8c291d01224a",
   "metadata": {},
   "outputs": [
    {
     "data": {
      "text/plain": [
       "(5, 72)"
      ]
     },
     "execution_count": 24,
     "metadata": {},
     "output_type": "execute_result"
    }
   ],
   "source": [
    "kkkk=kkk[kkk['TXT_DOI'].fillna('')==doi['TXT_DOI']]\n",
    "kkkk.shape"
   ]
  },
  {
   "cell_type": "markdown",
   "id": "ea692c46-ea8c-426c-a25f-a37030bc93a1",
   "metadata": {},
   "source": [
    "Same author registered the product several time (maybe update the product information several times: Recheck with thesis to understand the system)"
   ]
  },
  {
   "cell_type": "code",
   "execution_count": 25,
   "id": "1e4786bf-5d19-40de-9bfa-37743def128b",
   "metadata": {},
   "outputs": [
    {
     "data": {
      "text/html": [
       "<div>\n",
       "<style scoped>\n",
       "    .dataframe tbody tr th:only-of-type {\n",
       "        vertical-align: middle;\n",
       "    }\n",
       "\n",
       "    .dataframe tbody tr th {\n",
       "        vertical-align: top;\n",
       "    }\n",
       "\n",
       "    .dataframe thead th {\n",
       "        text-align: right;\n",
       "    }\n",
       "</style>\n",
       "<table border=\"1\" class=\"dataframe\">\n",
       "  <thead>\n",
       "    <tr style=\"text-align: right;\">\n",
       "      <th></th>\n",
       "      <th>COD_RH</th>\n",
       "      <th>COD_PRODUCTO</th>\n",
       "      <th>TXT_DOI</th>\n",
       "      <th>TXT_WEB_PRODUCTO</th>\n",
       "      <th>COD_INST_AVALA</th>\n",
       "      <th>SGL_CATEGORIA</th>\n",
       "      <th>details</th>\n",
       "    </tr>\n",
       "  </thead>\n",
       "  <tbody>\n",
       "    <tr>\n",
       "      <th>25107</th>\n",
       "      <td>0000351598</td>\n",
       "      <td>90</td>\n",
       "      <td>10.1093/mmy/myv019</td>\n",
       "      <td>http://mmy.oxfordjournals.org/content/53/5/520...</td>\n",
       "      <td>007300000887</td>\n",
       "      <td>ART-ART_A1</td>\n",
       "      <td>[{'article': [{'COD_RH': '0000351598', 'COD_PR...</td>\n",
       "    </tr>\n",
       "    <tr>\n",
       "      <th>25080</th>\n",
       "      <td>0000351598</td>\n",
       "      <td>100</td>\n",
       "      <td>10.1093/mmy/myv019</td>\n",
       "      <td>http://mmy.oxfordjournals.org/content/53/5/520...</td>\n",
       "      <td>NaN</td>\n",
       "      <td>NaN</td>\n",
       "      <td>[{'article': [{'COD_RH': '0000351598', 'COD_PR...</td>\n",
       "    </tr>\n",
       "    <tr>\n",
       "      <th>25094</th>\n",
       "      <td>0000351598</td>\n",
       "      <td>77</td>\n",
       "      <td>10.1093/mmy/myv019</td>\n",
       "      <td>http://www.oxfordjournals.org/our_journals/mmy...</td>\n",
       "      <td>NaN</td>\n",
       "      <td>NaN</td>\n",
       "      <td>[{'article': [{'COD_RH': '0000351598', 'COD_PR...</td>\n",
       "    </tr>\n",
       "    <tr>\n",
       "      <th>25095</th>\n",
       "      <td>0000351598</td>\n",
       "      <td>78</td>\n",
       "      <td>10.1093/mmy/myv019</td>\n",
       "      <td>http://mmy.oxfordjournals.org/content/53/5/520...</td>\n",
       "      <td>NaN</td>\n",
       "      <td>NaN</td>\n",
       "      <td>[{'article': [{'COD_RH': '0000351598', 'COD_PR...</td>\n",
       "    </tr>\n",
       "    <tr>\n",
       "      <th>25106</th>\n",
       "      <td>0000351598</td>\n",
       "      <td>89</td>\n",
       "      <td>10.1093/mmy/myv019</td>\n",
       "      <td>http://www.oxfordjournals.org/our_journals/mmy...</td>\n",
       "      <td>NaN</td>\n",
       "      <td>NaN</td>\n",
       "      <td>[{'article': [{'COD_RH': '0000351598', 'COD_PR...</td>\n",
       "    </tr>\n",
       "  </tbody>\n",
       "</table>\n",
       "</div>"
      ],
      "text/plain": [
       "           COD_RH COD_PRODUCTO             TXT_DOI  \\\n",
       "25107  0000351598           90  10.1093/mmy/myv019   \n",
       "25080  0000351598          100  10.1093/mmy/myv019   \n",
       "25094  0000351598           77  10.1093/mmy/myv019   \n",
       "25095  0000351598           78  10.1093/mmy/myv019   \n",
       "25106  0000351598           89  10.1093/mmy/myv019   \n",
       "\n",
       "                                        TXT_WEB_PRODUCTO COD_INST_AVALA  \\\n",
       "25107  http://mmy.oxfordjournals.org/content/53/5/520...   007300000887   \n",
       "25080  http://mmy.oxfordjournals.org/content/53/5/520...            NaN   \n",
       "25094  http://www.oxfordjournals.org/our_journals/mmy...            NaN   \n",
       "25095  http://mmy.oxfordjournals.org/content/53/5/520...            NaN   \n",
       "25106  http://www.oxfordjournals.org/our_journals/mmy...            NaN   \n",
       "\n",
       "      SGL_CATEGORIA                                            details  \n",
       "25107    ART-ART_A1  [{'article': [{'COD_RH': '0000351598', 'COD_PR...  \n",
       "25080           NaN  [{'article': [{'COD_RH': '0000351598', 'COD_PR...  \n",
       "25094           NaN  [{'article': [{'COD_RH': '0000351598', 'COD_PR...  \n",
       "25095           NaN  [{'article': [{'COD_RH': '0000351598', 'COD_PR...  \n",
       "25106           NaN  [{'article': [{'COD_RH': '0000351598', 'COD_PR...  "
      ]
     },
     "execution_count": 25,
     "metadata": {},
     "output_type": "execute_result"
    }
   ],
   "source": [
    "kkkk[['COD_RH','COD_PRODUCTO','TXT_DOI','TXT_WEB_PRODUCTO','COD_INST_AVALA','SGL_CATEGORIA','details']]"
   ]
  },
  {
   "cell_type": "markdown",
   "id": "7d3c746e-fbd3-4b28-91ab-0b785f264915",
   "metadata": {},
   "source": [
    "Check equal titles"
   ]
  },
  {
   "cell_type": "code",
   "execution_count": 26,
   "id": "cf059672-c3ed-4415-93d3-d683bc324ced",
   "metadata": {},
   "outputs": [
    {
     "data": {
      "text/plain": [
       "{'same_title': 12,\n",
       " 'TXT_NME_PROD': 'On intersubband absorption of radiation in delta-doped QWs'}"
      ]
     },
     "execution_count": 26,
     "metadata": {},
     "output_type": "execute_result"
    }
   ],
   "source": [
    "title=l.sort_values('same_title',ascending=False)[['same_title','TXT_NME_PROD']].drop_duplicates().iloc[1].to_dict() #0 is maximum same doi\n",
    "title"
   ]
  },
  {
   "cell_type": "code",
   "execution_count": 27,
   "id": "20164ab6-600d-4a66-946d-b9152b07721f",
   "metadata": {},
   "outputs": [
    {
     "data": {
      "text/plain": [
       "(5, 72)"
      ]
     },
     "execution_count": 27,
     "metadata": {},
     "output_type": "execute_result"
    }
   ],
   "source": [
    "kkkk=kkk[kkk['TXT_NME_PROD'].fillna('')==title['TXT_NME_PROD']]\n",
    "kkkk.shape"
   ]
  },
  {
   "cell_type": "markdown",
   "id": "efd51103-3b5b-4373-bf41-b246c6984640",
   "metadata": {},
   "source": [
    "Several authors registered the same product (DOI info normalized):"
   ]
  },
  {
   "cell_type": "code",
   "execution_count": 28,
   "id": "6c00dd92-3318-4859-9690-e3253daa9254",
   "metadata": {},
   "outputs": [
    {
     "data": {
      "text/html": [
       "<div>\n",
       "<style scoped>\n",
       "    .dataframe tbody tr th:only-of-type {\n",
       "        vertical-align: middle;\n",
       "    }\n",
       "\n",
       "    .dataframe tbody tr th {\n",
       "        vertical-align: top;\n",
       "    }\n",
       "\n",
       "    .dataframe thead th {\n",
       "        text-align: right;\n",
       "    }\n",
       "</style>\n",
       "<table border=\"1\" class=\"dataframe\">\n",
       "  <thead>\n",
       "    <tr style=\"text-align: right;\">\n",
       "      <th></th>\n",
       "      <th>COD_RH</th>\n",
       "      <th>COD_PRODUCTO</th>\n",
       "      <th>TXT_DOI</th>\n",
       "      <th>TXT_WEB_PRODUCTO</th>\n",
       "      <th>COD_INST_AVALA</th>\n",
       "      <th>SGL_CATEGORIA</th>\n",
       "      <th>group</th>\n",
       "    </tr>\n",
       "  </thead>\n",
       "  <tbody>\n",
       "    <tr>\n",
       "      <th>32688</th>\n",
       "      <td>0000892076</td>\n",
       "      <td>10</td>\n",
       "      <td>10.1016/j.physe.2015.07.034</td>\n",
       "      <td>http://www.sciencedirect.com/science/article/p...</td>\n",
       "      <td>626800000880</td>\n",
       "      <td>ART-ART_A2</td>\n",
       "      <td>NaN</td>\n",
       "    </tr>\n",
       "    <tr>\n",
       "      <th>33574</th>\n",
       "      <td>0000971146</td>\n",
       "      <td>27</td>\n",
       "      <td>10.1016/j.physe.2015.07.034</td>\n",
       "      <td>www.elsevier.com/locate/physe</td>\n",
       "      <td>NaN</td>\n",
       "      <td>ART-ART_A2</td>\n",
       "      <td>NaN</td>\n",
       "    </tr>\n",
       "    <tr>\n",
       "      <th>33685</th>\n",
       "      <td>0000971146</td>\n",
       "      <td>36</td>\n",
       "      <td>10.1016/j.physe.2015.07.034</td>\n",
       "      <td>www.elsevier.com/locate/physe</td>\n",
       "      <td>NaN</td>\n",
       "      <td>ART-ART_A2</td>\n",
       "      <td>NaN</td>\n",
       "    </tr>\n",
       "    <tr>\n",
       "      <th>42439</th>\n",
       "      <td>0001532231</td>\n",
       "      <td>13</td>\n",
       "      <td>10.1016/j.physe.2015.07.034</td>\n",
       "      <td>http://www.sciencedirect.com/science/article/p...</td>\n",
       "      <td>NaN</td>\n",
       "      <td>ART-ART_A2</td>\n",
       "      <td>NaN</td>\n",
       "    </tr>\n",
       "    <tr>\n",
       "      <th>43142</th>\n",
       "      <td>0001605958</td>\n",
       "      <td>31</td>\n",
       "      <td>10.1016/j.physe.2015.07.034</td>\n",
       "      <td>NaN</td>\n",
       "      <td>NaN</td>\n",
       "      <td>ART-ART_A2</td>\n",
       "      <td>NaN</td>\n",
       "    </tr>\n",
       "  </tbody>\n",
       "</table>\n",
       "</div>"
      ],
      "text/plain": [
       "           COD_RH COD_PRODUCTO                      TXT_DOI  \\\n",
       "32688  0000892076           10  10.1016/j.physe.2015.07.034   \n",
       "33574  0000971146           27  10.1016/j.physe.2015.07.034   \n",
       "33685  0000971146           36  10.1016/j.physe.2015.07.034   \n",
       "42439  0001532231           13  10.1016/j.physe.2015.07.034   \n",
       "43142  0001605958           31  10.1016/j.physe.2015.07.034   \n",
       "\n",
       "                                        TXT_WEB_PRODUCTO COD_INST_AVALA  \\\n",
       "32688  http://www.sciencedirect.com/science/article/p...   626800000880   \n",
       "33574                      www.elsevier.com/locate/physe            NaN   \n",
       "33685                      www.elsevier.com/locate/physe            NaN   \n",
       "42439  http://www.sciencedirect.com/science/article/p...            NaN   \n",
       "43142                                                NaN            NaN   \n",
       "\n",
       "      SGL_CATEGORIA group  \n",
       "32688    ART-ART_A2   NaN  \n",
       "33574    ART-ART_A2   NaN  \n",
       "33685    ART-ART_A2   NaN  \n",
       "42439    ART-ART_A2   NaN  \n",
       "43142    ART-ART_A2   NaN  "
      ]
     },
     "execution_count": 28,
     "metadata": {},
     "output_type": "execute_result"
    }
   ],
   "source": [
    "kkkk[['COD_RH','COD_PRODUCTO','TXT_DOI','TXT_WEB_PRODUCTO','COD_INST_AVALA','SGL_CATEGORIA','group']]"
   ]
  },
  {
   "cell_type": "markdown",
   "id": "ba2fb8f9-7b2b-41e9-95d3-70ab04c5f44a",
   "metadata": {},
   "source": [
    "## Conclusions\n",
    "* The level of really duplicated entries with the same relevant metadata seem to be rather low. The may be generated manually in some patological cases. We still need to check with other products like thesis check if an update of the product generate a new `'COD_PRODUCT0'` for the old product (see doi previous table: same product, same `'COD_RH'` but differents `'COD_PRODUCT0'`\n",
    "* The information of same title or doi entries seem to be complementary:  group, aval, categories, keywords full authors info, etc\n",
    "* Generated tools that could be implemented in ETL"
   ]
  },
  {
   "cell_type": "markdown",
   "id": "8b9dda27-ec60-4c08-9882-3d92dab99452",
   "metadata": {},
   "source": [
    "### Find articles with associated projects"
   ]
  },
  {
   "cell_type": "code",
   "execution_count": 29,
   "id": "49096be2-dcbf-446d-959b-c89f93f05ffb",
   "metadata": {},
   "outputs": [
    {
     "data": {
      "text/plain": [
       "(9014, 80)"
      ]
     },
     "execution_count": 29,
     "metadata": {},
     "output_type": "execute_result"
    }
   ],
   "source": [
    "l[~l.project.isna()].shape"
   ]
  },
  {
   "cell_type": "markdown",
   "id": "9b5bd2f3-db09-4274-9db3-9243e0058057",
   "metadata": {},
   "source": [
    "### Find CATEGORIAS of articles"
   ]
  },
  {
   "cell_type": "code",
   "execution_count": 30,
   "id": "46b1d10b-9e79-4ae5-bcba-42b11280d70a",
   "metadata": {},
   "outputs": [
    {
     "data": {
      "text/plain": [
       "(24702, 80)"
      ]
     },
     "execution_count": 30,
     "metadata": {},
     "output_type": "execute_result"
    }
   ],
   "source": [
    "l[~l['CAT_MED'].isna()].shape"
   ]
  },
  {
   "cell_type": "code",
   "execution_count": 31,
   "id": "8b8352dc-dd88-4241-8ede-6a560a608f22",
   "metadata": {},
   "outputs": [
    {
     "data": {
      "text/plain": [
       "(35917, 80)"
      ]
     },
     "execution_count": 31,
     "metadata": {},
     "output_type": "execute_result"
    }
   ],
   "source": [
    "l[~l['SGL_CATEGORIA'].isna()].shape"
   ]
  },
  {
   "cell_type": "code",
   "execution_count": 32,
   "id": "5d54b02e-d431-4997-8a2d-56bd8badae34",
   "metadata": {},
   "outputs": [
    {
     "data": {
      "text/plain": [
       "array(['ART-ART_D', 'ART-GC_ART', 'ART-ART_C', 'ART-ART_B', 'ART-ART_A2',\n",
       "       'ART-ART_A1', 'ART-00'], dtype=object)"
      ]
     },
     "execution_count": 32,
     "metadata": {},
     "output_type": "execute_result"
    }
   ],
   "source": [
    "l['CAT_MED'].dropna().unique()"
   ]
  },
  {
   "cell_type": "code",
   "execution_count": 33,
   "id": "efc2213c-0ecb-4346-8acd-14ca0ac72084",
   "metadata": {},
   "outputs": [
    {
     "ename": "NameError",
     "evalue": "name 'afadfad' is not defined",
     "output_type": "error",
     "traceback": [
      "\u001b[0;31m---------------------------------------------------------------------------\u001b[0m",
      "\u001b[0;31mNameError\u001b[0m                                 Traceback (most recent call last)",
      "\u001b[0;32m/tmp/ipykernel_626757/1651247641.py\u001b[0m in \u001b[0;36m<module>\u001b[0;34m\u001b[0m\n\u001b[0;32m----> 1\u001b[0;31m \u001b[0mafadfad\u001b[0m \u001b[0;31m#Emergency stop\u001b[0m\u001b[0;34m\u001b[0m\u001b[0;34m\u001b[0m\u001b[0m\n\u001b[0m",
      "\u001b[0;31mNameError\u001b[0m: name 'afadfad' is not defined"
     ]
    }
   ],
   "source": [
    "afadfad #Emergency stop"
   ]
  },
  {
   "cell_type": "markdown",
   "id": "8cfabfcc-1d54-4d51-bf72-88b28b2b675a",
   "metadata": {},
   "source": [
    "Personal data"
   ]
  },
  {
   "cell_type": "code",
   "execution_count": 10,
   "id": "86a8c6e6-cb19-4e8f-ba84-75c0d3df5377",
   "metadata": {},
   "outputs": [],
   "source": [
    "l['NRO_DOCUMENTO_IDENT']=l.author.str[0].str.get('NRO_DOCUMENTO_IDENT')"
   ]
  },
  {
   "cell_type": "code",
   "execution_count": 14,
   "id": "429f88a8-7515-4ffb-a43a-e4c10046758d",
   "metadata": {},
   "outputs": [],
   "source": [
    "l=l.drop_duplicates(subset=['NRO_DOCUMENTO_IDENT']).reset_index(drop=True)"
   ]
  },
  {
   "cell_type": "code",
   "execution_count": 26,
   "id": "fd61b471-b110-4ed3-887a-ab77068af33a",
   "metadata": {},
   "outputs": [],
   "source": [
    "import getpass"
   ]
  },
  {
   "cell_type": "code",
   "execution_count": 27,
   "id": "b31b2867-abbb-4416-a722-b079fcaa3cf3",
   "metadata": {},
   "outputs": [
    {
     "name": "stdin",
     "output_type": "stream",
     "text": [
      "NRO DOCUMENTO IDENTIDAD? ········\n"
     ]
    }
   ],
   "source": [
    "ndi=getpass.getpass('NRO DOCUMENTO IDENTIDAD?')"
   ]
  },
  {
   "cell_type": "code",
   "execution_count": 28,
   "id": "81160a2a-d87a-4c8a-82a6-d029fcacd20f",
   "metadata": {},
   "outputs": [],
   "source": [
    "k=l[l['NRO_DOCUMENTO_IDENT']==ndi]"
   ]
  },
  {
   "cell_type": "code",
   "execution_count": 29,
   "id": "6ab8d1f6-db86-49c5-a449-99817fcc0116",
   "metadata": {},
   "outputs": [],
   "source": [
    "from IPython.display import JSON"
   ]
  },
  {
   "cell_type": "code",
   "execution_count": 31,
   "id": "b93e8490-bfb2-4fa7-8c41-2fb7117188b3",
   "metadata": {},
   "outputs": [],
   "source": [
    "#JSON(k.author.str[0].iloc[0])"
   ]
  },
  {
   "cell_type": "code",
   "execution_count": 17,
   "id": "ea9af9a4-a2c8-403a-880c-432133690eec",
   "metadata": {},
   "outputs": [
    {
     "data": {
      "text/plain": [
       "dict_keys(['COD_RH', 'NRO_ID_CNPQ', 'TXT_NAMES_RH', 'TXT_PRIM_APELL', 'TXT_SEG_APELL', 'TXT_TOTAL_NAMES', 'TPO_NACIONALIDAD', 'DTA_NACIM', 'TPO_DOCUMENTO_IDENT', 'TPO_SEXO', 'COD_RH_MUN_NACIM', 'COD_MUN_NACIM', 'NRO_DOCUMENTO_IDENT', 'COD_RH_MUN_EXPED_DOC', 'COD_MUN_EXPED_DOC', 'COD_RH_RELIGION', 'SGL_PAIS_NACIM', 'TPO_ESTADO_CIVIL', 'TPO_DIRECCION_USUAL', 'TXT_CITACION_BIBLIO', 'STA_CERTIFICADO', 'DTA_CERTIFICADO', 'DTA_CREACION', 'DTA_ACTUALIZACION', 'COD_CERTIFICACION', 'STA_VISIBLE', 'TPO_PERFIL', 'TXT_CONF_DATOS', 'COD_TRAY_PROF_ACT', 'STA_ACTIVO', 'city'])"
      ]
     },
     "execution_count": 17,
     "metadata": {},
     "output_type": "execute_result"
    }
   ],
   "source": [
    "l.author.str[0].iloc[0].keys()"
   ]
  },
  {
   "cell_type": "code",
   "execution_count": 33,
   "id": "e00470f9-9681-4563-b95e-66800fcc3146",
   "metadata": {},
   "outputs": [],
   "source": [
    "keys=['COD_RH',  'TXT_TOTAL_NAMES', 'TPO_NACIONALIDAD', 'DTA_NACIM', 'TPO_DOCUMENTO_IDENT', 'TPO_SEXO',  \n",
    "           'NRO_DOCUMENTO_IDENT', 'COD_RH_RELIGION', 'SGL_PAIS_NACIM', 'TPO_ESTADO_CIVIL',\n",
    "           'COD_ORCID','AUTOR_ID_SCP' ]\n",
    "for  k in keys:\n",
    "    l[k]=l.author.str[0].str.get(k)"
   ]
  },
  {
   "cell_type": "code",
   "execution_count": 35,
   "id": "fbdbe256-2440-429d-a487-cec35b3f6379",
   "metadata": {},
   "outputs": [
    {
     "data": {
      "text/html": [
       "<div>\n",
       "<style scoped>\n",
       "    .dataframe tbody tr th:only-of-type {\n",
       "        vertical-align: middle;\n",
       "    }\n",
       "\n",
       "    .dataframe tbody tr th {\n",
       "        vertical-align: top;\n",
       "    }\n",
       "\n",
       "    .dataframe thead th {\n",
       "        text-align: right;\n",
       "    }\n",
       "</style>\n",
       "<table border=\"1\" class=\"dataframe\">\n",
       "  <thead>\n",
       "    <tr style=\"text-align: right;\">\n",
       "      <th></th>\n",
       "      <th>COD_RH</th>\n",
       "      <th>TXT_TOTAL_NAMES</th>\n",
       "      <th>TPO_NACIONALIDAD</th>\n",
       "      <th>DTA_NACIM</th>\n",
       "      <th>TPO_DOCUMENTO_IDENT</th>\n",
       "      <th>TPO_SEXO</th>\n",
       "      <th>NRO_DOCUMENTO_IDENT</th>\n",
       "      <th>COD_RH_RELIGION</th>\n",
       "      <th>SGL_PAIS_NACIM</th>\n",
       "      <th>TPO_ESTADO_CIVIL</th>\n",
       "      <th>COD_ORCID</th>\n",
       "      <th>AUTOR_ID_SCP</th>\n",
       "    </tr>\n",
       "  </thead>\n",
       "  <tbody>\n",
       "    <tr>\n",
       "      <th>0</th>\n",
       "      <td>0000000011</td>\n",
       "      <td>NATALIA ANDREA ROJAS HENAO</td>\n",
       "      <td>C</td>\n",
       "      <td>Sun, 21 Dec 1986 00:00:00 GMT</td>\n",
       "      <td>C</td>\n",
       "      <td>F</td>\n",
       "      <td>1039446856</td>\n",
       "      <td>0000000000</td>\n",
       "      <td>COL</td>\n",
       "      <td>S</td>\n",
       "      <td>None</td>\n",
       "      <td>None</td>\n",
       "    </tr>\n",
       "    <tr>\n",
       "      <th>1</th>\n",
       "      <td>0000000113</td>\n",
       "      <td>Jhon Jairo Rodriguez</td>\n",
       "      <td>C</td>\n",
       "      <td>Sun, 18 Dec 1977 00:00:00 GMT</td>\n",
       "      <td>C</td>\n",
       "      <td>M</td>\n",
       "      <td>98395448</td>\n",
       "      <td>0000000000</td>\n",
       "      <td>COL</td>\n",
       "      <td>S</td>\n",
       "      <td>None</td>\n",
       "      <td>None</td>\n",
       "    </tr>\n",
       "    <tr>\n",
       "      <th>2</th>\n",
       "      <td>0000000132</td>\n",
       "      <td>Jessica Paola Rey Suarez</td>\n",
       "      <td>C</td>\n",
       "      <td>Sun, 08 May 1988 00:00:00 GMT</td>\n",
       "      <td>C</td>\n",
       "      <td>F</td>\n",
       "      <td>1110473903</td>\n",
       "      <td>0000000000</td>\n",
       "      <td>COL</td>\n",
       "      <td>C</td>\n",
       "      <td>0000-0003-3299-2246</td>\n",
       "      <td>1110473903</td>\n",
       "    </tr>\n",
       "    <tr>\n",
       "      <th>3</th>\n",
       "      <td>0000000147</td>\n",
       "      <td>Doris Margarita Correa Rios</td>\n",
       "      <td>C</td>\n",
       "      <td>Wed, 24 Nov 1965 00:00:00 GMT</td>\n",
       "      <td>C</td>\n",
       "      <td>F</td>\n",
       "      <td>21852251</td>\n",
       "      <td>0000000000</td>\n",
       "      <td>COL</td>\n",
       "      <td>S</td>\n",
       "      <td>None</td>\n",
       "      <td>None</td>\n",
       "    </tr>\n",
       "    <tr>\n",
       "      <th>4</th>\n",
       "      <td>0000000153</td>\n",
       "      <td>Lina Maria Preciado Rojo</td>\n",
       "      <td>C</td>\n",
       "      <td>Tue, 24 Feb 1987 00:00:00 GMT</td>\n",
       "      <td>C</td>\n",
       "      <td>F</td>\n",
       "      <td>1017148632</td>\n",
       "      <td>0000000000</td>\n",
       "      <td>COL</td>\n",
       "      <td>S</td>\n",
       "      <td>None</td>\n",
       "      <td>None</td>\n",
       "    </tr>\n",
       "    <tr>\n",
       "      <th>...</th>\n",
       "      <td>...</td>\n",
       "      <td>...</td>\n",
       "      <td>...</td>\n",
       "      <td>...</td>\n",
       "      <td>...</td>\n",
       "      <td>...</td>\n",
       "      <td>...</td>\n",
       "      <td>...</td>\n",
       "      <td>...</td>\n",
       "      <td>...</td>\n",
       "      <td>...</td>\n",
       "      <td>...</td>\n",
       "    </tr>\n",
       "    <tr>\n",
       "      <th>4891</th>\n",
       "      <td>0001771850</td>\n",
       "      <td>JUAN PAULO RUIZ TABORDA</td>\n",
       "      <td>C</td>\n",
       "      <td>Thu, 22 Nov 1990 00:00:00 GMT</td>\n",
       "      <td>C</td>\n",
       "      <td>M</td>\n",
       "      <td>1039454230</td>\n",
       "      <td>None</td>\n",
       "      <td>COL</td>\n",
       "      <td>S</td>\n",
       "      <td>None</td>\n",
       "      <td>None</td>\n",
       "    </tr>\n",
       "    <tr>\n",
       "      <th>4892</th>\n",
       "      <td>0001778935</td>\n",
       "      <td>Juan Felipe Varela Garcia</td>\n",
       "      <td>C</td>\n",
       "      <td>Sat, 08 Jan 1994 00:00:00 GMT</td>\n",
       "      <td>C</td>\n",
       "      <td>M</td>\n",
       "      <td>1036650019</td>\n",
       "      <td>None</td>\n",
       "      <td>COL</td>\n",
       "      <td>S</td>\n",
       "      <td>None</td>\n",
       "      <td>None</td>\n",
       "    </tr>\n",
       "    <tr>\n",
       "      <th>4893</th>\n",
       "      <td>0001781054</td>\n",
       "      <td>Karen Gomez David</td>\n",
       "      <td>C</td>\n",
       "      <td>Mon, 07 Mar 1994 00:00:00 GMT</td>\n",
       "      <td>C</td>\n",
       "      <td>F</td>\n",
       "      <td>1037632533</td>\n",
       "      <td>None</td>\n",
       "      <td>COL</td>\n",
       "      <td>S</td>\n",
       "      <td>0000-0002-3051-100X</td>\n",
       "      <td>None</td>\n",
       "    </tr>\n",
       "    <tr>\n",
       "      <th>4894</th>\n",
       "      <td>0001787019</td>\n",
       "      <td>Priscila Cardoso Calegari</td>\n",
       "      <td>B</td>\n",
       "      <td>Thu, 03 Jun 1982 00:00:00 GMT</td>\n",
       "      <td>P</td>\n",
       "      <td>F</td>\n",
       "      <td>FS564641</td>\n",
       "      <td>None</td>\n",
       "      <td>BRA</td>\n",
       "      <td>C</td>\n",
       "      <td>None</td>\n",
       "      <td>None</td>\n",
       "    </tr>\n",
       "    <tr>\n",
       "      <th>4895</th>\n",
       "      <td>0001787051</td>\n",
       "      <td>Alvaro Junio Pereira Franco</td>\n",
       "      <td>B</td>\n",
       "      <td>Fri, 20 Feb 1981 00:00:00 GMT</td>\n",
       "      <td>P</td>\n",
       "      <td>M</td>\n",
       "      <td>FM650146</td>\n",
       "      <td>None</td>\n",
       "      <td>BRA</td>\n",
       "      <td>C</td>\n",
       "      <td>0000-0002-7602-0599</td>\n",
       "      <td>None</td>\n",
       "    </tr>\n",
       "  </tbody>\n",
       "</table>\n",
       "<p>4896 rows × 12 columns</p>\n",
       "</div>"
      ],
      "text/plain": [
       "          COD_RH              TXT_TOTAL_NAMES TPO_NACIONALIDAD  \\\n",
       "0     0000000011   NATALIA ANDREA ROJAS HENAO                C   \n",
       "1     0000000113         Jhon Jairo Rodriguez                C   \n",
       "2     0000000132     Jessica Paola Rey Suarez                C   \n",
       "3     0000000147  Doris Margarita Correa Rios                C   \n",
       "4     0000000153     Lina Maria Preciado Rojo                C   \n",
       "...          ...                          ...              ...   \n",
       "4891  0001771850      JUAN PAULO RUIZ TABORDA                C   \n",
       "4892  0001778935    Juan Felipe Varela Garcia                C   \n",
       "4893  0001781054            Karen Gomez David                C   \n",
       "4894  0001787019    Priscila Cardoso Calegari                B   \n",
       "4895  0001787051  Alvaro Junio Pereira Franco                B   \n",
       "\n",
       "                          DTA_NACIM TPO_DOCUMENTO_IDENT TPO_SEXO  \\\n",
       "0     Sun, 21 Dec 1986 00:00:00 GMT                   C        F   \n",
       "1     Sun, 18 Dec 1977 00:00:00 GMT                   C        M   \n",
       "2     Sun, 08 May 1988 00:00:00 GMT                   C        F   \n",
       "3     Wed, 24 Nov 1965 00:00:00 GMT                   C        F   \n",
       "4     Tue, 24 Feb 1987 00:00:00 GMT                   C        F   \n",
       "...                             ...                 ...      ...   \n",
       "4891  Thu, 22 Nov 1990 00:00:00 GMT                   C        M   \n",
       "4892  Sat, 08 Jan 1994 00:00:00 GMT                   C        M   \n",
       "4893  Mon, 07 Mar 1994 00:00:00 GMT                   C        F   \n",
       "4894  Thu, 03 Jun 1982 00:00:00 GMT                   P        F   \n",
       "4895  Fri, 20 Feb 1981 00:00:00 GMT                   P        M   \n",
       "\n",
       "     NRO_DOCUMENTO_IDENT COD_RH_RELIGION SGL_PAIS_NACIM TPO_ESTADO_CIVIL  \\\n",
       "0             1039446856      0000000000            COL                S   \n",
       "1               98395448      0000000000            COL                S   \n",
       "2             1110473903      0000000000            COL                C   \n",
       "3               21852251      0000000000            COL                S   \n",
       "4             1017148632      0000000000            COL                S   \n",
       "...                  ...             ...            ...              ...   \n",
       "4891          1039454230            None            COL                S   \n",
       "4892          1036650019            None            COL                S   \n",
       "4893          1037632533            None            COL                S   \n",
       "4894            FS564641            None            BRA                C   \n",
       "4895            FM650146            None            BRA                C   \n",
       "\n",
       "                COD_ORCID AUTOR_ID_SCP  \n",
       "0                    None         None  \n",
       "1                    None         None  \n",
       "2     0000-0003-3299-2246   1110473903  \n",
       "3                    None         None  \n",
       "4                    None         None  \n",
       "...                   ...          ...  \n",
       "4891                 None         None  \n",
       "4892                 None         None  \n",
       "4893  0000-0002-3051-100X         None  \n",
       "4894                 None         None  \n",
       "4895  0000-0002-7602-0599         None  \n",
       "\n",
       "[4896 rows x 12 columns]"
      ]
     },
     "execution_count": 35,
     "metadata": {},
     "output_type": "execute_result"
    }
   ],
   "source": [
    "l[keys]"
   ]
  },
  {
   "cell_type": "markdown",
   "id": "fcc4a103-9f72-4ba1-b650-2f1cb2fc9d64",
   "metadata": {
    "tags": []
   },
   "source": [
    "## Appendix\n",
    "Understand the data"
   ]
  },
  {
   "cell_type": "code",
   "execution_count": null,
   "id": "b31189d1-ba27-41a7-9bbf-729e9cb1f0fc",
   "metadata": {},
   "outputs": [],
   "source": [
    "qq=pd.DataFrame( kkk.iloc[1:]['details'].str[0].str['article'].str[0].to_list())\n",
    "qq['journal']=qq['journal'].astype(str)\n",
    "qq[[k for k in qq.columns if k not in ['COD_RH', 'COD_PRODUCTO',\n",
    "                    'DTA_CREACION','DTA_ACTUALIZACION'] ]].drop_duplicates()"
   ]
  },
  {
   "cell_type": "code",
   "execution_count": null,
   "id": "5379f393-587d-4604-9063-312437599bd0",
   "metadata": {},
   "outputs": [],
   "source": [
    "diffs=['COD_RH','COD_PRODUCTO','SGL_CATEGORIA','TXT_WEB_PRODUCTO','DTA_CREACION',\n",
    "       'DTA_ACTUALIZACION','DTA_AVAL_INST','TPO_AVAL_INST','COD_INST_AVALA',\n",
    "       'ID_USUARIO_AVAL','SEQ_PRODUCTO','DTA_VINCULACION','STA_MEDIDO',\n",
    "       'author_others','details','institution']\n",
    "#Extract product with TPO_AVAL_INST\n",
    "DIFFS=['SGL_CATEGORIA','TXT_WEB_PRODUCTO','DTA_AVAL_INST','TPO_AVAL_INST','COD_INST_AVALA',\n",
    "       'ID_USUARIO_AVAL','SEQ_PRODUCTO','DTA_VINCULACION','STA_MEDIDO',\n",
    "       'author_others','details','institution']\n",
    "lists=['author','language','product_type','group']"
   ]
  },
  {
   "cell_type": "code",
   "execution_count": null,
   "id": "1c267f32-3183-4fcb-84ce-3f62818a6b85",
   "metadata": {},
   "outputs": [],
   "source": []
  },
  {
   "cell_type": "markdown",
   "id": "58c1affe-292a-4256-9413-66fc674a8d86",
   "metadata": {},
   "source": [
    "Fill the previous lists"
   ]
  },
  {
   "cell_type": "code",
   "execution_count": null,
   "id": "398dcd28-e168-476a-90db-c8dd78062ce6",
   "metadata": {},
   "outputs": [],
   "source": [
    "kkk=kk[[k for k in kk.columns if k not in diffs]].reset_index(drop=True)"
   ]
  },
  {
   "cell_type": "code",
   "execution_count": null,
   "id": "56645490-d8e6-4cdd-a8b0-d0b2da76ce66",
   "metadata": {},
   "outputs": [],
   "source": [
    "kkkk=kkk[list(kkk.columns)+lists].reset_index(drop=True)"
   ]
  },
  {
   "cell_type": "code",
   "execution_count": null,
   "id": "7c2721e1-20a3-4d0d-aaeb-7491fa19411c",
   "metadata": {},
   "outputs": [],
   "source": [
    "for k in lists:\n",
    "    kkkk[k]=kkkk[k].astype(str)\n",
    "kkkk.drop_duplicates()"
   ]
  },
  {
   "cell_type": "markdown",
   "id": "0e142b27-90d0-4604-b8c4-a53a7a0809d3",
   "metadata": {},
   "source": [
    "Best"
   ]
  },
  {
   "cell_type": "code",
   "execution_count": null,
   "id": "fcb13f10-5a9c-4bf6-a135-573b2686e2ac",
   "metadata": {},
   "outputs": [],
   "source": [
    "kkk=kk[DIFFS].sort_values(['SGL_CATEGORIA','TXT_WEB_PRODUCTO'])\n",
    "BEST=kkk.iloc[[0]]\n",
    "BEST"
   ]
  },
  {
   "cell_type": "markdown",
   "id": "30e179f4-9df9-4561-803e-61de9ffe1952",
   "metadata": {},
   "source": [
    "Others"
   ]
  },
  {
   "cell_type": "code",
   "execution_count": null,
   "id": "3a02a577-3853-4b56-b839-3044151da9af",
   "metadata": {},
   "outputs": [],
   "source": [
    "WORST=kkk.iloc[1:].drop_duplicates(['DTA_AVAL_INST','TPO_AVAL_INST','COD_INST_AVALA',\n",
    "                                    'ID_USUARIO_AVAL','STA_MEDIDO'])\n",
    "WORST"
   ]
  },
  {
   "cell_type": "code",
   "execution_count": null,
   "id": "2dcb0f3f-bba3-4ae7-8c40-cb12cf1e33df",
   "metadata": {},
   "outputs": [],
   "source": [
    "qq=pd.DataFrame( kkk.iloc[1:]['details'].str[0].str['article'].str[0].to_list())\n",
    "qq['journal']=qq['journal'].astype(str)\n",
    "qq[[k for k in qq.columns if k not in ['COD_RH', 'COD_PRODUCTO',\n",
    "                    'DTA_CREACION','DTA_ACTUALIZACION'] ]].drop_duplicates()"
   ]
  },
  {
   "cell_type": "code",
   "execution_count": null,
   "id": "6e83f5ea-db5d-47b5-82eb-9583f2767998",
   "metadata": {},
   "outputs": [],
   "source": [
    "kkk.iloc[1:]['institution'].astype(str).drop_duplicates()"
   ]
  },
  {
   "cell_type": "code",
   "execution_count": null,
   "id": "029ec4a3-0ea4-4c65-990b-80d917c13105",
   "metadata": {},
   "outputs": [],
   "source": [
    "kkk.iloc[1:].drop_duplicates(['TXT_WEB_PRODUCTO'])['TXT_WEB_PRODUCTO']"
   ]
  },
  {
   "cell_type": "code",
   "execution_count": null,
   "id": "df0ff2e6-70b1-4d7d-afb3-08559404abe1",
   "metadata": {},
   "outputs": [],
   "source": [
    "kkk.iloc[1:]['author_others'].astype(str).drop_duplicates()"
   ]
  },
  {
   "cell_type": "code",
   "execution_count": null,
   "id": "56b9a87b-18b9-44c3-a26e-8ff5e709505e",
   "metadata": {},
   "outputs": [],
   "source": [
    "kkk.iloc[1:][kkk.iloc[1:]['author_others'].apply(len)>1]"
   ]
  },
  {
   "cell_type": "markdown",
   "id": "ade38440-9c1e-42e0-b012-a347c8ea07e5",
   "metadata": {},
   "source": [
    "Repeated"
   ]
  },
  {
   "cell_type": "code",
   "execution_count": null,
   "id": "1dd855d3-2cef-4fef-9570-e04065bddf63",
   "metadata": {},
   "outputs": [],
   "source": [
    "rr=kkk.iloc[1:]\n",
    "rr=rr.sort_values('TXT_WEB_PRODUCTO')[:19]\n",
    "rr['author_others'].astype(str).drop_duplicates()"
   ]
  },
  {
   "cell_type": "code",
   "execution_count": null,
   "id": "0fc6ae7c-c91f-4c78-a002-e4bc3000c8b8",
   "metadata": {},
   "outputs": [],
   "source": [
    "rr[:1]"
   ]
  },
  {
   "cell_type": "code",
   "execution_count": null,
   "id": "896fd56d-479b-485f-b4f7-3a19a16645c2",
   "metadata": {},
   "outputs": [],
   "source": [
    "rr2=kkk.iloc[1:]\n",
    "rr2=rr2.sort_values('TXT_WEB_PRODUCTO')[19:]\n",
    "print(rr2.shape[0])\n",
    "rr2=rr2[rr2['author_others'].apply(len)==1]\n",
    "rr2"
   ]
  },
  {
   "cell_type": "code",
   "execution_count": null,
   "id": "97fe3017-fbfd-4b72-8b0b-90ae32258f08",
   "metadata": {},
   "outputs": [],
   "source": [
    "pd.DataFrame( kk['group'].str[0].to_list() )[\n",
    "    ['NRO_ID_GRUPO', 'COD_ID_GRUPO', 'NME_GRUPO', 'ANO_FORMACAO',\n",
    "       'MES_FORMACAO', 'COD_RH_AREA', 'COD_AREA_CONHEC', 'COD_PROGRAMA',\n",
    "       'COD_PROGRAMA_SECUND', 'TPO_ESTADO_GR', 'TXT_CLASIF', 'DTA_CLASIF',\n",
    "       'DTA_FIN_CLASIF', 'TPO_GRUPO', 'DTA_TPO_GRUPO', 'STA_ELIMINADO',\n",
    "       'TXT_PLAN_TRABAJO', 'TXT_ESTADO_ARTE', 'TXT_OBJETIVOS', 'TXT_RETOS',\n",
    "       'TXT_VISION', 'STA_CERTIFICADO', 'DTA_CERTIFICADO', 'DTA_CREACION',\n",
    "       'DTA_ACTUALIZACION', 'COD_CERTIFICACION', 'DTA_INI_SESION',\n",
    "       'TXT_CLASIF_1', 'COD_GRAN_AREA_CONHEC_MED', 'STA_CENTRO', 'TPO_CENTRO',\n",
    "       'STA_SECTOR', 'NRO_INTENTOS', 'STA_ACTIVO', 'COD_AREA_CONHEC_BK']].drop_duplicates()"
   ]
  },
  {
   "cell_type": "code",
   "execution_count": null,
   "id": "63f9a971-2a33-417f-a31b-0ec6ef2dd31c",
   "metadata": {},
   "outputs": [],
   "source": [
    "kk.shape"
   ]
  },
  {
   "cell_type": "code",
   "execution_count": null,
   "id": "7c577d59-aad6-41fe-a5f9-d232a3352ce3",
   "metadata": {},
   "outputs": [],
   "source": [
    "kk.drop_duplicates().shape"
   ]
  },
  {
   "cell_type": "code",
   "execution_count": null,
   "id": "1bca8cd4-f0ca-4f61-a05f-564ceda6500f",
   "metadata": {},
   "outputs": [],
   "source": [
    "pic=l[l['SGL_CATEGORIA'].fillna('').str.contains('PIC')]"
   ]
  },
  {
   "cell_type": "code",
   "execution_count": null,
   "id": "e5db5b19-a897-4c70-b64a-016eca5fd494",
   "metadata": {},
   "outputs": [],
   "source": []
  },
  {
   "cell_type": "code",
   "execution_count": null,
   "id": "7e3641a1-9c78-4724-a6d6-9b25abda34f6",
   "metadata": {},
   "outputs": [],
   "source": [
    "from IPython import display"
   ]
  },
  {
   "cell_type": "code",
   "execution_count": null,
   "id": "21620133-1d1f-48ab-b2d8-6104c3341420",
   "metadata": {},
   "outputs": [],
   "source": [
    "#display.JSON(pic.iloc[0].dropna().to_dict())"
   ]
  },
  {
   "cell_type": "code",
   "execution_count": 41,
   "id": "0d839558-b7d0-48f6-8dd8-85c17b9f2e94",
   "metadata": {},
   "outputs": [
    {
     "data": {
      "text/plain": [
       "['author',\n",
       " 'language',\n",
       " 'product_type',\n",
       " 'author_others',\n",
       " 'details',\n",
       " 'institution',\n",
       " 'group',\n",
       " 'project',\n",
       " 'same_title',\n",
       " 'same_doi']"
      ]
     },
     "execution_count": 41,
     "metadata": {},
     "output_type": "execute_result"
    }
   ],
   "source": [
    "[k for k in l.columns if re.search('[a-z]',k) ]"
   ]
  },
  {
   "cell_type": "code",
   "execution_count": null,
   "id": "e5791a1c-928c-40ac-9806-81a3ce309cc0",
   "metadata": {},
   "outputs": [],
   "source": []
  }
 ],
 "metadata": {
  "kernelspec": {
   "display_name": "Python 3 (ipykernel)",
   "language": "python",
   "name": "python3"
  },
  "language_info": {
   "codemirror_mode": {
    "name": "ipython",
    "version": 3
   },
   "file_extension": ".py",
   "mimetype": "text/x-python",
   "name": "python",
   "nbconvert_exporter": "python",
   "pygments_lexer": "ipython3",
   "version": "3.9.2"
  }
 },
 "nbformat": 4,
 "nbformat_minor": 5
}
