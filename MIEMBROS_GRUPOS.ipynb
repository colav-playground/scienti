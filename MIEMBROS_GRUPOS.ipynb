{
 "cells": [
  {
   "cell_type": "markdown",
   "id": "168f050c-a5d0-48cb-a55a-2c8f87530531",
   "metadata": {},
   "source": [
    "# Miembros de Grupos"
   ]
  },
  {
   "cell_type": "markdown",
   "id": "f0c8955a-53e0-485a-bc9f-130ae82c8c69",
   "metadata": {},
   "source": [
    "* PRODUCTOS\n",
    "  * autor registrante\n",
    "     * Institución\n",
    "     * Grupo\n",
    "\n",
    "\n",
    "El resultado completo del análisis se encuentra en la siguiente carpeta del Google Drive:\n",
    "https://drive.google.com/drive/u/0/folders/1d3UJK5QU5Y6XVB7NxnicGgnefDsfIiu-"
   ]
  },
  {
   "cell_type": "markdown",
   "id": "48ee8ce4-9bdb-431a-9f74-704917d8b529",
   "metadata": {
    "tags": []
   },
   "source": [
    "## Modules, functions and data"
   ]
  },
  {
   "cell_type": "code",
   "execution_count": 1,
   "id": "0b757f67-477d-4f65-8e06-eef41f30b99a",
   "metadata": {},
   "outputs": [],
   "source": [
    "import wosplus as wp"
   ]
  },
  {
   "cell_type": "code",
   "execution_count": 2,
   "id": "8a22aa8d-cc97-4195-b4d3-3351c69fbcd2",
   "metadata": {},
   "outputs": [],
   "source": [
    "import pandas as pd\n",
    "import numpy as np\n",
    "import time\n",
    "import re\n",
    "pd.set_option('display.max_rows', 500)\n",
    "pd.set_option('display.max_columns', 500)"
   ]
  },
  {
   "cell_type": "markdown",
   "id": "4b5ec5d6-52a4-4a2e-8c75-f293fb87f8cd",
   "metadata": {},
   "source": [
    "internal functions"
   ]
  },
  {
   "cell_type": "code",
   "execution_count": 4,
   "id": "82fc88ff-a052-4648-b210-5184de06a0e5",
   "metadata": {},
   "outputs": [],
   "source": [
    "def iloc_0(df):\n",
    "    if not df.empty:\n",
    "        df=df.iloc[0]\n",
    "    else:\n",
    "        df=pd.Series(dtype=str)\n",
    "    return df\n",
    "def get_author(RH,other=False,\n",
    "               document_type={'C':\"cédula\", 'P':\"passport\", 'E':\"cédula de extranería\", 'T':\"tarjeta de identidad\"},\n",
    "              roles={\"ORI\":\"Advisor\"}):\n",
    "    if RH.get(\"TXT_TOTAL_NAMES\"):\n",
    "        aud={\n",
    "            \"full_name\":str(RH.get(\"TXT_TOTAL_NAMES\")),\n",
    "            \"first_names\": str(RH.get(\"TXT_NAMES_RH\")),\n",
    "            \"first_last_name\": str(RH.get(\"TXT_PRIM_APELL\")), #DEBUG: last_names\n",
    "            \"second_last_name\": str(RH.get(\"TXT_SEG_APELL\")), \n",
    "            \"intials\":''.join([s[0] for s in str(RH.get(\"TXT_NAMES_RH\")).split()]),\n",
    "            \"aliases\":[str(RH.get(\"TXT_CITACION_BIBLIO\"))],\n",
    "        }\n",
    "    else:\n",
    "        aud={}\n",
    "    if RH.get(\"TPO_SEXO\"):\n",
    "        aud[\"sex\"]=str(RH.get(\"TPO_SEXO\"))\n",
    "    if RH.get(\"TPO_NACIONALIDAD\"):  \n",
    "        aud[\"nacionality\"]=str(RH.get(\"TPO_NACIONALIDAD\")) #privado\n",
    "    if RH.get(\"TPO_ESTADO_CIVIL\"):\n",
    "        aud[\"marital_status\"]=str(RH.get(\"TPO_ESTADO_CIVIL\")) #privado\n",
    "    if RH.get(\"DTA_NACIM\"):\n",
    "        aud[\"date_of_birth\"]=str(RH.get(\"DTA_NACIM\")) #privado\n",
    "    \n",
    "    if RH.get(\"SGL_PAIS_NACIM\"):\n",
    "        PS=ps[ps['SGL_PAIS']==RH.get(\"SGL_PAIS_NACIM\")]\n",
    "        PS=iloc_0(PS)\n",
    "        aud[\"country_of_birth\"]=str(PS.get(\"TXT_NME_PAIS\")) #privado\n",
    "    if RH.get(\"COD_MUN_NACIM\"):\n",
    "        MP=mp[ (mp[\"COD_RH_MUNICIPIO\"]==RH.get(\"COD_RH_MUN_NACIM\")) & ( mp[\"COD_MUNICIPIO\"]==RH.get(\"COD_MUN_NACIM\"))]\n",
    "        MP=iloc_0(MP)\n",
    "        aud[\"town_of_birth\"]=str(MP.get(\"TXT_NME_MUNICIPIO\"))\n",
    "    if RH.get(\"COD_RH\"):\n",
    "        aud[\"external_ids\"]=[\n",
    "                         {\"value\":str(RH.get(\"COD_RH\")),\n",
    "                          \"source\":\"cvlac\"\n",
    "                         }]\n",
    "    \n",
    "    if RH.get(\"COD_ORCID\") and not pd.isna(RH.get(\"COD_ORCID\")):\n",
    "        aud[\"external_ids\"].append({\"value\":RH.get(\"COD_ORCID\"),\n",
    "                                    \"source\":\"orcid\"\n",
    "                                   })\n",
    "    if RH.get(\"AUTOR_ID_SCP\") and not pd.isna(RH.get(\"AUTOR_ID_SCP\")):\n",
    "        aud[\"external_ids\"].append({\"value\":RH.get(\"AUTOR_ID_SCP\"),\n",
    "                                    \"source\":\"orcid\"\n",
    "                                   })\n",
    "    if RH.get(\"NRO_DOCUMENTO_IDENT\") and not pd.isna(RH.get(\"NRO_DOCUMENTO_IDENT\")):\n",
    "        aud[\"document\"]=[{\"value\":RH.get(\"NRO_DOCUMENTO_IDENT\"),\n",
    "                      \"type\":document_type.get( RH.get(\"TPO_DOCUMENTO_IDENT\") )}]\n",
    "\n",
    "        if not pd.isna(RH.get(\"NRO_PASAPORTE\")) and \"passport\" in [d.get(\"type\") for d in aud[\"document\"] ] :\n",
    "            aud[\"document\"].append({\"value\":RH.get(\"NRO_PASAPORTE\"),\n",
    "                                \"type\":\"passport\"\n",
    "                               })\n",
    "    if not other:\n",
    "        aud[\"registrant\"]=[{\"value\":True,\n",
    "                              \"source\":\"scienti\"}] #DEBUG Unificar autor de correspondencia, envio preprint\n",
    "        aud[\"role\"]=\"author\"\n",
    "    else:\n",
    "        aud[\"registrant\"]=[{\"value\":False,\n",
    "                              \"source\":\"scienti\"}] #DEBUG Unificar autor de correspondencia, envio preprint\n",
    "        aud[\"role\"]=roles.get(str(RH.get(\"TPO_PARTICIPACION\")))\n",
    "    return aud        "
   ]
  },
  {
   "cell_type": "markdown",
   "id": "89b80096-0695-4c4c-a5e7-b2455e8314a1",
   "metadata": {
    "tags": []
   },
   "source": [
    "## Load the CvLAC and GrupLAC tables"
   ]
  },
  {
   "cell_type": "code",
   "execution_count": 6,
   "id": "db16df2c-4dc9-435b-b6e8-ae1538019a92",
   "metadata": {},
   "outputs": [],
   "source": [
    "dtype={\n",
    "'COD_RH':str,\n",
    "'NRO_ID_GRUPO':str,\n",
    "'COD_RH_MUNICIPIO':str,\n",
    "'COD_INST':str,\n",
    "'COD_INST_AVALA':str,\n",
    "'COD_INST_MACRO':str,\n",
    "'COD_INSTITUCION':str,         \n",
    "'COD_INST_OTRO':str,\n",
    "'ID_DEPARTAMENTO':str,\n",
    "'COD_DEPA_DANE': str,\n",
    "'COD_MUNI_DANE':str,\n",
    "'COD_RH_OTRO':str,\n",
    "'COD_RH_COAUTOR':str\n",
    " }\n",
    "#converters={'COD_INST_AVALA':lambda s:'0' if pd.isna(s) else str(s)},"
   ]
  },
  {
   "cell_type": "code",
   "execution_count": 7,
   "id": "cca8143f-3172-4933-a68c-4af010b73927",
   "metadata": {},
   "outputs": [],
   "source": [
    "sc=wp.wosplus('drive.cfg')"
   ]
  },
  {
   "cell_type": "code",
   "execution_count": 8,
   "id": "67929cbd-179e-4817-a23d-aeba54c79e41",
   "metadata": {},
   "outputs": [],
   "source": [
    "cv=sc.read_drive_excel('EN_PRODUCTO.xlsx',dtype=dtype)"
   ]
  },
  {
   "cell_type": "code",
   "execution_count": 9,
   "id": "4223d255-1ed7-4b82-a94b-50ff718edae7",
   "metadata": {},
   "outputs": [
    {
     "data": {
      "text/plain": [
       "(342440, 58)"
      ]
     },
     "execution_count": 9,
     "metadata": {},
     "output_type": "execute_result"
    }
   ],
   "source": [
    "cv.shape"
   ]
  },
  {
   "cell_type": "code",
   "execution_count": 10,
   "id": "ac5d6a26-404a-46ce-b2b4-b96cc2281b68",
   "metadata": {},
   "outputs": [],
   "source": [
    "rh=sc.read_drive_excel('EN_RECURSO_HUMANO.xlsx',dtype=dtype)"
   ]
  },
  {
   "cell_type": "code",
   "execution_count": 11,
   "id": "ab4f0b3d-12f0-4be0-8579-d5ffa57726d0",
   "metadata": {},
   "outputs": [],
   "source": [
    "tp=sc.read_drive_excel('EN_TIPO_PRODUCTO.xlsx',dtype=dtype)"
   ]
  },
  {
   "cell_type": "code",
   "execution_count": 12,
   "id": "0fc4c4aa-18f1-45be-b4e6-579116965890",
   "metadata": {},
   "outputs": [],
   "source": [
    "gr=sc.read_drive_excel('GRUPLAC_EN_PRODUCTO_GR.xlsx',dtype=dtype)"
   ]
  },
  {
   "cell_type": "code",
   "execution_count": 13,
   "id": "ab019c72-572c-4e0d-bfbf-ab905026bcd7",
   "metadata": {},
   "outputs": [],
   "source": [
    "PPC=sc.read_drive_excel('RE_PRODUCTO_PALABRA_CLA.xlsx',dtype=dtype)\n",
    "PC=sc.read_drive_excel('EN_PALABRA_CLAVE.xlsx',dtype=dtype)"
   ]
  },
  {
   "cell_type": "code",
   "execution_count": 14,
   "id": "b3ffecff-0d62-4edd-84de-237d3719588f",
   "metadata": {},
   "outputs": [],
   "source": [
    "prh=sc.read_drive_excel('RE_PRODUCTO_RECURSO_HUM_OTRO.xlsx',dtype=dtype)"
   ]
  },
  {
   "cell_type": "code",
   "execution_count": 15,
   "id": "09969b85-ccd5-49b5-b235-24f59be6fd05",
   "metadata": {},
   "outputs": [],
   "source": [
    "ps=sc.read_drive_excel('EN_PAIS.xlsx',dtype=dtype)\n",
    "dp=sc.read_drive_excel('EN_DEPARTAMENTO.xlsx',dtype=dtype)\n",
    "mp=sc.read_drive_excel('EN_MUNICIPIO.xlsx',dtype=dtype)"
   ]
  },
  {
   "cell_type": "code",
   "execution_count": 16,
   "id": "1a312f69-7a18-435f-ab5d-7658a4853fa0",
   "metadata": {},
   "outputs": [],
   "source": [
    "psa=sc.read_drive_excel('RE_PRODUCTO_SECTOR_APL.xlsx',dtype=dtype)"
   ]
  },
  {
   "cell_type": "code",
   "execution_count": 17,
   "id": "dda4aabe-6571-4213-9c82-00b2dd54ca1b",
   "metadata": {},
   "outputs": [],
   "source": [
    "sa=sc.read_drive_excel('EN_SECTOR_APLICACION.xlsx',dtype=dtype)"
   ]
  },
  {
   "cell_type": "code",
   "execution_count": 18,
   "id": "837347f9-6a56-4015-b6bf-8227c7fd619d",
   "metadata": {},
   "outputs": [],
   "source": [
    "gi=sc.read_drive_excel('GRUPLAC_RE_GRUPO_INSTITUCION.xlsx',dtype=dtype)"
   ]
  },
  {
   "cell_type": "code",
   "execution_count": 19,
   "id": "0aed2378-5c84-463f-868d-1307f5654afb",
   "metadata": {},
   "outputs": [],
   "source": [
    "it=sc.read_drive_excel('EN_INSTITUCION.xlsx',dtype=dtype)"
   ]
  },
  {
   "cell_type": "code",
   "execution_count": 20,
   "id": "191b8b46-5d3f-4d57-9d56-183bfcdbab2f",
   "metadata": {},
   "outputs": [],
   "source": [
    "GR=sc.read_drive_excel('gruplac_grupo_pesquisa.xlsx',dtype=dtype)"
   ]
  },
  {
   "cell_type": "code",
   "execution_count": 21,
   "id": "c0cbaec6-2563-4e36-a0dd-043ed05b6f6e",
   "metadata": {},
   "outputs": [],
   "source": [
    "ac=sc.read_drive_excel('EN_AREA_CONOCIMIENTO.xlsx',dtype=dtype)"
   ]
  },
  {
   "cell_type": "code",
   "execution_count": 22,
   "id": "a2e2bc72-6d0a-4ae8-87d2-75bd6d833370",
   "metadata": {},
   "outputs": [],
   "source": [
    "prg=sc.read_drive_excel('GRUPLAC_EN_PROGRAMA_COLCIENCIAS.xlsx',dtype=dtype)"
   ]
  },
  {
   "cell_type": "markdown",
   "id": "9e180141-d640-4d1c-af19-0838be425270",
   "metadata": {
    "tags": []
   },
   "source": [
    "## JSON Generation code"
   ]
  },
  {
   "cell_type": "markdown",
   "id": "8235b638-1d02-4087-b90d-64f9b9aca09f",
   "metadata": {},
   "source": [
    "Sample at https://jsonblob.com/api/918880355558375424/\n",
    "\n",
    "To include `authors.affiliations.branches.descriptions` set `OPTIMIZE_STORAGE=False`"
   ]
  },
  {
   "cell_type": "code",
   "execution_count": 23,
   "id": "1c6a2adf-f8c7-4409-9dc7-f93d6368bbb5",
   "metadata": {},
   "outputs": [
    {
     "name": "stdout",
     "output_type": "stream",
     "text": [
      "342400\r"
     ]
    }
   ],
   "source": [
    "OPTIMIZE_STORAGE=True\n",
    "if OPTIMIZE_STORAGE:\n",
    "    borrar='_BORRAR'\n",
    "else:\n",
    "    borrar=''\n",
    "prs=[]\n",
    "#i=888#117294#0#340454#666#\n",
    "\n",
    "prmax=10\n",
    "#if True:\n",
    "for i in cv.index:#range(340469,cv.index.max()+1):#\n",
    "    #if i==101:#20:\n",
    "    #    break\n",
    "    pr={}\n",
    "    if i%100==0:\n",
    "        print(str(i).zfill(6),end='\\r')    \n",
    "    cvi=cv.loc[i]\n",
    "    DEBUG=False\n",
    "    #Tipo de Producto\n",
    "    TP=tp[tp['COD_TIPO_PRODUCTO']==cvi.get('COD_TIPO_PRODUCTO')]\n",
    "    TP=iloc_0(TP)\n",
    "\n",
    "    #author\n",
    "    RH=rh[rh[\"COD_RH\"]==cvi.get(\"COD_RH\")]\n",
    "    RH=iloc_0(RH)\n",
    "\n",
    "    #coauthor/advisor\n",
    "    PRH=prh[(prh['COD_RH']==cvi['COD_RH']) & (prh['COD_PRODUCTO']==cvi['COD_PRODUCTO'])]\n",
    "    PRH=iloc_0(PRH)\n",
    "\n",
    "    #Sector Aplicación\n",
    "    PSA=psa[ (psa['COD_RH']==cvi['COD_RH']) & (psa['COD_PRODUCTO']==cvi['COD_PRODUCTO']) ]\n",
    "    PSA=iloc_0(PSA)\n",
    "\n",
    "    SA=sa[sa['COD_SECTOR_APLICACION']==PSA.get('COD_SECTOR_APLICACION')]\n",
    "    SA=iloc_0(SA)\n",
    "\n",
    "    #Product in Group\n",
    "    GRR=gr[ (gr['COD_RH']==cvi['COD_RH']) & (gr['COD_PRODUCTO']==cvi['COD_PRODUCTO']) ]\n",
    "    GRR=iloc_0(GRR)\n",
    "    pr[\"year_published\"]=GRR.get('NRO_ANO_PRESENTA')\n",
    "    pr[\"month_published\"]=GRR.get('NRO_MES_PRESENTA')\n",
    "\n",
    "    #Group code number o\n",
    "    GI=gi[gi['NRO_ID_GRUPO']==GRR.get('NRO_ID_GRUPO')]\n",
    "    GI=iloc_0(GI)\n",
    "\n",
    "    #Institute \n",
    "    IT=it[it['COD_INST']==GI.get('COD_INST')]\n",
    "    IT=iloc_0(IT)\n",
    "\n",
    "    #Group information\n",
    "    GP=GR[GR['NRO_ID_GRUPO']==GRR.get('NRO_ID_GRUPO')]\n",
    "    GP=iloc_0(GP)\n",
    "\n",
    "    DP=dp[dp['ID_DEPARTAMENTO']==IT.get('SGL_DEPARTAMENTO')]\n",
    "    DP=iloc_0(DP)\n",
    "    PS=ps[ps['SGL_PAIS']==DP.get('SGL_PAIS')]\n",
    "    PS=iloc_0(PS)\n",
    "\n",
    "\n",
    "    GRP=gr[(gr['COD_RH']==cvi.get('COD_RH')) & (gr['COD_PRODUCTO']==cvi.get('COD_PRODUCTO'))]\n",
    "    GRP=iloc_0(GRP)\n",
    "\n",
    "    GRU=GR[GR[\"NRO_ID_GRUPO\"]==GRP.get(\"NRO_ID_GRUPO\")]\n",
    "    GRU=iloc_0(GRU)\n",
    "\n",
    "    PRG=prg[prg['COD_PROGRAMA']==GRU.get('COD_PROGRAMA')]\n",
    "    PRG=iloc_0(PRG)\n",
    "\n",
    "    AC=ac[ac[\"COD_AREA_CONOCIMIENTO\"]==GRU.get(\"COD_AREA_CONHEC\")]\n",
    "    AC=iloc_0(AC)\n",
    "\n",
    "    if DEBUG: print('general metadata')\n",
    "\n",
    "    pr['source_checked']=[]\n",
    "    pr['source_checked'].append(\n",
    "        {'source': 'Scienti',\n",
    "         'COD_RH': cvi.get('COD_RH'),\n",
    "         'COD_PRODUCTO':cvi.get('COD_PRODUCTO')\n",
    "        })\n",
    "\n",
    "    pr['title']=cvi.get('TXT_NME_PROD')\n",
    "\n",
    "    if not pd.isna( cvi.get('TXT_RESUMEN_PROD') ):\n",
    "        pr['abstract']=cvi.get(f'TXT_RESUMEN_PROD{borrar}')\n",
    "    else:\n",
    "        pr['abstract']=''\n",
    "\n",
    "    if not pd.isna( cvi.get('TXT_OBSERV_PROD') ):\n",
    "        pr['notes']=cvi.get(f'TXT_OBSERV_PROD{borrar}')\n",
    "    else:\n",
    "        pr['notes']=''\n",
    "\n",
    "    pr[\"lang\"]=str(cvi.get(\"SGL_IDIOMA\"))\n",
    "\n",
    "    pr['product_subtype']=[{'title':TP.get('TXT_NME_TIPO_PRODUCTO')}]\n",
    "    if not pd.isna(cvi.get('SGL_CATEGORIA')):\n",
    "        pr['product_subtype'][0]['SGL_CATEGORIA']=cvi.get('SGL_CATEGORIA')\n",
    "    else:\n",
    "        pr['product_subtype'][0]['SGL_CATEGORIA']=''  \n",
    "    #TODO → ADD GRUPLAC PRODUCT information\n",
    "    #TODO → Add specific 'product_subtype' information\n",
    "\n",
    "    if DEBUG: print('topics')\n",
    "\n",
    "    tp_names=[]\n",
    "    stop=0\n",
    "    while not TP.empty:\n",
    "        TP=tp[tp['COD_TIPO_PRODUCTO']==TP.get('COD_TIPO_PRODUCTO_PADRE')]\n",
    "        if not TP.empty:\n",
    "            TP=TP.iloc[0]\n",
    "        else:\n",
    "            TP=pd.Series(dtype=str)\n",
    "        if not pd.isna(TP.get('TXT_NME_TIPO_PRODUCTO')):\n",
    "            tp_names.append(TP.get('TXT_NME_TIPO_PRODUCTO'))\n",
    "            tp_names.reverse()\n",
    "        stop+=1\n",
    "        if stop>10:\n",
    "            break\n",
    "\n",
    "    tp_list=[]\n",
    "    for ii in range(len(tp_names)):\n",
    "        tp_list.append( {'title':tp_names[ii],\n",
    "                         'level':ii})\n",
    "\n",
    "    pr[\"product_type\"]=tp_list\n",
    "\n",
    "    pc=PPC[(PPC['COD_RH']==cvi.get('COD_RH')) & (PPC['COD_PRODUCTO']==cvi.get('COD_PRODUCTO'))]\n",
    "\n",
    "    lpc=[]\n",
    "    for ii in pc['COD_PALABRA_CLAVE'].values: \n",
    "        lpc.append( PC[(PC['COD_RH']==cvi.get('COD_RH')) & (PC['COD_PALABRA_CLAVE']==ii)].iloc[0].to_dict())\n",
    "\n",
    "    pr[\"keywords\"]=[d.get('TXT_NME_PALABRA_CLAVE') for d in lpc]\n",
    "\n",
    "    if DEBUG: print('general authors metadata')\n",
    "\n",
    "    pr[\"authors\"]=[]\n",
    "\n",
    "\n",
    "    pr[\"authors\"].append(get_author(RH))\n",
    "\n",
    "\n",
    "    if not pd.isna(PRH.get(\"COD_RH_COAUTOR\")) and len(PRH.get(\"COD_RH_COAUTOR\"))==10:\n",
    "        RH=rh[rh[\"COD_RH\"]==PRH.get(\"COD_RH_COAUTOR\")]\n",
    "        RH=iloc_0(RH)\n",
    "        if RH.empty:\n",
    "            RH[\"COD_RH\"]=PRH[\"COD_RH\"]\n",
    "        #    RH[\"TXT_NAMES_RH\"]=''\n",
    "        RH[\"TPO_PARTICIPACION\"]=PRH[\"TPO_PARTICIPACION\"]\n",
    "        pr[\"authors\"].append(get_author(RH,other=True))\n",
    "\n",
    "    pr[\"profile_description\"]=RH.get(f\"TXT_DESC_PERFIL{borrar}\")\n",
    "\n",
    "\n",
    "    if DEBUG: print('sector de aplicación')\n",
    "    isa=True\n",
    "    if SA.empty:\n",
    "        isa=False\n",
    "    sal=[]\n",
    "    stop=0\n",
    "    while isa:\n",
    "        stop+=1\n",
    "        if SA.get('TXT_NME_SECTOR_APLIC'):\n",
    "            sal.append(SA.get('TXT_NME_SECTOR_APLIC'))\n",
    "        else:\n",
    "            isa=False\n",
    "        if SA.get('COD_SECTOR_APLICACION') and not SA.get('COD_SECTOR_APLICACION')!=SA.get('COD_SECT_APLIC_PADRE'):\n",
    "            isa=False\n",
    "        else:\n",
    "            SA=sa[sa['COD_SECTOR_APLICACION']==SA.get('COD_SECT_APLIC_PADRE')]\n",
    "            SA=iloc_0(SA)\n",
    "        if stop>10:\n",
    "            print(\"to many PADREs in COD_SECT_APLIC_PADRE\")\n",
    "            break\n",
    "    sal.reverse()        \n",
    "\n",
    "    sall=[]\n",
    "    for ii in range(len(sal)):\n",
    "        sall.append({\"title\":sal[ii],\"level\":ii})\n",
    "\n",
    "    pr[\"application_sector\"]=sall\n",
    "\n",
    "\n",
    "    if DEBUG: print('affiliation university')\n",
    "\n",
    "    if IT.empty:\n",
    "        aff={}\n",
    "    else:\n",
    "        aff={\n",
    "        \"name\":str(IT.get('NME_INST')),\n",
    "        'acronym':str(IT.get('SGL_INST')),\n",
    "        'addresses': [{'line_1': str(IT.get(\"TXT_DIRECCION\")),\n",
    "                       \"telephone\":str(IT.get(\"TXT_TELEFONO\")),\n",
    "                       \"email\":str(IT.get(\"TXT_EMAIL\"))\n",
    "                                       }],\n",
    "        'city': str(IT.get(\"TXT_CIUDAD_INST\")), #town\n",
    "        'date_constitution': str(IT.get(\"DTA_CONSTITUCION\")),                  \n",
    "        'external_urls': [{'source': 'scienti',\n",
    "                                     'url': str(IT.get(\"URL_HOME_PAGE\"))}],\n",
    "                         # EN_INSTITUCION_OTRA → EN_INSTITUCION\n",
    "        'external_ids': [{'source': 'NIT', 'value': str(IT.get(\"TXT_NIT\"))}],\n",
    "        'state': str(DP.get(\"TXT_NME_DEPARTAMENTO\")),\n",
    "        'state_code': {\"value\":str(DP.get(\"COD_DEPA_DANE\")),\n",
    "                       \"type\":\"DANE\"}, #https://www.fopep.gov.co/wp-content/uploads/2019/02/Tabla-C%C3%B3digos-Dane.pdf\n",
    "        'country': PS.get(str(\"TXT_NME_PAIS\"))   \n",
    "        }\n",
    "\n",
    "    if DEBUG: print('affiliation group')\n",
    "\n",
    "    if GRU.empty:\n",
    "        branch={}\n",
    "    else:\n",
    "        branch={\n",
    "        \"name\":str(GRU.get(\"NME_GRUPO\")),                                      \n",
    "        \"type\":\"group\",\n",
    "        'external_urls': [{ # → NRO_ID_GRUPO\n",
    "        'source': 'scienti',\n",
    "        'url': f'https://scienti.colciencias.gov.co/gruplac/jsp/visualiza/visualizagr.jsp?nro={GRU.get(\"NRO_ID_GRUPO\")}'\n",
    "                        }],\n",
    "        'external_ids': [{'source': 'gruplac', 'id': str(GRU.get(\"COD_ID_GRUPO\"))}],                                \n",
    "        \"formation_year\":GRU.get(\"ANO_FORMACAO\"),\n",
    "        \"month_formation_year\":GRU.get(\"MES_FORMACAO\"),\n",
    "        #'subjects': [{'source': 'area_ocde','subjects': ['Ciencias Sociales']},\n",
    "        #                                     {'source': 'subarea_ocde', 'subjects': ['Ciencias Políticas']},\n",
    "        #                                     {'source': 'sub_subarea_ocde', 'subjects': ['Ciencias Políticas']},\n",
    "        #                                    ],\n",
    "        \"classifications\":[{\"classification\":str(GRU.get(\"TXT_CLASIF\")),\n",
    "                                                    \"begin_date\":str(GRU.get(\"DTA_CLASIF\")),\n",
    "                                                    \"end_date\":str(GRU.get(\"DTA_FIN_CLASIF\")),\n",
    "                                                    \"source\":\"scienti\"\n",
    "                                                   }],\n",
    "        \"descriptions\":{\n",
    "            'PLAN_TRABAJO': GRU.get(f\"TXT_PLAN_TRABAJO{borrar}\"),\n",
    "            'ESTADO_ARTE': GRU.get(f\"TXT_ESTADO_ARTE{borrar}\"),\n",
    "            'OBJETIVOS': GRU.get(f\"TXT_OBJETIVOS{borrar}\"),\n",
    "            'RETOS': GRU.get(f\"TXT_RETOS{borrar}\"),\n",
    "            'VISION': GRU.get(f\"TXT_VISION{borrar}\"),\n",
    "        },\n",
    "        'programa_minciencias': {'programa':PRG.get(\"NME_PROGRAMA\"),\n",
    "                            'subdirección':PRG.get(\"NME_SUBDIRECCION\")}    \n",
    "        }\n",
    "\n",
    "    if DEBUG: print('áreas ocde')\n",
    "\n",
    "    if not AC.empty:\n",
    "        subjects=[]\n",
    "        stop=0 #Emergency stop\n",
    "        STOP=False\n",
    "        if AC.empty:\n",
    "            STOP=True\n",
    "        while not STOP:\n",
    "            subjects.append({'title':AC.get(\"TXT_NME_AREA\"),\n",
    "                            'level':AC.get(\"NRO_NIVEL\"),\n",
    "                            'source': 'area_ocde'})    \n",
    "\n",
    "            if AC.get('NRO_NIVEL')==0:\n",
    "                STOP=True\n",
    "            else:\n",
    "                AC=ac[ac[\"COD_AREA_CONOCIMIENTO\"]==AC.get(\"COD_AREA_PADRE\")]\n",
    "                AC=iloc_0(AC)\n",
    "\n",
    "            #Emergency stop\n",
    "            stop+=stop\n",
    "            if stop>10:\n",
    "                print(\"EMERGENCY EXIT in Area de Conocimiento\")\n",
    "                break\n",
    "        if branch:\n",
    "            branch['subjects']=subjects\n",
    "\n",
    "    if aff:\n",
    "        aff['branches']=[branch]\n",
    "        pr['authors'][0]['affiliations']=[aff]\n",
    "    else:\n",
    "        pr['authors'][0]['affiliations']=[]\n",
    "\n",
    "    prs.append(pr)\n",
    "    if i%1000==0:\n",
    "        #print(f'save at {i}')\n",
    "        f=open('products.json','w',encoding='utf8')\n",
    "        json.dump(prs,f,cls=NpEncoder,ensure_ascii=False)\n",
    "        f.close()\n",
    "\n",
    "     #TODO → Second author/advisor affiliation        \n",
    "f=open('products.json','w',encoding='utf8')\n",
    "json.dump(prs,f,cls=NpEncoder,ensure_ascii=False)\n",
    "f.close()"
   ]
  },
  {
   "cell_type": "code",
   "execution_count": 24,
   "id": "a205b7bb-2262-4b5a-8597-976799bae8f5",
   "metadata": {},
   "outputs": [
    {
     "data": {
      "text/plain": [
       "342440"
      ]
     },
     "execution_count": 24,
     "metadata": {},
     "output_type": "execute_result"
    }
   ],
   "source": [
    "len(prs)"
   ]
  },
  {
   "cell_type": "markdown",
   "id": "ed2800d2-0cb5-4d11-ad55-eb0a093d031b",
   "metadata": {
    "tags": []
   },
   "source": [
    "## Extract researcher information from JSON"
   ]
  },
  {
   "cell_type": "markdown",
   "id": "e63fd9c0-1ed9-4fb7-a7e9-deea10a6b900",
   "metadata": {},
   "source": [
    "and export to Excel"
   ]
  },
  {
   "cell_type": "code",
   "execution_count": 25,
   "id": "0c9f65ac-d741-4df0-8e83-c5bb9070caaf",
   "metadata": {},
   "outputs": [],
   "source": [
    "prs=pd.DataFrame(prs)"
   ]
  },
  {
   "cell_type": "code",
   "execution_count": 26,
   "id": "3dc5112f-64cb-40dc-98b8-b934ce3dfe45",
   "metadata": {},
   "outputs": [],
   "source": [
    "def to_excel(df):\n",
    "    iv=pd.DataFrame()\n",
    "\n",
    "    iv['title']=df['title']\n",
    "    iv['year_published']=df['year_published']#.astype(int)\n",
    "    iv['month_published']=df['month_published']#.astype(int)\n",
    "\n",
    "    iv['COD_RH']=df['source_checked'].str[0].str['COD_RH']\n",
    "    iv['COD_PRODUCTO']=df['source_checked'].str[0].str['COD_PRODUCTO']\n",
    "    iv['product_type']=df['product_type'].str[0].str['title']\n",
    "    iv['product_subtype']=df['product_subtype'].str[0].str['title']\n",
    "    iv[\"SGL_CATEGORIA\"]=df['product_subtype'].str[0].str[\"SGL_CATEGORIA\"]\n",
    "\n",
    "    iv['full_name']=df['authors'].str[0].str['full_name']\n",
    "    #iv[]=df['authors'].str[0].str['external_ids'].str[0].str['value'] \n",
    "    iv['identification_type']=df['authors'].str[0].str['document'].str[0].str['type']\n",
    "    iv['identification']=df['authors'].str[0].str['document'].str[0].str['value']\n",
    "\n",
    "    iv['institution']=df['authors'].str[0].str['affiliations'].str[0].str['name']\n",
    "    iv['institution_NIT']=df['authors'].str[0].str['affiliations'].str[0].str['external_ids'].str[0].str['value']\n",
    "\n",
    "    iv['group']=df['authors'].str[0].str['affiliations'].str[0].str['branches'].str[0].str['name']\n",
    "    iv['GroupLAC_id']=df['authors'].str[0].str['affiliations'].str[0].str['branches'].str[0].str['external_ids'].str[0].str['id']\n",
    "    try:    \n",
    "        iv['AREA_OCDE']=df['authors'].str[0].str['affiliations'].str[0].str['branches'].str[0].str['subjects'].apply(\n",
    "             lambda l: [d for d in l if d.get('level')==0]).str[0].str['title']\n",
    "        iv['SUB_AREA_OCDE']=df['authors'].str[0].str['affiliations'].str[0].str['branches'].str[0].str['subjects'].apply(\n",
    "             lambda l: [d for d in l if d.get('level')==1]).str[0].str['title']\n",
    "        iv['SUB_SUB_AREA_OCDE']=df['authors'].str[0].str['affiliations'].str[0].str['branches'].str[0].str['subjects'].apply(\n",
    "             lambda l: [d for d in l if d.get('level')==2]).apply(\n",
    "             lambda l: [d for d in l] if len(l)>0 else [{'title':''}]).str[0].str['title']\n",
    "    except TypeError:\n",
    "        iv['AREA_OCDE']=''\n",
    "        iv['SUB_AREA_OCDE']=''\n",
    "        iv['SUB_SUB_AREA_OCDE']=''\n",
    "    iv['programa_minciencias']=df['authors'].str[0].str['affiliations'].str[0].str['branches'].str[0].str['programa_minciencias'].str['programa']\n",
    "    iv['group_classification']=df['authors'].str[0].str['affiliations'].str[0].str['branches'].str[0].str['classifications'].str[0].str['classification']\n",
    "    iv['group_classification_start']=df['authors'].str[0].str['affiliations'].str[0].str['branches'].str[0].str['classifications'].str[0].str['begin_date']\n",
    "    iv['group_classification_end']=df['authors'].str[0].str['affiliations'].str[0].str['branches'].str[0].str['classifications'].str[0].str['end_date']\n",
    "    try:\n",
    "        iv['PLAN_TRABAJO']=df['authors'].str[0].str['affiliations'].str[0].str['branches'].str[0].str[\"descriptions\"].str['PLAN_TRABAJO']\n",
    "    except:\n",
    "        iv['PLAN_TRABAJO']=''\n",
    "    try:\n",
    "        iv['ESTADO_ARTE'] =df['authors'].str[0].str['affiliations'].str[0].str['branches'].str[0].str[\"descriptions\"].str['ESTADO_ARTE']\n",
    "    except:\n",
    "        iv['ESTADO_ARTE'] =''\n",
    "    try:\n",
    "        iv['OBJETIVOS']   =df['authors'].str['affiliations'].str[0].str['branches'].str[0].str[0].str[\"descriptions\"].str['OBJETIVOS']\n",
    "    except:\n",
    "        iv['OBJETIVOS']   =''\n",
    "    try:\n",
    "        iv['RETOS']       =df['authors'].str['affiliations'].str[0].str['branches'].str[0].str[0].str[\"descriptions\"].str['RETOS']\n",
    "    except:\n",
    "        iv['RETOS']       =''\n",
    "    try:\n",
    "        iv['VISION']      =df['authors'].str['affiliations'].str[0].str['branches'].str[0].str[0].str[\"descriptions\"].str['VISION'] \n",
    "    except:\n",
    "        iv['VISION']      =''\n",
    "    return iv"
   ]
  },
  {
   "cell_type": "code",
   "execution_count": 27,
   "id": "5888c778-ffb6-4d9e-af8d-6c4f3559a261",
   "metadata": {},
   "outputs": [],
   "source": [
    "iv=to_excel(prs)"
   ]
  },
  {
   "cell_type": "code",
   "execution_count": 28,
   "id": "dc1f9361-77bf-48ea-be84-f8a6c3051545",
   "metadata": {},
   "outputs": [],
   "source": [
    "iv=iv.dropna(subset=['GroupLAC_id']).reset_index(drop=True)"
   ]
  },
  {
   "cell_type": "code",
   "execution_count": 29,
   "id": "8f4142fc-001d-4951-b11d-36025f7f16b4",
   "metadata": {},
   "outputs": [],
   "source": [
    "iv=iv.drop_duplicates(['identification','GroupLAC_id']).reset_index(drop=True)"
   ]
  },
  {
   "cell_type": "code",
   "execution_count": 30,
   "id": "16f3a444-9956-4fcc-89ec-f9e26ce648cd",
   "metadata": {},
   "outputs": [],
   "source": [
    "iv.to_excel('investigadores.xlsx',index=False)"
   ]
  },
  {
   "cell_type": "markdown",
   "id": "f2821cb6-2d74-4867-ad28-aadf15ef793f",
   "metadata": {
    "tags": []
   },
   "source": [
    "##  Appendix"
   ]
  },
  {
   "cell_type": "markdown",
   "id": "fe45976d-a217-415c-b103-5c4d8055c8b8",
   "metadata": {},
   "source": [
    "Some checks"
   ]
  },
  {
   "cell_type": "code",
   "execution_count": 53,
   "id": "2bdd12ff-46c9-47e0-b943-a9a5589d580a",
   "metadata": {},
   "outputs": [],
   "source": [
    "ne=pd.read_excel('/home/restrepo/Downloads/Coordinadores que no se encontraron_AA (1).xlsx')"
   ]
  },
  {
   "cell_type": "code",
   "execution_count": 54,
   "id": "34f55c07-660c-49fa-9011-f0f6129754e6",
   "metadata": {},
   "outputs": [
    {
     "data": {
      "text/html": [
       "<div>\n",
       "<style scoped>\n",
       "    .dataframe tbody tr th:only-of-type {\n",
       "        vertical-align: middle;\n",
       "    }\n",
       "\n",
       "    .dataframe tbody tr th {\n",
       "        vertical-align: top;\n",
       "    }\n",
       "\n",
       "    .dataframe thead th {\n",
       "        text-align: right;\n",
       "    }\n",
       "</style>\n",
       "<table border=\"1\" class=\"dataframe\">\n",
       "  <thead>\n",
       "    <tr style=\"text-align: right;\">\n",
       "      <th></th>\n",
       "      <th>title</th>\n",
       "      <th>year_published</th>\n",
       "      <th>month_published</th>\n",
       "      <th>COD_RH</th>\n",
       "      <th>COD_PRODUCTO</th>\n",
       "      <th>product_type</th>\n",
       "      <th>product_subtype</th>\n",
       "      <th>SGL_CATEGORIA</th>\n",
       "      <th>full_name</th>\n",
       "      <th>identification_type</th>\n",
       "      <th>identification</th>\n",
       "      <th>institution</th>\n",
       "      <th>institution_NIT</th>\n",
       "      <th>group</th>\n",
       "      <th>GroupLAC_id</th>\n",
       "      <th>AREA_OCDE</th>\n",
       "      <th>SUB_AREA_OCDE</th>\n",
       "      <th>SUB_SUB_AREA_OCDE</th>\n",
       "      <th>programa_minciencias</th>\n",
       "      <th>group_classification</th>\n",
       "      <th>group_classification_start</th>\n",
       "      <th>group_classification_end</th>\n",
       "      <th>PLAN_TRABAJO</th>\n",
       "      <th>ESTADO_ARTE</th>\n",
       "      <th>OBJETIVOS</th>\n",
       "      <th>RETOS</th>\n",
       "      <th>VISION</th>\n",
       "    </tr>\n",
       "  </thead>\n",
       "  <tbody>\n",
       "    <tr>\n",
       "      <th>858</th>\n",
       "      <td>Gestión integral de desechos Facultad de Medic...</td>\n",
       "      <td>2002.0</td>\n",
       "      <td>1.0</td>\n",
       "      <td>0000088293</td>\n",
       "      <td>5543</td>\n",
       "      <td>Producción técnica</td>\n",
       "      <td>Página web</td>\n",
       "      <td>GC_V-00</td>\n",
       "      <td>Luz Marina Restrepo Munera</td>\n",
       "      <td>cédula</td>\n",
       "      <td>42986946</td>\n",
       "      <td>IPS UNIVERSITARIA</td>\n",
       "      <td>811016192</td>\n",
       "      <td>Grupo  Ingeniería de tejidos y terapias celulares</td>\n",
       "      <td>COL0027213</td>\n",
       "      <td></td>\n",
       "      <td></td>\n",
       "      <td></td>\n",
       "      <td>Ciencia, Tecnología e Innovación en Salud</td>\n",
       "      <td>B</td>\n",
       "      <td>2019-12-06 00:00:00</td>\n",
       "      <td>2021-12-05 00:00:00</td>\n",
       "      <td>NaN</td>\n",
       "      <td>NaN</td>\n",
       "      <td></td>\n",
       "      <td></td>\n",
       "      <td></td>\n",
       "    </tr>\n",
       "  </tbody>\n",
       "</table>\n",
       "</div>"
      ],
      "text/plain": [
       "                                                 title  year_published  \\\n",
       "858  Gestión integral de desechos Facultad de Medic...          2002.0   \n",
       "\n",
       "     month_published      COD_RH  COD_PRODUCTO        product_type  \\\n",
       "858              1.0  0000088293          5543  Producción técnica   \n",
       "\n",
       "    product_subtype SGL_CATEGORIA                   full_name  \\\n",
       "858      Página web       GC_V-00  Luz Marina Restrepo Munera   \n",
       "\n",
       "    identification_type identification        institution institution_NIT  \\\n",
       "858              cédula       42986946  IPS UNIVERSITARIA       811016192   \n",
       "\n",
       "                                                 group GroupLAC_id AREA_OCDE  \\\n",
       "858  Grupo  Ingeniería de tejidos y terapias celulares  COL0027213             \n",
       "\n",
       "    SUB_AREA_OCDE SUB_SUB_AREA_OCDE  \\\n",
       "858                                   \n",
       "\n",
       "                          programa_minciencias group_classification  \\\n",
       "858  Ciencia, Tecnología e Innovación en Salud                    B   \n",
       "\n",
       "    group_classification_start group_classification_end  PLAN_TRABAJO  \\\n",
       "858        2019-12-06 00:00:00      2021-12-05 00:00:00           NaN   \n",
       "\n",
       "     ESTADO_ARTE OBJETIVOS RETOS VISION  \n",
       "858          NaN                         "
      ]
     },
     "execution_count": 54,
     "metadata": {},
     "output_type": "execute_result"
    }
   ],
   "source": [
    "iv[iv['identification']=='42986946']"
   ]
  },
  {
   "cell_type": "code",
   "execution_count": 55,
   "id": "50bd38f9-95f0-4882-ad58-ad1172423d46",
   "metadata": {},
   "outputs": [],
   "source": [
    "ne=ne.fillna(0).reset_index(drop=True).rename({'CEDULA':'identification'},axis='columns')\n",
    "ne['identification']=ne['identification'].astype(str)"
   ]
  },
  {
   "cell_type": "code",
   "execution_count": 58,
   "id": "5dfa5ea8-aad9-4c01-831d-8b0293b5b92e",
   "metadata": {},
   "outputs": [],
   "source": [
    "ne.merge(iv,on='identification',how='left')[\n",
    "    ['COD_ID_GRUPO', 'Esatado', 'NOMBRE_COORDINADOR', 'identification',\n",
    "       'title', 'year_published', 'month_published', 'COD_RH',\n",
    "       'COD_PRODUCTO', 'product_type', 'product_subtype', 'SGL_CATEGORIA',\n",
    "       'full_name', 'identification_type', 'institution', 'institution_NIT',\n",
    "       'group', 'GroupLAC_id', 'AREA_OCDE', 'SUB_AREA_OCDE',\n",
    "       'SUB_SUB_AREA_OCDE', 'programa_minciencias', 'group_classification',\n",
    "       'group_classification_start', 'group_classification_end']\n",
    "      ].to_excel('found.xlsx',index=False)"
   ]
  },
  {
   "cell_type": "code",
   "execution_count": 66,
   "id": "d6faf3ad-06de-45a7-8603-55f7252f41da",
   "metadata": {},
   "outputs": [
    {
     "data": {
      "text/plain": [
       "{'full_name': 'Fernando Cardeno Lopez',\n",
       " 'first_names': 'Fernando',\n",
       " 'first_last_name': 'Cardeno',\n",
       " 'second_last_name': 'Lopez',\n",
       " 'intials': 'F',\n",
       " 'aliases': ['CARDENO LOPEZ FERNANDO'],\n",
       " 'sex': 'M',\n",
       " 'nacionality': 'C',\n",
       " 'marital_status': 'U',\n",
       " 'date_of_birth': '1974-02-03 00:00:00',\n",
       " 'country_of_birth': 'Colombia',\n",
       " 'town_of_birth': 'ITAGÜÍ',\n",
       " 'external_ids': [{'value': '0000626554', 'source': 'cvlac'}],\n",
       " 'document': [{'value': '98473797', 'type': 'cédula'}],\n",
       " 'registrant': [{'value': False, 'source': 'scienti'}],\n",
       " 'role': 'Advisor'}"
      ]
     },
     "execution_count": 66,
     "metadata": {},
     "output_type": "execute_result"
    }
   ],
   "source": [
    "prs['authors'].str[1].dropna().iloc[2]"
   ]
  },
  {
   "cell_type": "code",
   "execution_count": 80,
   "id": "92623074-af72-4a7e-b978-ffe37885245e",
   "metadata": {},
   "outputs": [],
   "source": [
    "prs[prs['year_published'].apply(lambda x: not pd.isna(x))\n",
    "   ].sample(100).to_json('products_sample.json',orient='records')"
   ]
  },
  {
   "cell_type": "code",
   "execution_count": null,
   "id": "56717cf5-5784-4d2b-8ca3-c92d1af62e79",
   "metadata": {},
   "outputs": [],
   "source": []
  }
 ],
 "metadata": {
  "kernelspec": {
   "display_name": "Python 3 (ipykernel)",
   "language": "python",
   "name": "python3"
  },
  "language_info": {
   "codemirror_mode": {
    "name": "ipython",
    "version": 3
   },
   "file_extension": ".py",
   "mimetype": "text/x-python",
   "name": "python",
   "nbconvert_exporter": "python",
   "pygments_lexer": "ipython3",
   "version": "3.9.2"
  }
 },
 "nbformat": 4,
 "nbformat_minor": 5
}
