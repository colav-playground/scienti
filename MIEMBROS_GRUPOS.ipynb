{
 "cells": [
  {
   "cell_type": "markdown",
   "id": "168f050c-a5d0-48cb-a55a-2c8f87530531",
   "metadata": {},
   "source": [
    "# Miembros de Grupos"
   ]
  },
  {
   "cell_type": "markdown",
   "id": "f0c8955a-53e0-485a-bc9f-130ae82c8c69",
   "metadata": {},
   "source": [
    "* PRODUCTOS\n",
    "  * autor registrante\n",
    "     * Institución\n",
    "     * Grupo\n"
   ]
  },
  {
   "cell_type": "markdown",
   "id": "48ee8ce4-9bdb-431a-9f74-704917d8b529",
   "metadata": {
    "tags": []
   },
   "source": [
    "## Modules, functions and data"
   ]
  },
  {
   "cell_type": "code",
   "execution_count": 1,
   "id": "0b757f67-477d-4f65-8e06-eef41f30b99a",
   "metadata": {},
   "outputs": [],
   "source": [
    "import wosplus as wp"
   ]
  },
  {
   "cell_type": "code",
   "execution_count": 320,
   "id": "8a22aa8d-cc97-4195-b4d3-3351c69fbcd2",
   "metadata": {},
   "outputs": [],
   "source": [
    "import pandas as pd\n",
    "import numpy as np\n",
    "import time\n",
    "import re\n",
    "pd.set_option('display.max_rows', 500)\n",
    "pd.set_option('display.max_columns', 500)"
   ]
  },
  {
   "cell_type": "code",
   "execution_count": 711,
   "id": "2ee8d731-5c90-4b41-b30d-df4c3947f434",
   "metadata": {},
   "outputs": [],
   "source": [
    "#https://stackoverflow.com/a/57915246/2268280\n",
    "#https://stackoverflow.com/a/50404592/2268280\n",
    "#https://stackoverflow.com/a/16991985/2268280\n",
    "import json\n",
    "import datetime\n",
    "import numpy as np\n",
    "\n",
    "class NpEncoder(json.JSONEncoder):\n",
    "    def default(self, obj):\n",
    "        if isinstance(obj, np.integer):\n",
    "            return int(obj)\n",
    "        if isinstance(obj, np.floating):\n",
    "            return float(obj)\n",
    "        if isinstance(obj, np.ndarray):\n",
    "            return obj.tolist()\n",
    "        if isinstance(obj, datetime.datetime):\n",
    "            return str(obj)\n",
    "        return super(NpEncoder, self).default(obj)"
   ]
  },
  {
   "cell_type": "code",
   "execution_count": 770,
   "id": "82fc88ff-a052-4648-b210-5184de06a0e5",
   "metadata": {},
   "outputs": [],
   "source": [
    "def iloc_0(df):\n",
    "    if not df.empty:\n",
    "        df=df.iloc[0]\n",
    "    else:\n",
    "        df=pd.Series(dtype=str)\n",
    "    return df\n",
    "def get_author(RH,other=False,\n",
    "               document_type={'C':\"cédula\", 'P':\"passport\", 'E':\"cédula de extranería\", 'T':\"tarjeta de identidad\"},\n",
    "              roles={\"ORI\":\"Advisor\"}):\n",
    "    #DEBUG:\n",
    "    if RH.get(\"TPO_PARTICIPACION\") and RH.get(\"TPO_PARTICIPACION\")!=\"ORI\":\n",
    "        roles[RH.get(\"TPO_PARTICIPACION\"):RH.get(\"TPO_PARTICIPACION\")]\n",
    "    if RH.get(\"TXT_TOTAL_NAMES\"):\n",
    "        aud={\n",
    "            \"full_name\":str(RH.get(\"TXT_TOTAL_NAMES\")),\n",
    "            \"first_names\": str(RH.get(\"TXT_NAMES_RH\")),\n",
    "            \"first_last_name\": str(RH.get(\"TXT_PRIM_APELL\")), #DEBUG: last_names\n",
    "            \"second_last_name\": str(RH.get(\"TXT_SEG_APELL\")), \n",
    "            \"intials\":''.join([s[0] for s in str(RH.get(\"TXT_NAMES_RH\")).split()]),\n",
    "            \"aliases\":[str(RH.get(\"TXT_CITACION_BIBLIO\"))],\n",
    "        }\n",
    "    else:\n",
    "        aud={}\n",
    "    if RH.get(\"TPO_SEXO\"):\n",
    "        aud[\"sex\"]=str(RH.get(\"TPO_SEXO\"))\n",
    "    if RH.get(\"TPO_NACIONALIDAD\"):  \n",
    "        aud[\"nacionality\"]=str(RH.get(\"TPO_NACIONALIDAD\")) #privado\n",
    "    if RH.get(\"TPO_ESTADO_CIVIL\"):\n",
    "        aud[\"marital_status\"]=str(RH.get(\"TPO_ESTADO_CIVIL\")) #privado\n",
    "    if RH.get(\"DTA_NACIM\"):\n",
    "        aud[\"date_of_birth\"]=str(RH.get(\"DTA_NACIM\")) #privado\n",
    "    \n",
    "    if RH.get(\"SGL_PAIS_NACIM\"):\n",
    "        PS=ps[ps['SGL_PAIS']==RH.get(\"SGL_PAIS_NACIM\")]\n",
    "        PS=iloc_0(PS)\n",
    "        aud[\"country_of_birth\"]=str(PS.get(\"TXT_NME_PAIS\")) #privado\n",
    "    if RH.get(\"COD_MUN_NACIM\"):\n",
    "        MP=mp[ (mp[\"COD_RH_MUNICIPIO\"]==RH.get(\"COD_RH_MUN_NACIM\")) & ( mp[\"COD_MUNICIPIO\"]==RH.get(\"COD_MUN_NACIM\"))]\n",
    "        MP=iloc_0(MP)\n",
    "        aud[\"town_of_birth\"]=str(MP.get(\"TXT_NME_MUNICIPIO\"))\n",
    "    if RH.get(\"COD_RH\"):\n",
    "        aud[\"external_ids\"]=[\n",
    "                         {\"value\":str(RH.get(\"COD_RH\")),\n",
    "                          \"source\":\"cvlac\"\n",
    "                         }]\n",
    "    \n",
    "    if RH.get(\"COD_ORCID\") and not pd.isna(RH.get(\"COD_ORCID\")):\n",
    "        aud[\"external_ids\"].append({\"value\":RH.get(\"COD_ORCID\"),\n",
    "                                    \"source\":\"orcid\"\n",
    "                                   })\n",
    "    if RH.get(\"AUTOR_ID_SCP\") and not pd.isna(RH.get(\"AUTOR_ID_SCP\")):\n",
    "        aud[\"external_ids\"].append({\"value\":RH.get(\"AUTOR_ID_SCP\"),\n",
    "                                    \"source\":\"orcid\"\n",
    "                                   })\n",
    "    if RH.get(\"NRO_DOCUMENTO_IDENT\") and not pd.isna(RH.get(\"NRO_DOCUMENTO_IDENT\")):\n",
    "        aud[\"document\"]=[{\"value\":RH.get(\"NRO_DOCUMENTO_IDENT\"),\n",
    "                      \"type\":document_type.get( RH.get(\"TPO_DOCUMENTO_IDENT\") )}]\n",
    "\n",
    "        if not pd.isna(RH.get(\"NRO_PASAPORTE\")) and \"passport\" in [d.get(\"type\") for d in aud[\"document\"] ] :\n",
    "            aud[\"document\"].append({\"value\":RH.get(\"NRO_PASAPORTE\"),\n",
    "                                \"type\":\"passport\"\n",
    "                               })\n",
    "    if not other:\n",
    "        aud[\"registrant\"]=[{\"value\":True,\n",
    "                              \"source\":\"scienti\"}] #DEBUG Unificar autor de correspondencia, envio preprint\n",
    "        aud[\"role\"]=\"author\"\n",
    "    else:\n",
    "        aud[\"registrant\"]=[{\"value\":False,\n",
    "                              \"source\":\"scienti\"}] #DEBUG Unificar autor de correspondencia, envio preprint\n",
    "        aud[\"role\"]=roles.get(str(RH.get(\"TPO_PARTICIPACION\")))\n",
    "    return aud        "
   ]
  },
  {
   "cell_type": "code",
   "execution_count": 3,
   "id": "6a5aceb8-2afe-46dd-a9d1-ee23b5efd37d",
   "metadata": {},
   "outputs": [],
   "source": [
    "import uuid\n",
    "from IPython.display import display_javascript, display_html, display\n",
    "import json\n",
    "\n",
    "from IPython.display import JSON\n",
    "class JSON_notebook(object): #JSON(object):\n",
    "    def __init__(self, json_data):\n",
    "        if isinstance(json_data, dict):\n",
    "            self.json_str = json.dumps(json_data)\n",
    "        else:\n",
    "            self.json_str = json_data\n",
    "        self.uuid = str(uuid.uuid4())\n",
    "\n",
    "    def _ipython_display_(self):\n",
    "        display_html('<div id=\"{}\" style=\"height: 100px; width:100%;\"></div>'.format(self.uuid), raw=True)\n",
    "        display_javascript(\"\"\"\n",
    "        require([\"https://rawgit.com/caldwell/renderjson/master/renderjson.js\"], function() {\n",
    "        document.getElementById('%s').appendChild(renderjson(%s))\n",
    "        });\n",
    "        \"\"\" % (self.uuid, self.json_str), raw=True)\n",
    "        \n",
    "from IPython.display import Markdown\n",
    "def jsonviewer(d):\n",
    "    f=open('file.json','w')\n",
    "    json.dump(d,f)\n",
    "    f.close()\n",
    "    print('open in firefox new tab:')\n",
    "    return Markdown('[file.json](./file.json)')        "
   ]
  },
  {
   "cell_type": "code",
   "execution_count": 554,
   "id": "db16df2c-4dc9-435b-b6e8-ae1538019a92",
   "metadata": {},
   "outputs": [],
   "source": [
    "dtype={\n",
    "'COD_RH':str,\n",
    "'NRO_ID_GRUPO':str,\n",
    "'COD_RH_MUNICIPIO':str,\n",
    "'COD_INST':str,\n",
    "'COD_INST_AVALA':str,\n",
    "'COD_INST_MACRO':str,\n",
    "'COD_INSTITUCION':str,         \n",
    "'COD_INST_OTRO':str,\n",
    "'ID_DEPARTAMENTO':str,\n",
    "'COD_DEPA_DANE': str,\n",
    "'COD_MUNI_DANE':str,\n",
    "'COD_RH_OTRO':str,\n",
    "'COD_RH_COAUTOR':str\n",
    " }\n",
    "#converters={'COD_INST_AVALA':lambda s:'0' if pd.isna(s) else str(s)},"
   ]
  },
  {
   "cell_type": "code",
   "execution_count": 562,
   "id": "cca8143f-3172-4933-a68c-4af010b73927",
   "metadata": {},
   "outputs": [],
   "source": [
    "sc=wp.wosplus('drive.cfg')"
   ]
  },
  {
   "cell_type": "markdown",
   "id": "95621bab-30ef-4c04-a72a-ca9f412a568d",
   "metadata": {},
   "source": [
    "## PRODUCTOS"
   ]
  },
  {
   "cell_type": "code",
   "execution_count": 162,
   "id": "ac5d6a26-404a-46ce-b2b4-b96cc2281b68",
   "metadata": {},
   "outputs": [],
   "source": [
    "cv=sc.read_drive_excel('EN_PRODUCTO.xlsx',dtype=dtype)\n",
    "rh=sc.read_drive_excel('EN_RECURSO_HUMANO.xlsx',dtype=dtype)"
   ]
  },
  {
   "cell_type": "code",
   "execution_count": 37,
   "id": "ab4f0b3d-12f0-4be0-8579-d5ffa57726d0",
   "metadata": {},
   "outputs": [],
   "source": [
    "tp=sc.read_drive_excel('EN_TIPO_PRODUCTO.xlsx',dtype=dtype)"
   ]
  },
  {
   "cell_type": "code",
   "execution_count": 136,
   "id": "0fc4c4aa-18f1-45be-b4e6-579116965890",
   "metadata": {},
   "outputs": [],
   "source": [
    "gr=sc.read_drive_excel('GRUPLAC_EN_PRODUCTO_GR.xlsx',dtype=dtype)"
   ]
  },
  {
   "cell_type": "code",
   "execution_count": null,
   "id": "ab019c72-572c-4e0d-bfbf-ab905026bcd7",
   "metadata": {},
   "outputs": [],
   "source": [
    "PPC=sc.read_drive_excel('RE_PRODUCTO_PALABRA_CLA.xlsx',dtype=dtype)\n",
    "PC=sc.read_drive_excel('EN_PALABRA_CLAVE.xlsx',dtype=dtype)"
   ]
  },
  {
   "cell_type": "code",
   "execution_count": 301,
   "id": "b3ffecff-0d62-4edd-84de-237d3719588f",
   "metadata": {},
   "outputs": [],
   "source": [
    "prh=sc.read_drive_excel('RE_PRODUCTO_RECURSO_HUM_OTRO.xlsx',dtype=dtype)"
   ]
  },
  {
   "cell_type": "code",
   "execution_count": null,
   "id": "09969b85-ccd5-49b5-b235-24f59be6fd05",
   "metadata": {},
   "outputs": [],
   "source": [
    "ps=sc.read_drive_excel('EN_PAIS.xlsx',dtype=dtype)\n",
    "dp=sc.read_drive_excel('EN_DEPARTAMENTO.xlsx',dtype=dtype)\n",
    "mp=sc.read_drive_excel('EN_MUNICIPIO.xlsx',dtype=dtype)"
   ]
  },
  {
   "cell_type": "code",
   "execution_count": 406,
   "id": "1a312f69-7a18-435f-ab5d-7658a4853fa0",
   "metadata": {},
   "outputs": [],
   "source": [
    "psa=sc.read_drive_excel('RE_PRODUCTO_SECTOR_APL.xlsx',dtype=dtype)"
   ]
  },
  {
   "cell_type": "code",
   "execution_count": 407,
   "id": "dda4aabe-6571-4213-9c82-00b2dd54ca1b",
   "metadata": {},
   "outputs": [],
   "source": [
    "sa=sc.read_drive_excel('EN_SECTOR_APLICACION.xlsx',dtype=dtype)"
   ]
  },
  {
   "cell_type": "code",
   "execution_count": 466,
   "id": "837347f9-6a56-4015-b6bf-8227c7fd619d",
   "metadata": {},
   "outputs": [],
   "source": [
    "gi=sc.read_drive_excel('GRUPLAC_RE_GRUPO_INSTITUCION.xlsx',dtype=dtype)"
   ]
  },
  {
   "cell_type": "code",
   "execution_count": 491,
   "id": "0aed2378-5c84-463f-868d-1307f5654afb",
   "metadata": {},
   "outputs": [],
   "source": [
    "it=sc.read_drive_excel('EN_INSTITUCION.xlsx',dtype=dtype)"
   ]
  },
  {
   "cell_type": "code",
   "execution_count": 522,
   "id": "191b8b46-5d3f-4d57-9d56-183bfcdbab2f",
   "metadata": {},
   "outputs": [],
   "source": [
    "GR=sc.read_drive_excel('gruplac_grupo_pesquisa.xlsx',dtype=dtype)"
   ]
  },
  {
   "cell_type": "code",
   "execution_count": 538,
   "id": "c0cbaec6-2563-4e36-a0dd-043ed05b6f6e",
   "metadata": {},
   "outputs": [],
   "source": [
    "ac=sc.read_drive_excel('EN_AREA_CONOCIMIENTO.xlsx',dtype=dtype)"
   ]
  },
  {
   "cell_type": "code",
   "execution_count": 595,
   "id": "a2e2bc72-6d0a-4ae8-87d2-75bd6d833370",
   "metadata": {},
   "outputs": [],
   "source": [
    "prg=sc.read_drive_excel('GRUPLAC_EN_PROGRAMA_COLCIENCIAS.xlsx',dtype=dtype)"
   ]
  },
  {
   "cell_type": "code",
   "execution_count": 653,
   "id": "310fe502-91b0-4b6a-9d13-8ede7c963308",
   "metadata": {},
   "outputs": [],
   "source": [
    "NO_CORRER=True\n",
    "if not NO_CORRER:\n",
    "    df=pd.read_pickle('/data/scienti/cvlac.pkl.gz')\n",
    "    print(df.shape)"
   ]
  },
  {
   "cell_type": "code",
   "execution_count": 585,
   "id": "e09a0d37-991f-49a3-b900-85400c19b3dd",
   "metadata": {},
   "outputs": [],
   "source": [
    "if not NO_CORRER:\n",
    "    primary_tables=[]\n",
    "    sgl_cat=list(df['SGL_CATEGORIA'].dropna().unique())\n",
    "    new_cat=set( sgl_cat )\n",
    "    for t in df['table'].unique():\n",
    "        t_cat=df[df['table']==t].get('SGL_CATEGORIA')\n",
    "        if t_cat is not None:\n",
    "            nc=new_cat.difference( t_cat.dropna().unique() )\n",
    "            if len(new_cat)>len(nc):\n",
    "                new_cat=nc\n",
    "                primary_tables.append(t)\n",
    "\n",
    "                print(f'primary → {t}')\n",
    "        #print(f'{t}')\n",
    "else:\n",
    "    primary_tables=['EN_PRODUCTO',\n",
    " 'EN_EVENTO',\n",
    " 'EN_SECRETO_INDUSTRIAL',\n",
    " 'EN_PATENTE',\n",
    " 'EN_PROD_ARTISTICA_DETALLE',\n",
    " 'EN_PROYECTO',\n",
    " 'EN_REGISTRO',\n",
    " 'EN_RED']\n",
    "    sgl_cat=['TP-TP_B', 'ART-ART_A1', 'ART-ART_A2', 'ART-ART_D', 'ART-ART_B',\n",
    "       'ART-GC_ART', 'IPP-00', 'GC_M-00', 'ART-ART_C', 'TM-TM_A',\n",
    "       'ART-00', 'TP-00', 'TM-TM_B', 'INF-00', 'TD-TD_A', 'TM-00',\n",
    "       'TD-TD_B', 'TD-00', 'TP-TP_A', 'IPP-IPP', 'IFI-IFI', 'WP-WP',\n",
    "       'ERL-ERL', 'GC_I-00', 'CON_CT-00', 'SF-00', 'PP-00', 'GC_I-GC',\n",
    "       'IFI-00', 'CON_CT-CON_CT', 'PI-PI_A', 'PI-00', 'DI-00', 'RN-00',\n",
    "       'GC_M-EX', 'GC_M-GC', 'ERL-00', 'SF-EX', 'GC_I-EX', 'GC_V-GC',\n",
    "       'BOL-00', 'GC_V-00', 'RNPC-RNPC', 'BOL-BOL', 'INF-INF', 'IG-IG_A1',\n",
    "       'EBT-00', 'SF-SF_A', 'NSG-NSG', 'DI-DI_A', 'IG-00', 'RN-RNL_B',\n",
    "       'WP-00', 'CON_AAD-CON_AAD', 'IG-IG_A2', 'GC_V-EX', 'IG-IG_B2',\n",
    "       'EBT-EBT_A', 'PP-PP_A', 'ECI-00', 'ICC-ICC_A', 'SD-EX', 'SD-SD',\n",
    "       'IG-IG_B1', 'RNPC-00', 'DI-DI_B', 'VA-00', 'RN-RNT', 'CON_AAD-00',\n",
    "       'ICC-00', 'RN-RNR', 'EBT-EBT_B', 'VV-VV_B2', 'RNPL-00', 'VV-VV_A2',\n",
    "       'VV-VV_B3', 'VV-VV_B4', 'GC_A-GC', 'N-N_A2', 'CT-CT', 'N-N_B',\n",
    "       'NRC-NRC_B', 'NRC-NRC_A', 'N-N_C', 'PAU-PAU', 'N-N_D', 'N-GC_N',\n",
    "       'N-00', 'PN-PN', 'AL-AL', 'NRC-00', 'AL-00', 'PAU-00', 'N-N_A1',\n",
    "       'CT-00', 'EC-EC_B', 'EC-00', 'EC-EX', 'EC-EC_A', 'ECA-ECA_A',\n",
    "       'APO-00', 'ECA-ECA_B', 'EPC-00', 'EPC-EPC', 'EPC-EX', 'APO-APO',\n",
    "       'TC-00', 'ECA-00', 'TC-EX', 'TC-TC_C', 'TC-TC_B', 'TC-TC_A',\n",
    "       'SE-00', 'SE-SE', 'PIV-00', 'PMU-00', 'PIV-EX', 'PIV-PA4',\n",
    "       'PIV-PB4', 'PIV-PA3', 'PMU-MA4', 'PIV-PA2', 'PMU-EX', 'PIV-PB2',\n",
    "       'PIV-PB5', 'PIV-PA1', 'PIV-PC', 'AAD-00', 'AAD-AAD_C', 'AAD-AAD_B',\n",
    "       'AAD-AAD_A', 'AAD-AAD_A1', 'PID-00', 'PF-00', 'PE-PE', 'PE-00',\n",
    "       'PCC-00', 'PID-PID_C', 'PID-PID_B', 'EPA-EPA', 'PPC-PPC', 'PPC-EX',\n",
    "       'PID-EX', 'PCC-PCC', 'PID-PID_A', 'PF-EX', 'PCC-EX', 'PF-PF_A',\n",
    "       'PPC-00', 'PIC-PIC_A', 'PIC-00', 'PIC-PIC_C', 'EPA-EX', 'PF-PF_B',\n",
    "       'EPA-00', 'PIC-PIC_B', 'REG_G-00', 'REG_SF-EX', 'REG_SF-00',\n",
    "       'MR-MR', 'REG_G-CG', 'REG_G-EX', 'RC-00', 'RC-RC_A']"
   ]
  },
  {
   "cell_type": "code",
   "execution_count": 21,
   "id": "5d02ec9d-aa24-4760-9c49-399eff03c02d",
   "metadata": {},
   "outputs": [
    {
     "data": {
      "text/plain": [
       "5536"
      ]
     },
     "execution_count": 21,
     "metadata": {},
     "output_type": "execute_result"
    }
   ],
   "source": [
    "gr[gr['SGL_CATEGORIA']=='ART-ART_A1'].shape[0]"
   ]
  },
  {
   "cell_type": "code",
   "execution_count": 22,
   "id": "0ba4dd0a-73dc-4745-b462-92471c262237",
   "metadata": {},
   "outputs": [
    {
     "name": "stdout",
     "output_type": "stream",
     "text": [
      "16\n"
     ]
    }
   ],
   "source": [
    "for i in range(gr[gr['SGL_CATEGORIA']=='ART-ART_A1'].shape[0]):\n",
    "    art_gr=gr[gr['SGL_CATEGORIA']=='ART-ART_A1'].iloc[i]\n",
    "\n",
    "    art_cv=cv[ ( (cv['COD_RH']==art_gr['COD_RH']) & (cv['COD_PRODUCTO']==art_gr['COD_PRODUCTO']) )].iloc[0]\n",
    "    if isinstance(art_cv['TXT_DOI'],str):\n",
    "        print(i)\n",
    "        break"
   ]
  },
  {
   "cell_type": "code",
   "execution_count": 35,
   "id": "fd8a8f16-8323-4e4f-9a9b-1f16ca169254",
   "metadata": {},
   "outputs": [
    {
     "name": "stdout",
     "output_type": "stream",
     "text": [
      "open in firefox new tab:\n"
     ]
    },
    {
     "data": {
      "text/markdown": [
       "[file.json](./file.json)"
      ],
      "text/plain": [
       "<IPython.core.display.Markdown object>"
      ]
     },
     "execution_count": 35,
     "metadata": {},
     "output_type": "execute_result"
    }
   ],
   "source": [
    "jsonviewer( [art_cv.dropna().astype(str).to_dict()] )"
   ]
  },
  {
   "cell_type": "code",
   "execution_count": 646,
   "id": "2cd98716-e15d-4c0b-b7d4-3f4526ed5aa6",
   "metadata": {},
   "outputs": [
    {
     "ename": "NameError",
     "evalue": "name 'art_cv' is not defined",
     "output_type": "error",
     "traceback": [
      "\u001b[0;31m---------------------------------------------------------------------------\u001b[0m",
      "\u001b[0;31mNameError\u001b[0m                                 Traceback (most recent call last)",
      "\u001b[0;32m/tmp/ipykernel_3165877/3426093418.py\u001b[0m in \u001b[0;36m<module>\u001b[0;34m\u001b[0m\n\u001b[0;32m----> 1\u001b[0;31m \u001b[0mJSON\u001b[0m\u001b[0;34m(\u001b[0m\u001b[0mart_cv\u001b[0m\u001b[0;34m.\u001b[0m\u001b[0mdropna\u001b[0m\u001b[0;34m(\u001b[0m\u001b[0;34m)\u001b[0m\u001b[0;34m.\u001b[0m\u001b[0mastype\u001b[0m\u001b[0;34m(\u001b[0m\u001b[0mstr\u001b[0m\u001b[0;34m)\u001b[0m\u001b[0;34m.\u001b[0m\u001b[0mto_dict\u001b[0m\u001b[0;34m(\u001b[0m\u001b[0;34m)\u001b[0m\u001b[0;34m)\u001b[0m\u001b[0;34m\u001b[0m\u001b[0;34m\u001b[0m\u001b[0m\n\u001b[0m",
      "\u001b[0;31mNameError\u001b[0m: name 'art_cv' is not defined"
     ]
    }
   ],
   "source": [
    "JSON(art_cv.dropna().astype(str).to_dict())"
   ]
  },
  {
   "cell_type": "code",
   "execution_count": null,
   "id": "1c6a2adf-f8c7-4409-9dc7-f93d6368bbb5",
   "metadata": {},
   "outputs": [
    {
     "name": "stdout",
     "output_type": "stream",
     "text": [
      "000000\r"
     ]
    }
   ],
   "source": [
    "OPTIMIZE_STORAGE=True\n",
    "if OPTIMIZE_STORAGE:\n",
    "    borrar='_BORRAR'\n",
    "else:\n",
    "    borrar=''\n",
    "prs=[]\n",
    "i=888#117294#0#340454#666#\n",
    "\n",
    "prmax=10\n",
    "#if True:\n",
    "for i in cv.index:\n",
    "    #if i==101:#20:\n",
    "    #    break\n",
    "    pr={}\n",
    "    if i%100==0:\n",
    "        print(str(i).zfill(6),end='\\r')    \n",
    "    cvi=cv.loc[i]\n",
    "    DEBUG=False\n",
    "    #Tipo de Producto\n",
    "    TP=tp[tp['COD_TIPO_PRODUCTO']==cvi.get('COD_TIPO_PRODUCTO')]\n",
    "    TP=iloc_0(TP)\n",
    "\n",
    "    #author\n",
    "    RH=rh[rh[\"COD_RH\"]==cvi.get(\"COD_RH\")]\n",
    "    RH=iloc_0(RH)\n",
    "\n",
    "    #coauthor/advisor\n",
    "    PRH=prh[(prh['COD_RH']==cvi['COD_RH']) & (prh['COD_PRODUCTO']==cvi['COD_PRODUCTO'])]\n",
    "    PRH=iloc_0(PRH)\n",
    "\n",
    "    #Sector Aplicación\n",
    "    PSA=psa[ (psa['COD_RH']==cvi['COD_RH']) & (psa['COD_PRODUCTO']==cvi['COD_PRODUCTO']) ]\n",
    "    PSA=iloc_0(PSA)\n",
    "\n",
    "    SA=sa[sa['COD_SECTOR_APLICACION']==PSA.get('COD_SECTOR_APLICACION')]\n",
    "    SA=iloc_0(SA)\n",
    "\n",
    "    #Product in Group\n",
    "    GRR=gr[ (gr['COD_RH']==cvi['COD_RH']) & (gr['COD_PRODUCTO']==cvi['COD_PRODUCTO']) ]\n",
    "    GRR=iloc_0(GRR)\n",
    "    pr[\"year_published\"]=GRR.get('NRO_ANO_PRESENTA')\n",
    "    pr[\"month_published\"]=GRR.get('NRO_MES_PRESENTA')\n",
    "\n",
    "    #Group code number o\n",
    "    GI=gi[gi['NRO_ID_GRUPO']==GRR.get('NRO_ID_GRUPO')]\n",
    "    GI=iloc_0(GI)\n",
    "\n",
    "    #Institute \n",
    "    IT=it[it['COD_INST']==GI.get('COD_INST')]\n",
    "    IT=iloc_0(IT)\n",
    "\n",
    "    #Group information\n",
    "    GP=GR[GR['NRO_ID_GRUPO']==GRR.get('NRO_ID_GRUPO')]\n",
    "    GP=iloc_0(GP)\n",
    "\n",
    "    DP=dp[dp['ID_DEPARTAMENTO']==IT.get('SGL_DEPARTAMENTO')]\n",
    "    DP=iloc_0(DP)\n",
    "    PS=ps[ps['SGL_PAIS']==DP.get('SGL_PAIS')]\n",
    "    PS=iloc_0(PS)\n",
    "\n",
    "\n",
    "    GRP=gr[(gr['COD_RH']==cvi.get('COD_RH')) & (gr['COD_PRODUCTO']==cvi.get('COD_PRODUCTO'))]\n",
    "    GRP=iloc_0(GRP)\n",
    "\n",
    "    GRU=GR[GR[\"NRO_ID_GRUPO\"]==GRP.get(\"NRO_ID_GRUPO\")]\n",
    "    GRU=iloc_0(GRU)\n",
    "\n",
    "    PRG=prg[prg['COD_PROGRAMA']==GRU.get('COD_PROGRAMA')]\n",
    "    PRG=iloc_0(PRG)\n",
    "\n",
    "    AC=ac[ac[\"COD_AREA_CONOCIMIENTO\"]==GRU.get(\"COD_AREA_CONHEC\")]\n",
    "    AC=iloc_0(AC)\n",
    "\n",
    "    if DEBUG: print('general metadata')\n",
    "\n",
    "    pr['source_checked']=[]\n",
    "    pr['source_checked'].append(\n",
    "        {'source': 'Scienti',\n",
    "         'COD_RH': cvi.get('COD_RH'),\n",
    "         'COD_PRODUCTO':cvi.get('COD_PRODUCTO')\n",
    "        })\n",
    "\n",
    "    pr['title']=cvi.get('TXT_NME_PROD')\n",
    "\n",
    "    if not pd.isna( cvi.get('TXT_RESUMEN_PROD') ):\n",
    "        pr['abstract']=cvi.get(f'TXT_RESUMEN_PROD{borrar}')\n",
    "    else:\n",
    "        pr['abstract']=''\n",
    "\n",
    "    if not pd.isna( cvi.get('TXT_OBSERV_PROD') ):\n",
    "        pr['notes']=cvi.get(f'TXT_OBSERV_PROD{borrar}')\n",
    "    else:\n",
    "        pr['notes']=''\n",
    "\n",
    "    pr[\"lang\"]=str(cvi.get(\"SGL_IDIOMA\"))\n",
    "\n",
    "    pr['product_subtype']=[{'title':TP.get('TXT_NME_TIPO_PRODUCTO')}]\n",
    "    if not pd.isna(cvi.get('SGL_CATEGORIA')):\n",
    "        pr['product_subtype'][0]['SGL_CATEGORIA']=cvi.get('SGL_CATEGORIA')\n",
    "    else:\n",
    "        pr['product_subtype'][0]['SGL_CATEGORIA']=''  \n",
    "    #TODO → ADD GRUPLAC PRODUCT information\n",
    "    #TODO → Add specific 'product_subtype' information\n",
    "\n",
    "    if DEBUG: print('topics')\n",
    "\n",
    "    tp_names=[]\n",
    "    stop=0\n",
    "    while not TP.empty:\n",
    "        TP=tp[tp['COD_TIPO_PRODUCTO']==TP.get('COD_TIPO_PRODUCTO_PADRE')]\n",
    "        if not TP.empty:\n",
    "            TP=TP.iloc[0]\n",
    "        else:\n",
    "            TP=pd.Series(dtype=str)\n",
    "        if not pd.isna(TP.get('TXT_NME_TIPO_PRODUCTO')):\n",
    "            tp_names.append(TP.get('TXT_NME_TIPO_PRODUCTO'))\n",
    "            tp_names.reverse()\n",
    "        stop+=1\n",
    "        if stop>10:\n",
    "            break\n",
    "\n",
    "    tp_list=[]\n",
    "    for i in range(len(tp_names)):\n",
    "        tp_list.append( {'title':tp_names[i],\n",
    "                         'level':i})\n",
    "\n",
    "    pr[\"product_type\"]=tp_list\n",
    "\n",
    "    pc=PPC[(PPC['COD_RH']==cvi.get('COD_RH')) & (PPC['COD_PRODUCTO']==cvi.get('COD_PRODUCTO'))]\n",
    "\n",
    "    lpc=[]\n",
    "    for i in pc['COD_PALABRA_CLAVE'].values: \n",
    "        lpc.append( PC[(PC['COD_RH']==cvi.get('COD_RH')) & (PC['COD_PALABRA_CLAVE']==i)].iloc[0].to_dict())\n",
    "\n",
    "    pr[\"keywords\"]=[d.get('TXT_NME_PALABRA_CLAVE') for d in lpc]\n",
    "\n",
    "    if DEBUG: print('general authors metadata')\n",
    "\n",
    "    pr[\"authors\"]=[]\n",
    "\n",
    "\n",
    "    pr[\"authors\"].append(get_author(RH))\n",
    "\n",
    "\n",
    "    if not pd.isna(PRH.get(\"COD_RH_COAUTOR\")) and len(PRH.get(\"COD_RH_COAUTOR\"))==10:\n",
    "        RH=rh[rh[\"COD_RH\"]==PRH.get(\"COD_RH_COAUTOR\")]\n",
    "        RH=iloc_0(RH)\n",
    "        if RH.empty:\n",
    "            RH[\"COD_RH\"]=PRH[\"COD_RH\"]\n",
    "        #    RH[\"TXT_NAMES_RH\"]=''\n",
    "        RH[\"TPO_PARTICIPACION\"]=PRH[\"TPO_PARTICIPACION\"]\n",
    "        pr[\"authors\"].append(get_author(RH,other=True))\n",
    "\n",
    "    pr[\"profile_description\"]=RH.get(f\"TXT_DESC_PERFIL{borrar}\")\n",
    "\n",
    "\n",
    "    if DEBUG: print('sector de aplicación')\n",
    "    isa=True\n",
    "    if SA.empty:\n",
    "        isa=False\n",
    "    sal=[]\n",
    "    stop=0\n",
    "    while isa:\n",
    "        stop+=1\n",
    "        if SA.get('TXT_NME_SECTOR_APLIC'):\n",
    "            sal.append(SA.get('TXT_NME_SECTOR_APLIC'))\n",
    "        else:\n",
    "            isa=False\n",
    "        if SA.get('COD_SECTOR_APLICACION') and not SA.get('COD_SECTOR_APLICACION')!=SA.get('COD_SECT_APLIC_PADRE'):\n",
    "            isa=False\n",
    "        else:\n",
    "            SA=sa[sa['COD_SECTOR_APLICACION']==SA.get('COD_SECT_APLIC_PADRE')]\n",
    "            SA=iloc_0(SA)\n",
    "        if stop>10:\n",
    "            print(\"to many PADREs in COD_SECT_APLIC_PADRE\")\n",
    "            break\n",
    "    sal.reverse()        \n",
    "\n",
    "    sall=[]\n",
    "    for i in range(len(sal)):\n",
    "        sall.append({\"title\":sal[i],\"level\":i})\n",
    "\n",
    "    pr[\"application_sector\"]=sall\n",
    "\n",
    "\n",
    "    if DEBUG: print('affiliation university')\n",
    "\n",
    "    if IT.empty:\n",
    "        aff={}\n",
    "    else:\n",
    "        aff={\n",
    "        \"name\":str(IT.get('NME_INST')),\n",
    "        'acronym':str(IT.get('SGL_INST')),\n",
    "        'addresses': [{'line_1': str(IT.get(\"TXT_DIRECCION\")),\n",
    "                       \"telephone\":str(IT.get(\"TXT_TELEFONO\")),\n",
    "                       \"email\":str(IT.get(\"TXT_EMAIL\"))\n",
    "                                       }],\n",
    "        'city': str(IT.get(\"TXT_CIUDAD_INST\")), #town\n",
    "        'date_constitution': str(IT.get(\"DTA_CONSTITUCION\")),                  \n",
    "        'external_urls': [{'source': 'scienti',\n",
    "                                     'url': str(IT.get(\"URL_HOME_PAGE\"))}],\n",
    "                         # EN_INSTITUCION_OTRA → EN_INSTITUCION\n",
    "        'external_ids': [{'source': 'NIT', 'value': str(IT.get(\"TXT_NIT\"))}],\n",
    "        'state': str(DP.get(\"TXT_NME_DEPARTAMENTO\")),\n",
    "        'state_code': {\"value\":str(DP.get(\"COD_DEPA_DANE\")),\n",
    "                       \"type\":\"DANE\"}, #https://www.fopep.gov.co/wp-content/uploads/2019/02/Tabla-C%C3%B3digos-Dane.pdf\n",
    "        'country': PS.get(str(\"TXT_NME_PAIS\"))   \n",
    "        }\n",
    "\n",
    "    if DEBUG: print('affiliation group')\n",
    "\n",
    "    if GRU.empty:\n",
    "        branch={}\n",
    "    else:\n",
    "        branch={\n",
    "        \"name\":str(GRU.get(\"NME_GRUPO\")),                                      \n",
    "        \"type\":\"group\",\n",
    "        'external_urls': [{ # → NRO_ID_GRUPO\n",
    "        'source': 'scienti',\n",
    "        'url': f'https://scienti.colciencias.gov.co/gruplac/jsp/visualiza/visualizagr.jsp?nro={GRU.get(\"NRO_ID_GRUPO\")}'\n",
    "                        }],\n",
    "        'external_ids': [{'source': 'gruplac', 'id': str(GRU.get(\"COD_ID_GRUPO\"))}],                                \n",
    "        \"formation_year\":GRU.get(\"ANO_FORMACAO\"),\n",
    "        \"month_formation_year\":GRU.get(\"MES_FORMACAO\"),\n",
    "        #'subjects': [{'source': 'area_ocde','subjects': ['Ciencias Sociales']},\n",
    "        #                                     {'source': 'subarea_ocde', 'subjects': ['Ciencias Políticas']},\n",
    "        #                                     {'source': 'sub_subarea_ocde', 'subjects': ['Ciencias Políticas']},\n",
    "        #                                    ],\n",
    "        \"classifications\":[{\"classification\":str(GRU.get(\"TXT_CLASIF\")),\n",
    "                                                    \"begin_date\":str(GRU.get(\"DTA_CLASIF\")),\n",
    "                                                    \"end_date\":str(GRU.get(\"DTA_FIN_CLASIF\")),\n",
    "                                                    \"source\":\"scienti\"\n",
    "                                                   }],\n",
    "        \"descriptions\":{\n",
    "            'PLAN_TRABAJO': GRU.get(f\"TXT_PLAN_TRABAJO{borrar}\"),\n",
    "            'ESTADO_ARTE': GRU.get(f\"TXT_ESTADO_ARTE{borrar}\"),\n",
    "            'OBJETIVOS': GRU.get(f\"TXT_OBJETIVOS{borrar}\"),\n",
    "            'RETOS': GRU.get(f\"TXT_RETOS{borrar}\"),\n",
    "            'VISION': GRU.get(f\"TXT_VISION{borrar}\"),\n",
    "        },\n",
    "        'programa_minciencias': {'programa':PRG.get(\"NME_PROGRAMA\"),\n",
    "                            'subdirección':PRG.get(\"NME_SUBDIRECCION\")}    \n",
    "        }\n",
    "\n",
    "    if DEBUG: print('áreas ocde')\n",
    "\n",
    "    if not AC.empty:\n",
    "        subjects=[]\n",
    "        stop=0 #Emergency stop\n",
    "        STOP=False\n",
    "        if AC.empty:\n",
    "            STOP=True\n",
    "        while not STOP:\n",
    "            subjects.append({'title':AC.get(\"TXT_NME_AREA\"),\n",
    "                            'level':AC.get(\"NRO_NIVEL\"),\n",
    "                            'source': 'area_ocde'})    \n",
    "\n",
    "            if AC.get('NRO_NIVEL')==0:\n",
    "                STOP=True\n",
    "            else:\n",
    "                AC=ac[ac[\"COD_AREA_CONOCIMIENTO\"]==AC.get(\"COD_AREA_PADRE\")]\n",
    "                AC=iloc_0(AC)\n",
    "\n",
    "            #Emergency stop\n",
    "            stop+=stop\n",
    "            if stop>10:\n",
    "                print(\"EMERGENCY EXIT in Area de Conocimiento\")\n",
    "                break\n",
    "        if branch:\n",
    "            branch['subjects']=subjects\n",
    "\n",
    "    if aff:\n",
    "        aff['branches']=branch\n",
    "        pr['authors'][0]['affiliations']=[aff]\n",
    "    else:\n",
    "        pr['authors'][0]['affiliations']=[]\n",
    "\n",
    "    prs.append(pr)\n",
    "    if i%1000==0:\n",
    "        f=open('products.json','w',encoding='utf8')\n",
    "        json.dump(prs,f,cls=NpEncoder,ensure_ascii=False)\n",
    "        f.close()\n",
    "        \n",
    "f=open('products.json','w',encoding='utf8')\n",
    "json.dump(prs,f,cls=NpEncoder,ensure_ascii=False)\n",
    "f.close() "
   ]
  },
  {
   "cell_type": "code",
   "execution_count": 748,
   "id": "eff7befb-fa5b-4093-ac35-835192317673",
   "metadata": {},
   "outputs": [],
   "source": [
    "        f=open('products.json','w')\n",
    "        json.dump(prs,f,cls=NpEncoder)\n",
    "        f.close()    "
   ]
  },
  {
   "cell_type": "code",
   "execution_count": 765,
   "id": "87f4b929-cba5-40d2-88a1-baf53be38e05",
   "metadata": {},
   "outputs": [],
   "source": [
    "f=open('products.json','r')\n",
    "prs=json.load(f)\n",
    "f.close()"
   ]
  },
  {
   "cell_type": "code",
   "execution_count": 767,
   "id": "fb5d86a0-e1cf-4c9a-9c0c-e37b9ced82db",
   "metadata": {},
   "outputs": [],
   "source": [
    "df=pd.read_json('products.json',orient='records')"
   ]
  },
  {
   "cell_type": "code",
   "execution_count": 693,
   "id": "f0da1f5f-d4cc-4bce-963f-2f2b75ede679",
   "metadata": {},
   "outputs": [],
   "source": [
    "import json"
   ]
  },
  {
   "cell_type": "code",
   "execution_count": 699,
   "id": "e52bb230-5bcb-4904-8c95-3c2e13271372",
   "metadata": {},
   "outputs": [
    {
     "data": {
      "text/plain": [
       "[{'year_published': None,\n",
       "  'month_published': None,\n",
       "  'source_checked': [{'source': 'Scienti',\n",
       "    'COD_RH': '0000003069',\n",
       "    'COD_PRODUCTO': 37}],\n",
       "  'title': 'Blastocystis hominis: del ostracismo a la ilustración',\n",
       "  'abstract': '',\n",
       "  'notes': 'Blastocystis hominis: del ostracismo a la ilustración. Medellín, Colombia. Mayo de 2008 (Presentación oral). Primer Congreso Colombiano de Microbiología Clínica, Industrial, AmbientalAmbietal',\n",
       "  'lang': 'ES',\n",
       "  'product_subtype': [{'title': 'Completo', 'SGL_CATEGORIA': ''}],\n",
       "  'product_type': [{'title': 'Producción bibliográfica', 'level': 0},\n",
       "   {'title': 'Trabajos en eventos (Capítulos de memoria)', 'level': 1}],\n",
       "  'keywords': [],\n",
       "  'authors': [{'full_name': 'Gisela Maria Garcia Montoya',\n",
       "    'first_names': 'Gisela Maria',\n",
       "    'first_last_name': 'Garcia',\n",
       "    'second_last_name': 'Montoya',\n",
       "    'intials': 'GM',\n",
       "    'aliases': ['GARCIA MONTOYA GISELA MARIA'],\n",
       "    'sex': 'F',\n",
       "    'nacionality': 'C',\n",
       "    'marital_status': 'C',\n",
       "    'date_of_birth': Timestamp('1971-10-12 00:00:00'),\n",
       "    'country_of_birth': 'Colombia',\n",
       "    'town_of_birth': 'MEDELLÍN',\n",
       "    'external_ids': [{'value': '0000003069', 'source': 'cvlac'},\n",
       "     {'value': '0000-0002-2193-1360', 'source': 'orcid'}],\n",
       "    'document': [{'value': '43569845', 'type': 'cédula'}],\n",
       "    'registrant': [{'value': True, 'source': 'scienti'}],\n",
       "    'role': 'author',\n",
       "    'affiliations': []}],\n",
       "  'profile_description': nan,\n",
       "  'application_sector': []}]"
      ]
     },
     "execution_count": 699,
     "metadata": {},
     "output_type": "execute_result"
    }
   ],
   "source": [
    "[pr]"
   ]
  },
  {
   "cell_type": "code",
   "execution_count": 700,
   "id": "0bf1178d-003d-46fb-8fc7-0023716132c6",
   "metadata": {},
   "outputs": [
    {
     "data": {
      "text/plain": [
       "\u001b[0;31mSignature:\u001b[0m\n",
       "\u001b[0mjson\u001b[0m\u001b[0;34m.\u001b[0m\u001b[0mdump\u001b[0m\u001b[0;34m(\u001b[0m\u001b[0;34m\u001b[0m\n",
       "\u001b[0;34m\u001b[0m    \u001b[0mobj\u001b[0m\u001b[0;34m,\u001b[0m\u001b[0;34m\u001b[0m\n",
       "\u001b[0;34m\u001b[0m    \u001b[0mfp\u001b[0m\u001b[0;34m,\u001b[0m\u001b[0;34m\u001b[0m\n",
       "\u001b[0;34m\u001b[0m    \u001b[0;34m*\u001b[0m\u001b[0;34m,\u001b[0m\u001b[0;34m\u001b[0m\n",
       "\u001b[0;34m\u001b[0m    \u001b[0mskipkeys\u001b[0m\u001b[0;34m=\u001b[0m\u001b[0;32mFalse\u001b[0m\u001b[0;34m,\u001b[0m\u001b[0;34m\u001b[0m\n",
       "\u001b[0;34m\u001b[0m    \u001b[0mensure_ascii\u001b[0m\u001b[0;34m=\u001b[0m\u001b[0;32mTrue\u001b[0m\u001b[0;34m,\u001b[0m\u001b[0;34m\u001b[0m\n",
       "\u001b[0;34m\u001b[0m    \u001b[0mcheck_circular\u001b[0m\u001b[0;34m=\u001b[0m\u001b[0;32mTrue\u001b[0m\u001b[0;34m,\u001b[0m\u001b[0;34m\u001b[0m\n",
       "\u001b[0;34m\u001b[0m    \u001b[0mallow_nan\u001b[0m\u001b[0;34m=\u001b[0m\u001b[0;32mTrue\u001b[0m\u001b[0;34m,\u001b[0m\u001b[0;34m\u001b[0m\n",
       "\u001b[0;34m\u001b[0m    \u001b[0mcls\u001b[0m\u001b[0;34m=\u001b[0m\u001b[0;32mNone\u001b[0m\u001b[0;34m,\u001b[0m\u001b[0;34m\u001b[0m\n",
       "\u001b[0;34m\u001b[0m    \u001b[0mindent\u001b[0m\u001b[0;34m=\u001b[0m\u001b[0;32mNone\u001b[0m\u001b[0;34m,\u001b[0m\u001b[0;34m\u001b[0m\n",
       "\u001b[0;34m\u001b[0m    \u001b[0mseparators\u001b[0m\u001b[0;34m=\u001b[0m\u001b[0;32mNone\u001b[0m\u001b[0;34m,\u001b[0m\u001b[0;34m\u001b[0m\n",
       "\u001b[0;34m\u001b[0m    \u001b[0mdefault\u001b[0m\u001b[0;34m=\u001b[0m\u001b[0;32mNone\u001b[0m\u001b[0;34m,\u001b[0m\u001b[0;34m\u001b[0m\n",
       "\u001b[0;34m\u001b[0m    \u001b[0msort_keys\u001b[0m\u001b[0;34m=\u001b[0m\u001b[0;32mFalse\u001b[0m\u001b[0;34m,\u001b[0m\u001b[0;34m\u001b[0m\n",
       "\u001b[0;34m\u001b[0m    \u001b[0;34m**\u001b[0m\u001b[0mkw\u001b[0m\u001b[0;34m,\u001b[0m\u001b[0;34m\u001b[0m\n",
       "\u001b[0;34m\u001b[0m\u001b[0;34m)\u001b[0m\u001b[0;34m\u001b[0m\u001b[0;34m\u001b[0m\u001b[0m\n",
       "\u001b[0;31mDocstring:\u001b[0m\n",
       "Serialize ``obj`` as a JSON formatted stream to ``fp`` (a\n",
       "``.write()``-supporting file-like object).\n",
       "\n",
       "If ``skipkeys`` is true then ``dict`` keys that are not basic types\n",
       "(``str``, ``int``, ``float``, ``bool``, ``None``) will be skipped\n",
       "instead of raising a ``TypeError``.\n",
       "\n",
       "If ``ensure_ascii`` is false, then the strings written to ``fp`` can\n",
       "contain non-ASCII characters if they appear in strings contained in\n",
       "``obj``. Otherwise, all such characters are escaped in JSON strings.\n",
       "\n",
       "If ``check_circular`` is false, then the circular reference check\n",
       "for container types will be skipped and a circular reference will\n",
       "result in an ``OverflowError`` (or worse).\n",
       "\n",
       "If ``allow_nan`` is false, then it will be a ``ValueError`` to\n",
       "serialize out of range ``float`` values (``nan``, ``inf``, ``-inf``)\n",
       "in strict compliance of the JSON specification, instead of using the\n",
       "JavaScript equivalents (``NaN``, ``Infinity``, ``-Infinity``).\n",
       "\n",
       "If ``indent`` is a non-negative integer, then JSON array elements and\n",
       "object members will be pretty-printed with that indent level. An indent\n",
       "level of 0 will only insert newlines. ``None`` is the most compact\n",
       "representation.\n",
       "\n",
       "If specified, ``separators`` should be an ``(item_separator, key_separator)``\n",
       "tuple.  The default is ``(', ', ': ')`` if *indent* is ``None`` and\n",
       "``(',', ': ')`` otherwise.  To get the most compact JSON representation,\n",
       "you should specify ``(',', ':')`` to eliminate whitespace.\n",
       "\n",
       "``default(obj)`` is a function that should return a serializable version\n",
       "of obj or raise TypeError. The default simply raises TypeError.\n",
       "\n",
       "If *sort_keys* is true (default: ``False``), then the output of\n",
       "dictionaries will be sorted by key.\n",
       "\n",
       "To use a custom ``JSONEncoder`` subclass (e.g. one that overrides the\n",
       "``.default()`` method to serialize additional types), specify it with\n",
       "the ``cls`` kwarg; otherwise ``JSONEncoder`` is used.\n",
       "\u001b[0;31mFile:\u001b[0m      /usr/lib/python3.9/json/__init__.py\n",
       "\u001b[0;31mType:\u001b[0m      function\n"
      ]
     },
     "metadata": {},
     "output_type": "display_data"
    }
   ],
   "source": [
    "json.dump?"
   ]
  },
  {
   "cell_type": "code",
   "execution_count": 709,
   "id": "5cdf2afc-4de8-44d0-ad51-c4c4ceefd638",
   "metadata": {},
   "outputs": [],
   "source": []
  },
  {
   "cell_type": "code",
   "execution_count": 710,
   "id": "41584d28-b5bc-4fd7-8b18-70fefd7c1c89",
   "metadata": {},
   "outputs": [],
   "source": []
  },
  {
   "cell_type": "code",
   "execution_count": 666,
   "id": "28b4abc1-fcb9-4e94-b8bf-470c7a2584b5",
   "metadata": {},
   "outputs": [],
   "source": [
    "subjects=[]\n",
    "stop=0 #Emergency stop\n",
    "STOP=False\n",
    "\n",
    "while not STOP:\n",
    "    subjects.append({'title':AC.get(\"TXT_NME_AREA\"),\n",
    "                    'level':AC.get(\"NRO_NIVEL\"),\n",
    "                    'source': 'area_ocde'})    \n",
    "    \n",
    "    if AC.get('NRO_NIVEL')==0:\n",
    "        STOP=True\n",
    "    else:\n",
    "        AC=ac[ac[\"COD_AREA_CONOCIMIENTO\"]==AC.get(\"COD_AREA_PADRE\")]\n",
    "        AC=iloc_0(AC)\n",
    "        \n",
    "    #Emergency stop\n",
    "    stop+=stop\n",
    "    if stop>10:\n",
    "        print(\"EMERGENCY EXIT in Area de Conocimiento\")\n",
    "        break"
   ]
  },
  {
   "cell_type": "code",
   "execution_count": null,
   "id": "56717cf5-5784-4d2b-8ca3-c92d1af62e79",
   "metadata": {},
   "outputs": [],
   "source": []
  }
 ],
 "metadata": {
  "kernelspec": {
   "display_name": "Python 3 (ipykernel)",
   "language": "python",
   "name": "python3"
  },
  "language_info": {
   "codemirror_mode": {
    "name": "ipython",
    "version": 3
   },
   "file_extension": ".py",
   "mimetype": "text/x-python",
   "name": "python",
   "nbconvert_exporter": "python",
   "pygments_lexer": "ipython3",
   "version": "3.9.2"
  }
 },
 "nbformat": 4,
 "nbformat_minor": 5
}
